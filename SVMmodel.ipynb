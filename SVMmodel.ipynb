{
 "cells": [
  {
   "cell_type": "code",
   "execution_count": 1,
   "metadata": {},
   "outputs": [],
   "source": [
    "import os\n",
    "import cv2\n",
    "import numpy as np\n",
    "from skimage.feature import hog\n",
    "from sklearn.model_selection import train_test_split\n",
    "from sklearn.svm import SVC\n",
    "from sklearn.metrics import accuracy_score\n",
    "from preprocess import *\n",
    "%matplotlib inline\n",
    "%load_ext autoreload\n",
    "%autoreload 2"
   ]
  },
  {
   "cell_type": "code",
   "execution_count": 5,
   "metadata": {},
   "outputs": [],
   "source": [
    "def extract_hog_features(image):\n",
    "    # Convert image to grayscale\n",
    "    image = cv2.cvtColor(image, cv2.COLOR_BGR2GRAY)\n",
    "    # Compute HOG features\n",
    "    features = hog(image, orientations=9, pixels_per_cell=(8, 8), cells_per_block=(2, 2))\n",
    "    return features"
   ]
  },
  {
   "cell_type": "code",
   "execution_count": 6,
   "metadata": {},
   "outputs": [
    {
     "name": "stdout",
     "output_type": "stream",
     "text": [
      "Processing font type  IBM Plex Sans Arabic\n"
     ]
    },
    {
     "name": "stderr",
     "output_type": "stream",
     "text": [
      "  0%|          | 1/1000 [00:00<01:52,  8.89it/s]"
     ]
    },
    {
     "name": "stdout",
     "output_type": "stream",
     "text": [
      "Processing img  0.jpeg\n",
      "HoG shape is  (133956,)\n",
      "Processing img  1.jpeg\n",
      "HoG shape is  (133956,)\n",
      "Processing img  10.jpeg\n"
     ]
    },
    {
     "name": "stderr",
     "output_type": "stream",
     "text": [
      "  0%|          | 5/1000 [00:00<01:31, 10.86it/s]"
     ]
    },
    {
     "name": "stdout",
     "output_type": "stream",
     "text": [
      "HoG shape is  (133956,)\n",
      "Processing img  100.jpeg\n",
      "HoG shape is  (133956,)\n",
      "Processing img  101.jpeg\n",
      "HoG shape is  (133956,)\n",
      "Processing img  102.jpeg\n"
     ]
    },
    {
     "name": "stderr",
     "output_type": "stream",
     "text": [
      "  1%|          | 7/1000 [00:00<01:28, 11.25it/s]"
     ]
    },
    {
     "name": "stdout",
     "output_type": "stream",
     "text": [
      "HoG shape is  (133956,)\n",
      "Processing img  103.jpeg\n",
      "HoG shape is  (133956,)\n",
      "Processing img  104.jpeg\n",
      "HoG shape is  (133956,)\n",
      "Processing img  105.jpeg\n"
     ]
    },
    {
     "name": "stderr",
     "output_type": "stream",
     "text": [
      "  1%|          | 11/1000 [00:00<01:27, 11.30it/s]"
     ]
    },
    {
     "name": "stdout",
     "output_type": "stream",
     "text": [
      "HoG shape is  (133956,)\n",
      "Processing img  106.jpeg\n",
      "HoG shape is  (133956,)\n",
      "Processing img  107.jpeg\n",
      "HoG shape is  (133956,)\n",
      "Processing img  108.jpeg\n",
      "HoG shape is  (133956,)\n",
      "Processing img  109.jpeg\n"
     ]
    },
    {
     "name": "stderr",
     "output_type": "stream",
     "text": [
      "  1%|▏         | 13/1000 [00:01<01:48,  9.14it/s]"
     ]
    },
    {
     "name": "stdout",
     "output_type": "stream",
     "text": [
      "HoG shape is  (133956,)\n",
      "Processing img  11.jpeg\n",
      "HoG shape is  (133956,)\n",
      "Processing img  110.jpeg\n",
      "HoG shape is  (133956,)\n"
     ]
    },
    {
     "name": "stderr",
     "output_type": "stream",
     "text": [
      "  2%|▏         | 17/1000 [00:01<01:42,  9.57it/s]"
     ]
    },
    {
     "name": "stdout",
     "output_type": "stream",
     "text": [
      "Processing img  111.jpeg\n",
      "HoG shape is  (133956,)\n",
      "Processing img  112.jpeg\n",
      "HoG shape is  (133956,)\n"
     ]
    },
    {
     "name": "stderr",
     "output_type": "stream",
     "text": [
      "  2%|▏         | 18/1000 [00:01<01:43,  9.50it/s]"
     ]
    },
    {
     "name": "stdout",
     "output_type": "stream",
     "text": [
      "Processing img  113.jpeg\n",
      "HoG shape is  (133956,)\n",
      "Processing img  114.jpeg\n",
      "HoG shape is  (133956,)\n",
      "Processing img  115.jpeg\n"
     ]
    },
    {
     "name": "stderr",
     "output_type": "stream",
     "text": [
      "  2%|▏         | 20/1000 [00:02<01:41,  9.66it/s]"
     ]
    },
    {
     "name": "stdout",
     "output_type": "stream",
     "text": [
      "HoG shape is  (133956,)\n",
      "Processing img  116.jpeg\n",
      "HoG shape is  (133956,)\n",
      "Processing img  117.jpeg\n",
      "HoG shape is  (133956,)\n"
     ]
    },
    {
     "name": "stderr",
     "output_type": "stream",
     "text": [
      "  2%|▏         | 22/1000 [00:02<01:35, 10.21it/s]"
     ]
    },
    {
     "name": "stdout",
     "output_type": "stream",
     "text": [
      "Processing img  118.jpeg\n",
      "HoG shape is  (133956,)\n",
      "Processing img  119.jpeg\n"
     ]
    },
    {
     "name": "stderr",
     "output_type": "stream",
     "text": [
      "  3%|▎         | 26/1000 [00:02<01:38,  9.88it/s]"
     ]
    },
    {
     "name": "stdout",
     "output_type": "stream",
     "text": [
      "HoG shape is  (133956,)\n",
      "Processing img  12.jpeg\n",
      "HoG shape is  (133956,)\n",
      "Processing img  120.jpeg\n",
      "HoG shape is  (133956,)\n",
      "Processing img  121.jpeg\n"
     ]
    },
    {
     "name": "stderr",
     "output_type": "stream",
     "text": [
      "  3%|▎         | 28/1000 [00:02<01:35, 10.22it/s]"
     ]
    },
    {
     "name": "stdout",
     "output_type": "stream",
     "text": [
      "HoG shape is  (133956,)\n",
      "Processing img  122.jpeg\n",
      "HoG shape is  (133956,)\n",
      "Processing img  123.jpeg\n",
      "HoG shape is  (133956,)\n",
      "Processing img  124.jpeg\n"
     ]
    },
    {
     "name": "stderr",
     "output_type": "stream",
     "text": [
      "  3%|▎         | 30/1000 [00:02<01:32, 10.53it/s]"
     ]
    },
    {
     "name": "stdout",
     "output_type": "stream",
     "text": [
      "HoG shape is  (133956,)\n",
      "Processing img  125.jpeg\n",
      "HoG shape is  (133956,)\n",
      "Processing img  126.jpeg\n"
     ]
    },
    {
     "name": "stderr",
     "output_type": "stream",
     "text": [
      "  3%|▎         | 33/1000 [00:03<01:49,  8.82it/s]"
     ]
    },
    {
     "name": "stdout",
     "output_type": "stream",
     "text": [
      "HoG shape is  (133956,)\n",
      "Processing img  127.jpeg\n",
      "HoG shape is  (133956,)\n",
      "Processing img  128.jpeg\n",
      "HoG shape is  (133956,)\n"
     ]
    },
    {
     "name": "stderr",
     "output_type": "stream",
     "text": [
      "  4%|▎         | 35/1000 [00:03<01:55,  8.35it/s]"
     ]
    },
    {
     "name": "stdout",
     "output_type": "stream",
     "text": [
      "Processing img  129.jpeg\n",
      "HoG shape is  (133956,)\n",
      "Processing img  13.jpeg\n"
     ]
    },
    {
     "name": "stderr",
     "output_type": "stream",
     "text": [
      "  4%|▎         | 37/1000 [00:03<01:50,  8.73it/s]"
     ]
    },
    {
     "name": "stdout",
     "output_type": "stream",
     "text": [
      "HoG shape is  (133956,)\n",
      "Processing img  130.jpeg\n",
      "HoG shape is  (133956,)\n",
      "Processing img  131.jpeg\n",
      "HoG shape is  (133956,)\n",
      "Processing img  132.jpeg\n"
     ]
    },
    {
     "name": "stderr",
     "output_type": "stream",
     "text": [
      "  4%|▍         | 41/1000 [00:04<01:34, 10.18it/s]"
     ]
    },
    {
     "name": "stdout",
     "output_type": "stream",
     "text": [
      "HoG shape is  (133956,)\n",
      "Processing img  133.jpeg\n",
      "HoG shape is  (133956,)\n",
      "Processing img  134.jpeg\n",
      "HoG shape is  (133956,)\n",
      "Processing img  135.jpeg\n"
     ]
    },
    {
     "name": "stderr",
     "output_type": "stream",
     "text": [
      "  4%|▍         | 43/1000 [00:04<01:47,  8.93it/s]"
     ]
    },
    {
     "name": "stdout",
     "output_type": "stream",
     "text": [
      "HoG shape is  (133956,)\n",
      "Processing img  136.jpeg\n",
      "HoG shape is  (133956,)\n",
      "Processing img  137.jpeg\n"
     ]
    },
    {
     "name": "stderr",
     "output_type": "stream",
     "text": [
      "  4%|▍         | 44/1000 [00:04<02:05,  7.63it/s]"
     ]
    },
    {
     "name": "stdout",
     "output_type": "stream",
     "text": [
      "HoG shape is  (133956,)\n",
      "Processing img  138.jpeg\n",
      "HoG shape is  (133956,)\n",
      "Processing img  139.jpeg\n",
      "HoG shape is  (133956,)\n"
     ]
    },
    {
     "name": "stderr",
     "output_type": "stream",
     "text": [
      "  5%|▍         | 47/1000 [00:05<01:50,  8.61it/s]"
     ]
    },
    {
     "name": "stdout",
     "output_type": "stream",
     "text": [
      "Processing img  14.jpeg\n",
      "HoG shape is  (133956,)\n",
      "Processing img  140.jpeg\n",
      "HoG shape is  (133956,)\n",
      "Processing img  141.jpeg\n"
     ]
    },
    {
     "name": "stderr",
     "output_type": "stream",
     "text": [
      "  5%|▍         | 49/1000 [00:05<01:41,  9.41it/s]"
     ]
    },
    {
     "name": "stdout",
     "output_type": "stream",
     "text": [
      "HoG shape is  (133956,)\n",
      "Processing img  142.jpeg\n",
      "HoG shape is  (133956,)\n"
     ]
    },
    {
     "name": "stderr",
     "output_type": "stream",
     "text": [
      "  5%|▌         | 51/1000 [00:05<01:56,  8.15it/s]"
     ]
    },
    {
     "name": "stdout",
     "output_type": "stream",
     "text": [
      "Processing img  143.jpeg\n",
      "HoG shape is  (133956,)\n",
      "Processing img  144.jpeg\n",
      "HoG shape is  (133956,)\n",
      "Processing img  145.jpeg\n"
     ]
    },
    {
     "name": "stderr",
     "output_type": "stream",
     "text": [
      "  5%|▌         | 53/1000 [00:05<01:50,  8.56it/s]"
     ]
    },
    {
     "name": "stdout",
     "output_type": "stream",
     "text": [
      "HoG shape is  (133956,)\n",
      "Processing img  146.jpeg\n",
      "HoG shape is  (133956,)\n",
      "Processing img  147.jpeg\n",
      "HoG shape is  (133956,)\n"
     ]
    },
    {
     "name": "stderr",
     "output_type": "stream",
     "text": [
      "  6%|▌         | 57/1000 [00:06<01:34, 10.00it/s]"
     ]
    },
    {
     "name": "stdout",
     "output_type": "stream",
     "text": [
      "Processing img  148.jpeg\n",
      "HoG shape is  (133956,)\n",
      "Processing img  149.jpeg\n",
      "HoG shape is  (133956,)\n",
      "Processing img  15.jpeg\n"
     ]
    },
    {
     "name": "stderr",
     "output_type": "stream",
     "text": [
      "  6%|▌         | 59/1000 [00:06<01:31, 10.32it/s]"
     ]
    },
    {
     "name": "stdout",
     "output_type": "stream",
     "text": [
      "HoG shape is  (133956,)\n",
      "Processing img  150.jpeg\n",
      "HoG shape is  (133956,)\n",
      "Processing img  151.jpeg\n",
      "HoG shape is  (133956,)\n",
      "Processing img  152.jpeg\n"
     ]
    },
    {
     "name": "stderr",
     "output_type": "stream",
     "text": [
      "  6%|▌         | 61/1000 [00:06<01:30, 10.40it/s]"
     ]
    },
    {
     "name": "stdout",
     "output_type": "stream",
     "text": [
      "HoG shape is  (133956,)\n",
      "Processing img  153.jpeg\n",
      "HoG shape is  (133956,)\n",
      "Processing img  154.jpeg\n"
     ]
    },
    {
     "name": "stderr",
     "output_type": "stream",
     "text": [
      "  6%|▋         | 63/1000 [00:06<01:40,  9.29it/s]"
     ]
    },
    {
     "name": "stdout",
     "output_type": "stream",
     "text": [
      "HoG shape is  (133956,)\n",
      "Processing img  155.jpeg\n",
      "HoG shape is  (133956,)\n",
      "Processing img  156.jpeg\n",
      "HoG shape is  (133956,)\n"
     ]
    },
    {
     "name": "stderr",
     "output_type": "stream",
     "text": [
      "  6%|▋         | 65/1000 [00:06<01:34,  9.87it/s]"
     ]
    },
    {
     "name": "stdout",
     "output_type": "stream",
     "text": [
      "Processing img  157.jpeg\n",
      "HoG shape is  (133956,)\n",
      "Processing img  158.jpeg\n"
     ]
    },
    {
     "name": "stderr",
     "output_type": "stream",
     "text": [
      "  7%|▋         | 68/1000 [00:07<01:45,  8.86it/s]"
     ]
    },
    {
     "name": "stdout",
     "output_type": "stream",
     "text": [
      "HoG shape is  (133956,)\n",
      "Processing img  159.jpeg\n",
      "HoG shape is  (133956,)\n",
      "Processing img  16.jpeg\n",
      "HoG shape is  (133956,)\n",
      "Processing img  160.jpeg\n"
     ]
    },
    {
     "name": "stderr",
     "output_type": "stream",
     "text": [
      "  7%|▋         | 71/1000 [00:07<01:36,  9.59it/s]"
     ]
    },
    {
     "name": "stdout",
     "output_type": "stream",
     "text": [
      "HoG shape is  (133956,)\n",
      "Processing img  161.jpeg\n",
      "HoG shape is  (133956,)\n",
      "Processing img  162.jpeg\n"
     ]
    },
    {
     "name": "stderr",
     "output_type": "stream",
     "text": [
      "  7%|▋         | 74/1000 [00:07<01:31, 10.08it/s]"
     ]
    },
    {
     "name": "stdout",
     "output_type": "stream",
     "text": [
      "HoG shape is  (133956,)\n",
      "Processing img  163.jpeg\n",
      "HoG shape is  (133956,)\n",
      "Processing img  164.jpeg\n",
      "HoG shape is  (133956,)\n",
      "Processing img  165.jpeg\n"
     ]
    },
    {
     "name": "stderr",
     "output_type": "stream",
     "text": [
      "  8%|▊         | 76/1000 [00:08<01:31, 10.12it/s]"
     ]
    },
    {
     "name": "stdout",
     "output_type": "stream",
     "text": [
      "HoG shape is  (133956,)\n",
      "Processing img  166.jpeg\n",
      "HoG shape is  (133956,)\n",
      "Processing img  167.jpeg\n",
      "HoG shape is  (133956,)\n",
      "Processing img  168.jpeg\n"
     ]
    },
    {
     "name": "stderr",
     "output_type": "stream",
     "text": [
      "  8%|▊         | 80/1000 [00:08<01:29, 10.34it/s]"
     ]
    },
    {
     "name": "stdout",
     "output_type": "stream",
     "text": [
      "HoG shape is  (133956,)\n",
      "Processing img  169.jpeg\n",
      "HoG shape is  (133956,)\n",
      "Processing img  17.jpeg\n",
      "HoG shape is  (133956,)\n"
     ]
    },
    {
     "name": "stderr",
     "output_type": "stream",
     "text": [
      "  8%|▊         | 82/1000 [00:08<01:26, 10.59it/s]"
     ]
    },
    {
     "name": "stdout",
     "output_type": "stream",
     "text": [
      "Processing img  170.jpeg\n",
      "HoG shape is  (133956,)\n",
      "Processing img  171.jpeg\n",
      "HoG shape is  (133956,)\n",
      "Processing img  172.jpeg\n",
      "HoG shape is  (133956,)\n",
      "Processing img  173.jpeg\n"
     ]
    },
    {
     "name": "stderr",
     "output_type": "stream",
     "text": [
      "  9%|▊         | 86/1000 [00:09<01:39,  9.19it/s]"
     ]
    },
    {
     "name": "stdout",
     "output_type": "stream",
     "text": [
      "HoG shape is  (133956,)\n",
      "Processing img  174.jpeg\n",
      "HoG shape is  (133956,)\n",
      "Processing img  175.jpeg\n",
      "HoG shape is  (133956,)\n"
     ]
    },
    {
     "name": "stderr",
     "output_type": "stream",
     "text": [
      "  9%|▉         | 88/1000 [00:09<01:34,  9.64it/s]"
     ]
    },
    {
     "name": "stdout",
     "output_type": "stream",
     "text": [
      "Processing img  176.jpeg\n",
      "HoG shape is  (133956,)\n",
      "Processing img  177.jpeg\n",
      "HoG shape is  (133956,)\n",
      "Processing img  178.jpeg\n"
     ]
    },
    {
     "name": "stderr",
     "output_type": "stream",
     "text": [
      "  9%|▉         | 90/1000 [00:09<01:31,  9.95it/s]"
     ]
    },
    {
     "name": "stdout",
     "output_type": "stream",
     "text": [
      "HoG shape is  (133956,)\n",
      "Processing img  179.jpeg\n",
      "HoG shape is  (133956,)\n",
      "Processing img  18.jpeg\n",
      "HoG shape is  (133956,)\n",
      "Processing img  180.jpeg\n"
     ]
    },
    {
     "name": "stderr",
     "output_type": "stream",
     "text": [
      "  9%|▉         | 94/1000 [00:09<01:23, 10.79it/s]"
     ]
    },
    {
     "name": "stdout",
     "output_type": "stream",
     "text": [
      "HoG shape is  (133956,)\n",
      "Processing img  181.jpeg\n",
      "HoG shape is  (133956,)\n",
      "Processing img  182.jpeg\n",
      "HoG shape is  (133956,)\n",
      "Processing img  183.jpeg\n"
     ]
    },
    {
     "name": "stderr",
     "output_type": "stream",
     "text": [
      " 10%|▉         | 96/1000 [00:09<01:21, 11.06it/s]"
     ]
    },
    {
     "name": "stdout",
     "output_type": "stream",
     "text": [
      "HoG shape is  (133956,)\n",
      "Processing img  184.jpeg\n",
      "HoG shape is  (133956,)\n",
      "Processing img  185.jpeg\n",
      "HoG shape is  (133956,)\n",
      "Processing img  186.jpeg\n"
     ]
    },
    {
     "name": "stderr",
     "output_type": "stream",
     "text": [
      " 10%|█         | 100/1000 [00:10<01:20, 11.18it/s]"
     ]
    },
    {
     "name": "stdout",
     "output_type": "stream",
     "text": [
      "HoG shape is  (133956,)\n",
      "Processing img  187.jpeg\n",
      "HoG shape is  (133956,)\n",
      "Processing img  188.jpeg\n",
      "HoG shape is  (133956,)\n",
      "Processing img  189.jpeg\n"
     ]
    },
    {
     "name": "stderr",
     "output_type": "stream",
     "text": [
      " 10%|█         | 102/1000 [00:10<01:22, 10.89it/s]"
     ]
    },
    {
     "name": "stdout",
     "output_type": "stream",
     "text": [
      "HoG shape is  (133956,)\n",
      "Processing img  19.jpeg\n",
      "HoG shape is  (133956,)\n",
      "Processing img  190.jpeg\n"
     ]
    },
    {
     "name": "stderr",
     "output_type": "stream",
     "text": [
      " 10%|█         | 104/1000 [00:10<01:39,  8.97it/s]"
     ]
    },
    {
     "name": "stdout",
     "output_type": "stream",
     "text": [
      "HoG shape is  (133956,)\n",
      "Processing img  191.jpeg\n",
      "HoG shape is  (133956,)\n",
      "Processing img  192.jpeg\n"
     ]
    },
    {
     "name": "stderr",
     "output_type": "stream",
     "text": [
      " 11%|█         | 106/1000 [00:11<01:33,  9.59it/s]"
     ]
    },
    {
     "name": "stdout",
     "output_type": "stream",
     "text": [
      "HoG shape is  (133956,)\n",
      "Processing img  193.jpeg\n",
      "HoG shape is  (133956,)\n",
      "Processing img  194.jpeg\n"
     ]
    },
    {
     "name": "stderr",
     "output_type": "stream",
     "text": [
      " 11%|█         | 108/1000 [00:11<01:41,  8.75it/s]"
     ]
    },
    {
     "name": "stdout",
     "output_type": "stream",
     "text": [
      "HoG shape is  (133956,)\n",
      "Processing img  195.jpeg\n",
      "HoG shape is  (133956,)\n",
      "Processing img  196.jpeg\n",
      "HoG shape is  (133956,)\n",
      "Processing img  197.jpeg\n"
     ]
    },
    {
     "name": "stderr",
     "output_type": "stream",
     "text": [
      " 11%|█         | 112/1000 [00:11<01:30,  9.82it/s]"
     ]
    },
    {
     "name": "stdout",
     "output_type": "stream",
     "text": [
      "HoG shape is  (133956,)\n",
      "Processing img  198.jpeg\n",
      "HoG shape is  (133956,)\n",
      "Processing img  199.jpeg\n",
      "HoG shape is  (133956,)\n",
      "Processing img  2.jpeg\n"
     ]
    },
    {
     "name": "stderr",
     "output_type": "stream",
     "text": [
      " 11%|█▏        | 114/1000 [00:11<01:26, 10.23it/s]"
     ]
    },
    {
     "name": "stdout",
     "output_type": "stream",
     "text": [
      "HoG shape is  (133956,)\n",
      "Processing img  20.jpeg\n",
      "HoG shape is  (133956,)\n",
      "Processing img  200.jpeg\n",
      "HoG shape is  (133956,)\n",
      "Processing img  201.jpeg\n"
     ]
    },
    {
     "name": "stderr",
     "output_type": "stream",
     "text": [
      " 12%|█▏        | 118/1000 [00:12<01:22, 10.63it/s]"
     ]
    },
    {
     "name": "stdout",
     "output_type": "stream",
     "text": [
      "HoG shape is  (133956,)\n",
      "Processing img  202.jpeg\n",
      "HoG shape is  (133956,)\n",
      "Processing img  203.jpeg\n",
      "HoG shape is  (133956,)\n",
      "Processing img  204.jpeg\n"
     ]
    },
    {
     "name": "stderr",
     "output_type": "stream",
     "text": [
      " 12%|█▏        | 120/1000 [00:12<01:23, 10.60it/s]"
     ]
    },
    {
     "name": "stdout",
     "output_type": "stream",
     "text": [
      "HoG shape is  (133956,)\n",
      "Processing img  205.jpeg\n",
      "HoG shape is  (133956,)\n",
      "Processing img  206.jpeg\n"
     ]
    },
    {
     "name": "stderr",
     "output_type": "stream",
     "text": [
      " 12%|█▏        | 122/1000 [00:12<01:41,  8.66it/s]"
     ]
    },
    {
     "name": "stdout",
     "output_type": "stream",
     "text": [
      "HoG shape is  (133956,)\n",
      "Processing img  207.jpeg\n",
      "HoG shape is  (133956,)\n",
      "Processing img  208.jpeg\n",
      "HoG shape is  (133956,)\n",
      "Processing img  209.jpeg\n"
     ]
    },
    {
     "name": "stderr",
     "output_type": "stream",
     "text": [
      " 12%|█▏        | 124/1000 [00:12<01:36,  9.10it/s]"
     ]
    },
    {
     "name": "stdout",
     "output_type": "stream",
     "text": [
      "HoG shape is  (133956,)\n",
      "Processing img  21.jpeg\n",
      "HoG shape is  (133956,)\n",
      "Processing img  210.jpeg\n"
     ]
    },
    {
     "name": "stderr",
     "output_type": "stream",
     "text": [
      " 13%|█▎        | 127/1000 [00:13<01:37,  8.98it/s]"
     ]
    },
    {
     "name": "stdout",
     "output_type": "stream",
     "text": [
      "HoG shape is  (133956,)\n",
      "Processing img  211.jpeg\n",
      "HoG shape is  (133956,)\n",
      "Processing img  212.jpeg\n"
     ]
    },
    {
     "name": "stderr",
     "output_type": "stream",
     "text": [
      " 13%|█▎        | 130/1000 [00:13<01:28,  9.79it/s]"
     ]
    },
    {
     "name": "stdout",
     "output_type": "stream",
     "text": [
      "HoG shape is  (133956,)\n",
      "Processing img  213.jpeg\n",
      "HoG shape is  (133956,)\n",
      "Processing img  214.jpeg\n",
      "HoG shape is  (133956,)\n",
      "Processing img  215.jpeg\n",
      "HoG shape is  (133956,)\n",
      "Processing img  216.jpeg\n"
     ]
    },
    {
     "name": "stderr",
     "output_type": "stream",
     "text": [
      " 13%|█▎        | 133/1000 [00:13<01:39,  8.73it/s]"
     ]
    },
    {
     "name": "stdout",
     "output_type": "stream",
     "text": [
      "HoG shape is  (133956,)\n",
      "Processing img  217.jpeg\n",
      "HoG shape is  (133956,)\n",
      "Processing img  218.jpeg\n"
     ]
    },
    {
     "name": "stderr",
     "output_type": "stream",
     "text": [
      " 14%|█▎        | 135/1000 [00:14<01:59,  7.22it/s]"
     ]
    },
    {
     "name": "stdout",
     "output_type": "stream",
     "text": [
      "HoG shape is  (133956,)\n",
      "Processing img  219.jpeg\n",
      "HoG shape is  (133956,)\n"
     ]
    },
    {
     "name": "stderr",
     "output_type": "stream",
     "text": [
      " 14%|█▎        | 136/1000 [00:14<01:52,  7.65it/s]"
     ]
    },
    {
     "name": "stdout",
     "output_type": "stream",
     "text": [
      "Processing img  22.jpeg\n",
      "HoG shape is  (133956,)\n",
      "Processing img  220.jpeg\n",
      "HoG shape is  (133956,)\n",
      "Processing img  221.jpeg\n"
     ]
    },
    {
     "name": "stderr",
     "output_type": "stream",
     "text": [
      " 14%|█▍        | 140/1000 [00:14<01:32,  9.35it/s]"
     ]
    },
    {
     "name": "stdout",
     "output_type": "stream",
     "text": [
      "HoG shape is  (133956,)\n",
      "Processing img  222.jpeg\n",
      "HoG shape is  (133956,)\n",
      "Processing img  223.jpeg\n",
      "HoG shape is  (133956,)\n",
      "Processing img  224.jpeg\n"
     ]
    },
    {
     "name": "stderr",
     "output_type": "stream",
     "text": [
      " 14%|█▍        | 143/1000 [00:15<01:25,  9.97it/s]"
     ]
    },
    {
     "name": "stdout",
     "output_type": "stream",
     "text": [
      "HoG shape is  (133956,)\n",
      "Processing img  225.jpeg\n",
      "HoG shape is  (133956,)\n",
      "Processing img  226.jpeg\n",
      "HoG shape is  (133956,)\n"
     ]
    },
    {
     "name": "stderr",
     "output_type": "stream",
     "text": [
      " 14%|█▍        | 144/1000 [00:15<01:40,  8.49it/s]"
     ]
    },
    {
     "name": "stdout",
     "output_type": "stream",
     "text": [
      "Processing img  227.jpeg\n",
      "HoG shape is  (133956,)\n",
      "Processing img  228.jpeg\n"
     ]
    },
    {
     "name": "stderr",
     "output_type": "stream",
     "text": [
      " 15%|█▍        | 146/1000 [00:15<02:07,  6.70it/s]"
     ]
    },
    {
     "name": "stdout",
     "output_type": "stream",
     "text": [
      "HoG shape is  (133956,)\n",
      "Processing img  229.jpeg\n",
      "HoG shape is  (133956,)\n",
      "Processing img  23.jpeg\n",
      "HoG shape is  (133956,)\n",
      "Processing img  230.jpeg\n"
     ]
    },
    {
     "name": "stderr",
     "output_type": "stream",
     "text": [
      " 15%|█▌        | 150/1000 [00:15<01:32,  9.22it/s]"
     ]
    },
    {
     "name": "stdout",
     "output_type": "stream",
     "text": [
      "HoG shape is  (133956,)\n",
      "Processing img  231.jpeg\n",
      "HoG shape is  (133956,)\n",
      "Processing img  232.jpeg\n",
      "HoG shape is  (133956,)\n",
      "Processing img  233.jpeg\n"
     ]
    },
    {
     "name": "stderr",
     "output_type": "stream",
     "text": [
      " 15%|█▌        | 152/1000 [00:16<01:26,  9.75it/s]"
     ]
    },
    {
     "name": "stdout",
     "output_type": "stream",
     "text": [
      "HoG shape is  (133956,)\n",
      "Processing img  234.jpeg\n",
      "HoG shape is  (133956,)\n",
      "Processing img  235.jpeg\n",
      "HoG shape is  (133956,)\n",
      "Processing img  236.jpeg\n"
     ]
    },
    {
     "name": "stderr",
     "output_type": "stream",
     "text": [
      " 15%|█▌        | 154/1000 [00:16<01:26,  9.77it/s]"
     ]
    },
    {
     "name": "stdout",
     "output_type": "stream",
     "text": [
      "HoG shape is  (133956,)\n",
      "Processing img  237.jpeg\n",
      "HoG shape is  (133956,)\n",
      "Processing img  238.jpeg\n",
      "HoG shape is  (133956,)\n"
     ]
    },
    {
     "name": "stderr",
     "output_type": "stream",
     "text": [
      " 16%|█▌        | 157/1000 [00:16<01:45,  8.02it/s]"
     ]
    },
    {
     "name": "stdout",
     "output_type": "stream",
     "text": [
      "Processing img  239.jpeg\n",
      "HoG shape is  (133956,)\n"
     ]
    },
    {
     "name": "stderr",
     "output_type": "stream",
     "text": [
      " 16%|█▌        | 159/1000 [00:16<01:33,  9.03it/s]"
     ]
    },
    {
     "name": "stdout",
     "output_type": "stream",
     "text": [
      "Processing img  24.jpeg\n",
      "HoG shape is  (133956,)\n",
      "Processing img  240.jpeg\n",
      "HoG shape is  (133956,)\n",
      "Processing img  241.jpeg\n"
     ]
    },
    {
     "name": "stderr",
     "output_type": "stream",
     "text": [
      " 16%|█▌        | 160/1000 [00:17<01:31,  9.13it/s]"
     ]
    },
    {
     "name": "stdout",
     "output_type": "stream",
     "text": [
      "HoG shape is  (133956,)\n",
      "Processing img  242.jpeg\n",
      "HoG shape is  (133956,)\n",
      "Processing img  243.jpeg\n",
      "HoG shape is  (133956,)\n"
     ]
    },
    {
     "name": "stderr",
     "output_type": "stream",
     "text": [
      " 16%|█▋        | 164/1000 [00:17<01:24,  9.92it/s]"
     ]
    },
    {
     "name": "stdout",
     "output_type": "stream",
     "text": [
      "Processing img  244.jpeg\n",
      "HoG shape is  (133956,)\n",
      "Processing img  245.jpeg\n",
      "HoG shape is  (133956,)\n",
      "Processing img  246.jpeg\n"
     ]
    },
    {
     "name": "stderr",
     "output_type": "stream",
     "text": [
      " 17%|█▋        | 166/1000 [00:18<02:47,  4.98it/s]"
     ]
    },
    {
     "name": "stdout",
     "output_type": "stream",
     "text": [
      "HoG shape is  (133956,)\n",
      "Processing img  247.jpeg\n",
      "HoG shape is  (133956,)\n",
      "Processing img  248.jpeg\n",
      "HoG shape is  (133956,)\n",
      "Processing img  249.jpeg\n"
     ]
    },
    {
     "name": "stderr",
     "output_type": "stream",
     "text": [
      " 17%|█▋        | 170/1000 [00:18<01:55,  7.17it/s]"
     ]
    },
    {
     "name": "stdout",
     "output_type": "stream",
     "text": [
      "HoG shape is  (133956,)\n",
      "Processing img  25.jpeg\n",
      "HoG shape is  (133956,)\n",
      "Processing img  250.jpeg\n",
      "HoG shape is  (133956,)\n",
      "Processing img  251.jpeg\n"
     ]
    },
    {
     "name": "stderr",
     "output_type": "stream",
     "text": [
      " 17%|█▋        | 172/1000 [00:18<01:43,  8.02it/s]"
     ]
    },
    {
     "name": "stdout",
     "output_type": "stream",
     "text": [
      "HoG shape is  (133956,)\n",
      "Processing img  252.jpeg\n",
      "HoG shape is  (133956,)\n",
      "Processing img  253.jpeg\n",
      "HoG shape is  (133956,)\n",
      "Processing img  254.jpeg\n"
     ]
    },
    {
     "name": "stderr",
     "output_type": "stream",
     "text": [
      " 18%|█▊        | 176/1000 [00:19<01:27,  9.44it/s]"
     ]
    },
    {
     "name": "stdout",
     "output_type": "stream",
     "text": [
      "HoG shape is  (133956,)\n",
      "Processing img  255.jpeg\n",
      "HoG shape is  (133956,)\n",
      "Processing img  256.jpeg\n",
      "HoG shape is  (133956,)\n",
      "Processing img  257.jpeg\n",
      "HoG shape is  (133956,)\n",
      "Processing img  258.jpeg\n"
     ]
    },
    {
     "name": "stderr",
     "output_type": "stream",
     "text": [
      " 18%|█▊        | 179/1000 [00:19<01:33,  8.74it/s]"
     ]
    },
    {
     "name": "stdout",
     "output_type": "stream",
     "text": [
      "HoG shape is  (133956,)\n",
      "Processing img  259.jpeg\n",
      "HoG shape is  (133956,)\n",
      "Processing img  26.jpeg\n",
      "HoG shape is  (133956,)\n",
      "Processing img  260.jpeg\n"
     ]
    },
    {
     "name": "stderr",
     "output_type": "stream",
     "text": [
      " 18%|█▊        | 183/1000 [00:19<01:22,  9.88it/s]"
     ]
    },
    {
     "name": "stdout",
     "output_type": "stream",
     "text": [
      "HoG shape is  (133956,)\n",
      "Processing img  261.jpeg\n",
      "HoG shape is  (133956,)\n",
      "Processing img  262.jpeg\n",
      "HoG shape is  (133956,)\n"
     ]
    },
    {
     "name": "stderr",
     "output_type": "stream",
     "text": [
      " 18%|█▊        | 185/1000 [00:20<01:18, 10.37it/s]"
     ]
    },
    {
     "name": "stdout",
     "output_type": "stream",
     "text": [
      "Processing img  263.jpeg\n",
      "HoG shape is  (133956,)\n",
      "Processing img  264.jpeg\n",
      "HoG shape is  (133956,)\n",
      "Processing img  265.jpeg\n"
     ]
    },
    {
     "name": "stderr",
     "output_type": "stream",
     "text": [
      " 19%|█▊        | 187/1000 [00:20<01:16, 10.63it/s]"
     ]
    },
    {
     "name": "stdout",
     "output_type": "stream",
     "text": [
      "HoG shape is  (133956,)\n",
      "Processing img  266.jpeg\n",
      "HoG shape is  (133956,)\n",
      "Processing img  267.jpeg\n",
      "HoG shape is  (133956,)\n",
      "Processing img  268.jpeg\n"
     ]
    },
    {
     "name": "stderr",
     "output_type": "stream",
     "text": [
      " 19%|█▉        | 191/1000 [00:20<01:12, 11.16it/s]"
     ]
    },
    {
     "name": "stdout",
     "output_type": "stream",
     "text": [
      "HoG shape is  (133956,)\n",
      "Processing img  269.jpeg\n",
      "HoG shape is  (133956,)\n",
      "Processing img  27.jpeg\n",
      "HoG shape is  (133956,)\n",
      "Processing img  270.jpeg\n"
     ]
    },
    {
     "name": "stderr",
     "output_type": "stream",
     "text": [
      " 19%|█▉        | 193/1000 [00:20<01:11, 11.35it/s]"
     ]
    },
    {
     "name": "stdout",
     "output_type": "stream",
     "text": [
      "HoG shape is  (133956,)\n",
      "Processing img  271.jpeg\n",
      "HoG shape is  (133956,)\n",
      "Processing img  272.jpeg\n",
      "HoG shape is  (133956,)\n",
      "Processing img  273.jpeg\n"
     ]
    },
    {
     "name": "stderr",
     "output_type": "stream",
     "text": [
      " 20%|█▉        | 197/1000 [00:21<01:09, 11.57it/s]"
     ]
    },
    {
     "name": "stdout",
     "output_type": "stream",
     "text": [
      "HoG shape is  (133956,)\n",
      "Processing img  274.jpeg\n",
      "HoG shape is  (133956,)\n",
      "Processing img  275.jpeg\n",
      "HoG shape is  (133956,)\n",
      "Processing img  276.jpeg\n"
     ]
    },
    {
     "name": "stderr",
     "output_type": "stream",
     "text": [
      " 20%|█▉        | 199/1000 [00:21<01:08, 11.61it/s]"
     ]
    },
    {
     "name": "stdout",
     "output_type": "stream",
     "text": [
      "HoG shape is  (133956,)\n",
      "Processing img  277.jpeg\n",
      "HoG shape is  (133956,)\n",
      "Processing img  278.jpeg\n",
      "HoG shape is  (133956,)\n",
      "Processing img  279.jpeg\n"
     ]
    },
    {
     "name": "stderr",
     "output_type": "stream",
     "text": [
      " 20%|██        | 203/1000 [00:21<01:09, 11.55it/s]"
     ]
    },
    {
     "name": "stdout",
     "output_type": "stream",
     "text": [
      "HoG shape is  (133956,)\n",
      "Processing img  28.jpeg\n",
      "HoG shape is  (133956,)\n",
      "Processing img  280.jpeg\n",
      "HoG shape is  (133956,)\n",
      "Processing img  281.jpeg\n"
     ]
    },
    {
     "name": "stderr",
     "output_type": "stream",
     "text": [
      " 20%|██        | 205/1000 [00:21<01:09, 11.49it/s]"
     ]
    },
    {
     "name": "stdout",
     "output_type": "stream",
     "text": [
      "HoG shape is  (133956,)\n",
      "Processing img  282.jpeg\n",
      "HoG shape is  (133956,)\n",
      "Processing img  283.jpeg\n",
      "HoG shape is  (133956,)\n",
      "Processing img  284.jpeg\n"
     ]
    },
    {
     "name": "stderr",
     "output_type": "stream",
     "text": [
      " 21%|██        | 207/1000 [00:21<01:10, 11.18it/s]"
     ]
    },
    {
     "name": "stdout",
     "output_type": "stream",
     "text": [
      "HoG shape is  (133956,)\n",
      "Processing img  285.jpeg\n",
      "HoG shape is  (133956,)\n",
      "Processing img  286.jpeg\n",
      "HoG shape is  (133956,)\n"
     ]
    },
    {
     "name": "stderr",
     "output_type": "stream",
     "text": [
      " 21%|██        | 211/1000 [00:22<01:13, 10.71it/s]"
     ]
    },
    {
     "name": "stdout",
     "output_type": "stream",
     "text": [
      "Processing img  287.jpeg\n",
      "HoG shape is  (133956,)\n",
      "Processing img  288.jpeg\n",
      "HoG shape is  (133956,)\n"
     ]
    },
    {
     "name": "stderr",
     "output_type": "stream",
     "text": [
      " 21%|██▏       | 213/1000 [00:22<01:12, 10.81it/s]"
     ]
    },
    {
     "name": "stdout",
     "output_type": "stream",
     "text": [
      "Processing img  289.jpeg\n",
      "HoG shape is  (133956,)\n",
      "Processing img  29.jpeg\n",
      "HoG shape is  (133956,)\n",
      "Processing img  290.jpeg\n"
     ]
    },
    {
     "name": "stderr",
     "output_type": "stream",
     "text": [
      " 22%|██▏       | 215/1000 [00:22<01:12, 10.76it/s]"
     ]
    },
    {
     "name": "stdout",
     "output_type": "stream",
     "text": [
      "HoG shape is  (133956,)\n",
      "Processing img  291.jpeg\n",
      "HoG shape is  (133956,)\n",
      "Processing img  292.jpeg\n",
      "HoG shape is  (133956,)\n",
      "Processing img  293.jpeg\n"
     ]
    },
    {
     "name": "stderr",
     "output_type": "stream",
     "text": [
      " 22%|██▏       | 219/1000 [00:23<01:13, 10.67it/s]"
     ]
    },
    {
     "name": "stdout",
     "output_type": "stream",
     "text": [
      "HoG shape is  (133956,)\n",
      "Processing img  294.jpeg\n",
      "HoG shape is  (133956,)\n",
      "Processing img  295.jpeg\n",
      "HoG shape is  (133956,)\n",
      "Processing img  296.jpeg\n"
     ]
    },
    {
     "name": "stderr",
     "output_type": "stream",
     "text": [
      " 22%|██▏       | 221/1000 [00:23<01:31,  8.49it/s]"
     ]
    },
    {
     "name": "stdout",
     "output_type": "stream",
     "text": [
      "HoG shape is  (133956,)\n",
      "Processing img  297.jpeg\n",
      "HoG shape is  (133956,)\n",
      "Processing img  298.jpeg\n"
     ]
    },
    {
     "name": "stderr",
     "output_type": "stream",
     "text": [
      " 22%|██▏       | 223/1000 [00:23<01:27,  8.90it/s]"
     ]
    },
    {
     "name": "stdout",
     "output_type": "stream",
     "text": [
      "HoG shape is  (133956,)\n",
      "Processing img  299.jpeg\n",
      "HoG shape is  (133956,)\n",
      "Processing img  3.jpeg\n"
     ]
    },
    {
     "name": "stderr",
     "output_type": "stream",
     "text": [
      " 22%|██▎       | 225/1000 [00:23<01:24,  9.12it/s]"
     ]
    },
    {
     "name": "stdout",
     "output_type": "stream",
     "text": [
      "HoG shape is  (133956,)\n",
      "Processing img  30.jpeg\n",
      "HoG shape is  (133956,)\n",
      "Processing img  300.jpeg\n",
      "HoG shape is  (133956,)\n"
     ]
    },
    {
     "name": "stderr",
     "output_type": "stream",
     "text": [
      " 23%|██▎       | 227/1000 [00:24<01:24,  9.19it/s]"
     ]
    },
    {
     "name": "stdout",
     "output_type": "stream",
     "text": [
      "Processing img  301.jpeg\n",
      "HoG shape is  (133956,)\n",
      "Processing img  302.jpeg\n"
     ]
    },
    {
     "name": "stderr",
     "output_type": "stream",
     "text": [
      " 23%|██▎       | 229/1000 [00:24<01:22,  9.36it/s]"
     ]
    },
    {
     "name": "stdout",
     "output_type": "stream",
     "text": [
      "HoG shape is  (133956,)\n",
      "Processing img  303.jpeg\n",
      "HoG shape is  (133956,)\n",
      "Processing img  304.jpeg\n"
     ]
    },
    {
     "name": "stderr",
     "output_type": "stream",
     "text": [
      " 23%|██▎       | 231/1000 [00:24<01:18,  9.83it/s]"
     ]
    },
    {
     "name": "stdout",
     "output_type": "stream",
     "text": [
      "HoG shape is  (133956,)\n",
      "Processing img  305.jpeg\n",
      "HoG shape is  (133956,)\n",
      "Processing img  306.jpeg\n",
      "HoG shape is  (133956,)\n",
      "Processing img  307.jpeg\n"
     ]
    },
    {
     "name": "stderr",
     "output_type": "stream",
     "text": [
      " 23%|██▎       | 234/1000 [00:24<01:32,  8.24it/s]"
     ]
    },
    {
     "name": "stdout",
     "output_type": "stream",
     "text": [
      "HoG shape is  (133956,)\n",
      "Processing img  308.jpeg\n",
      "HoG shape is  (133956,)\n",
      "Processing img  309.jpeg\n"
     ]
    },
    {
     "name": "stderr",
     "output_type": "stream",
     "text": [
      " 24%|██▎       | 236/1000 [00:25<01:33,  8.17it/s]"
     ]
    },
    {
     "name": "stdout",
     "output_type": "stream",
     "text": [
      "HoG shape is  (133956,)\n",
      "Processing img  31.jpeg\n",
      "HoG shape is  (133956,)\n",
      "Processing img  310.jpeg\n"
     ]
    },
    {
     "name": "stderr",
     "output_type": "stream",
     "text": [
      " 24%|██▍       | 238/1000 [00:25<01:27,  8.71it/s]"
     ]
    },
    {
     "name": "stdout",
     "output_type": "stream",
     "text": [
      "HoG shape is  (133956,)\n",
      "Processing img  311.jpeg\n",
      "HoG shape is  (133956,)\n",
      "Processing img  312.jpeg\n"
     ]
    },
    {
     "name": "stderr",
     "output_type": "stream",
     "text": [
      " 24%|██▍       | 240/1000 [00:25<01:23,  9.09it/s]"
     ]
    },
    {
     "name": "stdout",
     "output_type": "stream",
     "text": [
      "HoG shape is  (133956,)\n",
      "Processing img  313.jpeg\n",
      "HoG shape is  (133956,)\n",
      "Processing img  314.jpeg\n",
      "HoG shape is  (133956,)\n",
      "Processing img  315.jpeg\n"
     ]
    },
    {
     "name": "stderr",
     "output_type": "stream",
     "text": [
      " 24%|██▍       | 244/1000 [00:25<01:13, 10.23it/s]"
     ]
    },
    {
     "name": "stdout",
     "output_type": "stream",
     "text": [
      "HoG shape is  (133956,)\n",
      "Processing img  316.jpeg\n",
      "HoG shape is  (133956,)\n",
      "Processing img  317.jpeg\n",
      "HoG shape is  (133956,)\n"
     ]
    },
    {
     "name": "stderr",
     "output_type": "stream",
     "text": [
      " 25%|██▍       | 246/1000 [00:26<01:12, 10.46it/s]"
     ]
    },
    {
     "name": "stdout",
     "output_type": "stream",
     "text": [
      "Processing img  318.jpeg\n",
      "HoG shape is  (133956,)\n",
      "Processing img  319.jpeg\n",
      "HoG shape is  (133956,)\n",
      "Processing img  32.jpeg\n",
      "HoG shape is  (133956,)\n",
      "Processing img  320.jpeg\n"
     ]
    },
    {
     "name": "stderr",
     "output_type": "stream",
     "text": [
      " 25%|██▍       | 249/1000 [00:26<01:32,  8.08it/s]"
     ]
    },
    {
     "name": "stdout",
     "output_type": "stream",
     "text": [
      "HoG shape is  (133956,)\n",
      "Processing img  321.jpeg\n",
      "HoG shape is  (133956,)\n",
      "Processing img  322.jpeg\n"
     ]
    },
    {
     "name": "stderr",
     "output_type": "stream",
     "text": [
      " 25%|██▌       | 251/1000 [00:26<01:24,  8.89it/s]"
     ]
    },
    {
     "name": "stdout",
     "output_type": "stream",
     "text": [
      "HoG shape is  (133956,)\n",
      "Processing img  323.jpeg\n",
      "HoG shape is  (133956,)\n",
      "Processing img  324.jpeg\n",
      "HoG shape is  (133956,)\n",
      "Processing img  325.jpeg\n"
     ]
    },
    {
     "name": "stderr",
     "output_type": "stream",
     "text": [
      " 25%|██▌       | 254/1000 [00:27<01:19,  9.39it/s]"
     ]
    },
    {
     "name": "stdout",
     "output_type": "stream",
     "text": [
      "HoG shape is  (133956,)\n",
      "Processing img  326.jpeg\n",
      "HoG shape is  (133956,)\n",
      "Processing img  327.jpeg\n",
      "HoG shape is  (133956,)\n"
     ]
    },
    {
     "name": "stderr",
     "output_type": "stream",
     "text": [
      " 26%|██▌       | 256/1000 [00:27<01:18,  9.48it/s]"
     ]
    },
    {
     "name": "stdout",
     "output_type": "stream",
     "text": [
      "Processing img  328.jpeg\n",
      "HoG shape is  (133956,)\n",
      "Processing img  329.jpeg\n",
      "HoG shape is  (133956,)\n",
      "Processing img  33.jpeg\n"
     ]
    },
    {
     "name": "stderr",
     "output_type": "stream",
     "text": [
      " 26%|██▌       | 258/1000 [00:27<01:14,  9.93it/s]"
     ]
    },
    {
     "name": "stdout",
     "output_type": "stream",
     "text": [
      "HoG shape is  (133956,)\n",
      "Processing img  330.jpeg\n",
      "HoG shape is  (133956,)\n",
      "Processing img  331.jpeg\n"
     ]
    },
    {
     "name": "stderr",
     "output_type": "stream",
     "text": [
      " 26%|██▌       | 261/1000 [00:27<01:24,  8.73it/s]"
     ]
    },
    {
     "name": "stdout",
     "output_type": "stream",
     "text": [
      "HoG shape is  (133956,)\n",
      "Processing img  332.jpeg\n",
      "HoG shape is  (133956,)\n",
      "Processing img  333.jpeg\n"
     ]
    },
    {
     "name": "stderr",
     "output_type": "stream",
     "text": [
      " 26%|██▌       | 262/1000 [00:27<01:23,  8.87it/s]"
     ]
    },
    {
     "name": "stdout",
     "output_type": "stream",
     "text": [
      "HoG shape is  (133956,)\n",
      "Processing img  334.jpeg\n",
      "HoG shape is  (133956,)\n",
      "Processing img  335.jpeg\n",
      "HoG shape is  (133956,)\n"
     ]
    },
    {
     "name": "stderr",
     "output_type": "stream",
     "text": [
      " 27%|██▋       | 266/1000 [00:28<01:13, 10.04it/s]"
     ]
    },
    {
     "name": "stdout",
     "output_type": "stream",
     "text": [
      "Processing img  336.jpeg\n",
      "HoG shape is  (133956,)\n",
      "Processing img  337.jpeg\n",
      "HoG shape is  (133956,)\n"
     ]
    },
    {
     "name": "stderr",
     "output_type": "stream",
     "text": [
      " 27%|██▋       | 268/1000 [00:28<01:11, 10.20it/s]"
     ]
    },
    {
     "name": "stdout",
     "output_type": "stream",
     "text": [
      "Processing img  338.jpeg\n",
      "HoG shape is  (133956,)\n",
      "Processing img  339.jpeg\n",
      "HoG shape is  (133956,)\n"
     ]
    },
    {
     "name": "stderr",
     "output_type": "stream",
     "text": [
      " 27%|██▋       | 270/1000 [00:28<01:10, 10.36it/s]"
     ]
    },
    {
     "name": "stdout",
     "output_type": "stream",
     "text": [
      "Processing img  34.jpeg\n",
      "HoG shape is  (133956,)\n",
      "Processing img  340.jpeg\n",
      "HoG shape is  (133956,)\n"
     ]
    },
    {
     "name": "stderr",
     "output_type": "stream",
     "text": [
      " 27%|██▋       | 272/1000 [00:28<01:08, 10.60it/s]"
     ]
    },
    {
     "name": "stdout",
     "output_type": "stream",
     "text": [
      "Processing img  341.jpeg\n",
      "HoG shape is  (133956,)\n",
      "Processing img  342.jpeg\n",
      "HoG shape is  (133956,)\n",
      "Processing img  343.jpeg\n"
     ]
    },
    {
     "name": "stderr",
     "output_type": "stream",
     "text": [
      " 27%|██▋       | 274/1000 [00:29<01:09, 10.41it/s]"
     ]
    },
    {
     "name": "stdout",
     "output_type": "stream",
     "text": [
      "HoG shape is  (133956,)\n",
      "Processing img  344.jpeg\n",
      "HoG shape is  (133956,)\n",
      "Processing img  345.jpeg\n",
      "HoG shape is  (133956,)\n",
      "Processing img  346.jpeg\n"
     ]
    },
    {
     "name": "stderr",
     "output_type": "stream",
     "text": [
      " 28%|██▊       | 278/1000 [00:29<01:06, 10.79it/s]"
     ]
    },
    {
     "name": "stdout",
     "output_type": "stream",
     "text": [
      "HoG shape is  (133956,)\n",
      "Processing img  347.jpeg\n",
      "HoG shape is  (133956,)\n",
      "Processing img  348.jpeg\n",
      "HoG shape is  (133956,)\n",
      "Processing img  349.jpeg\n"
     ]
    },
    {
     "name": "stderr",
     "output_type": "stream",
     "text": [
      " 28%|██▊       | 280/1000 [00:29<01:07, 10.74it/s]"
     ]
    },
    {
     "name": "stdout",
     "output_type": "stream",
     "text": [
      "HoG shape is  (133956,)\n",
      "Processing img  35.jpeg\n",
      "HoG shape is  (133956,)\n",
      "Processing img  350.jpeg\n",
      "HoG shape is  (133956,)\n",
      "Processing img  351.jpeg\n"
     ]
    },
    {
     "name": "stderr",
     "output_type": "stream",
     "text": [
      " 28%|██▊       | 282/1000 [00:29<01:09, 10.28it/s]"
     ]
    },
    {
     "name": "stdout",
     "output_type": "stream",
     "text": [
      "HoG shape is  (133956,)\n",
      "Processing img  352.jpeg\n",
      "HoG shape is  (133956,)\n",
      "Processing img  353.jpeg\n"
     ]
    },
    {
     "name": "stderr",
     "output_type": "stream",
     "text": [
      " 28%|██▊       | 285/1000 [00:30<01:16,  9.30it/s]"
     ]
    },
    {
     "name": "stdout",
     "output_type": "stream",
     "text": [
      "HoG shape is  (133956,)\n",
      "Processing img  354.jpeg\n",
      "HoG shape is  (133956,)\n",
      "Processing img  355.jpeg\n"
     ]
    },
    {
     "name": "stderr",
     "output_type": "stream",
     "text": [
      " 29%|██▊       | 287/1000 [00:30<01:20,  8.83it/s]"
     ]
    },
    {
     "name": "stdout",
     "output_type": "stream",
     "text": [
      "HoG shape is  (133956,)\n",
      "Processing img  356.jpeg\n",
      "HoG shape is  (133956,)\n",
      "Processing img  357.jpeg\n"
     ]
    },
    {
     "name": "stderr",
     "output_type": "stream",
     "text": [
      " 29%|██▉       | 289/1000 [00:30<01:17,  9.13it/s]"
     ]
    },
    {
     "name": "stdout",
     "output_type": "stream",
     "text": [
      "HoG shape is  (133956,)\n",
      "Processing img  358.jpeg\n",
      "HoG shape is  (133956,)\n",
      "Processing img  359.jpeg\n"
     ]
    },
    {
     "name": "stderr",
     "output_type": "stream",
     "text": [
      " 29%|██▉       | 291/1000 [00:30<01:21,  8.73it/s]"
     ]
    },
    {
     "name": "stdout",
     "output_type": "stream",
     "text": [
      "HoG shape is  (133956,)\n",
      "Processing img  36.jpeg\n",
      "HoG shape is  (133956,)\n",
      "Processing img  360.jpeg\n"
     ]
    },
    {
     "name": "stderr",
     "output_type": "stream",
     "text": [
      " 29%|██▉       | 293/1000 [00:31<01:22,  8.52it/s]"
     ]
    },
    {
     "name": "stdout",
     "output_type": "stream",
     "text": [
      "HoG shape is  (133956,)\n",
      "Processing img  361.jpeg\n",
      "HoG shape is  (133956,)\n",
      "Processing img  362.jpeg\n"
     ]
    },
    {
     "name": "stderr",
     "output_type": "stream",
     "text": [
      " 30%|██▉       | 295/1000 [00:31<01:24,  8.37it/s]"
     ]
    },
    {
     "name": "stdout",
     "output_type": "stream",
     "text": [
      "HoG shape is  (133956,)\n",
      "Processing img  363.jpeg\n",
      "HoG shape is  (133956,)\n",
      "Processing img  364.jpeg\n",
      "HoG shape is  (133956,)\n",
      "Processing img  365.jpeg\n"
     ]
    },
    {
     "name": "stderr",
     "output_type": "stream",
     "text": [
      " 30%|██▉       | 298/1000 [00:31<01:17,  9.10it/s]"
     ]
    },
    {
     "name": "stdout",
     "output_type": "stream",
     "text": [
      "HoG shape is  (133956,)\n",
      "Processing img  366.jpeg\n",
      "HoG shape is  (133956,)\n",
      "Processing img  367.jpeg\n",
      "HoG shape is  (133956,)\n",
      "Processing img  368.jpeg\n"
     ]
    },
    {
     "name": "stderr",
     "output_type": "stream",
     "text": [
      " 30%|███       | 301/1000 [00:31<01:14,  9.37it/s]"
     ]
    },
    {
     "name": "stdout",
     "output_type": "stream",
     "text": [
      "HoG shape is  (133956,)\n",
      "Processing img  369.jpeg\n",
      "HoG shape is  (133956,)\n",
      "Processing img  37.jpeg\n"
     ]
    },
    {
     "name": "stderr",
     "output_type": "stream",
     "text": [
      " 30%|███       | 303/1000 [00:32<01:14,  9.35it/s]"
     ]
    },
    {
     "name": "stdout",
     "output_type": "stream",
     "text": [
      "HoG shape is  (133956,)\n",
      "Processing img  370.jpeg\n",
      "HoG shape is  (133956,)\n",
      "Processing img  371.jpeg\n",
      "HoG shape is  (133956,)\n",
      "Processing img  372.jpeg\n"
     ]
    },
    {
     "name": "stderr",
     "output_type": "stream",
     "text": [
      " 31%|███       | 306/1000 [00:32<01:28,  7.82it/s]"
     ]
    },
    {
     "name": "stdout",
     "output_type": "stream",
     "text": [
      "HoG shape is  (133956,)\n",
      "Processing img  373.jpeg\n",
      "HoG shape is  (133956,)\n",
      "Processing img  374.jpeg\n"
     ]
    },
    {
     "name": "stderr",
     "output_type": "stream",
     "text": [
      " 31%|███       | 307/1000 [00:32<01:27,  7.91it/s]"
     ]
    },
    {
     "name": "stdout",
     "output_type": "stream",
     "text": [
      "HoG shape is  (133956,)\n",
      "Processing img  375.jpeg\n",
      "HoG shape is  (133956,)\n"
     ]
    },
    {
     "name": "stderr",
     "output_type": "stream",
     "text": [
      " 31%|███       | 309/1000 [00:33<01:38,  7.05it/s]"
     ]
    },
    {
     "name": "stdout",
     "output_type": "stream",
     "text": [
      "Processing img  376.jpeg\n",
      "HoG shape is  (133956,)\n",
      "Processing img  377.jpeg\n"
     ]
    },
    {
     "name": "stderr",
     "output_type": "stream",
     "text": [
      " 31%|███       | 311/1000 [00:33<01:30,  7.58it/s]"
     ]
    },
    {
     "name": "stdout",
     "output_type": "stream",
     "text": [
      "HoG shape is  (133956,)\n",
      "Processing img  378.jpeg\n",
      "HoG shape is  (133956,)\n",
      "Processing img  379.jpeg\n"
     ]
    },
    {
     "name": "stderr",
     "output_type": "stream",
     "text": [
      " 31%|███▏      | 313/1000 [00:33<01:17,  8.81it/s]"
     ]
    },
    {
     "name": "stdout",
     "output_type": "stream",
     "text": [
      "HoG shape is  (133956,)\n",
      "Processing img  38.jpeg\n",
      "HoG shape is  (133956,)\n",
      "Processing img  380.jpeg\n",
      "HoG shape is  (133956,)\n",
      "Processing img  381.jpeg\n"
     ]
    },
    {
     "name": "stderr",
     "output_type": "stream",
     "text": [
      " 32%|███▏      | 317/1000 [00:33<01:08, 10.03it/s]"
     ]
    },
    {
     "name": "stdout",
     "output_type": "stream",
     "text": [
      "HoG shape is  (133956,)\n",
      "Processing img  382.jpeg\n",
      "HoG shape is  (133956,)\n",
      "Processing img  383.jpeg\n",
      "HoG shape is  (133956,)\n",
      "Processing img  384.jpeg\n"
     ]
    },
    {
     "name": "stderr",
     "output_type": "stream",
     "text": [
      " 32%|███▏      | 319/1000 [00:34<01:06, 10.30it/s]"
     ]
    },
    {
     "name": "stdout",
     "output_type": "stream",
     "text": [
      "HoG shape is  (133956,)\n",
      "Processing img  385.jpeg\n",
      "HoG shape is  (133956,)\n",
      "Processing img  386.jpeg\n",
      "HoG shape is  (133956,)\n",
      "Processing img  387.jpeg\n"
     ]
    },
    {
     "name": "stderr",
     "output_type": "stream",
     "text": [
      " 32%|███▏      | 322/1000 [00:34<01:09,  9.81it/s]"
     ]
    },
    {
     "name": "stdout",
     "output_type": "stream",
     "text": [
      "HoG shape is  (133956,)\n",
      "Processing img  388.jpeg\n",
      "HoG shape is  (133956,)\n",
      "Processing img  389.jpeg\n"
     ]
    },
    {
     "name": "stderr",
     "output_type": "stream",
     "text": [
      " 32%|███▏      | 324/1000 [00:34<01:19,  8.53it/s]"
     ]
    },
    {
     "name": "stdout",
     "output_type": "stream",
     "text": [
      "HoG shape is  (133956,)\n",
      "Processing img  39.jpeg\n",
      "HoG shape is  (133956,)\n",
      "Processing img  390.jpeg\n"
     ]
    },
    {
     "name": "stderr",
     "output_type": "stream",
     "text": [
      " 33%|███▎      | 326/1000 [00:34<01:25,  7.86it/s]"
     ]
    },
    {
     "name": "stdout",
     "output_type": "stream",
     "text": [
      "HoG shape is  (133956,)\n",
      "Processing img  391.jpeg\n",
      "HoG shape is  (133956,)\n",
      "Processing img  392.jpeg\n"
     ]
    },
    {
     "name": "stderr",
     "output_type": "stream",
     "text": [
      " 33%|███▎      | 328/1000 [00:35<01:21,  8.23it/s]"
     ]
    },
    {
     "name": "stdout",
     "output_type": "stream",
     "text": [
      "HoG shape is  (133956,)\n",
      "Processing img  393.jpeg\n",
      "HoG shape is  (133956,)\n",
      "Processing img  394.jpeg\n"
     ]
    },
    {
     "name": "stderr",
     "output_type": "stream",
     "text": [
      " 33%|███▎      | 330/1000 [00:35<01:27,  7.62it/s]"
     ]
    },
    {
     "name": "stdout",
     "output_type": "stream",
     "text": [
      "HoG shape is  (133956,)\n",
      "Processing img  395.jpeg\n",
      "HoG shape is  (133956,)\n",
      "Processing img  396.jpeg\n"
     ]
    },
    {
     "name": "stderr",
     "output_type": "stream",
     "text": [
      " 33%|███▎      | 332/1000 [00:35<01:18,  8.49it/s]"
     ]
    },
    {
     "name": "stdout",
     "output_type": "stream",
     "text": [
      "HoG shape is  (133956,)\n",
      "Processing img  397.jpeg\n",
      "HoG shape is  (133956,)\n",
      "Processing img  398.jpeg\n",
      "HoG shape is  (133956,)\n",
      "Processing img  399.jpeg\n"
     ]
    },
    {
     "name": "stderr",
     "output_type": "stream",
     "text": [
      " 34%|███▎      | 336/1000 [00:36<01:05, 10.14it/s]"
     ]
    },
    {
     "name": "stdout",
     "output_type": "stream",
     "text": [
      "HoG shape is  (133956,)\n",
      "Processing img  4.jpeg\n",
      "HoG shape is  (133956,)\n",
      "Processing img  40.jpeg\n",
      "HoG shape is  (133956,)\n",
      "Processing img  400.jpeg\n"
     ]
    },
    {
     "name": "stderr",
     "output_type": "stream",
     "text": [
      " 34%|███▍      | 338/1000 [00:36<01:04, 10.28it/s]"
     ]
    },
    {
     "name": "stdout",
     "output_type": "stream",
     "text": [
      "HoG shape is  (133956,)\n",
      "Processing img  401.jpeg\n",
      "HoG shape is  (133956,)\n",
      "Processing img  402.jpeg\n",
      "HoG shape is  (133956,)\n",
      "Processing img  403.jpeg\n"
     ]
    },
    {
     "name": "stderr",
     "output_type": "stream",
     "text": [
      " 34%|███▍      | 340/1000 [00:36<01:01, 10.66it/s]"
     ]
    },
    {
     "name": "stdout",
     "output_type": "stream",
     "text": [
      "HoG shape is  (133956,)\n",
      "Processing img  404.jpeg\n",
      "HoG shape is  (133956,)\n",
      "Processing img  405.jpeg\n"
     ]
    },
    {
     "name": "stderr",
     "output_type": "stream",
     "text": [
      " 34%|███▍      | 344/1000 [00:36<01:01, 10.59it/s]"
     ]
    },
    {
     "name": "stdout",
     "output_type": "stream",
     "text": [
      "HoG shape is  (133956,)\n",
      "Processing img  406.jpeg\n",
      "HoG shape is  (133956,)\n",
      "Processing img  407.jpeg\n",
      "HoG shape is  (133956,)\n",
      "Processing img  408.jpeg\n"
     ]
    },
    {
     "name": "stderr",
     "output_type": "stream",
     "text": [
      " 35%|███▍      | 346/1000 [00:36<01:00, 10.74it/s]"
     ]
    },
    {
     "name": "stdout",
     "output_type": "stream",
     "text": [
      "HoG shape is  (133956,)\n",
      "Processing img  409.jpeg\n",
      "HoG shape is  (133956,)\n",
      "Processing img  41.jpeg\n",
      "HoG shape is  (133956,)\n",
      "Processing img  410.jpeg\n"
     ]
    },
    {
     "name": "stderr",
     "output_type": "stream",
     "text": [
      " 35%|███▍      | 348/1000 [00:37<00:59, 11.00it/s]"
     ]
    },
    {
     "name": "stdout",
     "output_type": "stream",
     "text": [
      "HoG shape is  (133956,)\n",
      "Processing img  411.jpeg\n",
      "HoG shape is  (133956,)\n",
      "Processing img  412.jpeg\n"
     ]
    },
    {
     "name": "stderr",
     "output_type": "stream",
     "text": [
      " 35%|███▌      | 352/1000 [00:37<01:04, 10.12it/s]"
     ]
    },
    {
     "name": "stdout",
     "output_type": "stream",
     "text": [
      "HoG shape is  (133956,)\n",
      "Processing img  413.jpeg\n",
      "HoG shape is  (133956,)\n",
      "Processing img  414.jpeg\n",
      "HoG shape is  (133956,)\n"
     ]
    },
    {
     "name": "stderr",
     "output_type": "stream",
     "text": [
      " 35%|███▌      | 354/1000 [00:37<01:03, 10.12it/s]"
     ]
    },
    {
     "name": "stdout",
     "output_type": "stream",
     "text": [
      "Processing img  415.jpeg\n",
      "HoG shape is  (133956,)\n",
      "Processing img  416.jpeg\n",
      "HoG shape is  (133956,)\n"
     ]
    },
    {
     "name": "stderr",
     "output_type": "stream",
     "text": [
      " 36%|███▌      | 356/1000 [00:37<01:02, 10.30it/s]"
     ]
    },
    {
     "name": "stdout",
     "output_type": "stream",
     "text": [
      "Processing img  417.jpeg\n",
      "HoG shape is  (133956,)\n",
      "Processing img  418.jpeg\n",
      "HoG shape is  (133956,)\n"
     ]
    },
    {
     "name": "stderr",
     "output_type": "stream",
     "text": [
      " 36%|███▌      | 358/1000 [00:38<00:59, 10.77it/s]"
     ]
    },
    {
     "name": "stdout",
     "output_type": "stream",
     "text": [
      "Processing img  419.jpeg\n",
      "HoG shape is  (133956,)\n",
      "Processing img  42.jpeg\n",
      "HoG shape is  (133956,)\n",
      "Processing img  420.jpeg\n"
     ]
    },
    {
     "name": "stderr",
     "output_type": "stream",
     "text": [
      " 36%|███▌      | 360/1000 [00:38<00:58, 10.90it/s]"
     ]
    },
    {
     "name": "stdout",
     "output_type": "stream",
     "text": [
      "HoG shape is  (133956,)\n",
      "Processing img  421.jpeg\n",
      "HoG shape is  (133956,)\n",
      "Processing img  422.jpeg\n",
      "HoG shape is  (133956,)\n",
      "Processing img  423.jpeg\n"
     ]
    },
    {
     "name": "stderr",
     "output_type": "stream",
     "text": [
      " 36%|███▋      | 364/1000 [00:38<00:56, 11.22it/s]"
     ]
    },
    {
     "name": "stdout",
     "output_type": "stream",
     "text": [
      "HoG shape is  (133956,)\n",
      "Processing img  424.jpeg\n",
      "HoG shape is  (133956,)\n",
      "Processing img  425.jpeg\n",
      "HoG shape is  (133956,)\n",
      "Processing img  426.jpeg\n"
     ]
    },
    {
     "name": "stderr",
     "output_type": "stream",
     "text": [
      " 37%|███▋      | 366/1000 [00:38<00:56, 11.14it/s]"
     ]
    },
    {
     "name": "stdout",
     "output_type": "stream",
     "text": [
      "HoG shape is  (133956,)\n",
      "Processing img  427.jpeg\n",
      "HoG shape is  (133956,)\n",
      "Processing img  428.jpeg\n",
      "HoG shape is  (133956,)\n",
      "Processing img  429.jpeg\n"
     ]
    },
    {
     "name": "stderr",
     "output_type": "stream",
     "text": [
      " 37%|███▋      | 370/1000 [00:39<00:55, 11.41it/s]"
     ]
    },
    {
     "name": "stdout",
     "output_type": "stream",
     "text": [
      "HoG shape is  (133956,)\n",
      "Processing img  43.jpeg\n",
      "HoG shape is  (133956,)\n",
      "Processing img  430.jpeg\n",
      "HoG shape is  (133956,)\n",
      "Processing img  431.jpeg\n"
     ]
    },
    {
     "name": "stderr",
     "output_type": "stream",
     "text": [
      " 37%|███▋      | 372/1000 [00:39<00:55, 11.35it/s]"
     ]
    },
    {
     "name": "stdout",
     "output_type": "stream",
     "text": [
      "HoG shape is  (133956,)\n",
      "Processing img  432.jpeg\n",
      "HoG shape is  (133956,)\n",
      "Processing img  433.jpeg\n",
      "HoG shape is  (133956,)\n",
      "Processing img  434.jpeg\n"
     ]
    },
    {
     "name": "stderr",
     "output_type": "stream",
     "text": [
      " 37%|███▋      | 374/1000 [00:39<00:56, 10.99it/s]"
     ]
    },
    {
     "name": "stdout",
     "output_type": "stream",
     "text": [
      "HoG shape is  (133956,)\n",
      "Processing img  435.jpeg\n",
      "HoG shape is  (133956,)\n",
      "Processing img  436.jpeg\n"
     ]
    },
    {
     "name": "stderr",
     "output_type": "stream",
     "text": [
      " 38%|███▊      | 376/1000 [00:39<00:59, 10.47it/s]"
     ]
    },
    {
     "name": "stdout",
     "output_type": "stream",
     "text": [
      "HoG shape is  (133956,)\n",
      "Processing img  437.jpeg\n",
      "HoG shape is  (133956,)\n",
      "Processing img  438.jpeg\n",
      "HoG shape is  (133956,)\n"
     ]
    },
    {
     "name": "stderr",
     "output_type": "stream",
     "text": [
      " 38%|███▊      | 380/1000 [00:40<00:56, 10.89it/s]"
     ]
    },
    {
     "name": "stdout",
     "output_type": "stream",
     "text": [
      "Processing img  439.jpeg\n",
      "HoG shape is  (133956,)\n",
      "Processing img  44.jpeg\n",
      "HoG shape is  (133956,)\n",
      "Processing img  440.jpeg\n"
     ]
    },
    {
     "name": "stderr",
     "output_type": "stream",
     "text": [
      " 38%|███▊      | 382/1000 [00:40<00:57, 10.71it/s]"
     ]
    },
    {
     "name": "stdout",
     "output_type": "stream",
     "text": [
      "HoG shape is  (133956,)\n",
      "Processing img  441.jpeg\n",
      "HoG shape is  (133956,)\n",
      "Processing img  442.jpeg\n",
      "HoG shape is  (133956,)\n",
      "Processing img  443.jpeg\n"
     ]
    },
    {
     "name": "stderr",
     "output_type": "stream",
     "text": [
      " 39%|███▊      | 386/1000 [00:40<00:54, 11.26it/s]"
     ]
    },
    {
     "name": "stdout",
     "output_type": "stream",
     "text": [
      "HoG shape is  (133956,)\n",
      "Processing img  444.jpeg\n",
      "HoG shape is  (133956,)\n",
      "Processing img  445.jpeg\n",
      "HoG shape is  (133956,)\n",
      "Processing img  446.jpeg\n"
     ]
    },
    {
     "name": "stderr",
     "output_type": "stream",
     "text": [
      " 39%|███▉      | 388/1000 [00:40<00:53, 11.37it/s]"
     ]
    },
    {
     "name": "stdout",
     "output_type": "stream",
     "text": [
      "HoG shape is  (133956,)\n",
      "Processing img  447.jpeg\n",
      "HoG shape is  (133956,)\n",
      "Processing img  448.jpeg\n",
      "HoG shape is  (133956,)\n",
      "Processing img  449.jpeg\n"
     ]
    },
    {
     "name": "stderr",
     "output_type": "stream",
     "text": [
      " 39%|███▉      | 392/1000 [00:41<00:52, 11.59it/s]"
     ]
    },
    {
     "name": "stdout",
     "output_type": "stream",
     "text": [
      "HoG shape is  (133956,)\n",
      "Processing img  45.jpeg\n",
      "HoG shape is  (133956,)\n",
      "Processing img  450.jpeg\n",
      "HoG shape is  (133956,)\n",
      "Processing img  451.jpeg\n"
     ]
    },
    {
     "name": "stderr",
     "output_type": "stream",
     "text": [
      " 39%|███▉      | 394/1000 [00:41<00:52, 11.47it/s]"
     ]
    },
    {
     "name": "stdout",
     "output_type": "stream",
     "text": [
      "HoG shape is  (133956,)\n",
      "Processing img  452.jpeg\n",
      "HoG shape is  (133956,)\n",
      "Processing img  453.jpeg\n",
      "HoG shape is  (133956,)\n",
      "Processing img  454.jpeg\n"
     ]
    },
    {
     "name": "stderr",
     "output_type": "stream",
     "text": [
      " 40%|███▉      | 398/1000 [00:41<00:51, 11.69it/s]"
     ]
    },
    {
     "name": "stdout",
     "output_type": "stream",
     "text": [
      "HoG shape is  (133956,)\n",
      "Processing img  455.jpeg\n",
      "HoG shape is  (133956,)\n",
      "Processing img  456.jpeg\n",
      "HoG shape is  (133956,)\n",
      "Processing img  457.jpeg\n"
     ]
    },
    {
     "name": "stderr",
     "output_type": "stream",
     "text": [
      " 40%|████      | 400/1000 [00:41<00:53, 11.20it/s]"
     ]
    },
    {
     "name": "stdout",
     "output_type": "stream",
     "text": [
      "HoG shape is  (133956,)\n",
      "Processing img  458.jpeg\n",
      "HoG shape is  (133956,)\n",
      "Processing img  459.jpeg\n"
     ]
    },
    {
     "name": "stderr",
     "output_type": "stream",
     "text": [
      " 40%|████      | 402/1000 [00:42<00:58, 10.29it/s]"
     ]
    },
    {
     "name": "stdout",
     "output_type": "stream",
     "text": [
      "HoG shape is  (133956,)\n",
      "Processing img  46.jpeg\n",
      "HoG shape is  (133956,)\n",
      "Processing img  460.jpeg\n"
     ]
    },
    {
     "name": "stderr",
     "output_type": "stream",
     "text": [
      " 40%|████      | 404/1000 [00:42<01:09,  8.55it/s]"
     ]
    },
    {
     "name": "stdout",
     "output_type": "stream",
     "text": [
      "HoG shape is  (133956,)\n",
      "Processing img  461.jpeg\n",
      "HoG shape is  (133956,)\n",
      "Processing img  462.jpeg\n"
     ]
    },
    {
     "name": "stderr",
     "output_type": "stream",
     "text": [
      " 41%|████      | 406/1000 [00:42<01:06,  8.96it/s]"
     ]
    },
    {
     "name": "stdout",
     "output_type": "stream",
     "text": [
      "HoG shape is  (133956,)\n",
      "Processing img  463.jpeg\n",
      "HoG shape is  (133956,)\n",
      "Processing img  464.jpeg\n"
     ]
    },
    {
     "name": "stderr",
     "output_type": "stream",
     "text": [
      " 41%|████      | 408/1000 [00:42<01:08,  8.69it/s]"
     ]
    },
    {
     "name": "stdout",
     "output_type": "stream",
     "text": [
      "HoG shape is  (133956,)\n",
      "Processing img  465.jpeg\n",
      "HoG shape is  (133956,)\n",
      "Processing img  466.jpeg\n"
     ]
    },
    {
     "name": "stderr",
     "output_type": "stream",
     "text": [
      " 41%|████      | 410/1000 [00:43<01:15,  7.77it/s]"
     ]
    },
    {
     "name": "stdout",
     "output_type": "stream",
     "text": [
      "HoG shape is  (133956,)\n",
      "Processing img  467.jpeg\n",
      "HoG shape is  (133956,)\n",
      "Processing img  468.jpeg\n"
     ]
    },
    {
     "name": "stderr",
     "output_type": "stream",
     "text": [
      " 41%|████      | 412/1000 [00:43<01:22,  7.15it/s]"
     ]
    },
    {
     "name": "stdout",
     "output_type": "stream",
     "text": [
      "HoG shape is  (133956,)\n",
      "Processing img  469.jpeg\n",
      "HoG shape is  (133956,)\n",
      "Processing img  47.jpeg\n"
     ]
    },
    {
     "name": "stderr",
     "output_type": "stream",
     "text": [
      " 41%|████▏     | 414/1000 [00:43<01:08,  8.55it/s]"
     ]
    },
    {
     "name": "stdout",
     "output_type": "stream",
     "text": [
      "HoG shape is  (133956,)\n",
      "Processing img  470.jpeg\n",
      "HoG shape is  (133956,)\n",
      "Processing img  471.jpeg\n",
      "HoG shape is  (133956,)\n",
      "Processing img  472.jpeg\n"
     ]
    },
    {
     "name": "stderr",
     "output_type": "stream",
     "text": [
      " 42%|████▏     | 416/1000 [00:43<01:02,  9.36it/s]"
     ]
    },
    {
     "name": "stdout",
     "output_type": "stream",
     "text": [
      "HoG shape is  (133956,)\n",
      "Processing img  473.jpeg\n",
      "HoG shape is  (133956,)\n",
      "Processing img  474.jpeg\n"
     ]
    },
    {
     "name": "stderr",
     "output_type": "stream",
     "text": [
      " 42%|████▏     | 419/1000 [00:44<01:01,  9.42it/s]"
     ]
    },
    {
     "name": "stdout",
     "output_type": "stream",
     "text": [
      "HoG shape is  (133956,)\n",
      "Processing img  475.jpeg\n",
      "HoG shape is  (133956,)\n",
      "Processing img  476.jpeg\n",
      "HoG shape is  (133956,)\n",
      "Processing img  477.jpeg\n"
     ]
    },
    {
     "name": "stderr",
     "output_type": "stream",
     "text": [
      " 42%|████▏     | 423/1000 [00:44<00:55, 10.33it/s]"
     ]
    },
    {
     "name": "stdout",
     "output_type": "stream",
     "text": [
      "HoG shape is  (133956,)\n",
      "Processing img  478.jpeg\n",
      "HoG shape is  (133956,)\n",
      "Processing img  479.jpeg\n",
      "HoG shape is  (133956,)\n"
     ]
    },
    {
     "name": "stderr",
     "output_type": "stream",
     "text": [
      " 42%|████▎     | 425/1000 [00:44<00:54, 10.64it/s]"
     ]
    },
    {
     "name": "stdout",
     "output_type": "stream",
     "text": [
      "Processing img  48.jpeg\n",
      "HoG shape is  (133956,)\n",
      "Processing img  480.jpeg\n",
      "HoG shape is  (133956,)\n",
      "Processing img  481.jpeg\n"
     ]
    },
    {
     "name": "stderr",
     "output_type": "stream",
     "text": [
      " 43%|████▎     | 427/1000 [00:44<00:54, 10.58it/s]"
     ]
    },
    {
     "name": "stdout",
     "output_type": "stream",
     "text": [
      "HoG shape is  (133956,)\n",
      "Processing img  482.jpeg\n",
      "HoG shape is  (133956,)\n",
      "Processing img  483.jpeg\n",
      "HoG shape is  (133956,)\n",
      "Processing img  484.jpeg\n"
     ]
    },
    {
     "name": "stderr",
     "output_type": "stream",
     "text": [
      " 43%|████▎     | 431/1000 [00:45<00:52, 10.86it/s]"
     ]
    },
    {
     "name": "stdout",
     "output_type": "stream",
     "text": [
      "HoG shape is  (133956,)\n",
      "Processing img  485.jpeg\n",
      "HoG shape is  (133956,)\n",
      "Processing img  486.jpeg\n",
      "HoG shape is  (133956,)\n"
     ]
    },
    {
     "name": "stderr",
     "output_type": "stream",
     "text": [
      " 43%|████▎     | 433/1000 [00:45<00:52, 10.87it/s]"
     ]
    },
    {
     "name": "stdout",
     "output_type": "stream",
     "text": [
      "Processing img  487.jpeg\n",
      "HoG shape is  (133956,)\n",
      "Processing img  488.jpeg\n",
      "HoG shape is  (133956,)\n"
     ]
    },
    {
     "name": "stderr",
     "output_type": "stream",
     "text": [
      " 44%|████▎     | 435/1000 [00:45<00:53, 10.58it/s]"
     ]
    },
    {
     "name": "stdout",
     "output_type": "stream",
     "text": [
      "Processing img  489.jpeg\n",
      "HoG shape is  (133956,)\n",
      "Processing img  49.jpeg\n",
      "HoG shape is  (133956,)\n"
     ]
    },
    {
     "name": "stderr",
     "output_type": "stream",
     "text": [
      " 44%|████▎     | 437/1000 [00:45<00:52, 10.68it/s]"
     ]
    },
    {
     "name": "stdout",
     "output_type": "stream",
     "text": [
      "Processing img  490.jpeg\n",
      "HoG shape is  (133956,)\n",
      "Processing img  491.jpeg\n",
      "HoG shape is  (133956,)\n"
     ]
    },
    {
     "name": "stderr",
     "output_type": "stream",
     "text": [
      " 44%|████▍     | 439/1000 [00:46<00:53, 10.39it/s]"
     ]
    },
    {
     "name": "stdout",
     "output_type": "stream",
     "text": [
      "Processing img  492.jpeg\n",
      "HoG shape is  (133956,)\n",
      "Processing img  493.jpeg\n",
      "HoG shape is  (133956,)\n",
      "Processing img  494.jpeg\n",
      "HoG shape is  (133956,)\n",
      "Processing img  495.jpeg\n"
     ]
    },
    {
     "name": "stderr",
     "output_type": "stream",
     "text": [
      " 44%|████▍     | 443/1000 [00:46<00:56,  9.94it/s]"
     ]
    },
    {
     "name": "stdout",
     "output_type": "stream",
     "text": [
      "HoG shape is  (133956,)\n",
      "Processing img  496.jpeg\n",
      "HoG shape is  (133956,)\n",
      "Processing img  497.jpeg\n",
      "HoG shape is  (133956,)\n"
     ]
    },
    {
     "name": "stderr",
     "output_type": "stream",
     "text": [
      " 44%|████▍     | 445/1000 [00:46<00:54, 10.22it/s]"
     ]
    },
    {
     "name": "stdout",
     "output_type": "stream",
     "text": [
      "Processing img  498.jpeg\n",
      "HoG shape is  (133956,)\n",
      "Processing img  499.jpeg\n",
      "HoG shape is  (133956,)\n"
     ]
    },
    {
     "name": "stderr",
     "output_type": "stream",
     "text": [
      " 45%|████▍     | 447/1000 [00:46<00:53, 10.43it/s]"
     ]
    },
    {
     "name": "stdout",
     "output_type": "stream",
     "text": [
      "Processing img  5.jpeg\n",
      "HoG shape is  (133956,)\n",
      "Processing img  50.jpeg\n",
      "HoG shape is  (133956,)\n"
     ]
    },
    {
     "name": "stderr",
     "output_type": "stream",
     "text": [
      " 45%|████▍     | 449/1000 [00:46<00:52, 10.54it/s]"
     ]
    },
    {
     "name": "stdout",
     "output_type": "stream",
     "text": [
      "Processing img  500.jpeg\n",
      "HoG shape is  (133956,)\n",
      "Processing img  501.jpeg\n",
      "HoG shape is  (133956,)\n"
     ]
    },
    {
     "name": "stderr",
     "output_type": "stream",
     "text": [
      " 45%|████▌     | 451/1000 [00:47<00:52, 10.49it/s]"
     ]
    },
    {
     "name": "stdout",
     "output_type": "stream",
     "text": [
      "Processing img  502.jpeg\n",
      "HoG shape is  (133956,)\n",
      "Processing img  503.jpeg\n",
      "HoG shape is  (133956,)\n"
     ]
    },
    {
     "name": "stderr",
     "output_type": "stream",
     "text": [
      " 45%|████▌     | 453/1000 [00:47<00:52, 10.33it/s]"
     ]
    },
    {
     "name": "stdout",
     "output_type": "stream",
     "text": [
      "Processing img  504.jpeg\n",
      "HoG shape is  (133956,)\n",
      "Processing img  505.jpeg\n",
      "HoG shape is  (133956,)\n"
     ]
    },
    {
     "name": "stderr",
     "output_type": "stream",
     "text": [
      " 46%|████▌     | 455/1000 [00:47<00:52, 10.41it/s]"
     ]
    },
    {
     "name": "stdout",
     "output_type": "stream",
     "text": [
      "Processing img  506.jpeg\n",
      "HoG shape is  (133956,)\n",
      "Processing img  507.jpeg\n",
      "HoG shape is  (133956,)\n"
     ]
    },
    {
     "name": "stderr",
     "output_type": "stream",
     "text": [
      " 46%|████▌     | 457/1000 [00:47<00:53, 10.23it/s]"
     ]
    },
    {
     "name": "stdout",
     "output_type": "stream",
     "text": [
      "Processing img  508.jpeg\n",
      "HoG shape is  (133956,)\n",
      "Processing img  509.jpeg\n",
      "HoG shape is  (133956,)\n"
     ]
    },
    {
     "name": "stderr",
     "output_type": "stream",
     "text": [
      " 46%|████▌     | 459/1000 [00:47<00:53, 10.03it/s]"
     ]
    },
    {
     "name": "stdout",
     "output_type": "stream",
     "text": [
      "Processing img  51.jpeg\n",
      "HoG shape is  (133956,)\n",
      "Processing img  510.jpeg\n",
      "HoG shape is  (133956,)\n"
     ]
    },
    {
     "name": "stderr",
     "output_type": "stream",
     "text": [
      " 46%|████▌     | 461/1000 [00:48<00:53, 10.10it/s]"
     ]
    },
    {
     "name": "stdout",
     "output_type": "stream",
     "text": [
      "Processing img  511.jpeg\n",
      "HoG shape is  (133956,)\n",
      "Processing img  512.jpeg\n",
      "HoG shape is  (133956,)\n"
     ]
    },
    {
     "name": "stderr",
     "output_type": "stream",
     "text": [
      " 46%|████▋     | 463/1000 [00:48<00:52, 10.23it/s]"
     ]
    },
    {
     "name": "stdout",
     "output_type": "stream",
     "text": [
      "Processing img  513.jpeg\n",
      "HoG shape is  (133956,)\n",
      "Processing img  514.jpeg\n",
      "HoG shape is  (133956,)\n",
      "Processing img  515.jpeg\n",
      "HoG shape is  (133956,)\n",
      "Processing img  516.jpeg\n"
     ]
    },
    {
     "name": "stderr",
     "output_type": "stream",
     "text": [
      " 47%|████▋     | 466/1000 [00:48<00:55,  9.69it/s]"
     ]
    },
    {
     "name": "stdout",
     "output_type": "stream",
     "text": [
      "HoG shape is  (133956,)\n",
      "Processing img  517.jpeg\n",
      "HoG shape is  (133956,)\n",
      "Processing img  518.jpeg\n"
     ]
    },
    {
     "name": "stderr",
     "output_type": "stream",
     "text": [
      " 47%|████▋     | 467/1000 [00:48<01:04,  8.24it/s]"
     ]
    },
    {
     "name": "stdout",
     "output_type": "stream",
     "text": [
      "HoG shape is  (133956,)\n",
      "Processing img  519.jpeg\n",
      "HoG shape is  (133956,)\n",
      "Processing img  52.jpeg\n",
      "HoG shape is  (133956,)\n"
     ]
    },
    {
     "name": "stderr",
     "output_type": "stream",
     "text": [
      " 47%|████▋     | 471/1000 [00:49<00:55,  9.59it/s]"
     ]
    },
    {
     "name": "stdout",
     "output_type": "stream",
     "text": [
      "Processing img  520.jpeg\n",
      "HoG shape is  (133956,)\n",
      "Processing img  521.jpeg\n",
      "HoG shape is  (133956,)\n",
      "Processing img  522.jpeg\n"
     ]
    },
    {
     "name": "stderr",
     "output_type": "stream",
     "text": [
      " 47%|████▋     | 473/1000 [00:49<00:52, 10.03it/s]"
     ]
    },
    {
     "name": "stdout",
     "output_type": "stream",
     "text": [
      "HoG shape is  (133956,)\n",
      "Processing img  523.jpeg\n",
      "HoG shape is  (133956,)\n",
      "Processing img  524.jpeg\n",
      "HoG shape is  (133956,)\n",
      "Processing img  525.jpeg\n"
     ]
    },
    {
     "name": "stderr",
     "output_type": "stream",
     "text": [
      " 48%|████▊     | 475/1000 [00:49<00:51, 10.24it/s]"
     ]
    },
    {
     "name": "stdout",
     "output_type": "stream",
     "text": [
      "HoG shape is  (133956,)\n",
      "Processing img  526.jpeg\n",
      "HoG shape is  (133956,)\n",
      "Processing img  527.jpeg\n"
     ]
    },
    {
     "name": "stderr",
     "output_type": "stream",
     "text": [
      " 48%|████▊     | 478/1000 [00:50<00:59,  8.81it/s]"
     ]
    },
    {
     "name": "stdout",
     "output_type": "stream",
     "text": [
      "HoG shape is  (133956,)\n",
      "Processing img  528.jpeg\n",
      "HoG shape is  (133956,)\n",
      "Processing img  529.jpeg\n"
     ]
    },
    {
     "name": "stderr",
     "output_type": "stream",
     "text": [
      " 48%|████▊     | 480/1000 [00:50<00:55,  9.34it/s]"
     ]
    },
    {
     "name": "stdout",
     "output_type": "stream",
     "text": [
      "HoG shape is  (133956,)\n",
      "Processing img  53.jpeg\n",
      "HoG shape is  (133956,)\n",
      "Processing img  530.jpeg\n"
     ]
    },
    {
     "name": "stderr",
     "output_type": "stream",
     "text": [
      " 48%|████▊     | 482/1000 [00:50<01:10,  7.30it/s]"
     ]
    },
    {
     "name": "stdout",
     "output_type": "stream",
     "text": [
      "HoG shape is  (133956,)\n",
      "Processing img  531.jpeg\n",
      "HoG shape is  (133956,)\n",
      "Processing img  532.jpeg\n"
     ]
    },
    {
     "name": "stderr",
     "output_type": "stream",
     "text": [
      " 48%|████▊     | 484/1000 [00:50<01:06,  7.77it/s]"
     ]
    },
    {
     "name": "stdout",
     "output_type": "stream",
     "text": [
      "HoG shape is  (133956,)\n",
      "Processing img  533.jpeg\n",
      "HoG shape is  (133956,)\n",
      "Processing img  534.jpeg\n",
      "HoG shape is  (133956,)\n",
      "Processing img  535.jpeg\n"
     ]
    },
    {
     "name": "stderr",
     "output_type": "stream",
     "text": [
      " 49%|████▉     | 488/1000 [00:51<00:54,  9.47it/s]"
     ]
    },
    {
     "name": "stdout",
     "output_type": "stream",
     "text": [
      "HoG shape is  (133956,)\n",
      "Processing img  536.jpeg\n",
      "HoG shape is  (133956,)\n",
      "Processing img  537.jpeg\n",
      "HoG shape is  (133956,)\n"
     ]
    },
    {
     "name": "stderr",
     "output_type": "stream",
     "text": [
      " 49%|████▉     | 490/1000 [00:51<00:50, 10.05it/s]"
     ]
    },
    {
     "name": "stdout",
     "output_type": "stream",
     "text": [
      "Processing img  538.jpeg\n",
      "HoG shape is  (133956,)\n",
      "Processing img  539.jpeg\n",
      "HoG shape is  (133956,)\n",
      "Processing img  54.jpeg\n"
     ]
    },
    {
     "name": "stderr",
     "output_type": "stream",
     "text": [
      " 49%|████▉     | 493/1000 [00:51<00:51,  9.94it/s]"
     ]
    },
    {
     "name": "stdout",
     "output_type": "stream",
     "text": [
      "HoG shape is  (133956,)\n",
      "Processing img  540.jpeg\n",
      "HoG shape is  (133956,)\n",
      "Processing img  541.jpeg\n",
      "HoG shape is  (133956,)\n"
     ]
    },
    {
     "name": "stderr",
     "output_type": "stream",
     "text": [
      " 50%|████▉     | 495/1000 [00:51<00:49, 10.23it/s]"
     ]
    },
    {
     "name": "stdout",
     "output_type": "stream",
     "text": [
      "Processing img  542.jpeg\n",
      "HoG shape is  (133956,)\n",
      "Processing img  543.jpeg\n",
      "HoG shape is  (133956,)\n"
     ]
    },
    {
     "name": "stderr",
     "output_type": "stream",
     "text": [
      " 50%|████▉     | 497/1000 [00:52<00:49, 10.25it/s]"
     ]
    },
    {
     "name": "stdout",
     "output_type": "stream",
     "text": [
      "Processing img  544.jpeg\n",
      "HoG shape is  (133956,)\n",
      "Processing img  545.jpeg\n",
      "HoG shape is  (133956,)\n"
     ]
    },
    {
     "name": "stderr",
     "output_type": "stream",
     "text": [
      " 50%|████▉     | 499/1000 [00:52<00:49, 10.07it/s]"
     ]
    },
    {
     "name": "stdout",
     "output_type": "stream",
     "text": [
      "Processing img  546.jpeg\n",
      "HoG shape is  (133956,)\n",
      "Processing img  547.jpeg\n",
      "HoG shape is  (133956,)\n",
      "Processing img  548.jpeg\n",
      "HoG shape is  (133956,)\n",
      "Processing img  549.jpeg\n"
     ]
    },
    {
     "name": "stderr",
     "output_type": "stream",
     "text": [
      " 50%|█████     | 501/1000 [00:52<00:54,  9.23it/s]"
     ]
    },
    {
     "name": "stdout",
     "output_type": "stream",
     "text": [
      "HoG shape is  (133956,)\n",
      "Processing img  55.jpeg\n",
      "HoG shape is  (133956,)\n"
     ]
    },
    {
     "name": "stderr",
     "output_type": "stream",
     "text": [
      " 50%|█████     | 502/1000 [00:52<01:01,  8.07it/s]"
     ]
    },
    {
     "name": "stdout",
     "output_type": "stream",
     "text": [
      "Processing img  550.jpeg\n"
     ]
    },
    {
     "name": "stderr",
     "output_type": "stream",
     "text": [
      " 50%|█████     | 504/1000 [00:53<01:14,  6.65it/s]"
     ]
    },
    {
     "name": "stdout",
     "output_type": "stream",
     "text": [
      "HoG shape is  (133956,)\n",
      "Processing img  551.jpeg\n",
      "HoG shape is  (133956,)\n",
      "Processing img  552.jpeg\n"
     ]
    },
    {
     "name": "stderr",
     "output_type": "stream",
     "text": [
      " 51%|█████     | 506/1000 [00:53<01:11,  6.90it/s]"
     ]
    },
    {
     "name": "stdout",
     "output_type": "stream",
     "text": [
      "HoG shape is  (133956,)\n",
      "Processing img  553.jpeg\n",
      "HoG shape is  (133956,)\n",
      "Processing img  554.jpeg\n"
     ]
    },
    {
     "name": "stderr",
     "output_type": "stream",
     "text": [
      " 51%|█████     | 508/1000 [00:53<01:03,  7.74it/s]"
     ]
    },
    {
     "name": "stdout",
     "output_type": "stream",
     "text": [
      "HoG shape is  (133956,)\n",
      "Processing img  555.jpeg\n",
      "HoG shape is  (133956,)\n",
      "Processing img  556.jpeg\n",
      "HoG shape is  (133956,)\n",
      "Processing img  557.jpeg\n"
     ]
    },
    {
     "name": "stderr",
     "output_type": "stream",
     "text": [
      " 51%|█████     | 511/1000 [00:53<00:54,  8.92it/s]"
     ]
    },
    {
     "name": "stdout",
     "output_type": "stream",
     "text": [
      "HoG shape is  (133956,)\n",
      "Processing img  558.jpeg\n",
      "HoG shape is  (133956,)\n",
      "Processing img  559.jpeg\n",
      "HoG shape is  (133956,)\n",
      "Processing img  56.jpeg\n"
     ]
    },
    {
     "name": "stderr",
     "output_type": "stream",
     "text": [
      " 52%|█████▏    | 515/1000 [00:54<00:47, 10.14it/s]"
     ]
    },
    {
     "name": "stdout",
     "output_type": "stream",
     "text": [
      "HoG shape is  (133956,)\n",
      "Processing img  560.jpeg\n",
      "HoG shape is  (133956,)\n",
      "Processing img  561.jpeg\n",
      "HoG shape is  (133956,)\n",
      "Processing img  562.jpeg\n"
     ]
    },
    {
     "name": "stderr",
     "output_type": "stream",
     "text": [
      " 52%|█████▏    | 517/1000 [00:54<00:46, 10.38it/s]"
     ]
    },
    {
     "name": "stdout",
     "output_type": "stream",
     "text": [
      "HoG shape is  (133956,)\n",
      "Processing img  563.jpeg\n",
      "HoG shape is  (133956,)\n",
      "Processing img  564.jpeg\n",
      "HoG shape is  (133956,)\n",
      "Processing img  565.jpeg\n"
     ]
    },
    {
     "name": "stderr",
     "output_type": "stream",
     "text": [
      " 52%|█████▏    | 521/1000 [00:54<00:45, 10.45it/s]"
     ]
    },
    {
     "name": "stdout",
     "output_type": "stream",
     "text": [
      "HoG shape is  (133956,)\n",
      "Processing img  566.jpeg\n",
      "HoG shape is  (133956,)\n",
      "Processing img  567.jpeg\n",
      "HoG shape is  (133956,)\n"
     ]
    },
    {
     "name": "stderr",
     "output_type": "stream",
     "text": [
      " 52%|█████▏    | 523/1000 [00:55<00:44, 10.69it/s]"
     ]
    },
    {
     "name": "stdout",
     "output_type": "stream",
     "text": [
      "Processing img  568.jpeg\n",
      "HoG shape is  (133956,)\n",
      "Processing img  569.jpeg\n",
      "HoG shape is  (133956,)\n",
      "Processing img  57.jpeg\n"
     ]
    },
    {
     "name": "stderr",
     "output_type": "stream",
     "text": [
      " 52%|█████▎    | 525/1000 [00:55<00:46, 10.27it/s]"
     ]
    },
    {
     "name": "stdout",
     "output_type": "stream",
     "text": [
      "HoG shape is  (133956,)\n",
      "Processing img  570.jpeg\n",
      "HoG shape is  (133956,)\n",
      "Processing img  571.jpeg\n",
      "HoG shape is  (133956,)\n",
      "Processing img  572.jpeg\n"
     ]
    },
    {
     "name": "stderr",
     "output_type": "stream",
     "text": [
      " 53%|█████▎    | 529/1000 [00:55<00:44, 10.53it/s]"
     ]
    },
    {
     "name": "stdout",
     "output_type": "stream",
     "text": [
      "HoG shape is  (133956,)\n",
      "Processing img  573.jpeg\n",
      "HoG shape is  (133956,)\n",
      "Processing img  574.jpeg\n",
      "HoG shape is  (133956,)\n"
     ]
    },
    {
     "name": "stderr",
     "output_type": "stream",
     "text": [
      " 53%|█████▎    | 531/1000 [00:55<00:43, 10.77it/s]"
     ]
    },
    {
     "name": "stdout",
     "output_type": "stream",
     "text": [
      "Processing img  575.jpeg\n",
      "HoG shape is  (133956,)\n",
      "Processing img  576.jpeg\n",
      "HoG shape is  (133956,)\n",
      "Processing img  577.jpeg\n"
     ]
    },
    {
     "name": "stderr",
     "output_type": "stream",
     "text": [
      " 53%|█████▎    | 533/1000 [00:56<00:45, 10.33it/s]"
     ]
    },
    {
     "name": "stdout",
     "output_type": "stream",
     "text": [
      "HoG shape is  (133956,)\n",
      "Processing img  578.jpeg\n",
      "HoG shape is  (133956,)\n",
      "Processing img  579.jpeg\n",
      "HoG shape is  (133956,)\n",
      "Processing img  58.jpeg\n"
     ]
    },
    {
     "name": "stderr",
     "output_type": "stream",
     "text": [
      " 54%|█████▎    | 537/1000 [00:56<00:43, 10.70it/s]"
     ]
    },
    {
     "name": "stdout",
     "output_type": "stream",
     "text": [
      "HoG shape is  (133956,)\n",
      "Processing img  580.jpeg\n",
      "HoG shape is  (133956,)\n",
      "Processing img  581.jpeg\n",
      "HoG shape is  (133956,)\n"
     ]
    },
    {
     "name": "stderr",
     "output_type": "stream",
     "text": [
      " 54%|█████▍    | 539/1000 [00:56<00:42, 10.82it/s]"
     ]
    },
    {
     "name": "stdout",
     "output_type": "stream",
     "text": [
      "Processing img  582.jpeg\n",
      "HoG shape is  (133956,)\n",
      "Processing img  583.jpeg\n",
      "HoG shape is  (133956,)\n",
      "Processing img  584.jpeg\n"
     ]
    },
    {
     "name": "stderr",
     "output_type": "stream",
     "text": [
      " 54%|█████▍    | 541/1000 [00:56<00:43, 10.51it/s]"
     ]
    },
    {
     "name": "stdout",
     "output_type": "stream",
     "text": [
      "HoG shape is  (133956,)\n",
      "Processing img  585.jpeg\n",
      "HoG shape is  (133956,)\n",
      "Processing img  586.jpeg\n",
      "HoG shape is  (133956,)\n",
      "Processing img  587.jpeg\n"
     ]
    },
    {
     "name": "stderr",
     "output_type": "stream",
     "text": [
      " 55%|█████▍    | 545/1000 [00:57<00:43, 10.43it/s]"
     ]
    },
    {
     "name": "stdout",
     "output_type": "stream",
     "text": [
      "HoG shape is  (133956,)\n",
      "Processing img  588.jpeg\n",
      "HoG shape is  (133956,)\n",
      "Processing img  589.jpeg\n",
      "HoG shape is  (133956,)\n"
     ]
    },
    {
     "name": "stderr",
     "output_type": "stream",
     "text": [
      " 55%|█████▍    | 547/1000 [00:57<00:42, 10.58it/s]"
     ]
    },
    {
     "name": "stdout",
     "output_type": "stream",
     "text": [
      "Processing img  59.jpeg\n",
      "HoG shape is  (133956,)\n",
      "Processing img  590.jpeg\n",
      "HoG shape is  (133956,)\n",
      "Processing img  591.jpeg\n"
     ]
    },
    {
     "name": "stderr",
     "output_type": "stream",
     "text": [
      " 55%|█████▍    | 549/1000 [00:57<00:44, 10.03it/s]"
     ]
    },
    {
     "name": "stdout",
     "output_type": "stream",
     "text": [
      "HoG shape is  (133956,)\n",
      "Processing img  592.jpeg\n",
      "HoG shape is  (133956,)\n",
      "Processing img  593.jpeg\n",
      "HoG shape is  (133956,)\n",
      "Processing img  594.jpeg\n"
     ]
    },
    {
     "name": "stderr",
     "output_type": "stream",
     "text": [
      " 55%|█████▌    | 553/1000 [00:57<00:43, 10.17it/s]"
     ]
    },
    {
     "name": "stdout",
     "output_type": "stream",
     "text": [
      "HoG shape is  (133956,)\n",
      "Processing img  595.jpeg\n",
      "HoG shape is  (133956,)\n",
      "Processing img  596.jpeg\n",
      "HoG shape is  (133956,)\n",
      "Processing img  597.jpeg\n",
      "HoG shape is  (133956,)\n",
      "Processing img  598.jpeg\n"
     ]
    },
    {
     "name": "stderr",
     "output_type": "stream",
     "text": [
      " 56%|█████▌    | 556/1000 [00:58<00:44,  9.94it/s]"
     ]
    },
    {
     "name": "stdout",
     "output_type": "stream",
     "text": [
      "HoG shape is  (133956,)\n",
      "Processing img  599.jpeg\n",
      "HoG shape is  (133956,)\n",
      "Processing img  6.jpeg\n",
      "HoG shape is  (133956,)\n",
      "Processing img  60.jpeg\n"
     ]
    },
    {
     "name": "stderr",
     "output_type": "stream",
     "text": [
      " 56%|█████▌    | 560/1000 [00:58<00:42, 10.40it/s]"
     ]
    },
    {
     "name": "stdout",
     "output_type": "stream",
     "text": [
      "HoG shape is  (133956,)\n",
      "Processing img  600.jpeg\n",
      "HoG shape is  (133956,)\n",
      "Processing img  601.jpeg\n",
      "HoG shape is  (133956,)\n"
     ]
    },
    {
     "name": "stderr",
     "output_type": "stream",
     "text": [
      " 56%|█████▌    | 562/1000 [00:58<00:41, 10.67it/s]"
     ]
    },
    {
     "name": "stdout",
     "output_type": "stream",
     "text": [
      "Processing img  602.jpeg\n",
      "HoG shape is  (133956,)\n",
      "Processing img  603.jpeg\n",
      "HoG shape is  (133956,)\n"
     ]
    },
    {
     "name": "stderr",
     "output_type": "stream",
     "text": [
      " 56%|█████▋    | 564/1000 [00:59<00:41, 10.42it/s]"
     ]
    },
    {
     "name": "stdout",
     "output_type": "stream",
     "text": [
      "Processing img  604.jpeg\n",
      "HoG shape is  (133956,)\n",
      "Processing img  605.jpeg\n",
      "HoG shape is  (133956,)\n"
     ]
    },
    {
     "name": "stderr",
     "output_type": "stream",
     "text": [
      " 57%|█████▋    | 566/1000 [00:59<00:40, 10.67it/s]"
     ]
    },
    {
     "name": "stdout",
     "output_type": "stream",
     "text": [
      "Processing img  606.jpeg\n",
      "HoG shape is  (133956,)\n",
      "Processing img  607.jpeg\n",
      "HoG shape is  (133956,)\n",
      "Processing img  608.jpeg\n"
     ]
    },
    {
     "name": "stderr",
     "output_type": "stream",
     "text": [
      " 57%|█████▋    | 568/1000 [00:59<00:40, 10.61it/s]"
     ]
    },
    {
     "name": "stdout",
     "output_type": "stream",
     "text": [
      "HoG shape is  (133956,)\n",
      "Processing img  609.jpeg\n",
      "HoG shape is  (133956,)\n",
      "Processing img  61.jpeg\n",
      "HoG shape is  (133956,)\n",
      "Processing img  610.jpeg\n"
     ]
    },
    {
     "name": "stderr",
     "output_type": "stream",
     "text": [
      " 57%|█████▋    | 572/1000 [00:59<00:42, 10.10it/s]"
     ]
    },
    {
     "name": "stdout",
     "output_type": "stream",
     "text": [
      "HoG shape is  (133956,)\n",
      "Processing img  611.jpeg\n",
      "HoG shape is  (133956,)\n",
      "Processing img  612.jpeg\n",
      "HoG shape is  (133956,)\n"
     ]
    },
    {
     "name": "stderr",
     "output_type": "stream",
     "text": [
      " 57%|█████▋    | 574/1000 [00:59<00:41, 10.26it/s]"
     ]
    },
    {
     "name": "stdout",
     "output_type": "stream",
     "text": [
      "Processing img  613.jpeg\n",
      "HoG shape is  (133956,)\n",
      "Processing img  614.jpeg\n",
      "HoG shape is  (133956,)\n",
      "Processing img  615.jpeg\n"
     ]
    },
    {
     "name": "stderr",
     "output_type": "stream",
     "text": [
      " 58%|█████▊    | 576/1000 [01:00<00:53,  7.96it/s]"
     ]
    },
    {
     "name": "stdout",
     "output_type": "stream",
     "text": [
      "HoG shape is  (133956,)\n",
      "Processing img  616.jpeg\n",
      "HoG shape is  (133956,)\n",
      "Processing img  617.jpeg\n"
     ]
    },
    {
     "name": "stderr",
     "output_type": "stream",
     "text": [
      " 58%|█████▊    | 578/1000 [01:00<00:53,  7.91it/s]"
     ]
    },
    {
     "name": "stdout",
     "output_type": "stream",
     "text": [
      "HoG shape is  (133956,)\n",
      "Processing img  618.jpeg\n",
      "HoG shape is  (133956,)\n",
      "Processing img  619.jpeg\n"
     ]
    },
    {
     "name": "stderr",
     "output_type": "stream",
     "text": [
      " 58%|█████▊    | 580/1000 [01:00<00:49,  8.50it/s]"
     ]
    },
    {
     "name": "stdout",
     "output_type": "stream",
     "text": [
      "HoG shape is  (133956,)\n",
      "Processing img  62.jpeg\n",
      "HoG shape is  (133956,)\n",
      "Processing img  620.jpeg\n"
     ]
    },
    {
     "name": "stderr",
     "output_type": "stream",
     "text": [
      " 58%|█████▊    | 582/1000 [01:01<00:49,  8.41it/s]"
     ]
    },
    {
     "name": "stdout",
     "output_type": "stream",
     "text": [
      "HoG shape is  (133956,)\n",
      "Processing img  621.jpeg\n",
      "HoG shape is  (133956,)\n",
      "Processing img  622.jpeg\n"
     ]
    },
    {
     "name": "stderr",
     "output_type": "stream",
     "text": [
      " 58%|█████▊    | 584/1000 [01:01<00:48,  8.61it/s]"
     ]
    },
    {
     "name": "stdout",
     "output_type": "stream",
     "text": [
      "HoG shape is  (133956,)\n",
      "Processing img  623.jpeg\n",
      "HoG shape is  (133956,)\n",
      "Processing img  624.jpeg\n",
      "HoG shape is  (133956,)\n",
      "Processing img  625.jpeg\n"
     ]
    },
    {
     "name": "stderr",
     "output_type": "stream",
     "text": [
      " 59%|█████▉    | 588/1000 [01:01<00:42,  9.78it/s]"
     ]
    },
    {
     "name": "stdout",
     "output_type": "stream",
     "text": [
      "HoG shape is  (133956,)\n",
      "Processing img  626.jpeg\n",
      "HoG shape is  (133956,)\n",
      "Processing img  627.jpeg\n",
      "HoG shape is  (133956,)\n",
      "Processing img  628.jpeg\n"
     ]
    },
    {
     "name": "stderr",
     "output_type": "stream",
     "text": [
      " 59%|█████▉    | 590/1000 [01:02<00:59,  6.85it/s]"
     ]
    },
    {
     "name": "stdout",
     "output_type": "stream",
     "text": [
      "HoG shape is  (133956,)\n",
      "Processing img  629.jpeg\n",
      "HoG shape is  (133956,)\n",
      "Processing img  63.jpeg\n"
     ]
    },
    {
     "name": "stderr",
     "output_type": "stream",
     "text": [
      " 59%|█████▉    | 592/1000 [01:02<00:53,  7.59it/s]"
     ]
    },
    {
     "name": "stdout",
     "output_type": "stream",
     "text": [
      "HoG shape is  (133956,)\n",
      "Processing img  630.jpeg\n",
      "HoG shape is  (133956,)\n",
      "Processing img  631.jpeg\n",
      "HoG shape is  (133956,)\n",
      "Processing img  632.jpeg\n"
     ]
    },
    {
     "name": "stderr",
     "output_type": "stream",
     "text": [
      " 60%|█████▉    | 596/1000 [01:02<00:44,  9.14it/s]"
     ]
    },
    {
     "name": "stdout",
     "output_type": "stream",
     "text": [
      "HoG shape is  (133956,)\n",
      "Processing img  633.jpeg\n",
      "HoG shape is  (133956,)\n",
      "Processing img  634.jpeg\n",
      "HoG shape is  (133956,)\n"
     ]
    },
    {
     "name": "stderr",
     "output_type": "stream",
     "text": [
      " 60%|█████▉    | 598/1000 [01:02<00:41,  9.77it/s]"
     ]
    },
    {
     "name": "stdout",
     "output_type": "stream",
     "text": [
      "Processing img  635.jpeg\n",
      "HoG shape is  (133956,)\n",
      "Processing img  636.jpeg\n",
      "HoG shape is  (133956,)\n"
     ]
    },
    {
     "name": "stderr",
     "output_type": "stream",
     "text": [
      " 60%|██████    | 600/1000 [01:03<00:39, 10.17it/s]"
     ]
    },
    {
     "name": "stdout",
     "output_type": "stream",
     "text": [
      "Processing img  637.jpeg\n",
      "HoG shape is  (133956,)\n",
      "Processing img  638.jpeg\n",
      "HoG shape is  (133956,)\n",
      "Processing img  639.jpeg\n"
     ]
    },
    {
     "name": "stderr",
     "output_type": "stream",
     "text": [
      " 60%|██████    | 602/1000 [01:03<00:39, 10.08it/s]"
     ]
    },
    {
     "name": "stdout",
     "output_type": "stream",
     "text": [
      "HoG shape is  (133956,)\n",
      "Processing img  64.jpeg\n",
      "HoG shape is  (133956,)\n",
      "Processing img  640.jpeg\n",
      "HoG shape is  (133956,)\n",
      "Processing img  641.jpeg\n"
     ]
    },
    {
     "name": "stderr",
     "output_type": "stream",
     "text": [
      " 60%|██████    | 605/1000 [01:03<00:47,  8.40it/s]"
     ]
    },
    {
     "name": "stdout",
     "output_type": "stream",
     "text": [
      "HoG shape is  (133956,)\n",
      "Processing img  642.jpeg\n",
      "HoG shape is  (133956,)\n",
      "Processing img  643.jpeg\n"
     ]
    },
    {
     "name": "stderr",
     "output_type": "stream",
     "text": [
      " 61%|██████    | 607/1000 [01:03<00:45,  8.61it/s]"
     ]
    },
    {
     "name": "stdout",
     "output_type": "stream",
     "text": [
      "HoG shape is  (133956,)\n",
      "Processing img  644.jpeg\n",
      "HoG shape is  (133956,)\n",
      "Processing img  645.jpeg\n",
      "HoG shape is  (133956,)\n",
      "Processing img  646.jpeg\n"
     ]
    },
    {
     "name": "stderr",
     "output_type": "stream",
     "text": [
      " 61%|██████    | 610/1000 [01:04<00:43,  9.02it/s]"
     ]
    },
    {
     "name": "stdout",
     "output_type": "stream",
     "text": [
      "HoG shape is  (133956,)\n",
      "Processing img  647.jpeg\n",
      "HoG shape is  (133956,)\n",
      "Processing img  648.jpeg\n"
     ]
    },
    {
     "name": "stderr",
     "output_type": "stream",
     "text": [
      " 61%|██████    | 612/1000 [01:04<00:41,  9.24it/s]"
     ]
    },
    {
     "name": "stdout",
     "output_type": "stream",
     "text": [
      "HoG shape is  (133956,)\n",
      "Processing img  649.jpeg\n",
      "HoG shape is  (133956,)\n",
      "Processing img  65.jpeg\n",
      "HoG shape is  (133956,)\n",
      "Processing img  650.jpeg\n"
     ]
    },
    {
     "name": "stderr",
     "output_type": "stream",
     "text": [
      " 62%|██████▏   | 616/1000 [01:04<00:37, 10.19it/s]"
     ]
    },
    {
     "name": "stdout",
     "output_type": "stream",
     "text": [
      "HoG shape is  (133956,)\n",
      "Processing img  651.jpeg\n",
      "HoG shape is  (133956,)\n",
      "Processing img  652.jpeg\n",
      "HoG shape is  (133956,)\n",
      "Processing img  653.jpeg\n"
     ]
    },
    {
     "name": "stderr",
     "output_type": "stream",
     "text": [
      " 62%|██████▏   | 618/1000 [01:05<00:38,  9.97it/s]"
     ]
    },
    {
     "name": "stdout",
     "output_type": "stream",
     "text": [
      "HoG shape is  (133956,)\n",
      "Processing img  654.jpeg\n",
      "HoG shape is  (133956,)\n",
      "Processing img  655.jpeg\n",
      "HoG shape is  (133956,)\n",
      "Processing img  656.jpeg\n"
     ]
    },
    {
     "name": "stderr",
     "output_type": "stream",
     "text": [
      " 62%|██████▏   | 620/1000 [01:05<00:39,  9.51it/s]"
     ]
    },
    {
     "name": "stdout",
     "output_type": "stream",
     "text": [
      "HoG shape is  (133956,)\n",
      "Processing img  657.jpeg\n",
      "HoG shape is  (133956,)\n"
     ]
    },
    {
     "name": "stderr",
     "output_type": "stream",
     "text": [
      " 62%|██████▏   | 622/1000 [01:05<00:46,  8.20it/s]"
     ]
    },
    {
     "name": "stdout",
     "output_type": "stream",
     "text": [
      "Processing img  658.jpeg\n",
      "HoG shape is  (133956,)\n",
      "Processing img  659.jpeg\n"
     ]
    },
    {
     "name": "stderr",
     "output_type": "stream",
     "text": [
      " 62%|██████▏   | 624/1000 [01:05<00:44,  8.51it/s]"
     ]
    },
    {
     "name": "stdout",
     "output_type": "stream",
     "text": [
      "HoG shape is  (133956,)\n",
      "Processing img  66.jpeg\n",
      "HoG shape is  (133956,)\n",
      "Processing img  660.jpeg\n"
     ]
    },
    {
     "name": "stderr",
     "output_type": "stream",
     "text": [
      " 63%|██████▎   | 626/1000 [01:06<00:47,  7.86it/s]"
     ]
    },
    {
     "name": "stdout",
     "output_type": "stream",
     "text": [
      "HoG shape is  (133956,)\n",
      "Processing img  661.jpeg\n",
      "HoG shape is  (133956,)\n",
      "Processing img  662.jpeg\n"
     ]
    },
    {
     "name": "stderr",
     "output_type": "stream",
     "text": [
      " 63%|██████▎   | 627/1000 [01:06<00:50,  7.40it/s]"
     ]
    },
    {
     "name": "stdout",
     "output_type": "stream",
     "text": [
      "HoG shape is  (133956,)\n",
      "Processing img  663.jpeg\n",
      "HoG shape is  (133956,)\n"
     ]
    },
    {
     "name": "stderr",
     "output_type": "stream",
     "text": [
      " 63%|██████▎   | 629/1000 [01:06<00:53,  6.93it/s]"
     ]
    },
    {
     "name": "stdout",
     "output_type": "stream",
     "text": [
      "Processing img  664.jpeg\n",
      "HoG shape is  (133956,)\n",
      "Processing img  665.jpeg\n"
     ]
    },
    {
     "name": "stderr",
     "output_type": "stream",
     "text": [
      " 63%|██████▎   | 631/1000 [01:06<00:46,  7.97it/s]"
     ]
    },
    {
     "name": "stdout",
     "output_type": "stream",
     "text": [
      "HoG shape is  (133956,)\n",
      "Processing img  666.jpeg\n",
      "HoG shape is  (133956,)\n",
      "Processing img  667.jpeg\n"
     ]
    },
    {
     "name": "stderr",
     "output_type": "stream",
     "text": [
      " 63%|██████▎   | 632/1000 [01:06<00:46,  7.97it/s]"
     ]
    },
    {
     "name": "stdout",
     "output_type": "stream",
     "text": [
      "HoG shape is  (133956,)\n",
      "Processing img  668.jpeg\n",
      "HoG shape is  (133956,)\n",
      "Processing img  669.jpeg\n",
      "HoG shape is  (133956,)\n"
     ]
    },
    {
     "name": "stderr",
     "output_type": "stream",
     "text": [
      " 64%|██████▎   | 636/1000 [01:07<00:39,  9.32it/s]"
     ]
    },
    {
     "name": "stdout",
     "output_type": "stream",
     "text": [
      "Processing img  67.jpeg\n",
      "HoG shape is  (133956,)\n",
      "Processing img  670.jpeg\n",
      "HoG shape is  (133956,)\n"
     ]
    },
    {
     "name": "stderr",
     "output_type": "stream",
     "text": [
      " 64%|██████▍   | 638/1000 [01:07<00:36, 10.02it/s]"
     ]
    },
    {
     "name": "stdout",
     "output_type": "stream",
     "text": [
      "Processing img  671.jpeg\n",
      "HoG shape is  (133956,)\n",
      "Processing img  672.jpeg\n",
      "HoG shape is  (133956,)\n",
      "Processing img  673.jpeg\n"
     ]
    },
    {
     "name": "stderr",
     "output_type": "stream",
     "text": [
      " 64%|██████▍   | 640/1000 [01:07<00:34, 10.31it/s]"
     ]
    },
    {
     "name": "stdout",
     "output_type": "stream",
     "text": [
      "HoG shape is  (133956,)\n",
      "Processing img  674.jpeg\n",
      "HoG shape is  (133956,)\n",
      "Processing img  675.jpeg\n",
      "HoG shape is  (133956,)\n",
      "Processing img  676.jpeg\n"
     ]
    },
    {
     "name": "stderr",
     "output_type": "stream",
     "text": [
      " 64%|██████▍   | 644/1000 [01:08<00:33, 10.58it/s]"
     ]
    },
    {
     "name": "stdout",
     "output_type": "stream",
     "text": [
      "HoG shape is  (133956,)\n",
      "Processing img  677.jpeg\n",
      "HoG shape is  (133956,)\n",
      "Processing img  678.jpeg\n",
      "HoG shape is  (133956,)\n"
     ]
    },
    {
     "name": "stderr",
     "output_type": "stream",
     "text": [
      " 65%|██████▍   | 646/1000 [01:08<00:32, 10.79it/s]"
     ]
    },
    {
     "name": "stdout",
     "output_type": "stream",
     "text": [
      "Processing img  679.jpeg\n",
      "HoG shape is  (133956,)\n",
      "Processing img  68.jpeg\n",
      "HoG shape is  (133956,)\n"
     ]
    },
    {
     "name": "stderr",
     "output_type": "stream",
     "text": [
      " 65%|██████▍   | 648/1000 [01:08<00:31, 11.11it/s]"
     ]
    },
    {
     "name": "stdout",
     "output_type": "stream",
     "text": [
      "Processing img  680.jpeg\n",
      "HoG shape is  (133956,)\n",
      "Processing img  681.jpeg\n",
      "HoG shape is  (133956,)\n",
      "Processing img  682.jpeg\n"
     ]
    },
    {
     "name": "stderr",
     "output_type": "stream",
     "text": [
      " 65%|██████▌   | 650/1000 [01:08<00:34, 10.13it/s]"
     ]
    },
    {
     "name": "stdout",
     "output_type": "stream",
     "text": [
      "HoG shape is  (133956,)\n",
      "Processing img  683.jpeg\n",
      "HoG shape is  (133956,)\n",
      "Processing img  684.jpeg\n",
      "HoG shape is  (133956,)\n",
      "Processing img  685.jpeg\n",
      "HoG shape is  (133956,)\n"
     ]
    },
    {
     "name": "stderr",
     "output_type": "stream",
     "text": [
      " 65%|██████▌   | 653/1000 [01:09<00:41,  8.42it/s]"
     ]
    },
    {
     "name": "stdout",
     "output_type": "stream",
     "text": [
      "Processing img  686.jpeg\n",
      "HoG shape is  (133956,)\n",
      "Processing img  687.jpeg\n"
     ]
    },
    {
     "name": "stderr",
     "output_type": "stream",
     "text": [
      " 65%|██████▌   | 654/1000 [01:09<00:40,  8.56it/s]"
     ]
    },
    {
     "name": "stdout",
     "output_type": "stream",
     "text": [
      "HoG shape is  (133956,)\n",
      "Processing img  688.jpeg\n",
      "HoG shape is  (133956,)\n",
      "Processing img  689.jpeg\n",
      "HoG shape is  (133956,)\n"
     ]
    },
    {
     "name": "stderr",
     "output_type": "stream",
     "text": [
      " 66%|██████▌   | 657/1000 [01:09<00:37,  9.11it/s]"
     ]
    },
    {
     "name": "stdout",
     "output_type": "stream",
     "text": [
      "Processing img  69.jpeg\n",
      "HoG shape is  (133956,)\n",
      "Processing img  690.jpeg\n",
      "HoG shape is  (133956,)\n",
      "Processing img  691.jpeg\n"
     ]
    },
    {
     "name": "stderr",
     "output_type": "stream",
     "text": [
      " 66%|██████▌   | 660/1000 [01:09<00:37,  9.00it/s]"
     ]
    },
    {
     "name": "stdout",
     "output_type": "stream",
     "text": [
      "HoG shape is  (133956,)\n",
      "Processing img  692.jpeg\n",
      "HoG shape is  (133956,)\n",
      "Processing img  693.jpeg\n"
     ]
    },
    {
     "name": "stderr",
     "output_type": "stream",
     "text": [
      " 66%|██████▌   | 662/1000 [01:09<00:34,  9.74it/s]"
     ]
    },
    {
     "name": "stdout",
     "output_type": "stream",
     "text": [
      "HoG shape is  (133956,)\n",
      "Processing img  694.jpeg\n",
      "HoG shape is  (133956,)\n",
      "Processing img  695.jpeg\n",
      "HoG shape is  (133956,)\n",
      "Processing img  696.jpeg\n"
     ]
    },
    {
     "name": "stderr",
     "output_type": "stream",
     "text": [
      " 66%|██████▋   | 665/1000 [01:10<00:34,  9.84it/s]"
     ]
    },
    {
     "name": "stdout",
     "output_type": "stream",
     "text": [
      "HoG shape is  (133956,)\n",
      "Processing img  697.jpeg\n",
      "HoG shape is  (133956,)\n",
      "Processing img  698.jpeg\n",
      "HoG shape is  (133956,)\n",
      "Processing img  699.jpeg\n"
     ]
    },
    {
     "name": "stderr",
     "output_type": "stream",
     "text": [
      " 67%|██████▋   | 669/1000 [01:10<00:31, 10.66it/s]"
     ]
    },
    {
     "name": "stdout",
     "output_type": "stream",
     "text": [
      "HoG shape is  (133956,)\n",
      "Processing img  7.jpeg\n",
      "HoG shape is  (133956,)\n",
      "Processing img  70.jpeg\n",
      "HoG shape is  (133956,)\n"
     ]
    },
    {
     "name": "stderr",
     "output_type": "stream",
     "text": [
      " 67%|██████▋   | 671/1000 [01:10<00:32, 10.22it/s]"
     ]
    },
    {
     "name": "stdout",
     "output_type": "stream",
     "text": [
      "Processing img  700.jpeg\n",
      "HoG shape is  (133956,)\n",
      "Processing img  701.jpeg\n",
      "HoG shape is  (133956,)\n"
     ]
    },
    {
     "name": "stderr",
     "output_type": "stream",
     "text": [
      " 67%|██████▋   | 673/1000 [01:11<00:32, 10.16it/s]"
     ]
    },
    {
     "name": "stdout",
     "output_type": "stream",
     "text": [
      "Processing img  702.jpeg\n",
      "HoG shape is  (133956,)\n",
      "Processing img  703.jpeg\n",
      "HoG shape is  (133956,)\n"
     ]
    },
    {
     "name": "stderr",
     "output_type": "stream",
     "text": [
      " 68%|██████▊   | 675/1000 [01:11<00:30, 10.58it/s]"
     ]
    },
    {
     "name": "stdout",
     "output_type": "stream",
     "text": [
      "Processing img  704.jpeg\n",
      "HoG shape is  (133956,)\n",
      "Processing img  705.jpeg\n",
      "HoG shape is  (133956,)\n",
      "Processing img  706.jpeg\n"
     ]
    },
    {
     "name": "stderr",
     "output_type": "stream",
     "text": [
      " 68%|██████▊   | 677/1000 [01:11<00:30, 10.63it/s]"
     ]
    },
    {
     "name": "stdout",
     "output_type": "stream",
     "text": [
      "HoG shape is  (133956,)\n",
      "Processing img  707.jpeg\n",
      "HoG shape is  (133956,)\n",
      "Processing img  708.jpeg\n",
      "HoG shape is  (133956,)\n",
      "Processing img  709.jpeg\n"
     ]
    },
    {
     "name": "stderr",
     "output_type": "stream",
     "text": [
      " 68%|██████▊   | 681/1000 [01:11<00:30, 10.42it/s]"
     ]
    },
    {
     "name": "stdout",
     "output_type": "stream",
     "text": [
      "HoG shape is  (133956,)\n",
      "Processing img  71.jpeg\n",
      "HoG shape is  (133956,)\n",
      "Processing img  710.jpeg\n",
      "HoG shape is  (133956,)\n",
      "Processing img  711.jpeg\n"
     ]
    },
    {
     "name": "stderr",
     "output_type": "stream",
     "text": [
      " 68%|██████▊   | 683/1000 [01:11<00:29, 10.73it/s]"
     ]
    },
    {
     "name": "stdout",
     "output_type": "stream",
     "text": [
      "HoG shape is  (133956,)\n",
      "Processing img  712.jpeg\n",
      "HoG shape is  (133956,)\n",
      "Processing img  713.jpeg\n",
      "HoG shape is  (133956,)\n",
      "Processing img  714.jpeg\n"
     ]
    },
    {
     "name": "stderr",
     "output_type": "stream",
     "text": [
      " 68%|██████▊   | 685/1000 [01:12<00:28, 10.91it/s]"
     ]
    },
    {
     "name": "stdout",
     "output_type": "stream",
     "text": [
      "HoG shape is  (133956,)\n",
      "Processing img  715.jpeg\n",
      "HoG shape is  (133956,)\n",
      "Processing img  716.jpeg\n",
      "HoG shape is  (133956,)\n"
     ]
    },
    {
     "name": "stderr",
     "output_type": "stream",
     "text": [
      " 69%|██████▉   | 689/1000 [01:12<00:29, 10.55it/s]"
     ]
    },
    {
     "name": "stdout",
     "output_type": "stream",
     "text": [
      "Processing img  717.jpeg\n",
      "HoG shape is  (133956,)\n",
      "Processing img  718.jpeg\n",
      "HoG shape is  (133956,)\n"
     ]
    },
    {
     "name": "stderr",
     "output_type": "stream",
     "text": [
      " 69%|██████▉   | 691/1000 [01:12<00:28, 10.81it/s]"
     ]
    },
    {
     "name": "stdout",
     "output_type": "stream",
     "text": [
      "Processing img  719.jpeg\n",
      "HoG shape is  (133956,)\n",
      "Processing img  72.jpeg\n",
      "HoG shape is  (133956,)\n",
      "Processing img  720.jpeg\n"
     ]
    },
    {
     "name": "stderr",
     "output_type": "stream",
     "text": [
      " 69%|██████▉   | 693/1000 [01:12<00:27, 10.99it/s]"
     ]
    },
    {
     "name": "stdout",
     "output_type": "stream",
     "text": [
      "HoG shape is  (133956,)\n",
      "Processing img  721.jpeg\n",
      "HoG shape is  (133956,)\n",
      "Processing img  722.jpeg\n",
      "HoG shape is  (133956,)\n",
      "Processing img  723.jpeg\n"
     ]
    },
    {
     "name": "stderr",
     "output_type": "stream",
     "text": [
      " 70%|██████▉   | 695/1000 [01:13<00:29, 10.27it/s]"
     ]
    },
    {
     "name": "stdout",
     "output_type": "stream",
     "text": [
      "HoG shape is  (133956,)\n",
      "Processing img  724.jpeg\n",
      "HoG shape is  (133956,)\n",
      "Processing img  725.jpeg\n"
     ]
    },
    {
     "name": "stderr",
     "output_type": "stream",
     "text": [
      " 70%|██████▉   | 698/1000 [01:13<00:37,  8.15it/s]"
     ]
    },
    {
     "name": "stdout",
     "output_type": "stream",
     "text": [
      "HoG shape is  (133956,)\n",
      "Processing img  726.jpeg\n",
      "HoG shape is  (133956,)\n",
      "Processing img  727.jpeg\n"
     ]
    },
    {
     "name": "stderr",
     "output_type": "stream",
     "text": [
      " 70%|███████   | 701/1000 [01:13<00:32,  9.20it/s]"
     ]
    },
    {
     "name": "stdout",
     "output_type": "stream",
     "text": [
      "HoG shape is  (133956,)\n",
      "Processing img  728.jpeg\n",
      "HoG shape is  (133956,)\n",
      "Processing img  729.jpeg\n",
      "HoG shape is  (133956,)\n"
     ]
    },
    {
     "name": "stderr",
     "output_type": "stream",
     "text": [
      " 70%|███████   | 703/1000 [01:14<00:30,  9.89it/s]"
     ]
    },
    {
     "name": "stdout",
     "output_type": "stream",
     "text": [
      "Processing img  73.jpeg\n",
      "HoG shape is  (133956,)\n",
      "Processing img  730.jpeg\n",
      "HoG shape is  (133956,)\n",
      "Processing img  731.jpeg\n"
     ]
    },
    {
     "name": "stderr",
     "output_type": "stream",
     "text": [
      " 70%|███████   | 705/1000 [01:14<00:28, 10.47it/s]"
     ]
    },
    {
     "name": "stdout",
     "output_type": "stream",
     "text": [
      "HoG shape is  (133956,)\n",
      "Processing img  732.jpeg\n",
      "HoG shape is  (133956,)\n",
      "Processing img  733.jpeg\n",
      "HoG shape is  (133956,)\n",
      "Processing img  734.jpeg\n"
     ]
    },
    {
     "name": "stderr",
     "output_type": "stream",
     "text": [
      " 71%|███████   | 709/1000 [01:14<00:27, 10.66it/s]"
     ]
    },
    {
     "name": "stdout",
     "output_type": "stream",
     "text": [
      "HoG shape is  (133956,)\n",
      "Processing img  735.jpeg\n",
      "HoG shape is  (133956,)\n",
      "Processing img  736.jpeg\n",
      "HoG shape is  (133956,)\n"
     ]
    },
    {
     "name": "stderr",
     "output_type": "stream",
     "text": [
      " 71%|███████   | 711/1000 [01:14<00:26, 11.06it/s]"
     ]
    },
    {
     "name": "stdout",
     "output_type": "stream",
     "text": [
      "Processing img  737.jpeg\n",
      "HoG shape is  (133956,)\n",
      "Processing img  738.jpeg\n",
      "HoG shape is  (133956,)\n",
      "Processing img  739.jpeg\n"
     ]
    },
    {
     "name": "stderr",
     "output_type": "stream",
     "text": [
      " 71%|███████▏  | 713/1000 [01:14<00:25, 11.15it/s]"
     ]
    },
    {
     "name": "stdout",
     "output_type": "stream",
     "text": [
      "HoG shape is  (133956,)\n",
      "Processing img  74.jpeg\n",
      "HoG shape is  (133956,)\n",
      "Processing img  740.jpeg\n",
      "HoG shape is  (133956,)\n",
      "Processing img  741.jpeg\n"
     ]
    },
    {
     "name": "stderr",
     "output_type": "stream",
     "text": [
      " 72%|███████▏  | 717/1000 [01:15<00:25, 11.30it/s]"
     ]
    },
    {
     "name": "stdout",
     "output_type": "stream",
     "text": [
      "HoG shape is  (133956,)\n",
      "Processing img  742.jpeg\n",
      "HoG shape is  (133956,)\n",
      "Processing img  743.jpeg\n",
      "HoG shape is  (133956,)\n",
      "Processing img  744.jpeg\n"
     ]
    },
    {
     "name": "stderr",
     "output_type": "stream",
     "text": [
      " 72%|███████▏  | 719/1000 [01:15<00:25, 11.21it/s]"
     ]
    },
    {
     "name": "stdout",
     "output_type": "stream",
     "text": [
      "HoG shape is  (133956,)\n",
      "Processing img  745.jpeg\n",
      "HoG shape is  (133956,)\n",
      "Processing img  746.jpeg\n",
      "HoG shape is  (133956,)\n",
      "Processing img  747.jpeg\n"
     ]
    },
    {
     "name": "stderr",
     "output_type": "stream",
     "text": [
      " 72%|███████▏  | 723/1000 [01:15<00:24, 11.12it/s]"
     ]
    },
    {
     "name": "stdout",
     "output_type": "stream",
     "text": [
      "HoG shape is  (133956,)\n",
      "Processing img  748.jpeg\n",
      "HoG shape is  (133956,)\n",
      "Processing img  749.jpeg\n",
      "HoG shape is  (133956,)\n",
      "Processing img  75.jpeg\n"
     ]
    },
    {
     "name": "stderr",
     "output_type": "stream",
     "text": [
      " 72%|███████▎  | 725/1000 [01:16<00:24, 11.17it/s]"
     ]
    },
    {
     "name": "stdout",
     "output_type": "stream",
     "text": [
      "HoG shape is  (133956,)\n",
      "Processing img  750.jpeg\n",
      "HoG shape is  (133956,)\n",
      "Processing img  751.jpeg\n"
     ]
    },
    {
     "name": "stderr",
     "output_type": "stream",
     "text": [
      " 73%|███████▎  | 727/1000 [01:16<00:30,  9.00it/s]"
     ]
    },
    {
     "name": "stdout",
     "output_type": "stream",
     "text": [
      "HoG shape is  (133956,)\n",
      "Processing img  752.jpeg\n",
      "HoG shape is  (133956,)\n",
      "Processing img  753.jpeg\n",
      "HoG shape is  (133956,)\n",
      "Processing img  754.jpeg\n"
     ]
    },
    {
     "name": "stderr",
     "output_type": "stream",
     "text": [
      " 73%|███████▎  | 731/1000 [01:16<00:27,  9.77it/s]"
     ]
    },
    {
     "name": "stdout",
     "output_type": "stream",
     "text": [
      "HoG shape is  (133956,)\n",
      "Processing img  755.jpeg\n",
      "HoG shape is  (133956,)\n",
      "Processing img  756.jpeg\n",
      "HoG shape is  (133956,)\n",
      "Processing img  757.jpeg\n"
     ]
    },
    {
     "name": "stderr",
     "output_type": "stream",
     "text": [
      " 73%|███████▎  | 733/1000 [01:16<00:26, 10.18it/s]"
     ]
    },
    {
     "name": "stdout",
     "output_type": "stream",
     "text": [
      "HoG shape is  (133956,)\n",
      "Processing img  758.jpeg\n",
      "HoG shape is  (133956,)\n",
      "Processing img  759.jpeg\n",
      "HoG shape is  (133956,)\n",
      "Processing img  76.jpeg\n"
     ]
    },
    {
     "name": "stderr",
     "output_type": "stream",
     "text": [
      " 74%|███████▎  | 737/1000 [01:17<00:24, 10.82it/s]"
     ]
    },
    {
     "name": "stdout",
     "output_type": "stream",
     "text": [
      "HoG shape is  (133956,)\n",
      "Processing img  760.jpeg\n",
      "HoG shape is  (133956,)\n",
      "Processing img  761.jpeg\n",
      "HoG shape is  (133956,)\n",
      "Processing img  762.jpeg\n"
     ]
    },
    {
     "name": "stderr",
     "output_type": "stream",
     "text": [
      " 74%|███████▍  | 739/1000 [01:17<00:23, 11.01it/s]"
     ]
    },
    {
     "name": "stdout",
     "output_type": "stream",
     "text": [
      "HoG shape is  (133956,)\n",
      "Processing img  763.jpeg\n",
      "HoG shape is  (133956,)\n",
      "Processing img  764.jpeg\n",
      "HoG shape is  (133956,)\n",
      "Processing img  765.jpeg\n"
     ]
    },
    {
     "name": "stderr",
     "output_type": "stream",
     "text": [
      " 74%|███████▍  | 743/1000 [01:17<00:24, 10.64it/s]"
     ]
    },
    {
     "name": "stdout",
     "output_type": "stream",
     "text": [
      "HoG shape is  (133956,)\n",
      "Processing img  766.jpeg\n",
      "HoG shape is  (133956,)\n",
      "Processing img  767.jpeg\n",
      "HoG shape is  (133956,)\n",
      "Processing img  768.jpeg\n",
      "HoG shape is  (133956,)\n",
      "Processing img  769.jpeg\n"
     ]
    },
    {
     "name": "stderr",
     "output_type": "stream",
     "text": [
      " 75%|███████▍  | 746/1000 [01:18<00:27,  9.22it/s]"
     ]
    },
    {
     "name": "stdout",
     "output_type": "stream",
     "text": [
      "HoG shape is  (133956,)\n",
      "Processing img  77.jpeg\n",
      "HoG shape is  (133956,)\n",
      "Processing img  770.jpeg\n",
      "HoG shape is  (133956,)\n",
      "Processing img  771.jpeg\n"
     ]
    },
    {
     "name": "stderr",
     "output_type": "stream",
     "text": [
      " 75%|███████▌  | 750/1000 [01:18<00:24, 10.17it/s]"
     ]
    },
    {
     "name": "stdout",
     "output_type": "stream",
     "text": [
      "HoG shape is  (133956,)\n",
      "Processing img  772.jpeg\n",
      "HoG shape is  (133956,)\n",
      "Processing img  773.jpeg\n",
      "HoG shape is  (133956,)\n",
      "Processing img  774.jpeg\n"
     ]
    },
    {
     "name": "stderr",
     "output_type": "stream",
     "text": [
      " 75%|███████▌  | 752/1000 [01:18<00:23, 10.42it/s]"
     ]
    },
    {
     "name": "stdout",
     "output_type": "stream",
     "text": [
      "HoG shape is  (133956,)\n",
      "Processing img  775.jpeg\n",
      "HoG shape is  (133956,)\n",
      "Processing img  776.jpeg\n",
      "HoG shape is  (133956,)\n",
      "Processing img  777.jpeg\n"
     ]
    },
    {
     "name": "stderr",
     "output_type": "stream",
     "text": [
      " 76%|███████▌  | 756/1000 [01:19<00:22, 10.80it/s]"
     ]
    },
    {
     "name": "stdout",
     "output_type": "stream",
     "text": [
      "HoG shape is  (133956,)\n",
      "Processing img  778.jpeg\n",
      "HoG shape is  (133956,)\n",
      "Processing img  779.jpeg\n",
      "HoG shape is  (133956,)\n"
     ]
    },
    {
     "name": "stderr",
     "output_type": "stream",
     "text": [
      " 76%|███████▌  | 758/1000 [01:19<00:22, 10.83it/s]"
     ]
    },
    {
     "name": "stdout",
     "output_type": "stream",
     "text": [
      "Processing img  78.jpeg\n",
      "HoG shape is  (133956,)\n",
      "Processing img  780.jpeg\n",
      "HoG shape is  (133956,)\n",
      "Processing img  781.jpeg\n"
     ]
    },
    {
     "name": "stderr",
     "output_type": "stream",
     "text": [
      " 76%|███████▌  | 760/1000 [01:19<00:21, 11.08it/s]"
     ]
    },
    {
     "name": "stdout",
     "output_type": "stream",
     "text": [
      "HoG shape is  (133956,)\n",
      "Processing img  782.jpeg\n",
      "HoG shape is  (133956,)\n",
      "Processing img  783.jpeg\n",
      "HoG shape is  (133956,)\n",
      "Processing img  784.jpeg\n"
     ]
    },
    {
     "name": "stderr",
     "output_type": "stream",
     "text": [
      " 76%|███████▌  | 762/1000 [01:19<00:21, 11.23it/s]"
     ]
    },
    {
     "name": "stdout",
     "output_type": "stream",
     "text": [
      "HoG shape is  (133956,)\n",
      "Processing img  785.jpeg\n"
     ]
    },
    {
     "name": "stderr",
     "output_type": "stream",
     "text": [
      " 76%|███████▋  | 764/1000 [01:19<00:26,  8.98it/s]"
     ]
    },
    {
     "name": "stdout",
     "output_type": "stream",
     "text": [
      "HoG shape is  (133956,)\n",
      "Processing img  786.jpeg\n",
      "HoG shape is  (133956,)\n",
      "Processing img  787.jpeg\n"
     ]
    },
    {
     "name": "stderr",
     "output_type": "stream",
     "text": [
      " 77%|███████▋  | 767/1000 [01:20<00:24,  9.59it/s]"
     ]
    },
    {
     "name": "stdout",
     "output_type": "stream",
     "text": [
      "HoG shape is  (133956,)\n",
      "Processing img  788.jpeg\n",
      "HoG shape is  (133956,)\n",
      "Processing img  789.jpeg\n",
      "HoG shape is  (133956,)\n"
     ]
    },
    {
     "name": "stderr",
     "output_type": "stream",
     "text": [
      " 77%|███████▋  | 769/1000 [01:20<00:23,  9.83it/s]"
     ]
    },
    {
     "name": "stdout",
     "output_type": "stream",
     "text": [
      "Processing img  79.jpeg\n",
      "HoG shape is  (133956,)\n",
      "Processing img  790.jpeg\n",
      "HoG shape is  (133956,)\n"
     ]
    },
    {
     "name": "stderr",
     "output_type": "stream",
     "text": [
      " 77%|███████▋  | 771/1000 [01:20<00:22, 10.28it/s]"
     ]
    },
    {
     "name": "stdout",
     "output_type": "stream",
     "text": [
      "Processing img  791.jpeg\n",
      "HoG shape is  (133956,)\n",
      "Processing img  792.jpeg\n",
      "HoG shape is  (133956,)\n",
      "Processing img  793.jpeg\n"
     ]
    },
    {
     "name": "stderr",
     "output_type": "stream",
     "text": [
      " 77%|███████▋  | 773/1000 [01:20<00:21, 10.58it/s]"
     ]
    },
    {
     "name": "stdout",
     "output_type": "stream",
     "text": [
      "HoG shape is  (133956,)\n",
      "Processing img  794.jpeg\n",
      "HoG shape is  (133956,)\n",
      "Processing img  795.jpeg\n",
      "HoG shape is  (133956,)\n",
      "Processing img  796.jpeg\n"
     ]
    },
    {
     "name": "stderr",
     "output_type": "stream",
     "text": [
      " 78%|███████▊  | 777/1000 [01:21<00:20, 10.76it/s]"
     ]
    },
    {
     "name": "stdout",
     "output_type": "stream",
     "text": [
      "HoG shape is  (133956,)\n",
      "Processing img  797.jpeg\n",
      "HoG shape is  (133956,)\n",
      "Processing img  798.jpeg\n",
      "HoG shape is  (133956,)\n",
      "Processing img  799.jpeg\n"
     ]
    },
    {
     "name": "stderr",
     "output_type": "stream",
     "text": [
      " 78%|███████▊  | 779/1000 [01:21<00:20, 10.92it/s]"
     ]
    },
    {
     "name": "stdout",
     "output_type": "stream",
     "text": [
      "HoG shape is  (133956,)\n",
      "Processing img  8.jpeg\n",
      "HoG shape is  (133956,)\n",
      "Processing img  80.jpeg\n"
     ]
    },
    {
     "name": "stderr",
     "output_type": "stream",
     "text": [
      " 78%|███████▊  | 781/1000 [01:22<00:44,  4.87it/s]"
     ]
    },
    {
     "name": "stdout",
     "output_type": "stream",
     "text": [
      "HoG shape is  (133956,)\n",
      "Processing img  800.jpeg\n",
      "HoG shape is  (133956,)\n",
      "Processing img  801.jpeg\n",
      "HoG shape is  (133956,)\n",
      "Processing img  802.jpeg\n"
     ]
    },
    {
     "name": "stderr",
     "output_type": "stream",
     "text": [
      " 78%|███████▊  | 784/1000 [01:22<00:35,  6.16it/s]"
     ]
    },
    {
     "name": "stdout",
     "output_type": "stream",
     "text": [
      "HoG shape is  (133956,)\n",
      "Processing img  803.jpeg\n",
      "HoG shape is  (133956,)\n",
      "Processing img  804.jpeg\n",
      "HoG shape is  (133956,)\n",
      "Processing img  805.jpeg\n"
     ]
    },
    {
     "name": "stderr",
     "output_type": "stream",
     "text": [
      " 79%|███████▊  | 787/1000 [01:22<00:28,  7.37it/s]"
     ]
    },
    {
     "name": "stdout",
     "output_type": "stream",
     "text": [
      "HoG shape is  (133956,)\n",
      "Processing img  806.jpeg\n",
      "HoG shape is  (133956,)\n",
      "Processing img  807.jpeg\n"
     ]
    },
    {
     "name": "stderr",
     "output_type": "stream",
     "text": [
      " 79%|███████▉  | 789/1000 [01:23<00:27,  7.75it/s]"
     ]
    },
    {
     "name": "stdout",
     "output_type": "stream",
     "text": [
      "HoG shape is  (133956,)\n",
      "Processing img  808.jpeg\n",
      "HoG shape is  (133956,)\n",
      "Processing img  809.jpeg\n"
     ]
    },
    {
     "name": "stderr",
     "output_type": "stream",
     "text": [
      " 79%|███████▉  | 792/1000 [01:23<00:22,  9.05it/s]"
     ]
    },
    {
     "name": "stdout",
     "output_type": "stream",
     "text": [
      "HoG shape is  (133956,)\n",
      "Processing img  81.jpeg\n",
      "HoG shape is  (133956,)\n",
      "Processing img  810.jpeg\n",
      "HoG shape is  (133956,)\n"
     ]
    },
    {
     "name": "stderr",
     "output_type": "stream",
     "text": [
      " 79%|███████▉  | 794/1000 [01:23<00:22,  9.22it/s]"
     ]
    },
    {
     "name": "stdout",
     "output_type": "stream",
     "text": [
      "Processing img  811.jpeg\n",
      "HoG shape is  (133956,)\n",
      "Processing img  812.jpeg\n",
      "HoG shape is  (133956,)\n"
     ]
    },
    {
     "name": "stderr",
     "output_type": "stream",
     "text": [
      " 80%|███████▉  | 795/1000 [01:23<00:25,  7.89it/s]"
     ]
    },
    {
     "name": "stdout",
     "output_type": "stream",
     "text": [
      "Processing img  813.jpeg\n",
      "HoG shape is  (133956,)\n",
      "Processing img  814.jpeg\n"
     ]
    },
    {
     "name": "stderr",
     "output_type": "stream",
     "text": [
      " 80%|███████▉  | 798/1000 [01:24<00:22,  8.94it/s]"
     ]
    },
    {
     "name": "stdout",
     "output_type": "stream",
     "text": [
      "HoG shape is  (133956,)\n",
      "Processing img  815.jpeg\n",
      "HoG shape is  (133956,)\n",
      "Processing img  816.jpeg\n",
      "HoG shape is  (133956,)\n"
     ]
    },
    {
     "name": "stderr",
     "output_type": "stream",
     "text": [
      " 80%|████████  | 800/1000 [01:24<00:21,  9.38it/s]"
     ]
    },
    {
     "name": "stdout",
     "output_type": "stream",
     "text": [
      "Processing img  817.jpeg\n",
      "HoG shape is  (133956,)\n",
      "Processing img  818.jpeg\n",
      "HoG shape is  (133956,)\n"
     ]
    },
    {
     "name": "stderr",
     "output_type": "stream",
     "text": [
      " 80%|████████  | 801/1000 [01:24<00:20,  9.49it/s]"
     ]
    },
    {
     "name": "stdout",
     "output_type": "stream",
     "text": [
      "Processing img  819.jpeg\n",
      "HoG shape is  (133956,)\n",
      "Processing img  82.jpeg\n"
     ]
    },
    {
     "name": "stderr",
     "output_type": "stream",
     "text": [
      " 80%|████████  | 803/1000 [01:24<00:21,  9.34it/s]"
     ]
    },
    {
     "name": "stdout",
     "output_type": "stream",
     "text": [
      "HoG shape is  (133956,)\n",
      "Processing img  820.jpeg\n",
      "HoG shape is  (133956,)\n",
      "Processing img  821.jpeg\n",
      "HoG shape is  (133956,)\n",
      "Processing img  822.jpeg\n"
     ]
    },
    {
     "name": "stderr",
     "output_type": "stream",
     "text": [
      " 81%|████████  | 807/1000 [01:24<00:18, 10.27it/s]"
     ]
    },
    {
     "name": "stdout",
     "output_type": "stream",
     "text": [
      "HoG shape is  (133956,)\n",
      "Processing img  823.jpeg\n",
      "HoG shape is  (133956,)\n",
      "Processing img  824.jpeg\n",
      "HoG shape is  (133956,)\n"
     ]
    },
    {
     "name": "stderr",
     "output_type": "stream",
     "text": [
      " 81%|████████  | 809/1000 [01:25<00:17, 10.85it/s]"
     ]
    },
    {
     "name": "stdout",
     "output_type": "stream",
     "text": [
      "Processing img  825.jpeg\n",
      "HoG shape is  (133956,)\n",
      "Processing img  826.jpeg\n",
      "HoG shape is  (133956,)\n",
      "Processing img  827.jpeg\n"
     ]
    },
    {
     "name": "stderr",
     "output_type": "stream",
     "text": [
      " 81%|████████  | 811/1000 [01:25<00:17, 10.87it/s]"
     ]
    },
    {
     "name": "stdout",
     "output_type": "stream",
     "text": [
      "HoG shape is  (133956,)\n",
      "Processing img  828.jpeg\n",
      "HoG shape is  (133956,)\n",
      "Processing img  829.jpeg\n"
     ]
    },
    {
     "name": "stderr",
     "output_type": "stream",
     "text": [
      " 81%|████████▏ | 813/1000 [01:25<00:21,  8.90it/s]"
     ]
    },
    {
     "name": "stdout",
     "output_type": "stream",
     "text": [
      "HoG shape is  (133956,)\n",
      "Processing img  83.jpeg\n",
      "HoG shape is  (133956,)\n",
      "Processing img  830.jpeg\n"
     ]
    },
    {
     "name": "stderr",
     "output_type": "stream",
     "text": [
      " 82%|████████▏ | 816/1000 [01:25<00:18,  9.73it/s]"
     ]
    },
    {
     "name": "stdout",
     "output_type": "stream",
     "text": [
      "HoG shape is  (133956,)\n",
      "Processing img  831.jpeg\n",
      "HoG shape is  (133956,)\n",
      "Processing img  832.jpeg\n",
      "HoG shape is  (133956,)\n",
      "Processing img  833.jpeg\n"
     ]
    },
    {
     "name": "stderr",
     "output_type": "stream",
     "text": [
      " 82%|████████▏ | 818/1000 [01:26<00:17, 10.23it/s]"
     ]
    },
    {
     "name": "stdout",
     "output_type": "stream",
     "text": [
      "HoG shape is  (133956,)\n",
      "Processing img  834.jpeg\n",
      "HoG shape is  (133956,)\n",
      "Processing img  835.jpeg\n",
      "HoG shape is  (133956,)\n",
      "Processing img  836.jpeg\n"
     ]
    },
    {
     "name": "stderr",
     "output_type": "stream",
     "text": [
      " 82%|████████▏ | 820/1000 [01:26<00:17, 10.47it/s]"
     ]
    },
    {
     "name": "stdout",
     "output_type": "stream",
     "text": [
      "HoG shape is  (133956,)\n",
      "Processing img  837.jpeg\n",
      "HoG shape is  (133956,)\n",
      "Processing img  838.jpeg\n",
      "HoG shape is  (133956,)\n"
     ]
    },
    {
     "name": "stderr",
     "output_type": "stream",
     "text": [
      " 82%|████████▏ | 824/1000 [01:26<00:16, 10.77it/s]"
     ]
    },
    {
     "name": "stdout",
     "output_type": "stream",
     "text": [
      "Processing img  839.jpeg\n",
      "HoG shape is  (133956,)\n",
      "Processing img  84.jpeg\n",
      "HoG shape is  (133956,)\n",
      "Processing img  840.jpeg\n"
     ]
    },
    {
     "name": "stderr",
     "output_type": "stream",
     "text": [
      " 83%|████████▎ | 826/1000 [01:26<00:15, 10.98it/s]"
     ]
    },
    {
     "name": "stdout",
     "output_type": "stream",
     "text": [
      "HoG shape is  (133956,)\n",
      "Processing img  841.jpeg\n",
      "HoG shape is  (133956,)\n",
      "Processing img  842.jpeg\n",
      "HoG shape is  (133956,)\n",
      "Processing img  843.jpeg\n"
     ]
    },
    {
     "name": "stderr",
     "output_type": "stream",
     "text": [
      " 83%|████████▎ | 828/1000 [01:27<00:15, 11.04it/s]"
     ]
    },
    {
     "name": "stdout",
     "output_type": "stream",
     "text": [
      "HoG shape is  (133956,)\n",
      "Processing img  844.jpeg\n",
      "HoG shape is  (133956,)\n",
      "Processing img  845.jpeg\n"
     ]
    },
    {
     "name": "stderr",
     "output_type": "stream",
     "text": [
      " 83%|████████▎ | 831/1000 [01:27<00:18,  9.30it/s]"
     ]
    },
    {
     "name": "stdout",
     "output_type": "stream",
     "text": [
      "HoG shape is  (133956,)\n",
      "Processing img  846.jpeg\n",
      "HoG shape is  (133956,)\n",
      "Processing img  847.jpeg\n"
     ]
    },
    {
     "name": "stderr",
     "output_type": "stream",
     "text": [
      " 83%|████████▎ | 833/1000 [01:27<00:18,  9.20it/s]"
     ]
    },
    {
     "name": "stdout",
     "output_type": "stream",
     "text": [
      "HoG shape is  (133956,)\n",
      "Processing img  848.jpeg\n",
      "HoG shape is  (133956,)\n",
      "Processing img  849.jpeg\n",
      "HoG shape is  (133956,)\n",
      "Processing img  85.jpeg\n"
     ]
    },
    {
     "name": "stderr",
     "output_type": "stream",
     "text": [
      " 84%|████████▎ | 837/1000 [01:27<00:15, 10.47it/s]"
     ]
    },
    {
     "name": "stdout",
     "output_type": "stream",
     "text": [
      "HoG shape is  (133956,)\n",
      "Processing img  850.jpeg\n",
      "HoG shape is  (133956,)\n",
      "Processing img  851.jpeg\n",
      "HoG shape is  (133956,)\n",
      "Processing img  852.jpeg\n"
     ]
    },
    {
     "name": "stderr",
     "output_type": "stream",
     "text": [
      " 84%|████████▍ | 839/1000 [01:28<00:14, 11.02it/s]"
     ]
    },
    {
     "name": "stdout",
     "output_type": "stream",
     "text": [
      "HoG shape is  (133956,)\n",
      "Processing img  853.jpeg\n",
      "HoG shape is  (133956,)\n",
      "Processing img  854.jpeg\n",
      "HoG shape is  (133956,)\n",
      "Processing img  855.jpeg\n"
     ]
    },
    {
     "name": "stderr",
     "output_type": "stream",
     "text": [
      " 84%|████████▍ | 843/1000 [01:28<00:14, 11.16it/s]"
     ]
    },
    {
     "name": "stdout",
     "output_type": "stream",
     "text": [
      "HoG shape is  (133956,)\n",
      "Processing img  856.jpeg\n",
      "HoG shape is  (133956,)\n",
      "Processing img  857.jpeg\n",
      "HoG shape is  (133956,)\n"
     ]
    },
    {
     "name": "stderr",
     "output_type": "stream",
     "text": [
      " 84%|████████▍ | 845/1000 [01:28<00:14, 10.63it/s]"
     ]
    },
    {
     "name": "stdout",
     "output_type": "stream",
     "text": [
      "Processing img  858.jpeg\n",
      "HoG shape is  (133956,)\n",
      "Processing img  859.jpeg\n",
      "HoG shape is  (133956,)\n",
      "Processing img  86.jpeg\n",
      "HoG shape is  (133956,)\n",
      "Processing img  860.jpeg\n"
     ]
    },
    {
     "name": "stderr",
     "output_type": "stream",
     "text": [
      " 85%|████████▍ | 849/1000 [01:29<00:16,  9.41it/s]"
     ]
    },
    {
     "name": "stdout",
     "output_type": "stream",
     "text": [
      "HoG shape is  (133956,)\n",
      "Processing img  861.jpeg\n",
      "HoG shape is  (133956,)\n",
      "Processing img  862.jpeg\n",
      "HoG shape is  (133956,)\n",
      "Processing img  863.jpeg\n"
     ]
    },
    {
     "name": "stderr",
     "output_type": "stream",
     "text": [
      " 85%|████████▌ | 851/1000 [01:29<00:14, 10.01it/s]"
     ]
    },
    {
     "name": "stdout",
     "output_type": "stream",
     "text": [
      "HoG shape is  (133956,)\n",
      "Processing img  864.jpeg\n",
      "HoG shape is  (133956,)\n",
      "Processing img  865.jpeg\n",
      "HoG shape is  (133956,)\n",
      "Processing img  866.jpeg\n"
     ]
    },
    {
     "name": "stderr",
     "output_type": "stream",
     "text": [
      " 86%|████████▌ | 855/1000 [01:29<00:13, 10.81it/s]"
     ]
    },
    {
     "name": "stdout",
     "output_type": "stream",
     "text": [
      "HoG shape is  (133956,)\n",
      "Processing img  867.jpeg\n",
      "HoG shape is  (133956,)\n",
      "Processing img  868.jpeg\n",
      "HoG shape is  (133956,)\n",
      "Processing img  869.jpeg\n"
     ]
    },
    {
     "name": "stderr",
     "output_type": "stream",
     "text": [
      " 86%|████████▌ | 857/1000 [01:29<00:13, 10.70it/s]"
     ]
    },
    {
     "name": "stdout",
     "output_type": "stream",
     "text": [
      "HoG shape is  (133956,)\n",
      "Processing img  87.jpeg\n",
      "HoG shape is  (133956,)\n",
      "Processing img  870.jpeg\n",
      "HoG shape is  (133956,)\n",
      "Processing img  871.jpeg\n"
     ]
    },
    {
     "name": "stderr",
     "output_type": "stream",
     "text": [
      " 86%|████████▌ | 859/1000 [01:30<00:13, 10.54it/s]"
     ]
    },
    {
     "name": "stdout",
     "output_type": "stream",
     "text": [
      "HoG shape is  (133956,)\n",
      "Processing img  872.jpeg\n",
      "HoG shape is  (133956,)\n",
      "Processing img  873.jpeg\n",
      "HoG shape is  (133956,)\n"
     ]
    },
    {
     "name": "stderr",
     "output_type": "stream",
     "text": [
      " 86%|████████▋ | 863/1000 [01:30<00:12, 10.72it/s]"
     ]
    },
    {
     "name": "stdout",
     "output_type": "stream",
     "text": [
      "Processing img  874.jpeg\n",
      "HoG shape is  (133956,)\n",
      "Processing img  875.jpeg\n",
      "HoG shape is  (133956,)\n",
      "Processing img  876.jpeg\n"
     ]
    },
    {
     "name": "stderr",
     "output_type": "stream",
     "text": [
      " 86%|████████▋ | 865/1000 [01:30<00:16,  8.01it/s]"
     ]
    },
    {
     "name": "stdout",
     "output_type": "stream",
     "text": [
      "HoG shape is  (133956,)\n",
      "Processing img  877.jpeg\n",
      "HoG shape is  (133956,)\n",
      "Processing img  878.jpeg\n"
     ]
    },
    {
     "name": "stderr",
     "output_type": "stream",
     "text": [
      " 87%|████████▋ | 867/1000 [01:31<00:16,  8.14it/s]"
     ]
    },
    {
     "name": "stdout",
     "output_type": "stream",
     "text": [
      "HoG shape is  (133956,)\n",
      "Processing img  879.jpeg\n",
      "HoG shape is  (133956,)\n",
      "Processing img  88.jpeg\n",
      "HoG shape is  (133956,)\n",
      "Processing img  880.jpeg\n"
     ]
    },
    {
     "name": "stderr",
     "output_type": "stream",
     "text": [
      " 87%|████████▋ | 870/1000 [01:31<00:14,  8.88it/s]"
     ]
    },
    {
     "name": "stdout",
     "output_type": "stream",
     "text": [
      "HoG shape is  (133956,)\n",
      "Processing img  881.jpeg\n",
      "HoG shape is  (133956,)\n",
      "Processing img  882.jpeg\n",
      "HoG shape is  (133956,)\n",
      "Processing img  883.jpeg\n"
     ]
    },
    {
     "name": "stderr",
     "output_type": "stream",
     "text": [
      " 87%|████████▋ | 874/1000 [01:31<00:12,  9.73it/s]"
     ]
    },
    {
     "name": "stdout",
     "output_type": "stream",
     "text": [
      "HoG shape is  (133956,)\n",
      "Processing img  884.jpeg\n",
      "HoG shape is  (133956,)\n",
      "Processing img  885.jpeg\n",
      "HoG shape is  (133956,)\n"
     ]
    },
    {
     "name": "stderr",
     "output_type": "stream",
     "text": [
      " 88%|████████▊ | 876/1000 [01:31<00:12,  9.85it/s]"
     ]
    },
    {
     "name": "stdout",
     "output_type": "stream",
     "text": [
      "Processing img  886.jpeg\n",
      "HoG shape is  (133956,)\n",
      "Processing img  887.jpeg\n",
      "HoG shape is  (133956,)\n"
     ]
    },
    {
     "name": "stderr",
     "output_type": "stream",
     "text": [
      " 88%|████████▊ | 877/1000 [01:32<00:12,  9.78it/s]"
     ]
    },
    {
     "name": "stdout",
     "output_type": "stream",
     "text": [
      "Processing img  888.jpeg\n",
      "HoG shape is  (133956,)\n",
      "Processing img  889.jpeg\n",
      "HoG shape is  (133956,)\n",
      "Processing img  89.jpeg\n",
      "HoG shape is  (133956,)\n"
     ]
    },
    {
     "name": "stderr",
     "output_type": "stream",
     "text": [
      " 88%|████████▊ | 880/1000 [01:32<00:14,  8.38it/s]"
     ]
    },
    {
     "name": "stdout",
     "output_type": "stream",
     "text": [
      "Processing img  890.jpeg\n",
      "HoG shape is  (133956,)\n",
      "Processing img  891.jpeg\n"
     ]
    },
    {
     "name": "stderr",
     "output_type": "stream",
     "text": [
      " 88%|████████▊ | 882/1000 [01:32<00:13,  8.66it/s]"
     ]
    },
    {
     "name": "stdout",
     "output_type": "stream",
     "text": [
      "HoG shape is  (133956,)\n",
      "Processing img  892.jpeg\n",
      "HoG shape is  (133956,)\n",
      "Processing img  893.jpeg\n"
     ]
    },
    {
     "name": "stderr",
     "output_type": "stream",
     "text": [
      " 88%|████████▊ | 884/1000 [01:32<00:13,  8.90it/s]"
     ]
    },
    {
     "name": "stdout",
     "output_type": "stream",
     "text": [
      "HoG shape is  (133956,)\n",
      "Processing img  894.jpeg\n",
      "HoG shape is  (133956,)\n",
      "Processing img  895.jpeg\n"
     ]
    },
    {
     "name": "stderr",
     "output_type": "stream",
     "text": [
      " 89%|████████▊ | 886/1000 [01:33<00:13,  8.28it/s]"
     ]
    },
    {
     "name": "stdout",
     "output_type": "stream",
     "text": [
      "HoG shape is  (133956,)\n",
      "Processing img  896.jpeg\n",
      "HoG shape is  (133956,)\n",
      "Processing img  897.jpeg\n"
     ]
    },
    {
     "name": "stderr",
     "output_type": "stream",
     "text": [
      " 89%|████████▉ | 888/1000 [01:33<00:12,  8.72it/s]"
     ]
    },
    {
     "name": "stdout",
     "output_type": "stream",
     "text": [
      "HoG shape is  (133956,)\n",
      "Processing img  898.jpeg\n",
      "HoG shape is  (133956,)\n",
      "Processing img  899.jpeg\n"
     ]
    },
    {
     "name": "stderr",
     "output_type": "stream",
     "text": [
      " 89%|████████▉ | 890/1000 [01:33<00:12,  8.73it/s]"
     ]
    },
    {
     "name": "stdout",
     "output_type": "stream",
     "text": [
      "HoG shape is  (133956,)\n",
      "Processing img  9.jpeg\n",
      "HoG shape is  (133956,)\n",
      "Processing img  90.jpeg\n"
     ]
    },
    {
     "name": "stderr",
     "output_type": "stream",
     "text": [
      " 89%|████████▉ | 892/1000 [01:33<00:11,  9.34it/s]"
     ]
    },
    {
     "name": "stdout",
     "output_type": "stream",
     "text": [
      "HoG shape is  (133956,)\n",
      "Processing img  900.jpeg\n",
      "HoG shape is  (133956,)\n",
      "Processing img  901.jpeg\n"
     ]
    },
    {
     "name": "stderr",
     "output_type": "stream",
     "text": [
      " 89%|████████▉ | 894/1000 [01:34<00:14,  7.19it/s]"
     ]
    },
    {
     "name": "stdout",
     "output_type": "stream",
     "text": [
      "HoG shape is  (133956,)\n",
      "Processing img  902.jpeg\n",
      "HoG shape is  (133956,)\n",
      "Processing img  903.jpeg\n"
     ]
    },
    {
     "name": "stderr",
     "output_type": "stream",
     "text": [
      " 90%|████████▉ | 896/1000 [01:34<00:13,  7.81it/s]"
     ]
    },
    {
     "name": "stdout",
     "output_type": "stream",
     "text": [
      "HoG shape is  (133956,)\n",
      "Processing img  904.jpeg\n",
      "HoG shape is  (133956,)\n",
      "Processing img  905.jpeg\n",
      "HoG shape is  (133956,)\n",
      "Processing img  906.jpeg\n"
     ]
    },
    {
     "name": "stderr",
     "output_type": "stream",
     "text": [
      " 90%|█████████ | 900/1000 [01:34<00:10,  9.78it/s]"
     ]
    },
    {
     "name": "stdout",
     "output_type": "stream",
     "text": [
      "HoG shape is  (133956,)\n",
      "Processing img  907.jpeg\n",
      "HoG shape is  (133956,)\n",
      "Processing img  908.jpeg\n",
      "HoG shape is  (133956,)\n",
      "Processing img  909.jpeg\n"
     ]
    },
    {
     "name": "stderr",
     "output_type": "stream",
     "text": [
      " 90%|█████████ | 902/1000 [01:35<00:09,  9.91it/s]"
     ]
    },
    {
     "name": "stdout",
     "output_type": "stream",
     "text": [
      "HoG shape is  (133956,)\n",
      "Processing img  91.jpeg\n",
      "HoG shape is  (133956,)\n",
      "Processing img  910.jpeg\n",
      "HoG shape is  (133956,)\n",
      "Processing img  911.jpeg\n"
     ]
    },
    {
     "name": "stderr",
     "output_type": "stream",
     "text": [
      " 90%|█████████ | 905/1000 [01:35<00:10,  9.17it/s]"
     ]
    },
    {
     "name": "stdout",
     "output_type": "stream",
     "text": [
      "HoG shape is  (133956,)\n",
      "Processing img  912.jpeg\n",
      "HoG shape is  (133956,)\n",
      "Processing img  913.jpeg\n"
     ]
    },
    {
     "name": "stderr",
     "output_type": "stream",
     "text": [
      " 91%|█████████ | 906/1000 [01:35<00:10,  9.07it/s]"
     ]
    },
    {
     "name": "stdout",
     "output_type": "stream",
     "text": [
      "HoG shape is  (133956,)\n",
      "Processing img  914.jpeg\n",
      "HoG shape is  (133956,)\n"
     ]
    },
    {
     "name": "stderr",
     "output_type": "stream",
     "text": [
      " 91%|█████████ | 908/1000 [01:35<00:11,  7.80it/s]"
     ]
    },
    {
     "name": "stdout",
     "output_type": "stream",
     "text": [
      "Processing img  915.jpeg\n",
      "HoG shape is  (133956,)\n",
      "Processing img  916.jpeg\n"
     ]
    },
    {
     "name": "stderr",
     "output_type": "stream",
     "text": [
      " 91%|█████████ | 910/1000 [01:36<00:11,  7.79it/s]"
     ]
    },
    {
     "name": "stdout",
     "output_type": "stream",
     "text": [
      "HoG shape is  (133956,)\n",
      "Processing img  917.jpeg\n",
      "HoG shape is  (133956,)\n",
      "Processing img  918.jpeg\n"
     ]
    },
    {
     "name": "stderr",
     "output_type": "stream",
     "text": [
      " 91%|█████████ | 912/1000 [01:36<00:10,  8.22it/s]"
     ]
    },
    {
     "name": "stdout",
     "output_type": "stream",
     "text": [
      "HoG shape is  (133956,)\n",
      "Processing img  919.jpeg\n",
      "HoG shape is  (133956,)\n",
      "Processing img  92.jpeg\n"
     ]
    },
    {
     "name": "stderr",
     "output_type": "stream",
     "text": [
      " 91%|█████████▏| 914/1000 [01:36<00:10,  8.13it/s]"
     ]
    },
    {
     "name": "stdout",
     "output_type": "stream",
     "text": [
      "HoG shape is  (133956,)\n",
      "Processing img  920.jpeg\n",
      "HoG shape is  (133956,)\n",
      "Processing img  921.jpeg\n"
     ]
    },
    {
     "name": "stderr",
     "output_type": "stream",
     "text": [
      " 92%|█████████▏| 916/1000 [01:36<00:09,  9.26it/s]"
     ]
    },
    {
     "name": "stdout",
     "output_type": "stream",
     "text": [
      "HoG shape is  (133956,)\n",
      "Processing img  922.jpeg\n",
      "HoG shape is  (133956,)\n",
      "Processing img  923.jpeg\n",
      "HoG shape is  (133956,)\n",
      "Processing img  924.jpeg\n"
     ]
    },
    {
     "name": "stderr",
     "output_type": "stream",
     "text": [
      " 92%|█████████▏| 920/1000 [01:37<00:07, 10.56it/s]"
     ]
    },
    {
     "name": "stdout",
     "output_type": "stream",
     "text": [
      "HoG shape is  (133956,)\n",
      "Processing img  925.jpeg\n",
      "HoG shape is  (133956,)\n",
      "Processing img  926.jpeg\n",
      "HoG shape is  (133956,)\n",
      "Processing img  927.jpeg\n"
     ]
    },
    {
     "name": "stderr",
     "output_type": "stream",
     "text": [
      " 92%|█████████▏| 922/1000 [01:37<00:08,  8.98it/s]"
     ]
    },
    {
     "name": "stdout",
     "output_type": "stream",
     "text": [
      "HoG shape is  (133956,)\n",
      "Processing img  928.jpeg\n",
      "HoG shape is  (133956,)\n",
      "Processing img  929.jpeg\n",
      "HoG shape is  (133956,)\n"
     ]
    },
    {
     "name": "stderr",
     "output_type": "stream",
     "text": [
      " 92%|█████████▏| 924/1000 [01:37<00:08,  8.95it/s]"
     ]
    },
    {
     "name": "stdout",
     "output_type": "stream",
     "text": [
      "Processing img  93.jpeg\n",
      "HoG shape is  (133956,)\n",
      "Processing img  930.jpeg\n"
     ]
    },
    {
     "name": "stderr",
     "output_type": "stream",
     "text": [
      " 93%|█████████▎| 927/1000 [01:37<00:07,  9.39it/s]"
     ]
    },
    {
     "name": "stdout",
     "output_type": "stream",
     "text": [
      "HoG shape is  (133956,)\n",
      "Processing img  931.jpeg\n",
      "HoG shape is  (133956,)\n",
      "Processing img  932.jpeg\n",
      "HoG shape is  (133956,)\n"
     ]
    },
    {
     "name": "stderr",
     "output_type": "stream",
     "text": [
      " 93%|█████████▎| 929/1000 [01:38<00:06, 10.38it/s]"
     ]
    },
    {
     "name": "stdout",
     "output_type": "stream",
     "text": [
      "Processing img  933.jpeg\n",
      "HoG shape is  (133956,)\n",
      "Processing img  934.jpeg\n",
      "HoG shape is  (133956,)\n",
      "Processing img  935.jpeg\n"
     ]
    },
    {
     "name": "stderr",
     "output_type": "stream",
     "text": [
      " 93%|█████████▎| 931/1000 [01:38<00:06, 10.54it/s]"
     ]
    },
    {
     "name": "stdout",
     "output_type": "stream",
     "text": [
      "HoG shape is  (133956,)\n",
      "Processing img  936.jpeg\n",
      "HoG shape is  (133956,)\n",
      "Processing img  937.jpeg\n",
      "HoG shape is  (133956,)\n",
      "Processing img  938.jpeg\n"
     ]
    },
    {
     "name": "stderr",
     "output_type": "stream",
     "text": [
      " 93%|█████████▎| 933/1000 [01:38<00:06, 10.91it/s]"
     ]
    },
    {
     "name": "stdout",
     "output_type": "stream",
     "text": [
      "HoG shape is  (133956,)\n",
      "Processing img  939.jpeg\n",
      "HoG shape is  (133956,)\n",
      "Processing img  94.jpeg\n"
     ]
    },
    {
     "name": "stderr",
     "output_type": "stream",
     "text": [
      " 94%|█████████▎| 935/1000 [01:38<00:06, 10.32it/s]"
     ]
    },
    {
     "name": "stdout",
     "output_type": "stream",
     "text": [
      "HoG shape is  (133956,)\n",
      "Processing img  940.jpeg\n",
      "HoG shape is  (133956,)\n",
      "Processing img  941.jpeg\n"
     ]
    },
    {
     "name": "stderr",
     "output_type": "stream",
     "text": [
      " 94%|█████████▍| 939/1000 [01:39<00:06,  9.44it/s]"
     ]
    },
    {
     "name": "stdout",
     "output_type": "stream",
     "text": [
      "HoG shape is  (133956,)\n",
      "Processing img  942.jpeg\n",
      "HoG shape is  (133956,)\n",
      "Processing img  943.jpeg\n",
      "HoG shape is  (133956,)\n"
     ]
    },
    {
     "name": "stderr",
     "output_type": "stream",
     "text": [
      " 94%|█████████▍| 941/1000 [01:39<00:05, 10.10it/s]"
     ]
    },
    {
     "name": "stdout",
     "output_type": "stream",
     "text": [
      "Processing img  944.jpeg\n",
      "HoG shape is  (133956,)\n",
      "Processing img  945.jpeg\n",
      "HoG shape is  (133956,)\n",
      "Processing img  946.jpeg\n"
     ]
    },
    {
     "name": "stderr",
     "output_type": "stream",
     "text": [
      " 94%|█████████▍| 943/1000 [01:39<00:05, 10.61it/s]"
     ]
    },
    {
     "name": "stdout",
     "output_type": "stream",
     "text": [
      "HoG shape is  (133956,)\n",
      "Processing img  947.jpeg\n",
      "HoG shape is  (133956,)\n",
      "Processing img  948.jpeg\n",
      "HoG shape is  (133956,)\n",
      "Processing img  949.jpeg\n"
     ]
    },
    {
     "name": "stderr",
     "output_type": "stream",
     "text": [
      " 95%|█████████▍| 947/1000 [01:39<00:04, 10.65it/s]"
     ]
    },
    {
     "name": "stdout",
     "output_type": "stream",
     "text": [
      "HoG shape is  (133956,)\n",
      "Processing img  95.jpeg\n",
      "HoG shape is  (133956,)\n",
      "Processing img  950.jpeg\n",
      "HoG shape is  (133956,)\n"
     ]
    },
    {
     "name": "stderr",
     "output_type": "stream",
     "text": [
      " 95%|█████████▍| 949/1000 [01:39<00:04, 10.97it/s]"
     ]
    },
    {
     "name": "stdout",
     "output_type": "stream",
     "text": [
      "Processing img  951.jpeg\n",
      "HoG shape is  (133956,)\n",
      "Processing img  952.jpeg\n",
      "HoG shape is  (133956,)\n",
      "Processing img  953.jpeg\n"
     ]
    },
    {
     "name": "stderr",
     "output_type": "stream",
     "text": [
      " 95%|█████████▌| 951/1000 [01:40<00:05,  9.24it/s]"
     ]
    },
    {
     "name": "stdout",
     "output_type": "stream",
     "text": [
      "HoG shape is  (133956,)\n",
      "Processing img  954.jpeg\n",
      "HoG shape is  (133956,)\n",
      "Processing img  955.jpeg\n",
      "HoG shape is  (133956,)\n",
      "Processing img  956.jpeg\n"
     ]
    },
    {
     "name": "stderr",
     "output_type": "stream",
     "text": [
      " 96%|█████████▌| 955/1000 [01:40<00:04, 10.00it/s]"
     ]
    },
    {
     "name": "stdout",
     "output_type": "stream",
     "text": [
      "HoG shape is  (133956,)\n",
      "Processing img  957.jpeg\n",
      "HoG shape is  (133956,)\n",
      "Processing img  958.jpeg\n",
      "HoG shape is  (133956,)\n",
      "Processing img  959.jpeg\n"
     ]
    },
    {
     "name": "stderr",
     "output_type": "stream",
     "text": [
      " 96%|█████████▌| 957/1000 [01:40<00:04, 10.34it/s]"
     ]
    },
    {
     "name": "stdout",
     "output_type": "stream",
     "text": [
      "HoG shape is  (133956,)\n",
      "Processing img  96.jpeg\n",
      "HoG shape is  (133956,)\n",
      "Processing img  960.jpeg\n",
      "HoG shape is  (133956,)\n",
      "Processing img  961.jpeg\n"
     ]
    },
    {
     "name": "stderr",
     "output_type": "stream",
     "text": [
      " 96%|█████████▌| 961/1000 [01:41<00:03, 10.90it/s]"
     ]
    },
    {
     "name": "stdout",
     "output_type": "stream",
     "text": [
      "HoG shape is  (133956,)\n",
      "Processing img  962.jpeg\n",
      "HoG shape is  (133956,)\n",
      "Processing img  963.jpeg\n",
      "HoG shape is  (133956,)\n",
      "Processing img  964.jpeg\n"
     ]
    },
    {
     "name": "stderr",
     "output_type": "stream",
     "text": [
      " 96%|█████████▋| 963/1000 [01:41<00:03, 11.19it/s]"
     ]
    },
    {
     "name": "stdout",
     "output_type": "stream",
     "text": [
      "HoG shape is  (133956,)\n",
      "Processing img  965.jpeg\n",
      "HoG shape is  (133956,)\n",
      "Processing img  966.jpeg\n",
      "HoG shape is  (133956,)\n",
      "Processing img  967.jpeg\n"
     ]
    },
    {
     "name": "stderr",
     "output_type": "stream",
     "text": [
      " 96%|█████████▋| 965/1000 [01:41<00:03, 11.02it/s]"
     ]
    },
    {
     "name": "stdout",
     "output_type": "stream",
     "text": [
      "HoG shape is  (133956,)\n",
      "Processing img  968.jpeg\n"
     ]
    },
    {
     "name": "stderr",
     "output_type": "stream",
     "text": [
      " 97%|█████████▋| 967/1000 [01:41<00:03,  8.77it/s]"
     ]
    },
    {
     "name": "stdout",
     "output_type": "stream",
     "text": [
      "HoG shape is  (133956,)\n",
      "Processing img  969.jpeg\n",
      "HoG shape is  (133956,)\n",
      "Processing img  97.jpeg\n"
     ]
    },
    {
     "name": "stderr",
     "output_type": "stream",
     "text": [
      " 97%|█████████▋| 969/1000 [01:42<00:03,  8.75it/s]"
     ]
    },
    {
     "name": "stdout",
     "output_type": "stream",
     "text": [
      "HoG shape is  (133956,)\n",
      "Processing img  970.jpeg\n",
      "HoG shape is  (133956,)\n",
      "Processing img  971.jpeg\n",
      "HoG shape is  (133956,)\n"
     ]
    },
    {
     "name": "stderr",
     "output_type": "stream",
     "text": [
      " 97%|█████████▋| 972/1000 [01:42<00:02,  9.89it/s]"
     ]
    },
    {
     "name": "stdout",
     "output_type": "stream",
     "text": [
      "Processing img  972.jpeg\n",
      "HoG shape is  (133956,)\n",
      "Processing img  973.jpeg\n",
      "HoG shape is  (133956,)\n",
      "Processing img  974.jpeg\n"
     ]
    },
    {
     "name": "stderr",
     "output_type": "stream",
     "text": [
      " 97%|█████████▋| 974/1000 [01:42<00:02, 10.42it/s]"
     ]
    },
    {
     "name": "stdout",
     "output_type": "stream",
     "text": [
      "HoG shape is  (133956,)\n",
      "Processing img  975.jpeg\n",
      "HoG shape is  (133956,)\n",
      "Processing img  976.jpeg\n",
      "HoG shape is  (133956,)\n",
      "Processing img  977.jpeg\n"
     ]
    },
    {
     "name": "stderr",
     "output_type": "stream",
     "text": [
      " 98%|█████████▊| 976/1000 [01:42<00:02, 10.84it/s]"
     ]
    },
    {
     "name": "stdout",
     "output_type": "stream",
     "text": [
      "HoG shape is  (133956,)\n",
      "Processing img  978.jpeg\n",
      "HoG shape is  (133956,)\n",
      "Processing img  979.jpeg\n"
     ]
    },
    {
     "name": "stderr",
     "output_type": "stream",
     "text": [
      " 98%|█████████▊| 979/1000 [01:43<00:03,  6.22it/s]"
     ]
    },
    {
     "name": "stdout",
     "output_type": "stream",
     "text": [
      "HoG shape is  (133956,)\n",
      "Processing img  98.jpeg\n",
      "HoG shape is  (133956,)\n",
      "Processing img  980.jpeg\n"
     ]
    },
    {
     "name": "stderr",
     "output_type": "stream",
     "text": [
      " 98%|█████████▊| 981/1000 [01:43<00:02,  6.68it/s]"
     ]
    },
    {
     "name": "stdout",
     "output_type": "stream",
     "text": [
      "HoG shape is  (133956,)\n",
      "Processing img  981.jpeg\n",
      "HoG shape is  (133956,)\n",
      "Processing img  982.jpeg\n"
     ]
    },
    {
     "name": "stderr",
     "output_type": "stream",
     "text": [
      " 98%|█████████▊| 983/1000 [01:43<00:02,  7.33it/s]"
     ]
    },
    {
     "name": "stdout",
     "output_type": "stream",
     "text": [
      "HoG shape is  (133956,)\n",
      "Processing img  983.jpeg\n",
      "HoG shape is  (133956,)\n",
      "Processing img  984.jpeg\n"
     ]
    },
    {
     "name": "stderr",
     "output_type": "stream",
     "text": [
      " 98%|█████████▊| 985/1000 [01:44<00:01,  8.64it/s]"
     ]
    },
    {
     "name": "stdout",
     "output_type": "stream",
     "text": [
      "HoG shape is  (133956,)\n",
      "Processing img  985.jpeg\n",
      "HoG shape is  (133956,)\n",
      "Processing img  986.jpeg\n",
      "HoG shape is  (133956,)\n",
      "Processing img  987.jpeg\n"
     ]
    },
    {
     "name": "stderr",
     "output_type": "stream",
     "text": [
      " 99%|█████████▉| 989/1000 [01:44<00:01, 10.08it/s]"
     ]
    },
    {
     "name": "stdout",
     "output_type": "stream",
     "text": [
      "HoG shape is  (133956,)\n",
      "Processing img  988.jpeg\n",
      "HoG shape is  (133956,)\n",
      "Processing img  989.jpeg\n",
      "HoG shape is  (133956,)\n"
     ]
    },
    {
     "name": "stderr",
     "output_type": "stream",
     "text": [
      " 99%|█████████▉| 991/1000 [01:44<00:00, 10.73it/s]"
     ]
    },
    {
     "name": "stdout",
     "output_type": "stream",
     "text": [
      "Processing img  99.jpeg\n",
      "HoG shape is  (133956,)\n",
      "Processing img  990.jpeg\n",
      "HoG shape is  (133956,)\n",
      "Processing img  991.jpeg\n"
     ]
    },
    {
     "name": "stderr",
     "output_type": "stream",
     "text": [
      " 99%|█████████▉| 993/1000 [01:44<00:00, 10.87it/s]"
     ]
    },
    {
     "name": "stdout",
     "output_type": "stream",
     "text": [
      "HoG shape is  (133956,)\n",
      "Processing img  992.jpeg\n",
      "HoG shape is  (133956,)\n",
      "Processing img  993.jpeg\n",
      "HoG shape is  (133956,)\n",
      "Processing img  994.jpeg\n"
     ]
    },
    {
     "name": "stderr",
     "output_type": "stream",
     "text": [
      "100%|█████████▉| 995/1000 [01:45<00:00, 11.00it/s]"
     ]
    },
    {
     "name": "stdout",
     "output_type": "stream",
     "text": [
      "HoG shape is  (133956,)\n",
      "Processing img  995.jpeg\n",
      "HoG shape is  (133956,)\n",
      "Processing img  996.jpeg\n"
     ]
    },
    {
     "name": "stderr",
     "output_type": "stream",
     "text": [
      "100%|█████████▉| 998/1000 [01:45<00:00,  9.39it/s]"
     ]
    },
    {
     "name": "stdout",
     "output_type": "stream",
     "text": [
      "HoG shape is  (133956,)\n",
      "Processing img  997.jpeg\n",
      "HoG shape is  (133956,)\n",
      "Processing img  998.jpeg\n",
      "HoG shape is  (133956,)\n",
      "Processing img  999.jpeg\n"
     ]
    },
    {
     "name": "stderr",
     "output_type": "stream",
     "text": [
      "100%|██████████| 1000/1000 [01:45<00:00,  9.47it/s]\n"
     ]
    },
    {
     "name": "stdout",
     "output_type": "stream",
     "text": [
      "HoG shape is  (133956,)\n",
      "Processing font type  Lemonada\n"
     ]
    },
    {
     "name": "stderr",
     "output_type": "stream",
     "text": [
      "  0%|          | 2/1000 [00:00<01:29, 11.19it/s]"
     ]
    },
    {
     "name": "stdout",
     "output_type": "stream",
     "text": [
      "Processing img  0.jpeg\n",
      "HoG shape is  (133956,)\n",
      "Processing img  1.jpeg\n",
      "HoG shape is  (133956,)\n"
     ]
    },
    {
     "name": "stderr",
     "output_type": "stream",
     "text": [
      "  0%|          | 4/1000 [00:00<01:27, 11.32it/s]"
     ]
    },
    {
     "name": "stdout",
     "output_type": "stream",
     "text": [
      "Processing img  10.jpeg\n",
      "HoG shape is  (133956,)\n",
      "Processing img  100.jpeg\n",
      "HoG shape is  (133956,)\n",
      "Processing img  101.jpeg\n"
     ]
    },
    {
     "name": "stderr",
     "output_type": "stream",
     "text": [
      "  1%|          | 6/1000 [00:00<01:27, 11.42it/s]"
     ]
    },
    {
     "name": "stdout",
     "output_type": "stream",
     "text": [
      "HoG shape is  (133956,)\n",
      "Processing img  102.jpeg\n",
      "HoG shape is  (133956,)\n",
      "Processing img  103.jpeg\n"
     ]
    },
    {
     "name": "stderr",
     "output_type": "stream",
     "text": [
      "  1%|          | 8/1000 [00:00<01:56,  8.52it/s]"
     ]
    },
    {
     "name": "stdout",
     "output_type": "stream",
     "text": [
      "HoG shape is  (133956,)\n",
      "Processing img  104.jpeg\n",
      "HoG shape is  (133956,)\n",
      "Processing img  105.jpeg\n"
     ]
    },
    {
     "name": "stderr",
     "output_type": "stream",
     "text": [
      "  1%|          | 10/1000 [00:01<01:51,  8.89it/s]"
     ]
    },
    {
     "name": "stdout",
     "output_type": "stream",
     "text": [
      "HoG shape is  (133956,)\n",
      "Processing img  106.jpeg\n",
      "HoG shape is  (133956,)\n",
      "Processing img  107.jpeg\n",
      "HoG shape is  (133956,)\n",
      "Processing img  108.jpeg\n"
     ]
    },
    {
     "name": "stderr",
     "output_type": "stream",
     "text": [
      "  1%|▏         | 14/1000 [00:01<01:37, 10.12it/s]"
     ]
    },
    {
     "name": "stdout",
     "output_type": "stream",
     "text": [
      "HoG shape is  (133956,)\n",
      "Processing img  109.jpeg\n",
      "HoG shape is  (133956,)\n",
      "Processing img  11.jpeg\n",
      "HoG shape is  (133956,)\n"
     ]
    },
    {
     "name": "stderr",
     "output_type": "stream",
     "text": [
      "  2%|▏         | 16/1000 [00:01<01:33, 10.51it/s]"
     ]
    },
    {
     "name": "stdout",
     "output_type": "stream",
     "text": [
      "Processing img  110.jpeg\n",
      "HoG shape is  (133956,)\n",
      "Processing img  111.jpeg\n",
      "HoG shape is  (133956,)\n",
      "Processing img  112.jpeg\n"
     ]
    },
    {
     "name": "stderr",
     "output_type": "stream",
     "text": [
      "  2%|▏         | 18/1000 [00:01<01:32, 10.66it/s]"
     ]
    },
    {
     "name": "stdout",
     "output_type": "stream",
     "text": [
      "HoG shape is  (133956,)\n",
      "Processing img  113.jpeg\n",
      "HoG shape is  (133956,)\n",
      "Processing img  114.jpeg\n",
      "HoG shape is  (133956,)\n",
      "Processing img  115.jpeg\n"
     ]
    },
    {
     "name": "stderr",
     "output_type": "stream",
     "text": [
      "  2%|▏         | 21/1000 [00:02<01:50,  8.89it/s]"
     ]
    },
    {
     "name": "stdout",
     "output_type": "stream",
     "text": [
      "HoG shape is  (133956,)\n",
      "Processing img  116.jpeg\n",
      "HoG shape is  (133956,)\n",
      "Processing img  117.jpeg\n"
     ]
    },
    {
     "name": "stderr",
     "output_type": "stream",
     "text": [
      "  2%|▏         | 23/1000 [00:02<01:47,  9.10it/s]"
     ]
    },
    {
     "name": "stdout",
     "output_type": "stream",
     "text": [
      "HoG shape is  (133956,)\n",
      "Processing img  118.jpeg\n",
      "HoG shape is  (133956,)\n",
      "Processing img  119.jpeg\n",
      "HoG shape is  (133956,)\n",
      "Processing img  12.jpeg\n"
     ]
    },
    {
     "name": "stderr",
     "output_type": "stream",
     "text": [
      "  3%|▎         | 27/1000 [00:02<01:33, 10.38it/s]"
     ]
    },
    {
     "name": "stdout",
     "output_type": "stream",
     "text": [
      "HoG shape is  (133956,)\n",
      "Processing img  120.jpeg\n",
      "HoG shape is  (133956,)\n",
      "Processing img  121.jpeg\n",
      "HoG shape is  (133956,)\n"
     ]
    },
    {
     "name": "stderr",
     "output_type": "stream",
     "text": [
      "  3%|▎         | 29/1000 [00:02<01:33, 10.36it/s]"
     ]
    },
    {
     "name": "stdout",
     "output_type": "stream",
     "text": [
      "Processing img  122.jpeg\n",
      "HoG shape is  (133956,)\n",
      "Processing img  123.jpeg\n",
      "HoG shape is  (133956,)\n"
     ]
    },
    {
     "name": "stderr",
     "output_type": "stream",
     "text": [
      "  3%|▎         | 31/1000 [00:03<01:33, 10.34it/s]"
     ]
    },
    {
     "name": "stdout",
     "output_type": "stream",
     "text": [
      "Processing img  124.jpeg\n",
      "HoG shape is  (133956,)\n",
      "Processing img  125.jpeg\n",
      "HoG shape is  (133956,)\n"
     ]
    },
    {
     "name": "stderr",
     "output_type": "stream",
     "text": [
      "  3%|▎         | 33/1000 [00:03<01:33, 10.30it/s]"
     ]
    },
    {
     "name": "stdout",
     "output_type": "stream",
     "text": [
      "Processing img  126.jpeg\n",
      "HoG shape is  (133956,)\n",
      "Processing img  127.jpeg\n",
      "HoG shape is  (133956,)\n"
     ]
    },
    {
     "name": "stderr",
     "output_type": "stream",
     "text": [
      "  4%|▎         | 35/1000 [00:03<01:33, 10.31it/s]"
     ]
    },
    {
     "name": "stdout",
     "output_type": "stream",
     "text": [
      "Processing img  128.jpeg\n",
      "HoG shape is  (133956,)\n",
      "Processing img  129.jpeg\n",
      "HoG shape is  (133956,)\n",
      "Processing img  13.jpeg\n",
      "HoG shape is  (133956,)\n",
      "Processing img  130.jpeg\n"
     ]
    },
    {
     "name": "stderr",
     "output_type": "stream",
     "text": [
      "  4%|▍         | 39/1000 [00:04<01:41,  9.49it/s]"
     ]
    },
    {
     "name": "stdout",
     "output_type": "stream",
     "text": [
      "HoG shape is  (133956,)\n",
      "Processing img  131.jpeg\n",
      "HoG shape is  (133956,)\n",
      "Processing img  132.jpeg\n",
      "HoG shape is  (133956,)\n"
     ]
    },
    {
     "name": "stderr",
     "output_type": "stream",
     "text": [
      "  4%|▍         | 41/1000 [00:04<01:36,  9.93it/s]"
     ]
    },
    {
     "name": "stdout",
     "output_type": "stream",
     "text": [
      "Processing img  133.jpeg\n",
      "HoG shape is  (133956,)\n",
      "Processing img  134.jpeg\n",
      "HoG shape is  (133956,)\n",
      "Processing img  135.jpeg\n"
     ]
    },
    {
     "name": "stderr",
     "output_type": "stream",
     "text": [
      "  4%|▍         | 43/1000 [00:04<01:32, 10.30it/s]"
     ]
    },
    {
     "name": "stdout",
     "output_type": "stream",
     "text": [
      "HoG shape is  (133956,)\n",
      "Processing img  136.jpeg\n",
      "HoG shape is  (133956,)\n",
      "Processing img  137.jpeg\n",
      "HoG shape is  (133956,)\n",
      "Processing img  138.jpeg\n"
     ]
    },
    {
     "name": "stderr",
     "output_type": "stream",
     "text": [
      "  5%|▍         | 47/1000 [00:04<01:27, 10.90it/s]"
     ]
    },
    {
     "name": "stdout",
     "output_type": "stream",
     "text": [
      "HoG shape is  (133956,)\n",
      "Processing img  139.jpeg\n",
      "HoG shape is  (133956,)\n",
      "Processing img  14.jpeg\n",
      "HoG shape is  (133956,)\n",
      "Processing img  140.jpeg\n"
     ]
    },
    {
     "name": "stderr",
     "output_type": "stream",
     "text": [
      "  5%|▍         | 49/1000 [00:04<01:27, 10.91it/s]"
     ]
    },
    {
     "name": "stdout",
     "output_type": "stream",
     "text": [
      "HoG shape is  (133956,)\n",
      "Processing img  141.jpeg\n",
      "HoG shape is  (133956,)\n",
      "Processing img  142.jpeg\n",
      "HoG shape is  (133956,)\n",
      "Processing img  143.jpeg\n"
     ]
    },
    {
     "name": "stderr",
     "output_type": "stream",
     "text": [
      "  5%|▌         | 52/1000 [00:05<01:45,  8.96it/s]"
     ]
    },
    {
     "name": "stdout",
     "output_type": "stream",
     "text": [
      "HoG shape is  (133956,)\n",
      "Processing img  144.jpeg\n",
      "HoG shape is  (133956,)\n",
      "Processing img  145.jpeg\n"
     ]
    },
    {
     "name": "stderr",
     "output_type": "stream",
     "text": [
      "  6%|▌         | 55/1000 [00:05<01:38,  9.61it/s]"
     ]
    },
    {
     "name": "stdout",
     "output_type": "stream",
     "text": [
      "HoG shape is  (133956,)\n",
      "Processing img  146.jpeg\n",
      "HoG shape is  (133956,)\n",
      "Processing img  147.jpeg\n",
      "HoG shape is  (133956,)\n"
     ]
    },
    {
     "name": "stderr",
     "output_type": "stream",
     "text": [
      "  6%|▌         | 57/1000 [00:05<01:33, 10.12it/s]"
     ]
    },
    {
     "name": "stdout",
     "output_type": "stream",
     "text": [
      "Processing img  148.jpeg\n",
      "HoG shape is  (133956,)\n",
      "Processing img  149.jpeg\n",
      "HoG shape is  (133956,)\n",
      "Processing img  15.jpeg\n"
     ]
    },
    {
     "name": "stderr",
     "output_type": "stream",
     "text": [
      "  6%|▌         | 59/1000 [00:05<01:32, 10.22it/s]"
     ]
    },
    {
     "name": "stdout",
     "output_type": "stream",
     "text": [
      "HoG shape is  (133956,)\n",
      "Processing img  150.jpeg\n",
      "HoG shape is  (133956,)\n",
      "Processing img  151.jpeg\n",
      "HoG shape is  (133956,)\n",
      "Processing img  152.jpeg\n"
     ]
    },
    {
     "name": "stderr",
     "output_type": "stream",
     "text": [
      "  6%|▋         | 63/1000 [00:06<01:25, 10.90it/s]"
     ]
    },
    {
     "name": "stdout",
     "output_type": "stream",
     "text": [
      "HoG shape is  (133956,)\n",
      "Processing img  153.jpeg\n",
      "HoG shape is  (133956,)\n",
      "Processing img  154.jpeg\n",
      "HoG shape is  (133956,)\n",
      "Processing img  155.jpeg\n"
     ]
    },
    {
     "name": "stderr",
     "output_type": "stream",
     "text": [
      "  6%|▋         | 65/1000 [00:06<01:32, 10.11it/s]"
     ]
    },
    {
     "name": "stdout",
     "output_type": "stream",
     "text": [
      "HoG shape is  (133956,)\n",
      "Processing img  156.jpeg\n",
      "HoG shape is  (133956,)\n",
      "Processing img  157.jpeg\n"
     ]
    },
    {
     "name": "stderr",
     "output_type": "stream",
     "text": [
      "  7%|▋         | 67/1000 [00:06<01:42,  9.10it/s]"
     ]
    },
    {
     "name": "stdout",
     "output_type": "stream",
     "text": [
      "HoG shape is  (133956,)\n",
      "Processing img  158.jpeg\n",
      "HoG shape is  (133956,)\n",
      "Processing img  159.jpeg\n",
      "HoG shape is  (133956,)\n"
     ]
    },
    {
     "name": "stderr",
     "output_type": "stream",
     "text": [
      "  7%|▋         | 69/1000 [00:07<01:40,  9.28it/s]"
     ]
    },
    {
     "name": "stdout",
     "output_type": "stream",
     "text": [
      "Processing img  16.jpeg\n",
      "HoG shape is  (133956,)\n",
      "Processing img  160.jpeg\n",
      "HoG shape is  (133956,)\n",
      "Processing img  161.jpeg\n"
     ]
    },
    {
     "name": "stderr",
     "output_type": "stream",
     "text": [
      "  7%|▋         | 73/1000 [00:07<01:27, 10.60it/s]"
     ]
    },
    {
     "name": "stdout",
     "output_type": "stream",
     "text": [
      "HoG shape is  (133956,)\n",
      "Processing img  162.jpeg\n",
      "HoG shape is  (133956,)\n",
      "Processing img  163.jpeg\n",
      "HoG shape is  (133956,)\n",
      "Processing img  164.jpeg\n"
     ]
    },
    {
     "name": "stderr",
     "output_type": "stream",
     "text": [
      "  8%|▊         | 75/1000 [00:07<01:29, 10.32it/s]"
     ]
    },
    {
     "name": "stdout",
     "output_type": "stream",
     "text": [
      "HoG shape is  (133956,)\n",
      "Processing img  165.jpeg\n",
      "HoG shape is  (133956,)\n",
      "Processing img  166.jpeg\n",
      "HoG shape is  (133956,)\n",
      "Processing img  167.jpeg\n"
     ]
    },
    {
     "name": "stderr",
     "output_type": "stream",
     "text": [
      "  8%|▊         | 79/1000 [00:07<01:26, 10.64it/s]"
     ]
    },
    {
     "name": "stdout",
     "output_type": "stream",
     "text": [
      "HoG shape is  (133956,)\n",
      "Processing img  168.jpeg\n",
      "HoG shape is  (133956,)\n",
      "Processing img  169.jpeg\n",
      "HoG shape is  (133956,)\n"
     ]
    },
    {
     "name": "stderr",
     "output_type": "stream",
     "text": [
      "  8%|▊         | 81/1000 [00:08<01:23, 11.04it/s]"
     ]
    },
    {
     "name": "stdout",
     "output_type": "stream",
     "text": [
      "Processing img  17.jpeg\n",
      "HoG shape is  (133956,)\n",
      "Processing img  170.jpeg\n",
      "HoG shape is  (133956,)\n",
      "Processing img  171.jpeg\n"
     ]
    },
    {
     "name": "stderr",
     "output_type": "stream",
     "text": [
      "  8%|▊         | 83/1000 [00:08<01:40,  9.12it/s]"
     ]
    },
    {
     "name": "stdout",
     "output_type": "stream",
     "text": [
      "HoG shape is  (133956,)\n",
      "Processing img  172.jpeg\n",
      "HoG shape is  (133956,)\n",
      "Processing img  173.jpeg\n",
      "HoG shape is  (133956,)\n",
      "Processing img  174.jpeg\n"
     ]
    },
    {
     "name": "stderr",
     "output_type": "stream",
     "text": [
      "  9%|▊         | 87/1000 [00:08<01:30, 10.05it/s]"
     ]
    },
    {
     "name": "stdout",
     "output_type": "stream",
     "text": [
      "HoG shape is  (133956,)\n",
      "Processing img  175.jpeg\n",
      "HoG shape is  (133956,)\n",
      "Processing img  176.jpeg\n",
      "HoG shape is  (133956,)\n",
      "Processing img  177.jpeg\n"
     ]
    },
    {
     "name": "stderr",
     "output_type": "stream",
     "text": [
      "  9%|▉         | 89/1000 [00:08<01:28, 10.30it/s]"
     ]
    },
    {
     "name": "stdout",
     "output_type": "stream",
     "text": [
      "HoG shape is  (133956,)\n",
      "Processing img  178.jpeg\n",
      "HoG shape is  (133956,)\n",
      "Processing img  179.jpeg\n",
      "HoG shape is  (133956,)\n",
      "Processing img  18.jpeg\n"
     ]
    },
    {
     "name": "stderr",
     "output_type": "stream",
     "text": [
      "  9%|▉         | 93/1000 [00:09<01:25, 10.62it/s]"
     ]
    },
    {
     "name": "stdout",
     "output_type": "stream",
     "text": [
      "HoG shape is  (133956,)\n",
      "Processing img  180.jpeg\n",
      "HoG shape is  (133956,)\n",
      "Processing img  181.jpeg\n",
      "HoG shape is  (133956,)\n",
      "Processing img  182.jpeg\n"
     ]
    },
    {
     "name": "stderr",
     "output_type": "stream",
     "text": [
      " 10%|▉         | 95/1000 [00:09<01:22, 10.94it/s]"
     ]
    },
    {
     "name": "stdout",
     "output_type": "stream",
     "text": [
      "HoG shape is  (133956,)\n",
      "Processing img  183.jpeg\n",
      "HoG shape is  (133956,)\n",
      "Processing img  184.jpeg\n",
      "HoG shape is  (133956,)\n",
      "Processing img  185.jpeg\n"
     ]
    },
    {
     "name": "stderr",
     "output_type": "stream",
     "text": [
      " 10%|▉         | 98/1000 [00:09<01:48,  8.28it/s]"
     ]
    },
    {
     "name": "stdout",
     "output_type": "stream",
     "text": [
      "HoG shape is  (133956,)\n",
      "Processing img  186.jpeg\n",
      "HoG shape is  (133956,)\n",
      "Processing img  187.jpeg\n"
     ]
    },
    {
     "name": "stderr",
     "output_type": "stream",
     "text": [
      " 10%|█         | 100/1000 [00:10<01:44,  8.59it/s]"
     ]
    },
    {
     "name": "stdout",
     "output_type": "stream",
     "text": [
      "HoG shape is  (133956,)\n",
      "Processing img  188.jpeg\n",
      "HoG shape is  (133956,)\n",
      "Processing img  189.jpeg\n",
      "HoG shape is  (133956,)\n",
      "Processing img  19.jpeg\n"
     ]
    },
    {
     "name": "stderr",
     "output_type": "stream",
     "text": [
      " 10%|█         | 104/1000 [00:10<01:28, 10.16it/s]"
     ]
    },
    {
     "name": "stdout",
     "output_type": "stream",
     "text": [
      "HoG shape is  (133956,)\n",
      "Processing img  190.jpeg\n",
      "HoG shape is  (133956,)\n",
      "Processing img  191.jpeg\n",
      "HoG shape is  (133956,)\n",
      "Processing img  192.jpeg\n"
     ]
    },
    {
     "name": "stderr",
     "output_type": "stream",
     "text": [
      " 11%|█         | 106/1000 [00:10<01:24, 10.53it/s]"
     ]
    },
    {
     "name": "stdout",
     "output_type": "stream",
     "text": [
      "HoG shape is  (133956,)\n",
      "Processing img  193.jpeg\n",
      "HoG shape is  (133956,)\n",
      "Processing img  194.jpeg\n",
      "HoG shape is  (133956,)\n",
      "Processing img  195.jpeg\n"
     ]
    },
    {
     "name": "stderr",
     "output_type": "stream",
     "text": [
      " 11%|█         | 110/1000 [00:11<01:22, 10.80it/s]"
     ]
    },
    {
     "name": "stdout",
     "output_type": "stream",
     "text": [
      "HoG shape is  (133956,)\n",
      "Processing img  196.jpeg\n",
      "HoG shape is  (133956,)\n",
      "Processing img  197.jpeg\n",
      "HoG shape is  (133956,)\n",
      "Processing img  198.jpeg\n"
     ]
    },
    {
     "name": "stderr",
     "output_type": "stream",
     "text": [
      " 11%|█         | 112/1000 [00:11<01:21, 10.90it/s]"
     ]
    },
    {
     "name": "stdout",
     "output_type": "stream",
     "text": [
      "HoG shape is  (133956,)\n",
      "Processing img  199.jpeg\n",
      "HoG shape is  (133956,)\n",
      "Processing img  2.jpeg\n"
     ]
    },
    {
     "name": "stderr",
     "output_type": "stream",
     "text": [
      " 11%|█▏        | 114/1000 [00:11<01:39,  8.93it/s]"
     ]
    },
    {
     "name": "stdout",
     "output_type": "stream",
     "text": [
      "HoG shape is  (133956,)\n",
      "Processing img  20.jpeg\n",
      "HoG shape is  (133956,)\n",
      "Processing img  200.jpeg\n",
      "HoG shape is  (133956,)\n",
      "Processing img  201.jpeg\n"
     ]
    },
    {
     "name": "stderr",
     "output_type": "stream",
     "text": [
      " 12%|█▏        | 117/1000 [00:11<01:34,  9.39it/s]"
     ]
    },
    {
     "name": "stdout",
     "output_type": "stream",
     "text": [
      "HoG shape is  (133956,)\n",
      "Processing img  202.jpeg\n",
      "HoG shape is  (133956,)\n",
      "Processing img  203.jpeg\n",
      "HoG shape is  (133956,)\n",
      "Processing img  204.jpeg\n"
     ]
    },
    {
     "name": "stderr",
     "output_type": "stream",
     "text": [
      " 12%|█▏        | 121/1000 [00:12<01:28,  9.92it/s]"
     ]
    },
    {
     "name": "stdout",
     "output_type": "stream",
     "text": [
      "HoG shape is  (133956,)\n",
      "Processing img  205.jpeg\n",
      "HoG shape is  (133956,)\n",
      "Processing img  206.jpeg\n",
      "HoG shape is  (133956,)\n",
      "Processing img  207.jpeg\n"
     ]
    },
    {
     "name": "stderr",
     "output_type": "stream",
     "text": [
      " 12%|█▏        | 123/1000 [00:12<01:23, 10.44it/s]"
     ]
    },
    {
     "name": "stdout",
     "output_type": "stream",
     "text": [
      "HoG shape is  (133956,)\n",
      "Processing img  208.jpeg\n",
      "HoG shape is  (133956,)\n",
      "Processing img  209.jpeg\n",
      "HoG shape is  (133956,)\n",
      "Processing img  21.jpeg\n"
     ]
    },
    {
     "name": "stderr",
     "output_type": "stream",
     "text": [
      " 12%|█▎        | 125/1000 [00:12<01:22, 10.64it/s]"
     ]
    },
    {
     "name": "stdout",
     "output_type": "stream",
     "text": [
      "HoG shape is  (133956,)\n",
      "Processing img  210.jpeg\n"
     ]
    },
    {
     "name": "stderr",
     "output_type": "stream",
     "text": [
      " 13%|█▎        | 127/1000 [00:12<01:40,  8.72it/s]"
     ]
    },
    {
     "name": "stdout",
     "output_type": "stream",
     "text": [
      "HoG shape is  (133956,)\n",
      "Processing img  211.jpeg\n",
      "HoG shape is  (133956,)\n",
      "Processing img  212.jpeg\n"
     ]
    },
    {
     "name": "stderr",
     "output_type": "stream",
     "text": [
      " 13%|█▎        | 129/1000 [00:13<01:39,  8.80it/s]"
     ]
    },
    {
     "name": "stdout",
     "output_type": "stream",
     "text": [
      "HoG shape is  (133956,)\n",
      "Processing img  213.jpeg\n",
      "HoG shape is  (133956,)\n",
      "Processing img  214.jpeg\n",
      "HoG shape is  (133956,)\n",
      "Processing img  215.jpeg\n"
     ]
    },
    {
     "name": "stderr",
     "output_type": "stream",
     "text": [
      " 13%|█▎        | 133/1000 [00:13<01:26, 10.07it/s]"
     ]
    },
    {
     "name": "stdout",
     "output_type": "stream",
     "text": [
      "HoG shape is  (133956,)\n",
      "Processing img  216.jpeg\n",
      "HoG shape is  (133956,)\n",
      "Processing img  217.jpeg\n",
      "HoG shape is  (133956,)\n"
     ]
    },
    {
     "name": "stderr",
     "output_type": "stream",
     "text": [
      " 14%|█▎        | 135/1000 [00:13<01:21, 10.55it/s]"
     ]
    },
    {
     "name": "stdout",
     "output_type": "stream",
     "text": [
      "Processing img  218.jpeg\n",
      "HoG shape is  (133956,)\n",
      "Processing img  219.jpeg\n",
      "HoG shape is  (133956,)\n",
      "Processing img  22.jpeg\n"
     ]
    },
    {
     "name": "stderr",
     "output_type": "stream",
     "text": [
      " 14%|█▎        | 137/1000 [00:13<01:20, 10.78it/s]"
     ]
    },
    {
     "name": "stdout",
     "output_type": "stream",
     "text": [
      "HoG shape is  (133956,)\n",
      "Processing img  220.jpeg\n",
      "HoG shape is  (133956,)\n",
      "Processing img  221.jpeg\n",
      "HoG shape is  (133956,)\n",
      "Processing img  222.jpeg\n"
     ]
    },
    {
     "name": "stderr",
     "output_type": "stream",
     "text": [
      " 14%|█▍        | 140/1000 [00:14<01:37,  8.79it/s]"
     ]
    },
    {
     "name": "stdout",
     "output_type": "stream",
     "text": [
      "HoG shape is  (133956,)\n",
      "Processing img  223.jpeg\n",
      "HoG shape is  (133956,)\n",
      "Processing img  224.jpeg\n"
     ]
    },
    {
     "name": "stderr",
     "output_type": "stream",
     "text": [
      " 14%|█▍        | 143/1000 [00:14<01:29,  9.54it/s]"
     ]
    },
    {
     "name": "stdout",
     "output_type": "stream",
     "text": [
      "HoG shape is  (133956,)\n",
      "Processing img  225.jpeg\n",
      "HoG shape is  (133956,)\n",
      "Processing img  226.jpeg\n",
      "HoG shape is  (133956,)\n"
     ]
    },
    {
     "name": "stderr",
     "output_type": "stream",
     "text": [
      " 14%|█▍        | 145/1000 [00:14<01:28,  9.71it/s]"
     ]
    },
    {
     "name": "stdout",
     "output_type": "stream",
     "text": [
      "Processing img  227.jpeg\n",
      "HoG shape is  (133956,)\n",
      "Processing img  228.jpeg\n",
      "HoG shape is  (133956,)\n"
     ]
    },
    {
     "name": "stderr",
     "output_type": "stream",
     "text": [
      " 15%|█▍        | 147/1000 [00:14<01:24, 10.13it/s]"
     ]
    },
    {
     "name": "stdout",
     "output_type": "stream",
     "text": [
      "Processing img  229.jpeg\n",
      "HoG shape is  (133956,)\n",
      "Processing img  23.jpeg\n",
      "HoG shape is  (133956,)\n",
      "Processing img  230.jpeg\n"
     ]
    },
    {
     "name": "stderr",
     "output_type": "stream",
     "text": [
      " 15%|█▍        | 149/1000 [00:15<01:22, 10.32it/s]"
     ]
    },
    {
     "name": "stdout",
     "output_type": "stream",
     "text": [
      "HoG shape is  (133956,)\n",
      "Processing img  231.jpeg\n",
      "HoG shape is  (133956,)\n",
      "Processing img  232.jpeg\n",
      "HoG shape is  (133956,)\n",
      "Processing img  233.jpeg\n"
     ]
    },
    {
     "name": "stderr",
     "output_type": "stream",
     "text": [
      " 15%|█▌        | 151/1000 [00:15<01:20, 10.61it/s]"
     ]
    },
    {
     "name": "stdout",
     "output_type": "stream",
     "text": [
      "HoG shape is  (133956,)\n",
      "Processing img  234.jpeg\n",
      "HoG shape is  (133956,)\n",
      "Processing img  235.jpeg\n"
     ]
    },
    {
     "name": "stderr",
     "output_type": "stream",
     "text": [
      " 15%|█▌        | 153/1000 [00:15<01:24, 10.08it/s]"
     ]
    },
    {
     "name": "stdout",
     "output_type": "stream",
     "text": [
      "HoG shape is  (133956,)\n",
      "Processing img  236.jpeg\n"
     ]
    },
    {
     "name": "stderr",
     "output_type": "stream",
     "text": [
      " 16%|█▌        | 155/1000 [00:15<01:45,  8.02it/s]"
     ]
    },
    {
     "name": "stdout",
     "output_type": "stream",
     "text": [
      "HoG shape is  (133956,)\n",
      "Processing img  237.jpeg\n",
      "HoG shape is  (133956,)\n",
      "Processing img  238.jpeg\n"
     ]
    },
    {
     "name": "stderr",
     "output_type": "stream",
     "text": [
      " 16%|█▌        | 157/1000 [00:16<01:40,  8.40it/s]"
     ]
    },
    {
     "name": "stdout",
     "output_type": "stream",
     "text": [
      "HoG shape is  (133956,)\n",
      "Processing img  239.jpeg\n",
      "HoG shape is  (133956,)\n",
      "Processing img  24.jpeg\n",
      "HoG shape is  (133956,)\n",
      "Processing img  240.jpeg\n"
     ]
    },
    {
     "name": "stderr",
     "output_type": "stream",
     "text": [
      " 16%|█▌        | 160/1000 [00:16<01:32,  9.06it/s]"
     ]
    },
    {
     "name": "stdout",
     "output_type": "stream",
     "text": [
      "HoG shape is  (133956,)\n",
      "Processing img  241.jpeg\n",
      "HoG shape is  (133956,)\n",
      "Processing img  242.jpeg\n"
     ]
    },
    {
     "name": "stderr",
     "output_type": "stream",
     "text": [
      " 16%|█▋        | 163/1000 [00:16<01:25,  9.82it/s]"
     ]
    },
    {
     "name": "stdout",
     "output_type": "stream",
     "text": [
      "HoG shape is  (133956,)\n",
      "Processing img  243.jpeg\n",
      "HoG shape is  (133956,)\n",
      "Processing img  244.jpeg\n",
      "HoG shape is  (133956,)\n"
     ]
    },
    {
     "name": "stderr",
     "output_type": "stream",
     "text": [
      " 16%|█▋        | 165/1000 [00:16<01:21, 10.26it/s]"
     ]
    },
    {
     "name": "stdout",
     "output_type": "stream",
     "text": [
      "Processing img  245.jpeg\n",
      "HoG shape is  (133956,)\n",
      "Processing img  246.jpeg\n",
      "HoG shape is  (133956,)\n",
      "Processing img  247.jpeg\n"
     ]
    },
    {
     "name": "stderr",
     "output_type": "stream",
     "text": [
      " 17%|█▋        | 167/1000 [00:17<01:24,  9.85it/s]"
     ]
    },
    {
     "name": "stdout",
     "output_type": "stream",
     "text": [
      "HoG shape is  (133956,)\n",
      "Processing img  248.jpeg\n",
      "HoG shape is  (133956,)\n",
      "Processing img  249.jpeg\n"
     ]
    },
    {
     "name": "stderr",
     "output_type": "stream",
     "text": [
      " 17%|█▋        | 169/1000 [00:17<01:32,  8.97it/s]"
     ]
    },
    {
     "name": "stdout",
     "output_type": "stream",
     "text": [
      "HoG shape is  (133956,)\n",
      "Processing img  25.jpeg\n",
      "HoG shape is  (133956,)\n",
      "Processing img  250.jpeg\n",
      "HoG shape is  (133956,)\n",
      "Processing img  251.jpeg\n"
     ]
    },
    {
     "name": "stderr",
     "output_type": "stream",
     "text": [
      " 17%|█▋        | 173/1000 [00:17<01:21, 10.09it/s]"
     ]
    },
    {
     "name": "stdout",
     "output_type": "stream",
     "text": [
      "HoG shape is  (133956,)\n",
      "Processing img  252.jpeg\n",
      "HoG shape is  (133956,)\n",
      "Processing img  253.jpeg\n",
      "HoG shape is  (133956,)\n",
      "Processing img  254.jpeg\n"
     ]
    },
    {
     "name": "stderr",
     "output_type": "stream",
     "text": [
      " 18%|█▊        | 176/1000 [00:18<01:18, 10.43it/s]"
     ]
    },
    {
     "name": "stdout",
     "output_type": "stream",
     "text": [
      "HoG shape is  (133956,)\n",
      "Processing img  255.jpeg\n",
      "HoG shape is  (133956,)\n",
      "Processing img  256.jpeg\n",
      "HoG shape is  (133956,)\n",
      "Processing img  257.jpeg\n"
     ]
    },
    {
     "name": "stderr",
     "output_type": "stream",
     "text": [
      " 18%|█▊        | 178/1000 [00:18<01:18, 10.51it/s]"
     ]
    },
    {
     "name": "stdout",
     "output_type": "stream",
     "text": [
      "HoG shape is  (133956,)\n",
      "Processing img  258.jpeg\n",
      "HoG shape is  (133956,)\n",
      "Processing img  259.jpeg\n",
      "HoG shape is  (133956,)\n",
      "Processing img  26.jpeg\n"
     ]
    },
    {
     "name": "stderr",
     "output_type": "stream",
     "text": [
      " 18%|█▊        | 180/1000 [00:18<01:15, 10.85it/s]"
     ]
    },
    {
     "name": "stdout",
     "output_type": "stream",
     "text": [
      "HoG shape is  (133956,)\n",
      "Processing img  260.jpeg\n",
      "HoG shape is  (133956,)\n",
      "Processing img  261.jpeg\n",
      "HoG shape is  (133956,)\n"
     ]
    },
    {
     "name": "stderr",
     "output_type": "stream",
     "text": [
      " 18%|█▊        | 184/1000 [00:18<01:15, 10.86it/s]"
     ]
    },
    {
     "name": "stdout",
     "output_type": "stream",
     "text": [
      "Processing img  262.jpeg\n",
      "HoG shape is  (133956,)\n",
      "Processing img  263.jpeg\n",
      "HoG shape is  (133956,)\n",
      "Processing img  264.jpeg\n",
      "HoG shape is  (133956,)\n",
      "Processing img  265.jpeg\n"
     ]
    },
    {
     "name": "stderr",
     "output_type": "stream",
     "text": [
      " 19%|█▉        | 188/1000 [00:19<01:25,  9.45it/s]"
     ]
    },
    {
     "name": "stdout",
     "output_type": "stream",
     "text": [
      "HoG shape is  (133956,)\n",
      "Processing img  266.jpeg\n",
      "HoG shape is  (133956,)\n",
      "Processing img  267.jpeg\n",
      "HoG shape is  (133956,)\n"
     ]
    },
    {
     "name": "stderr",
     "output_type": "stream",
     "text": [
      " 19%|█▉        | 190/1000 [00:19<01:21,  9.93it/s]"
     ]
    },
    {
     "name": "stdout",
     "output_type": "stream",
     "text": [
      "Processing img  268.jpeg\n",
      "HoG shape is  (133956,)\n",
      "Processing img  269.jpeg\n",
      "HoG shape is  (133956,)\n",
      "Processing img  27.jpeg\n"
     ]
    },
    {
     "name": "stderr",
     "output_type": "stream",
     "text": [
      " 19%|█▉        | 192/1000 [00:19<01:19, 10.15it/s]"
     ]
    },
    {
     "name": "stdout",
     "output_type": "stream",
     "text": [
      "HoG shape is  (133956,)\n",
      "Processing img  270.jpeg\n",
      "HoG shape is  (133956,)\n",
      "Processing img  271.jpeg\n",
      "HoG shape is  (133956,)\n",
      "Processing img  272.jpeg\n"
     ]
    },
    {
     "name": "stderr",
     "output_type": "stream",
     "text": [
      " 19%|█▉        | 194/1000 [00:19<01:17, 10.46it/s]"
     ]
    },
    {
     "name": "stdout",
     "output_type": "stream",
     "text": [
      "HoG shape is  (133956,)\n",
      "Processing img  273.jpeg\n",
      "HoG shape is  (133956,)\n",
      "Processing img  274.jpeg\n",
      "HoG shape is  (133956,)\n"
     ]
    },
    {
     "name": "stderr",
     "output_type": "stream",
     "text": [
      " 20%|█▉        | 198/1000 [00:20<01:12, 11.06it/s]"
     ]
    },
    {
     "name": "stdout",
     "output_type": "stream",
     "text": [
      "Processing img  275.jpeg\n",
      "HoG shape is  (133956,)\n",
      "Processing img  276.jpeg\n",
      "HoG shape is  (133956,)\n",
      "Processing img  277.jpeg\n"
     ]
    },
    {
     "name": "stderr",
     "output_type": "stream",
     "text": [
      " 20%|██        | 200/1000 [00:20<01:22,  9.70it/s]"
     ]
    },
    {
     "name": "stdout",
     "output_type": "stream",
     "text": [
      "HoG shape is  (133956,)\n",
      "Processing img  278.jpeg\n",
      "HoG shape is  (133956,)\n",
      "Processing img  279.jpeg\n"
     ]
    },
    {
     "name": "stderr",
     "output_type": "stream",
     "text": [
      " 20%|██        | 202/1000 [00:20<01:24,  9.50it/s]"
     ]
    },
    {
     "name": "stdout",
     "output_type": "stream",
     "text": [
      "HoG shape is  (133956,)\n",
      "Processing img  28.jpeg\n",
      "HoG shape is  (133956,)\n",
      "Processing img  280.jpeg\n",
      "HoG shape is  (133956,)\n",
      "Processing img  281.jpeg\n"
     ]
    },
    {
     "name": "stderr",
     "output_type": "stream",
     "text": [
      " 20%|██        | 205/1000 [00:20<01:22,  9.59it/s]"
     ]
    },
    {
     "name": "stdout",
     "output_type": "stream",
     "text": [
      "HoG shape is  (133956,)\n",
      "Processing img  282.jpeg\n",
      "HoG shape is  (133956,)\n",
      "Processing img  283.jpeg\n",
      "HoG shape is  (133956,)\n",
      "Processing img  284.jpeg\n"
     ]
    },
    {
     "name": "stderr",
     "output_type": "stream",
     "text": [
      " 21%|██        | 207/1000 [00:21<01:19, 10.03it/s]"
     ]
    },
    {
     "name": "stdout",
     "output_type": "stream",
     "text": [
      "HoG shape is  (133956,)\n",
      "Processing img  285.jpeg\n",
      "HoG shape is  (133956,)\n",
      "Processing img  286.jpeg\n"
     ]
    },
    {
     "name": "stderr",
     "output_type": "stream",
     "text": [
      " 21%|██        | 209/1000 [00:21<01:19,  9.94it/s]"
     ]
    },
    {
     "name": "stdout",
     "output_type": "stream",
     "text": [
      "HoG shape is  (133956,)\n",
      "Processing img  287.jpeg\n",
      "HoG shape is  (133956,)\n",
      "Processing img  288.jpeg\n"
     ]
    },
    {
     "name": "stderr",
     "output_type": "stream",
     "text": [
      " 21%|██▏       | 213/1000 [00:21<01:20,  9.76it/s]"
     ]
    },
    {
     "name": "stdout",
     "output_type": "stream",
     "text": [
      "HoG shape is  (133956,)\n",
      "Processing img  289.jpeg\n",
      "HoG shape is  (133956,)\n",
      "Processing img  29.jpeg\n",
      "HoG shape is  (133956,)\n",
      "Processing img  290.jpeg\n",
      "HoG shape is  (133956,)\n",
      "Processing img  291.jpeg\n",
      "HoG shape is  (133956,)\n"
     ]
    },
    {
     "name": "stderr",
     "output_type": "stream",
     "text": [
      " 22%|██▏       | 216/1000 [00:22<01:30,  8.69it/s]"
     ]
    },
    {
     "name": "stdout",
     "output_type": "stream",
     "text": [
      "Processing img  292.jpeg\n",
      "HoG shape is  (133956,)\n",
      "Processing img  293.jpeg\n"
     ]
    },
    {
     "name": "stderr",
     "output_type": "stream",
     "text": [
      " 22%|██▏       | 218/1000 [00:22<01:24,  9.28it/s]"
     ]
    },
    {
     "name": "stdout",
     "output_type": "stream",
     "text": [
      "HoG shape is  (133956,)\n",
      "Processing img  294.jpeg\n",
      "HoG shape is  (133956,)\n",
      "Processing img  295.jpeg\n",
      "HoG shape is  (133956,)\n",
      "Processing img  296.jpeg\n"
     ]
    },
    {
     "name": "stderr",
     "output_type": "stream",
     "text": [
      " 22%|██▏       | 220/1000 [00:22<01:19,  9.80it/s]"
     ]
    },
    {
     "name": "stdout",
     "output_type": "stream",
     "text": [
      "HoG shape is  (133956,)\n",
      "Processing img  297.jpeg\n",
      "HoG shape is  (133956,)\n",
      "Processing img  298.jpeg\n",
      "HoG shape is  (133956,)\n"
     ]
    },
    {
     "name": "stderr",
     "output_type": "stream",
     "text": [
      " 22%|██▏       | 223/1000 [00:22<01:22,  9.41it/s]"
     ]
    },
    {
     "name": "stdout",
     "output_type": "stream",
     "text": [
      "Processing img  299.jpeg\n",
      "HoG shape is  (133956,)\n",
      "Processing img  3.jpeg\n"
     ]
    },
    {
     "name": "stderr",
     "output_type": "stream",
     "text": [
      " 22%|██▏       | 224/1000 [00:22<01:24,  9.18it/s]"
     ]
    },
    {
     "name": "stdout",
     "output_type": "stream",
     "text": [
      "HoG shape is  (133956,)\n",
      "Processing img  30.jpeg\n",
      "HoG shape is  (133956,)\n"
     ]
    },
    {
     "name": "stderr",
     "output_type": "stream",
     "text": [
      " 23%|██▎       | 226/1000 [00:23<01:54,  6.75it/s]"
     ]
    },
    {
     "name": "stdout",
     "output_type": "stream",
     "text": [
      "Processing img  300.jpeg\n",
      "HoG shape is  (133956,)\n"
     ]
    },
    {
     "name": "stderr",
     "output_type": "stream",
     "text": [
      " 23%|██▎       | 227/1000 [00:23<01:52,  6.86it/s]"
     ]
    },
    {
     "name": "stdout",
     "output_type": "stream",
     "text": [
      "Processing img  301.jpeg\n",
      "HoG shape is  (133956,)\n",
      "Processing img  302.jpeg\n"
     ]
    },
    {
     "name": "stderr",
     "output_type": "stream",
     "text": [
      " 23%|██▎       | 229/1000 [00:23<01:39,  7.75it/s]"
     ]
    },
    {
     "name": "stdout",
     "output_type": "stream",
     "text": [
      "HoG shape is  (133956,)\n",
      "Processing img  303.jpeg\n",
      "HoG shape is  (133956,)\n",
      "Processing img  304.jpeg\n"
     ]
    },
    {
     "name": "stderr",
     "output_type": "stream",
     "text": [
      " 23%|██▎       | 231/1000 [00:23<01:28,  8.70it/s]"
     ]
    },
    {
     "name": "stdout",
     "output_type": "stream",
     "text": [
      "HoG shape is  (133956,)\n",
      "Processing img  305.jpeg\n",
      "HoG shape is  (133956,)\n",
      "Processing img  306.jpeg\n"
     ]
    },
    {
     "name": "stderr",
     "output_type": "stream",
     "text": [
      " 23%|██▎       | 233/1000 [00:24<01:26,  8.91it/s]"
     ]
    },
    {
     "name": "stdout",
     "output_type": "stream",
     "text": [
      "HoG shape is  (133956,)\n",
      "Processing img  307.jpeg\n",
      "HoG shape is  (133956,)\n",
      "Processing img  308.jpeg\n",
      "HoG shape is  (133956,)\n",
      "Processing img  309.jpeg\n"
     ]
    },
    {
     "name": "stderr",
     "output_type": "stream",
     "text": [
      " 24%|██▎       | 237/1000 [00:24<01:12, 10.53it/s]"
     ]
    },
    {
     "name": "stdout",
     "output_type": "stream",
     "text": [
      "HoG shape is  (133956,)\n",
      "Processing img  31.jpeg\n",
      "HoG shape is  (133956,)\n",
      "Processing img  310.jpeg\n",
      "HoG shape is  (133956,)\n",
      "Processing img  311.jpeg\n"
     ]
    },
    {
     "name": "stderr",
     "output_type": "stream",
     "text": [
      " 24%|██▍       | 239/1000 [00:24<01:21,  9.33it/s]"
     ]
    },
    {
     "name": "stdout",
     "output_type": "stream",
     "text": [
      "HoG shape is  (133956,)\n",
      "Processing img  312.jpeg\n",
      "HoG shape is  (133956,)\n",
      "Processing img  313.jpeg\n"
     ]
    },
    {
     "name": "stderr",
     "output_type": "stream",
     "text": [
      " 24%|██▍       | 241/1000 [00:24<01:23,  9.12it/s]"
     ]
    },
    {
     "name": "stdout",
     "output_type": "stream",
     "text": [
      "HoG shape is  (133956,)\n",
      "Processing img  314.jpeg\n",
      "HoG shape is  (133956,)\n",
      "Processing img  315.jpeg\n",
      "HoG shape is  (133956,)\n",
      "Processing img  316.jpeg\n"
     ]
    },
    {
     "name": "stderr",
     "output_type": "stream",
     "text": [
      " 24%|██▍       | 244/1000 [00:25<01:18,  9.67it/s]"
     ]
    },
    {
     "name": "stdout",
     "output_type": "stream",
     "text": [
      "HoG shape is  (133956,)\n",
      "Processing img  317.jpeg\n",
      "HoG shape is  (133956,)\n",
      "Processing img  318.jpeg\n",
      "HoG shape is  (133956,)\n",
      "Processing img  319.jpeg\n"
     ]
    },
    {
     "name": "stderr",
     "output_type": "stream",
     "text": [
      " 25%|██▍       | 248/1000 [00:25<01:11, 10.54it/s]"
     ]
    },
    {
     "name": "stdout",
     "output_type": "stream",
     "text": [
      "HoG shape is  (133956,)\n",
      "Processing img  32.jpeg\n",
      "HoG shape is  (133956,)\n",
      "Processing img  320.jpeg\n",
      "HoG shape is  (133956,)\n"
     ]
    },
    {
     "name": "stderr",
     "output_type": "stream",
     "text": [
      " 25%|██▌       | 250/1000 [00:25<01:09, 10.81it/s]"
     ]
    },
    {
     "name": "stdout",
     "output_type": "stream",
     "text": [
      "Processing img  321.jpeg\n",
      "HoG shape is  (133956,)\n",
      "Processing img  322.jpeg\n",
      "HoG shape is  (133956,)\n",
      "Processing img  323.jpeg\n"
     ]
    },
    {
     "name": "stderr",
     "output_type": "stream",
     "text": [
      " 25%|██▌       | 252/1000 [00:26<01:10, 10.62it/s]"
     ]
    },
    {
     "name": "stdout",
     "output_type": "stream",
     "text": [
      "HoG shape is  (133956,)\n",
      "Processing img  324.jpeg\n",
      "HoG shape is  (133956,)\n",
      "Processing img  325.jpeg\n"
     ]
    },
    {
     "name": "stderr",
     "output_type": "stream",
     "text": [
      " 25%|██▌       | 254/1000 [00:26<01:25,  8.72it/s]"
     ]
    },
    {
     "name": "stdout",
     "output_type": "stream",
     "text": [
      "HoG shape is  (133956,)\n",
      "Processing img  326.jpeg\n",
      "HoG shape is  (133956,)\n",
      "Processing img  327.jpeg\n"
     ]
    },
    {
     "name": "stderr",
     "output_type": "stream",
     "text": [
      " 26%|██▌       | 256/1000 [00:26<01:21,  9.17it/s]"
     ]
    },
    {
     "name": "stdout",
     "output_type": "stream",
     "text": [
      "HoG shape is  (133956,)\n",
      "Processing img  328.jpeg\n",
      "HoG shape is  (133956,)\n",
      "Processing img  329.jpeg\n",
      "HoG shape is  (133956,)\n",
      "Processing img  33.jpeg\n"
     ]
    },
    {
     "name": "stderr",
     "output_type": "stream",
     "text": [
      " 26%|██▌       | 259/1000 [00:26<01:18,  9.44it/s]"
     ]
    },
    {
     "name": "stdout",
     "output_type": "stream",
     "text": [
      "HoG shape is  (133956,)\n",
      "Processing img  330.jpeg\n",
      "HoG shape is  (133956,)\n",
      "Processing img  331.jpeg\n",
      "HoG shape is  (133956,)\n"
     ]
    },
    {
     "name": "stderr",
     "output_type": "stream",
     "text": [
      " 26%|██▌       | 262/1000 [00:27<01:13, 10.04it/s]"
     ]
    },
    {
     "name": "stdout",
     "output_type": "stream",
     "text": [
      "Processing img  332.jpeg\n",
      "HoG shape is  (133956,)\n",
      "Processing img  333.jpeg\n",
      "HoG shape is  (133956,)\n"
     ]
    },
    {
     "name": "stderr",
     "output_type": "stream",
     "text": [
      " 26%|██▋       | 264/1000 [00:27<01:09, 10.53it/s]"
     ]
    },
    {
     "name": "stdout",
     "output_type": "stream",
     "text": [
      "Processing img  334.jpeg\n",
      "HoG shape is  (133956,)\n",
      "Processing img  335.jpeg\n",
      "HoG shape is  (133956,)\n",
      "Processing img  336.jpeg\n"
     ]
    },
    {
     "name": "stderr",
     "output_type": "stream",
     "text": [
      " 27%|██▋       | 266/1000 [00:27<01:25,  8.60it/s]"
     ]
    },
    {
     "name": "stdout",
     "output_type": "stream",
     "text": [
      "HoG shape is  (133956,)\n",
      "Processing img  337.jpeg\n",
      "HoG shape is  (133956,)\n",
      "Processing img  338.jpeg\n"
     ]
    },
    {
     "name": "stderr",
     "output_type": "stream",
     "text": [
      " 27%|██▋       | 268/1000 [00:27<01:22,  8.83it/s]"
     ]
    },
    {
     "name": "stdout",
     "output_type": "stream",
     "text": [
      "HoG shape is  (133956,)\n",
      "Processing img  339.jpeg\n",
      "HoG shape is  (133956,)\n",
      "Processing img  34.jpeg\n",
      "HoG shape is  (133956,)\n",
      "Processing img  340.jpeg\n"
     ]
    },
    {
     "name": "stderr",
     "output_type": "stream",
     "text": [
      " 27%|██▋       | 272/1000 [00:28<01:11, 10.23it/s]"
     ]
    },
    {
     "name": "stdout",
     "output_type": "stream",
     "text": [
      "HoG shape is  (133956,)\n",
      "Processing img  341.jpeg\n",
      "HoG shape is  (133956,)\n",
      "Processing img  342.jpeg\n",
      "HoG shape is  (133956,)\n"
     ]
    },
    {
     "name": "stderr",
     "output_type": "stream",
     "text": [
      " 27%|██▋       | 274/1000 [00:28<01:08, 10.64it/s]"
     ]
    },
    {
     "name": "stdout",
     "output_type": "stream",
     "text": [
      "Processing img  343.jpeg\n",
      "HoG shape is  (133956,)\n",
      "Processing img  344.jpeg\n",
      "HoG shape is  (133956,)\n",
      "Processing img  345.jpeg\n"
     ]
    },
    {
     "name": "stderr",
     "output_type": "stream",
     "text": [
      " 28%|██▊       | 276/1000 [00:28<01:06, 10.88it/s]"
     ]
    },
    {
     "name": "stdout",
     "output_type": "stream",
     "text": [
      "HoG shape is  (133956,)\n",
      "Processing img  346.jpeg\n",
      "HoG shape is  (133956,)\n",
      "Processing img  347.jpeg\n"
     ]
    },
    {
     "name": "stderr",
     "output_type": "stream",
     "text": [
      " 28%|██▊       | 278/1000 [00:28<01:18,  9.21it/s]"
     ]
    },
    {
     "name": "stdout",
     "output_type": "stream",
     "text": [
      "HoG shape is  (133956,)\n",
      "Processing img  348.jpeg\n",
      "HoG shape is  (133956,)\n",
      "Processing img  349.jpeg\n"
     ]
    },
    {
     "name": "stderr",
     "output_type": "stream",
     "text": [
      " 28%|██▊       | 281/1000 [00:29<01:15,  9.46it/s]"
     ]
    },
    {
     "name": "stdout",
     "output_type": "stream",
     "text": [
      "HoG shape is  (133956,)\n",
      "Processing img  35.jpeg\n",
      "HoG shape is  (133956,)\n",
      "Processing img  350.jpeg\n",
      "HoG shape is  (133956,)\n"
     ]
    },
    {
     "name": "stderr",
     "output_type": "stream",
     "text": [
      " 28%|██▊       | 283/1000 [00:29<01:12,  9.90it/s]"
     ]
    },
    {
     "name": "stdout",
     "output_type": "stream",
     "text": [
      "Processing img  351.jpeg\n",
      "HoG shape is  (133956,)\n",
      "Processing img  352.jpeg\n",
      "HoG shape is  (133956,)\n",
      "Processing img  353.jpeg\n"
     ]
    },
    {
     "name": "stderr",
     "output_type": "stream",
     "text": [
      " 28%|██▊       | 285/1000 [00:29<01:11, 10.05it/s]"
     ]
    },
    {
     "name": "stdout",
     "output_type": "stream",
     "text": [
      "HoG shape is  (133956,)\n",
      "Processing img  354.jpeg\n",
      "HoG shape is  (133956,)\n",
      "Processing img  355.jpeg\n",
      "HoG shape is  (133956,)\n",
      "Processing img  356.jpeg\n"
     ]
    },
    {
     "name": "stderr",
     "output_type": "stream",
     "text": [
      " 29%|██▉       | 288/1000 [00:29<01:15,  9.48it/s]"
     ]
    },
    {
     "name": "stdout",
     "output_type": "stream",
     "text": [
      "HoG shape is  (133956,)\n",
      "Processing img  357.jpeg\n",
      "HoG shape is  (133956,)\n",
      "Processing img  358.jpeg\n",
      "HoG shape is  (133956,)\n"
     ]
    },
    {
     "name": "stderr",
     "output_type": "stream",
     "text": [
      " 29%|██▉       | 289/1000 [00:29<01:14,  9.52it/s]"
     ]
    },
    {
     "name": "stdout",
     "output_type": "stream",
     "text": [
      "Processing img  359.jpeg\n"
     ]
    },
    {
     "name": "stderr",
     "output_type": "stream",
     "text": [
      " 29%|██▉       | 291/1000 [00:30<01:31,  7.71it/s]"
     ]
    },
    {
     "name": "stdout",
     "output_type": "stream",
     "text": [
      "HoG shape is  (133956,)\n",
      "Processing img  36.jpeg\n",
      "HoG shape is  (133956,)\n",
      "Processing img  360.jpeg\n"
     ]
    },
    {
     "name": "stderr",
     "output_type": "stream",
     "text": [
      " 29%|██▉       | 293/1000 [00:30<01:25,  8.29it/s]"
     ]
    },
    {
     "name": "stdout",
     "output_type": "stream",
     "text": [
      "HoG shape is  (133956,)\n",
      "Processing img  361.jpeg\n",
      "HoG shape is  (133956,)\n",
      "Processing img  362.jpeg\n"
     ]
    },
    {
     "name": "stderr",
     "output_type": "stream",
     "text": [
      " 30%|██▉       | 295/1000 [00:30<01:19,  8.83it/s]"
     ]
    },
    {
     "name": "stdout",
     "output_type": "stream",
     "text": [
      "HoG shape is  (133956,)\n",
      "Processing img  363.jpeg\n",
      "HoG shape is  (133956,)\n",
      "Processing img  364.jpeg\n",
      "HoG shape is  (133956,)\n",
      "Processing img  365.jpeg\n"
     ]
    },
    {
     "name": "stderr",
     "output_type": "stream",
     "text": [
      " 30%|██▉       | 298/1000 [00:30<01:14,  9.41it/s]"
     ]
    },
    {
     "name": "stdout",
     "output_type": "stream",
     "text": [
      "HoG shape is  (133956,)\n",
      "Processing img  366.jpeg\n",
      "HoG shape is  (133956,)\n",
      "Processing img  367.jpeg\n"
     ]
    },
    {
     "name": "stderr",
     "output_type": "stream",
     "text": [
      " 30%|██▉       | 299/1000 [00:31<01:17,  9.09it/s]"
     ]
    },
    {
     "name": "stdout",
     "output_type": "stream",
     "text": [
      "HoG shape is  (133956,)\n",
      "Processing img  368.jpeg\n",
      "HoG shape is  (133956,)\n",
      "Processing img  369.jpeg\n",
      "HoG shape is  (133956,)\n"
     ]
    },
    {
     "name": "stderr",
     "output_type": "stream",
     "text": [
      " 30%|███       | 303/1000 [00:31<01:08, 10.21it/s]"
     ]
    },
    {
     "name": "stdout",
     "output_type": "stream",
     "text": [
      "Processing img  37.jpeg\n",
      "HoG shape is  (133956,)\n",
      "Processing img  370.jpeg\n",
      "HoG shape is  (133956,)\n",
      "Processing img  371.jpeg\n"
     ]
    },
    {
     "name": "stderr",
     "output_type": "stream",
     "text": [
      " 30%|███       | 305/1000 [00:31<01:13,  9.44it/s]"
     ]
    },
    {
     "name": "stdout",
     "output_type": "stream",
     "text": [
      "HoG shape is  (133956,)\n",
      "Processing img  372.jpeg\n",
      "HoG shape is  (133956,)\n",
      "Processing img  373.jpeg\n"
     ]
    },
    {
     "name": "stderr",
     "output_type": "stream",
     "text": [
      " 31%|███       | 307/1000 [00:32<01:24,  8.16it/s]"
     ]
    },
    {
     "name": "stdout",
     "output_type": "stream",
     "text": [
      "HoG shape is  (133956,)\n",
      "Processing img  374.jpeg\n",
      "HoG shape is  (133956,)\n",
      "Processing img  375.jpeg\n"
     ]
    },
    {
     "name": "stderr",
     "output_type": "stream",
     "text": [
      " 31%|███       | 309/1000 [00:32<01:19,  8.73it/s]"
     ]
    },
    {
     "name": "stdout",
     "output_type": "stream",
     "text": [
      "HoG shape is  (133956,)\n",
      "Processing img  376.jpeg\n",
      "HoG shape is  (133956,)\n",
      "Processing img  377.jpeg\n"
     ]
    },
    {
     "name": "stderr",
     "output_type": "stream",
     "text": [
      " 31%|███       | 311/1000 [00:32<01:21,  8.47it/s]"
     ]
    },
    {
     "name": "stdout",
     "output_type": "stream",
     "text": [
      "HoG shape is  (133956,)\n",
      "Processing img  378.jpeg\n",
      "HoG shape is  (133956,)\n",
      "Processing img  379.jpeg\n"
     ]
    },
    {
     "name": "stderr",
     "output_type": "stream",
     "text": [
      " 31%|███▏      | 313/1000 [00:32<01:17,  8.83it/s]"
     ]
    },
    {
     "name": "stdout",
     "output_type": "stream",
     "text": [
      "HoG shape is  (133956,)\n",
      "Processing img  38.jpeg\n",
      "HoG shape is  (133956,)\n",
      "Processing img  380.jpeg\n",
      "HoG shape is  (133956,)\n"
     ]
    },
    {
     "name": "stderr",
     "output_type": "stream",
     "text": [
      " 32%|███▏      | 316/1000 [00:32<01:10,  9.70it/s]"
     ]
    },
    {
     "name": "stdout",
     "output_type": "stream",
     "text": [
      "Processing img  381.jpeg\n",
      "HoG shape is  (133956,)\n",
      "Processing img  382.jpeg\n",
      "HoG shape is  (133956,)\n"
     ]
    },
    {
     "name": "stderr",
     "output_type": "stream",
     "text": [
      " 32%|███▏      | 317/1000 [00:33<01:18,  8.65it/s]"
     ]
    },
    {
     "name": "stdout",
     "output_type": "stream",
     "text": [
      "Processing img  383.jpeg\n",
      "HoG shape is  (133956,)\n",
      "Processing img  384.jpeg\n"
     ]
    },
    {
     "name": "stderr",
     "output_type": "stream",
     "text": [
      " 32%|███▏      | 319/1000 [00:33<01:20,  8.49it/s]"
     ]
    },
    {
     "name": "stdout",
     "output_type": "stream",
     "text": [
      "HoG shape is  (133956,)\n",
      "Processing img  385.jpeg\n",
      "HoG shape is  (133956,)\n",
      "Processing img  386.jpeg\n",
      "HoG shape is  (133956,)\n",
      "Processing img  387.jpeg\n"
     ]
    },
    {
     "name": "stderr",
     "output_type": "stream",
     "text": [
      " 32%|███▏      | 322/1000 [00:33<01:16,  8.88it/s]"
     ]
    },
    {
     "name": "stdout",
     "output_type": "stream",
     "text": [
      "HoG shape is  (133956,)\n",
      "Processing img  388.jpeg\n",
      "HoG shape is  (133956,)\n",
      "Processing img  389.jpeg\n",
      "HoG shape is  (133956,)\n",
      "Processing img  39.jpeg\n"
     ]
    },
    {
     "name": "stderr",
     "output_type": "stream",
     "text": [
      " 32%|███▎      | 325/1000 [00:34<01:14,  9.02it/s]"
     ]
    },
    {
     "name": "stdout",
     "output_type": "stream",
     "text": [
      "HoG shape is  (133956,)\n",
      "Processing img  390.jpeg\n",
      "HoG shape is  (133956,)\n",
      "Processing img  391.jpeg\n"
     ]
    },
    {
     "name": "stderr",
     "output_type": "stream",
     "text": [
      " 33%|███▎      | 327/1000 [00:34<01:15,  8.88it/s]"
     ]
    },
    {
     "name": "stdout",
     "output_type": "stream",
     "text": [
      "HoG shape is  (133956,)\n",
      "Processing img  392.jpeg\n",
      "HoG shape is  (133956,)\n",
      "Processing img  393.jpeg\n",
      "HoG shape is  (133956,)\n",
      "Processing img  394.jpeg\n"
     ]
    },
    {
     "name": "stderr",
     "output_type": "stream",
     "text": [
      " 33%|███▎      | 330/1000 [00:34<01:12,  9.18it/s]"
     ]
    },
    {
     "name": "stdout",
     "output_type": "stream",
     "text": [
      "HoG shape is  (133956,)\n",
      "Processing img  395.jpeg\n",
      "HoG shape is  (133956,)\n",
      "Processing img  396.jpeg\n",
      "HoG shape is  (133956,)\n",
      "Processing img  397.jpeg\n"
     ]
    },
    {
     "name": "stderr",
     "output_type": "stream",
     "text": [
      " 33%|███▎      | 332/1000 [00:34<01:10,  9.54it/s]"
     ]
    },
    {
     "name": "stdout",
     "output_type": "stream",
     "text": [
      "HoG shape is  (133956,)\n",
      "Processing img  398.jpeg\n",
      "HoG shape is  (133956,)\n"
     ]
    },
    {
     "name": "stderr",
     "output_type": "stream",
     "text": [
      " 33%|███▎      | 334/1000 [00:35<01:22,  8.10it/s]"
     ]
    },
    {
     "name": "stdout",
     "output_type": "stream",
     "text": [
      "Processing img  399.jpeg\n",
      "HoG shape is  (133956,)\n",
      "Processing img  4.jpeg\n",
      "HoG shape is  (133956,)\n",
      "Processing img  40.jpeg\n"
     ]
    },
    {
     "name": "stderr",
     "output_type": "stream",
     "text": [
      " 34%|███▍      | 338/1000 [00:35<01:08,  9.62it/s]"
     ]
    },
    {
     "name": "stdout",
     "output_type": "stream",
     "text": [
      "HoG shape is  (133956,)\n",
      "Processing img  400.jpeg\n",
      "HoG shape is  (133956,)\n",
      "Processing img  401.jpeg\n",
      "HoG shape is  (133956,)\n"
     ]
    },
    {
     "name": "stderr",
     "output_type": "stream",
     "text": [
      " 34%|███▍      | 340/1000 [00:35<01:04, 10.21it/s]"
     ]
    },
    {
     "name": "stdout",
     "output_type": "stream",
     "text": [
      "Processing img  402.jpeg\n",
      "HoG shape is  (133956,)\n",
      "Processing img  403.jpeg\n",
      "HoG shape is  (133956,)\n",
      "Processing img  404.jpeg\n"
     ]
    },
    {
     "name": "stderr",
     "output_type": "stream",
     "text": [
      " 34%|███▍      | 342/1000 [00:35<01:05, 10.11it/s]"
     ]
    },
    {
     "name": "stdout",
     "output_type": "stream",
     "text": [
      "HoG shape is  (133956,)\n",
      "Processing img  405.jpeg\n",
      "HoG shape is  (133956,)\n",
      "Processing img  406.jpeg\n",
      "HoG shape is  (133956,)\n",
      "Processing img  407.jpeg\n"
     ]
    },
    {
     "name": "stderr",
     "output_type": "stream",
     "text": [
      " 34%|███▍      | 344/1000 [00:36<01:02, 10.44it/s]"
     ]
    },
    {
     "name": "stdout",
     "output_type": "stream",
     "text": [
      "HoG shape is  (133956,)\n",
      "Processing img  408.jpeg\n",
      "HoG shape is  (133956,)\n",
      "Processing img  409.jpeg\n"
     ]
    },
    {
     "name": "stderr",
     "output_type": "stream",
     "text": [
      " 35%|███▍      | 347/1000 [00:36<01:14,  8.80it/s]"
     ]
    },
    {
     "name": "stdout",
     "output_type": "stream",
     "text": [
      "HoG shape is  (133956,)\n",
      "Processing img  41.jpeg\n",
      "HoG shape is  (133956,)\n",
      "Processing img  410.jpeg\n"
     ]
    },
    {
     "name": "stderr",
     "output_type": "stream",
     "text": [
      " 35%|███▍      | 349/1000 [00:36<01:11,  9.07it/s]"
     ]
    },
    {
     "name": "stdout",
     "output_type": "stream",
     "text": [
      "HoG shape is  (133956,)\n",
      "Processing img  411.jpeg\n",
      "HoG shape is  (133956,)\n",
      "Processing img  412.jpeg\n",
      "HoG shape is  (133956,)\n",
      "Processing img  413.jpeg\n"
     ]
    },
    {
     "name": "stderr",
     "output_type": "stream",
     "text": [
      " 35%|███▌      | 353/1000 [00:36<01:02, 10.30it/s]"
     ]
    },
    {
     "name": "stdout",
     "output_type": "stream",
     "text": [
      "HoG shape is  (133956,)\n",
      "Processing img  414.jpeg\n",
      "HoG shape is  (133956,)\n",
      "Processing img  415.jpeg\n",
      "HoG shape is  (133956,)\n",
      "Processing img  416.jpeg\n"
     ]
    },
    {
     "name": "stderr",
     "output_type": "stream",
     "text": [
      " 36%|███▌      | 355/1000 [00:37<01:00, 10.61it/s]"
     ]
    },
    {
     "name": "stdout",
     "output_type": "stream",
     "text": [
      "HoG shape is  (133956,)\n",
      "Processing img  417.jpeg\n",
      "HoG shape is  (133956,)\n",
      "Processing img  418.jpeg\n",
      "HoG shape is  (133956,)\n",
      "Processing img  419.jpeg\n"
     ]
    },
    {
     "name": "stderr",
     "output_type": "stream",
     "text": [
      " 36%|███▌      | 357/1000 [00:37<01:00, 10.59it/s]"
     ]
    },
    {
     "name": "stdout",
     "output_type": "stream",
     "text": [
      "HoG shape is  (133956,)\n",
      "Processing img  42.jpeg\n",
      "HoG shape is  (133956,)\n",
      "Processing img  420.jpeg\n"
     ]
    },
    {
     "name": "stderr",
     "output_type": "stream",
     "text": [
      " 36%|███▌      | 359/1000 [00:37<01:12,  8.90it/s]"
     ]
    },
    {
     "name": "stdout",
     "output_type": "stream",
     "text": [
      "HoG shape is  (133956,)\n",
      "Processing img  421.jpeg\n",
      "HoG shape is  (133956,)\n",
      "Processing img  422.jpeg\n",
      "HoG shape is  (133956,)\n"
     ]
    },
    {
     "name": "stderr",
     "output_type": "stream",
     "text": [
      " 36%|███▋      | 363/1000 [00:38<01:04,  9.82it/s]"
     ]
    },
    {
     "name": "stdout",
     "output_type": "stream",
     "text": [
      "Processing img  423.jpeg\n",
      "HoG shape is  (133956,)\n",
      "Processing img  424.jpeg\n",
      "HoG shape is  (133956,)\n"
     ]
    },
    {
     "name": "stderr",
     "output_type": "stream",
     "text": [
      " 36%|███▋      | 365/1000 [00:38<01:01, 10.39it/s]"
     ]
    },
    {
     "name": "stdout",
     "output_type": "stream",
     "text": [
      "Processing img  425.jpeg\n",
      "HoG shape is  (133956,)\n",
      "Processing img  426.jpeg\n",
      "HoG shape is  (133956,)\n",
      "Processing img  427.jpeg\n"
     ]
    },
    {
     "name": "stderr",
     "output_type": "stream",
     "text": [
      " 37%|███▋      | 367/1000 [00:38<01:00, 10.53it/s]"
     ]
    },
    {
     "name": "stdout",
     "output_type": "stream",
     "text": [
      "HoG shape is  (133956,)\n",
      "Processing img  428.jpeg\n",
      "HoG shape is  (133956,)\n",
      "Processing img  429.jpeg\n",
      "HoG shape is  (133956,)\n",
      "Processing img  43.jpeg\n"
     ]
    },
    {
     "name": "stderr",
     "output_type": "stream",
     "text": [
      " 37%|███▋      | 369/1000 [00:38<00:59, 10.65it/s]"
     ]
    },
    {
     "name": "stdout",
     "output_type": "stream",
     "text": [
      "HoG shape is  (133956,)\n",
      "Processing img  430.jpeg\n",
      "HoG shape is  (133956,)\n",
      "Processing img  431.jpeg\n"
     ]
    },
    {
     "name": "stderr",
     "output_type": "stream",
     "text": [
      " 37%|███▋      | 372/1000 [00:39<01:11,  8.80it/s]"
     ]
    },
    {
     "name": "stdout",
     "output_type": "stream",
     "text": [
      "HoG shape is  (133956,)\n",
      "Processing img  432.jpeg\n",
      "HoG shape is  (133956,)\n",
      "Processing img  433.jpeg\n",
      "HoG shape is  (133956,)\n",
      "Processing img  434.jpeg\n"
     ]
    },
    {
     "name": "stderr",
     "output_type": "stream",
     "text": [
      " 38%|███▊      | 375/1000 [00:39<01:07,  9.20it/s]"
     ]
    },
    {
     "name": "stdout",
     "output_type": "stream",
     "text": [
      "HoG shape is  (133956,)\n",
      "Processing img  435.jpeg\n",
      "HoG shape is  (133956,)\n",
      "Processing img  436.jpeg\n"
     ]
    },
    {
     "name": "stderr",
     "output_type": "stream",
     "text": [
      " 38%|███▊      | 377/1000 [00:39<01:06,  9.42it/s]"
     ]
    },
    {
     "name": "stdout",
     "output_type": "stream",
     "text": [
      "HoG shape is  (133956,)\n",
      "Processing img  437.jpeg\n",
      "HoG shape is  (133956,)\n",
      "Processing img  438.jpeg\n",
      "HoG shape is  (133956,)\n",
      "Processing img  439.jpeg\n"
     ]
    },
    {
     "name": "stderr",
     "output_type": "stream",
     "text": [
      " 38%|███▊      | 381/1000 [00:39<00:58, 10.53it/s]"
     ]
    },
    {
     "name": "stdout",
     "output_type": "stream",
     "text": [
      "HoG shape is  (133956,)\n",
      "Processing img  44.jpeg\n",
      "HoG shape is  (133956,)\n",
      "Processing img  440.jpeg\n",
      "HoG shape is  (133956,)\n",
      "Processing img  441.jpeg\n",
      "HoG shape is  (133956,)\n",
      "Processing img  442.jpeg\n",
      "HoG shape is  (133956,)\n"
     ]
    },
    {
     "name": "stderr",
     "output_type": "stream",
     "text": [
      " 38%|███▊      | 384/1000 [00:40<01:12,  8.54it/s]"
     ]
    },
    {
     "name": "stdout",
     "output_type": "stream",
     "text": [
      "Processing img  443.jpeg\n",
      "HoG shape is  (133956,)\n",
      "Processing img  444.jpeg\n",
      "HoG shape is  (133956,)\n",
      "Processing img  445.jpeg\n"
     ]
    },
    {
     "name": "stderr",
     "output_type": "stream",
     "text": [
      " 39%|███▉      | 388/1000 [00:40<01:02,  9.87it/s]"
     ]
    },
    {
     "name": "stdout",
     "output_type": "stream",
     "text": [
      "HoG shape is  (133956,)\n",
      "Processing img  446.jpeg\n",
      "HoG shape is  (133956,)\n",
      "Processing img  447.jpeg\n",
      "HoG shape is  (133956,)\n",
      "Processing img  448.jpeg\n"
     ]
    },
    {
     "name": "stderr",
     "output_type": "stream",
     "text": [
      " 39%|███▉      | 390/1000 [00:40<00:59, 10.26it/s]"
     ]
    },
    {
     "name": "stdout",
     "output_type": "stream",
     "text": [
      "HoG shape is  (133956,)\n",
      "Processing img  449.jpeg\n",
      "HoG shape is  (133956,)\n",
      "Processing img  45.jpeg\n",
      "HoG shape is  (133956,)\n",
      "Processing img  450.jpeg\n"
     ]
    },
    {
     "name": "stderr",
     "output_type": "stream",
     "text": [
      " 39%|███▉      | 394/1000 [00:41<00:59, 10.22it/s]"
     ]
    },
    {
     "name": "stdout",
     "output_type": "stream",
     "text": [
      "HoG shape is  (133956,)\n",
      "Processing img  451.jpeg\n",
      "HoG shape is  (133956,)\n",
      "Processing img  452.jpeg\n",
      "HoG shape is  (133956,)\n",
      "Processing img  453.jpeg\n"
     ]
    },
    {
     "name": "stderr",
     "output_type": "stream",
     "text": [
      " 40%|███▉      | 396/1000 [00:41<01:06,  9.07it/s]"
     ]
    },
    {
     "name": "stdout",
     "output_type": "stream",
     "text": [
      "HoG shape is  (133956,)\n",
      "Processing img  454.jpeg\n",
      "HoG shape is  (133956,)\n",
      "Processing img  455.jpeg\n"
     ]
    },
    {
     "name": "stderr",
     "output_type": "stream",
     "text": [
      " 40%|███▉      | 398/1000 [00:41<01:06,  9.11it/s]"
     ]
    },
    {
     "name": "stdout",
     "output_type": "stream",
     "text": [
      "HoG shape is  (133956,)\n",
      "Processing img  456.jpeg\n",
      "HoG shape is  (133956,)\n",
      "Processing img  457.jpeg\n",
      "HoG shape is  (133956,)\n",
      "Processing img  458.jpeg\n"
     ]
    },
    {
     "name": "stderr",
     "output_type": "stream",
     "text": [
      " 40%|████      | 401/1000 [00:42<01:01,  9.70it/s]"
     ]
    },
    {
     "name": "stdout",
     "output_type": "stream",
     "text": [
      "HoG shape is  (133956,)\n",
      "Processing img  459.jpeg\n",
      "HoG shape is  (133956,)\n",
      "Processing img  46.jpeg\n",
      "HoG shape is  (133956,)\n",
      "Processing img  460.jpeg\n"
     ]
    },
    {
     "name": "stderr",
     "output_type": "stream",
     "text": [
      " 40%|████      | 405/1000 [00:42<00:55, 10.80it/s]"
     ]
    },
    {
     "name": "stdout",
     "output_type": "stream",
     "text": [
      "HoG shape is  (133956,)\n",
      "Processing img  461.jpeg\n",
      "HoG shape is  (133956,)\n",
      "Processing img  462.jpeg\n",
      "HoG shape is  (133956,)\n",
      "Processing img  463.jpeg\n"
     ]
    },
    {
     "name": "stderr",
     "output_type": "stream",
     "text": [
      " 41%|████      | 407/1000 [00:42<01:06,  8.96it/s]"
     ]
    },
    {
     "name": "stdout",
     "output_type": "stream",
     "text": [
      "HoG shape is  (133956,)\n",
      "Processing img  464.jpeg\n",
      "HoG shape is  (133956,)\n",
      "Processing img  465.jpeg\n"
     ]
    },
    {
     "name": "stderr",
     "output_type": "stream",
     "text": [
      " 41%|████      | 409/1000 [00:42<01:06,  8.91it/s]"
     ]
    },
    {
     "name": "stdout",
     "output_type": "stream",
     "text": [
      "HoG shape is  (133956,)\n",
      "Processing img  466.jpeg\n",
      "HoG shape is  (133956,)\n",
      "Processing img  467.jpeg\n"
     ]
    },
    {
     "name": "stderr",
     "output_type": "stream",
     "text": [
      " 41%|████      | 411/1000 [00:43<01:04,  9.10it/s]"
     ]
    },
    {
     "name": "stdout",
     "output_type": "stream",
     "text": [
      "HoG shape is  (133956,)\n",
      "Processing img  468.jpeg\n",
      "HoG shape is  (133956,)\n",
      "Processing img  469.jpeg\n",
      "HoG shape is  (133956,)\n",
      "Processing img  47.jpeg\n"
     ]
    },
    {
     "name": "stderr",
     "output_type": "stream",
     "text": [
      " 42%|████▏     | 415/1000 [00:43<00:57, 10.16it/s]"
     ]
    },
    {
     "name": "stdout",
     "output_type": "stream",
     "text": [
      "HoG shape is  (133956,)\n",
      "Processing img  470.jpeg\n",
      "HoG shape is  (133956,)\n",
      "Processing img  471.jpeg\n",
      "HoG shape is  (133956,)\n",
      "Processing img  472.jpeg\n"
     ]
    },
    {
     "name": "stderr",
     "output_type": "stream",
     "text": [
      " 42%|████▏     | 417/1000 [00:43<00:54, 10.65it/s]"
     ]
    },
    {
     "name": "stdout",
     "output_type": "stream",
     "text": [
      "HoG shape is  (133956,)\n",
      "Processing img  473.jpeg\n",
      "HoG shape is  (133956,)\n",
      "Processing img  474.jpeg\n",
      "HoG shape is  (133956,)\n",
      "Processing img  475.jpeg\n"
     ]
    },
    {
     "name": "stderr",
     "output_type": "stream",
     "text": [
      " 42%|████▏     | 419/1000 [00:43<00:59,  9.81it/s]"
     ]
    },
    {
     "name": "stdout",
     "output_type": "stream",
     "text": [
      "HoG shape is  (133956,)\n",
      "Processing img  476.jpeg\n",
      "HoG shape is  (133956,)\n"
     ]
    },
    {
     "name": "stderr",
     "output_type": "stream",
     "text": [
      " 42%|████▏     | 421/1000 [00:44<01:06,  8.77it/s]"
     ]
    },
    {
     "name": "stdout",
     "output_type": "stream",
     "text": [
      "Processing img  477.jpeg\n",
      "HoG shape is  (133956,)\n",
      "Processing img  478.jpeg\n"
     ]
    },
    {
     "name": "stderr",
     "output_type": "stream",
     "text": [
      " 42%|████▏     | 423/1000 [00:44<01:04,  8.99it/s]"
     ]
    },
    {
     "name": "stdout",
     "output_type": "stream",
     "text": [
      "HoG shape is  (133956,)\n",
      "Processing img  479.jpeg\n",
      "HoG shape is  (133956,)\n",
      "Processing img  48.jpeg\n",
      "HoG shape is  (133956,)\n",
      "Processing img  480.jpeg\n"
     ]
    },
    {
     "name": "stderr",
     "output_type": "stream",
     "text": [
      " 43%|████▎     | 426/1000 [00:44<01:00,  9.56it/s]"
     ]
    },
    {
     "name": "stdout",
     "output_type": "stream",
     "text": [
      "HoG shape is  (133956,)\n",
      "Processing img  481.jpeg\n",
      "HoG shape is  (133956,)\n",
      "Processing img  482.jpeg\n",
      "HoG shape is  (133956,)\n",
      "Processing img  483.jpeg\n"
     ]
    },
    {
     "name": "stderr",
     "output_type": "stream",
     "text": [
      " 43%|████▎     | 430/1000 [00:45<00:54, 10.50it/s]"
     ]
    },
    {
     "name": "stdout",
     "output_type": "stream",
     "text": [
      "HoG shape is  (133956,)\n",
      "Processing img  484.jpeg\n",
      "HoG shape is  (133956,)\n",
      "Processing img  485.jpeg\n",
      "HoG shape is  (133956,)\n"
     ]
    },
    {
     "name": "stderr",
     "output_type": "stream",
     "text": [
      " 43%|████▎     | 432/1000 [00:45<00:54, 10.42it/s]"
     ]
    },
    {
     "name": "stdout",
     "output_type": "stream",
     "text": [
      "Processing img  486.jpeg\n",
      "HoG shape is  (133956,)\n",
      "Processing img  487.jpeg\n",
      "HoG shape is  (133956,)\n"
     ]
    },
    {
     "name": "stderr",
     "output_type": "stream",
     "text": [
      " 43%|████▎     | 434/1000 [00:45<00:53, 10.57it/s]"
     ]
    },
    {
     "name": "stdout",
     "output_type": "stream",
     "text": [
      "Processing img  488.jpeg\n",
      "HoG shape is  (133956,)\n",
      "Processing img  489.jpeg\n",
      "HoG shape is  (133956,)\n",
      "Processing img  49.jpeg\n",
      "HoG shape is  (133956,)\n",
      "Processing img  490.jpeg\n"
     ]
    },
    {
     "name": "stderr",
     "output_type": "stream",
     "text": [
      " 44%|████▎     | 437/1000 [00:45<01:03,  8.89it/s]"
     ]
    },
    {
     "name": "stdout",
     "output_type": "stream",
     "text": [
      "HoG shape is  (133956,)\n",
      "Processing img  491.jpeg\n",
      "HoG shape is  (133956,)\n",
      "Processing img  492.jpeg\n"
     ]
    },
    {
     "name": "stderr",
     "output_type": "stream",
     "text": [
      " 44%|████▍     | 439/1000 [00:46<01:04,  8.71it/s]"
     ]
    },
    {
     "name": "stdout",
     "output_type": "stream",
     "text": [
      "HoG shape is  (133956,)\n",
      "Processing img  493.jpeg\n",
      "HoG shape is  (133956,)\n",
      "Processing img  494.jpeg\n",
      "HoG shape is  (133956,)\n",
      "Processing img  495.jpeg\n"
     ]
    },
    {
     "name": "stderr",
     "output_type": "stream",
     "text": [
      " 44%|████▍     | 443/1000 [00:46<00:55, 10.01it/s]"
     ]
    },
    {
     "name": "stdout",
     "output_type": "stream",
     "text": [
      "HoG shape is  (133956,)\n",
      "Processing img  496.jpeg\n",
      "HoG shape is  (133956,)\n",
      "Processing img  497.jpeg\n",
      "HoG shape is  (133956,)\n",
      "Processing img  498.jpeg\n"
     ]
    },
    {
     "name": "stderr",
     "output_type": "stream",
     "text": [
      " 44%|████▍     | 445/1000 [00:46<00:54, 10.26it/s]"
     ]
    },
    {
     "name": "stdout",
     "output_type": "stream",
     "text": [
      "HoG shape is  (133956,)\n",
      "Processing img  499.jpeg\n",
      "HoG shape is  (133956,)\n",
      "Processing img  5.jpeg\n",
      "HoG shape is  (133956,)\n",
      "Processing img  50.jpeg\n"
     ]
    },
    {
     "name": "stderr",
     "output_type": "stream",
     "text": [
      " 45%|████▍     | 447/1000 [00:46<00:56,  9.86it/s]"
     ]
    },
    {
     "name": "stdout",
     "output_type": "stream",
     "text": [
      "HoG shape is  (133956,)\n",
      "Processing img  500.jpeg\n",
      "HoG shape is  (133956,)\n"
     ]
    },
    {
     "name": "stderr",
     "output_type": "stream",
     "text": [
      " 45%|████▍     | 449/1000 [00:47<01:03,  8.66it/s]"
     ]
    },
    {
     "name": "stdout",
     "output_type": "stream",
     "text": [
      "Processing img  501.jpeg\n",
      "HoG shape is  (133956,)\n",
      "Processing img  502.jpeg\n",
      "HoG shape is  (133956,)\n",
      "Processing img  503.jpeg\n"
     ]
    },
    {
     "name": "stderr",
     "output_type": "stream",
     "text": [
      " 45%|████▌     | 452/1000 [00:47<00:58,  9.33it/s]"
     ]
    },
    {
     "name": "stdout",
     "output_type": "stream",
     "text": [
      "HoG shape is  (133956,)\n",
      "Processing img  504.jpeg\n",
      "HoG shape is  (133956,)\n",
      "Processing img  505.jpeg\n",
      "HoG shape is  (133956,)\n",
      "Processing img  506.jpeg\n"
     ]
    },
    {
     "name": "stderr",
     "output_type": "stream",
     "text": [
      " 46%|████▌     | 456/1000 [00:47<00:53, 10.10it/s]"
     ]
    },
    {
     "name": "stdout",
     "output_type": "stream",
     "text": [
      "HoG shape is  (133956,)\n",
      "Processing img  507.jpeg\n",
      "HoG shape is  (133956,)\n",
      "Processing img  508.jpeg\n",
      "HoG shape is  (133956,)\n"
     ]
    },
    {
     "name": "stderr",
     "output_type": "stream",
     "text": [
      " 46%|████▌     | 458/1000 [00:48<00:54, 10.03it/s]"
     ]
    },
    {
     "name": "stdout",
     "output_type": "stream",
     "text": [
      "Processing img  509.jpeg\n",
      "HoG shape is  (133956,)\n",
      "Processing img  51.jpeg\n",
      "HoG shape is  (133956,)\n"
     ]
    },
    {
     "name": "stderr",
     "output_type": "stream",
     "text": [
      " 46%|████▌     | 460/1000 [00:48<00:51, 10.46it/s]"
     ]
    },
    {
     "name": "stdout",
     "output_type": "stream",
     "text": [
      "Processing img  510.jpeg\n",
      "HoG shape is  (133956,)\n",
      "Processing img  511.jpeg\n",
      "HoG shape is  (133956,)\n",
      "Processing img  512.jpeg\n",
      "HoG shape is  (133956,)\n",
      "Processing img  513.jpeg\n"
     ]
    },
    {
     "name": "stderr",
     "output_type": "stream",
     "text": [
      " 46%|████▋     | 463/1000 [00:48<01:01,  8.69it/s]"
     ]
    },
    {
     "name": "stdout",
     "output_type": "stream",
     "text": [
      "HoG shape is  (133956,)\n",
      "Processing img  514.jpeg\n",
      "HoG shape is  (133956,)\n",
      "Processing img  515.jpeg\n"
     ]
    },
    {
     "name": "stderr",
     "output_type": "stream",
     "text": [
      " 46%|████▋     | 465/1000 [00:48<01:02,  8.60it/s]"
     ]
    },
    {
     "name": "stdout",
     "output_type": "stream",
     "text": [
      "HoG shape is  (133956,)\n",
      "Processing img  516.jpeg\n",
      "HoG shape is  (133956,)\n",
      "Processing img  517.jpeg\n"
     ]
    },
    {
     "name": "stderr",
     "output_type": "stream",
     "text": [
      " 47%|████▋     | 467/1000 [00:49<00:57,  9.29it/s]"
     ]
    },
    {
     "name": "stdout",
     "output_type": "stream",
     "text": [
      "HoG shape is  (133956,)\n",
      "Processing img  518.jpeg\n",
      "HoG shape is  (133956,)\n",
      "Processing img  519.jpeg\n",
      "HoG shape is  (133956,)\n",
      "Processing img  52.jpeg\n"
     ]
    },
    {
     "name": "stderr",
     "output_type": "stream",
     "text": [
      " 47%|████▋     | 471/1000 [00:49<00:51, 10.33it/s]"
     ]
    },
    {
     "name": "stdout",
     "output_type": "stream",
     "text": [
      "HoG shape is  (133956,)\n",
      "Processing img  520.jpeg\n",
      "HoG shape is  (133956,)\n",
      "Processing img  521.jpeg\n",
      "HoG shape is  (133956,)\n",
      "Processing img  522.jpeg\n",
      "HoG shape is  (133956,)\n",
      "Processing img  523.jpeg\n",
      "HoG shape is  (133956,)\n"
     ]
    },
    {
     "name": "stderr",
     "output_type": "stream",
     "text": [
      " 47%|████▋     | 474/1000 [00:49<01:02,  8.48it/s]"
     ]
    },
    {
     "name": "stdout",
     "output_type": "stream",
     "text": [
      "Processing img  524.jpeg\n",
      "HoG shape is  (133956,)\n",
      "Processing img  525.jpeg\n"
     ]
    },
    {
     "name": "stderr",
     "output_type": "stream",
     "text": [
      " 48%|████▊     | 476/1000 [00:50<00:58,  8.93it/s]"
     ]
    },
    {
     "name": "stdout",
     "output_type": "stream",
     "text": [
      "HoG shape is  (133956,)\n",
      "Processing img  526.jpeg\n",
      "HoG shape is  (133956,)\n",
      "Processing img  527.jpeg\n",
      "HoG shape is  (133956,)\n",
      "Processing img  528.jpeg\n"
     ]
    },
    {
     "name": "stderr",
     "output_type": "stream",
     "text": [
      " 48%|████▊     | 480/1000 [00:50<00:51, 10.09it/s]"
     ]
    },
    {
     "name": "stdout",
     "output_type": "stream",
     "text": [
      "HoG shape is  (133956,)\n",
      "Processing img  529.jpeg\n",
      "HoG shape is  (133956,)\n",
      "Processing img  53.jpeg\n",
      "HoG shape is  (133956,)\n",
      "Processing img  530.jpeg\n"
     ]
    },
    {
     "name": "stderr",
     "output_type": "stream",
     "text": [
      " 48%|████▊     | 482/1000 [00:50<00:49, 10.48it/s]"
     ]
    },
    {
     "name": "stdout",
     "output_type": "stream",
     "text": [
      "HoG shape is  (133956,)\n",
      "Processing img  531.jpeg\n",
      "HoG shape is  (133956,)\n",
      "Processing img  532.jpeg\n",
      "HoG shape is  (133956,)\n",
      "Processing img  533.jpeg\n"
     ]
    },
    {
     "name": "stderr",
     "output_type": "stream",
     "text": [
      " 48%|████▊     | 484/1000 [00:50<00:49, 10.52it/s]"
     ]
    },
    {
     "name": "stdout",
     "output_type": "stream",
     "text": [
      "HoG shape is  (133956,)\n",
      "Processing img  534.jpeg\n",
      "HoG shape is  (133956,)\n",
      "Processing img  535.jpeg\n"
     ]
    },
    {
     "name": "stderr",
     "output_type": "stream",
     "text": [
      " 49%|████▊     | 487/1000 [00:51<00:58,  8.82it/s]"
     ]
    },
    {
     "name": "stdout",
     "output_type": "stream",
     "text": [
      "HoG shape is  (133956,)\n",
      "Processing img  536.jpeg\n",
      "HoG shape is  (133956,)\n",
      "Processing img  537.jpeg\n",
      "HoG shape is  (133956,)\n",
      "Processing img  538.jpeg\n"
     ]
    },
    {
     "name": "stderr",
     "output_type": "stream",
     "text": [
      " 49%|████▉     | 491/1000 [00:51<00:51,  9.89it/s]"
     ]
    },
    {
     "name": "stdout",
     "output_type": "stream",
     "text": [
      "HoG shape is  (133956,)\n",
      "Processing img  539.jpeg\n",
      "HoG shape is  (133956,)\n",
      "Processing img  54.jpeg\n",
      "HoG shape is  (133956,)\n",
      "Processing img  540.jpeg\n"
     ]
    },
    {
     "name": "stderr",
     "output_type": "stream",
     "text": [
      " 49%|████▉     | 493/1000 [00:51<00:49, 10.26it/s]"
     ]
    },
    {
     "name": "stdout",
     "output_type": "stream",
     "text": [
      "HoG shape is  (133956,)\n",
      "Processing img  541.jpeg\n",
      "HoG shape is  (133956,)\n",
      "Processing img  542.jpeg\n",
      "HoG shape is  (133956,)\n",
      "Processing img  543.jpeg\n"
     ]
    },
    {
     "name": "stderr",
     "output_type": "stream",
     "text": [
      " 50%|████▉     | 495/1000 [00:51<00:49, 10.16it/s]"
     ]
    },
    {
     "name": "stdout",
     "output_type": "stream",
     "text": [
      "HoG shape is  (133956,)\n",
      "Processing img  544.jpeg\n",
      "HoG shape is  (133956,)\n",
      "Processing img  545.jpeg\n",
      "HoG shape is  (133956,)\n"
     ]
    },
    {
     "name": "stderr",
     "output_type": "stream",
     "text": [
      " 50%|████▉     | 497/1000 [00:52<00:50,  9.95it/s]"
     ]
    },
    {
     "name": "stdout",
     "output_type": "stream",
     "text": [
      "Processing img  546.jpeg\n",
      "HoG shape is  (133956,)\n",
      "Processing img  547.jpeg\n"
     ]
    },
    {
     "name": "stderr",
     "output_type": "stream",
     "text": [
      " 50%|█████     | 500/1000 [00:52<00:59,  8.42it/s]"
     ]
    },
    {
     "name": "stdout",
     "output_type": "stream",
     "text": [
      "HoG shape is  (133956,)\n",
      "Processing img  548.jpeg\n",
      "HoG shape is  (133956,)\n",
      "Processing img  549.jpeg\n"
     ]
    },
    {
     "name": "stderr",
     "output_type": "stream",
     "text": [
      " 50%|█████     | 503/1000 [00:52<00:54,  9.09it/s]"
     ]
    },
    {
     "name": "stdout",
     "output_type": "stream",
     "text": [
      "HoG shape is  (133956,)\n",
      "Processing img  55.jpeg\n",
      "HoG shape is  (133956,)\n",
      "Processing img  550.jpeg\n",
      "HoG shape is  (133956,)\n"
     ]
    },
    {
     "name": "stderr",
     "output_type": "stream",
     "text": [
      " 50%|█████     | 505/1000 [00:53<00:50,  9.73it/s]"
     ]
    },
    {
     "name": "stdout",
     "output_type": "stream",
     "text": [
      "Processing img  551.jpeg\n",
      "HoG shape is  (133956,)\n",
      "Processing img  552.jpeg\n",
      "HoG shape is  (133956,)\n"
     ]
    },
    {
     "name": "stderr",
     "output_type": "stream",
     "text": [
      " 51%|█████     | 507/1000 [00:53<00:47, 10.36it/s]"
     ]
    },
    {
     "name": "stdout",
     "output_type": "stream",
     "text": [
      "Processing img  553.jpeg\n",
      "HoG shape is  (133956,)\n",
      "Processing img  554.jpeg\n",
      "HoG shape is  (133956,)\n",
      "Processing img  555.jpeg\n"
     ]
    },
    {
     "name": "stderr",
     "output_type": "stream",
     "text": [
      " 51%|█████     | 509/1000 [00:53<00:46, 10.61it/s]"
     ]
    },
    {
     "name": "stdout",
     "output_type": "stream",
     "text": [
      "HoG shape is  (133956,)\n",
      "Processing img  556.jpeg\n",
      "HoG shape is  (133956,)\n",
      "Processing img  557.jpeg\n",
      "HoG shape is  (133956,)\n",
      "Processing img  558.jpeg\n"
     ]
    },
    {
     "name": "stderr",
     "output_type": "stream",
     "text": [
      " 51%|█████     | 512/1000 [00:53<00:56,  8.62it/s]"
     ]
    },
    {
     "name": "stdout",
     "output_type": "stream",
     "text": [
      "HoG shape is  (133956,)\n",
      "Processing img  559.jpeg\n",
      "HoG shape is  (133956,)\n"
     ]
    },
    {
     "name": "stderr",
     "output_type": "stream",
     "text": [
      " 51%|█████▏    | 514/1000 [00:54<00:55,  8.78it/s]"
     ]
    },
    {
     "name": "stdout",
     "output_type": "stream",
     "text": [
      "Processing img  56.jpeg\n",
      "HoG shape is  (133956,)\n",
      "Processing img  560.jpeg\n",
      "HoG shape is  (133956,)\n"
     ]
    },
    {
     "name": "stderr",
     "output_type": "stream",
     "text": [
      " 52%|█████▏    | 515/1000 [00:54<00:54,  8.87it/s]"
     ]
    },
    {
     "name": "stdout",
     "output_type": "stream",
     "text": [
      "Processing img  561.jpeg\n",
      "HoG shape is  (133956,)\n",
      "Processing img  562.jpeg\n"
     ]
    },
    {
     "name": "stderr",
     "output_type": "stream",
     "text": [
      " 52%|█████▏    | 517/1000 [00:54<00:52,  9.14it/s]"
     ]
    },
    {
     "name": "stdout",
     "output_type": "stream",
     "text": [
      "HoG shape is  (133956,)\n",
      "Processing img  563.jpeg\n",
      "HoG shape is  (133956,)\n",
      "Processing img  564.jpeg\n",
      "HoG shape is  (133956,)\n",
      "Processing img  565.jpeg\n"
     ]
    },
    {
     "name": "stderr",
     "output_type": "stream",
     "text": [
      " 52%|█████▏    | 521/1000 [00:54<00:45, 10.51it/s]"
     ]
    },
    {
     "name": "stdout",
     "output_type": "stream",
     "text": [
      "HoG shape is  (133956,)\n",
      "Processing img  566.jpeg\n",
      "HoG shape is  (133956,)\n",
      "Processing img  567.jpeg\n",
      "HoG shape is  (133956,)\n",
      "Processing img  568.jpeg\n"
     ]
    },
    {
     "name": "stderr",
     "output_type": "stream",
     "text": [
      " 52%|█████▏    | 523/1000 [00:55<00:53,  8.86it/s]"
     ]
    },
    {
     "name": "stdout",
     "output_type": "stream",
     "text": [
      "HoG shape is  (133956,)\n",
      "Processing img  569.jpeg\n",
      "HoG shape is  (133956,)\n"
     ]
    },
    {
     "name": "stderr",
     "output_type": "stream",
     "text": [
      " 52%|█████▏    | 524/1000 [00:55<00:53,  8.86it/s]"
     ]
    },
    {
     "name": "stdout",
     "output_type": "stream",
     "text": [
      "Processing img  57.jpeg\n",
      "HoG shape is  (133956,)\n",
      "Processing img  570.jpeg\n"
     ]
    },
    {
     "name": "stderr",
     "output_type": "stream",
     "text": [
      " 53%|█████▎    | 527/1000 [00:55<00:48,  9.75it/s]"
     ]
    },
    {
     "name": "stdout",
     "output_type": "stream",
     "text": [
      "HoG shape is  (133956,)\n",
      "Processing img  571.jpeg\n",
      "HoG shape is  (133956,)\n",
      "Processing img  572.jpeg\n",
      "HoG shape is  (133956,)\n"
     ]
    },
    {
     "name": "stderr",
     "output_type": "stream",
     "text": [
      " 53%|█████▎    | 529/1000 [00:55<00:46, 10.21it/s]"
     ]
    },
    {
     "name": "stdout",
     "output_type": "stream",
     "text": [
      "Processing img  573.jpeg\n",
      "HoG shape is  (133956,)\n",
      "Processing img  574.jpeg\n",
      "HoG shape is  (133956,)\n",
      "Processing img  575.jpeg\n"
     ]
    },
    {
     "name": "stderr",
     "output_type": "stream",
     "text": [
      " 53%|█████▎    | 531/1000 [00:55<00:45, 10.31it/s]"
     ]
    },
    {
     "name": "stdout",
     "output_type": "stream",
     "text": [
      "HoG shape is  (133956,)\n",
      "Processing img  576.jpeg\n",
      "HoG shape is  (133956,)\n",
      "Processing img  577.jpeg\n",
      "HoG shape is  (133956,)\n",
      "Processing img  578.jpeg\n"
     ]
    },
    {
     "name": "stderr",
     "output_type": "stream",
     "text": [
      " 53%|█████▎    | 533/1000 [00:55<00:46, 10.06it/s]"
     ]
    },
    {
     "name": "stdout",
     "output_type": "stream",
     "text": [
      "HoG shape is  (133956,)\n",
      "Processing img  579.jpeg\n",
      "HoG shape is  (133956,)\n",
      "Processing img  58.jpeg\n"
     ]
    },
    {
     "name": "stderr",
     "output_type": "stream",
     "text": [
      " 54%|█████▎    | 536/1000 [00:56<00:57,  8.01it/s]"
     ]
    },
    {
     "name": "stdout",
     "output_type": "stream",
     "text": [
      "HoG shape is  (133956,)\n",
      "Processing img  580.jpeg\n",
      "HoG shape is  (133956,)\n",
      "Processing img  581.jpeg\n"
     ]
    },
    {
     "name": "stderr",
     "output_type": "stream",
     "text": [
      " 54%|█████▍    | 538/1000 [00:56<00:54,  8.45it/s]"
     ]
    },
    {
     "name": "stdout",
     "output_type": "stream",
     "text": [
      "HoG shape is  (133956,)\n",
      "Processing img  582.jpeg\n",
      "HoG shape is  (133956,)\n",
      "Processing img  583.jpeg\n"
     ]
    },
    {
     "name": "stderr",
     "output_type": "stream",
     "text": [
      " 54%|█████▍    | 540/1000 [00:56<00:50,  9.07it/s]"
     ]
    },
    {
     "name": "stdout",
     "output_type": "stream",
     "text": [
      "HoG shape is  (133956,)\n",
      "Processing img  584.jpeg\n",
      "HoG shape is  (133956,)\n",
      "Processing img  585.jpeg\n",
      "HoG shape is  (133956,)\n",
      "Processing img  586.jpeg\n"
     ]
    },
    {
     "name": "stderr",
     "output_type": "stream",
     "text": [
      " 54%|█████▍    | 544/1000 [00:57<00:44, 10.20it/s]"
     ]
    },
    {
     "name": "stdout",
     "output_type": "stream",
     "text": [
      "HoG shape is  (133956,)\n",
      "Processing img  587.jpeg\n",
      "HoG shape is  (133956,)\n",
      "Processing img  588.jpeg\n",
      "HoG shape is  (133956,)\n",
      "Processing img  589.jpeg\n"
     ]
    },
    {
     "name": "stderr",
     "output_type": "stream",
     "text": [
      " 55%|█████▍    | 546/1000 [00:57<00:46,  9.74it/s]"
     ]
    },
    {
     "name": "stdout",
     "output_type": "stream",
     "text": [
      "HoG shape is  (133956,)\n",
      "Processing img  59.jpeg\n",
      "HoG shape is  (133956,)\n",
      "Processing img  590.jpeg\n"
     ]
    },
    {
     "name": "stderr",
     "output_type": "stream",
     "text": [
      " 55%|█████▍    | 548/1000 [00:57<00:51,  8.74it/s]"
     ]
    },
    {
     "name": "stdout",
     "output_type": "stream",
     "text": [
      "HoG shape is  (133956,)\n",
      "Processing img  591.jpeg\n",
      "HoG shape is  (133956,)\n",
      "Processing img  592.jpeg\n",
      "HoG shape is  (133956,)\n",
      "Processing img  593.jpeg\n"
     ]
    },
    {
     "name": "stderr",
     "output_type": "stream",
     "text": [
      " 55%|█████▌    | 551/1000 [00:58<00:48,  9.18it/s]"
     ]
    },
    {
     "name": "stdout",
     "output_type": "stream",
     "text": [
      "HoG shape is  (133956,)\n",
      "Processing img  594.jpeg\n",
      "HoG shape is  (133956,)\n",
      "Processing img  595.jpeg\n",
      "HoG shape is  (133956,)\n",
      "Processing img  596.jpeg\n"
     ]
    },
    {
     "name": "stderr",
     "output_type": "stream",
     "text": [
      " 56%|█████▌    | 555/1000 [00:58<00:43, 10.19it/s]"
     ]
    },
    {
     "name": "stdout",
     "output_type": "stream",
     "text": [
      "HoG shape is  (133956,)\n",
      "Processing img  597.jpeg\n",
      "HoG shape is  (133956,)\n",
      "Processing img  598.jpeg\n",
      "HoG shape is  (133956,)\n",
      "Processing img  599.jpeg\n"
     ]
    },
    {
     "name": "stderr",
     "output_type": "stream",
     "text": [
      " 56%|█████▌    | 557/1000 [00:58<00:43, 10.09it/s]"
     ]
    },
    {
     "name": "stdout",
     "output_type": "stream",
     "text": [
      "HoG shape is  (133956,)\n",
      "Processing img  6.jpeg\n",
      "HoG shape is  (133956,)\n",
      "Processing img  60.jpeg\n",
      "HoG shape is  (133956,)\n",
      "Processing img  600.jpeg\n"
     ]
    },
    {
     "name": "stderr",
     "output_type": "stream",
     "text": [
      " 56%|█████▌    | 560/1000 [00:59<00:51,  8.60it/s]"
     ]
    },
    {
     "name": "stdout",
     "output_type": "stream",
     "text": [
      "HoG shape is  (133956,)\n",
      "Processing img  601.jpeg\n",
      "HoG shape is  (133956,)\n",
      "Processing img  602.jpeg\n"
     ]
    },
    {
     "name": "stderr",
     "output_type": "stream",
     "text": [
      " 56%|█████▌    | 562/1000 [00:59<00:47,  9.18it/s]"
     ]
    },
    {
     "name": "stdout",
     "output_type": "stream",
     "text": [
      "HoG shape is  (133956,)\n",
      "Processing img  603.jpeg\n",
      "HoG shape is  (133956,)\n",
      "Processing img  604.jpeg\n",
      "HoG shape is  (133956,)\n"
     ]
    },
    {
     "name": "stderr",
     "output_type": "stream",
     "text": [
      " 56%|█████▋    | 565/1000 [00:59<00:45,  9.54it/s]"
     ]
    },
    {
     "name": "stdout",
     "output_type": "stream",
     "text": [
      "Processing img  605.jpeg\n",
      "HoG shape is  (133956,)\n",
      "Processing img  606.jpeg\n",
      "HoG shape is  (133956,)\n"
     ]
    },
    {
     "name": "stderr",
     "output_type": "stream",
     "text": [
      " 57%|█████▋    | 566/1000 [00:59<00:45,  9.47it/s]"
     ]
    },
    {
     "name": "stdout",
     "output_type": "stream",
     "text": [
      "Processing img  607.jpeg\n",
      "HoG shape is  (133956,)\n",
      "Processing img  608.jpeg\n",
      "HoG shape is  (133956,)\n",
      "Processing img  609.jpeg\n"
     ]
    },
    {
     "name": "stderr",
     "output_type": "stream",
     "text": [
      " 57%|█████▋    | 569/1000 [00:59<00:43,  9.85it/s]"
     ]
    },
    {
     "name": "stdout",
     "output_type": "stream",
     "text": [
      "HoG shape is  (133956,)\n",
      "Processing img  61.jpeg\n",
      "HoG shape is  (133956,)\n",
      "Processing img  610.jpeg\n"
     ]
    },
    {
     "name": "stderr",
     "output_type": "stream",
     "text": [
      " 57%|█████▋    | 571/1000 [01:00<00:51,  8.26it/s]"
     ]
    },
    {
     "name": "stdout",
     "output_type": "stream",
     "text": [
      "HoG shape is  (133956,)\n",
      "Processing img  611.jpeg\n",
      "HoG shape is  (133956,)\n",
      "Processing img  612.jpeg\n"
     ]
    },
    {
     "name": "stderr",
     "output_type": "stream",
     "text": [
      " 57%|█████▋    | 573/1000 [01:00<00:48,  8.74it/s]"
     ]
    },
    {
     "name": "stdout",
     "output_type": "stream",
     "text": [
      "HoG shape is  (133956,)\n",
      "Processing img  613.jpeg\n",
      "HoG shape is  (133956,)\n",
      "Processing img  614.jpeg\n",
      "HoG shape is  (133956,)\n",
      "Processing img  615.jpeg\n"
     ]
    },
    {
     "name": "stderr",
     "output_type": "stream",
     "text": [
      " 58%|█████▊    | 576/1000 [01:00<00:43,  9.64it/s]"
     ]
    },
    {
     "name": "stdout",
     "output_type": "stream",
     "text": [
      "HoG shape is  (133956,)\n",
      "Processing img  616.jpeg\n",
      "HoG shape is  (133956,)\n",
      "Processing img  617.jpeg\n",
      "HoG shape is  (133956,)\n",
      "Processing img  618.jpeg\n"
     ]
    },
    {
     "name": "stderr",
     "output_type": "stream",
     "text": [
      " 58%|█████▊    | 580/1000 [01:01<00:41, 10.21it/s]"
     ]
    },
    {
     "name": "stdout",
     "output_type": "stream",
     "text": [
      "HoG shape is  (133956,)\n",
      "Processing img  619.jpeg\n",
      "HoG shape is  (133956,)\n",
      "Processing img  62.jpeg\n",
      "HoG shape is  (133956,)\n",
      "Processing img  620.jpeg\n",
      "HoG shape is  (133956,)\n",
      "Processing img  621.jpeg\n"
     ]
    },
    {
     "name": "stderr",
     "output_type": "stream",
     "text": [
      " 58%|█████▊    | 583/1000 [01:01<00:46,  8.98it/s]"
     ]
    },
    {
     "name": "stdout",
     "output_type": "stream",
     "text": [
      "HoG shape is  (133956,)\n",
      "Processing img  622.jpeg\n",
      "HoG shape is  (133956,)\n",
      "Processing img  623.jpeg\n",
      "HoG shape is  (133956,)\n",
      "Processing img  624.jpeg\n"
     ]
    },
    {
     "name": "stderr",
     "output_type": "stream",
     "text": [
      " 58%|█████▊    | 585/1000 [01:01<00:43,  9.57it/s]"
     ]
    },
    {
     "name": "stdout",
     "output_type": "stream",
     "text": [
      "HoG shape is  (133956,)\n",
      "Processing img  625.jpeg\n",
      "HoG shape is  (133956,)\n",
      "Processing img  626.jpeg\n",
      "HoG shape is  (133956,)\n"
     ]
    },
    {
     "name": "stderr",
     "output_type": "stream",
     "text": [
      " 59%|█████▉    | 589/1000 [01:02<00:39, 10.38it/s]"
     ]
    },
    {
     "name": "stdout",
     "output_type": "stream",
     "text": [
      "Processing img  627.jpeg\n",
      "HoG shape is  (133956,)\n",
      "Processing img  628.jpeg\n",
      "HoG shape is  (133956,)\n",
      "Processing img  629.jpeg\n"
     ]
    },
    {
     "name": "stderr",
     "output_type": "stream",
     "text": [
      " 59%|█████▉    | 591/1000 [01:02<00:38, 10.53it/s]"
     ]
    },
    {
     "name": "stdout",
     "output_type": "stream",
     "text": [
      "HoG shape is  (133956,)\n",
      "Processing img  63.jpeg\n",
      "HoG shape is  (133956,)\n",
      "Processing img  630.jpeg\n",
      "HoG shape is  (133956,)\n",
      "Processing img  631.jpeg\n"
     ]
    },
    {
     "name": "stderr",
     "output_type": "stream",
     "text": [
      " 59%|█████▉    | 593/1000 [01:02<00:38, 10.62it/s]"
     ]
    },
    {
     "name": "stdout",
     "output_type": "stream",
     "text": [
      "HoG shape is  (133956,)\n",
      "Processing img  632.jpeg\n",
      "HoG shape is  (133956,)\n",
      "Processing img  633.jpeg\n"
     ]
    },
    {
     "name": "stderr",
     "output_type": "stream",
     "text": [
      " 60%|█████▉    | 596/1000 [01:02<00:45,  8.93it/s]"
     ]
    },
    {
     "name": "stdout",
     "output_type": "stream",
     "text": [
      "HoG shape is  (133956,)\n",
      "Processing img  634.jpeg\n",
      "HoG shape is  (133956,)\n",
      "Processing img  635.jpeg\n"
     ]
    },
    {
     "name": "stderr",
     "output_type": "stream",
     "text": [
      " 60%|█████▉    | 598/1000 [01:03<00:44,  8.97it/s]"
     ]
    },
    {
     "name": "stdout",
     "output_type": "stream",
     "text": [
      "HoG shape is  (133956,)\n",
      "Processing img  636.jpeg\n",
      "HoG shape is  (133956,)\n",
      "Processing img  637.jpeg\n",
      "HoG shape is  (133956,)\n",
      "Processing img  638.jpeg\n"
     ]
    },
    {
     "name": "stderr",
     "output_type": "stream",
     "text": [
      " 60%|██████    | 602/1000 [01:03<00:39, 10.02it/s]"
     ]
    },
    {
     "name": "stdout",
     "output_type": "stream",
     "text": [
      "HoG shape is  (133956,)\n",
      "Processing img  639.jpeg\n",
      "HoG shape is  (133956,)\n",
      "Processing img  64.jpeg\n",
      "HoG shape is  (133956,)\n"
     ]
    },
    {
     "name": "stderr",
     "output_type": "stream",
     "text": [
      " 60%|██████    | 604/1000 [01:03<00:38, 10.41it/s]"
     ]
    },
    {
     "name": "stdout",
     "output_type": "stream",
     "text": [
      "Processing img  640.jpeg\n",
      "HoG shape is  (133956,)\n",
      "Processing img  641.jpeg\n",
      "HoG shape is  (133956,)\n",
      "Processing img  642.jpeg\n"
     ]
    },
    {
     "name": "stderr",
     "output_type": "stream",
     "text": [
      " 61%|██████    | 606/1000 [01:03<00:44,  8.91it/s]"
     ]
    },
    {
     "name": "stdout",
     "output_type": "stream",
     "text": [
      "HoG shape is  (133956,)\n",
      "Processing img  643.jpeg\n",
      "HoG shape is  (133956,)\n"
     ]
    },
    {
     "name": "stderr",
     "output_type": "stream",
     "text": [
      " 61%|██████    | 607/1000 [01:04<00:45,  8.58it/s]"
     ]
    },
    {
     "name": "stdout",
     "output_type": "stream",
     "text": [
      "Processing img  644.jpeg\n",
      "HoG shape is  (133956,)\n",
      "Processing img  645.jpeg\n"
     ]
    },
    {
     "name": "stderr",
     "output_type": "stream",
     "text": [
      " 61%|██████    | 609/1000 [01:04<00:47,  8.26it/s]"
     ]
    },
    {
     "name": "stdout",
     "output_type": "stream",
     "text": [
      "HoG shape is  (133956,)\n",
      "Processing img  646.jpeg\n",
      "HoG shape is  (133956,)\n",
      "Processing img  647.jpeg\n"
     ]
    },
    {
     "name": "stderr",
     "output_type": "stream",
     "text": [
      " 61%|██████    | 611/1000 [01:04<00:43,  8.97it/s]"
     ]
    },
    {
     "name": "stdout",
     "output_type": "stream",
     "text": [
      "HoG shape is  (133956,)\n",
      "Processing img  648.jpeg\n",
      "HoG shape is  (133956,)\n",
      "Processing img  649.jpeg\n",
      "HoG shape is  (133956,)\n",
      "Processing img  65.jpeg\n"
     ]
    },
    {
     "name": "stderr",
     "output_type": "stream",
     "text": [
      " 62%|██████▏   | 615/1000 [01:04<00:38, 10.09it/s]"
     ]
    },
    {
     "name": "stdout",
     "output_type": "stream",
     "text": [
      "HoG shape is  (133956,)\n",
      "Processing img  650.jpeg\n",
      "HoG shape is  (133956,)\n",
      "Processing img  651.jpeg\n",
      "HoG shape is  (133956,)\n",
      "Processing img  652.jpeg\n"
     ]
    },
    {
     "name": "stderr",
     "output_type": "stream",
     "text": [
      " 62%|██████▏   | 617/1000 [01:05<00:37, 10.35it/s]"
     ]
    },
    {
     "name": "stdout",
     "output_type": "stream",
     "text": [
      "HoG shape is  (133956,)\n",
      "Processing img  653.jpeg\n",
      "HoG shape is  (133956,)\n",
      "Processing img  654.jpeg\n"
     ]
    },
    {
     "name": "stderr",
     "output_type": "stream",
     "text": [
      " 62%|██████▏   | 619/1000 [01:05<00:46,  8.20it/s]"
     ]
    },
    {
     "name": "stdout",
     "output_type": "stream",
     "text": [
      "HoG shape is  (133956,)\n",
      "Processing img  655.jpeg\n",
      "HoG shape is  (133956,)\n",
      "Processing img  656.jpeg\n",
      "HoG shape is  (133956,)\n",
      "Processing img  657.jpeg\n"
     ]
    },
    {
     "name": "stderr",
     "output_type": "stream",
     "text": [
      " 62%|██████▏   | 622/1000 [01:05<00:42,  8.87it/s]"
     ]
    },
    {
     "name": "stdout",
     "output_type": "stream",
     "text": [
      "HoG shape is  (133956,)\n",
      "Processing img  658.jpeg\n",
      "HoG shape is  (133956,)\n",
      "Processing img  659.jpeg\n",
      "HoG shape is  (133956,)\n",
      "Processing img  66.jpeg\n"
     ]
    },
    {
     "name": "stderr",
     "output_type": "stream",
     "text": [
      " 63%|██████▎   | 626/1000 [01:06<00:37,  9.96it/s]"
     ]
    },
    {
     "name": "stdout",
     "output_type": "stream",
     "text": [
      "HoG shape is  (133956,)\n",
      "Processing img  660.jpeg\n",
      "HoG shape is  (133956,)\n",
      "Processing img  661.jpeg\n",
      "HoG shape is  (133956,)\n",
      "Processing img  662.jpeg\n"
     ]
    },
    {
     "name": "stderr",
     "output_type": "stream",
     "text": [
      " 63%|██████▎   | 628/1000 [01:06<00:35, 10.36it/s]"
     ]
    },
    {
     "name": "stdout",
     "output_type": "stream",
     "text": [
      "HoG shape is  (133956,)\n",
      "Processing img  663.jpeg\n",
      "HoG shape is  (133956,)\n",
      "Processing img  664.jpeg\n",
      "HoG shape is  (133956,)\n",
      "Processing img  665.jpeg\n"
     ]
    },
    {
     "name": "stderr",
     "output_type": "stream",
     "text": [
      " 63%|██████▎   | 631/1000 [01:06<00:41,  8.92it/s]"
     ]
    },
    {
     "name": "stdout",
     "output_type": "stream",
     "text": [
      "HoG shape is  (133956,)\n",
      "Processing img  666.jpeg\n",
      "HoG shape is  (133956,)\n",
      "Processing img  667.jpeg\n",
      "HoG shape is  (133956,)\n",
      "Processing img  668.jpeg\n"
     ]
    },
    {
     "name": "stderr",
     "output_type": "stream",
     "text": [
      " 64%|██████▎   | 635/1000 [01:06<00:37,  9.84it/s]"
     ]
    },
    {
     "name": "stdout",
     "output_type": "stream",
     "text": [
      "HoG shape is  (133956,)\n",
      "Processing img  669.jpeg\n",
      "HoG shape is  (133956,)\n",
      "Processing img  67.jpeg\n",
      "HoG shape is  (133956,)\n"
     ]
    },
    {
     "name": "stderr",
     "output_type": "stream",
     "text": [
      " 64%|██████▎   | 637/1000 [01:07<00:35, 10.27it/s]"
     ]
    },
    {
     "name": "stdout",
     "output_type": "stream",
     "text": [
      "Processing img  670.jpeg\n",
      "HoG shape is  (133956,)\n",
      "Processing img  671.jpeg\n",
      "HoG shape is  (133956,)\n",
      "Processing img  672.jpeg\n"
     ]
    },
    {
     "name": "stderr",
     "output_type": "stream",
     "text": [
      " 64%|██████▍   | 639/1000 [01:07<00:34, 10.50it/s]"
     ]
    },
    {
     "name": "stdout",
     "output_type": "stream",
     "text": [
      "HoG shape is  (133956,)\n",
      "Processing img  673.jpeg\n",
      "HoG shape is  (133956,)\n",
      "Processing img  674.jpeg\n",
      "HoG shape is  (133956,)\n",
      "Processing img  675.jpeg\n"
     ]
    },
    {
     "name": "stderr",
     "output_type": "stream",
     "text": [
      " 64%|██████▍   | 642/1000 [01:07<00:41,  8.57it/s]"
     ]
    },
    {
     "name": "stdout",
     "output_type": "stream",
     "text": [
      "HoG shape is  (133956,)\n",
      "Processing img  676.jpeg\n",
      "HoG shape is  (133956,)\n",
      "Processing img  677.jpeg\n"
     ]
    },
    {
     "name": "stderr",
     "output_type": "stream",
     "text": [
      " 64%|██████▍   | 644/1000 [01:08<00:41,  8.67it/s]"
     ]
    },
    {
     "name": "stdout",
     "output_type": "stream",
     "text": [
      "HoG shape is  (133956,)\n",
      "Processing img  678.jpeg\n",
      "HoG shape is  (133956,)\n",
      "Processing img  679.jpeg\n",
      "HoG shape is  (133956,)\n",
      "Processing img  68.jpeg\n"
     ]
    },
    {
     "name": "stderr",
     "output_type": "stream",
     "text": [
      " 65%|██████▍   | 648/1000 [01:08<00:35,  9.84it/s]"
     ]
    },
    {
     "name": "stdout",
     "output_type": "stream",
     "text": [
      "HoG shape is  (133956,)\n",
      "Processing img  680.jpeg\n",
      "HoG shape is  (133956,)\n",
      "Processing img  681.jpeg\n",
      "HoG shape is  (133956,)\n"
     ]
    },
    {
     "name": "stderr",
     "output_type": "stream",
     "text": [
      " 65%|██████▌   | 650/1000 [01:08<00:34, 10.28it/s]"
     ]
    },
    {
     "name": "stdout",
     "output_type": "stream",
     "text": [
      "Processing img  682.jpeg\n",
      "HoG shape is  (133956,)\n",
      "Processing img  683.jpeg\n",
      "HoG shape is  (133956,)\n",
      "Processing img  684.jpeg\n"
     ]
    },
    {
     "name": "stderr",
     "output_type": "stream",
     "text": [
      " 65%|██████▌   | 652/1000 [01:08<00:33, 10.45it/s]"
     ]
    },
    {
     "name": "stdout",
     "output_type": "stream",
     "text": [
      "HoG shape is  (133956,)\n",
      "Processing img  685.jpeg\n",
      "HoG shape is  (133956,)\n",
      "Processing img  686.jpeg\n",
      "HoG shape is  (133956,)\n",
      "Processing img  687.jpeg\n"
     ]
    },
    {
     "name": "stderr",
     "output_type": "stream",
     "text": [
      " 66%|██████▌   | 655/1000 [01:09<00:40,  8.62it/s]"
     ]
    },
    {
     "name": "stdout",
     "output_type": "stream",
     "text": [
      "HoG shape is  (133956,)\n",
      "Processing img  688.jpeg\n",
      "HoG shape is  (133956,)\n",
      "Processing img  689.jpeg\n"
     ]
    },
    {
     "name": "stderr",
     "output_type": "stream",
     "text": [
      " 66%|██████▌   | 657/1000 [01:09<00:37,  9.05it/s]"
     ]
    },
    {
     "name": "stdout",
     "output_type": "stream",
     "text": [
      "HoG shape is  (133956,)\n",
      "Processing img  69.jpeg\n",
      "HoG shape is  (133956,)\n",
      "Processing img  690.jpeg\n",
      "HoG shape is  (133956,)\n",
      "Processing img  691.jpeg\n"
     ]
    },
    {
     "name": "stderr",
     "output_type": "stream",
     "text": [
      " 66%|██████▌   | 660/1000 [01:09<00:35,  9.57it/s]"
     ]
    },
    {
     "name": "stdout",
     "output_type": "stream",
     "text": [
      "HoG shape is  (133956,)\n",
      "Processing img  692.jpeg\n",
      "HoG shape is  (133956,)\n",
      "Processing img  693.jpeg\n",
      "HoG shape is  (133956,)\n",
      "Processing img  694.jpeg\n"
     ]
    },
    {
     "name": "stderr",
     "output_type": "stream",
     "text": [
      " 66%|██████▋   | 663/1000 [01:09<00:34,  9.84it/s]"
     ]
    },
    {
     "name": "stdout",
     "output_type": "stream",
     "text": [
      "HoG shape is  (133956,)\n",
      "Processing img  695.jpeg\n",
      "HoG shape is  (133956,)\n",
      "Processing img  696.jpeg\n",
      "HoG shape is  (133956,)\n",
      "Processing img  697.jpeg\n"
     ]
    },
    {
     "name": "stderr",
     "output_type": "stream",
     "text": [
      " 67%|██████▋   | 667/1000 [01:10<00:31, 10.71it/s]"
     ]
    },
    {
     "name": "stdout",
     "output_type": "stream",
     "text": [
      "HoG shape is  (133956,)\n",
      "Processing img  698.jpeg\n",
      "HoG shape is  (133956,)\n",
      "Processing img  699.jpeg\n",
      "HoG shape is  (133956,)\n",
      "Processing img  7.jpeg\n",
      "HoG shape is  (133956,)\n",
      "Processing img  70.jpeg\n",
      "HoG shape is  (133956,)\n"
     ]
    },
    {
     "name": "stderr",
     "output_type": "stream",
     "text": [
      " 67%|██████▋   | 670/1000 [01:10<00:37,  8.88it/s]"
     ]
    },
    {
     "name": "stdout",
     "output_type": "stream",
     "text": [
      "Processing img  700.jpeg\n",
      "HoG shape is  (133956,)\n",
      "Processing img  701.jpeg\n",
      "HoG shape is  (133956,)\n",
      "Processing img  702.jpeg\n"
     ]
    },
    {
     "name": "stderr",
     "output_type": "stream",
     "text": [
      " 67%|██████▋   | 673/1000 [01:11<00:34,  9.40it/s]"
     ]
    },
    {
     "name": "stdout",
     "output_type": "stream",
     "text": [
      "HoG shape is  (133956,)\n",
      "Processing img  703.jpeg\n",
      "HoG shape is  (133956,)\n",
      "Processing img  704.jpeg\n",
      "HoG shape is  (133956,)\n",
      "Processing img  705.jpeg\n"
     ]
    },
    {
     "name": "stderr",
     "output_type": "stream",
     "text": [
      " 68%|██████▊   | 677/1000 [01:11<00:31, 10.36it/s]"
     ]
    },
    {
     "name": "stdout",
     "output_type": "stream",
     "text": [
      "HoG shape is  (133956,)\n",
      "Processing img  706.jpeg\n",
      "HoG shape is  (133956,)\n",
      "Processing img  707.jpeg\n",
      "HoG shape is  (133956,)\n",
      "Processing img  708.jpeg\n"
     ]
    },
    {
     "name": "stderr",
     "output_type": "stream",
     "text": [
      " 68%|██████▊   | 679/1000 [01:11<00:29, 10.71it/s]"
     ]
    },
    {
     "name": "stdout",
     "output_type": "stream",
     "text": [
      "HoG shape is  (133956,)\n",
      "Processing img  709.jpeg\n",
      "HoG shape is  (133956,)\n",
      "Processing img  71.jpeg\n",
      "HoG shape is  (133956,)\n",
      "Processing img  710.jpeg\n"
     ]
    },
    {
     "name": "stderr",
     "output_type": "stream",
     "text": [
      " 68%|██████▊   | 681/1000 [01:11<00:30, 10.37it/s]"
     ]
    },
    {
     "name": "stdout",
     "output_type": "stream",
     "text": [
      "HoG shape is  (133956,)\n",
      "Processing img  711.jpeg\n",
      "HoG shape is  (133956,)\n",
      "Processing img  712.jpeg\n"
     ]
    },
    {
     "name": "stderr",
     "output_type": "stream",
     "text": [
      " 68%|██████▊   | 684/1000 [01:12<00:33,  9.52it/s]"
     ]
    },
    {
     "name": "stdout",
     "output_type": "stream",
     "text": [
      "HoG shape is  (133956,)\n",
      "Processing img  713.jpeg\n",
      "HoG shape is  (133956,)\n",
      "Processing img  714.jpeg\n",
      "HoG shape is  (133956,)\n",
      "Processing img  715.jpeg\n"
     ]
    },
    {
     "name": "stderr",
     "output_type": "stream",
     "text": [
      " 69%|██████▉   | 688/1000 [01:12<00:30, 10.28it/s]"
     ]
    },
    {
     "name": "stdout",
     "output_type": "stream",
     "text": [
      "HoG shape is  (133956,)\n",
      "Processing img  716.jpeg\n",
      "HoG shape is  (133956,)\n",
      "Processing img  717.jpeg\n",
      "HoG shape is  (133956,)\n"
     ]
    },
    {
     "name": "stderr",
     "output_type": "stream",
     "text": [
      " 69%|██████▉   | 690/1000 [01:12<00:29, 10.66it/s]"
     ]
    },
    {
     "name": "stdout",
     "output_type": "stream",
     "text": [
      "Processing img  718.jpeg\n",
      "HoG shape is  (133956,)\n",
      "Processing img  719.jpeg\n",
      "HoG shape is  (133956,)\n",
      "Processing img  72.jpeg\n"
     ]
    },
    {
     "name": "stderr",
     "output_type": "stream",
     "text": [
      " 69%|██████▉   | 692/1000 [01:12<00:35,  8.59it/s]"
     ]
    },
    {
     "name": "stdout",
     "output_type": "stream",
     "text": [
      "HoG shape is  (133956,)\n",
      "Processing img  720.jpeg\n",
      "HoG shape is  (133956,)\n",
      "Processing img  721.jpeg\n",
      "HoG shape is  (133956,)\n",
      "Processing img  722.jpeg\n"
     ]
    },
    {
     "name": "stderr",
     "output_type": "stream",
     "text": [
      " 70%|██████▉   | 696/1000 [01:13<00:31,  9.68it/s]"
     ]
    },
    {
     "name": "stdout",
     "output_type": "stream",
     "text": [
      "HoG shape is  (133956,)\n",
      "Processing img  723.jpeg\n",
      "HoG shape is  (133956,)\n",
      "Processing img  724.jpeg\n",
      "HoG shape is  (133956,)\n",
      "Processing img  725.jpeg\n"
     ]
    },
    {
     "name": "stderr",
     "output_type": "stream",
     "text": [
      " 70%|██████▉   | 698/1000 [01:13<00:29, 10.07it/s]"
     ]
    },
    {
     "name": "stdout",
     "output_type": "stream",
     "text": [
      "HoG shape is  (133956,)\n",
      "Processing img  726.jpeg\n",
      "HoG shape is  (133956,)\n",
      "Processing img  727.jpeg\n",
      "HoG shape is  (133956,)\n",
      "Processing img  728.jpeg\n"
     ]
    },
    {
     "name": "stderr",
     "output_type": "stream",
     "text": [
      " 70%|███████   | 700/1000 [01:13<00:28, 10.53it/s]"
     ]
    },
    {
     "name": "stdout",
     "output_type": "stream",
     "text": [
      "HoG shape is  (133956,)\n",
      "Processing img  729.jpeg\n",
      "HoG shape is  (133956,)\n",
      "Processing img  73.jpeg\n"
     ]
    },
    {
     "name": "stderr",
     "output_type": "stream",
     "text": [
      " 70%|███████   | 703/1000 [01:14<00:34,  8.49it/s]"
     ]
    },
    {
     "name": "stdout",
     "output_type": "stream",
     "text": [
      "HoG shape is  (133956,)\n",
      "Processing img  730.jpeg\n",
      "HoG shape is  (133956,)\n",
      "Processing img  731.jpeg\n"
     ]
    },
    {
     "name": "stderr",
     "output_type": "stream",
     "text": [
      " 70%|███████   | 705/1000 [01:14<00:32,  8.97it/s]"
     ]
    },
    {
     "name": "stdout",
     "output_type": "stream",
     "text": [
      "HoG shape is  (133956,)\n",
      "Processing img  732.jpeg\n",
      "HoG shape is  (133956,)\n",
      "Processing img  733.jpeg\n"
     ]
    },
    {
     "name": "stderr",
     "output_type": "stream",
     "text": [
      " 71%|███████   | 707/1000 [01:14<00:31,  9.17it/s]"
     ]
    },
    {
     "name": "stdout",
     "output_type": "stream",
     "text": [
      "HoG shape is  (133956,)\n",
      "Processing img  734.jpeg\n",
      "HoG shape is  (133956,)\n",
      "Processing img  735.jpeg\n",
      "HoG shape is  (133956,)\n",
      "Processing img  736.jpeg\n"
     ]
    },
    {
     "name": "stderr",
     "output_type": "stream",
     "text": [
      " 71%|███████   | 711/1000 [01:14<00:27, 10.36it/s]"
     ]
    },
    {
     "name": "stdout",
     "output_type": "stream",
     "text": [
      "HoG shape is  (133956,)\n",
      "Processing img  737.jpeg\n",
      "HoG shape is  (133956,)\n",
      "Processing img  738.jpeg\n",
      "HoG shape is  (133956,)\n"
     ]
    },
    {
     "name": "stderr",
     "output_type": "stream",
     "text": [
      " 71%|███████▏  | 713/1000 [01:15<00:26, 10.72it/s]"
     ]
    },
    {
     "name": "stdout",
     "output_type": "stream",
     "text": [
      "Processing img  739.jpeg\n",
      "HoG shape is  (133956,)\n",
      "Processing img  74.jpeg\n",
      "HoG shape is  (133956,)\n",
      "Processing img  740.jpeg\n"
     ]
    },
    {
     "name": "stderr",
     "output_type": "stream",
     "text": [
      " 72%|███████▏  | 715/1000 [01:15<00:32,  8.73it/s]"
     ]
    },
    {
     "name": "stdout",
     "output_type": "stream",
     "text": [
      "HoG shape is  (133956,)\n",
      "Processing img  741.jpeg\n",
      "HoG shape is  (133956,)\n",
      "Processing img  742.jpeg\n"
     ]
    },
    {
     "name": "stderr",
     "output_type": "stream",
     "text": [
      " 72%|███████▏  | 717/1000 [01:15<00:31,  9.11it/s]"
     ]
    },
    {
     "name": "stdout",
     "output_type": "stream",
     "text": [
      "HoG shape is  (133956,)\n",
      "Processing img  743.jpeg\n",
      "HoG shape is  (133956,)\n",
      "Processing img  744.jpeg\n",
      "HoG shape is  (133956,)\n",
      "Processing img  745.jpeg\n"
     ]
    },
    {
     "name": "stderr",
     "output_type": "stream",
     "text": [
      " 72%|███████▏  | 720/1000 [01:15<00:29,  9.43it/s]"
     ]
    },
    {
     "name": "stdout",
     "output_type": "stream",
     "text": [
      "HoG shape is  (133956,)\n",
      "Processing img  746.jpeg\n",
      "HoG shape is  (133956,)\n",
      "Processing img  747.jpeg\n",
      "HoG shape is  (133956,)\n",
      "Processing img  748.jpeg\n"
     ]
    },
    {
     "name": "stderr",
     "output_type": "stream",
     "text": [
      " 72%|███████▏  | 722/1000 [01:16<00:27,  9.99it/s]"
     ]
    },
    {
     "name": "stdout",
     "output_type": "stream",
     "text": [
      "HoG shape is  (133956,)\n",
      "Processing img  749.jpeg\n",
      "HoG shape is  (133956,)\n",
      "Processing img  75.jpeg\n"
     ]
    },
    {
     "name": "stderr",
     "output_type": "stream",
     "text": [
      " 72%|███████▎  | 725/1000 [01:16<00:33,  8.28it/s]"
     ]
    },
    {
     "name": "stdout",
     "output_type": "stream",
     "text": [
      "HoG shape is  (133956,)\n",
      "Processing img  750.jpeg\n",
      "HoG shape is  (133956,)\n",
      "Processing img  751.jpeg\n",
      "HoG shape is  (133956,)\n",
      "Processing img  752.jpeg\n"
     ]
    },
    {
     "name": "stderr",
     "output_type": "stream",
     "text": [
      " 73%|███████▎  | 729/1000 [01:16<00:28,  9.48it/s]"
     ]
    },
    {
     "name": "stdout",
     "output_type": "stream",
     "text": [
      "HoG shape is  (133956,)\n",
      "Processing img  753.jpeg\n",
      "HoG shape is  (133956,)\n",
      "Processing img  754.jpeg\n",
      "HoG shape is  (133956,)\n"
     ]
    },
    {
     "name": "stderr",
     "output_type": "stream",
     "text": [
      " 73%|███████▎  | 731/1000 [01:17<00:27,  9.85it/s]"
     ]
    },
    {
     "name": "stdout",
     "output_type": "stream",
     "text": [
      "Processing img  755.jpeg\n",
      "HoG shape is  (133956,)\n",
      "Processing img  756.jpeg\n",
      "HoG shape is  (133956,)\n",
      "Processing img  757.jpeg\n",
      "HoG shape is  (133956,)\n",
      "Processing img  758.jpeg\n"
     ]
    },
    {
     "name": "stderr",
     "output_type": "stream",
     "text": [
      " 73%|███████▎  | 734/1000 [01:17<00:28,  9.49it/s]"
     ]
    },
    {
     "name": "stdout",
     "output_type": "stream",
     "text": [
      "HoG shape is  (133956,)\n",
      "Processing img  759.jpeg\n",
      "HoG shape is  (133956,)\n",
      "Processing img  76.jpeg\n"
     ]
    },
    {
     "name": "stderr",
     "output_type": "stream",
     "text": [
      " 74%|███████▎  | 736/1000 [01:17<00:26, 10.11it/s]"
     ]
    },
    {
     "name": "stdout",
     "output_type": "stream",
     "text": [
      "HoG shape is  (133956,)\n",
      "Processing img  760.jpeg\n",
      "HoG shape is  (133956,)\n",
      "Processing img  761.jpeg\n",
      "HoG shape is  (133956,)\n",
      "Processing img  762.jpeg\n"
     ]
    },
    {
     "name": "stderr",
     "output_type": "stream",
     "text": [
      " 74%|███████▍  | 739/1000 [01:18<00:30,  8.56it/s]"
     ]
    },
    {
     "name": "stdout",
     "output_type": "stream",
     "text": [
      "HoG shape is  (133956,)\n",
      "Processing img  763.jpeg\n",
      "HoG shape is  (133956,)\n",
      "Processing img  764.jpeg\n"
     ]
    },
    {
     "name": "stderr",
     "output_type": "stream",
     "text": [
      " 74%|███████▍  | 742/1000 [01:18<00:27,  9.23it/s]"
     ]
    },
    {
     "name": "stdout",
     "output_type": "stream",
     "text": [
      "HoG shape is  (133956,)\n",
      "Processing img  765.jpeg\n",
      "HoG shape is  (133956,)\n",
      "Processing img  766.jpeg\n",
      "HoG shape is  (133956,)\n"
     ]
    },
    {
     "name": "stderr",
     "output_type": "stream",
     "text": [
      " 74%|███████▍  | 744/1000 [01:18<00:25,  9.86it/s]"
     ]
    },
    {
     "name": "stdout",
     "output_type": "stream",
     "text": [
      "Processing img  767.jpeg\n",
      "HoG shape is  (133956,)\n",
      "Processing img  768.jpeg\n",
      "HoG shape is  (133956,)\n"
     ]
    },
    {
     "name": "stderr",
     "output_type": "stream",
     "text": [
      " 74%|███████▍  | 745/1000 [01:18<00:26,  9.48it/s]"
     ]
    },
    {
     "name": "stdout",
     "output_type": "stream",
     "text": [
      "Processing img  769.jpeg\n",
      "HoG shape is  (133956,)\n",
      "Processing img  77.jpeg\n"
     ]
    },
    {
     "name": "stderr",
     "output_type": "stream",
     "text": [
      " 75%|███████▍  | 747/1000 [01:18<00:30,  8.27it/s]"
     ]
    },
    {
     "name": "stdout",
     "output_type": "stream",
     "text": [
      "HoG shape is  (133956,)\n",
      "Processing img  770.jpeg\n",
      "HoG shape is  (133956,)\n"
     ]
    },
    {
     "name": "stderr",
     "output_type": "stream",
     "text": [
      " 75%|███████▍  | 748/1000 [01:19<00:32,  7.66it/s]"
     ]
    },
    {
     "name": "stdout",
     "output_type": "stream",
     "text": [
      "Processing img  771.jpeg\n",
      "HoG shape is  (133956,)\n",
      "Processing img  772.jpeg\n"
     ]
    },
    {
     "name": "stderr",
     "output_type": "stream",
     "text": [
      " 75%|███████▌  | 750/1000 [01:19<00:31,  8.00it/s]"
     ]
    },
    {
     "name": "stdout",
     "output_type": "stream",
     "text": [
      "HoG shape is  (133956,)\n",
      "Processing img  773.jpeg\n",
      "HoG shape is  (133956,)\n",
      "Processing img  774.jpeg\n"
     ]
    },
    {
     "name": "stderr",
     "output_type": "stream",
     "text": [
      " 75%|███████▌  | 752/1000 [01:19<00:27,  8.91it/s]"
     ]
    },
    {
     "name": "stdout",
     "output_type": "stream",
     "text": [
      "HoG shape is  (133956,)\n",
      "Processing img  775.jpeg\n",
      "HoG shape is  (133956,)\n",
      "Processing img  776.jpeg\n",
      "HoG shape is  (133956,)\n",
      "Processing img  777.jpeg\n"
     ]
    },
    {
     "name": "stderr",
     "output_type": "stream",
     "text": [
      " 76%|███████▌  | 756/1000 [01:19<00:24,  9.98it/s]"
     ]
    },
    {
     "name": "stdout",
     "output_type": "stream",
     "text": [
      "HoG shape is  (133956,)\n",
      "Processing img  778.jpeg\n",
      "HoG shape is  (133956,)\n",
      "Processing img  779.jpeg\n",
      "HoG shape is  (133956,)\n",
      "Processing img  78.jpeg\n"
     ]
    },
    {
     "name": "stderr",
     "output_type": "stream",
     "text": [
      " 76%|███████▌  | 757/1000 [01:19<00:24,  9.98it/s]"
     ]
    },
    {
     "name": "stdout",
     "output_type": "stream",
     "text": [
      "HoG shape is  (133956,)\n",
      "Processing img  780.jpeg\n",
      "HoG shape is  (133956,)\n"
     ]
    },
    {
     "name": "stderr",
     "output_type": "stream",
     "text": [
      " 76%|███████▌  | 759/1000 [01:20<00:29,  8.21it/s]"
     ]
    },
    {
     "name": "stdout",
     "output_type": "stream",
     "text": [
      "Processing img  781.jpeg\n",
      "HoG shape is  (133956,)\n",
      "Processing img  782.jpeg\n",
      "HoG shape is  (133956,)\n",
      "Processing img  783.jpeg\n"
     ]
    },
    {
     "name": "stderr",
     "output_type": "stream",
     "text": [
      " 76%|███████▌  | 761/1000 [01:20<00:27,  8.79it/s]"
     ]
    },
    {
     "name": "stdout",
     "output_type": "stream",
     "text": [
      "HoG shape is  (133956,)\n",
      "Processing img  784.jpeg\n",
      "HoG shape is  (133956,)\n",
      "Processing img  785.jpeg\n",
      "HoG shape is  (133956,)\n"
     ]
    },
    {
     "name": "stderr",
     "output_type": "stream",
     "text": [
      " 76%|███████▋  | 764/1000 [01:20<00:25,  9.18it/s]"
     ]
    },
    {
     "name": "stdout",
     "output_type": "stream",
     "text": [
      "Processing img  786.jpeg\n",
      "HoG shape is  (133956,)\n",
      "Processing img  787.jpeg\n"
     ]
    },
    {
     "name": "stderr",
     "output_type": "stream",
     "text": [
      " 77%|███████▋  | 766/1000 [01:20<00:24,  9.66it/s]"
     ]
    },
    {
     "name": "stdout",
     "output_type": "stream",
     "text": [
      "HoG shape is  (133956,)\n",
      "Processing img  788.jpeg\n",
      "HoG shape is  (133956,)\n",
      "Processing img  789.jpeg\n",
      "HoG shape is  (133956,)\n",
      "Processing img  79.jpeg\n"
     ]
    },
    {
     "name": "stderr",
     "output_type": "stream",
     "text": [
      " 77%|███████▋  | 768/1000 [01:21<00:23, 10.08it/s]"
     ]
    },
    {
     "name": "stdout",
     "output_type": "stream",
     "text": [
      "HoG shape is  (133956,)\n",
      "Processing img  790.jpeg\n",
      "HoG shape is  (133956,)\n"
     ]
    },
    {
     "name": "stderr",
     "output_type": "stream",
     "text": [
      " 77%|███████▋  | 770/1000 [01:21<00:27,  8.37it/s]"
     ]
    },
    {
     "name": "stdout",
     "output_type": "stream",
     "text": [
      "Processing img  791.jpeg\n",
      "HoG shape is  (133956,)\n",
      "Processing img  792.jpeg\n"
     ]
    },
    {
     "name": "stderr",
     "output_type": "stream",
     "text": [
      " 77%|███████▋  | 772/1000 [01:21<00:25,  8.88it/s]"
     ]
    },
    {
     "name": "stdout",
     "output_type": "stream",
     "text": [
      "HoG shape is  (133956,)\n",
      "Processing img  793.jpeg\n",
      "HoG shape is  (133956,)\n",
      "Processing img  794.jpeg\n",
      "HoG shape is  (133956,)\n",
      "Processing img  795.jpeg\n"
     ]
    },
    {
     "name": "stderr",
     "output_type": "stream",
     "text": [
      " 78%|███████▊  | 775/1000 [01:21<00:23,  9.69it/s]"
     ]
    },
    {
     "name": "stdout",
     "output_type": "stream",
     "text": [
      "HoG shape is  (133956,)\n",
      "Processing img  796.jpeg\n",
      "HoG shape is  (133956,)\n",
      "Processing img  797.jpeg\n",
      "HoG shape is  (133956,)\n",
      "Processing img  798.jpeg\n"
     ]
    },
    {
     "name": "stderr",
     "output_type": "stream",
     "text": [
      " 78%|███████▊  | 779/1000 [01:22<00:20, 10.54it/s]"
     ]
    },
    {
     "name": "stdout",
     "output_type": "stream",
     "text": [
      "HoG shape is  (133956,)\n",
      "Processing img  799.jpeg\n",
      "HoG shape is  (133956,)\n",
      "Processing img  8.jpeg\n",
      "HoG shape is  (133956,)\n"
     ]
    },
    {
     "name": "stderr",
     "output_type": "stream",
     "text": [
      " 78%|███████▊  | 781/1000 [01:22<00:19, 11.01it/s]"
     ]
    },
    {
     "name": "stdout",
     "output_type": "stream",
     "text": [
      "Processing img  80.jpeg\n",
      "HoG shape is  (133956,)\n",
      "Processing img  800.jpeg\n",
      "HoG shape is  (133956,)\n",
      "Processing img  801.jpeg\n"
     ]
    },
    {
     "name": "stderr",
     "output_type": "stream",
     "text": [
      " 78%|███████▊  | 783/1000 [01:22<00:24,  8.89it/s]"
     ]
    },
    {
     "name": "stdout",
     "output_type": "stream",
     "text": [
      "HoG shape is  (133956,)\n",
      "Processing img  802.jpeg\n",
      "HoG shape is  (133956,)\n",
      "Processing img  803.jpeg\n"
     ]
    },
    {
     "name": "stderr",
     "output_type": "stream",
     "text": [
      " 78%|███████▊  | 785/1000 [01:23<00:25,  8.44it/s]"
     ]
    },
    {
     "name": "stdout",
     "output_type": "stream",
     "text": [
      "HoG shape is  (133956,)\n",
      "Processing img  804.jpeg\n",
      "HoG shape is  (133956,)\n",
      "Processing img  805.jpeg\n"
     ]
    },
    {
     "name": "stderr",
     "output_type": "stream",
     "text": [
      " 79%|███████▊  | 787/1000 [01:23<00:23,  8.95it/s]"
     ]
    },
    {
     "name": "stdout",
     "output_type": "stream",
     "text": [
      "HoG shape is  (133956,)\n",
      "Processing img  806.jpeg\n",
      "HoG shape is  (133956,)\n",
      "Processing img  807.jpeg\n",
      "HoG shape is  (133956,)\n",
      "Processing img  808.jpeg\n"
     ]
    },
    {
     "name": "stderr",
     "output_type": "stream",
     "text": [
      " 79%|███████▉  | 789/1000 [01:23<00:21,  9.72it/s]"
     ]
    },
    {
     "name": "stdout",
     "output_type": "stream",
     "text": [
      "HoG shape is  (133956,)\n",
      "Processing img  809.jpeg\n",
      "HoG shape is  (133956,)\n"
     ]
    },
    {
     "name": "stderr",
     "output_type": "stream",
     "text": [
      " 79%|███████▉  | 791/1000 [01:23<00:25,  8.23it/s]"
     ]
    },
    {
     "name": "stdout",
     "output_type": "stream",
     "text": [
      "Processing img  81.jpeg\n",
      "HoG shape is  (133956,)\n",
      "Processing img  810.jpeg\n"
     ]
    },
    {
     "name": "stderr",
     "output_type": "stream",
     "text": [
      " 79%|███████▉  | 794/1000 [01:24<00:22,  9.11it/s]"
     ]
    },
    {
     "name": "stdout",
     "output_type": "stream",
     "text": [
      "HoG shape is  (133956,)\n",
      "Processing img  811.jpeg\n",
      "HoG shape is  (133956,)\n",
      "Processing img  812.jpeg\n",
      "HoG shape is  (133956,)\n"
     ]
    },
    {
     "name": "stderr",
     "output_type": "stream",
     "text": [
      " 80%|███████▉  | 795/1000 [01:24<00:22,  9.23it/s]"
     ]
    },
    {
     "name": "stdout",
     "output_type": "stream",
     "text": [
      "Processing img  813.jpeg\n",
      "HoG shape is  (133956,)\n",
      "Processing img  814.jpeg\n",
      "HoG shape is  (133956,)\n",
      "Processing img  815.jpeg\n"
     ]
    },
    {
     "name": "stderr",
     "output_type": "stream",
     "text": [
      " 80%|███████▉  | 799/1000 [01:24<00:19, 10.07it/s]"
     ]
    },
    {
     "name": "stdout",
     "output_type": "stream",
     "text": [
      "HoG shape is  (133956,)\n",
      "Processing img  816.jpeg\n",
      "HoG shape is  (133956,)\n",
      "Processing img  817.jpeg\n",
      "HoG shape is  (133956,)\n"
     ]
    },
    {
     "name": "stderr",
     "output_type": "stream",
     "text": [
      " 80%|████████  | 801/1000 [01:24<00:19, 10.41it/s]"
     ]
    },
    {
     "name": "stdout",
     "output_type": "stream",
     "text": [
      "Processing img  818.jpeg\n",
      "HoG shape is  (133956,)\n",
      "Processing img  819.jpeg\n",
      "HoG shape is  (133956,)\n",
      "Processing img  82.jpeg\n",
      "HoG shape is  (133956,)\n",
      "Processing img  820.jpeg\n"
     ]
    },
    {
     "name": "stderr",
     "output_type": "stream",
     "text": [
      " 80%|████████  | 804/1000 [01:25<00:24,  7.89it/s]"
     ]
    },
    {
     "name": "stdout",
     "output_type": "stream",
     "text": [
      "HoG shape is  (133956,)\n",
      "Processing img  821.jpeg\n",
      "HoG shape is  (133956,)\n",
      "Processing img  822.jpeg\n"
     ]
    },
    {
     "name": "stderr",
     "output_type": "stream",
     "text": [
      " 81%|████████  | 806/1000 [01:25<00:25,  7.63it/s]"
     ]
    },
    {
     "name": "stdout",
     "output_type": "stream",
     "text": [
      "HoG shape is  (133956,)\n",
      "Processing img  823.jpeg\n",
      "HoG shape is  (133956,)\n",
      "Processing img  824.jpeg\n"
     ]
    },
    {
     "name": "stderr",
     "output_type": "stream",
     "text": [
      " 81%|████████  | 808/1000 [01:25<00:27,  6.86it/s]"
     ]
    },
    {
     "name": "stdout",
     "output_type": "stream",
     "text": [
      "HoG shape is  (133956,)\n",
      "Processing img  825.jpeg\n",
      "HoG shape is  (133956,)\n",
      "Processing img  826.jpeg\n"
     ]
    },
    {
     "name": "stderr",
     "output_type": "stream",
     "text": [
      " 81%|████████  | 810/1000 [01:26<00:28,  6.72it/s]"
     ]
    },
    {
     "name": "stdout",
     "output_type": "stream",
     "text": [
      "HoG shape is  (133956,)\n",
      "Processing img  827.jpeg\n",
      "HoG shape is  (133956,)\n",
      "Processing img  828.jpeg\n"
     ]
    },
    {
     "name": "stderr",
     "output_type": "stream",
     "text": [
      " 81%|████████  | 812/1000 [01:26<00:32,  5.82it/s]"
     ]
    },
    {
     "name": "stdout",
     "output_type": "stream",
     "text": [
      "HoG shape is  (133956,)\n",
      "Processing img  829.jpeg\n",
      "HoG shape is  (133956,)\n",
      "Processing img  83.jpeg\n"
     ]
    },
    {
     "name": "stderr",
     "output_type": "stream",
     "text": [
      " 81%|████████▏ | 814/1000 [01:26<00:29,  6.40it/s]"
     ]
    },
    {
     "name": "stdout",
     "output_type": "stream",
     "text": [
      "HoG shape is  (133956,)\n",
      "Processing img  830.jpeg\n",
      "HoG shape is  (133956,)\n",
      "Processing img  831.jpeg\n"
     ]
    },
    {
     "name": "stderr",
     "output_type": "stream",
     "text": [
      " 82%|████████▏ | 816/1000 [01:27<00:27,  6.78it/s]"
     ]
    },
    {
     "name": "stdout",
     "output_type": "stream",
     "text": [
      "HoG shape is  (133956,)\n",
      "Processing img  832.jpeg\n",
      "HoG shape is  (133956,)\n",
      "Processing img  833.jpeg\n"
     ]
    },
    {
     "name": "stderr",
     "output_type": "stream",
     "text": [
      " 82%|████████▏ | 818/1000 [01:27<00:25,  7.24it/s]"
     ]
    },
    {
     "name": "stdout",
     "output_type": "stream",
     "text": [
      "HoG shape is  (133956,)\n",
      "Processing img  834.jpeg\n",
      "HoG shape is  (133956,)\n",
      "Processing img  835.jpeg\n"
     ]
    },
    {
     "name": "stderr",
     "output_type": "stream",
     "text": [
      " 82%|████████▏ | 819/1000 [01:27<00:25,  7.16it/s]"
     ]
    },
    {
     "name": "stdout",
     "output_type": "stream",
     "text": [
      "HoG shape is  (133956,)\n",
      "Processing img  836.jpeg\n"
     ]
    },
    {
     "name": "stderr",
     "output_type": "stream",
     "text": [
      " 82%|████████▏ | 820/1000 [01:27<00:34,  5.27it/s]"
     ]
    },
    {
     "name": "stdout",
     "output_type": "stream",
     "text": [
      "HoG shape is  (133956,)\n",
      "Processing img  837.jpeg\n",
      "HoG shape is  (133956,)\n"
     ]
    },
    {
     "name": "stderr",
     "output_type": "stream",
     "text": [
      " 82%|████████▏ | 822/1000 [01:28<00:32,  5.55it/s]"
     ]
    },
    {
     "name": "stdout",
     "output_type": "stream",
     "text": [
      "Processing img  838.jpeg\n",
      "HoG shape is  (133956,)\n",
      "Processing img  839.jpeg\n"
     ]
    },
    {
     "name": "stderr",
     "output_type": "stream",
     "text": [
      " 82%|████████▏ | 824/1000 [01:28<00:26,  6.66it/s]"
     ]
    },
    {
     "name": "stdout",
     "output_type": "stream",
     "text": [
      "HoG shape is  (133956,)\n",
      "Processing img  84.jpeg\n",
      "HoG shape is  (133956,)\n",
      "Processing img  840.jpeg\n"
     ]
    },
    {
     "name": "stderr",
     "output_type": "stream",
     "text": [
      " 83%|████████▎ | 827/1000 [01:28<00:20,  8.37it/s]"
     ]
    },
    {
     "name": "stdout",
     "output_type": "stream",
     "text": [
      "HoG shape is  (133956,)\n",
      "Processing img  841.jpeg\n",
      "HoG shape is  (133956,)\n",
      "Processing img  842.jpeg\n",
      "HoG shape is  (133956,)\n"
     ]
    },
    {
     "name": "stderr",
     "output_type": "stream",
     "text": [
      " 83%|████████▎ | 828/1000 [01:28<00:20,  8.50it/s]"
     ]
    },
    {
     "name": "stdout",
     "output_type": "stream",
     "text": [
      "Processing img  843.jpeg\n",
      "HoG shape is  (133956,)\n",
      "Processing img  844.jpeg\n"
     ]
    },
    {
     "name": "stderr",
     "output_type": "stream",
     "text": [
      " 83%|████████▎ | 830/1000 [01:29<00:22,  7.51it/s]"
     ]
    },
    {
     "name": "stdout",
     "output_type": "stream",
     "text": [
      "HoG shape is  (133956,)\n",
      "Processing img  845.jpeg\n",
      "HoG shape is  (133956,)\n",
      "Processing img  846.jpeg\n"
     ]
    },
    {
     "name": "stderr",
     "output_type": "stream",
     "text": [
      " 83%|████████▎ | 832/1000 [01:29<00:25,  6.70it/s]"
     ]
    },
    {
     "name": "stdout",
     "output_type": "stream",
     "text": [
      "HoG shape is  (133956,)\n",
      "Processing img  847.jpeg\n",
      "HoG shape is  (133956,)\n",
      "Processing img  848.jpeg\n"
     ]
    },
    {
     "name": "stderr",
     "output_type": "stream",
     "text": [
      " 83%|████████▎ | 834/1000 [01:29<00:23,  7.09it/s]"
     ]
    },
    {
     "name": "stdout",
     "output_type": "stream",
     "text": [
      "HoG shape is  (133956,)\n",
      "Processing img  849.jpeg\n",
      "HoG shape is  (133956,)\n",
      "Processing img  85.jpeg\n"
     ]
    },
    {
     "name": "stderr",
     "output_type": "stream",
     "text": [
      " 84%|████████▎ | 836/1000 [01:29<00:21,  7.61it/s]"
     ]
    },
    {
     "name": "stdout",
     "output_type": "stream",
     "text": [
      "HoG shape is  (133956,)\n",
      "Processing img  850.jpeg\n",
      "HoG shape is  (133956,)\n",
      "Processing img  851.jpeg\n"
     ]
    },
    {
     "name": "stderr",
     "output_type": "stream",
     "text": [
      " 84%|████████▍ | 838/1000 [01:30<00:19,  8.47it/s]"
     ]
    },
    {
     "name": "stdout",
     "output_type": "stream",
     "text": [
      "HoG shape is  (133956,)\n",
      "Processing img  852.jpeg\n",
      "HoG shape is  (133956,)\n",
      "Processing img  853.jpeg\n",
      "HoG shape is  (133956,)\n",
      "Processing img  854.jpeg\n"
     ]
    },
    {
     "name": "stderr",
     "output_type": "stream",
     "text": [
      " 84%|████████▍ | 841/1000 [01:30<00:20,  7.85it/s]"
     ]
    },
    {
     "name": "stdout",
     "output_type": "stream",
     "text": [
      "HoG shape is  (133956,)\n",
      "Processing img  855.jpeg\n",
      "HoG shape is  (133956,)\n",
      "Processing img  856.jpeg\n"
     ]
    },
    {
     "name": "stderr",
     "output_type": "stream",
     "text": [
      " 84%|████████▍ | 843/1000 [01:30<00:18,  8.31it/s]"
     ]
    },
    {
     "name": "stdout",
     "output_type": "stream",
     "text": [
      "HoG shape is  (133956,)\n",
      "Processing img  857.jpeg\n",
      "HoG shape is  (133956,)\n",
      "Processing img  858.jpeg\n"
     ]
    },
    {
     "name": "stderr",
     "output_type": "stream",
     "text": [
      " 84%|████████▍ | 845/1000 [01:30<00:18,  8.58it/s]"
     ]
    },
    {
     "name": "stdout",
     "output_type": "stream",
     "text": [
      "HoG shape is  (133956,)\n",
      "Processing img  859.jpeg\n",
      "HoG shape is  (133956,)\n",
      "Processing img  86.jpeg\n"
     ]
    },
    {
     "name": "stderr",
     "output_type": "stream",
     "text": [
      " 85%|████████▍ | 847/1000 [01:31<00:16,  9.12it/s]"
     ]
    },
    {
     "name": "stdout",
     "output_type": "stream",
     "text": [
      "HoG shape is  (133956,)\n",
      "Processing img  860.jpeg\n",
      "HoG shape is  (133956,)\n",
      "Processing img  861.jpeg\n"
     ]
    },
    {
     "name": "stderr",
     "output_type": "stream",
     "text": [
      " 85%|████████▍ | 849/1000 [01:31<00:17,  8.72it/s]"
     ]
    },
    {
     "name": "stdout",
     "output_type": "stream",
     "text": [
      "HoG shape is  (133956,)\n",
      "Processing img  862.jpeg\n",
      "HoG shape is  (133956,)\n",
      "Processing img  863.jpeg\n"
     ]
    },
    {
     "name": "stderr",
     "output_type": "stream",
     "text": [
      " 85%|████████▌ | 850/1000 [01:31<00:16,  8.99it/s]"
     ]
    },
    {
     "name": "stdout",
     "output_type": "stream",
     "text": [
      "HoG shape is  (133956,)\n",
      "Processing img  864.jpeg\n"
     ]
    },
    {
     "name": "stderr",
     "output_type": "stream",
     "text": [
      " 85%|████████▌ | 852/1000 [01:31<00:22,  6.53it/s]"
     ]
    },
    {
     "name": "stdout",
     "output_type": "stream",
     "text": [
      "HoG shape is  (133956,)\n",
      "Processing img  865.jpeg\n",
      "HoG shape is  (133956,)\n",
      "Processing img  866.jpeg\n"
     ]
    },
    {
     "name": "stderr",
     "output_type": "stream",
     "text": [
      " 85%|████████▌ | 854/1000 [01:32<00:20,  7.01it/s]"
     ]
    },
    {
     "name": "stdout",
     "output_type": "stream",
     "text": [
      "HoG shape is  (133956,)\n",
      "Processing img  867.jpeg\n",
      "HoG shape is  (133956,)\n",
      "Processing img  868.jpeg\n"
     ]
    },
    {
     "name": "stderr",
     "output_type": "stream",
     "text": [
      " 86%|████████▌ | 856/1000 [01:32<00:17,  8.27it/s]"
     ]
    },
    {
     "name": "stdout",
     "output_type": "stream",
     "text": [
      "HoG shape is  (133956,)\n",
      "Processing img  869.jpeg\n",
      "HoG shape is  (133956,)\n",
      "Processing img  87.jpeg\n",
      "HoG shape is  (133956,)\n",
      "Processing img  870.jpeg\n"
     ]
    },
    {
     "name": "stderr",
     "output_type": "stream",
     "text": [
      " 86%|████████▌ | 858/1000 [01:32<00:15,  9.01it/s]"
     ]
    },
    {
     "name": "stdout",
     "output_type": "stream",
     "text": [
      "HoG shape is  (133956,)\n",
      "Processing img  871.jpeg\n",
      "HoG shape is  (133956,)\n"
     ]
    },
    {
     "name": "stderr",
     "output_type": "stream",
     "text": [
      " 86%|████████▌ | 860/1000 [01:32<00:18,  7.75it/s]"
     ]
    },
    {
     "name": "stdout",
     "output_type": "stream",
     "text": [
      "Processing img  872.jpeg\n",
      "HoG shape is  (133956,)\n",
      "Processing img  873.jpeg\n"
     ]
    },
    {
     "name": "stderr",
     "output_type": "stream",
     "text": [
      " 86%|████████▌ | 862/1000 [01:33<00:16,  8.30it/s]"
     ]
    },
    {
     "name": "stdout",
     "output_type": "stream",
     "text": [
      "HoG shape is  (133956,)\n",
      "Processing img  874.jpeg\n",
      "HoG shape is  (133956,)\n",
      "Processing img  875.jpeg\n"
     ]
    },
    {
     "name": "stderr",
     "output_type": "stream",
     "text": [
      " 86%|████████▋ | 864/1000 [01:33<00:15,  8.87it/s]"
     ]
    },
    {
     "name": "stdout",
     "output_type": "stream",
     "text": [
      "HoG shape is  (133956,)\n",
      "Processing img  876.jpeg\n",
      "HoG shape is  (133956,)\n",
      "Processing img  877.jpeg\n"
     ]
    },
    {
     "name": "stderr",
     "output_type": "stream",
     "text": [
      " 87%|████████▋ | 866/1000 [01:33<00:15,  8.56it/s]"
     ]
    },
    {
     "name": "stdout",
     "output_type": "stream",
     "text": [
      "HoG shape is  (133956,)\n",
      "Processing img  878.jpeg\n",
      "HoG shape is  (133956,)\n",
      "Processing img  879.jpeg\n",
      "HoG shape is  (133956,)\n",
      "Processing img  88.jpeg\n",
      "HoG shape is  (133956,)\n"
     ]
    },
    {
     "name": "stderr",
     "output_type": "stream",
     "text": [
      " 87%|████████▋ | 869/1000 [01:33<00:16,  7.77it/s]"
     ]
    },
    {
     "name": "stdout",
     "output_type": "stream",
     "text": [
      "Processing img  880.jpeg\n",
      "HoG shape is  (133956,)\n",
      "Processing img  881.jpeg\n"
     ]
    },
    {
     "name": "stderr",
     "output_type": "stream",
     "text": [
      " 87%|████████▋ | 871/1000 [01:34<00:15,  8.25it/s]"
     ]
    },
    {
     "name": "stdout",
     "output_type": "stream",
     "text": [
      "HoG shape is  (133956,)\n",
      "Processing img  882.jpeg\n",
      "HoG shape is  (133956,)\n",
      "Processing img  883.jpeg\n"
     ]
    },
    {
     "name": "stderr",
     "output_type": "stream",
     "text": [
      " 87%|████████▋ | 873/1000 [01:34<00:14,  8.56it/s]"
     ]
    },
    {
     "name": "stdout",
     "output_type": "stream",
     "text": [
      "HoG shape is  (133956,)\n",
      "Processing img  884.jpeg\n",
      "HoG shape is  (133956,)\n",
      "Processing img  885.jpeg\n",
      "HoG shape is  (133956,)\n",
      "Processing img  886.jpeg\n"
     ]
    },
    {
     "name": "stderr",
     "output_type": "stream",
     "text": [
      " 88%|████████▊ | 877/1000 [01:34<00:12, 10.01it/s]"
     ]
    },
    {
     "name": "stdout",
     "output_type": "stream",
     "text": [
      "HoG shape is  (133956,)\n",
      "Processing img  887.jpeg\n",
      "HoG shape is  (133956,)\n",
      "Processing img  888.jpeg\n",
      "HoG shape is  (133956,)\n",
      "Processing img  889.jpeg\n"
     ]
    },
    {
     "name": "stderr",
     "output_type": "stream",
     "text": [
      " 88%|████████▊ | 879/1000 [01:34<00:11, 10.26it/s]"
     ]
    },
    {
     "name": "stdout",
     "output_type": "stream",
     "text": [
      "HoG shape is  (133956,)\n",
      "Processing img  89.jpeg\n",
      "HoG shape is  (133956,)\n",
      "Processing img  890.jpeg\n"
     ]
    },
    {
     "name": "stderr",
     "output_type": "stream",
     "text": [
      " 88%|████████▊ | 881/1000 [01:35<00:14,  8.31it/s]"
     ]
    },
    {
     "name": "stdout",
     "output_type": "stream",
     "text": [
      "HoG shape is  (133956,)\n",
      "Processing img  891.jpeg\n",
      "HoG shape is  (133956,)\n",
      "Processing img  892.jpeg\n"
     ]
    },
    {
     "name": "stderr",
     "output_type": "stream",
     "text": [
      " 88%|████████▊ | 883/1000 [01:35<00:14,  8.03it/s]"
     ]
    },
    {
     "name": "stdout",
     "output_type": "stream",
     "text": [
      "HoG shape is  (133956,)\n",
      "Processing img  893.jpeg\n",
      "HoG shape is  (133956,)\n",
      "Processing img  894.jpeg\n"
     ]
    },
    {
     "name": "stderr",
     "output_type": "stream",
     "text": [
      " 88%|████████▊ | 885/1000 [01:35<00:14,  8.17it/s]"
     ]
    },
    {
     "name": "stdout",
     "output_type": "stream",
     "text": [
      "HoG shape is  (133956,)\n",
      "Processing img  895.jpeg\n",
      "HoG shape is  (133956,)\n",
      "Processing img  896.jpeg\n"
     ]
    },
    {
     "name": "stderr",
     "output_type": "stream",
     "text": [
      " 89%|████████▊ | 887/1000 [01:36<00:13,  8.19it/s]"
     ]
    },
    {
     "name": "stdout",
     "output_type": "stream",
     "text": [
      "HoG shape is  (133956,)\n",
      "Processing img  897.jpeg\n",
      "HoG shape is  (133956,)\n",
      "Processing img  898.jpeg\n"
     ]
    },
    {
     "name": "stderr",
     "output_type": "stream",
     "text": [
      " 89%|████████▉ | 889/1000 [01:36<00:14,  7.75it/s]"
     ]
    },
    {
     "name": "stdout",
     "output_type": "stream",
     "text": [
      "HoG shape is  (133956,)\n",
      "Processing img  899.jpeg\n",
      "HoG shape is  (133956,)\n",
      "Processing img  9.jpeg\n"
     ]
    },
    {
     "name": "stderr",
     "output_type": "stream",
     "text": [
      " 89%|████████▉ | 891/1000 [01:36<00:15,  7.06it/s]"
     ]
    },
    {
     "name": "stdout",
     "output_type": "stream",
     "text": [
      "HoG shape is  (133956,)\n",
      "Processing img  90.jpeg\n",
      "HoG shape is  (133956,)\n",
      "Processing img  900.jpeg\n"
     ]
    },
    {
     "name": "stderr",
     "output_type": "stream",
     "text": [
      " 89%|████████▉ | 893/1000 [01:36<00:13,  8.19it/s]"
     ]
    },
    {
     "name": "stdout",
     "output_type": "stream",
     "text": [
      "HoG shape is  (133956,)\n",
      "Processing img  901.jpeg\n",
      "HoG shape is  (133956,)\n",
      "Processing img  902.jpeg\n"
     ]
    },
    {
     "name": "stderr",
     "output_type": "stream",
     "text": [
      " 90%|████████▉ | 895/1000 [01:37<00:12,  8.58it/s]"
     ]
    },
    {
     "name": "stdout",
     "output_type": "stream",
     "text": [
      "HoG shape is  (133956,)\n",
      "Processing img  903.jpeg\n",
      "HoG shape is  (133956,)\n",
      "Processing img  904.jpeg\n",
      "HoG shape is  (133956,)\n",
      "Processing img  905.jpeg\n"
     ]
    },
    {
     "name": "stderr",
     "output_type": "stream",
     "text": [
      " 90%|████████▉ | 897/1000 [01:37<00:10,  9.52it/s]"
     ]
    },
    {
     "name": "stdout",
     "output_type": "stream",
     "text": [
      "HoG shape is  (133956,)\n",
      "Processing img  906.jpeg\n",
      "HoG shape is  (133956,)\n",
      "Processing img  907.jpeg\n",
      "HoG shape is  (133956,)\n"
     ]
    },
    {
     "name": "stderr",
     "output_type": "stream",
     "text": [
      " 90%|█████████ | 900/1000 [01:37<00:10,  9.69it/s]"
     ]
    },
    {
     "name": "stdout",
     "output_type": "stream",
     "text": [
      "Processing img  908.jpeg\n",
      "HoG shape is  (133956,)\n",
      "Processing img  909.jpeg\n"
     ]
    },
    {
     "name": "stderr",
     "output_type": "stream",
     "text": [
      " 90%|█████████ | 902/1000 [01:37<00:13,  7.45it/s]"
     ]
    },
    {
     "name": "stdout",
     "output_type": "stream",
     "text": [
      "HoG shape is  (133956,)\n",
      "Processing img  91.jpeg\n",
      "HoG shape is  (133956,)\n",
      "Processing img  910.jpeg\n"
     ]
    },
    {
     "name": "stderr",
     "output_type": "stream",
     "text": [
      " 90%|█████████ | 904/1000 [01:38<00:11,  8.06it/s]"
     ]
    },
    {
     "name": "stdout",
     "output_type": "stream",
     "text": [
      "HoG shape is  (133956,)\n",
      "Processing img  911.jpeg\n",
      "HoG shape is  (133956,)\n",
      "Processing img  912.jpeg\n",
      "HoG shape is  (133956,)\n",
      "Processing img  913.jpeg\n"
     ]
    },
    {
     "name": "stderr",
     "output_type": "stream",
     "text": [
      " 91%|█████████ | 907/1000 [01:38<00:10,  8.68it/s]"
     ]
    },
    {
     "name": "stdout",
     "output_type": "stream",
     "text": [
      "HoG shape is  (133956,)\n",
      "Processing img  914.jpeg\n",
      "HoG shape is  (133956,)\n",
      "Processing img  915.jpeg\n",
      "HoG shape is  (133956,)\n",
      "Processing img  916.jpeg\n"
     ]
    },
    {
     "name": "stderr",
     "output_type": "stream",
     "text": [
      " 91%|█████████ | 910/1000 [01:38<00:10,  8.86it/s]"
     ]
    },
    {
     "name": "stdout",
     "output_type": "stream",
     "text": [
      "HoG shape is  (133956,)\n",
      "Processing img  917.jpeg\n",
      "HoG shape is  (133956,)\n",
      "Processing img  918.jpeg\n"
     ]
    },
    {
     "name": "stderr",
     "output_type": "stream",
     "text": [
      " 91%|█████████ | 912/1000 [01:39<00:13,  6.60it/s]"
     ]
    },
    {
     "name": "stdout",
     "output_type": "stream",
     "text": [
      "HoG shape is  (133956,)\n",
      "Processing img  919.jpeg\n",
      "HoG shape is  (133956,)\n",
      "Processing img  92.jpeg\n"
     ]
    },
    {
     "name": "stderr",
     "output_type": "stream",
     "text": [
      " 91%|█████████▏| 914/1000 [01:39<00:11,  7.45it/s]"
     ]
    },
    {
     "name": "stdout",
     "output_type": "stream",
     "text": [
      "HoG shape is  (133956,)\n",
      "Processing img  920.jpeg\n",
      "HoG shape is  (133956,)\n",
      "Processing img  921.jpeg\n",
      "HoG shape is  (133956,)\n",
      "Processing img  922.jpeg\n"
     ]
    },
    {
     "name": "stderr",
     "output_type": "stream",
     "text": [
      " 92%|█████████▏| 918/1000 [01:39<00:08,  9.21it/s]"
     ]
    },
    {
     "name": "stdout",
     "output_type": "stream",
     "text": [
      "HoG shape is  (133956,)\n",
      "Processing img  923.jpeg\n",
      "HoG shape is  (133956,)\n",
      "Processing img  924.jpeg\n",
      "HoG shape is  (133956,)\n",
      "Processing img  925.jpeg\n"
     ]
    },
    {
     "name": "stderr",
     "output_type": "stream",
     "text": [
      " 92%|█████████▏| 921/1000 [01:40<00:08,  9.77it/s]"
     ]
    },
    {
     "name": "stdout",
     "output_type": "stream",
     "text": [
      "HoG shape is  (133956,)\n",
      "Processing img  926.jpeg\n",
      "HoG shape is  (133956,)\n",
      "Processing img  927.jpeg\n",
      "HoG shape is  (133956,)\n"
     ]
    },
    {
     "name": "stderr",
     "output_type": "stream",
     "text": [
      " 92%|█████████▏| 922/1000 [01:40<00:09,  8.45it/s]"
     ]
    },
    {
     "name": "stdout",
     "output_type": "stream",
     "text": [
      "Processing img  928.jpeg\n",
      "HoG shape is  (133956,)\n"
     ]
    },
    {
     "name": "stderr",
     "output_type": "stream",
     "text": [
      " 92%|█████████▏| 923/1000 [01:40<00:09,  8.01it/s]"
     ]
    },
    {
     "name": "stdout",
     "output_type": "stream",
     "text": [
      "Processing img  929.jpeg\n",
      "HoG shape is  (133956,)\n",
      "Processing img  93.jpeg\n"
     ]
    },
    {
     "name": "stderr",
     "output_type": "stream",
     "text": [
      " 92%|█████████▎| 925/1000 [01:40<00:09,  7.60it/s]"
     ]
    },
    {
     "name": "stdout",
     "output_type": "stream",
     "text": [
      "HoG shape is  (133956,)\n",
      "Processing img  930.jpeg\n",
      "HoG shape is  (133956,)\n",
      "Processing img  931.jpeg\n"
     ]
    },
    {
     "name": "stderr",
     "output_type": "stream",
     "text": [
      " 93%|█████████▎| 927/1000 [01:40<00:09,  7.59it/s]"
     ]
    },
    {
     "name": "stdout",
     "output_type": "stream",
     "text": [
      "HoG shape is  (133956,)\n",
      "Processing img  932.jpeg\n",
      "HoG shape is  (133956,)\n",
      "Processing img  933.jpeg\n"
     ]
    },
    {
     "name": "stderr",
     "output_type": "stream",
     "text": [
      " 93%|█████████▎| 928/1000 [01:41<00:08,  8.03it/s]"
     ]
    },
    {
     "name": "stdout",
     "output_type": "stream",
     "text": [
      "HoG shape is  (133956,)\n",
      "Processing img  934.jpeg\n",
      "HoG shape is  (133956,)\n"
     ]
    },
    {
     "name": "stderr",
     "output_type": "stream",
     "text": [
      " 93%|█████████▎| 930/1000 [01:41<00:10,  6.90it/s]"
     ]
    },
    {
     "name": "stdout",
     "output_type": "stream",
     "text": [
      "Processing img  935.jpeg\n",
      "HoG shape is  (133956,)\n",
      "Processing img  936.jpeg\n"
     ]
    },
    {
     "name": "stderr",
     "output_type": "stream",
     "text": [
      " 93%|█████████▎| 932/1000 [01:41<00:08,  7.72it/s]"
     ]
    },
    {
     "name": "stdout",
     "output_type": "stream",
     "text": [
      "HoG shape is  (133956,)\n",
      "Processing img  937.jpeg\n",
      "HoG shape is  (133956,)\n",
      "Processing img  938.jpeg\n"
     ]
    },
    {
     "name": "stderr",
     "output_type": "stream",
     "text": [
      " 93%|█████████▎| 934/1000 [01:41<00:07,  8.69it/s]"
     ]
    },
    {
     "name": "stdout",
     "output_type": "stream",
     "text": [
      "HoG shape is  (133956,)\n",
      "Processing img  939.jpeg\n",
      "HoG shape is  (133956,)\n",
      "Processing img  94.jpeg\n",
      "HoG shape is  (133956,)\n",
      "Processing img  940.jpeg\n"
     ]
    },
    {
     "name": "stderr",
     "output_type": "stream",
     "text": [
      " 94%|█████████▎| 937/1000 [01:42<00:06,  9.43it/s]"
     ]
    },
    {
     "name": "stdout",
     "output_type": "stream",
     "text": [
      "HoG shape is  (133956,)\n",
      "Processing img  941.jpeg\n",
      "HoG shape is  (133956,)\n",
      "Processing img  942.jpeg\n",
      "HoG shape is  (133956,)\n",
      "Processing img  943.jpeg\n"
     ]
    },
    {
     "name": "stderr",
     "output_type": "stream",
     "text": [
      " 94%|█████████▍| 941/1000 [01:42<00:05, 10.61it/s]"
     ]
    },
    {
     "name": "stdout",
     "output_type": "stream",
     "text": [
      "HoG shape is  (133956,)\n",
      "Processing img  944.jpeg\n",
      "HoG shape is  (133956,)\n",
      "Processing img  945.jpeg\n",
      "HoG shape is  (133956,)\n",
      "Processing img  946.jpeg\n"
     ]
    },
    {
     "name": "stderr",
     "output_type": "stream",
     "text": [
      " 94%|█████████▍| 943/1000 [01:42<00:06,  8.92it/s]"
     ]
    },
    {
     "name": "stdout",
     "output_type": "stream",
     "text": [
      "HoG shape is  (133956,)\n",
      "Processing img  947.jpeg\n",
      "HoG shape is  (133956,)\n",
      "Processing img  948.jpeg\n"
     ]
    },
    {
     "name": "stderr",
     "output_type": "stream",
     "text": [
      " 94%|█████████▍| 945/1000 [01:42<00:06,  9.02it/s]"
     ]
    },
    {
     "name": "stdout",
     "output_type": "stream",
     "text": [
      "HoG shape is  (133956,)\n",
      "Processing img  949.jpeg\n",
      "HoG shape is  (133956,)\n",
      "Processing img  95.jpeg\n"
     ]
    },
    {
     "name": "stderr",
     "output_type": "stream",
     "text": [
      " 95%|█████████▍| 947/1000 [01:43<00:05,  8.93it/s]"
     ]
    },
    {
     "name": "stdout",
     "output_type": "stream",
     "text": [
      "HoG shape is  (133956,)\n",
      "Processing img  950.jpeg\n",
      "HoG shape is  (133956,)\n",
      "Processing img  951.jpeg\n"
     ]
    },
    {
     "name": "stderr",
     "output_type": "stream",
     "text": [
      " 95%|█████████▍| 949/1000 [01:43<00:05,  9.67it/s]"
     ]
    },
    {
     "name": "stdout",
     "output_type": "stream",
     "text": [
      "HoG shape is  (133956,)\n",
      "Processing img  952.jpeg\n",
      "HoG shape is  (133956,)\n",
      "Processing img  953.jpeg\n",
      "HoG shape is  (133956,)\n",
      "Processing img  954.jpeg\n"
     ]
    },
    {
     "name": "stderr",
     "output_type": "stream",
     "text": [
      " 95%|█████████▌| 952/1000 [01:43<00:05,  8.09it/s]"
     ]
    },
    {
     "name": "stdout",
     "output_type": "stream",
     "text": [
      "HoG shape is  (133956,)\n",
      "Processing img  955.jpeg\n",
      "HoG shape is  (133956,)\n"
     ]
    },
    {
     "name": "stderr",
     "output_type": "stream",
     "text": [
      " 95%|█████████▌| 953/1000 [01:43<00:05,  8.00it/s]"
     ]
    },
    {
     "name": "stdout",
     "output_type": "stream",
     "text": [
      "Processing img  956.jpeg\n",
      "HoG shape is  (133956,)\n",
      "Processing img  957.jpeg\n"
     ]
    },
    {
     "name": "stderr",
     "output_type": "stream",
     "text": [
      " 96%|█████████▌| 955/1000 [01:44<00:05,  8.30it/s]"
     ]
    },
    {
     "name": "stdout",
     "output_type": "stream",
     "text": [
      "HoG shape is  (133956,)\n",
      "Processing img  958.jpeg\n",
      "HoG shape is  (133956,)\n",
      "Processing img  959.jpeg\n",
      "HoG shape is  (133956,)\n",
      "Processing img  96.jpeg\n"
     ]
    },
    {
     "name": "stderr",
     "output_type": "stream",
     "text": [
      " 96%|█████████▌| 957/1000 [01:44<00:04,  8.68it/s]"
     ]
    },
    {
     "name": "stdout",
     "output_type": "stream",
     "text": [
      "HoG shape is  (133956,)\n",
      "Processing img  960.jpeg\n",
      "HoG shape is  (133956,)\n",
      "Processing img  961.jpeg\n",
      "HoG shape is  (133956,)\n"
     ]
    },
    {
     "name": "stderr",
     "output_type": "stream",
     "text": [
      " 96%|█████████▌| 960/1000 [01:44<00:04,  9.42it/s]"
     ]
    },
    {
     "name": "stdout",
     "output_type": "stream",
     "text": [
      "Processing img  962.jpeg\n",
      "HoG shape is  (133956,)\n",
      "Processing img  963.jpeg\n",
      "HoG shape is  (133956,)\n",
      "Processing img  964.jpeg\n"
     ]
    },
    {
     "name": "stderr",
     "output_type": "stream",
     "text": [
      " 96%|█████████▌| 962/1000 [01:44<00:04,  9.42it/s]"
     ]
    },
    {
     "name": "stdout",
     "output_type": "stream",
     "text": [
      "HoG shape is  (133956,)\n",
      "Processing img  965.jpeg\n",
      "HoG shape is  (133956,)\n"
     ]
    },
    {
     "name": "stderr",
     "output_type": "stream",
     "text": [
      " 96%|█████████▋| 964/1000 [01:45<00:04,  8.10it/s]"
     ]
    },
    {
     "name": "stdout",
     "output_type": "stream",
     "text": [
      "Processing img  966.jpeg\n",
      "HoG shape is  (133956,)\n",
      "Processing img  967.jpeg\n"
     ]
    },
    {
     "name": "stderr",
     "output_type": "stream",
     "text": [
      " 97%|█████████▋| 966/1000 [01:45<00:04,  8.27it/s]"
     ]
    },
    {
     "name": "stdout",
     "output_type": "stream",
     "text": [
      "HoG shape is  (133956,)\n",
      "Processing img  968.jpeg\n",
      "HoG shape is  (133956,)\n",
      "Processing img  969.jpeg\n"
     ]
    },
    {
     "name": "stderr",
     "output_type": "stream",
     "text": [
      " 97%|█████████▋| 968/1000 [01:45<00:03,  8.97it/s]"
     ]
    },
    {
     "name": "stdout",
     "output_type": "stream",
     "text": [
      "HoG shape is  (133956,)\n",
      "Processing img  97.jpeg\n",
      "HoG shape is  (133956,)\n",
      "Processing img  970.jpeg\n",
      "HoG shape is  (133956,)\n",
      "Processing img  971.jpeg\n"
     ]
    },
    {
     "name": "stderr",
     "output_type": "stream",
     "text": [
      " 97%|█████████▋| 971/1000 [01:45<00:03,  9.66it/s]"
     ]
    },
    {
     "name": "stdout",
     "output_type": "stream",
     "text": [
      "HoG shape is  (133956,)\n",
      "Processing img  972.jpeg\n",
      "HoG shape is  (133956,)\n",
      "Processing img  973.jpeg\n",
      "HoG shape is  (133956,)\n",
      "Processing img  974.jpeg\n"
     ]
    },
    {
     "name": "stderr",
     "output_type": "stream",
     "text": [
      " 97%|█████████▋| 973/1000 [01:46<00:02, 10.31it/s]"
     ]
    },
    {
     "name": "stdout",
     "output_type": "stream",
     "text": [
      "HoG shape is  (133956,)\n",
      "Processing img  975.jpeg\n"
     ]
    },
    {
     "name": "stderr",
     "output_type": "stream",
     "text": [
      " 98%|█████████▊| 975/1000 [01:46<00:03,  8.06it/s]"
     ]
    },
    {
     "name": "stdout",
     "output_type": "stream",
     "text": [
      "HoG shape is  (133956,)\n",
      "Processing img  976.jpeg\n",
      "HoG shape is  (133956,)\n",
      "Processing img  977.jpeg\n"
     ]
    },
    {
     "name": "stderr",
     "output_type": "stream",
     "text": [
      " 98%|█████████▊| 977/1000 [01:46<00:02,  8.56it/s]"
     ]
    },
    {
     "name": "stdout",
     "output_type": "stream",
     "text": [
      "HoG shape is  (133956,)\n",
      "Processing img  978.jpeg\n",
      "HoG shape is  (133956,)\n",
      "Processing img  979.jpeg\n",
      "HoG shape is  (133956,)\n",
      "Processing img  98.jpeg\n"
     ]
    },
    {
     "name": "stderr",
     "output_type": "stream",
     "text": [
      " 98%|█████████▊| 980/1000 [01:46<00:02,  9.28it/s]"
     ]
    },
    {
     "name": "stdout",
     "output_type": "stream",
     "text": [
      "HoG shape is  (133956,)\n",
      "Processing img  980.jpeg\n",
      "HoG shape is  (133956,)\n",
      "Processing img  981.jpeg\n",
      "HoG shape is  (133956,)\n",
      "Processing img  982.jpeg\n"
     ]
    },
    {
     "name": "stderr",
     "output_type": "stream",
     "text": [
      " 98%|█████████▊| 984/1000 [01:47<00:01, 10.32it/s]"
     ]
    },
    {
     "name": "stdout",
     "output_type": "stream",
     "text": [
      "HoG shape is  (133956,)\n",
      "Processing img  983.jpeg\n",
      "HoG shape is  (133956,)\n",
      "Processing img  984.jpeg\n",
      "HoG shape is  (133956,)\n",
      "Processing img  985.jpeg\n",
      "HoG shape is  (133956,)\n",
      "Processing img  986.jpeg\n"
     ]
    },
    {
     "name": "stderr",
     "output_type": "stream",
     "text": [
      " 99%|█████████▊| 987/1000 [01:47<00:01,  8.22it/s]"
     ]
    },
    {
     "name": "stdout",
     "output_type": "stream",
     "text": [
      "HoG shape is  (133956,)\n",
      "Processing img  987.jpeg\n",
      "HoG shape is  (133956,)\n",
      "Processing img  988.jpeg\n"
     ]
    },
    {
     "name": "stderr",
     "output_type": "stream",
     "text": [
      " 99%|█████████▉| 989/1000 [01:47<00:01,  8.35it/s]"
     ]
    },
    {
     "name": "stdout",
     "output_type": "stream",
     "text": [
      "HoG shape is  (133956,)\n",
      "Processing img  989.jpeg\n",
      "HoG shape is  (133956,)\n",
      "Processing img  99.jpeg\n",
      "HoG shape is  (133956,)\n",
      "Processing img  990.jpeg\n"
     ]
    },
    {
     "name": "stderr",
     "output_type": "stream",
     "text": [
      " 99%|█████████▉| 993/1000 [01:48<00:00,  9.78it/s]"
     ]
    },
    {
     "name": "stdout",
     "output_type": "stream",
     "text": [
      "HoG shape is  (133956,)\n",
      "Processing img  991.jpeg\n",
      "HoG shape is  (133956,)\n",
      "Processing img  992.jpeg\n",
      "HoG shape is  (133956,)\n"
     ]
    },
    {
     "name": "stderr",
     "output_type": "stream",
     "text": [
      "100%|█████████▉| 995/1000 [01:48<00:00, 10.27it/s]"
     ]
    },
    {
     "name": "stdout",
     "output_type": "stream",
     "text": [
      "Processing img  993.jpeg\n",
      "HoG shape is  (133956,)\n",
      "Processing img  994.jpeg\n",
      "HoG shape is  (133956,)\n",
      "Processing img  995.jpeg\n"
     ]
    },
    {
     "name": "stderr",
     "output_type": "stream",
     "text": [
      "100%|█████████▉| 997/1000 [01:48<00:00,  9.63it/s]"
     ]
    },
    {
     "name": "stdout",
     "output_type": "stream",
     "text": [
      "HoG shape is  (133956,)\n",
      "Processing img  996.jpeg\n",
      "HoG shape is  (133956,)\n",
      "Processing img  997.jpeg\n"
     ]
    },
    {
     "name": "stderr",
     "output_type": "stream",
     "text": [
      "100%|█████████▉| 999/1000 [01:49<00:00,  7.95it/s]"
     ]
    },
    {
     "name": "stdout",
     "output_type": "stream",
     "text": [
      "HoG shape is  (133956,)\n",
      "Processing img  998.jpeg\n",
      "HoG shape is  (133956,)\n",
      "Processing img  999.jpeg\n"
     ]
    },
    {
     "name": "stderr",
     "output_type": "stream",
     "text": [
      "100%|██████████| 1000/1000 [01:49<00:00,  9.15it/s]\n"
     ]
    },
    {
     "name": "stdout",
     "output_type": "stream",
     "text": [
      "HoG shape is  (133956,)\n",
      "Processing font type  Marhey\n"
     ]
    },
    {
     "name": "stderr",
     "output_type": "stream",
     "text": [
      "  0%|          | 1/1000 [00:00<02:07,  7.84it/s]"
     ]
    },
    {
     "name": "stdout",
     "output_type": "stream",
     "text": [
      "Processing img  0.jpeg\n",
      "HoG shape is  (133956,)\n",
      "Processing img  1.jpeg\n",
      "HoG shape is  (133956,)\n",
      "Processing img  10.jpeg\n"
     ]
    },
    {
     "name": "stderr",
     "output_type": "stream",
     "text": [
      "  0%|          | 4/1000 [00:00<01:44,  9.51it/s]"
     ]
    },
    {
     "name": "stdout",
     "output_type": "stream",
     "text": [
      "HoG shape is  (133956,)\n",
      "Processing img  100.jpeg\n",
      "HoG shape is  (133956,)\n",
      "Processing img  101.jpeg\n",
      "HoG shape is  (133956,)\n",
      "Processing img  102.jpeg\n"
     ]
    },
    {
     "name": "stderr",
     "output_type": "stream",
     "text": [
      "  1%|          | 6/1000 [00:00<01:41,  9.83it/s]"
     ]
    },
    {
     "name": "stdout",
     "output_type": "stream",
     "text": [
      "HoG shape is  (133956,)\n",
      "Processing img  103.jpeg\n",
      "HoG shape is  (133956,)\n"
     ]
    },
    {
     "name": "stderr",
     "output_type": "stream",
     "text": [
      "  1%|          | 8/1000 [00:00<02:05,  7.88it/s]"
     ]
    },
    {
     "name": "stdout",
     "output_type": "stream",
     "text": [
      "Processing img  104.jpeg\n",
      "HoG shape is  (133956,)\n",
      "Processing img  105.jpeg\n"
     ]
    },
    {
     "name": "stderr",
     "output_type": "stream",
     "text": [
      "  1%|          | 10/1000 [00:01<01:56,  8.52it/s]"
     ]
    },
    {
     "name": "stdout",
     "output_type": "stream",
     "text": [
      "HoG shape is  (133956,)\n",
      "Processing img  106.jpeg\n",
      "HoG shape is  (133956,)\n",
      "Processing img  107.jpeg\n",
      "HoG shape is  (133956,)\n",
      "Processing img  108.jpeg\n"
     ]
    },
    {
     "name": "stderr",
     "output_type": "stream",
     "text": [
      "  1%|▏         | 14/1000 [00:01<01:38, 10.02it/s]"
     ]
    },
    {
     "name": "stdout",
     "output_type": "stream",
     "text": [
      "HoG shape is  (133956,)\n",
      "Processing img  109.jpeg\n",
      "HoG shape is  (133956,)\n",
      "Processing img  11.jpeg\n",
      "HoG shape is  (133956,)\n"
     ]
    },
    {
     "name": "stderr",
     "output_type": "stream",
     "text": [
      "  2%|▏         | 16/1000 [00:01<01:33, 10.51it/s]"
     ]
    },
    {
     "name": "stdout",
     "output_type": "stream",
     "text": [
      "Processing img  110.jpeg\n",
      "HoG shape is  (133956,)\n",
      "Processing img  111.jpeg\n",
      "HoG shape is  (133956,)\n",
      "Processing img  112.jpeg\n"
     ]
    },
    {
     "name": "stderr",
     "output_type": "stream",
     "text": [
      "  2%|▏         | 18/1000 [00:01<01:42,  9.56it/s]"
     ]
    },
    {
     "name": "stdout",
     "output_type": "stream",
     "text": [
      "HoG shape is  (133956,)\n",
      "Processing img  113.jpeg\n",
      "HoG shape is  (133956,)\n",
      "Processing img  114.jpeg\n"
     ]
    },
    {
     "name": "stderr",
     "output_type": "stream",
     "text": [
      "  2%|▏         | 20/1000 [00:02<01:51,  8.81it/s]"
     ]
    },
    {
     "name": "stdout",
     "output_type": "stream",
     "text": [
      "HoG shape is  (133956,)\n",
      "Processing img  115.jpeg\n",
      "HoG shape is  (133956,)\n",
      "Processing img  116.jpeg\n"
     ]
    },
    {
     "name": "stderr",
     "output_type": "stream",
     "text": [
      "  2%|▏         | 22/1000 [00:02<01:49,  8.89it/s]"
     ]
    },
    {
     "name": "stdout",
     "output_type": "stream",
     "text": [
      "HoG shape is  (133956,)\n",
      "Processing img  117.jpeg\n",
      "HoG shape is  (133956,)\n",
      "Processing img  118.jpeg\n",
      "HoG shape is  (133956,)\n",
      "Processing img  119.jpeg\n"
     ]
    },
    {
     "name": "stderr",
     "output_type": "stream",
     "text": [
      "  2%|▎         | 25/1000 [00:02<01:43,  9.46it/s]"
     ]
    },
    {
     "name": "stdout",
     "output_type": "stream",
     "text": [
      "HoG shape is  (133956,)\n",
      "Processing img  12.jpeg\n",
      "HoG shape is  (133956,)\n",
      "Processing img  120.jpeg\n"
     ]
    },
    {
     "name": "stderr",
     "output_type": "stream",
     "text": [
      "  3%|▎         | 27/1000 [00:03<02:05,  7.73it/s]"
     ]
    },
    {
     "name": "stdout",
     "output_type": "stream",
     "text": [
      "HoG shape is  (133956,)\n",
      "Processing img  121.jpeg\n",
      "HoG shape is  (133956,)\n"
     ]
    },
    {
     "name": "stderr",
     "output_type": "stream",
     "text": [
      "  3%|▎         | 28/1000 [00:03<02:09,  7.53it/s]"
     ]
    },
    {
     "name": "stdout",
     "output_type": "stream",
     "text": [
      "Processing img  122.jpeg\n",
      "HoG shape is  (133956,)\n",
      "Processing img  123.jpeg\n"
     ]
    },
    {
     "name": "stderr",
     "output_type": "stream",
     "text": [
      "  3%|▎         | 30/1000 [00:03<01:54,  8.48it/s]"
     ]
    },
    {
     "name": "stdout",
     "output_type": "stream",
     "text": [
      "HoG shape is  (133956,)\n",
      "Processing img  124.jpeg\n",
      "HoG shape is  (133956,)\n",
      "Processing img  125.jpeg\n",
      "HoG shape is  (133956,)\n",
      "Processing img  126.jpeg\n"
     ]
    },
    {
     "name": "stderr",
     "output_type": "stream",
     "text": [
      "  3%|▎         | 33/1000 [00:03<01:44,  9.22it/s]"
     ]
    },
    {
     "name": "stdout",
     "output_type": "stream",
     "text": [
      "HoG shape is  (133956,)\n",
      "Processing img  127.jpeg\n",
      "HoG shape is  (133956,)\n",
      "Processing img  128.jpeg\n",
      "HoG shape is  (133956,)\n",
      "Processing img  129.jpeg\n"
     ]
    },
    {
     "name": "stderr",
     "output_type": "stream",
     "text": [
      "  4%|▎         | 36/1000 [00:04<01:50,  8.75it/s]"
     ]
    },
    {
     "name": "stdout",
     "output_type": "stream",
     "text": [
      "HoG shape is  (133956,)\n",
      "Processing img  13.jpeg\n",
      "HoG shape is  (133956,)\n",
      "Processing img  130.jpeg\n"
     ]
    },
    {
     "name": "stderr",
     "output_type": "stream",
     "text": [
      "  4%|▍         | 38/1000 [00:04<01:52,  8.56it/s]"
     ]
    },
    {
     "name": "stdout",
     "output_type": "stream",
     "text": [
      "HoG shape is  (133956,)\n",
      "Processing img  131.jpeg\n",
      "HoG shape is  (133956,)\n",
      "Processing img  132.jpeg\n"
     ]
    },
    {
     "name": "stderr",
     "output_type": "stream",
     "text": [
      "  4%|▍         | 40/1000 [00:04<01:44,  9.17it/s]"
     ]
    },
    {
     "name": "stdout",
     "output_type": "stream",
     "text": [
      "HoG shape is  (133956,)\n",
      "Processing img  133.jpeg\n",
      "HoG shape is  (133956,)\n",
      "Processing img  134.jpeg\n",
      "HoG shape is  (133956,)\n",
      "Processing img  135.jpeg\n"
     ]
    },
    {
     "name": "stderr",
     "output_type": "stream",
     "text": [
      "  4%|▍         | 43/1000 [00:04<01:43,  9.21it/s]"
     ]
    },
    {
     "name": "stdout",
     "output_type": "stream",
     "text": [
      "HoG shape is  (133956,)\n",
      "Processing img  136.jpeg\n",
      "HoG shape is  (133956,)\n",
      "Processing img  137.jpeg\n"
     ]
    },
    {
     "name": "stderr",
     "output_type": "stream",
     "text": [
      "  4%|▍         | 44/1000 [00:04<01:44,  9.17it/s]"
     ]
    },
    {
     "name": "stdout",
     "output_type": "stream",
     "text": [
      "HoG shape is  (133956,)\n",
      "Processing img  138.jpeg\n"
     ]
    },
    {
     "name": "stderr",
     "output_type": "stream",
     "text": [
      "  5%|▍         | 46/1000 [00:05<02:13,  7.13it/s]"
     ]
    },
    {
     "name": "stdout",
     "output_type": "stream",
     "text": [
      "HoG shape is  (133956,)\n",
      "Processing img  139.jpeg\n",
      "HoG shape is  (133956,)\n",
      "Processing img  14.jpeg\n"
     ]
    },
    {
     "name": "stderr",
     "output_type": "stream",
     "text": [
      "  5%|▍         | 48/1000 [00:05<02:02,  7.79it/s]"
     ]
    },
    {
     "name": "stdout",
     "output_type": "stream",
     "text": [
      "HoG shape is  (133956,)\n",
      "Processing img  140.jpeg\n",
      "HoG shape is  (133956,)\n",
      "Processing img  141.jpeg\n"
     ]
    },
    {
     "name": "stderr",
     "output_type": "stream",
     "text": [
      "  5%|▌         | 50/1000 [00:05<01:50,  8.59it/s]"
     ]
    },
    {
     "name": "stdout",
     "output_type": "stream",
     "text": [
      "HoG shape is  (133956,)\n",
      "Processing img  142.jpeg\n",
      "HoG shape is  (133956,)\n",
      "Processing img  143.jpeg\n",
      "HoG shape is  (133956,)\n",
      "Processing img  144.jpeg\n"
     ]
    },
    {
     "name": "stderr",
     "output_type": "stream",
     "text": [
      "  5%|▌         | 54/1000 [00:06<01:36,  9.81it/s]"
     ]
    },
    {
     "name": "stdout",
     "output_type": "stream",
     "text": [
      "HoG shape is  (133956,)\n",
      "Processing img  145.jpeg\n",
      "HoG shape is  (133956,)\n",
      "Processing img  146.jpeg\n",
      "HoG shape is  (133956,)\n"
     ]
    },
    {
     "name": "stderr",
     "output_type": "stream",
     "text": [
      "  6%|▌         | 55/1000 [00:06<01:54,  8.23it/s]"
     ]
    },
    {
     "name": "stdout",
     "output_type": "stream",
     "text": [
      "Processing img  147.jpeg\n",
      "HoG shape is  (133956,)\n"
     ]
    },
    {
     "name": "stderr",
     "output_type": "stream",
     "text": [
      "  6%|▌         | 56/1000 [00:06<01:55,  8.15it/s]"
     ]
    },
    {
     "name": "stdout",
     "output_type": "stream",
     "text": [
      "Processing img  148.jpeg\n",
      "HoG shape is  (133956,)\n",
      "Processing img  149.jpeg\n"
     ]
    },
    {
     "name": "stderr",
     "output_type": "stream",
     "text": [
      "  6%|▌         | 58/1000 [00:06<01:57,  8.03it/s]"
     ]
    },
    {
     "name": "stdout",
     "output_type": "stream",
     "text": [
      "HoG shape is  (133956,)\n",
      "Processing img  15.jpeg\n",
      "HoG shape is  (133956,)\n",
      "Processing img  150.jpeg\n"
     ]
    },
    {
     "name": "stderr",
     "output_type": "stream",
     "text": [
      "  6%|▌         | 61/1000 [00:06<01:41,  9.26it/s]"
     ]
    },
    {
     "name": "stdout",
     "output_type": "stream",
     "text": [
      "HoG shape is  (133956,)\n",
      "Processing img  151.jpeg\n",
      "HoG shape is  (133956,)\n",
      "Processing img  152.jpeg\n",
      "HoG shape is  (133956,)\n"
     ]
    },
    {
     "name": "stderr",
     "output_type": "stream",
     "text": [
      "  6%|▋         | 63/1000 [00:07<01:35,  9.83it/s]"
     ]
    },
    {
     "name": "stdout",
     "output_type": "stream",
     "text": [
      "Processing img  153.jpeg\n",
      "HoG shape is  (133956,)\n",
      "Processing img  154.jpeg\n",
      "HoG shape is  (133956,)\n"
     ]
    },
    {
     "name": "stderr",
     "output_type": "stream",
     "text": [
      "  6%|▋         | 64/1000 [00:07<01:36,  9.75it/s]"
     ]
    },
    {
     "name": "stdout",
     "output_type": "stream",
     "text": [
      "Processing img  155.jpeg\n",
      "HoG shape is  (133956,)\n",
      "Processing img  156.jpeg\n"
     ]
    },
    {
     "name": "stderr",
     "output_type": "stream",
     "text": [
      "  7%|▋         | 66/1000 [00:07<02:06,  7.40it/s]"
     ]
    },
    {
     "name": "stdout",
     "output_type": "stream",
     "text": [
      "HoG shape is  (133956,)\n",
      "Processing img  157.jpeg\n",
      "HoG shape is  (133956,)\n",
      "Processing img  158.jpeg\n"
     ]
    },
    {
     "name": "stderr",
     "output_type": "stream",
     "text": [
      "  7%|▋         | 68/1000 [00:07<01:56,  8.02it/s]"
     ]
    },
    {
     "name": "stdout",
     "output_type": "stream",
     "text": [
      "HoG shape is  (133956,)\n",
      "Processing img  159.jpeg\n",
      "HoG shape is  (133956,)\n",
      "Processing img  16.jpeg\n"
     ]
    },
    {
     "name": "stderr",
     "output_type": "stream",
     "text": [
      "  7%|▋         | 71/1000 [00:08<01:39,  9.38it/s]"
     ]
    },
    {
     "name": "stdout",
     "output_type": "stream",
     "text": [
      "HoG shape is  (133956,)\n",
      "Processing img  160.jpeg\n",
      "HoG shape is  (133956,)\n",
      "Processing img  161.jpeg\n",
      "HoG shape is  (133956,)\n"
     ]
    },
    {
     "name": "stderr",
     "output_type": "stream",
     "text": [
      "  7%|▋         | 73/1000 [00:08<01:32, 10.01it/s]"
     ]
    },
    {
     "name": "stdout",
     "output_type": "stream",
     "text": [
      "Processing img  162.jpeg\n",
      "HoG shape is  (133956,)\n",
      "Processing img  163.jpeg\n",
      "HoG shape is  (133956,)\n",
      "Processing img  164.jpeg\n"
     ]
    },
    {
     "name": "stderr",
     "output_type": "stream",
     "text": [
      "  7%|▋         | 74/1000 [00:08<01:33,  9.93it/s]"
     ]
    },
    {
     "name": "stdout",
     "output_type": "stream",
     "text": [
      "HoG shape is  (133956,)\n",
      "Processing img  165.jpeg\n",
      "HoG shape is  (133956,)\n"
     ]
    },
    {
     "name": "stderr",
     "output_type": "stream",
     "text": [
      "  8%|▊         | 76/1000 [00:08<01:59,  7.71it/s]"
     ]
    },
    {
     "name": "stdout",
     "output_type": "stream",
     "text": [
      "Processing img  166.jpeg\n",
      "HoG shape is  (133956,)\n",
      "Processing img  167.jpeg\n"
     ]
    },
    {
     "name": "stderr",
     "output_type": "stream",
     "text": [
      "  8%|▊         | 78/1000 [00:08<01:51,  8.24it/s]"
     ]
    },
    {
     "name": "stdout",
     "output_type": "stream",
     "text": [
      "HoG shape is  (133956,)\n",
      "Processing img  168.jpeg\n",
      "HoG shape is  (133956,)\n",
      "Processing img  169.jpeg\n"
     ]
    },
    {
     "name": "stderr",
     "output_type": "stream",
     "text": [
      "  8%|▊         | 81/1000 [00:09<01:34,  9.68it/s]"
     ]
    },
    {
     "name": "stdout",
     "output_type": "stream",
     "text": [
      "HoG shape is  (133956,)\n",
      "Processing img  17.jpeg\n",
      "HoG shape is  (133956,)\n",
      "Processing img  170.jpeg\n",
      "HoG shape is  (133956,)\n"
     ]
    },
    {
     "name": "stderr",
     "output_type": "stream",
     "text": [
      "  8%|▊         | 83/1000 [00:09<01:28, 10.39it/s]"
     ]
    },
    {
     "name": "stdout",
     "output_type": "stream",
     "text": [
      "Processing img  171.jpeg\n",
      "HoG shape is  (133956,)\n",
      "Processing img  172.jpeg\n",
      "HoG shape is  (133956,)\n",
      "Processing img  173.jpeg\n"
     ]
    },
    {
     "name": "stderr",
     "output_type": "stream",
     "text": [
      "  8%|▊         | 85/1000 [00:09<01:29, 10.26it/s]"
     ]
    },
    {
     "name": "stdout",
     "output_type": "stream",
     "text": [
      "HoG shape is  (133956,)\n",
      "Processing img  174.jpeg\n",
      "HoG shape is  (133956,)\n",
      "Processing img  175.jpeg\n"
     ]
    },
    {
     "name": "stderr",
     "output_type": "stream",
     "text": [
      "  9%|▊         | 87/1000 [00:09<01:55,  7.91it/s]"
     ]
    },
    {
     "name": "stdout",
     "output_type": "stream",
     "text": [
      "HoG shape is  (133956,)\n",
      "Processing img  176.jpeg\n",
      "HoG shape is  (133956,)\n",
      "Processing img  177.jpeg\n"
     ]
    },
    {
     "name": "stderr",
     "output_type": "stream",
     "text": [
      "  9%|▉         | 89/1000 [00:10<01:49,  8.28it/s]"
     ]
    },
    {
     "name": "stdout",
     "output_type": "stream",
     "text": [
      "HoG shape is  (133956,)\n",
      "Processing img  178.jpeg\n",
      "HoG shape is  (133956,)\n",
      "Processing img  179.jpeg\n",
      "HoG shape is  (133956,)\n",
      "Processing img  18.jpeg\n"
     ]
    },
    {
     "name": "stderr",
     "output_type": "stream",
     "text": [
      "  9%|▉         | 92/1000 [00:10<01:40,  9.06it/s]"
     ]
    },
    {
     "name": "stdout",
     "output_type": "stream",
     "text": [
      "HoG shape is  (133956,)\n",
      "Processing img  180.jpeg\n",
      "HoG shape is  (133956,)\n",
      "Processing img  181.jpeg\n",
      "HoG shape is  (133956,)\n",
      "Processing img  182.jpeg\n"
     ]
    },
    {
     "name": "stderr",
     "output_type": "stream",
     "text": [
      "  9%|▉         | 94/1000 [00:10<01:33,  9.72it/s]"
     ]
    },
    {
     "name": "stdout",
     "output_type": "stream",
     "text": [
      "HoG shape is  (133956,)\n",
      "Processing img  183.jpeg\n",
      "HoG shape is  (133956,)\n",
      "Processing img  184.jpeg\n",
      "HoG shape is  (133956,)\n"
     ]
    },
    {
     "name": "stderr",
     "output_type": "stream",
     "text": [
      " 10%|▉         | 96/1000 [00:10<01:29, 10.13it/s]"
     ]
    },
    {
     "name": "stdout",
     "output_type": "stream",
     "text": [
      "Processing img  185.jpeg\n",
      "HoG shape is  (133956,)\n",
      "Processing img  186.jpeg\n"
     ]
    },
    {
     "name": "stderr",
     "output_type": "stream",
     "text": [
      " 10%|█         | 100/1000 [00:11<01:38,  9.17it/s]"
     ]
    },
    {
     "name": "stdout",
     "output_type": "stream",
     "text": [
      "HoG shape is  (133956,)\n",
      "Processing img  187.jpeg\n",
      "HoG shape is  (133956,)\n",
      "Processing img  188.jpeg\n",
      "HoG shape is  (133956,)\n"
     ]
    },
    {
     "name": "stderr",
     "output_type": "stream",
     "text": [
      " 10%|█         | 102/1000 [00:11<01:33,  9.64it/s]"
     ]
    },
    {
     "name": "stdout",
     "output_type": "stream",
     "text": [
      "Processing img  189.jpeg\n",
      "HoG shape is  (133956,)\n",
      "Processing img  19.jpeg\n",
      "HoG shape is  (133956,)\n"
     ]
    },
    {
     "name": "stderr",
     "output_type": "stream",
     "text": [
      " 10%|█         | 104/1000 [00:11<01:29, 10.07it/s]"
     ]
    },
    {
     "name": "stdout",
     "output_type": "stream",
     "text": [
      "Processing img  190.jpeg\n",
      "HoG shape is  (133956,)\n",
      "Processing img  191.jpeg\n",
      "HoG shape is  (133956,)\n",
      "Processing img  192.jpeg\n"
     ]
    },
    {
     "name": "stderr",
     "output_type": "stream",
     "text": [
      " 11%|█         | 106/1000 [00:11<01:26, 10.35it/s]"
     ]
    },
    {
     "name": "stdout",
     "output_type": "stream",
     "text": [
      "HoG shape is  (133956,)\n",
      "Processing img  193.jpeg\n",
      "HoG shape is  (133956,)\n",
      "Processing img  194.jpeg\n",
      "HoG shape is  (133956,)\n",
      "Processing img  195.jpeg\n"
     ]
    },
    {
     "name": "stderr",
     "output_type": "stream",
     "text": [
      " 11%|█         | 109/1000 [00:12<01:54,  7.81it/s]"
     ]
    },
    {
     "name": "stdout",
     "output_type": "stream",
     "text": [
      "HoG shape is  (133956,)\n",
      "Processing img  196.jpeg\n",
      "HoG shape is  (133956,)\n",
      "Processing img  197.jpeg\n"
     ]
    },
    {
     "name": "stderr",
     "output_type": "stream",
     "text": [
      " 11%|█         | 111/1000 [00:12<01:49,  8.11it/s]"
     ]
    },
    {
     "name": "stdout",
     "output_type": "stream",
     "text": [
      "HoG shape is  (133956,)\n",
      "Processing img  198.jpeg\n",
      "HoG shape is  (133956,)\n",
      "Processing img  199.jpeg\n",
      "HoG shape is  (133956,)\n",
      "Processing img  2.jpeg\n"
     ]
    },
    {
     "name": "stderr",
     "output_type": "stream",
     "text": [
      " 12%|█▏        | 115/1000 [00:12<01:31,  9.66it/s]"
     ]
    },
    {
     "name": "stdout",
     "output_type": "stream",
     "text": [
      "HoG shape is  (133956,)\n",
      "Processing img  20.jpeg\n",
      "HoG shape is  (133956,)\n",
      "Processing img  200.jpeg\n",
      "HoG shape is  (133956,)\n"
     ]
    },
    {
     "name": "stderr",
     "output_type": "stream",
     "text": [
      " 12%|█▏        | 117/1000 [00:13<01:27, 10.05it/s]"
     ]
    },
    {
     "name": "stdout",
     "output_type": "stream",
     "text": [
      "Processing img  201.jpeg\n",
      "HoG shape is  (133956,)\n",
      "Processing img  202.jpeg\n",
      "HoG shape is  (133956,)\n",
      "Processing img  203.jpeg\n"
     ]
    },
    {
     "name": "stderr",
     "output_type": "stream",
     "text": [
      " 12%|█▏        | 119/1000 [00:13<01:43,  8.49it/s]"
     ]
    },
    {
     "name": "stdout",
     "output_type": "stream",
     "text": [
      "HoG shape is  (133956,)\n",
      "Processing img  204.jpeg\n",
      "HoG shape is  (133956,)\n",
      "Processing img  205.jpeg\n"
     ]
    },
    {
     "name": "stderr",
     "output_type": "stream",
     "text": [
      " 12%|█▏        | 121/1000 [00:13<01:43,  8.50it/s]"
     ]
    },
    {
     "name": "stdout",
     "output_type": "stream",
     "text": [
      "HoG shape is  (133956,)\n",
      "Processing img  206.jpeg\n",
      "HoG shape is  (133956,)\n",
      "Processing img  207.jpeg\n"
     ]
    },
    {
     "name": "stderr",
     "output_type": "stream",
     "text": [
      " 12%|█▏        | 123/1000 [00:13<01:36,  9.07it/s]"
     ]
    },
    {
     "name": "stdout",
     "output_type": "stream",
     "text": [
      "HoG shape is  (133956,)\n",
      "Processing img  208.jpeg\n",
      "HoG shape is  (133956,)\n",
      "Processing img  209.jpeg\n",
      "HoG shape is  (133956,)\n",
      "Processing img  21.jpeg\n"
     ]
    },
    {
     "name": "stderr",
     "output_type": "stream",
     "text": [
      " 12%|█▎        | 125/1000 [00:14<01:31,  9.57it/s]"
     ]
    },
    {
     "name": "stdout",
     "output_type": "stream",
     "text": [
      "HoG shape is  (133956,)\n",
      "Processing img  210.jpeg\n",
      "HoG shape is  (133956,)\n"
     ]
    },
    {
     "name": "stderr",
     "output_type": "stream",
     "text": [
      " 13%|█▎        | 127/1000 [00:14<01:48,  8.03it/s]"
     ]
    },
    {
     "name": "stdout",
     "output_type": "stream",
     "text": [
      "Processing img  211.jpeg\n",
      "HoG shape is  (133956,)\n",
      "Processing img  212.jpeg\n"
     ]
    },
    {
     "name": "stderr",
     "output_type": "stream",
     "text": [
      " 13%|█▎        | 129/1000 [00:14<01:48,  8.02it/s]"
     ]
    },
    {
     "name": "stdout",
     "output_type": "stream",
     "text": [
      "HoG shape is  (133956,)\n",
      "Processing img  213.jpeg\n",
      "HoG shape is  (133956,)\n",
      "Processing img  214.jpeg\n"
     ]
    },
    {
     "name": "stderr",
     "output_type": "stream",
     "text": [
      " 13%|█▎        | 131/1000 [00:14<01:40,  8.64it/s]"
     ]
    },
    {
     "name": "stdout",
     "output_type": "stream",
     "text": [
      "HoG shape is  (133956,)\n",
      "Processing img  215.jpeg\n",
      "HoG shape is  (133956,)\n",
      "Processing img  216.jpeg\n"
     ]
    },
    {
     "name": "stderr",
     "output_type": "stream",
     "text": [
      " 13%|█▎        | 133/1000 [00:15<01:43,  8.41it/s]"
     ]
    },
    {
     "name": "stdout",
     "output_type": "stream",
     "text": [
      "HoG shape is  (133956,)\n",
      "Processing img  217.jpeg\n",
      "HoG shape is  (133956,)\n",
      "Processing img  218.jpeg\n"
     ]
    },
    {
     "name": "stderr",
     "output_type": "stream",
     "text": [
      " 14%|█▎        | 136/1000 [00:15<01:33,  9.24it/s]"
     ]
    },
    {
     "name": "stdout",
     "output_type": "stream",
     "text": [
      "HoG shape is  (133956,)\n",
      "Processing img  219.jpeg\n",
      "HoG shape is  (133956,)\n",
      "Processing img  22.jpeg\n",
      "HoG shape is  (133956,)\n"
     ]
    },
    {
     "name": "stderr",
     "output_type": "stream",
     "text": [
      " 14%|█▎        | 137/1000 [00:15<01:32,  9.32it/s]"
     ]
    },
    {
     "name": "stdout",
     "output_type": "stream",
     "text": [
      "Processing img  220.jpeg\n",
      "HoG shape is  (133956,)\n",
      "Processing img  221.jpeg\n",
      "HoG shape is  (133956,)\n",
      "Processing img  222.jpeg\n"
     ]
    },
    {
     "name": "stderr",
     "output_type": "stream",
     "text": [
      " 14%|█▍        | 141/1000 [00:15<01:24, 10.19it/s]"
     ]
    },
    {
     "name": "stdout",
     "output_type": "stream",
     "text": [
      "HoG shape is  (133956,)\n",
      "Processing img  223.jpeg\n",
      "HoG shape is  (133956,)\n",
      "Processing img  224.jpeg\n",
      "HoG shape is  (133956,)\n"
     ]
    },
    {
     "name": "stderr",
     "output_type": "stream",
     "text": [
      " 14%|█▍        | 143/1000 [00:16<01:19, 10.72it/s]"
     ]
    },
    {
     "name": "stdout",
     "output_type": "stream",
     "text": [
      "Processing img  225.jpeg\n",
      "HoG shape is  (133956,)\n",
      "Processing img  226.jpeg\n",
      "HoG shape is  (133956,)\n",
      "Processing img  227.jpeg\n"
     ]
    },
    {
     "name": "stderr",
     "output_type": "stream",
     "text": [
      " 14%|█▍        | 145/1000 [00:16<01:20, 10.65it/s]"
     ]
    },
    {
     "name": "stdout",
     "output_type": "stream",
     "text": [
      "HoG shape is  (133956,)\n",
      "Processing img  228.jpeg\n",
      "HoG shape is  (133956,)\n",
      "Processing img  229.jpeg\n"
     ]
    },
    {
     "name": "stderr",
     "output_type": "stream",
     "text": [
      " 15%|█▍        | 147/1000 [00:16<01:39,  8.53it/s]"
     ]
    },
    {
     "name": "stdout",
     "output_type": "stream",
     "text": [
      "HoG shape is  (133956,)\n",
      "Processing img  23.jpeg\n",
      "HoG shape is  (133956,)\n",
      "Processing img  230.jpeg\n"
     ]
    },
    {
     "name": "stderr",
     "output_type": "stream",
     "text": [
      " 15%|█▍        | 149/1000 [00:16<01:42,  8.26it/s]"
     ]
    },
    {
     "name": "stdout",
     "output_type": "stream",
     "text": [
      "HoG shape is  (133956,)\n",
      "Processing img  231.jpeg\n",
      "HoG shape is  (133956,)\n",
      "Processing img  232.jpeg\n",
      "HoG shape is  (133956,)\n",
      "Processing img  233.jpeg\n"
     ]
    },
    {
     "name": "stderr",
     "output_type": "stream",
     "text": [
      " 15%|█▌        | 153/1000 [00:17<01:27,  9.66it/s]"
     ]
    },
    {
     "name": "stdout",
     "output_type": "stream",
     "text": [
      "HoG shape is  (133956,)\n",
      "Processing img  234.jpeg\n",
      "HoG shape is  (133956,)\n",
      "Processing img  235.jpeg\n",
      "HoG shape is  (133956,)\n"
     ]
    },
    {
     "name": "stderr",
     "output_type": "stream",
     "text": [
      " 16%|█▌        | 155/1000 [00:17<01:22, 10.25it/s]"
     ]
    },
    {
     "name": "stdout",
     "output_type": "stream",
     "text": [
      "Processing img  236.jpeg\n",
      "HoG shape is  (133956,)\n",
      "Processing img  237.jpeg\n",
      "HoG shape is  (133956,)\n",
      "Processing img  238.jpeg\n"
     ]
    },
    {
     "name": "stderr",
     "output_type": "stream",
     "text": [
      " 16%|█▌        | 157/1000 [00:17<01:20, 10.44it/s]"
     ]
    },
    {
     "name": "stdout",
     "output_type": "stream",
     "text": [
      "HoG shape is  (133956,)\n",
      "Processing img  239.jpeg\n",
      "HoG shape is  (133956,)\n",
      "Processing img  24.jpeg\n",
      "HoG shape is  (133956,)\n",
      "Processing img  240.jpeg\n"
     ]
    },
    {
     "name": "stderr",
     "output_type": "stream",
     "text": [
      " 16%|█▌        | 161/1000 [00:17<01:20, 10.45it/s]"
     ]
    },
    {
     "name": "stdout",
     "output_type": "stream",
     "text": [
      "HoG shape is  (133956,)\n",
      "Processing img  241.jpeg\n",
      "HoG shape is  (133956,)\n",
      "Processing img  242.jpeg\n",
      "HoG shape is  (133956,)\n",
      "Processing img  243.jpeg\n"
     ]
    },
    {
     "name": "stderr",
     "output_type": "stream",
     "text": [
      " 16%|█▋        | 163/1000 [00:18<01:18, 10.63it/s]"
     ]
    },
    {
     "name": "stdout",
     "output_type": "stream",
     "text": [
      "HoG shape is  (133956,)\n",
      "Processing img  244.jpeg\n",
      "HoG shape is  (133956,)\n",
      "Processing img  245.jpeg\n",
      "HoG shape is  (133956,)\n",
      "Processing img  246.jpeg\n"
     ]
    },
    {
     "name": "stderr",
     "output_type": "stream",
     "text": [
      " 17%|█▋        | 167/1000 [00:18<01:18, 10.63it/s]"
     ]
    },
    {
     "name": "stdout",
     "output_type": "stream",
     "text": [
      "HoG shape is  (133956,)\n",
      "Processing img  247.jpeg\n",
      "HoG shape is  (133956,)\n",
      "Processing img  248.jpeg\n",
      "HoG shape is  (133956,)\n",
      "Processing img  249.jpeg\n"
     ]
    },
    {
     "name": "stderr",
     "output_type": "stream",
     "text": [
      " 17%|█▋        | 169/1000 [00:18<01:36,  8.61it/s]"
     ]
    },
    {
     "name": "stdout",
     "output_type": "stream",
     "text": [
      "HoG shape is  (133956,)\n",
      "Processing img  25.jpeg\n",
      "HoG shape is  (133956,)\n",
      "Processing img  250.jpeg\n"
     ]
    },
    {
     "name": "stderr",
     "output_type": "stream",
     "text": [
      " 17%|█▋        | 171/1000 [00:19<01:35,  8.65it/s]"
     ]
    },
    {
     "name": "stdout",
     "output_type": "stream",
     "text": [
      "HoG shape is  (133956,)\n",
      "Processing img  251.jpeg\n",
      "HoG shape is  (133956,)\n",
      "Processing img  252.jpeg\n",
      "HoG shape is  (133956,)\n",
      "Processing img  253.jpeg\n"
     ]
    },
    {
     "name": "stderr",
     "output_type": "stream",
     "text": [
      " 18%|█▊        | 175/1000 [00:19<01:22, 10.03it/s]"
     ]
    },
    {
     "name": "stdout",
     "output_type": "stream",
     "text": [
      "HoG shape is  (133956,)\n",
      "Processing img  254.jpeg\n",
      "HoG shape is  (133956,)\n",
      "Processing img  255.jpeg\n",
      "HoG shape is  (133956,)\n",
      "Processing img  256.jpeg\n"
     ]
    },
    {
     "name": "stderr",
     "output_type": "stream",
     "text": [
      " 18%|█▊        | 177/1000 [00:19<01:20, 10.25it/s]"
     ]
    },
    {
     "name": "stdout",
     "output_type": "stream",
     "text": [
      "HoG shape is  (133956,)\n",
      "Processing img  257.jpeg\n",
      "HoG shape is  (133956,)\n",
      "Processing img  258.jpeg\n"
     ]
    },
    {
     "name": "stderr",
     "output_type": "stream",
     "text": [
      " 18%|█▊        | 179/1000 [00:19<01:23,  9.88it/s]"
     ]
    },
    {
     "name": "stdout",
     "output_type": "stream",
     "text": [
      "HoG shape is  (133956,)\n",
      "Processing img  259.jpeg\n",
      "HoG shape is  (133956,)\n",
      "Processing img  26.jpeg\n"
     ]
    },
    {
     "name": "stderr",
     "output_type": "stream",
     "text": [
      " 18%|█▊        | 181/1000 [00:20<01:38,  8.31it/s]"
     ]
    },
    {
     "name": "stdout",
     "output_type": "stream",
     "text": [
      "HoG shape is  (133956,)\n",
      "Processing img  260.jpeg\n",
      "HoG shape is  (133956,)\n",
      "Processing img  261.jpeg\n"
     ]
    },
    {
     "name": "stderr",
     "output_type": "stream",
     "text": [
      " 18%|█▊        | 183/1000 [00:20<01:35,  8.57it/s]"
     ]
    },
    {
     "name": "stdout",
     "output_type": "stream",
     "text": [
      "HoG shape is  (133956,)\n",
      "Processing img  262.jpeg\n",
      "HoG shape is  (133956,)\n",
      "Processing img  263.jpeg\n"
     ]
    },
    {
     "name": "stderr",
     "output_type": "stream",
     "text": [
      " 18%|█▊        | 185/1000 [00:20<01:35,  8.52it/s]"
     ]
    },
    {
     "name": "stdout",
     "output_type": "stream",
     "text": [
      "HoG shape is  (133956,)\n",
      "Processing img  264.jpeg\n",
      "HoG shape is  (133956,)\n",
      "Processing img  265.jpeg\n"
     ]
    },
    {
     "name": "stderr",
     "output_type": "stream",
     "text": [
      " 19%|█▊        | 186/1000 [00:20<01:34,  8.59it/s]"
     ]
    },
    {
     "name": "stdout",
     "output_type": "stream",
     "text": [
      "HoG shape is  (133956,)\n",
      "Processing img  266.jpeg\n",
      "HoG shape is  (133956,)\n"
     ]
    },
    {
     "name": "stderr",
     "output_type": "stream",
     "text": [
      " 19%|█▉        | 188/1000 [00:21<01:59,  6.78it/s]"
     ]
    },
    {
     "name": "stdout",
     "output_type": "stream",
     "text": [
      "Processing img  267.jpeg\n",
      "HoG shape is  (133956,)\n"
     ]
    },
    {
     "name": "stderr",
     "output_type": "stream",
     "text": [
      " 19%|█▉        | 189/1000 [00:21<01:53,  7.15it/s]"
     ]
    },
    {
     "name": "stdout",
     "output_type": "stream",
     "text": [
      "Processing img  268.jpeg\n",
      "HoG shape is  (133956,)\n",
      "Processing img  269.jpeg\n"
     ]
    },
    {
     "name": "stderr",
     "output_type": "stream",
     "text": [
      " 19%|█▉        | 191/1000 [00:21<01:43,  7.79it/s]"
     ]
    },
    {
     "name": "stdout",
     "output_type": "stream",
     "text": [
      "HoG shape is  (133956,)\n",
      "Processing img  27.jpeg\n",
      "HoG shape is  (133956,)\n",
      "Processing img  270.jpeg\n",
      "HoG shape is  (133956,)\n",
      "Processing img  271.jpeg\n"
     ]
    },
    {
     "name": "stderr",
     "output_type": "stream",
     "text": [
      " 20%|█▉        | 195/1000 [00:21<01:26,  9.35it/s]"
     ]
    },
    {
     "name": "stdout",
     "output_type": "stream",
     "text": [
      "HoG shape is  (133956,)\n",
      "Processing img  272.jpeg\n",
      "HoG shape is  (133956,)\n",
      "Processing img  273.jpeg\n",
      "HoG shape is  (133956,)\n"
     ]
    },
    {
     "name": "stderr",
     "output_type": "stream",
     "text": [
      " 20%|█▉        | 196/1000 [00:22<01:40,  7.98it/s]"
     ]
    },
    {
     "name": "stdout",
     "output_type": "stream",
     "text": [
      "Processing img  274.jpeg\n",
      "HoG shape is  (133956,)\n"
     ]
    },
    {
     "name": "stderr",
     "output_type": "stream",
     "text": [
      " 20%|█▉        | 197/1000 [00:22<01:41,  7.93it/s]"
     ]
    },
    {
     "name": "stdout",
     "output_type": "stream",
     "text": [
      "Processing img  275.jpeg\n",
      "HoG shape is  (133956,)\n",
      "Processing img  276.jpeg\n"
     ]
    },
    {
     "name": "stderr",
     "output_type": "stream",
     "text": [
      " 20%|█▉        | 199/1000 [00:22<01:37,  8.20it/s]"
     ]
    },
    {
     "name": "stdout",
     "output_type": "stream",
     "text": [
      "HoG shape is  (133956,)\n",
      "Processing img  277.jpeg\n",
      "HoG shape is  (133956,)\n",
      "Processing img  278.jpeg\n"
     ]
    },
    {
     "name": "stderr",
     "output_type": "stream",
     "text": [
      " 20%|██        | 202/1000 [00:22<01:28,  9.02it/s]"
     ]
    },
    {
     "name": "stdout",
     "output_type": "stream",
     "text": [
      "HoG shape is  (133956,)\n",
      "Processing img  279.jpeg\n",
      "HoG shape is  (133956,)\n",
      "Processing img  28.jpeg\n",
      "HoG shape is  (133956,)\n"
     ]
    },
    {
     "name": "stderr",
     "output_type": "stream",
     "text": [
      " 20%|██        | 203/1000 [00:22<01:27,  9.13it/s]"
     ]
    },
    {
     "name": "stdout",
     "output_type": "stream",
     "text": [
      "Processing img  280.jpeg\n",
      "HoG shape is  (133956,)\n",
      "Processing img  281.jpeg\n",
      "HoG shape is  (133956,)\n",
      "Processing img  282.jpeg\n"
     ]
    },
    {
     "name": "stderr",
     "output_type": "stream",
     "text": [
      " 21%|██        | 206/1000 [00:23<01:35,  8.31it/s]"
     ]
    },
    {
     "name": "stdout",
     "output_type": "stream",
     "text": [
      "HoG shape is  (133956,)\n",
      "Processing img  283.jpeg\n",
      "HoG shape is  (133956,)\n",
      "Processing img  284.jpeg\n"
     ]
    },
    {
     "name": "stderr",
     "output_type": "stream",
     "text": [
      " 21%|██        | 208/1000 [00:23<01:34,  8.38it/s]"
     ]
    },
    {
     "name": "stdout",
     "output_type": "stream",
     "text": [
      "HoG shape is  (133956,)\n",
      "Processing img  285.jpeg\n",
      "HoG shape is  (133956,)\n",
      "Processing img  286.jpeg\n",
      "HoG shape is  (133956,)\n",
      "Processing img  287.jpeg\n"
     ]
    },
    {
     "name": "stderr",
     "output_type": "stream",
     "text": [
      " 21%|██        | 210/1000 [00:23<01:25,  9.21it/s]"
     ]
    },
    {
     "name": "stdout",
     "output_type": "stream",
     "text": [
      "HoG shape is  (133956,)\n",
      "Processing img  288.jpeg\n",
      "HoG shape is  (133956,)\n",
      "Processing img  289.jpeg\n",
      "HoG shape is  (133956,)\n"
     ]
    },
    {
     "name": "stderr",
     "output_type": "stream",
     "text": [
      " 21%|██▏       | 214/1000 [00:23<01:17, 10.18it/s]"
     ]
    },
    {
     "name": "stdout",
     "output_type": "stream",
     "text": [
      "Processing img  29.jpeg\n",
      "HoG shape is  (133956,)\n",
      "Processing img  290.jpeg\n",
      "HoG shape is  (133956,)\n"
     ]
    },
    {
     "name": "stderr",
     "output_type": "stream",
     "text": [
      " 22%|██▏       | 216/1000 [00:24<01:15, 10.42it/s]"
     ]
    },
    {
     "name": "stdout",
     "output_type": "stream",
     "text": [
      "Processing img  291.jpeg\n",
      "HoG shape is  (133956,)\n",
      "Processing img  292.jpeg\n",
      "HoG shape is  (133956,)\n",
      "Processing img  293.jpeg\n"
     ]
    },
    {
     "name": "stderr",
     "output_type": "stream",
     "text": [
      " 22%|██▏       | 218/1000 [00:24<01:28,  8.87it/s]"
     ]
    },
    {
     "name": "stdout",
     "output_type": "stream",
     "text": [
      "HoG shape is  (133956,)\n",
      "Processing img  294.jpeg\n",
      "HoG shape is  (133956,)\n",
      "Processing img  295.jpeg\n"
     ]
    },
    {
     "name": "stderr",
     "output_type": "stream",
     "text": [
      " 22%|██▏       | 220/1000 [00:24<01:31,  8.53it/s]"
     ]
    },
    {
     "name": "stdout",
     "output_type": "stream",
     "text": [
      "HoG shape is  (133956,)\n",
      "Processing img  296.jpeg\n",
      "HoG shape is  (133956,)\n",
      "Processing img  297.jpeg\n"
     ]
    },
    {
     "name": "stderr",
     "output_type": "stream",
     "text": [
      " 22%|██▏       | 222/1000 [00:24<01:33,  8.30it/s]"
     ]
    },
    {
     "name": "stdout",
     "output_type": "stream",
     "text": [
      "HoG shape is  (133956,)\n",
      "Processing img  298.jpeg\n",
      "HoG shape is  (133956,)\n",
      "Processing img  299.jpeg\n",
      "HoG shape is  (133956,)\n"
     ]
    },
    {
     "name": "stderr",
     "output_type": "stream",
     "text": [
      " 22%|██▎       | 225/1000 [00:25<01:21,  9.47it/s]"
     ]
    },
    {
     "name": "stdout",
     "output_type": "stream",
     "text": [
      "Processing img  3.jpeg\n",
      "HoG shape is  (133956,)\n",
      "Processing img  30.jpeg\n",
      "HoG shape is  (133956,)\n",
      "Processing img  300.jpeg\n"
     ]
    },
    {
     "name": "stderr",
     "output_type": "stream",
     "text": [
      " 23%|██▎       | 227/1000 [00:25<01:20,  9.60it/s]"
     ]
    },
    {
     "name": "stdout",
     "output_type": "stream",
     "text": [
      "HoG shape is  (133956,)\n",
      "Processing img  301.jpeg\n",
      "HoG shape is  (133956,)\n",
      "Processing img  302.jpeg\n"
     ]
    },
    {
     "name": "stderr",
     "output_type": "stream",
     "text": [
      " 23%|██▎       | 229/1000 [00:25<01:37,  7.93it/s]"
     ]
    },
    {
     "name": "stdout",
     "output_type": "stream",
     "text": [
      "HoG shape is  (133956,)\n",
      "Processing img  303.jpeg\n",
      "HoG shape is  (133956,)\n",
      "Processing img  304.jpeg\n"
     ]
    },
    {
     "name": "stderr",
     "output_type": "stream",
     "text": [
      " 23%|██▎       | 231/1000 [00:26<01:32,  8.35it/s]"
     ]
    },
    {
     "name": "stdout",
     "output_type": "stream",
     "text": [
      "HoG shape is  (133956,)\n",
      "Processing img  305.jpeg\n",
      "HoG shape is  (133956,)\n",
      "Processing img  306.jpeg\n"
     ]
    },
    {
     "name": "stderr",
     "output_type": "stream",
     "text": [
      " 23%|██▎       | 234/1000 [00:26<01:22,  9.32it/s]"
     ]
    },
    {
     "name": "stdout",
     "output_type": "stream",
     "text": [
      "HoG shape is  (133956,)\n",
      "Processing img  307.jpeg\n",
      "HoG shape is  (133956,)\n",
      "Processing img  308.jpeg\n",
      "HoG shape is  (133956,)\n"
     ]
    },
    {
     "name": "stderr",
     "output_type": "stream",
     "text": [
      " 24%|██▎       | 236/1000 [00:26<01:16, 10.05it/s]"
     ]
    },
    {
     "name": "stdout",
     "output_type": "stream",
     "text": [
      "Processing img  309.jpeg\n",
      "HoG shape is  (133956,)\n",
      "Processing img  31.jpeg\n",
      "HoG shape is  (133956,)\n",
      "Processing img  310.jpeg\n"
     ]
    },
    {
     "name": "stderr",
     "output_type": "stream",
     "text": [
      " 24%|██▎       | 237/1000 [00:26<01:25,  8.88it/s]"
     ]
    },
    {
     "name": "stdout",
     "output_type": "stream",
     "text": [
      "HoG shape is  (133956,)\n",
      "Processing img  311.jpeg\n",
      "HoG shape is  (133956,)\n"
     ]
    },
    {
     "name": "stderr",
     "output_type": "stream",
     "text": [
      " 24%|██▍       | 240/1000 [00:27<01:29,  8.53it/s]"
     ]
    },
    {
     "name": "stdout",
     "output_type": "stream",
     "text": [
      "Processing img  312.jpeg\n",
      "HoG shape is  (133956,)\n",
      "Processing img  313.jpeg\n",
      "HoG shape is  (133956,)\n"
     ]
    },
    {
     "name": "stderr",
     "output_type": "stream",
     "text": [
      " 24%|██▍       | 241/1000 [00:27<01:26,  8.73it/s]"
     ]
    },
    {
     "name": "stdout",
     "output_type": "stream",
     "text": [
      "Processing img  314.jpeg\n",
      "HoG shape is  (133956,)\n",
      "Processing img  315.jpeg\n",
      "HoG shape is  (133956,)\n",
      "Processing img  316.jpeg\n"
     ]
    },
    {
     "name": "stderr",
     "output_type": "stream",
     "text": [
      " 24%|██▍       | 245/1000 [00:27<01:15,  9.95it/s]"
     ]
    },
    {
     "name": "stdout",
     "output_type": "stream",
     "text": [
      "HoG shape is  (133956,)\n",
      "Processing img  317.jpeg\n",
      "HoG shape is  (133956,)\n",
      "Processing img  318.jpeg\n",
      "HoG shape is  (133956,)\n"
     ]
    },
    {
     "name": "stderr",
     "output_type": "stream",
     "text": [
      " 25%|██▍       | 247/1000 [00:27<01:13, 10.25it/s]"
     ]
    },
    {
     "name": "stdout",
     "output_type": "stream",
     "text": [
      "Processing img  319.jpeg\n",
      "HoG shape is  (133956,)\n",
      "Processing img  32.jpeg\n",
      "HoG shape is  (133956,)\n",
      "Processing img  320.jpeg\n",
      "HoG shape is  (133956,)\n",
      "Processing img  321.jpeg\n"
     ]
    },
    {
     "name": "stderr",
     "output_type": "stream",
     "text": [
      " 25%|██▌       | 250/1000 [00:28<01:28,  8.46it/s]"
     ]
    },
    {
     "name": "stdout",
     "output_type": "stream",
     "text": [
      "HoG shape is  (133956,)\n",
      "Processing img  322.jpeg\n",
      "HoG shape is  (133956,)\n",
      "Processing img  323.jpeg\n"
     ]
    },
    {
     "name": "stderr",
     "output_type": "stream",
     "text": [
      " 25%|██▌       | 252/1000 [00:28<01:30,  8.26it/s]"
     ]
    },
    {
     "name": "stdout",
     "output_type": "stream",
     "text": [
      "HoG shape is  (133956,)\n",
      "Processing img  324.jpeg\n",
      "HoG shape is  (133956,)\n",
      "Processing img  325.jpeg\n"
     ]
    },
    {
     "name": "stderr",
     "output_type": "stream",
     "text": [
      " 25%|██▌       | 254/1000 [00:28<01:25,  8.77it/s]"
     ]
    },
    {
     "name": "stdout",
     "output_type": "stream",
     "text": [
      "HoG shape is  (133956,)\n",
      "Processing img  326.jpeg\n",
      "HoG shape is  (133956,)\n",
      "Processing img  327.jpeg\n",
      "HoG shape is  (133956,)\n",
      "Processing img  328.jpeg\n"
     ]
    },
    {
     "name": "stderr",
     "output_type": "stream",
     "text": [
      " 26%|██▌       | 258/1000 [00:28<01:13, 10.07it/s]"
     ]
    },
    {
     "name": "stdout",
     "output_type": "stream",
     "text": [
      "HoG shape is  (133956,)\n",
      "Processing img  329.jpeg\n",
      "HoG shape is  (133956,)\n",
      "Processing img  33.jpeg\n",
      "HoG shape is  (133956,)\n"
     ]
    },
    {
     "name": "stderr",
     "output_type": "stream",
     "text": [
      " 26%|██▌       | 260/1000 [00:29<01:11, 10.41it/s]"
     ]
    },
    {
     "name": "stdout",
     "output_type": "stream",
     "text": [
      "Processing img  330.jpeg\n",
      "HoG shape is  (133956,)\n",
      "Processing img  331.jpeg\n",
      "HoG shape is  (133956,)\n",
      "Processing img  332.jpeg\n"
     ]
    },
    {
     "name": "stderr",
     "output_type": "stream",
     "text": [
      " 26%|██▌       | 262/1000 [00:29<01:11, 10.27it/s]"
     ]
    },
    {
     "name": "stdout",
     "output_type": "stream",
     "text": [
      "HoG shape is  (133956,)\n",
      "Processing img  333.jpeg\n",
      "HoG shape is  (133956,)\n",
      "Processing img  334.jpeg\n",
      "HoG shape is  (133956,)\n",
      "Processing img  335.jpeg\n"
     ]
    },
    {
     "name": "stderr",
     "output_type": "stream",
     "text": [
      " 26%|██▋       | 264/1000 [00:29<01:09, 10.56it/s]"
     ]
    },
    {
     "name": "stdout",
     "output_type": "stream",
     "text": [
      "HoG shape is  (133956,)\n",
      "Processing img  336.jpeg\n",
      "HoG shape is  (133956,)\n",
      "Processing img  337.jpeg\n",
      "HoG shape is  (133956,)\n"
     ]
    },
    {
     "name": "stderr",
     "output_type": "stream",
     "text": [
      " 27%|██▋       | 268/1000 [00:29<01:08, 10.73it/s]"
     ]
    },
    {
     "name": "stdout",
     "output_type": "stream",
     "text": [
      "Processing img  338.jpeg\n",
      "HoG shape is  (133956,)\n",
      "Processing img  339.jpeg\n",
      "HoG shape is  (133956,)\n",
      "Processing img  34.jpeg\n",
      "HoG shape is  (133956,)\n",
      "Processing img  340.jpeg\n",
      "HoG shape is  (133956,)\n"
     ]
    },
    {
     "name": "stderr",
     "output_type": "stream",
     "text": [
      " 27%|██▋       | 271/1000 [00:30<01:21,  8.93it/s]"
     ]
    },
    {
     "name": "stdout",
     "output_type": "stream",
     "text": [
      "Processing img  341.jpeg\n",
      "HoG shape is  (133956,)\n",
      "Processing img  342.jpeg\n"
     ]
    },
    {
     "name": "stderr",
     "output_type": "stream",
     "text": [
      " 27%|██▋       | 273/1000 [00:30<01:23,  8.74it/s]"
     ]
    },
    {
     "name": "stdout",
     "output_type": "stream",
     "text": [
      "HoG shape is  (133956,)\n",
      "Processing img  343.jpeg\n",
      "HoG shape is  (133956,)\n",
      "Processing img  344.jpeg\n"
     ]
    },
    {
     "name": "stderr",
     "output_type": "stream",
     "text": [
      " 28%|██▊       | 275/1000 [00:30<01:18,  9.21it/s]"
     ]
    },
    {
     "name": "stdout",
     "output_type": "stream",
     "text": [
      "HoG shape is  (133956,)\n",
      "Processing img  345.jpeg\n",
      "HoG shape is  (133956,)\n",
      "Processing img  346.jpeg\n",
      "HoG shape is  (133956,)\n",
      "Processing img  347.jpeg\n"
     ]
    },
    {
     "name": "stderr",
     "output_type": "stream",
     "text": [
      " 28%|██▊       | 277/1000 [00:30<01:15,  9.53it/s]"
     ]
    },
    {
     "name": "stdout",
     "output_type": "stream",
     "text": [
      "HoG shape is  (133956,)\n",
      "Processing img  348.jpeg\n",
      "HoG shape is  (133956,)\n",
      "Processing img  349.jpeg\n"
     ]
    },
    {
     "name": "stderr",
     "output_type": "stream",
     "text": [
      " 28%|██▊       | 280/1000 [00:31<01:27,  8.24it/s]"
     ]
    },
    {
     "name": "stdout",
     "output_type": "stream",
     "text": [
      "HoG shape is  (133956,)\n",
      "Processing img  35.jpeg\n",
      "HoG shape is  (133956,)\n",
      "Processing img  350.jpeg\n"
     ]
    },
    {
     "name": "stderr",
     "output_type": "stream",
     "text": [
      " 28%|██▊       | 282/1000 [00:31<01:21,  8.77it/s]"
     ]
    },
    {
     "name": "stdout",
     "output_type": "stream",
     "text": [
      "HoG shape is  (133956,)\n",
      "Processing img  351.jpeg\n",
      "HoG shape is  (133956,)\n",
      "Processing img  352.jpeg\n"
     ]
    },
    {
     "name": "stderr",
     "output_type": "stream",
     "text": [
      " 28%|██▊       | 284/1000 [00:31<01:24,  8.49it/s]"
     ]
    },
    {
     "name": "stdout",
     "output_type": "stream",
     "text": [
      "HoG shape is  (133956,)\n",
      "Processing img  353.jpeg\n",
      "HoG shape is  (133956,)\n",
      "Processing img  354.jpeg\n"
     ]
    },
    {
     "name": "stderr",
     "output_type": "stream",
     "text": [
      " 29%|██▊       | 287/1000 [00:32<01:14,  9.56it/s]"
     ]
    },
    {
     "name": "stdout",
     "output_type": "stream",
     "text": [
      "HoG shape is  (133956,)\n",
      "Processing img  355.jpeg\n",
      "HoG shape is  (133956,)\n",
      "Processing img  356.jpeg\n",
      "HoG shape is  (133956,)\n"
     ]
    },
    {
     "name": "stderr",
     "output_type": "stream",
     "text": [
      " 29%|██▉       | 289/1000 [00:32<01:10, 10.09it/s]"
     ]
    },
    {
     "name": "stdout",
     "output_type": "stream",
     "text": [
      "Processing img  357.jpeg\n",
      "HoG shape is  (133956,)\n",
      "Processing img  358.jpeg\n",
      "HoG shape is  (133956,)\n",
      "Processing img  359.jpeg\n"
     ]
    },
    {
     "name": "stderr",
     "output_type": "stream",
     "text": [
      " 29%|██▉       | 291/1000 [00:32<01:29,  7.92it/s]"
     ]
    },
    {
     "name": "stdout",
     "output_type": "stream",
     "text": [
      "HoG shape is  (133956,)\n",
      "Processing img  36.jpeg\n",
      "HoG shape is  (133956,)\n",
      "Processing img  360.jpeg\n"
     ]
    },
    {
     "name": "stderr",
     "output_type": "stream",
     "text": [
      " 29%|██▉       | 293/1000 [00:32<01:29,  7.90it/s]"
     ]
    },
    {
     "name": "stdout",
     "output_type": "stream",
     "text": [
      "HoG shape is  (133956,)\n",
      "Processing img  361.jpeg\n",
      "HoG shape is  (133956,)\n",
      "Processing img  362.jpeg\n",
      "HoG shape is  (133956,)\n",
      "Processing img  363.jpeg\n"
     ]
    },
    {
     "name": "stderr",
     "output_type": "stream",
     "text": [
      " 30%|██▉       | 296/1000 [00:33<01:17,  9.12it/s]"
     ]
    },
    {
     "name": "stdout",
     "output_type": "stream",
     "text": [
      "HoG shape is  (133956,)\n",
      "Processing img  364.jpeg\n",
      "HoG shape is  (133956,)\n",
      "Processing img  365.jpeg\n",
      "HoG shape is  (133956,)\n",
      "Processing img  366.jpeg\n"
     ]
    },
    {
     "name": "stderr",
     "output_type": "stream",
     "text": [
      " 30%|███       | 300/1000 [00:33<01:09, 10.05it/s]"
     ]
    },
    {
     "name": "stdout",
     "output_type": "stream",
     "text": [
      "HoG shape is  (133956,)\n",
      "Processing img  367.jpeg\n",
      "HoG shape is  (133956,)\n",
      "Processing img  368.jpeg\n",
      "HoG shape is  (133956,)\n",
      "Processing img  369.jpeg\n",
      "HoG shape is  (133956,)\n",
      "Processing img  37.jpeg\n"
     ]
    },
    {
     "name": "stderr",
     "output_type": "stream",
     "text": [
      " 30%|███       | 303/1000 [00:33<01:19,  8.74it/s]"
     ]
    },
    {
     "name": "stdout",
     "output_type": "stream",
     "text": [
      "HoG shape is  (133956,)\n",
      "Processing img  370.jpeg\n",
      "HoG shape is  (133956,)\n",
      "Processing img  371.jpeg\n"
     ]
    },
    {
     "name": "stderr",
     "output_type": "stream",
     "text": [
      " 30%|███       | 305/1000 [00:34<01:16,  9.13it/s]"
     ]
    },
    {
     "name": "stdout",
     "output_type": "stream",
     "text": [
      "HoG shape is  (133956,)\n",
      "Processing img  372.jpeg\n",
      "HoG shape is  (133956,)\n",
      "Processing img  373.jpeg\n"
     ]
    },
    {
     "name": "stderr",
     "output_type": "stream",
     "text": [
      " 31%|███       | 307/1000 [00:34<01:18,  8.83it/s]"
     ]
    },
    {
     "name": "stdout",
     "output_type": "stream",
     "text": [
      "HoG shape is  (133956,)\n",
      "Processing img  374.jpeg\n",
      "HoG shape is  (133956,)\n",
      "Processing img  375.jpeg\n"
     ]
    },
    {
     "name": "stderr",
     "output_type": "stream",
     "text": [
      " 31%|███       | 310/1000 [00:34<01:10,  9.79it/s]"
     ]
    },
    {
     "name": "stdout",
     "output_type": "stream",
     "text": [
      "HoG shape is  (133956,)\n",
      "Processing img  376.jpeg\n",
      "HoG shape is  (133956,)\n",
      "Processing img  377.jpeg\n",
      "HoG shape is  (133956,)\n",
      "Processing img  378.jpeg\n"
     ]
    },
    {
     "name": "stderr",
     "output_type": "stream",
     "text": [
      " 31%|███       | 312/1000 [00:34<01:16,  9.02it/s]"
     ]
    },
    {
     "name": "stdout",
     "output_type": "stream",
     "text": [
      "HoG shape is  (133956,)\n",
      "Processing img  379.jpeg\n",
      "HoG shape is  (133956,)\n",
      "Processing img  38.jpeg\n"
     ]
    },
    {
     "name": "stderr",
     "output_type": "stream",
     "text": [
      " 31%|███▏      | 314/1000 [00:35<01:34,  7.29it/s]"
     ]
    },
    {
     "name": "stdout",
     "output_type": "stream",
     "text": [
      "HoG shape is  (133956,)\n",
      "Processing img  380.jpeg\n",
      "HoG shape is  (133956,)\n",
      "Processing img  381.jpeg\n"
     ]
    },
    {
     "name": "stderr",
     "output_type": "stream",
     "text": [
      " 32%|███▏      | 316/1000 [00:35<01:23,  8.15it/s]"
     ]
    },
    {
     "name": "stdout",
     "output_type": "stream",
     "text": [
      "HoG shape is  (133956,)\n",
      "Processing img  382.jpeg\n",
      "HoG shape is  (133956,)\n",
      "Processing img  383.jpeg\n",
      "HoG shape is  (133956,)\n",
      "Processing img  384.jpeg\n"
     ]
    },
    {
     "name": "stderr",
     "output_type": "stream",
     "text": [
      " 32%|███▏      | 319/1000 [00:35<01:14,  9.08it/s]"
     ]
    },
    {
     "name": "stdout",
     "output_type": "stream",
     "text": [
      "HoG shape is  (133956,)\n",
      "Processing img  385.jpeg\n",
      "HoG shape is  (133956,)\n",
      "Processing img  386.jpeg\n",
      "HoG shape is  (133956,)\n",
      "Processing img  387.jpeg\n"
     ]
    },
    {
     "name": "stderr",
     "output_type": "stream",
     "text": [
      " 32%|███▏      | 321/1000 [00:35<01:09,  9.70it/s]"
     ]
    },
    {
     "name": "stdout",
     "output_type": "stream",
     "text": [
      "HoG shape is  (133956,)\n",
      "Processing img  388.jpeg\n",
      "HoG shape is  (133956,)\n",
      "Processing img  389.jpeg\n"
     ]
    },
    {
     "name": "stderr",
     "output_type": "stream",
     "text": [
      " 32%|███▏      | 324/1000 [00:36<01:21,  8.29it/s]"
     ]
    },
    {
     "name": "stdout",
     "output_type": "stream",
     "text": [
      "HoG shape is  (133956,)\n",
      "Processing img  39.jpeg\n",
      "HoG shape is  (133956,)\n",
      "Processing img  390.jpeg\n"
     ]
    },
    {
     "name": "stderr",
     "output_type": "stream",
     "text": [
      " 33%|███▎      | 326/1000 [00:36<01:19,  8.53it/s]"
     ]
    },
    {
     "name": "stdout",
     "output_type": "stream",
     "text": [
      "HoG shape is  (133956,)\n",
      "Processing img  391.jpeg\n",
      "HoG shape is  (133956,)\n",
      "Processing img  392.jpeg\n"
     ]
    },
    {
     "name": "stderr",
     "output_type": "stream",
     "text": [
      " 33%|███▎      | 329/1000 [00:36<01:10,  9.49it/s]"
     ]
    },
    {
     "name": "stdout",
     "output_type": "stream",
     "text": [
      "HoG shape is  (133956,)\n",
      "Processing img  393.jpeg\n",
      "HoG shape is  (133956,)\n",
      "Processing img  394.jpeg\n",
      "HoG shape is  (133956,)\n"
     ]
    },
    {
     "name": "stderr",
     "output_type": "stream",
     "text": [
      " 33%|███▎      | 331/1000 [00:37<01:06, 10.08it/s]"
     ]
    },
    {
     "name": "stdout",
     "output_type": "stream",
     "text": [
      "Processing img  395.jpeg\n",
      "HoG shape is  (133956,)\n",
      "Processing img  396.jpeg\n",
      "HoG shape is  (133956,)\n",
      "Processing img  397.jpeg\n",
      "HoG shape is  (133956,)\n",
      "Processing img  398.jpeg\n",
      "HoG shape is  (133956,)\n"
     ]
    },
    {
     "name": "stderr",
     "output_type": "stream",
     "text": [
      " 33%|███▎      | 334/1000 [00:37<01:21,  8.18it/s]"
     ]
    },
    {
     "name": "stdout",
     "output_type": "stream",
     "text": [
      "Processing img  399.jpeg\n",
      "HoG shape is  (133956,)\n",
      "Processing img  4.jpeg\n"
     ]
    },
    {
     "name": "stderr",
     "output_type": "stream",
     "text": [
      " 34%|███▎      | 336/1000 [00:37<01:18,  8.43it/s]"
     ]
    },
    {
     "name": "stdout",
     "output_type": "stream",
     "text": [
      "HoG shape is  (133956,)\n",
      "Processing img  40.jpeg\n",
      "HoG shape is  (133956,)\n",
      "Processing img  400.jpeg\n"
     ]
    },
    {
     "name": "stderr",
     "output_type": "stream",
     "text": [
      " 34%|███▍      | 338/1000 [00:37<01:19,  8.29it/s]"
     ]
    },
    {
     "name": "stdout",
     "output_type": "stream",
     "text": [
      "HoG shape is  (133956,)\n",
      "Processing img  401.jpeg\n",
      "HoG shape is  (133956,)\n",
      "Processing img  402.jpeg\n"
     ]
    },
    {
     "name": "stderr",
     "output_type": "stream",
     "text": [
      " 34%|███▍      | 339/1000 [00:38<01:18,  8.37it/s]"
     ]
    },
    {
     "name": "stdout",
     "output_type": "stream",
     "text": [
      "HoG shape is  (133956,)\n",
      "Processing img  403.jpeg\n",
      "HoG shape is  (133956,)\n",
      "Processing img  404.jpeg\n"
     ]
    },
    {
     "name": "stderr",
     "output_type": "stream",
     "text": [
      " 34%|███▍      | 342/1000 [00:38<01:25,  7.73it/s]"
     ]
    },
    {
     "name": "stdout",
     "output_type": "stream",
     "text": [
      "HoG shape is  (133956,)\n",
      "Processing img  405.jpeg\n",
      "HoG shape is  (133956,)\n"
     ]
    },
    {
     "name": "stderr",
     "output_type": "stream",
     "text": [
      " 34%|███▍      | 343/1000 [00:38<01:24,  7.81it/s]"
     ]
    },
    {
     "name": "stdout",
     "output_type": "stream",
     "text": [
      "Processing img  406.jpeg\n",
      "HoG shape is  (133956,)\n",
      "Processing img  407.jpeg\n"
     ]
    },
    {
     "name": "stderr",
     "output_type": "stream",
     "text": [
      " 34%|███▍      | 345/1000 [00:38<01:18,  8.36it/s]"
     ]
    },
    {
     "name": "stdout",
     "output_type": "stream",
     "text": [
      "HoG shape is  (133956,)\n",
      "Processing img  408.jpeg\n",
      "HoG shape is  (133956,)\n",
      "Processing img  409.jpeg\n",
      "HoG shape is  (133956,)\n",
      "Processing img  41.jpeg\n"
     ]
    },
    {
     "name": "stderr",
     "output_type": "stream",
     "text": [
      " 35%|███▍      | 349/1000 [00:39<01:06,  9.86it/s]"
     ]
    },
    {
     "name": "stdout",
     "output_type": "stream",
     "text": [
      "HoG shape is  (133956,)\n",
      "Processing img  410.jpeg\n",
      "HoG shape is  (133956,)\n",
      "Processing img  411.jpeg\n",
      "HoG shape is  (133956,)\n"
     ]
    },
    {
     "name": "stderr",
     "output_type": "stream",
     "text": [
      " 35%|███▌      | 351/1000 [00:39<01:03, 10.25it/s]"
     ]
    },
    {
     "name": "stdout",
     "output_type": "stream",
     "text": [
      "Processing img  412.jpeg\n",
      "HoG shape is  (133956,)\n",
      "Processing img  413.jpeg\n",
      "HoG shape is  (133956,)\n",
      "Processing img  414.jpeg\n",
      "HoG shape is  (133956,)\n",
      "Processing img  415.jpeg\n",
      "HoG shape is  (133956,)\n"
     ]
    },
    {
     "name": "stderr",
     "output_type": "stream",
     "text": [
      " 35%|███▌      | 354/1000 [00:39<01:26,  7.51it/s]"
     ]
    },
    {
     "name": "stdout",
     "output_type": "stream",
     "text": [
      "Processing img  416.jpeg\n",
      "HoG shape is  (133956,)\n",
      "Processing img  417.jpeg\n"
     ]
    },
    {
     "name": "stderr",
     "output_type": "stream",
     "text": [
      " 36%|███▌      | 356/1000 [00:40<01:23,  7.75it/s]"
     ]
    },
    {
     "name": "stdout",
     "output_type": "stream",
     "text": [
      "HoG shape is  (133956,)\n",
      "Processing img  418.jpeg\n",
      "HoG shape is  (133956,)\n",
      "Processing img  419.jpeg\n"
     ]
    },
    {
     "name": "stderr",
     "output_type": "stream",
     "text": [
      " 36%|███▌      | 358/1000 [00:40<01:15,  8.54it/s]"
     ]
    },
    {
     "name": "stdout",
     "output_type": "stream",
     "text": [
      "HoG shape is  (133956,)\n",
      "Processing img  42.jpeg\n",
      "HoG shape is  (133956,)\n",
      "Processing img  420.jpeg\n",
      "HoG shape is  (133956,)\n",
      "Processing img  421.jpeg\n"
     ]
    },
    {
     "name": "stderr",
     "output_type": "stream",
     "text": [
      " 36%|███▌      | 361/1000 [00:40<01:22,  7.70it/s]"
     ]
    },
    {
     "name": "stdout",
     "output_type": "stream",
     "text": [
      "HoG shape is  (133956,)\n",
      "Processing img  422.jpeg\n",
      "HoG shape is  (133956,)\n",
      "Processing img  423.jpeg\n"
     ]
    },
    {
     "name": "stderr",
     "output_type": "stream",
     "text": [
      " 36%|███▋      | 363/1000 [00:40<01:18,  8.13it/s]"
     ]
    },
    {
     "name": "stdout",
     "output_type": "stream",
     "text": [
      "HoG shape is  (133956,)\n",
      "Processing img  424.jpeg\n",
      "HoG shape is  (133956,)\n",
      "Processing img  425.jpeg\n",
      "HoG shape is  (133956,)\n",
      "Processing img  426.jpeg\n"
     ]
    },
    {
     "name": "stderr",
     "output_type": "stream",
     "text": [
      " 37%|███▋      | 367/1000 [00:41<01:05,  9.71it/s]"
     ]
    },
    {
     "name": "stdout",
     "output_type": "stream",
     "text": [
      "HoG shape is  (133956,)\n",
      "Processing img  427.jpeg\n",
      "HoG shape is  (133956,)\n",
      "Processing img  428.jpeg\n",
      "HoG shape is  (133956,)\n"
     ]
    },
    {
     "name": "stderr",
     "output_type": "stream",
     "text": [
      " 37%|███▋      | 369/1000 [00:41<01:01, 10.25it/s]"
     ]
    },
    {
     "name": "stdout",
     "output_type": "stream",
     "text": [
      "Processing img  429.jpeg\n",
      "HoG shape is  (133956,)\n",
      "Processing img  43.jpeg\n",
      "HoG shape is  (133956,)\n",
      "Processing img  430.jpeg\n"
     ]
    },
    {
     "name": "stderr",
     "output_type": "stream",
     "text": [
      " 37%|███▋      | 371/1000 [00:41<01:10,  8.94it/s]"
     ]
    },
    {
     "name": "stdout",
     "output_type": "stream",
     "text": [
      "HoG shape is  (133956,)\n",
      "Processing img  431.jpeg\n",
      "HoG shape is  (133956,)\n",
      "Processing img  432.jpeg\n"
     ]
    },
    {
     "name": "stderr",
     "output_type": "stream",
     "text": [
      " 37%|███▋      | 373/1000 [00:42<01:18,  8.03it/s]"
     ]
    },
    {
     "name": "stdout",
     "output_type": "stream",
     "text": [
      "HoG shape is  (133956,)\n",
      "Processing img  433.jpeg\n",
      "HoG shape is  (133956,)\n",
      "Processing img  434.jpeg\n"
     ]
    },
    {
     "name": "stderr",
     "output_type": "stream",
     "text": [
      " 38%|███▊      | 375/1000 [00:42<01:13,  8.48it/s]"
     ]
    },
    {
     "name": "stdout",
     "output_type": "stream",
     "text": [
      "HoG shape is  (133956,)\n",
      "Processing img  435.jpeg\n",
      "HoG shape is  (133956,)\n",
      "Processing img  436.jpeg\n",
      "HoG shape is  (133956,)\n",
      "Processing img  437.jpeg\n"
     ]
    },
    {
     "name": "stderr",
     "output_type": "stream",
     "text": [
      " 38%|███▊      | 379/1000 [00:42<01:03,  9.81it/s]"
     ]
    },
    {
     "name": "stdout",
     "output_type": "stream",
     "text": [
      "HoG shape is  (133956,)\n",
      "Processing img  438.jpeg\n",
      "HoG shape is  (133956,)\n",
      "Processing img  439.jpeg\n",
      "HoG shape is  (133956,)\n"
     ]
    },
    {
     "name": "stderr",
     "output_type": "stream",
     "text": [
      " 38%|███▊      | 380/1000 [00:42<01:13,  8.40it/s]"
     ]
    },
    {
     "name": "stdout",
     "output_type": "stream",
     "text": [
      "Processing img  44.jpeg\n",
      "HoG shape is  (133956,)\n"
     ]
    },
    {
     "name": "stderr",
     "output_type": "stream",
     "text": [
      " 38%|███▊      | 381/1000 [00:42<01:14,  8.28it/s]"
     ]
    },
    {
     "name": "stdout",
     "output_type": "stream",
     "text": [
      "Processing img  440.jpeg\n",
      "HoG shape is  (133956,)\n",
      "Processing img  441.jpeg\n"
     ]
    },
    {
     "name": "stderr",
     "output_type": "stream",
     "text": [
      " 38%|███▊      | 383/1000 [00:43<01:13,  8.40it/s]"
     ]
    },
    {
     "name": "stdout",
     "output_type": "stream",
     "text": [
      "HoG shape is  (133956,)\n",
      "Processing img  442.jpeg\n",
      "HoG shape is  (133956,)\n",
      "Processing img  443.jpeg\n",
      "HoG shape is  (133956,)\n",
      "Processing img  444.jpeg\n"
     ]
    },
    {
     "name": "stderr",
     "output_type": "stream",
     "text": [
      " 39%|███▊      | 386/1000 [00:43<01:07,  9.11it/s]"
     ]
    },
    {
     "name": "stdout",
     "output_type": "stream",
     "text": [
      "HoG shape is  (133956,)\n",
      "Processing img  445.jpeg\n",
      "HoG shape is  (133956,)\n",
      "Processing img  446.jpeg\n",
      "HoG shape is  (133956,)\n",
      "Processing img  447.jpeg\n"
     ]
    },
    {
     "name": "stderr",
     "output_type": "stream",
     "text": [
      " 39%|███▉      | 389/1000 [00:43<01:02,  9.76it/s]"
     ]
    },
    {
     "name": "stdout",
     "output_type": "stream",
     "text": [
      "HoG shape is  (133956,)\n",
      "Processing img  448.jpeg\n",
      "HoG shape is  (133956,)\n",
      "Processing img  449.jpeg\n",
      "HoG shape is  (133956,)\n",
      "Processing img  45.jpeg\n"
     ]
    },
    {
     "name": "stderr",
     "output_type": "stream",
     "text": [
      " 39%|███▉      | 391/1000 [00:43<00:58, 10.35it/s]"
     ]
    },
    {
     "name": "stdout",
     "output_type": "stream",
     "text": [
      "HoG shape is  (133956,)\n",
      "Processing img  450.jpeg\n",
      "HoG shape is  (133956,)\n",
      "Processing img  451.jpeg\n"
     ]
    },
    {
     "name": "stderr",
     "output_type": "stream",
     "text": [
      " 39%|███▉      | 394/1000 [00:44<01:08,  8.84it/s]"
     ]
    },
    {
     "name": "stdout",
     "output_type": "stream",
     "text": [
      "HoG shape is  (133956,)\n",
      "Processing img  452.jpeg\n",
      "HoG shape is  (133956,)\n",
      "Processing img  453.jpeg\n"
     ]
    },
    {
     "name": "stderr",
     "output_type": "stream",
     "text": [
      " 40%|███▉      | 396/1000 [00:44<01:10,  8.53it/s]"
     ]
    },
    {
     "name": "stdout",
     "output_type": "stream",
     "text": [
      "HoG shape is  (133956,)\n",
      "Processing img  454.jpeg\n",
      "HoG shape is  (133956,)\n",
      "Processing img  455.jpeg\n",
      "HoG shape is  (133956,)\n",
      "Processing img  456.jpeg\n"
     ]
    },
    {
     "name": "stderr",
     "output_type": "stream",
     "text": [
      " 40%|████      | 400/1000 [00:44<01:02,  9.65it/s]"
     ]
    },
    {
     "name": "stdout",
     "output_type": "stream",
     "text": [
      "HoG shape is  (133956,)\n",
      "Processing img  457.jpeg\n",
      "HoG shape is  (133956,)\n",
      "Processing img  458.jpeg\n",
      "HoG shape is  (133956,)\n"
     ]
    },
    {
     "name": "stderr",
     "output_type": "stream",
     "text": [
      " 40%|████      | 402/1000 [00:45<00:59, 10.10it/s]"
     ]
    },
    {
     "name": "stdout",
     "output_type": "stream",
     "text": [
      "Processing img  459.jpeg\n",
      "HoG shape is  (133956,)\n",
      "Processing img  46.jpeg\n",
      "HoG shape is  (133956,)\n",
      "Processing img  460.jpeg\n",
      "HoG shape is  (133956,)\n",
      "Processing img  461.jpeg\n",
      "HoG shape is  (133956,)\n"
     ]
    },
    {
     "name": "stderr",
     "output_type": "stream",
     "text": [
      " 40%|████      | 405/1000 [00:45<01:10,  8.39it/s]"
     ]
    },
    {
     "name": "stdout",
     "output_type": "stream",
     "text": [
      "Processing img  462.jpeg\n",
      "HoG shape is  (133956,)\n",
      "Processing img  463.jpeg\n",
      "HoG shape is  (133956,)\n",
      "Processing img  464.jpeg\n"
     ]
    },
    {
     "name": "stderr",
     "output_type": "stream",
     "text": [
      " 41%|████      | 409/1000 [00:45<01:01,  9.56it/s]"
     ]
    },
    {
     "name": "stdout",
     "output_type": "stream",
     "text": [
      "HoG shape is  (133956,)\n",
      "Processing img  465.jpeg\n",
      "HoG shape is  (133956,)\n",
      "Processing img  466.jpeg\n",
      "HoG shape is  (133956,)\n"
     ]
    },
    {
     "name": "stderr",
     "output_type": "stream",
     "text": [
      " 41%|████      | 411/1000 [00:46<00:59,  9.98it/s]"
     ]
    },
    {
     "name": "stdout",
     "output_type": "stream",
     "text": [
      "Processing img  467.jpeg\n",
      "HoG shape is  (133956,)\n",
      "Processing img  468.jpeg\n",
      "HoG shape is  (133956,)\n",
      "Processing img  469.jpeg\n"
     ]
    },
    {
     "name": "stderr",
     "output_type": "stream",
     "text": [
      " 41%|████▏     | 413/1000 [00:46<00:59,  9.79it/s]"
     ]
    },
    {
     "name": "stdout",
     "output_type": "stream",
     "text": [
      "HoG shape is  (133956,)\n",
      "Processing img  47.jpeg\n",
      "HoG shape is  (133956,)\n",
      "Processing img  470.jpeg\n"
     ]
    },
    {
     "name": "stderr",
     "output_type": "stream",
     "text": [
      " 42%|████▏     | 415/1000 [00:46<01:12,  8.09it/s]"
     ]
    },
    {
     "name": "stdout",
     "output_type": "stream",
     "text": [
      "HoG shape is  (133956,)\n",
      "Processing img  471.jpeg\n",
      "HoG shape is  (133956,)\n",
      "Processing img  472.jpeg\n"
     ]
    },
    {
     "name": "stderr",
     "output_type": "stream",
     "text": [
      " 42%|████▏     | 417/1000 [00:46<01:11,  8.21it/s]"
     ]
    },
    {
     "name": "stdout",
     "output_type": "stream",
     "text": [
      "HoG shape is  (133956,)\n",
      "Processing img  473.jpeg\n",
      "HoG shape is  (133956,)\n",
      "Processing img  474.jpeg\n",
      "HoG shape is  (133956,)\n",
      "Processing img  475.jpeg\n"
     ]
    },
    {
     "name": "stderr",
     "output_type": "stream",
     "text": [
      " 42%|████▏     | 421/1000 [00:47<00:59,  9.75it/s]"
     ]
    },
    {
     "name": "stdout",
     "output_type": "stream",
     "text": [
      "HoG shape is  (133956,)\n",
      "Processing img  476.jpeg\n",
      "HoG shape is  (133956,)\n",
      "Processing img  477.jpeg\n",
      "HoG shape is  (133956,)\n"
     ]
    },
    {
     "name": "stderr",
     "output_type": "stream",
     "text": [
      " 42%|████▏     | 423/1000 [00:47<00:57, 10.01it/s]"
     ]
    },
    {
     "name": "stdout",
     "output_type": "stream",
     "text": [
      "Processing img  478.jpeg\n",
      "HoG shape is  (133956,)\n",
      "Processing img  479.jpeg\n",
      "HoG shape is  (133956,)\n"
     ]
    },
    {
     "name": "stderr",
     "output_type": "stream",
     "text": [
      " 42%|████▏     | 424/1000 [00:47<00:58,  9.82it/s]"
     ]
    },
    {
     "name": "stdout",
     "output_type": "stream",
     "text": [
      "Processing img  48.jpeg\n",
      "HoG shape is  (133956,)\n",
      "Processing img  480.jpeg\n"
     ]
    },
    {
     "name": "stderr",
     "output_type": "stream",
     "text": [
      " 42%|████▎     | 425/1000 [00:47<01:07,  8.48it/s]"
     ]
    },
    {
     "name": "stdout",
     "output_type": "stream",
     "text": [
      "HoG shape is  (133956,)\n",
      "Processing img  481.jpeg\n",
      "HoG shape is  (133956,)\n"
     ]
    },
    {
     "name": "stderr",
     "output_type": "stream",
     "text": [
      " 43%|████▎     | 427/1000 [00:48<01:17,  7.44it/s]"
     ]
    },
    {
     "name": "stdout",
     "output_type": "stream",
     "text": [
      "Processing img  482.jpeg\n",
      "HoG shape is  (133956,)\n",
      "Processing img  483.jpeg\n"
     ]
    },
    {
     "name": "stderr",
     "output_type": "stream",
     "text": [
      " 43%|████▎     | 429/1000 [00:48<01:12,  7.88it/s]"
     ]
    },
    {
     "name": "stdout",
     "output_type": "stream",
     "text": [
      "HoG shape is  (133956,)\n",
      "Processing img  484.jpeg\n",
      "HoG shape is  (133956,)\n",
      "Processing img  485.jpeg\n"
     ]
    },
    {
     "name": "stderr",
     "output_type": "stream",
     "text": [
      " 43%|████▎     | 431/1000 [00:48<01:09,  8.16it/s]"
     ]
    },
    {
     "name": "stdout",
     "output_type": "stream",
     "text": [
      "HoG shape is  (133956,)\n",
      "Processing img  486.jpeg\n",
      "HoG shape is  (133956,)\n",
      "Processing img  487.jpeg\n"
     ]
    },
    {
     "name": "stderr",
     "output_type": "stream",
     "text": [
      " 43%|████▎     | 432/1000 [00:48<01:09,  8.19it/s]"
     ]
    },
    {
     "name": "stdout",
     "output_type": "stream",
     "text": [
      "HoG shape is  (133956,)\n",
      "Processing img  488.jpeg\n",
      "HoG shape is  (133956,)\n"
     ]
    },
    {
     "name": "stderr",
     "output_type": "stream",
     "text": [
      " 43%|████▎     | 434/1000 [00:49<01:28,  6.40it/s]"
     ]
    },
    {
     "name": "stdout",
     "output_type": "stream",
     "text": [
      "Processing img  489.jpeg\n",
      "HoG shape is  (133956,)\n"
     ]
    },
    {
     "name": "stderr",
     "output_type": "stream",
     "text": [
      " 44%|████▎     | 435/1000 [00:49<01:24,  6.67it/s]"
     ]
    },
    {
     "name": "stdout",
     "output_type": "stream",
     "text": [
      "Processing img  49.jpeg\n",
      "HoG shape is  (133956,)\n",
      "Processing img  490.jpeg\n"
     ]
    },
    {
     "name": "stderr",
     "output_type": "stream",
     "text": [
      " 44%|████▎     | 437/1000 [00:49<01:19,  7.08it/s]"
     ]
    },
    {
     "name": "stdout",
     "output_type": "stream",
     "text": [
      "HoG shape is  (133956,)\n",
      "Processing img  491.jpeg\n",
      "HoG shape is  (133956,)\n",
      "Processing img  492.jpeg\n"
     ]
    },
    {
     "name": "stderr",
     "output_type": "stream",
     "text": [
      " 44%|████▍     | 439/1000 [00:49<01:17,  7.25it/s]"
     ]
    },
    {
     "name": "stdout",
     "output_type": "stream",
     "text": [
      "HoG shape is  (133956,)\n",
      "Processing img  493.jpeg\n",
      "HoG shape is  (133956,)\n",
      "Processing img  494.jpeg\n"
     ]
    },
    {
     "name": "stderr",
     "output_type": "stream",
     "text": [
      " 44%|████▍     | 441/1000 [00:50<01:16,  7.35it/s]"
     ]
    },
    {
     "name": "stdout",
     "output_type": "stream",
     "text": [
      "HoG shape is  (133956,)\n",
      "Processing img  495.jpeg\n",
      "HoG shape is  (133956,)\n",
      "Processing img  496.jpeg\n"
     ]
    },
    {
     "name": "stderr",
     "output_type": "stream",
     "text": [
      " 44%|████▍     | 443/1000 [00:50<01:11,  7.83it/s]"
     ]
    },
    {
     "name": "stdout",
     "output_type": "stream",
     "text": [
      "HoG shape is  (133956,)\n",
      "Processing img  497.jpeg\n",
      "HoG shape is  (133956,)\n",
      "Processing img  498.jpeg\n"
     ]
    },
    {
     "name": "stderr",
     "output_type": "stream",
     "text": [
      " 44%|████▍     | 444/1000 [00:50<01:11,  7.75it/s]"
     ]
    },
    {
     "name": "stdout",
     "output_type": "stream",
     "text": [
      "HoG shape is  (133956,)\n",
      "Processing img  499.jpeg\n"
     ]
    },
    {
     "name": "stderr",
     "output_type": "stream",
     "text": [
      " 45%|████▍     | 446/1000 [00:50<01:25,  6.51it/s]"
     ]
    },
    {
     "name": "stdout",
     "output_type": "stream",
     "text": [
      "HoG shape is  (133956,)\n",
      "Processing img  5.jpeg\n",
      "HoG shape is  (133956,)\n",
      "Processing img  50.jpeg\n"
     ]
    },
    {
     "name": "stderr",
     "output_type": "stream",
     "text": [
      " 45%|████▍     | 448/1000 [00:51<01:18,  7.01it/s]"
     ]
    },
    {
     "name": "stdout",
     "output_type": "stream",
     "text": [
      "HoG shape is  (133956,)\n",
      "Processing img  500.jpeg\n",
      "HoG shape is  (133956,)\n",
      "Processing img  501.jpeg\n"
     ]
    },
    {
     "name": "stderr",
     "output_type": "stream",
     "text": [
      " 45%|████▍     | 449/1000 [00:51<01:12,  7.59it/s]"
     ]
    },
    {
     "name": "stdout",
     "output_type": "stream",
     "text": [
      "HoG shape is  (133956,)\n",
      "Processing img  502.jpeg\n",
      "HoG shape is  (133956,)\n",
      "Processing img  503.jpeg\n"
     ]
    },
    {
     "name": "stderr",
     "output_type": "stream",
     "text": [
      " 45%|████▌     | 452/1000 [00:51<01:04,  8.54it/s]"
     ]
    },
    {
     "name": "stdout",
     "output_type": "stream",
     "text": [
      "HoG shape is  (133956,)\n",
      "Processing img  504.jpeg\n",
      "HoG shape is  (133956,)\n",
      "Processing img  505.jpeg\n"
     ]
    },
    {
     "name": "stderr",
     "output_type": "stream",
     "text": [
      " 45%|████▌     | 454/1000 [00:51<01:08,  7.96it/s]"
     ]
    },
    {
     "name": "stdout",
     "output_type": "stream",
     "text": [
      "HoG shape is  (133956,)\n",
      "Processing img  506.jpeg\n",
      "HoG shape is  (133956,)\n",
      "Processing img  507.jpeg\n"
     ]
    },
    {
     "name": "stderr",
     "output_type": "stream",
     "text": [
      " 46%|████▌     | 457/1000 [00:52<01:02,  8.71it/s]"
     ]
    },
    {
     "name": "stdout",
     "output_type": "stream",
     "text": [
      "HoG shape is  (133956,)\n",
      "Processing img  508.jpeg\n",
      "HoG shape is  (133956,)\n",
      "Processing img  509.jpeg\n",
      "HoG shape is  (133956,)\n"
     ]
    },
    {
     "name": "stderr",
     "output_type": "stream",
     "text": [
      " 46%|████▌     | 459/1000 [00:52<00:57,  9.48it/s]"
     ]
    },
    {
     "name": "stdout",
     "output_type": "stream",
     "text": [
      "Processing img  51.jpeg\n",
      "HoG shape is  (133956,)\n",
      "Processing img  510.jpeg\n",
      "HoG shape is  (133956,)\n",
      "Processing img  511.jpeg\n"
     ]
    },
    {
     "name": "stderr",
     "output_type": "stream",
     "text": [
      " 46%|████▌     | 460/1000 [00:52<00:56,  9.50it/s]"
     ]
    },
    {
     "name": "stdout",
     "output_type": "stream",
     "text": [
      "HoG shape is  (133956,)\n",
      "Processing img  512.jpeg\n"
     ]
    },
    {
     "name": "stderr",
     "output_type": "stream",
     "text": [
      " 46%|████▌     | 462/1000 [00:52<01:09,  7.70it/s]"
     ]
    },
    {
     "name": "stdout",
     "output_type": "stream",
     "text": [
      "HoG shape is  (133956,)\n",
      "Processing img  513.jpeg\n",
      "HoG shape is  (133956,)\n",
      "Processing img  514.jpeg\n"
     ]
    },
    {
     "name": "stderr",
     "output_type": "stream",
     "text": [
      " 46%|████▋     | 464/1000 [00:52<01:03,  8.50it/s]"
     ]
    },
    {
     "name": "stdout",
     "output_type": "stream",
     "text": [
      "HoG shape is  (133956,)\n",
      "Processing img  515.jpeg\n",
      "HoG shape is  (133956,)\n",
      "Processing img  516.jpeg\n",
      "HoG shape is  (133956,)\n",
      "Processing img  517.jpeg\n"
     ]
    },
    {
     "name": "stderr",
     "output_type": "stream",
     "text": [
      " 47%|████▋     | 467/1000 [00:53<00:56,  9.35it/s]"
     ]
    },
    {
     "name": "stdout",
     "output_type": "stream",
     "text": [
      "HoG shape is  (133956,)\n",
      "Processing img  518.jpeg\n",
      "HoG shape is  (133956,)\n",
      "Processing img  519.jpeg\n",
      "HoG shape is  (133956,)\n",
      "Processing img  52.jpeg\n"
     ]
    },
    {
     "name": "stderr",
     "output_type": "stream",
     "text": [
      " 47%|████▋     | 471/1000 [00:53<00:50, 10.43it/s]"
     ]
    },
    {
     "name": "stdout",
     "output_type": "stream",
     "text": [
      "HoG shape is  (133956,)\n",
      "Processing img  520.jpeg\n",
      "HoG shape is  (133956,)\n",
      "Processing img  521.jpeg\n",
      "HoG shape is  (133956,)\n",
      "Processing img  522.jpeg\n"
     ]
    },
    {
     "name": "stderr",
     "output_type": "stream",
     "text": [
      " 47%|████▋     | 473/1000 [00:53<00:51, 10.14it/s]"
     ]
    },
    {
     "name": "stdout",
     "output_type": "stream",
     "text": [
      "HoG shape is  (133956,)\n",
      "Processing img  523.jpeg\n",
      "HoG shape is  (133956,)\n",
      "Processing img  524.jpeg\n"
     ]
    },
    {
     "name": "stderr",
     "output_type": "stream",
     "text": [
      " 48%|████▊     | 475/1000 [00:53<00:52, 10.08it/s]"
     ]
    },
    {
     "name": "stdout",
     "output_type": "stream",
     "text": [
      "HoG shape is  (133956,)\n",
      "Processing img  525.jpeg\n",
      "HoG shape is  (133956,)\n",
      "Processing img  526.jpeg\n",
      "HoG shape is  (133956,)\n",
      "Processing img  527.jpeg\n"
     ]
    },
    {
     "name": "stderr",
     "output_type": "stream",
     "text": [
      " 48%|████▊     | 478/1000 [00:54<00:54,  9.58it/s]"
     ]
    },
    {
     "name": "stdout",
     "output_type": "stream",
     "text": [
      "HoG shape is  (133956,)\n",
      "Processing img  528.jpeg\n",
      "HoG shape is  (133956,)\n",
      "Processing img  529.jpeg\n"
     ]
    },
    {
     "name": "stderr",
     "output_type": "stream",
     "text": [
      " 48%|████▊     | 480/1000 [00:54<00:58,  8.86it/s]"
     ]
    },
    {
     "name": "stdout",
     "output_type": "stream",
     "text": [
      "HoG shape is  (133956,)\n",
      "Processing img  53.jpeg\n",
      "HoG shape is  (133956,)\n",
      "Processing img  530.jpeg\n"
     ]
    },
    {
     "name": "stderr",
     "output_type": "stream",
     "text": [
      " 48%|████▊     | 482/1000 [00:54<01:06,  7.74it/s]"
     ]
    },
    {
     "name": "stdout",
     "output_type": "stream",
     "text": [
      "HoG shape is  (133956,)\n",
      "Processing img  531.jpeg\n",
      "HoG shape is  (133956,)\n",
      "Processing img  532.jpeg\n"
     ]
    },
    {
     "name": "stderr",
     "output_type": "stream",
     "text": [
      " 48%|████▊     | 484/1000 [00:55<01:05,  7.85it/s]"
     ]
    },
    {
     "name": "stdout",
     "output_type": "stream",
     "text": [
      "HoG shape is  (133956,)\n",
      "Processing img  533.jpeg\n",
      "HoG shape is  (133956,)\n",
      "Processing img  534.jpeg\n"
     ]
    },
    {
     "name": "stderr",
     "output_type": "stream",
     "text": [
      " 48%|████▊     | 485/1000 [00:55<01:05,  7.83it/s]"
     ]
    },
    {
     "name": "stdout",
     "output_type": "stream",
     "text": [
      "HoG shape is  (133956,)\n",
      "Processing img  535.jpeg\n",
      "HoG shape is  (133956,)\n"
     ]
    },
    {
     "name": "stderr",
     "output_type": "stream",
     "text": [
      " 49%|████▊     | 487/1000 [00:55<01:20,  6.35it/s]"
     ]
    },
    {
     "name": "stdout",
     "output_type": "stream",
     "text": [
      "Processing img  536.jpeg\n",
      "HoG shape is  (133956,)\n"
     ]
    },
    {
     "name": "stderr",
     "output_type": "stream",
     "text": [
      " 49%|████▉     | 488/1000 [00:55<01:20,  6.33it/s]"
     ]
    },
    {
     "name": "stdout",
     "output_type": "stream",
     "text": [
      "Processing img  537.jpeg\n",
      "HoG shape is  (133956,)\n",
      "Processing img  538.jpeg\n"
     ]
    },
    {
     "name": "stderr",
     "output_type": "stream",
     "text": [
      " 49%|████▉     | 489/1000 [00:55<01:23,  6.11it/s]"
     ]
    },
    {
     "name": "stdout",
     "output_type": "stream",
     "text": [
      "HoG shape is  (133956,)\n",
      "Processing img  539.jpeg\n",
      "HoG shape is  (133956,)\n"
     ]
    },
    {
     "name": "stderr",
     "output_type": "stream",
     "text": [
      " 49%|████▉     | 491/1000 [00:56<01:25,  5.95it/s]"
     ]
    },
    {
     "name": "stdout",
     "output_type": "stream",
     "text": [
      "Processing img  54.jpeg\n",
      "HoG shape is  (133956,)\n",
      "Processing img  540.jpeg\n"
     ]
    },
    {
     "name": "stderr",
     "output_type": "stream",
     "text": [
      " 49%|████▉     | 492/1000 [00:56<01:21,  6.20it/s]"
     ]
    },
    {
     "name": "stdout",
     "output_type": "stream",
     "text": [
      "HoG shape is  (133956,)\n",
      "Processing img  541.jpeg\n"
     ]
    },
    {
     "name": "stderr",
     "output_type": "stream",
     "text": [
      " 49%|████▉     | 494/1000 [00:56<01:34,  5.37it/s]"
     ]
    },
    {
     "name": "stdout",
     "output_type": "stream",
     "text": [
      "HoG shape is  (133956,)\n",
      "Processing img  542.jpeg\n",
      "HoG shape is  (133956,)\n",
      "Processing img  543.jpeg\n"
     ]
    },
    {
     "name": "stderr",
     "output_type": "stream",
     "text": [
      " 50%|████▉     | 496/1000 [00:57<01:21,  6.15it/s]"
     ]
    },
    {
     "name": "stdout",
     "output_type": "stream",
     "text": [
      "HoG shape is  (133956,)\n",
      "Processing img  544.jpeg\n",
      "HoG shape is  (133956,)\n",
      "Processing img  545.jpeg\n"
     ]
    },
    {
     "name": "stderr",
     "output_type": "stream",
     "text": [
      " 50%|████▉     | 498/1000 [00:57<01:12,  6.91it/s]"
     ]
    },
    {
     "name": "stdout",
     "output_type": "stream",
     "text": [
      "HoG shape is  (133956,)\n",
      "Processing img  546.jpeg\n",
      "HoG shape is  (133956,)\n",
      "Processing img  547.jpeg\n"
     ]
    },
    {
     "name": "stderr",
     "output_type": "stream",
     "text": [
      " 50%|████▉     | 499/1000 [00:57<01:09,  7.22it/s]"
     ]
    },
    {
     "name": "stdout",
     "output_type": "stream",
     "text": [
      "HoG shape is  (133956,)\n",
      "Processing img  548.jpeg\n"
     ]
    },
    {
     "name": "stderr",
     "output_type": "stream",
     "text": [
      " 50%|█████     | 500/1000 [00:57<01:25,  5.85it/s]"
     ]
    },
    {
     "name": "stdout",
     "output_type": "stream",
     "text": [
      "HoG shape is  (133956,)\n",
      "Processing img  549.jpeg\n",
      "HoG shape is  (133956,)\n"
     ]
    },
    {
     "name": "stderr",
     "output_type": "stream",
     "text": [
      " 50%|█████     | 502/1000 [00:58<01:20,  6.20it/s]"
     ]
    },
    {
     "name": "stdout",
     "output_type": "stream",
     "text": [
      "Processing img  55.jpeg\n",
      "HoG shape is  (133956,)\n",
      "Processing img  550.jpeg\n"
     ]
    },
    {
     "name": "stderr",
     "output_type": "stream",
     "text": [
      " 50%|█████     | 504/1000 [00:58<01:26,  5.73it/s]"
     ]
    },
    {
     "name": "stdout",
     "output_type": "stream",
     "text": [
      "HoG shape is  (133956,)\n",
      "Processing img  551.jpeg\n",
      "HoG shape is  (133956,)\n",
      "Processing img  552.jpeg\n"
     ]
    },
    {
     "name": "stderr",
     "output_type": "stream",
     "text": [
      " 51%|█████     | 506/1000 [00:58<01:16,  6.49it/s]"
     ]
    },
    {
     "name": "stdout",
     "output_type": "stream",
     "text": [
      "HoG shape is  (133956,)\n",
      "Processing img  553.jpeg\n",
      "HoG shape is  (133956,)\n",
      "Processing img  554.jpeg\n"
     ]
    },
    {
     "name": "stderr",
     "output_type": "stream",
     "text": [
      " 51%|█████     | 508/1000 [00:58<01:08,  7.20it/s]"
     ]
    },
    {
     "name": "stdout",
     "output_type": "stream",
     "text": [
      "HoG shape is  (133956,)\n",
      "Processing img  555.jpeg\n",
      "HoG shape is  (133956,)\n",
      "Processing img  556.jpeg\n"
     ]
    },
    {
     "name": "stderr",
     "output_type": "stream",
     "text": [
      " 51%|█████     | 509/1000 [00:59<01:04,  7.64it/s]"
     ]
    },
    {
     "name": "stdout",
     "output_type": "stream",
     "text": [
      "HoG shape is  (133956,)\n",
      "Processing img  557.jpeg\n"
     ]
    },
    {
     "name": "stderr",
     "output_type": "stream",
     "text": [
      " 51%|█████     | 510/1000 [00:59<01:16,  6.39it/s]"
     ]
    },
    {
     "name": "stdout",
     "output_type": "stream",
     "text": [
      "HoG shape is  (133956,)\n",
      "Processing img  558.jpeg\n",
      "HoG shape is  (133956,)\n"
     ]
    },
    {
     "name": "stderr",
     "output_type": "stream",
     "text": [
      " 51%|█████     | 512/1000 [00:59<01:18,  6.20it/s]"
     ]
    },
    {
     "name": "stdout",
     "output_type": "stream",
     "text": [
      "Processing img  559.jpeg\n",
      "HoG shape is  (133956,)\n",
      "Processing img  56.jpeg\n"
     ]
    },
    {
     "name": "stderr",
     "output_type": "stream",
     "text": [
      " 51%|█████▏    | 514/1000 [00:59<01:18,  6.21it/s]"
     ]
    },
    {
     "name": "stdout",
     "output_type": "stream",
     "text": [
      "HoG shape is  (133956,)\n",
      "Processing img  560.jpeg\n",
      "HoG shape is  (133956,)\n",
      "Processing img  561.jpeg\n"
     ]
    },
    {
     "name": "stderr",
     "output_type": "stream",
     "text": [
      " 52%|█████▏    | 516/1000 [01:00<01:10,  6.89it/s]"
     ]
    },
    {
     "name": "stdout",
     "output_type": "stream",
     "text": [
      "HoG shape is  (133956,)\n",
      "Processing img  562.jpeg\n",
      "HoG shape is  (133956,)\n",
      "Processing img  563.jpeg\n"
     ]
    },
    {
     "name": "stderr",
     "output_type": "stream",
     "text": [
      " 52%|█████▏    | 518/1000 [01:00<01:05,  7.34it/s]"
     ]
    },
    {
     "name": "stdout",
     "output_type": "stream",
     "text": [
      "HoG shape is  (133956,)\n",
      "Processing img  564.jpeg\n",
      "HoG shape is  (133956,)\n",
      "Processing img  565.jpeg\n"
     ]
    },
    {
     "name": "stderr",
     "output_type": "stream",
     "text": [
      " 52%|█████▏    | 519/1000 [01:00<01:02,  7.74it/s]"
     ]
    },
    {
     "name": "stdout",
     "output_type": "stream",
     "text": [
      "HoG shape is  (133956,)\n",
      "Processing img  566.jpeg\n"
     ]
    },
    {
     "name": "stderr",
     "output_type": "stream",
     "text": [
      " 52%|█████▏    | 521/1000 [01:00<01:15,  6.34it/s]"
     ]
    },
    {
     "name": "stdout",
     "output_type": "stream",
     "text": [
      "HoG shape is  (133956,)\n",
      "Processing img  567.jpeg\n",
      "HoG shape is  (133956,)\n",
      "Processing img  568.jpeg\n"
     ]
    },
    {
     "name": "stderr",
     "output_type": "stream",
     "text": [
      " 52%|█████▏    | 523/1000 [01:01<01:07,  7.03it/s]"
     ]
    },
    {
     "name": "stdout",
     "output_type": "stream",
     "text": [
      "HoG shape is  (133956,)\n",
      "Processing img  569.jpeg\n",
      "HoG shape is  (133956,)\n",
      "Processing img  57.jpeg\n"
     ]
    },
    {
     "name": "stderr",
     "output_type": "stream",
     "text": [
      " 52%|█████▎    | 525/1000 [01:01<01:06,  7.15it/s]"
     ]
    },
    {
     "name": "stdout",
     "output_type": "stream",
     "text": [
      "HoG shape is  (133956,)\n",
      "Processing img  570.jpeg\n",
      "HoG shape is  (133956,)\n",
      "Processing img  571.jpeg\n"
     ]
    },
    {
     "name": "stderr",
     "output_type": "stream",
     "text": [
      " 53%|█████▎    | 527/1000 [01:01<01:09,  6.85it/s]"
     ]
    },
    {
     "name": "stdout",
     "output_type": "stream",
     "text": [
      "HoG shape is  (133956,)\n",
      "Processing img  572.jpeg\n",
      "HoG shape is  (133956,)\n",
      "Processing img  573.jpeg\n"
     ]
    },
    {
     "name": "stderr",
     "output_type": "stream",
     "text": [
      " 53%|█████▎    | 529/1000 [01:02<01:03,  7.41it/s]"
     ]
    },
    {
     "name": "stdout",
     "output_type": "stream",
     "text": [
      "HoG shape is  (133956,)\n",
      "Processing img  574.jpeg\n",
      "HoG shape is  (133956,)\n",
      "Processing img  575.jpeg\n"
     ]
    },
    {
     "name": "stderr",
     "output_type": "stream",
     "text": [
      " 53%|█████▎    | 531/1000 [01:02<00:57,  8.10it/s]"
     ]
    },
    {
     "name": "stdout",
     "output_type": "stream",
     "text": [
      "HoG shape is  (133956,)\n",
      "Processing img  576.jpeg\n",
      "HoG shape is  (133956,)\n",
      "Processing img  577.jpeg\n",
      "HoG shape is  (133956,)\n",
      "Processing img  578.jpeg\n"
     ]
    },
    {
     "name": "stderr",
     "output_type": "stream",
     "text": [
      " 53%|█████▎    | 534/1000 [01:02<00:50,  9.17it/s]"
     ]
    },
    {
     "name": "stdout",
     "output_type": "stream",
     "text": [
      "HoG shape is  (133956,)\n",
      "Processing img  579.jpeg\n",
      "HoG shape is  (133956,)\n",
      "Processing img  58.jpeg\n",
      "HoG shape is  (133956,)\n",
      "Processing img  580.jpeg\n"
     ]
    },
    {
     "name": "stderr",
     "output_type": "stream",
     "text": [
      " 54%|█████▎    | 537/1000 [01:02<00:55,  8.32it/s]"
     ]
    },
    {
     "name": "stdout",
     "output_type": "stream",
     "text": [
      "HoG shape is  (133956,)\n",
      "Processing img  581.jpeg\n",
      "HoG shape is  (133956,)\n",
      "Processing img  582.jpeg\n"
     ]
    },
    {
     "name": "stderr",
     "output_type": "stream",
     "text": [
      " 54%|█████▍    | 539/1000 [01:03<01:00,  7.64it/s]"
     ]
    },
    {
     "name": "stdout",
     "output_type": "stream",
     "text": [
      "HoG shape is  (133956,)\n",
      "Processing img  583.jpeg\n",
      "HoG shape is  (133956,)\n",
      "Processing img  584.jpeg\n"
     ]
    },
    {
     "name": "stderr",
     "output_type": "stream",
     "text": [
      " 54%|█████▍    | 541/1000 [01:03<00:53,  8.54it/s]"
     ]
    },
    {
     "name": "stdout",
     "output_type": "stream",
     "text": [
      "HoG shape is  (133956,)\n",
      "Processing img  585.jpeg\n",
      "HoG shape is  (133956,)\n",
      "Processing img  586.jpeg\n",
      "HoG shape is  (133956,)\n",
      "Processing img  587.jpeg\n"
     ]
    },
    {
     "name": "stderr",
     "output_type": "stream",
     "text": [
      " 54%|█████▍    | 544/1000 [01:03<00:49,  9.13it/s]"
     ]
    },
    {
     "name": "stdout",
     "output_type": "stream",
     "text": [
      "HoG shape is  (133956,)\n",
      "Processing img  588.jpeg\n",
      "HoG shape is  (133956,)\n",
      "Processing img  589.jpeg\n",
      "HoG shape is  (133956,)\n",
      "Processing img  59.jpeg\n"
     ]
    },
    {
     "name": "stderr",
     "output_type": "stream",
     "text": [
      " 55%|█████▍    | 547/1000 [01:04<00:46,  9.67it/s]"
     ]
    },
    {
     "name": "stdout",
     "output_type": "stream",
     "text": [
      "HoG shape is  (133956,)\n",
      "Processing img  590.jpeg\n",
      "HoG shape is  (133956,)\n",
      "Processing img  591.jpeg\n",
      "HoG shape is  (133956,)\n",
      "Processing img  592.jpeg\n"
     ]
    },
    {
     "name": "stderr",
     "output_type": "stream",
     "text": [
      " 55%|█████▌    | 551/1000 [01:04<00:43, 10.29it/s]"
     ]
    },
    {
     "name": "stdout",
     "output_type": "stream",
     "text": [
      "HoG shape is  (133956,)\n",
      "Processing img  593.jpeg\n",
      "HoG shape is  (133956,)\n",
      "Processing img  594.jpeg\n",
      "HoG shape is  (133956,)\n",
      "Processing img  595.jpeg\n",
      "HoG shape is  (133956,)\n",
      "Processing img  596.jpeg\n"
     ]
    },
    {
     "name": "stderr",
     "output_type": "stream",
     "text": [
      " 55%|█████▌    | 554/1000 [01:04<00:50,  8.75it/s]"
     ]
    },
    {
     "name": "stdout",
     "output_type": "stream",
     "text": [
      "HoG shape is  (133956,)\n",
      "Processing img  597.jpeg\n",
      "HoG shape is  (133956,)\n",
      "Processing img  598.jpeg\n"
     ]
    },
    {
     "name": "stderr",
     "output_type": "stream",
     "text": [
      " 56%|█████▌    | 556/1000 [01:05<00:49,  8.95it/s]"
     ]
    },
    {
     "name": "stdout",
     "output_type": "stream",
     "text": [
      "HoG shape is  (133956,)\n",
      "Processing img  599.jpeg\n",
      "HoG shape is  (133956,)\n",
      "Processing img  6.jpeg\n"
     ]
    },
    {
     "name": "stderr",
     "output_type": "stream",
     "text": [
      " 56%|█████▌    | 559/1000 [01:05<00:45,  9.79it/s]"
     ]
    },
    {
     "name": "stdout",
     "output_type": "stream",
     "text": [
      "HoG shape is  (133956,)\n",
      "Processing img  60.jpeg\n",
      "HoG shape is  (133956,)\n",
      "Processing img  600.jpeg\n",
      "HoG shape is  (133956,)\n",
      "Processing img  601.jpeg\n"
     ]
    },
    {
     "name": "stderr",
     "output_type": "stream",
     "text": [
      " 56%|█████▌    | 561/1000 [01:05<00:45,  9.74it/s]"
     ]
    },
    {
     "name": "stdout",
     "output_type": "stream",
     "text": [
      "HoG shape is  (133956,)\n",
      "Processing img  602.jpeg\n",
      "HoG shape is  (133956,)\n",
      "Processing img  603.jpeg\n",
      "HoG shape is  (133956,)\n",
      "Processing img  604.jpeg\n",
      "HoG shape is  (133956,)\n"
     ]
    },
    {
     "name": "stderr",
     "output_type": "stream",
     "text": [
      " 56%|█████▋    | 564/1000 [01:05<00:52,  8.28it/s]"
     ]
    },
    {
     "name": "stdout",
     "output_type": "stream",
     "text": [
      "Processing img  605.jpeg\n",
      "HoG shape is  (133956,)\n",
      "Processing img  606.jpeg\n"
     ]
    },
    {
     "name": "stderr",
     "output_type": "stream",
     "text": [
      " 57%|█████▋    | 566/1000 [01:06<00:49,  8.83it/s]"
     ]
    },
    {
     "name": "stdout",
     "output_type": "stream",
     "text": [
      "HoG shape is  (133956,)\n",
      "Processing img  607.jpeg\n",
      "HoG shape is  (133956,)\n",
      "Processing img  608.jpeg\n",
      "HoG shape is  (133956,)\n"
     ]
    },
    {
     "name": "stderr",
     "output_type": "stream",
     "text": [
      " 57%|█████▋    | 568/1000 [01:06<00:47,  9.11it/s]"
     ]
    },
    {
     "name": "stdout",
     "output_type": "stream",
     "text": [
      "Processing img  609.jpeg\n",
      "HoG shape is  (133956,)\n",
      "Processing img  61.jpeg\n",
      "HoG shape is  (133956,)\n",
      "Processing img  610.jpeg\n"
     ]
    },
    {
     "name": "stderr",
     "output_type": "stream",
     "text": [
      " 57%|█████▋    | 570/1000 [01:06<00:44,  9.75it/s]"
     ]
    },
    {
     "name": "stdout",
     "output_type": "stream",
     "text": [
      "HoG shape is  (133956,)\n",
      "Processing img  611.jpeg\n"
     ]
    },
    {
     "name": "stderr",
     "output_type": "stream",
     "text": [
      " 57%|█████▋    | 572/1000 [01:06<00:54,  7.85it/s]"
     ]
    },
    {
     "name": "stdout",
     "output_type": "stream",
     "text": [
      "HoG shape is  (133956,)\n",
      "Processing img  612.jpeg\n",
      "HoG shape is  (133956,)\n",
      "Processing img  613.jpeg\n"
     ]
    },
    {
     "name": "stderr",
     "output_type": "stream",
     "text": [
      " 57%|█████▋    | 574/1000 [01:07<00:51,  8.25it/s]"
     ]
    },
    {
     "name": "stdout",
     "output_type": "stream",
     "text": [
      "HoG shape is  (133956,)\n",
      "Processing img  614.jpeg\n",
      "HoG shape is  (133956,)\n",
      "Processing img  615.jpeg\n"
     ]
    },
    {
     "name": "stderr",
     "output_type": "stream",
     "text": [
      " 58%|█████▊    | 576/1000 [01:07<00:51,  8.20it/s]"
     ]
    },
    {
     "name": "stdout",
     "output_type": "stream",
     "text": [
      "HoG shape is  (133956,)\n",
      "Processing img  616.jpeg\n",
      "HoG shape is  (133956,)\n",
      "Processing img  617.jpeg\n"
     ]
    },
    {
     "name": "stderr",
     "output_type": "stream",
     "text": [
      " 58%|█████▊    | 578/1000 [01:07<00:56,  7.49it/s]"
     ]
    },
    {
     "name": "stdout",
     "output_type": "stream",
     "text": [
      "HoG shape is  (133956,)\n",
      "Processing img  618.jpeg\n",
      "HoG shape is  (133956,)\n",
      "Processing img  619.jpeg\n"
     ]
    },
    {
     "name": "stderr",
     "output_type": "stream",
     "text": [
      " 58%|█████▊    | 580/1000 [01:07<00:57,  7.26it/s]"
     ]
    },
    {
     "name": "stdout",
     "output_type": "stream",
     "text": [
      "HoG shape is  (133956,)\n",
      "Processing img  62.jpeg\n",
      "HoG shape is  (133956,)\n",
      "Processing img  620.jpeg\n"
     ]
    },
    {
     "name": "stderr",
     "output_type": "stream",
     "text": [
      " 58%|█████▊    | 582/1000 [01:08<00:49,  8.38it/s]"
     ]
    },
    {
     "name": "stdout",
     "output_type": "stream",
     "text": [
      "HoG shape is  (133956,)\n",
      "Processing img  621.jpeg\n",
      "HoG shape is  (133956,)\n",
      "Processing img  622.jpeg\n"
     ]
    },
    {
     "name": "stderr",
     "output_type": "stream",
     "text": [
      " 58%|█████▊    | 585/1000 [01:08<00:43,  9.43it/s]"
     ]
    },
    {
     "name": "stdout",
     "output_type": "stream",
     "text": [
      "HoG shape is  (133956,)\n",
      "Processing img  623.jpeg\n",
      "HoG shape is  (133956,)\n",
      "Processing img  624.jpeg\n",
      "HoG shape is  (133956,)\n"
     ]
    },
    {
     "name": "stderr",
     "output_type": "stream",
     "text": [
      " 59%|█████▊    | 586/1000 [01:08<00:43,  9.48it/s]"
     ]
    },
    {
     "name": "stdout",
     "output_type": "stream",
     "text": [
      "Processing img  625.jpeg\n",
      "HoG shape is  (133956,)\n",
      "Processing img  626.jpeg\n"
     ]
    },
    {
     "name": "stderr",
     "output_type": "stream",
     "text": [
      " 59%|█████▊    | 587/1000 [01:08<00:43,  9.41it/s]"
     ]
    },
    {
     "name": "stdout",
     "output_type": "stream",
     "text": [
      "HoG shape is  (133956,)\n",
      "Processing img  627.jpeg\n"
     ]
    },
    {
     "name": "stderr",
     "output_type": "stream",
     "text": [
      " 59%|█████▉    | 589/1000 [01:09<01:00,  6.78it/s]"
     ]
    },
    {
     "name": "stdout",
     "output_type": "stream",
     "text": [
      "HoG shape is  (133956,)\n",
      "Processing img  628.jpeg\n",
      "HoG shape is  (133956,)\n",
      "Processing img  629.jpeg\n"
     ]
    },
    {
     "name": "stderr",
     "output_type": "stream",
     "text": [
      " 59%|█████▉    | 591/1000 [01:09<00:59,  6.92it/s]"
     ]
    },
    {
     "name": "stdout",
     "output_type": "stream",
     "text": [
      "HoG shape is  (133956,)\n",
      "Processing img  63.jpeg\n",
      "HoG shape is  (133956,)\n",
      "Processing img  630.jpeg\n"
     ]
    },
    {
     "name": "stderr",
     "output_type": "stream",
     "text": [
      " 59%|█████▉    | 593/1000 [01:09<00:55,  7.32it/s]"
     ]
    },
    {
     "name": "stdout",
     "output_type": "stream",
     "text": [
      "HoG shape is  (133956,)\n",
      "Processing img  631.jpeg\n",
      "HoG shape is  (133956,)\n",
      "Processing img  632.jpeg\n"
     ]
    },
    {
     "name": "stderr",
     "output_type": "stream",
     "text": [
      " 60%|█████▉    | 595/1000 [01:09<00:49,  8.12it/s]"
     ]
    },
    {
     "name": "stdout",
     "output_type": "stream",
     "text": [
      "HoG shape is  (133956,)\n",
      "Processing img  633.jpeg\n",
      "HoG shape is  (133956,)\n",
      "Processing img  634.jpeg\n",
      "HoG shape is  (133956,)\n",
      "Processing img  635.jpeg\n"
     ]
    },
    {
     "name": "stderr",
     "output_type": "stream",
     "text": [
      " 60%|█████▉    | 597/1000 [01:09<00:44,  9.01it/s]"
     ]
    },
    {
     "name": "stdout",
     "output_type": "stream",
     "text": [
      "HoG shape is  (133956,)\n",
      "Processing img  636.jpeg\n",
      "HoG shape is  (133956,)\n"
     ]
    },
    {
     "name": "stderr",
     "output_type": "stream",
     "text": [
      " 60%|█████▉    | 599/1000 [01:10<00:56,  7.16it/s]"
     ]
    },
    {
     "name": "stdout",
     "output_type": "stream",
     "text": [
      "Processing img  637.jpeg\n",
      "HoG shape is  (133956,)\n",
      "Processing img  638.jpeg\n"
     ]
    },
    {
     "name": "stderr",
     "output_type": "stream",
     "text": [
      " 60%|██████    | 601/1000 [01:10<00:49,  8.02it/s]"
     ]
    },
    {
     "name": "stdout",
     "output_type": "stream",
     "text": [
      "HoG shape is  (133956,)\n",
      "Processing img  639.jpeg\n",
      "HoG shape is  (133956,)\n",
      "Processing img  64.jpeg\n",
      "HoG shape is  (133956,)\n",
      "Processing img  640.jpeg\n"
     ]
    },
    {
     "name": "stderr",
     "output_type": "stream",
     "text": [
      " 60%|██████    | 605/1000 [01:10<00:42,  9.32it/s]"
     ]
    },
    {
     "name": "stdout",
     "output_type": "stream",
     "text": [
      "HoG shape is  (133956,)\n",
      "Processing img  641.jpeg\n",
      "HoG shape is  (133956,)\n",
      "Processing img  642.jpeg\n",
      "HoG shape is  (133956,)\n"
     ]
    },
    {
     "name": "stderr",
     "output_type": "stream",
     "text": [
      " 61%|██████    | 607/1000 [01:11<00:39,  9.89it/s]"
     ]
    },
    {
     "name": "stdout",
     "output_type": "stream",
     "text": [
      "Processing img  643.jpeg\n",
      "HoG shape is  (133956,)\n",
      "Processing img  644.jpeg\n",
      "HoG shape is  (133956,)\n"
     ]
    },
    {
     "name": "stderr",
     "output_type": "stream",
     "text": [
      " 61%|██████    | 608/1000 [01:11<00:45,  8.66it/s]"
     ]
    },
    {
     "name": "stdout",
     "output_type": "stream",
     "text": [
      "Processing img  645.jpeg\n",
      "HoG shape is  (133956,)\n"
     ]
    },
    {
     "name": "stderr",
     "output_type": "stream",
     "text": [
      " 61%|██████    | 609/1000 [01:11<00:48,  7.99it/s]"
     ]
    },
    {
     "name": "stdout",
     "output_type": "stream",
     "text": [
      "Processing img  646.jpeg\n",
      "HoG shape is  (133956,)\n",
      "Processing img  647.jpeg\n"
     ]
    },
    {
     "name": "stderr",
     "output_type": "stream",
     "text": [
      " 61%|██████    | 611/1000 [01:11<00:50,  7.72it/s]"
     ]
    },
    {
     "name": "stdout",
     "output_type": "stream",
     "text": [
      "HoG shape is  (133956,)\n",
      "Processing img  648.jpeg\n",
      "HoG shape is  (133956,)\n",
      "Processing img  649.jpeg\n",
      "HoG shape is  (133956,)\n",
      "Processing img  65.jpeg\n"
     ]
    },
    {
     "name": "stderr",
     "output_type": "stream",
     "text": [
      " 62%|██████▏   | 615/1000 [01:12<00:41,  9.19it/s]"
     ]
    },
    {
     "name": "stdout",
     "output_type": "stream",
     "text": [
      "HoG shape is  (133956,)\n",
      "Processing img  650.jpeg\n",
      "HoG shape is  (133956,)\n",
      "Processing img  651.jpeg\n",
      "HoG shape is  (133956,)\n"
     ]
    },
    {
     "name": "stderr",
     "output_type": "stream",
     "text": [
      " 62%|██████▏   | 616/1000 [01:12<00:48,  7.90it/s]"
     ]
    },
    {
     "name": "stdout",
     "output_type": "stream",
     "text": [
      "Processing img  652.jpeg\n",
      "HoG shape is  (133956,)\n"
     ]
    },
    {
     "name": "stderr",
     "output_type": "stream",
     "text": [
      " 62%|██████▏   | 617/1000 [01:12<00:48,  7.84it/s]"
     ]
    },
    {
     "name": "stdout",
     "output_type": "stream",
     "text": [
      "Processing img  653.jpeg\n",
      "HoG shape is  (133956,)\n",
      "Processing img  654.jpeg\n"
     ]
    },
    {
     "name": "stderr",
     "output_type": "stream",
     "text": [
      " 62%|██████▏   | 619/1000 [01:12<00:46,  8.24it/s]"
     ]
    },
    {
     "name": "stdout",
     "output_type": "stream",
     "text": [
      "HoG shape is  (133956,)\n",
      "Processing img  655.jpeg\n",
      "HoG shape is  (133956,)\n",
      "Processing img  656.jpeg\n"
     ]
    },
    {
     "name": "stderr",
     "output_type": "stream",
     "text": [
      " 62%|██████▏   | 621/1000 [01:12<00:44,  8.48it/s]"
     ]
    },
    {
     "name": "stdout",
     "output_type": "stream",
     "text": [
      "HoG shape is  (133956,)\n",
      "Processing img  657.jpeg\n",
      "HoG shape is  (133956,)\n",
      "Processing img  658.jpeg\n",
      "HoG shape is  (133956,)\n",
      "Processing img  659.jpeg\n"
     ]
    },
    {
     "name": "stderr",
     "output_type": "stream",
     "text": [
      " 62%|██████▏   | 623/1000 [01:13<00:41,  9.10it/s]"
     ]
    },
    {
     "name": "stdout",
     "output_type": "stream",
     "text": [
      "HoG shape is  (133956,)\n",
      "Processing img  66.jpeg\n",
      "HoG shape is  (133956,)\n"
     ]
    },
    {
     "name": "stderr",
     "output_type": "stream",
     "text": [
      " 62%|██████▎   | 625/1000 [01:13<00:50,  7.43it/s]"
     ]
    },
    {
     "name": "stdout",
     "output_type": "stream",
     "text": [
      "Processing img  660.jpeg\n",
      "HoG shape is  (133956,)\n",
      "Processing img  661.jpeg\n"
     ]
    },
    {
     "name": "stderr",
     "output_type": "stream",
     "text": [
      " 63%|██████▎   | 627/1000 [01:13<00:48,  7.77it/s]"
     ]
    },
    {
     "name": "stdout",
     "output_type": "stream",
     "text": [
      "HoG shape is  (133956,)\n",
      "Processing img  662.jpeg\n",
      "HoG shape is  (133956,)\n",
      "Processing img  663.jpeg\n"
     ]
    },
    {
     "name": "stderr",
     "output_type": "stream",
     "text": [
      " 63%|██████▎   | 629/1000 [01:13<00:47,  7.83it/s]"
     ]
    },
    {
     "name": "stdout",
     "output_type": "stream",
     "text": [
      "HoG shape is  (133956,)\n",
      "Processing img  664.jpeg\n",
      "HoG shape is  (133956,)\n",
      "Processing img  665.jpeg\n"
     ]
    },
    {
     "name": "stderr",
     "output_type": "stream",
     "text": [
      " 63%|██████▎   | 631/1000 [01:14<00:44,  8.31it/s]"
     ]
    },
    {
     "name": "stdout",
     "output_type": "stream",
     "text": [
      "HoG shape is  (133956,)\n",
      "Processing img  666.jpeg\n",
      "HoG shape is  (133956,)\n",
      "Processing img  667.jpeg\n",
      "HoG shape is  (133956,)\n",
      "Processing img  668.jpeg\n"
     ]
    },
    {
     "name": "stderr",
     "output_type": "stream",
     "text": [
      " 63%|██████▎   | 634/1000 [01:14<00:47,  7.68it/s]"
     ]
    },
    {
     "name": "stdout",
     "output_type": "stream",
     "text": [
      "HoG shape is  (133956,)\n",
      "Processing img  669.jpeg\n",
      "HoG shape is  (133956,)\n",
      "Processing img  67.jpeg\n"
     ]
    },
    {
     "name": "stderr",
     "output_type": "stream",
     "text": [
      " 64%|██████▎   | 636/1000 [01:14<00:44,  8.22it/s]"
     ]
    },
    {
     "name": "stdout",
     "output_type": "stream",
     "text": [
      "HoG shape is  (133956,)\n",
      "Processing img  670.jpeg\n",
      "HoG shape is  (133956,)\n",
      "Processing img  671.jpeg\n"
     ]
    },
    {
     "name": "stderr",
     "output_type": "stream",
     "text": [
      " 64%|██████▍   | 638/1000 [01:15<00:44,  8.22it/s]"
     ]
    },
    {
     "name": "stdout",
     "output_type": "stream",
     "text": [
      "HoG shape is  (133956,)\n",
      "Processing img  672.jpeg\n",
      "HoG shape is  (133956,)\n",
      "Processing img  673.jpeg\n"
     ]
    },
    {
     "name": "stderr",
     "output_type": "stream",
     "text": [
      " 64%|██████▍   | 640/1000 [01:15<00:48,  7.44it/s]"
     ]
    },
    {
     "name": "stdout",
     "output_type": "stream",
     "text": [
      "HoG shape is  (133956,)\n",
      "Processing img  674.jpeg\n",
      "HoG shape is  (133956,)\n",
      "Processing img  675.jpeg\n"
     ]
    },
    {
     "name": "stderr",
     "output_type": "stream",
     "text": [
      " 64%|██████▍   | 642/1000 [01:15<00:49,  7.25it/s]"
     ]
    },
    {
     "name": "stdout",
     "output_type": "stream",
     "text": [
      "HoG shape is  (133956,)\n",
      "Processing img  676.jpeg\n",
      "HoG shape is  (133956,)\n",
      "Processing img  677.jpeg\n"
     ]
    },
    {
     "name": "stderr",
     "output_type": "stream",
     "text": [
      " 64%|██████▍   | 644/1000 [01:15<00:46,  7.73it/s]"
     ]
    },
    {
     "name": "stdout",
     "output_type": "stream",
     "text": [
      "HoG shape is  (133956,)\n",
      "Processing img  678.jpeg\n",
      "HoG shape is  (133956,)\n",
      "Processing img  679.jpeg\n"
     ]
    },
    {
     "name": "stderr",
     "output_type": "stream",
     "text": [
      " 65%|██████▍   | 646/1000 [01:16<00:44,  7.96it/s]"
     ]
    },
    {
     "name": "stdout",
     "output_type": "stream",
     "text": [
      "HoG shape is  (133956,)\n",
      "Processing img  68.jpeg\n",
      "HoG shape is  (133956,)\n",
      "Processing img  680.jpeg\n"
     ]
    },
    {
     "name": "stderr",
     "output_type": "stream",
     "text": [
      " 65%|██████▍   | 648/1000 [01:16<00:39,  8.96it/s]"
     ]
    },
    {
     "name": "stdout",
     "output_type": "stream",
     "text": [
      "HoG shape is  (133956,)\n",
      "Processing img  681.jpeg\n",
      "HoG shape is  (133956,)\n",
      "Processing img  682.jpeg\n"
     ]
    },
    {
     "name": "stderr",
     "output_type": "stream",
     "text": [
      " 65%|██████▌   | 650/1000 [01:16<00:49,  7.06it/s]"
     ]
    },
    {
     "name": "stdout",
     "output_type": "stream",
     "text": [
      "HoG shape is  (133956,)\n",
      "Processing img  683.jpeg\n",
      "HoG shape is  (133956,)\n",
      "Processing img  684.jpeg\n",
      "HoG shape is  (133956,)\n",
      "Processing img  685.jpeg\n"
     ]
    },
    {
     "name": "stderr",
     "output_type": "stream",
     "text": [
      " 65%|██████▌   | 653/1000 [01:16<00:41,  8.31it/s]"
     ]
    },
    {
     "name": "stdout",
     "output_type": "stream",
     "text": [
      "HoG shape is  (133956,)\n",
      "Processing img  686.jpeg\n",
      "HoG shape is  (133956,)\n",
      "Processing img  687.jpeg\n",
      "HoG shape is  (133956,)\n",
      "Processing img  688.jpeg\n"
     ]
    },
    {
     "name": "stderr",
     "output_type": "stream",
     "text": [
      " 66%|██████▌   | 657/1000 [01:17<00:35,  9.77it/s]"
     ]
    },
    {
     "name": "stdout",
     "output_type": "stream",
     "text": [
      "HoG shape is  (133956,)\n",
      "Processing img  689.jpeg\n",
      "HoG shape is  (133956,)\n",
      "Processing img  69.jpeg\n",
      "HoG shape is  (133956,)\n"
     ]
    },
    {
     "name": "stderr",
     "output_type": "stream",
     "text": [
      " 66%|██████▌   | 659/1000 [01:17<00:33, 10.18it/s]"
     ]
    },
    {
     "name": "stdout",
     "output_type": "stream",
     "text": [
      "Processing img  690.jpeg\n",
      "HoG shape is  (133956,)\n",
      "Processing img  691.jpeg\n",
      "HoG shape is  (133956,)\n",
      "Processing img  692.jpeg\n"
     ]
    },
    {
     "name": "stderr",
     "output_type": "stream",
     "text": [
      " 66%|██████▌   | 661/1000 [01:17<00:35,  9.46it/s]"
     ]
    },
    {
     "name": "stdout",
     "output_type": "stream",
     "text": [
      "HoG shape is  (133956,)\n",
      "Processing img  693.jpeg\n",
      "HoG shape is  (133956,)\n",
      "Processing img  694.jpeg\n"
     ]
    },
    {
     "name": "stderr",
     "output_type": "stream",
     "text": [
      " 66%|██████▋   | 663/1000 [01:18<00:37,  8.90it/s]"
     ]
    },
    {
     "name": "stdout",
     "output_type": "stream",
     "text": [
      "HoG shape is  (133956,)\n",
      "Processing img  695.jpeg\n",
      "HoG shape is  (133956,)\n",
      "Processing img  696.jpeg\n"
     ]
    },
    {
     "name": "stderr",
     "output_type": "stream",
     "text": [
      " 66%|██████▋   | 665/1000 [01:18<00:42,  7.95it/s]"
     ]
    },
    {
     "name": "stdout",
     "output_type": "stream",
     "text": [
      "HoG shape is  (133956,)\n",
      "Processing img  697.jpeg\n",
      "HoG shape is  (133956,)\n",
      "Processing img  698.jpeg\n"
     ]
    },
    {
     "name": "stderr",
     "output_type": "stream",
     "text": [
      " 67%|██████▋   | 667/1000 [01:18<00:43,  7.68it/s]"
     ]
    },
    {
     "name": "stdout",
     "output_type": "stream",
     "text": [
      "HoG shape is  (133956,)\n",
      "Processing img  699.jpeg\n",
      "HoG shape is  (133956,)\n",
      "Processing img  7.jpeg\n"
     ]
    },
    {
     "name": "stderr",
     "output_type": "stream",
     "text": [
      " 67%|██████▋   | 669/1000 [01:18<00:46,  7.07it/s]"
     ]
    },
    {
     "name": "stdout",
     "output_type": "stream",
     "text": [
      "HoG shape is  (133956,)\n",
      "Processing img  70.jpeg\n",
      "HoG shape is  (133956,)\n",
      "Processing img  700.jpeg\n"
     ]
    },
    {
     "name": "stderr",
     "output_type": "stream",
     "text": [
      " 67%|██████▋   | 671/1000 [01:19<00:41,  7.92it/s]"
     ]
    },
    {
     "name": "stdout",
     "output_type": "stream",
     "text": [
      "HoG shape is  (133956,)\n",
      "Processing img  701.jpeg\n",
      "HoG shape is  (133956,)\n",
      "Processing img  702.jpeg\n"
     ]
    },
    {
     "name": "stderr",
     "output_type": "stream",
     "text": [
      " 67%|██████▋   | 674/1000 [01:19<00:36,  8.98it/s]"
     ]
    },
    {
     "name": "stdout",
     "output_type": "stream",
     "text": [
      "HoG shape is  (133956,)\n",
      "Processing img  703.jpeg\n",
      "HoG shape is  (133956,)\n",
      "Processing img  704.jpeg\n",
      "HoG shape is  (133956,)\n"
     ]
    },
    {
     "name": "stderr",
     "output_type": "stream",
     "text": [
      " 68%|██████▊   | 675/1000 [01:19<00:36,  8.97it/s]"
     ]
    },
    {
     "name": "stdout",
     "output_type": "stream",
     "text": [
      "Processing img  705.jpeg\n",
      "HoG shape is  (133956,)\n",
      "Processing img  706.jpeg\n"
     ]
    },
    {
     "name": "stderr",
     "output_type": "stream",
     "text": [
      " 68%|██████▊   | 677/1000 [01:19<00:35,  9.08it/s]"
     ]
    },
    {
     "name": "stdout",
     "output_type": "stream",
     "text": [
      "HoG shape is  (133956,)\n",
      "Processing img  707.jpeg\n",
      "HoG shape is  (133956,)\n",
      "Processing img  708.jpeg\n",
      "HoG shape is  (133956,)\n",
      "Processing img  709.jpeg\n"
     ]
    },
    {
     "name": "stderr",
     "output_type": "stream",
     "text": [
      " 68%|██████▊   | 680/1000 [01:20<00:33,  9.55it/s]"
     ]
    },
    {
     "name": "stdout",
     "output_type": "stream",
     "text": [
      "HoG shape is  (133956,)\n",
      "Processing img  71.jpeg\n",
      "HoG shape is  (133956,)\n",
      "Processing img  710.jpeg\n"
     ]
    },
    {
     "name": "stderr",
     "output_type": "stream",
     "text": [
      " 68%|██████▊   | 682/1000 [01:20<00:33,  9.49it/s]"
     ]
    },
    {
     "name": "stdout",
     "output_type": "stream",
     "text": [
      "HoG shape is  (133956,)\n",
      "Processing img  711.jpeg\n",
      "HoG shape is  (133956,)\n",
      "Processing img  712.jpeg\n",
      "HoG shape is  (133956,)\n"
     ]
    },
    {
     "name": "stderr",
     "output_type": "stream",
     "text": [
      " 68%|██████▊   | 684/1000 [01:20<00:34,  9.11it/s]"
     ]
    },
    {
     "name": "stdout",
     "output_type": "stream",
     "text": [
      "Processing img  713.jpeg\n",
      "HoG shape is  (133956,)\n",
      "Processing img  714.jpeg\n",
      "HoG shape is  (133956,)\n",
      "Processing img  715.jpeg\n"
     ]
    },
    {
     "name": "stderr",
     "output_type": "stream",
     "text": [
      " 69%|██████▊   | 687/1000 [01:20<00:32,  9.58it/s]"
     ]
    },
    {
     "name": "stdout",
     "output_type": "stream",
     "text": [
      "HoG shape is  (133956,)\n",
      "Processing img  716.jpeg\n",
      "HoG shape is  (133956,)\n",
      "Processing img  717.jpeg\n",
      "HoG shape is  (133956,)\n",
      "Processing img  718.jpeg\n"
     ]
    },
    {
     "name": "stderr",
     "output_type": "stream",
     "text": [
      " 69%|██████▉   | 689/1000 [01:20<00:31,  9.84it/s]"
     ]
    },
    {
     "name": "stdout",
     "output_type": "stream",
     "text": [
      "HoG shape is  (133956,)\n",
      "Processing img  719.jpeg\n"
     ]
    },
    {
     "name": "stderr",
     "output_type": "stream",
     "text": [
      " 69%|██████▉   | 691/1000 [01:21<00:40,  7.72it/s]"
     ]
    },
    {
     "name": "stdout",
     "output_type": "stream",
     "text": [
      "HoG shape is  (133956,)\n",
      "Processing img  72.jpeg\n",
      "HoG shape is  (133956,)\n",
      "Processing img  720.jpeg\n"
     ]
    },
    {
     "name": "stderr",
     "output_type": "stream",
     "text": [
      " 69%|██████▉   | 693/1000 [01:21<00:36,  8.52it/s]"
     ]
    },
    {
     "name": "stdout",
     "output_type": "stream",
     "text": [
      "HoG shape is  (133956,)\n",
      "Processing img  721.jpeg\n",
      "HoG shape is  (133956,)\n",
      "Processing img  722.jpeg\n"
     ]
    },
    {
     "name": "stderr",
     "output_type": "stream",
     "text": [
      " 70%|██████▉   | 695/1000 [01:21<00:37,  8.21it/s]"
     ]
    },
    {
     "name": "stdout",
     "output_type": "stream",
     "text": [
      "HoG shape is  (133956,)\n",
      "Processing img  723.jpeg\n",
      "HoG shape is  (133956,)\n",
      "Processing img  724.jpeg\n"
     ]
    },
    {
     "name": "stderr",
     "output_type": "stream",
     "text": [
      " 70%|██████▉   | 697/1000 [01:22<00:38,  7.87it/s]"
     ]
    },
    {
     "name": "stdout",
     "output_type": "stream",
     "text": [
      "HoG shape is  (133956,)\n",
      "Processing img  725.jpeg\n",
      "HoG shape is  (133956,)\n",
      "Processing img  726.jpeg\n"
     ]
    },
    {
     "name": "stderr",
     "output_type": "stream",
     "text": [
      " 70%|██████▉   | 699/1000 [01:22<00:42,  7.11it/s]"
     ]
    },
    {
     "name": "stdout",
     "output_type": "stream",
     "text": [
      "HoG shape is  (133956,)\n",
      "Processing img  727.jpeg\n",
      "HoG shape is  (133956,)\n",
      "Processing img  728.jpeg\n"
     ]
    },
    {
     "name": "stderr",
     "output_type": "stream",
     "text": [
      " 70%|███████   | 701/1000 [01:22<00:41,  7.29it/s]"
     ]
    },
    {
     "name": "stdout",
     "output_type": "stream",
     "text": [
      "HoG shape is  (133956,)\n",
      "Processing img  729.jpeg\n",
      "HoG shape is  (133956,)\n",
      "Processing img  73.jpeg\n"
     ]
    },
    {
     "name": "stderr",
     "output_type": "stream",
     "text": [
      " 70%|███████   | 703/1000 [01:22<00:40,  7.38it/s]"
     ]
    },
    {
     "name": "stdout",
     "output_type": "stream",
     "text": [
      "HoG shape is  (133956,)\n",
      "Processing img  730.jpeg\n",
      "HoG shape is  (133956,)\n",
      "Processing img  731.jpeg\n"
     ]
    },
    {
     "name": "stderr",
     "output_type": "stream",
     "text": [
      " 70%|███████   | 704/1000 [01:23<00:44,  6.62it/s]"
     ]
    },
    {
     "name": "stdout",
     "output_type": "stream",
     "text": [
      "HoG shape is  (133956,)\n",
      "Processing img  732.jpeg\n",
      "HoG shape is  (133956,)\n"
     ]
    },
    {
     "name": "stderr",
     "output_type": "stream",
     "text": [
      " 71%|███████   | 706/1000 [01:23<00:43,  6.80it/s]"
     ]
    },
    {
     "name": "stdout",
     "output_type": "stream",
     "text": [
      "Processing img  733.jpeg\n",
      "HoG shape is  (133956,)\n",
      "Processing img  734.jpeg\n"
     ]
    },
    {
     "name": "stderr",
     "output_type": "stream",
     "text": [
      " 71%|███████   | 707/1000 [01:23<00:39,  7.51it/s]"
     ]
    },
    {
     "name": "stdout",
     "output_type": "stream",
     "text": [
      "HoG shape is  (133956,)\n",
      "Processing img  735.jpeg\n",
      "HoG shape is  (133956,)\n",
      "Processing img  736.jpeg\n",
      "HoG shape is  (133956,)\n"
     ]
    },
    {
     "name": "stderr",
     "output_type": "stream",
     "text": [
      " 71%|███████   | 710/1000 [01:23<00:34,  8.33it/s]"
     ]
    },
    {
     "name": "stdout",
     "output_type": "stream",
     "text": [
      "Processing img  737.jpeg\n",
      "HoG shape is  (133956,)\n",
      "Processing img  738.jpeg\n"
     ]
    },
    {
     "name": "stderr",
     "output_type": "stream",
     "text": [
      " 71%|███████   | 712/1000 [01:23<00:32,  8.99it/s]"
     ]
    },
    {
     "name": "stdout",
     "output_type": "stream",
     "text": [
      "HoG shape is  (133956,)\n",
      "Processing img  739.jpeg\n",
      "HoG shape is  (133956,)\n",
      "Processing img  74.jpeg\n"
     ]
    },
    {
     "name": "stderr",
     "output_type": "stream",
     "text": [
      " 71%|███████▏  | 713/1000 [01:24<00:34,  8.23it/s]"
     ]
    },
    {
     "name": "stdout",
     "output_type": "stream",
     "text": [
      "HoG shape is  (133956,)\n",
      "Processing img  740.jpeg\n",
      "HoG shape is  (133956,)\n"
     ]
    },
    {
     "name": "stderr",
     "output_type": "stream",
     "text": [
      " 72%|███████▏  | 715/1000 [01:24<00:38,  7.43it/s]"
     ]
    },
    {
     "name": "stdout",
     "output_type": "stream",
     "text": [
      "Processing img  741.jpeg\n",
      "HoG shape is  (133956,)\n",
      "Processing img  742.jpeg\n"
     ]
    },
    {
     "name": "stderr",
     "output_type": "stream",
     "text": [
      " 72%|███████▏  | 717/1000 [01:24<00:35,  7.94it/s]"
     ]
    },
    {
     "name": "stdout",
     "output_type": "stream",
     "text": [
      "HoG shape is  (133956,)\n",
      "Processing img  743.jpeg\n",
      "HoG shape is  (133956,)\n",
      "Processing img  744.jpeg\n"
     ]
    },
    {
     "name": "stderr",
     "output_type": "stream",
     "text": [
      " 72%|███████▏  | 719/1000 [01:24<00:39,  7.08it/s]"
     ]
    },
    {
     "name": "stdout",
     "output_type": "stream",
     "text": [
      "HoG shape is  (133956,)\n",
      "Processing img  745.jpeg\n",
      "HoG shape is  (133956,)\n",
      "Processing img  746.jpeg\n"
     ]
    },
    {
     "name": "stderr",
     "output_type": "stream",
     "text": [
      " 72%|███████▏  | 721/1000 [01:25<00:37,  7.39it/s]"
     ]
    },
    {
     "name": "stdout",
     "output_type": "stream",
     "text": [
      "HoG shape is  (133956,)\n",
      "Processing img  747.jpeg\n",
      "HoG shape is  (133956,)\n",
      "Processing img  748.jpeg\n"
     ]
    },
    {
     "name": "stderr",
     "output_type": "stream",
     "text": [
      " 72%|███████▏  | 723/1000 [01:25<00:34,  7.96it/s]"
     ]
    },
    {
     "name": "stdout",
     "output_type": "stream",
     "text": [
      "HoG shape is  (133956,)\n",
      "Processing img  749.jpeg\n",
      "HoG shape is  (133956,)\n",
      "Processing img  75.jpeg\n"
     ]
    },
    {
     "name": "stderr",
     "output_type": "stream",
     "text": [
      " 72%|███████▎  | 725/1000 [01:25<00:32,  8.36it/s]"
     ]
    },
    {
     "name": "stdout",
     "output_type": "stream",
     "text": [
      "HoG shape is  (133956,)\n",
      "Processing img  750.jpeg\n",
      "HoG shape is  (133956,)\n",
      "Processing img  751.jpeg\n"
     ]
    },
    {
     "name": "stderr",
     "output_type": "stream",
     "text": [
      " 73%|███████▎  | 726/1000 [01:25<00:32,  8.51it/s]"
     ]
    },
    {
     "name": "stdout",
     "output_type": "stream",
     "text": [
      "HoG shape is  (133956,)\n",
      "Processing img  752.jpeg\n"
     ]
    },
    {
     "name": "stderr",
     "output_type": "stream",
     "text": [
      " 73%|███████▎  | 728/1000 [01:26<00:38,  6.99it/s]"
     ]
    },
    {
     "name": "stdout",
     "output_type": "stream",
     "text": [
      "HoG shape is  (133956,)\n",
      "Processing img  753.jpeg\n",
      "HoG shape is  (133956,)\n",
      "Processing img  754.jpeg\n"
     ]
    },
    {
     "name": "stderr",
     "output_type": "stream",
     "text": [
      " 73%|███████▎  | 729/1000 [01:26<00:36,  7.42it/s]"
     ]
    },
    {
     "name": "stdout",
     "output_type": "stream",
     "text": [
      "HoG shape is  (133956,)\n",
      "Processing img  755.jpeg\n",
      "HoG shape is  (133956,)\n"
     ]
    },
    {
     "name": "stderr",
     "output_type": "stream",
     "text": [
      " 73%|███████▎  | 731/1000 [01:26<00:41,  6.53it/s]"
     ]
    },
    {
     "name": "stdout",
     "output_type": "stream",
     "text": [
      "Processing img  756.jpeg\n",
      "HoG shape is  (133956,)\n",
      "Processing img  757.jpeg\n"
     ]
    },
    {
     "name": "stderr",
     "output_type": "stream",
     "text": [
      " 73%|███████▎  | 733/1000 [01:26<00:40,  6.67it/s]"
     ]
    },
    {
     "name": "stdout",
     "output_type": "stream",
     "text": [
      "HoG shape is  (133956,)\n",
      "Processing img  758.jpeg\n",
      "HoG shape is  (133956,)\n",
      "Processing img  759.jpeg\n"
     ]
    },
    {
     "name": "stderr",
     "output_type": "stream",
     "text": [
      " 74%|███████▎  | 735/1000 [01:27<00:39,  6.71it/s]"
     ]
    },
    {
     "name": "stdout",
     "output_type": "stream",
     "text": [
      "HoG shape is  (133956,)\n",
      "Processing img  76.jpeg\n",
      "HoG shape is  (133956,)\n",
      "Processing img  760.jpeg\n"
     ]
    },
    {
     "name": "stderr",
     "output_type": "stream",
     "text": [
      " 74%|███████▎  | 737/1000 [01:27<00:36,  7.13it/s]"
     ]
    },
    {
     "name": "stdout",
     "output_type": "stream",
     "text": [
      "HoG shape is  (133956,)\n",
      "Processing img  761.jpeg\n",
      "HoG shape is  (133956,)\n",
      "Processing img  762.jpeg\n"
     ]
    },
    {
     "name": "stderr",
     "output_type": "stream",
     "text": [
      " 74%|███████▍  | 739/1000 [01:27<00:34,  7.66it/s]"
     ]
    },
    {
     "name": "stdout",
     "output_type": "stream",
     "text": [
      "HoG shape is  (133956,)\n",
      "Processing img  763.jpeg\n",
      "HoG shape is  (133956,)\n",
      "Processing img  764.jpeg\n"
     ]
    },
    {
     "name": "stderr",
     "output_type": "stream",
     "text": [
      " 74%|███████▍  | 740/1000 [01:27<00:32,  7.94it/s]"
     ]
    },
    {
     "name": "stdout",
     "output_type": "stream",
     "text": [
      "HoG shape is  (133956,)\n",
      "Processing img  765.jpeg\n",
      "HoG shape is  (133956,)\n"
     ]
    },
    {
     "name": "stderr",
     "output_type": "stream",
     "text": [
      " 74%|███████▍  | 742/1000 [01:28<00:41,  6.24it/s]"
     ]
    },
    {
     "name": "stdout",
     "output_type": "stream",
     "text": [
      "Processing img  766.jpeg\n",
      "HoG shape is  (133956,)\n"
     ]
    },
    {
     "name": "stderr",
     "output_type": "stream",
     "text": [
      " 74%|███████▍  | 743/1000 [01:28<00:41,  6.21it/s]"
     ]
    },
    {
     "name": "stdout",
     "output_type": "stream",
     "text": [
      "Processing img  767.jpeg\n",
      "HoG shape is  (133956,)\n",
      "Processing img  768.jpeg\n"
     ]
    },
    {
     "name": "stderr",
     "output_type": "stream",
     "text": [
      " 74%|███████▍  | 745/1000 [01:28<00:35,  7.09it/s]"
     ]
    },
    {
     "name": "stdout",
     "output_type": "stream",
     "text": [
      "HoG shape is  (133956,)\n",
      "Processing img  769.jpeg\n",
      "HoG shape is  (133956,)\n",
      "Processing img  77.jpeg\n"
     ]
    },
    {
     "name": "stderr",
     "output_type": "stream",
     "text": [
      " 75%|███████▍  | 746/1000 [01:29<00:59,  4.30it/s]"
     ]
    },
    {
     "name": "stdout",
     "output_type": "stream",
     "text": [
      "HoG shape is  (133956,)\n",
      "Processing img  770.jpeg\n",
      "HoG shape is  (133956,)\n",
      "Processing img  771.jpeg\n",
      "HoG shape is  (133956,)\n"
     ]
    },
    {
     "name": "stderr",
     "output_type": "stream",
     "text": [
      " 75%|███████▍  | 749/1000 [01:29<00:39,  6.43it/s]"
     ]
    },
    {
     "name": "stdout",
     "output_type": "stream",
     "text": [
      "Processing img  772.jpeg\n",
      "HoG shape is  (133956,)\n",
      "Processing img  773.jpeg\n"
     ]
    },
    {
     "name": "stderr",
     "output_type": "stream",
     "text": [
      " 75%|███████▌  | 751/1000 [01:29<00:32,  7.56it/s]"
     ]
    },
    {
     "name": "stdout",
     "output_type": "stream",
     "text": [
      "HoG shape is  (133956,)\n",
      "Processing img  774.jpeg\n",
      "HoG shape is  (133956,)\n",
      "Processing img  775.jpeg\n",
      "HoG shape is  (133956,)\n",
      "Processing img  776.jpeg\n"
     ]
    },
    {
     "name": "stderr",
     "output_type": "stream",
     "text": [
      " 76%|███████▌  | 755/1000 [01:29<00:27,  8.97it/s]"
     ]
    },
    {
     "name": "stdout",
     "output_type": "stream",
     "text": [
      "HoG shape is  (133956,)\n",
      "Processing img  777.jpeg\n",
      "HoG shape is  (133956,)\n",
      "Processing img  778.jpeg\n",
      "HoG shape is  (133956,)\n"
     ]
    },
    {
     "name": "stderr",
     "output_type": "stream",
     "text": [
      " 76%|███████▌  | 757/1000 [01:30<00:26,  9.21it/s]"
     ]
    },
    {
     "name": "stdout",
     "output_type": "stream",
     "text": [
      "Processing img  779.jpeg\n",
      "HoG shape is  (133956,)\n",
      "Processing img  78.jpeg\n",
      "HoG shape is  (133956,)\n"
     ]
    },
    {
     "name": "stderr",
     "output_type": "stream",
     "text": [
      " 76%|███████▌  | 758/1000 [01:30<00:26,  9.10it/s]"
     ]
    },
    {
     "name": "stdout",
     "output_type": "stream",
     "text": [
      "Processing img  780.jpeg\n",
      "HoG shape is  (133956,)\n",
      "Processing img  781.jpeg\n"
     ]
    },
    {
     "name": "stderr",
     "output_type": "stream",
     "text": [
      " 76%|███████▌  | 760/1000 [01:30<00:26,  8.96it/s]"
     ]
    },
    {
     "name": "stdout",
     "output_type": "stream",
     "text": [
      "HoG shape is  (133956,)\n",
      "Processing img  782.jpeg\n",
      "HoG shape is  (133956,)\n",
      "Processing img  783.jpeg\n"
     ]
    },
    {
     "name": "stderr",
     "output_type": "stream",
     "text": [
      " 76%|███████▌  | 762/1000 [01:30<00:25,  9.34it/s]"
     ]
    },
    {
     "name": "stdout",
     "output_type": "stream",
     "text": [
      "HoG shape is  (133956,)\n",
      "Processing img  784.jpeg\n",
      "HoG shape is  (133956,)\n",
      "Processing img  785.jpeg\n",
      "HoG shape is  (133956,)\n"
     ]
    },
    {
     "name": "stderr",
     "output_type": "stream",
     "text": [
      " 76%|███████▋  | 764/1000 [01:30<00:25,  9.29it/s]"
     ]
    },
    {
     "name": "stdout",
     "output_type": "stream",
     "text": [
      "Processing img  786.jpeg\n",
      "HoG shape is  (133956,)\n",
      "Processing img  787.jpeg\n"
     ]
    },
    {
     "name": "stderr",
     "output_type": "stream",
     "text": [
      " 77%|███████▋  | 766/1000 [01:31<00:31,  7.33it/s]"
     ]
    },
    {
     "name": "stdout",
     "output_type": "stream",
     "text": [
      "HoG shape is  (133956,)\n",
      "Processing img  788.jpeg\n",
      "HoG shape is  (133956,)\n",
      "Processing img  789.jpeg\n"
     ]
    },
    {
     "name": "stderr",
     "output_type": "stream",
     "text": [
      " 77%|███████▋  | 768/1000 [01:31<00:30,  7.55it/s]"
     ]
    },
    {
     "name": "stdout",
     "output_type": "stream",
     "text": [
      "HoG shape is  (133956,)\n",
      "Processing img  79.jpeg\n",
      "HoG shape is  (133956,)\n",
      "Processing img  790.jpeg\n"
     ]
    },
    {
     "name": "stderr",
     "output_type": "stream",
     "text": [
      " 77%|███████▋  | 770/1000 [01:31<00:28,  7.98it/s]"
     ]
    },
    {
     "name": "stdout",
     "output_type": "stream",
     "text": [
      "HoG shape is  (133956,)\n",
      "Processing img  791.jpeg\n",
      "HoG shape is  (133956,)\n",
      "Processing img  792.jpeg\n"
     ]
    },
    {
     "name": "stderr",
     "output_type": "stream",
     "text": [
      " 77%|███████▋  | 772/1000 [01:32<00:26,  8.58it/s]"
     ]
    },
    {
     "name": "stdout",
     "output_type": "stream",
     "text": [
      "HoG shape is  (133956,)\n",
      "Processing img  793.jpeg\n",
      "HoG shape is  (133956,)\n",
      "Processing img  794.jpeg\n",
      "HoG shape is  (133956,)\n"
     ]
    },
    {
     "name": "stderr",
     "output_type": "stream",
     "text": [
      " 77%|███████▋  | 774/1000 [01:32<00:25,  8.90it/s]"
     ]
    },
    {
     "name": "stdout",
     "output_type": "stream",
     "text": [
      "Processing img  795.jpeg\n",
      "HoG shape is  (133956,)\n",
      "Processing img  796.jpeg\n",
      "HoG shape is  (133956,)\n",
      "Processing img  797.jpeg\n"
     ]
    },
    {
     "name": "stderr",
     "output_type": "stream",
     "text": [
      " 78%|███████▊  | 777/1000 [01:32<00:24,  9.00it/s]"
     ]
    },
    {
     "name": "stdout",
     "output_type": "stream",
     "text": [
      "HoG shape is  (133956,)\n",
      "Processing img  798.jpeg\n",
      "HoG shape is  (133956,)\n",
      "Processing img  799.jpeg\n"
     ]
    },
    {
     "name": "stderr",
     "output_type": "stream",
     "text": [
      " 78%|███████▊  | 778/1000 [01:32<00:25,  8.83it/s]"
     ]
    },
    {
     "name": "stdout",
     "output_type": "stream",
     "text": [
      "HoG shape is  (133956,)\n",
      "Processing img  8.jpeg\n"
     ]
    },
    {
     "name": "stderr",
     "output_type": "stream",
     "text": [
      " 78%|███████▊  | 780/1000 [01:33<00:30,  7.25it/s]"
     ]
    },
    {
     "name": "stdout",
     "output_type": "stream",
     "text": [
      "HoG shape is  (133956,)\n",
      "Processing img  80.jpeg\n",
      "HoG shape is  (133956,)\n",
      "Processing img  800.jpeg\n"
     ]
    },
    {
     "name": "stderr",
     "output_type": "stream",
     "text": [
      " 78%|███████▊  | 782/1000 [01:33<00:27,  7.90it/s]"
     ]
    },
    {
     "name": "stdout",
     "output_type": "stream",
     "text": [
      "HoG shape is  (133956,)\n",
      "Processing img  801.jpeg\n",
      "HoG shape is  (133956,)\n",
      "Processing img  802.jpeg\n"
     ]
    },
    {
     "name": "stderr",
     "output_type": "stream",
     "text": [
      " 78%|███████▊  | 784/1000 [01:33<00:25,  8.39it/s]"
     ]
    },
    {
     "name": "stdout",
     "output_type": "stream",
     "text": [
      "HoG shape is  (133956,)\n",
      "Processing img  803.jpeg\n",
      "HoG shape is  (133956,)\n",
      "Processing img  804.jpeg\n",
      "HoG shape is  (133956,)\n",
      "Processing img  805.jpeg\n"
     ]
    },
    {
     "name": "stderr",
     "output_type": "stream",
     "text": [
      " 79%|███████▊  | 786/1000 [01:33<00:24,  8.79it/s]"
     ]
    },
    {
     "name": "stdout",
     "output_type": "stream",
     "text": [
      "HoG shape is  (133956,)\n",
      "Processing img  806.jpeg\n"
     ]
    },
    {
     "name": "stderr",
     "output_type": "stream",
     "text": [
      " 79%|███████▊  | 787/1000 [01:33<00:29,  7.29it/s]"
     ]
    },
    {
     "name": "stdout",
     "output_type": "stream",
     "text": [
      "HoG shape is  (133956,)\n",
      "Processing img  807.jpeg\n",
      "HoG shape is  (133956,)\n"
     ]
    },
    {
     "name": "stderr",
     "output_type": "stream",
     "text": [
      " 79%|███████▉  | 789/1000 [01:34<00:30,  6.83it/s]"
     ]
    },
    {
     "name": "stdout",
     "output_type": "stream",
     "text": [
      "Processing img  808.jpeg\n",
      "HoG shape is  (133956,)\n",
      "Processing img  809.jpeg\n"
     ]
    },
    {
     "name": "stderr",
     "output_type": "stream",
     "text": [
      " 79%|███████▉  | 791/1000 [01:34<00:26,  7.86it/s]"
     ]
    },
    {
     "name": "stdout",
     "output_type": "stream",
     "text": [
      "HoG shape is  (133956,)\n",
      "Processing img  81.jpeg\n",
      "HoG shape is  (133956,)\n",
      "Processing img  810.jpeg\n",
      "HoG shape is  (133956,)\n",
      "Processing img  811.jpeg\n"
     ]
    },
    {
     "name": "stderr",
     "output_type": "stream",
     "text": [
      " 79%|███████▉  | 794/1000 [01:34<00:23,  8.69it/s]"
     ]
    },
    {
     "name": "stdout",
     "output_type": "stream",
     "text": [
      "HoG shape is  (133956,)\n",
      "Processing img  812.jpeg\n",
      "HoG shape is  (133956,)\n",
      "Processing img  813.jpeg\n",
      "HoG shape is  (133956,)\n",
      "Processing img  814.jpeg\n"
     ]
    },
    {
     "name": "stderr",
     "output_type": "stream",
     "text": [
      " 80%|███████▉  | 797/1000 [01:35<00:21,  9.45it/s]"
     ]
    },
    {
     "name": "stdout",
     "output_type": "stream",
     "text": [
      "HoG shape is  (133956,)\n",
      "Processing img  815.jpeg\n",
      "HoG shape is  (133956,)\n",
      "Processing img  816.jpeg\n",
      "HoG shape is  (133956,)\n",
      "Processing img  817.jpeg\n"
     ]
    },
    {
     "name": "stderr",
     "output_type": "stream",
     "text": [
      " 80%|████████  | 800/1000 [01:35<00:24,  8.01it/s]"
     ]
    },
    {
     "name": "stdout",
     "output_type": "stream",
     "text": [
      "HoG shape is  (133956,)\n",
      "Processing img  818.jpeg\n",
      "HoG shape is  (133956,)\n",
      "Processing img  819.jpeg\n"
     ]
    },
    {
     "name": "stderr",
     "output_type": "stream",
     "text": [
      " 80%|████████  | 801/1000 [01:35<00:25,  7.83it/s]"
     ]
    },
    {
     "name": "stdout",
     "output_type": "stream",
     "text": [
      "HoG shape is  (133956,)\n",
      "Processing img  82.jpeg\n",
      "HoG shape is  (133956,)\n"
     ]
    },
    {
     "name": "stderr",
     "output_type": "stream",
     "text": [
      " 80%|████████  | 803/1000 [01:35<00:26,  7.56it/s]"
     ]
    },
    {
     "name": "stdout",
     "output_type": "stream",
     "text": [
      "Processing img  820.jpeg\n",
      "HoG shape is  (133956,)\n",
      "Processing img  821.jpeg\n",
      "HoG shape is  (133956,)\n",
      "Processing img  822.jpeg\n"
     ]
    },
    {
     "name": "stderr",
     "output_type": "stream",
     "text": [
      " 81%|████████  | 806/1000 [01:36<00:23,  8.18it/s]"
     ]
    },
    {
     "name": "stdout",
     "output_type": "stream",
     "text": [
      "HoG shape is  (133956,)\n",
      "Processing img  823.jpeg\n",
      "HoG shape is  (133956,)\n",
      "Processing img  824.jpeg\n"
     ]
    },
    {
     "name": "stderr",
     "output_type": "stream",
     "text": [
      " 81%|████████  | 809/1000 [01:36<00:21,  8.92it/s]"
     ]
    },
    {
     "name": "stdout",
     "output_type": "stream",
     "text": [
      "HoG shape is  (133956,)\n",
      "Processing img  825.jpeg\n",
      "HoG shape is  (133956,)\n",
      "Processing img  826.jpeg\n",
      "HoG shape is  (133956,)\n"
     ]
    },
    {
     "name": "stderr",
     "output_type": "stream",
     "text": [
      " 81%|████████  | 810/1000 [01:36<00:22,  8.59it/s]"
     ]
    },
    {
     "name": "stdout",
     "output_type": "stream",
     "text": [
      "Processing img  827.jpeg\n",
      "HoG shape is  (133956,)\n",
      "Processing img  828.jpeg\n"
     ]
    },
    {
     "name": "stderr",
     "output_type": "stream",
     "text": [
      " 81%|████████  | 812/1000 [01:36<00:23,  7.86it/s]"
     ]
    },
    {
     "name": "stdout",
     "output_type": "stream",
     "text": [
      "HoG shape is  (133956,)\n",
      "Processing img  829.jpeg\n",
      "HoG shape is  (133956,)\n",
      "Processing img  83.jpeg\n"
     ]
    },
    {
     "name": "stderr",
     "output_type": "stream",
     "text": [
      " 81%|████████▏ | 813/1000 [01:37<00:23,  7.89it/s]"
     ]
    },
    {
     "name": "stdout",
     "output_type": "stream",
     "text": [
      "HoG shape is  (133956,)\n",
      "Processing img  830.jpeg\n",
      "HoG shape is  (133956,)\n"
     ]
    },
    {
     "name": "stderr",
     "output_type": "stream",
     "text": [
      " 81%|████████▏ | 814/1000 [01:37<00:25,  7.16it/s]"
     ]
    },
    {
     "name": "stdout",
     "output_type": "stream",
     "text": [
      "Processing img  831.jpeg\n"
     ]
    },
    {
     "name": "stderr",
     "output_type": "stream",
     "text": [
      " 82%|████████▏ | 816/1000 [01:37<00:27,  6.66it/s]"
     ]
    },
    {
     "name": "stdout",
     "output_type": "stream",
     "text": [
      "HoG shape is  (133956,)\n",
      "Processing img  832.jpeg\n",
      "HoG shape is  (133956,)\n",
      "Processing img  833.jpeg\n"
     ]
    },
    {
     "name": "stderr",
     "output_type": "stream",
     "text": [
      " 82%|████████▏ | 819/1000 [01:37<00:21,  8.37it/s]"
     ]
    },
    {
     "name": "stdout",
     "output_type": "stream",
     "text": [
      "HoG shape is  (133956,)\n",
      "Processing img  834.jpeg\n",
      "HoG shape is  (133956,)\n",
      "Processing img  835.jpeg\n",
      "HoG shape is  (133956,)\n"
     ]
    },
    {
     "name": "stderr",
     "output_type": "stream",
     "text": [
      " 82%|████████▏ | 820/1000 [01:37<00:21,  8.51it/s]"
     ]
    },
    {
     "name": "stdout",
     "output_type": "stream",
     "text": [
      "Processing img  836.jpeg\n",
      "HoG shape is  (133956,)\n",
      "Processing img  837.jpeg\n"
     ]
    },
    {
     "name": "stderr",
     "output_type": "stream",
     "text": [
      " 82%|████████▏ | 822/1000 [01:38<00:20,  8.58it/s]"
     ]
    },
    {
     "name": "stdout",
     "output_type": "stream",
     "text": [
      "HoG shape is  (133956,)\n",
      "Processing img  838.jpeg\n",
      "HoG shape is  (133956,)\n",
      "Processing img  839.jpeg\n"
     ]
    },
    {
     "name": "stderr",
     "output_type": "stream",
     "text": [
      " 82%|████████▏ | 824/1000 [01:38<00:22,  7.85it/s]"
     ]
    },
    {
     "name": "stdout",
     "output_type": "stream",
     "text": [
      "HoG shape is  (133956,)\n",
      "Processing img  84.jpeg\n",
      "HoG shape is  (133956,)\n",
      "Processing img  840.jpeg\n"
     ]
    },
    {
     "name": "stderr",
     "output_type": "stream",
     "text": [
      " 83%|████████▎ | 826/1000 [01:38<00:21,  8.28it/s]"
     ]
    },
    {
     "name": "stdout",
     "output_type": "stream",
     "text": [
      "HoG shape is  (133956,)\n",
      "Processing img  841.jpeg\n",
      "HoG shape is  (133956,)\n",
      "Processing img  842.jpeg\n"
     ]
    },
    {
     "name": "stderr",
     "output_type": "stream",
     "text": [
      " 83%|████████▎ | 828/1000 [01:38<00:20,  8.50it/s]"
     ]
    },
    {
     "name": "stdout",
     "output_type": "stream",
     "text": [
      "HoG shape is  (133956,)\n",
      "Processing img  843.jpeg\n",
      "HoG shape is  (133956,)\n",
      "Processing img  844.jpeg\n"
     ]
    },
    {
     "name": "stderr",
     "output_type": "stream",
     "text": [
      " 83%|████████▎ | 830/1000 [01:39<00:19,  8.52it/s]"
     ]
    },
    {
     "name": "stdout",
     "output_type": "stream",
     "text": [
      "HoG shape is  (133956,)\n",
      "Processing img  845.jpeg\n",
      "HoG shape is  (133956,)\n",
      "Processing img  846.jpeg\n"
     ]
    },
    {
     "name": "stderr",
     "output_type": "stream",
     "text": [
      " 83%|████████▎ | 832/1000 [01:39<00:21,  7.72it/s]"
     ]
    },
    {
     "name": "stdout",
     "output_type": "stream",
     "text": [
      "HoG shape is  (133956,)\n",
      "Processing img  847.jpeg\n",
      "HoG shape is  (133956,)\n",
      "Processing img  848.jpeg\n"
     ]
    },
    {
     "name": "stderr",
     "output_type": "stream",
     "text": [
      " 83%|████████▎ | 834/1000 [01:39<00:26,  6.37it/s]"
     ]
    },
    {
     "name": "stdout",
     "output_type": "stream",
     "text": [
      "HoG shape is  (133956,)\n",
      "Processing img  849.jpeg\n",
      "HoG shape is  (133956,)\n",
      "Processing img  85.jpeg\n"
     ]
    },
    {
     "name": "stderr",
     "output_type": "stream",
     "text": [
      " 84%|████████▎ | 835/1000 [01:39<00:24,  6.63it/s]"
     ]
    },
    {
     "name": "stdout",
     "output_type": "stream",
     "text": [
      "HoG shape is  (133956,)\n",
      "Processing img  850.jpeg\n",
      "HoG shape is  (133956,)\n"
     ]
    },
    {
     "name": "stderr",
     "output_type": "stream",
     "text": [
      " 84%|████████▎ | 837/1000 [01:40<00:25,  6.34it/s]"
     ]
    },
    {
     "name": "stdout",
     "output_type": "stream",
     "text": [
      "Processing img  851.jpeg\n",
      "HoG shape is  (133956,)\n",
      "Processing img  852.jpeg\n"
     ]
    },
    {
     "name": "stderr",
     "output_type": "stream",
     "text": [
      " 84%|████████▍ | 838/1000 [01:40<00:24,  6.71it/s]"
     ]
    },
    {
     "name": "stdout",
     "output_type": "stream",
     "text": [
      "HoG shape is  (133956,)\n",
      "Processing img  853.jpeg\n",
      "HoG shape is  (133956,)\n"
     ]
    },
    {
     "name": "stderr",
     "output_type": "stream",
     "text": [
      " 84%|████████▍ | 840/1000 [01:40<00:26,  6.02it/s]"
     ]
    },
    {
     "name": "stdout",
     "output_type": "stream",
     "text": [
      "Processing img  854.jpeg\n",
      "HoG shape is  (133956,)\n",
      "Processing img  855.jpeg\n"
     ]
    },
    {
     "name": "stderr",
     "output_type": "stream",
     "text": [
      " 84%|████████▍ | 841/1000 [01:40<00:25,  6.14it/s]"
     ]
    },
    {
     "name": "stdout",
     "output_type": "stream",
     "text": [
      "HoG shape is  (133956,)\n",
      "Processing img  856.jpeg\n",
      "HoG shape is  (133956,)\n"
     ]
    },
    {
     "name": "stderr",
     "output_type": "stream",
     "text": [
      " 84%|████████▍ | 843/1000 [01:41<00:24,  6.36it/s]"
     ]
    },
    {
     "name": "stdout",
     "output_type": "stream",
     "text": [
      "Processing img  857.jpeg\n",
      "HoG shape is  (133956,)\n",
      "Processing img  858.jpeg\n"
     ]
    },
    {
     "name": "stderr",
     "output_type": "stream",
     "text": [
      " 84%|████████▍ | 845/1000 [01:41<00:20,  7.51it/s]"
     ]
    },
    {
     "name": "stdout",
     "output_type": "stream",
     "text": [
      "HoG shape is  (133956,)\n",
      "Processing img  859.jpeg\n",
      "HoG shape is  (133956,)\n",
      "Processing img  86.jpeg\n"
     ]
    },
    {
     "name": "stderr",
     "output_type": "stream",
     "text": [
      " 85%|████████▍ | 848/1000 [01:41<00:17,  8.74it/s]"
     ]
    },
    {
     "name": "stdout",
     "output_type": "stream",
     "text": [
      "HoG shape is  (133956,)\n",
      "Processing img  860.jpeg\n",
      "HoG shape is  (133956,)\n",
      "Processing img  861.jpeg\n",
      "HoG shape is  (133956,)\n"
     ]
    },
    {
     "name": "stderr",
     "output_type": "stream",
     "text": [
      " 85%|████████▍ | 849/1000 [01:41<00:17,  8.78it/s]"
     ]
    },
    {
     "name": "stdout",
     "output_type": "stream",
     "text": [
      "Processing img  862.jpeg\n",
      "HoG shape is  (133956,)\n",
      "Processing img  863.jpeg\n"
     ]
    },
    {
     "name": "stderr",
     "output_type": "stream",
     "text": [
      " 85%|████████▌ | 851/1000 [01:42<00:17,  8.65it/s]"
     ]
    },
    {
     "name": "stdout",
     "output_type": "stream",
     "text": [
      "HoG shape is  (133956,)\n",
      "Processing img  864.jpeg\n",
      "HoG shape is  (133956,)\n",
      "Processing img  865.jpeg\n"
     ]
    },
    {
     "name": "stderr",
     "output_type": "stream",
     "text": [
      " 85%|████████▌ | 853/1000 [01:42<00:18,  8.05it/s]"
     ]
    },
    {
     "name": "stdout",
     "output_type": "stream",
     "text": [
      "HoG shape is  (133956,)\n",
      "Processing img  866.jpeg\n",
      "HoG shape is  (133956,)\n",
      "Processing img  867.jpeg\n"
     ]
    },
    {
     "name": "stderr",
     "output_type": "stream",
     "text": [
      " 86%|████████▌ | 855/1000 [01:42<00:19,  7.33it/s]"
     ]
    },
    {
     "name": "stdout",
     "output_type": "stream",
     "text": [
      "HoG shape is  (133956,)\n",
      "Processing img  868.jpeg\n",
      "HoG shape is  (133956,)\n",
      "Processing img  869.jpeg\n"
     ]
    },
    {
     "name": "stderr",
     "output_type": "stream",
     "text": [
      " 86%|████████▌ | 856/1000 [01:42<00:26,  5.37it/s]"
     ]
    },
    {
     "name": "stdout",
     "output_type": "stream",
     "text": [
      "HoG shape is  (133956,)\n",
      "Processing img  87.jpeg\n"
     ]
    },
    {
     "name": "stderr",
     "output_type": "stream",
     "text": [
      " 86%|████████▌ | 858/1000 [01:43<00:27,  5.19it/s]"
     ]
    },
    {
     "name": "stdout",
     "output_type": "stream",
     "text": [
      "HoG shape is  (133956,)\n",
      "Processing img  870.jpeg\n",
      "HoG shape is  (133956,)\n",
      "Processing img  871.jpeg\n"
     ]
    },
    {
     "name": "stderr",
     "output_type": "stream",
     "text": [
      " 86%|████████▌ | 860/1000 [01:43<00:24,  5.81it/s]"
     ]
    },
    {
     "name": "stdout",
     "output_type": "stream",
     "text": [
      "HoG shape is  (133956,)\n",
      "Processing img  872.jpeg\n",
      "HoG shape is  (133956,)\n",
      "Processing img  873.jpeg\n"
     ]
    },
    {
     "name": "stderr",
     "output_type": "stream",
     "text": [
      " 86%|████████▌ | 862/1000 [01:43<00:20,  6.87it/s]"
     ]
    },
    {
     "name": "stdout",
     "output_type": "stream",
     "text": [
      "HoG shape is  (133956,)\n",
      "Processing img  874.jpeg\n",
      "HoG shape is  (133956,)\n",
      "Processing img  875.jpeg\n"
     ]
    },
    {
     "name": "stderr",
     "output_type": "stream",
     "text": [
      " 86%|████████▋ | 864/1000 [01:44<00:17,  7.83it/s]"
     ]
    },
    {
     "name": "stdout",
     "output_type": "stream",
     "text": [
      "HoG shape is  (133956,)\n",
      "Processing img  876.jpeg\n",
      "HoG shape is  (133956,)\n",
      "Processing img  877.jpeg\n",
      "HoG shape is  (133956,)\n",
      "Processing img  878.jpeg\n"
     ]
    },
    {
     "name": "stderr",
     "output_type": "stream",
     "text": [
      " 87%|████████▋ | 867/1000 [01:44<00:15,  8.78it/s]"
     ]
    },
    {
     "name": "stdout",
     "output_type": "stream",
     "text": [
      "HoG shape is  (133956,)\n",
      "Processing img  879.jpeg\n",
      "HoG shape is  (133956,)\n",
      "Processing img  88.jpeg\n",
      "HoG shape is  (133956,)\n",
      "Processing img  880.jpeg\n"
     ]
    },
    {
     "name": "stderr",
     "output_type": "stream",
     "text": [
      " 87%|████████▋ | 870/1000 [01:44<00:14,  9.11it/s]"
     ]
    },
    {
     "name": "stdout",
     "output_type": "stream",
     "text": [
      "HoG shape is  (133956,)\n",
      "Processing img  881.jpeg\n",
      "HoG shape is  (133956,)\n",
      "Processing img  882.jpeg\n",
      "HoG shape is  (133956,)\n",
      "Processing img  883.jpeg\n"
     ]
    },
    {
     "name": "stderr",
     "output_type": "stream",
     "text": [
      " 87%|████████▋ | 873/1000 [01:45<00:13,  9.52it/s]"
     ]
    },
    {
     "name": "stdout",
     "output_type": "stream",
     "text": [
      "HoG shape is  (133956,)\n",
      "Processing img  884.jpeg\n",
      "HoG shape is  (133956,)\n",
      "Processing img  885.jpeg\n",
      "HoG shape is  (133956,)\n",
      "Processing img  886.jpeg\n"
     ]
    },
    {
     "name": "stderr",
     "output_type": "stream",
     "text": [
      " 88%|████████▊ | 876/1000 [01:45<00:13,  9.53it/s]"
     ]
    },
    {
     "name": "stdout",
     "output_type": "stream",
     "text": [
      "HoG shape is  (133956,)\n",
      "Processing img  887.jpeg\n",
      "HoG shape is  (133956,)\n",
      "Processing img  888.jpeg\n"
     ]
    },
    {
     "name": "stderr",
     "output_type": "stream",
     "text": [
      " 88%|████████▊ | 878/1000 [01:45<00:13,  9.19it/s]"
     ]
    },
    {
     "name": "stdout",
     "output_type": "stream",
     "text": [
      "HoG shape is  (133956,)\n",
      "Processing img  889.jpeg\n",
      "HoG shape is  (133956,)\n",
      "Processing img  89.jpeg\n"
     ]
    },
    {
     "name": "stderr",
     "output_type": "stream",
     "text": [
      " 88%|████████▊ | 879/1000 [01:45<00:14,  8.57it/s]"
     ]
    },
    {
     "name": "stdout",
     "output_type": "stream",
     "text": [
      "HoG shape is  (133956,)\n",
      "Processing img  890.jpeg\n"
     ]
    },
    {
     "name": "stderr",
     "output_type": "stream",
     "text": [
      " 88%|████████▊ | 881/1000 [01:46<00:16,  7.31it/s]"
     ]
    },
    {
     "name": "stdout",
     "output_type": "stream",
     "text": [
      "HoG shape is  (133956,)\n",
      "Processing img  891.jpeg\n",
      "HoG shape is  (133956,)\n",
      "Processing img  892.jpeg\n"
     ]
    },
    {
     "name": "stderr",
     "output_type": "stream",
     "text": [
      " 88%|████████▊ | 883/1000 [01:46<00:14,  7.90it/s]"
     ]
    },
    {
     "name": "stdout",
     "output_type": "stream",
     "text": [
      "HoG shape is  (133956,)\n",
      "Processing img  893.jpeg\n",
      "HoG shape is  (133956,)\n",
      "Processing img  894.jpeg\n"
     ]
    },
    {
     "name": "stderr",
     "output_type": "stream",
     "text": [
      " 88%|████████▊ | 885/1000 [01:46<00:13,  8.48it/s]"
     ]
    },
    {
     "name": "stdout",
     "output_type": "stream",
     "text": [
      "HoG shape is  (133956,)\n",
      "Processing img  895.jpeg\n",
      "HoG shape is  (133956,)\n",
      "Processing img  896.jpeg\n",
      "HoG shape is  (133956,)\n",
      "Processing img  897.jpeg\n"
     ]
    },
    {
     "name": "stderr",
     "output_type": "stream",
     "text": [
      " 89%|████████▉ | 888/1000 [01:46<00:12,  9.01it/s]"
     ]
    },
    {
     "name": "stdout",
     "output_type": "stream",
     "text": [
      "HoG shape is  (133956,)\n",
      "Processing img  898.jpeg\n",
      "HoG shape is  (133956,)\n",
      "Processing img  899.jpeg\n",
      "HoG shape is  (133956,)\n",
      "Processing img  9.jpeg\n"
     ]
    },
    {
     "name": "stderr",
     "output_type": "stream",
     "text": [
      " 89%|████████▉ | 892/1000 [01:47<00:11,  9.74it/s]"
     ]
    },
    {
     "name": "stdout",
     "output_type": "stream",
     "text": [
      "HoG shape is  (133956,)\n",
      "Processing img  90.jpeg\n",
      "HoG shape is  (133956,)\n",
      "Processing img  900.jpeg\n",
      "HoG shape is  (133956,)\n"
     ]
    },
    {
     "name": "stderr",
     "output_type": "stream",
     "text": [
      " 89%|████████▉ | 893/1000 [01:47<00:11,  9.46it/s]"
     ]
    },
    {
     "name": "stdout",
     "output_type": "stream",
     "text": [
      "Processing img  901.jpeg\n",
      "HoG shape is  (133956,)\n",
      "Processing img  902.jpeg\n"
     ]
    },
    {
     "name": "stderr",
     "output_type": "stream",
     "text": [
      " 90%|████████▉ | 895/1000 [01:47<00:12,  8.73it/s]"
     ]
    },
    {
     "name": "stdout",
     "output_type": "stream",
     "text": [
      "HoG shape is  (133956,)\n",
      "Processing img  903.jpeg\n",
      "HoG shape is  (133956,)\n",
      "Processing img  904.jpeg\n"
     ]
    },
    {
     "name": "stderr",
     "output_type": "stream",
     "text": [
      " 90%|████████▉ | 897/1000 [01:47<00:12,  8.40it/s]"
     ]
    },
    {
     "name": "stdout",
     "output_type": "stream",
     "text": [
      "HoG shape is  (133956,)\n",
      "Processing img  905.jpeg\n",
      "HoG shape is  (133956,)\n",
      "Processing img  906.jpeg\n",
      "HoG shape is  (133956,)\n",
      "Processing img  907.jpeg\n",
      "HoG shape is  (133956,)\n"
     ]
    },
    {
     "name": "stderr",
     "output_type": "stream",
     "text": [
      " 90%|█████████ | 900/1000 [01:48<00:14,  7.12it/s]"
     ]
    },
    {
     "name": "stdout",
     "output_type": "stream",
     "text": [
      "Processing img  908.jpeg\n",
      "HoG shape is  (133956,)\n",
      "Processing img  909.jpeg\n"
     ]
    },
    {
     "name": "stderr",
     "output_type": "stream",
     "text": [
      " 90%|█████████ | 902/1000 [01:48<00:13,  7.53it/s]"
     ]
    },
    {
     "name": "stdout",
     "output_type": "stream",
     "text": [
      "HoG shape is  (133956,)\n",
      "Processing img  91.jpeg\n",
      "HoG shape is  (133956,)\n",
      "Processing img  910.jpeg\n"
     ]
    },
    {
     "name": "stderr",
     "output_type": "stream",
     "text": [
      " 90%|█████████ | 904/1000 [01:48<00:12,  7.80it/s]"
     ]
    },
    {
     "name": "stdout",
     "output_type": "stream",
     "text": [
      "HoG shape is  (133956,)\n",
      "Processing img  911.jpeg\n",
      "HoG shape is  (133956,)\n",
      "Processing img  912.jpeg\n"
     ]
    },
    {
     "name": "stderr",
     "output_type": "stream",
     "text": [
      " 91%|█████████ | 906/1000 [01:49<00:12,  7.64it/s]"
     ]
    },
    {
     "name": "stdout",
     "output_type": "stream",
     "text": [
      "HoG shape is  (133956,)\n",
      "Processing img  913.jpeg\n",
      "HoG shape is  (133956,)\n",
      "Processing img  914.jpeg\n"
     ]
    },
    {
     "name": "stderr",
     "output_type": "stream",
     "text": [
      " 91%|█████████ | 908/1000 [01:49<00:12,  7.60it/s]"
     ]
    },
    {
     "name": "stdout",
     "output_type": "stream",
     "text": [
      "HoG shape is  (133956,)\n",
      "Processing img  915.jpeg\n",
      "HoG shape is  (133956,)\n",
      "Processing img  916.jpeg\n"
     ]
    },
    {
     "name": "stderr",
     "output_type": "stream",
     "text": [
      " 91%|█████████ | 910/1000 [01:49<00:11,  8.09it/s]"
     ]
    },
    {
     "name": "stdout",
     "output_type": "stream",
     "text": [
      "HoG shape is  (133956,)\n",
      "Processing img  917.jpeg\n",
      "HoG shape is  (133956,)\n",
      "Processing img  918.jpeg\n"
     ]
    },
    {
     "name": "stderr",
     "output_type": "stream",
     "text": [
      " 91%|█████████ | 912/1000 [01:49<00:11,  7.95it/s]"
     ]
    },
    {
     "name": "stdout",
     "output_type": "stream",
     "text": [
      "HoG shape is  (133956,)\n",
      "Processing img  919.jpeg\n",
      "HoG shape is  (133956,)\n",
      "Processing img  92.jpeg\n"
     ]
    },
    {
     "name": "stderr",
     "output_type": "stream",
     "text": [
      " 91%|█████████▏| 914/1000 [01:50<00:10,  7.98it/s]"
     ]
    },
    {
     "name": "stdout",
     "output_type": "stream",
     "text": [
      "HoG shape is  (133956,)\n",
      "Processing img  920.jpeg\n",
      "HoG shape is  (133956,)\n",
      "Processing img  921.jpeg\n"
     ]
    },
    {
     "name": "stderr",
     "output_type": "stream",
     "text": [
      " 92%|█████████▏| 916/1000 [01:50<00:09,  8.57it/s]"
     ]
    },
    {
     "name": "stdout",
     "output_type": "stream",
     "text": [
      "HoG shape is  (133956,)\n",
      "Processing img  922.jpeg\n",
      "HoG shape is  (133956,)\n",
      "Processing img  923.jpeg\n"
     ]
    },
    {
     "name": "stderr",
     "output_type": "stream",
     "text": [
      " 92%|█████████▏| 918/1000 [01:50<00:09,  8.98it/s]"
     ]
    },
    {
     "name": "stdout",
     "output_type": "stream",
     "text": [
      "HoG shape is  (133956,)\n",
      "Processing img  924.jpeg\n",
      "HoG shape is  (133956,)\n",
      "Processing img  925.jpeg\n",
      "HoG shape is  (133956,)\n",
      "Processing img  926.jpeg\n"
     ]
    },
    {
     "name": "stderr",
     "output_type": "stream",
     "text": [
      " 92%|█████████▏| 921/1000 [01:50<00:08,  9.42it/s]"
     ]
    },
    {
     "name": "stdout",
     "output_type": "stream",
     "text": [
      "HoG shape is  (133956,)\n",
      "Processing img  927.jpeg\n",
      "HoG shape is  (133956,)\n",
      "Processing img  928.jpeg\n",
      "HoG shape is  (133956,)\n",
      "Processing img  929.jpeg\n"
     ]
    },
    {
     "name": "stderr",
     "output_type": "stream",
     "text": [
      " 92%|█████████▏| 924/1000 [01:51<00:09,  7.80it/s]"
     ]
    },
    {
     "name": "stdout",
     "output_type": "stream",
     "text": [
      "HoG shape is  (133956,)\n",
      "Processing img  93.jpeg\n",
      "HoG shape is  (133956,)\n",
      "Processing img  930.jpeg\n"
     ]
    },
    {
     "name": "stderr",
     "output_type": "stream",
     "text": [
      " 93%|█████████▎| 926/1000 [01:51<00:09,  8.18it/s]"
     ]
    },
    {
     "name": "stdout",
     "output_type": "stream",
     "text": [
      "HoG shape is  (133956,)\n",
      "Processing img  931.jpeg\n",
      "HoG shape is  (133956,)\n",
      "Processing img  932.jpeg\n"
     ]
    },
    {
     "name": "stderr",
     "output_type": "stream",
     "text": [
      " 93%|█████████▎| 928/1000 [01:51<00:09,  7.80it/s]"
     ]
    },
    {
     "name": "stdout",
     "output_type": "stream",
     "text": [
      "HoG shape is  (133956,)\n",
      "Processing img  933.jpeg\n",
      "HoG shape is  (133956,)\n",
      "Processing img  934.jpeg\n"
     ]
    },
    {
     "name": "stderr",
     "output_type": "stream",
     "text": [
      " 93%|█████████▎| 929/1000 [01:51<00:08,  8.26it/s]"
     ]
    },
    {
     "name": "stdout",
     "output_type": "stream",
     "text": [
      "HoG shape is  (133956,)\n",
      "Processing img  935.jpeg\n",
      "HoG shape is  (133956,)\n"
     ]
    },
    {
     "name": "stderr",
     "output_type": "stream",
     "text": [
      " 93%|█████████▎| 931/1000 [01:52<00:10,  6.37it/s]"
     ]
    },
    {
     "name": "stdout",
     "output_type": "stream",
     "text": [
      "Processing img  936.jpeg\n",
      "HoG shape is  (133956,)\n"
     ]
    },
    {
     "name": "stderr",
     "output_type": "stream",
     "text": [
      " 93%|█████████▎| 932/1000 [01:52<00:10,  6.52it/s]"
     ]
    },
    {
     "name": "stdout",
     "output_type": "stream",
     "text": [
      "Processing img  937.jpeg\n",
      "HoG shape is  (133956,)\n",
      "Processing img  938.jpeg\n"
     ]
    },
    {
     "name": "stderr",
     "output_type": "stream",
     "text": [
      " 93%|█████████▎| 934/1000 [01:52<00:08,  7.37it/s]"
     ]
    },
    {
     "name": "stdout",
     "output_type": "stream",
     "text": [
      "HoG shape is  (133956,)\n",
      "Processing img  939.jpeg\n",
      "HoG shape is  (133956,)\n",
      "Processing img  94.jpeg\n",
      "HoG shape is  (133956,)\n",
      "Processing img  940.jpeg\n"
     ]
    },
    {
     "name": "stderr",
     "output_type": "stream",
     "text": [
      " 94%|█████████▎| 937/1000 [01:53<00:08,  7.30it/s]"
     ]
    },
    {
     "name": "stdout",
     "output_type": "stream",
     "text": [
      "HoG shape is  (133956,)\n",
      "Processing img  941.jpeg\n",
      "HoG shape is  (133956,)\n",
      "Processing img  942.jpeg\n"
     ]
    },
    {
     "name": "stderr",
     "output_type": "stream",
     "text": [
      " 94%|█████████▍| 939/1000 [01:53<00:08,  6.94it/s]"
     ]
    },
    {
     "name": "stdout",
     "output_type": "stream",
     "text": [
      "HoG shape is  (133956,)\n",
      "Processing img  943.jpeg\n",
      "HoG shape is  (133956,)\n",
      "Processing img  944.jpeg\n"
     ]
    },
    {
     "name": "stderr",
     "output_type": "stream",
     "text": [
      " 94%|█████████▍| 940/1000 [01:53<00:07,  7.58it/s]"
     ]
    },
    {
     "name": "stdout",
     "output_type": "stream",
     "text": [
      "HoG shape is  (133956,)\n",
      "Processing img  945.jpeg\n",
      "HoG shape is  (133956,)\n",
      "Processing img  946.jpeg\n",
      "HoG shape is  (133956,)\n"
     ]
    },
    {
     "name": "stderr",
     "output_type": "stream",
     "text": [
      " 94%|█████████▍| 943/1000 [01:53<00:06,  8.75it/s]"
     ]
    },
    {
     "name": "stdout",
     "output_type": "stream",
     "text": [
      "Processing img  947.jpeg\n",
      "HoG shape is  (133956,)\n",
      "Processing img  948.jpeg\n",
      "HoG shape is  (133956,)\n",
      "Processing img  949.jpeg\n"
     ]
    },
    {
     "name": "stderr",
     "output_type": "stream",
     "text": [
      " 95%|█████████▍| 946/1000 [01:54<00:05,  9.46it/s]"
     ]
    },
    {
     "name": "stdout",
     "output_type": "stream",
     "text": [
      "HoG shape is  (133956,)\n",
      "Processing img  95.jpeg\n",
      "HoG shape is  (133956,)\n",
      "Processing img  950.jpeg\n",
      "HoG shape is  (133956,)\n",
      "Processing img  951.jpeg\n"
     ]
    },
    {
     "name": "stderr",
     "output_type": "stream",
     "text": [
      " 95%|█████████▍| 949/1000 [01:54<00:06,  7.67it/s]"
     ]
    },
    {
     "name": "stdout",
     "output_type": "stream",
     "text": [
      "HoG shape is  (133956,)\n",
      "Processing img  952.jpeg\n",
      "HoG shape is  (133956,)\n",
      "Processing img  953.jpeg\n"
     ]
    },
    {
     "name": "stderr",
     "output_type": "stream",
     "text": [
      " 95%|█████████▌| 951/1000 [01:54<00:06,  7.68it/s]"
     ]
    },
    {
     "name": "stdout",
     "output_type": "stream",
     "text": [
      "HoG shape is  (133956,)\n",
      "Processing img  954.jpeg\n",
      "HoG shape is  (133956,)\n",
      "Processing img  955.jpeg\n"
     ]
    },
    {
     "name": "stderr",
     "output_type": "stream",
     "text": [
      " 95%|█████████▌| 953/1000 [01:54<00:05,  8.22it/s]"
     ]
    },
    {
     "name": "stdout",
     "output_type": "stream",
     "text": [
      "HoG shape is  (133956,)\n",
      "Processing img  956.jpeg\n",
      "HoG shape is  (133956,)\n",
      "Processing img  957.jpeg\n"
     ]
    },
    {
     "name": "stderr",
     "output_type": "stream",
     "text": [
      " 96%|█████████▌| 955/1000 [01:55<00:05,  7.87it/s]"
     ]
    },
    {
     "name": "stdout",
     "output_type": "stream",
     "text": [
      "HoG shape is  (133956,)\n",
      "Processing img  958.jpeg\n",
      "HoG shape is  (133956,)\n",
      "Processing img  959.jpeg\n"
     ]
    },
    {
     "name": "stderr",
     "output_type": "stream",
     "text": [
      " 96%|█████████▌| 956/1000 [01:55<00:05,  7.54it/s]"
     ]
    },
    {
     "name": "stdout",
     "output_type": "stream",
     "text": [
      "HoG shape is  (133956,)\n",
      "Processing img  96.jpeg\n"
     ]
    },
    {
     "name": "stderr",
     "output_type": "stream",
     "text": [
      " 96%|█████████▌| 957/1000 [01:55<00:06,  6.18it/s]"
     ]
    },
    {
     "name": "stdout",
     "output_type": "stream",
     "text": [
      "HoG shape is  (133956,)\n",
      "Processing img  960.jpeg\n"
     ]
    },
    {
     "name": "stderr",
     "output_type": "stream",
     "text": [
      " 96%|█████████▌| 959/1000 [01:55<00:07,  5.85it/s]"
     ]
    },
    {
     "name": "stdout",
     "output_type": "stream",
     "text": [
      "HoG shape is  (133956,)\n",
      "Processing img  961.jpeg\n",
      "HoG shape is  (133956,)\n",
      "Processing img  962.jpeg\n"
     ]
    },
    {
     "name": "stderr",
     "output_type": "stream",
     "text": [
      " 96%|█████████▌| 961/1000 [01:56<00:05,  6.54it/s]"
     ]
    },
    {
     "name": "stdout",
     "output_type": "stream",
     "text": [
      "HoG shape is  (133956,)\n",
      "Processing img  963.jpeg\n",
      "HoG shape is  (133956,)\n",
      "Processing img  964.jpeg\n"
     ]
    },
    {
     "name": "stderr",
     "output_type": "stream",
     "text": [
      " 96%|█████████▋| 963/1000 [01:56<00:04,  7.40it/s]"
     ]
    },
    {
     "name": "stdout",
     "output_type": "stream",
     "text": [
      "HoG shape is  (133956,)\n",
      "Processing img  965.jpeg\n",
      "HoG shape is  (133956,)\n",
      "Processing img  966.jpeg\n"
     ]
    },
    {
     "name": "stderr",
     "output_type": "stream",
     "text": [
      " 96%|█████████▋| 965/1000 [01:56<00:04,  8.09it/s]"
     ]
    },
    {
     "name": "stdout",
     "output_type": "stream",
     "text": [
      "HoG shape is  (133956,)\n",
      "Processing img  967.jpeg\n",
      "HoG shape is  (133956,)\n",
      "Processing img  968.jpeg\n"
     ]
    },
    {
     "name": "stderr",
     "output_type": "stream",
     "text": [
      " 97%|█████████▋| 967/1000 [01:57<00:05,  6.31it/s]"
     ]
    },
    {
     "name": "stdout",
     "output_type": "stream",
     "text": [
      "HoG shape is  (133956,)\n",
      "Processing img  969.jpeg\n",
      "HoG shape is  (133956,)\n",
      "Processing img  97.jpeg\n"
     ]
    },
    {
     "name": "stderr",
     "output_type": "stream",
     "text": [
      " 97%|█████████▋| 969/1000 [01:57<00:04,  6.34it/s]"
     ]
    },
    {
     "name": "stdout",
     "output_type": "stream",
     "text": [
      "HoG shape is  (133956,)\n",
      "Processing img  970.jpeg\n",
      "HoG shape is  (133956,)\n",
      "Processing img  971.jpeg\n"
     ]
    },
    {
     "name": "stderr",
     "output_type": "stream",
     "text": [
      " 97%|█████████▋| 971/1000 [01:57<00:04,  7.00it/s]"
     ]
    },
    {
     "name": "stdout",
     "output_type": "stream",
     "text": [
      "HoG shape is  (133956,)\n",
      "Processing img  972.jpeg\n",
      "HoG shape is  (133956,)\n",
      "Processing img  973.jpeg\n"
     ]
    },
    {
     "name": "stderr",
     "output_type": "stream",
     "text": [
      " 97%|█████████▋| 973/1000 [01:57<00:03,  7.19it/s]"
     ]
    },
    {
     "name": "stdout",
     "output_type": "stream",
     "text": [
      "HoG shape is  (133956,)\n",
      "Processing img  974.jpeg\n",
      "HoG shape is  (133956,)\n",
      "Processing img  975.jpeg\n"
     ]
    },
    {
     "name": "stderr",
     "output_type": "stream",
     "text": [
      " 97%|█████████▋| 974/1000 [01:58<00:03,  7.24it/s]"
     ]
    },
    {
     "name": "stdout",
     "output_type": "stream",
     "text": [
      "HoG shape is  (133956,)\n",
      "Processing img  976.jpeg\n"
     ]
    },
    {
     "name": "stderr",
     "output_type": "stream",
     "text": [
      " 98%|█████████▊| 975/1000 [01:58<00:03,  6.33it/s]"
     ]
    },
    {
     "name": "stdout",
     "output_type": "stream",
     "text": [
      "HoG shape is  (133956,)\n",
      "Processing img  977.jpeg\n"
     ]
    },
    {
     "name": "stderr",
     "output_type": "stream",
     "text": [
      " 98%|█████████▊| 976/1000 [01:58<00:04,  5.55it/s]"
     ]
    },
    {
     "name": "stdout",
     "output_type": "stream",
     "text": [
      "HoG shape is  (133956,)\n",
      "Processing img  978.jpeg\n"
     ]
    },
    {
     "name": "stderr",
     "output_type": "stream",
     "text": [
      " 98%|█████████▊| 978/1000 [01:58<00:03,  5.75it/s]"
     ]
    },
    {
     "name": "stdout",
     "output_type": "stream",
     "text": [
      "HoG shape is  (133956,)\n",
      "Processing img  979.jpeg\n",
      "HoG shape is  (133956,)\n",
      "Processing img  98.jpeg\n"
     ]
    },
    {
     "name": "stderr",
     "output_type": "stream",
     "text": [
      " 98%|█████████▊| 980/1000 [01:59<00:04,  4.80it/s]"
     ]
    },
    {
     "name": "stdout",
     "output_type": "stream",
     "text": [
      "HoG shape is  (133956,)\n",
      "Processing img  980.jpeg\n",
      "HoG shape is  (133956,)\n",
      "Processing img  981.jpeg\n"
     ]
    },
    {
     "name": "stderr",
     "output_type": "stream",
     "text": [
      " 98%|█████████▊| 981/1000 [01:59<00:03,  5.39it/s]"
     ]
    },
    {
     "name": "stdout",
     "output_type": "stream",
     "text": [
      "HoG shape is  (133956,)\n",
      "Processing img  982.jpeg\n"
     ]
    },
    {
     "name": "stderr",
     "output_type": "stream",
     "text": [
      " 98%|█████████▊| 983/1000 [01:59<00:03,  5.19it/s]"
     ]
    },
    {
     "name": "stdout",
     "output_type": "stream",
     "text": [
      "HoG shape is  (133956,)\n",
      "Processing img  983.jpeg\n",
      "HoG shape is  (133956,)\n",
      "Processing img  984.jpeg\n"
     ]
    },
    {
     "name": "stderr",
     "output_type": "stream",
     "text": [
      " 98%|█████████▊| 985/1000 [02:00<00:02,  6.05it/s]"
     ]
    },
    {
     "name": "stdout",
     "output_type": "stream",
     "text": [
      "HoG shape is  (133956,)\n",
      "Processing img  985.jpeg\n",
      "HoG shape is  (133956,)\n",
      "Processing img  986.jpeg\n"
     ]
    },
    {
     "name": "stderr",
     "output_type": "stream",
     "text": [
      " 99%|█████████▊| 987/1000 [02:00<00:02,  6.39it/s]"
     ]
    },
    {
     "name": "stdout",
     "output_type": "stream",
     "text": [
      "HoG shape is  (133956,)\n",
      "Processing img  987.jpeg\n",
      "HoG shape is  (133956,)\n",
      "Processing img  988.jpeg\n"
     ]
    },
    {
     "name": "stderr",
     "output_type": "stream",
     "text": [
      " 99%|█████████▉| 988/1000 [02:00<00:02,  5.67it/s]"
     ]
    },
    {
     "name": "stdout",
     "output_type": "stream",
     "text": [
      "HoG shape is  (133956,)\n",
      "Processing img  989.jpeg\n"
     ]
    },
    {
     "name": "stderr",
     "output_type": "stream",
     "text": [
      " 99%|█████████▉| 989/1000 [02:00<00:02,  5.26it/s]"
     ]
    },
    {
     "name": "stdout",
     "output_type": "stream",
     "text": [
      "HoG shape is  (133956,)\n",
      "Processing img  99.jpeg\n",
      "HoG shape is  (133956,)\n"
     ]
    },
    {
     "name": "stderr",
     "output_type": "stream",
     "text": [
      " 99%|█████████▉| 991/1000 [02:01<00:01,  5.85it/s]"
     ]
    },
    {
     "name": "stdout",
     "output_type": "stream",
     "text": [
      "Processing img  990.jpeg\n",
      "HoG shape is  (133956,)\n",
      "Processing img  991.jpeg\n"
     ]
    },
    {
     "name": "stderr",
     "output_type": "stream",
     "text": [
      " 99%|█████████▉| 993/1000 [02:01<00:01,  6.22it/s]"
     ]
    },
    {
     "name": "stdout",
     "output_type": "stream",
     "text": [
      "HoG shape is  (133956,)\n",
      "Processing img  992.jpeg\n",
      "HoG shape is  (133956,)\n",
      "Processing img  993.jpeg\n"
     ]
    },
    {
     "name": "stderr",
     "output_type": "stream",
     "text": [
      "100%|█████████▉| 995/1000 [02:01<00:00,  7.19it/s]"
     ]
    },
    {
     "name": "stdout",
     "output_type": "stream",
     "text": [
      "HoG shape is  (133956,)\n",
      "Processing img  994.jpeg\n",
      "HoG shape is  (133956,)\n",
      "Processing img  995.jpeg\n",
      "HoG shape is  (133956,)\n",
      "Processing img  996.jpeg\n"
     ]
    },
    {
     "name": "stderr",
     "output_type": "stream",
     "text": [
      "100%|█████████▉| 998/1000 [02:02<00:00,  7.97it/s]"
     ]
    },
    {
     "name": "stdout",
     "output_type": "stream",
     "text": [
      "HoG shape is  (133956,)\n",
      "Processing img  997.jpeg\n",
      "HoG shape is  (133956,)\n",
      "Processing img  998.jpeg\n"
     ]
    },
    {
     "name": "stderr",
     "output_type": "stream",
     "text": [
      "100%|██████████| 1000/1000 [02:02<00:00,  8.17it/s]\n"
     ]
    },
    {
     "name": "stdout",
     "output_type": "stream",
     "text": [
      "HoG shape is  (133956,)\n",
      "Processing img  999.jpeg\n",
      "HoG shape is  (133956,)\n",
      "Processing font type  Scheherazade New\n"
     ]
    },
    {
     "name": "stderr",
     "output_type": "stream",
     "text": [
      "  0%|          | 0/1000 [00:00<?, ?it/s]"
     ]
    },
    {
     "name": "stdout",
     "output_type": "stream",
     "text": [
      "Processing img  0.jpeg\n"
     ]
    },
    {
     "name": "stderr",
     "output_type": "stream",
     "text": [
      "  0%|          | 1/1000 [00:00<04:19,  3.85it/s]"
     ]
    },
    {
     "name": "stdout",
     "output_type": "stream",
     "text": [
      "HoG shape is  (133956,)\n",
      "Processing img  1.jpeg\n",
      "HoG shape is  (133956,)\n"
     ]
    },
    {
     "name": "stderr",
     "output_type": "stream",
     "text": [
      "  0%|          | 3/1000 [00:00<03:32,  4.70it/s]"
     ]
    },
    {
     "name": "stdout",
     "output_type": "stream",
     "text": [
      "Processing img  10.jpeg\n",
      "HoG shape is  (133956,)\n",
      "Processing img  100.jpeg\n"
     ]
    },
    {
     "name": "stderr",
     "output_type": "stream",
     "text": [
      "  0%|          | 5/1000 [00:01<03:22,  4.92it/s]"
     ]
    },
    {
     "name": "stdout",
     "output_type": "stream",
     "text": [
      "HoG shape is  (133956,)\n",
      "Processing img  101.jpeg\n",
      "HoG shape is  (133956,)\n",
      "Processing img  102.jpeg\n"
     ]
    },
    {
     "name": "stderr",
     "output_type": "stream",
     "text": [
      "  1%|          | 7/1000 [00:01<02:55,  5.65it/s]"
     ]
    },
    {
     "name": "stdout",
     "output_type": "stream",
     "text": [
      "HoG shape is  (133956,)\n",
      "Processing img  103.jpeg\n",
      "HoG shape is  (133956,)\n",
      "Processing img  104.jpeg\n"
     ]
    },
    {
     "name": "stderr",
     "output_type": "stream",
     "text": [
      "  1%|          | 9/1000 [00:01<02:30,  6.59it/s]"
     ]
    },
    {
     "name": "stdout",
     "output_type": "stream",
     "text": [
      "HoG shape is  (133956,)\n",
      "Processing img  105.jpeg\n",
      "HoG shape is  (133956,)\n",
      "Processing img  106.jpeg\n"
     ]
    },
    {
     "name": "stderr",
     "output_type": "stream",
     "text": [
      "  1%|          | 11/1000 [00:01<02:18,  7.16it/s]"
     ]
    },
    {
     "name": "stdout",
     "output_type": "stream",
     "text": [
      "HoG shape is  (133956,)\n",
      "Processing img  107.jpeg\n",
      "HoG shape is  (133956,)\n",
      "Processing img  108.jpeg\n"
     ]
    },
    {
     "name": "stderr",
     "output_type": "stream",
     "text": [
      "  1%|▏         | 13/1000 [00:02<02:08,  7.66it/s]"
     ]
    },
    {
     "name": "stdout",
     "output_type": "stream",
     "text": [
      "HoG shape is  (133956,)\n",
      "Processing img  109.jpeg\n",
      "HoG shape is  (133956,)\n",
      "Processing img  11.jpeg\n"
     ]
    },
    {
     "name": "stderr",
     "output_type": "stream",
     "text": [
      "  2%|▏         | 15/1000 [00:02<02:05,  7.87it/s]"
     ]
    },
    {
     "name": "stdout",
     "output_type": "stream",
     "text": [
      "HoG shape is  (133956,)\n",
      "Processing img  110.jpeg\n",
      "HoG shape is  (133956,)\n",
      "Processing img  111.jpeg\n"
     ]
    },
    {
     "name": "stderr",
     "output_type": "stream",
     "text": [
      "  2%|▏         | 16/1000 [00:02<02:06,  7.79it/s]"
     ]
    },
    {
     "name": "stdout",
     "output_type": "stream",
     "text": [
      "HoG shape is  (133956,)\n",
      "Processing img  112.jpeg\n",
      "HoG shape is  (133956,)\n"
     ]
    },
    {
     "name": "stderr",
     "output_type": "stream",
     "text": [
      "  2%|▏         | 18/1000 [00:02<02:35,  6.33it/s]"
     ]
    },
    {
     "name": "stdout",
     "output_type": "stream",
     "text": [
      "Processing img  113.jpeg\n",
      "HoG shape is  (133956,)\n"
     ]
    },
    {
     "name": "stderr",
     "output_type": "stream",
     "text": [
      "  2%|▏         | 19/1000 [00:03<02:30,  6.50it/s]"
     ]
    },
    {
     "name": "stdout",
     "output_type": "stream",
     "text": [
      "Processing img  114.jpeg\n",
      "HoG shape is  (133956,)\n",
      "Processing img  115.jpeg\n"
     ]
    },
    {
     "name": "stderr",
     "output_type": "stream",
     "text": [
      "  2%|▏         | 21/1000 [00:03<02:20,  6.96it/s]"
     ]
    },
    {
     "name": "stdout",
     "output_type": "stream",
     "text": [
      "HoG shape is  (133956,)\n",
      "Processing img  116.jpeg\n",
      "HoG shape is  (133956,)\n",
      "Processing img  117.jpeg\n"
     ]
    },
    {
     "name": "stderr",
     "output_type": "stream",
     "text": [
      "  2%|▏         | 23/1000 [00:03<02:23,  6.83it/s]"
     ]
    },
    {
     "name": "stdout",
     "output_type": "stream",
     "text": [
      "HoG shape is  (133956,)\n",
      "Processing img  118.jpeg\n",
      "HoG shape is  (133956,)\n",
      "Processing img  119.jpeg\n"
     ]
    },
    {
     "name": "stderr",
     "output_type": "stream",
     "text": [
      "  2%|▎         | 25/1000 [00:03<02:24,  6.75it/s]"
     ]
    },
    {
     "name": "stdout",
     "output_type": "stream",
     "text": [
      "HoG shape is  (133956,)\n",
      "Processing img  12.jpeg\n",
      "HoG shape is  (133956,)\n",
      "Processing img  120.jpeg\n"
     ]
    },
    {
     "name": "stderr",
     "output_type": "stream",
     "text": [
      "  3%|▎         | 27/1000 [00:04<02:11,  7.41it/s]"
     ]
    },
    {
     "name": "stdout",
     "output_type": "stream",
     "text": [
      "HoG shape is  (133956,)\n",
      "Processing img  121.jpeg\n",
      "HoG shape is  (133956,)\n",
      "Processing img  122.jpeg\n"
     ]
    },
    {
     "name": "stderr",
     "output_type": "stream",
     "text": [
      "  3%|▎         | 29/1000 [00:04<01:58,  8.21it/s]"
     ]
    },
    {
     "name": "stdout",
     "output_type": "stream",
     "text": [
      "HoG shape is  (133956,)\n",
      "Processing img  123.jpeg\n",
      "HoG shape is  (133956,)\n",
      "Processing img  124.jpeg\n"
     ]
    },
    {
     "name": "stderr",
     "output_type": "stream",
     "text": [
      "  3%|▎         | 30/1000 [00:04<02:14,  7.23it/s]"
     ]
    },
    {
     "name": "stdout",
     "output_type": "stream",
     "text": [
      "HoG shape is  (133956,)\n",
      "Processing img  125.jpeg\n"
     ]
    },
    {
     "name": "stderr",
     "output_type": "stream",
     "text": [
      "  3%|▎         | 32/1000 [00:04<02:30,  6.44it/s]"
     ]
    },
    {
     "name": "stdout",
     "output_type": "stream",
     "text": [
      "HoG shape is  (133956,)\n",
      "Processing img  126.jpeg\n",
      "HoG shape is  (133956,)\n",
      "Processing img  127.jpeg\n"
     ]
    },
    {
     "name": "stderr",
     "output_type": "stream",
     "text": [
      "  3%|▎         | 34/1000 [00:05<02:09,  7.43it/s]"
     ]
    },
    {
     "name": "stdout",
     "output_type": "stream",
     "text": [
      "HoG shape is  (133956,)\n",
      "Processing img  128.jpeg\n",
      "HoG shape is  (133956,)\n",
      "Processing img  129.jpeg\n"
     ]
    },
    {
     "name": "stderr",
     "output_type": "stream",
     "text": [
      "  4%|▎         | 36/1000 [00:05<01:58,  8.16it/s]"
     ]
    },
    {
     "name": "stdout",
     "output_type": "stream",
     "text": [
      "HoG shape is  (133956,)\n",
      "Processing img  13.jpeg\n",
      "HoG shape is  (133956,)\n",
      "Processing img  130.jpeg\n"
     ]
    },
    {
     "name": "stderr",
     "output_type": "stream",
     "text": [
      "  4%|▍         | 39/1000 [00:05<01:45,  9.14it/s]"
     ]
    },
    {
     "name": "stdout",
     "output_type": "stream",
     "text": [
      "HoG shape is  (133956,)\n",
      "Processing img  131.jpeg\n",
      "HoG shape is  (133956,)\n",
      "Processing img  132.jpeg\n",
      "HoG shape is  (133956,)\n"
     ]
    },
    {
     "name": "stderr",
     "output_type": "stream",
     "text": [
      "  4%|▍         | 40/1000 [00:05<01:45,  9.09it/s]"
     ]
    },
    {
     "name": "stdout",
     "output_type": "stream",
     "text": [
      "Processing img  133.jpeg\n",
      "HoG shape is  (133956,)\n",
      "Processing img  134.jpeg\n"
     ]
    },
    {
     "name": "stderr",
     "output_type": "stream",
     "text": [
      "  4%|▍         | 42/1000 [00:06<01:59,  8.03it/s]"
     ]
    },
    {
     "name": "stdout",
     "output_type": "stream",
     "text": [
      "HoG shape is  (133956,)\n",
      "Processing img  135.jpeg\n",
      "HoG shape is  (133956,)\n",
      "Processing img  136.jpeg\n"
     ]
    },
    {
     "name": "stderr",
     "output_type": "stream",
     "text": [
      "  4%|▍         | 43/1000 [00:06<01:55,  8.32it/s]"
     ]
    },
    {
     "name": "stdout",
     "output_type": "stream",
     "text": [
      "HoG shape is  (133956,)\n",
      "Processing img  137.jpeg\n",
      "HoG shape is  (133956,)\n"
     ]
    },
    {
     "name": "stderr",
     "output_type": "stream",
     "text": [
      "  4%|▍         | 45/1000 [00:06<02:27,  6.48it/s]"
     ]
    },
    {
     "name": "stdout",
     "output_type": "stream",
     "text": [
      "Processing img  138.jpeg\n",
      "HoG shape is  (133956,)\n",
      "Processing img  139.jpeg\n"
     ]
    },
    {
     "name": "stderr",
     "output_type": "stream",
     "text": [
      "  5%|▍         | 47/1000 [00:06<02:13,  7.11it/s]"
     ]
    },
    {
     "name": "stdout",
     "output_type": "stream",
     "text": [
      "HoG shape is  (133956,)\n",
      "Processing img  14.jpeg\n",
      "HoG shape is  (133956,)\n",
      "Processing img  140.jpeg\n"
     ]
    },
    {
     "name": "stderr",
     "output_type": "stream",
     "text": [
      "  5%|▍         | 49/1000 [00:06<01:57,  8.08it/s]"
     ]
    },
    {
     "name": "stdout",
     "output_type": "stream",
     "text": [
      "HoG shape is  (133956,)\n",
      "Processing img  141.jpeg\n",
      "HoG shape is  (133956,)\n",
      "Processing img  142.jpeg\n",
      "HoG shape is  (133956,)\n",
      "Processing img  143.jpeg\n"
     ]
    },
    {
     "name": "stderr",
     "output_type": "stream",
     "text": [
      "  5%|▌         | 52/1000 [00:07<01:50,  8.61it/s]"
     ]
    },
    {
     "name": "stdout",
     "output_type": "stream",
     "text": [
      "HoG shape is  (133956,)\n",
      "Processing img  144.jpeg\n",
      "HoG shape is  (133956,)\n",
      "Processing img  145.jpeg\n"
     ]
    },
    {
     "name": "stderr",
     "output_type": "stream",
     "text": [
      "  6%|▌         | 55/1000 [00:07<01:41,  9.32it/s]"
     ]
    },
    {
     "name": "stdout",
     "output_type": "stream",
     "text": [
      "HoG shape is  (133956,)\n",
      "Processing img  146.jpeg\n",
      "HoG shape is  (133956,)\n",
      "Processing img  147.jpeg\n",
      "HoG shape is  (133956,)\n"
     ]
    },
    {
     "name": "stderr",
     "output_type": "stream",
     "text": [
      "  6%|▌         | 56/1000 [00:07<01:42,  9.23it/s]"
     ]
    },
    {
     "name": "stdout",
     "output_type": "stream",
     "text": [
      "Processing img  148.jpeg\n",
      "HoG shape is  (133956,)\n",
      "Processing img  149.jpeg\n"
     ]
    },
    {
     "name": "stderr",
     "output_type": "stream",
     "text": [
      "  6%|▌         | 58/1000 [00:07<01:54,  8.20it/s]"
     ]
    },
    {
     "name": "stdout",
     "output_type": "stream",
     "text": [
      "HoG shape is  (133956,)\n",
      "Processing img  15.jpeg\n",
      "HoG shape is  (133956,)\n",
      "Processing img  150.jpeg\n"
     ]
    },
    {
     "name": "stderr",
     "output_type": "stream",
     "text": [
      "  6%|▌         | 60/1000 [00:08<01:52,  8.35it/s]"
     ]
    },
    {
     "name": "stdout",
     "output_type": "stream",
     "text": [
      "HoG shape is  (133956,)\n",
      "Processing img  151.jpeg\n",
      "HoG shape is  (133956,)\n",
      "Processing img  152.jpeg\n"
     ]
    },
    {
     "name": "stderr",
     "output_type": "stream",
     "text": [
      "  6%|▌         | 62/1000 [00:08<01:45,  8.92it/s]"
     ]
    },
    {
     "name": "stdout",
     "output_type": "stream",
     "text": [
      "HoG shape is  (133956,)\n",
      "Processing img  153.jpeg\n",
      "HoG shape is  (133956,)\n",
      "Processing img  154.jpeg\n",
      "HoG shape is  (133956,)\n",
      "Processing img  155.jpeg\n"
     ]
    },
    {
     "name": "stderr",
     "output_type": "stream",
     "text": [
      "  6%|▋         | 65/1000 [00:08<01:39,  9.40it/s]"
     ]
    },
    {
     "name": "stdout",
     "output_type": "stream",
     "text": [
      "HoG shape is  (133956,)\n",
      "Processing img  156.jpeg\n",
      "HoG shape is  (133956,)\n",
      "Processing img  157.jpeg\n",
      "HoG shape is  (133956,)\n",
      "Processing img  158.jpeg\n"
     ]
    },
    {
     "name": "stderr",
     "output_type": "stream",
     "text": [
      "  7%|▋         | 68/1000 [00:09<01:40,  9.24it/s]"
     ]
    },
    {
     "name": "stdout",
     "output_type": "stream",
     "text": [
      "HoG shape is  (133956,)\n",
      "Processing img  159.jpeg\n",
      "HoG shape is  (133956,)\n",
      "Processing img  16.jpeg\n"
     ]
    },
    {
     "name": "stderr",
     "output_type": "stream",
     "text": [
      "  7%|▋         | 70/1000 [00:09<01:48,  8.56it/s]"
     ]
    },
    {
     "name": "stdout",
     "output_type": "stream",
     "text": [
      "HoG shape is  (133956,)\n",
      "Processing img  160.jpeg\n",
      "HoG shape is  (133956,)\n",
      "Processing img  161.jpeg\n"
     ]
    },
    {
     "name": "stderr",
     "output_type": "stream",
     "text": [
      "  7%|▋         | 71/1000 [00:09<01:48,  8.57it/s]"
     ]
    },
    {
     "name": "stdout",
     "output_type": "stream",
     "text": [
      "HoG shape is  (133956,)\n",
      "Processing img  162.jpeg\n"
     ]
    },
    {
     "name": "stderr",
     "output_type": "stream",
     "text": [
      "  7%|▋         | 73/1000 [00:09<02:28,  6.25it/s]"
     ]
    },
    {
     "name": "stdout",
     "output_type": "stream",
     "text": [
      "HoG shape is  (133956,)\n",
      "Processing img  163.jpeg\n",
      "HoG shape is  (133956,)\n",
      "Processing img  164.jpeg\n"
     ]
    },
    {
     "name": "stderr",
     "output_type": "stream",
     "text": [
      "  8%|▊         | 75/1000 [00:10<02:12,  6.99it/s]"
     ]
    },
    {
     "name": "stdout",
     "output_type": "stream",
     "text": [
      "HoG shape is  (133956,)\n",
      "Processing img  165.jpeg\n",
      "HoG shape is  (133956,)\n",
      "Processing img  166.jpeg\n"
     ]
    },
    {
     "name": "stderr",
     "output_type": "stream",
     "text": [
      "  8%|▊         | 77/1000 [00:10<02:08,  7.16it/s]"
     ]
    },
    {
     "name": "stdout",
     "output_type": "stream",
     "text": [
      "HoG shape is  (133956,)\n",
      "Processing img  167.jpeg\n",
      "HoG shape is  (133956,)\n",
      "Processing img  168.jpeg\n"
     ]
    },
    {
     "name": "stderr",
     "output_type": "stream",
     "text": [
      "  8%|▊         | 79/1000 [00:10<02:07,  7.23it/s]"
     ]
    },
    {
     "name": "stdout",
     "output_type": "stream",
     "text": [
      "HoG shape is  (133956,)\n",
      "Processing img  169.jpeg\n",
      "HoG shape is  (133956,)\n",
      "Processing img  17.jpeg\n"
     ]
    },
    {
     "name": "stderr",
     "output_type": "stream",
     "text": [
      "  8%|▊         | 81/1000 [00:10<01:58,  7.77it/s]"
     ]
    },
    {
     "name": "stdout",
     "output_type": "stream",
     "text": [
      "HoG shape is  (133956,)\n",
      "Processing img  170.jpeg\n",
      "HoG shape is  (133956,)\n",
      "Processing img  171.jpeg\n"
     ]
    },
    {
     "name": "stderr",
     "output_type": "stream",
     "text": [
      "  8%|▊         | 83/1000 [00:11<01:51,  8.25it/s]"
     ]
    },
    {
     "name": "stdout",
     "output_type": "stream",
     "text": [
      "HoG shape is  (133956,)\n",
      "Processing img  172.jpeg\n",
      "HoG shape is  (133956,)\n",
      "Processing img  173.jpeg\n"
     ]
    },
    {
     "name": "stderr",
     "output_type": "stream",
     "text": [
      "  8%|▊         | 85/1000 [00:11<01:47,  8.55it/s]"
     ]
    },
    {
     "name": "stdout",
     "output_type": "stream",
     "text": [
      "HoG shape is  (133956,)\n",
      "Processing img  174.jpeg\n",
      "HoG shape is  (133956,)\n",
      "Processing img  175.jpeg\n",
      "HoG shape is  (133956,)\n",
      "Processing img  176.jpeg\n"
     ]
    },
    {
     "name": "stderr",
     "output_type": "stream",
     "text": [
      "  9%|▉         | 88/1000 [00:11<01:41,  9.00it/s]"
     ]
    },
    {
     "name": "stdout",
     "output_type": "stream",
     "text": [
      "HoG shape is  (133956,)\n",
      "Processing img  177.jpeg\n",
      "HoG shape is  (133956,)\n",
      "Processing img  178.jpeg\n",
      "HoG shape is  (133956,)\n",
      "Processing img  179.jpeg\n"
     ]
    },
    {
     "name": "stderr",
     "output_type": "stream",
     "text": [
      "  9%|▉         | 91/1000 [00:12<01:44,  8.66it/s]"
     ]
    },
    {
     "name": "stdout",
     "output_type": "stream",
     "text": [
      "HoG shape is  (133956,)\n",
      "Processing img  18.jpeg\n",
      "HoG shape is  (133956,)\n",
      "Processing img  180.jpeg\n"
     ]
    },
    {
     "name": "stderr",
     "output_type": "stream",
     "text": [
      "  9%|▉         | 93/1000 [00:12<01:39,  9.08it/s]"
     ]
    },
    {
     "name": "stdout",
     "output_type": "stream",
     "text": [
      "HoG shape is  (133956,)\n",
      "Processing img  181.jpeg\n",
      "HoG shape is  (133956,)\n",
      "Processing img  182.jpeg\n"
     ]
    },
    {
     "name": "stderr",
     "output_type": "stream",
     "text": [
      " 10%|▉         | 95/1000 [00:12<01:41,  8.91it/s]"
     ]
    },
    {
     "name": "stdout",
     "output_type": "stream",
     "text": [
      "HoG shape is  (133956,)\n",
      "Processing img  183.jpeg\n",
      "HoG shape is  (133956,)\n",
      "Processing img  184.jpeg\n"
     ]
    },
    {
     "name": "stderr",
     "output_type": "stream",
     "text": [
      " 10%|▉         | 97/1000 [00:12<01:47,  8.36it/s]"
     ]
    },
    {
     "name": "stdout",
     "output_type": "stream",
     "text": [
      "HoG shape is  (133956,)\n",
      "Processing img  185.jpeg\n",
      "HoG shape is  (133956,)\n",
      "Processing img  186.jpeg\n",
      "HoG shape is  (133956,)\n",
      "Processing img  187.jpeg\n",
      "HoG shape is  (133956,)\n"
     ]
    },
    {
     "name": "stderr",
     "output_type": "stream",
     "text": [
      " 10%|█         | 100/1000 [00:13<02:00,  7.46it/s]"
     ]
    },
    {
     "name": "stdout",
     "output_type": "stream",
     "text": [
      "Processing img  188.jpeg\n",
      "HoG shape is  (133956,)\n",
      "Processing img  189.jpeg\n"
     ]
    },
    {
     "name": "stderr",
     "output_type": "stream",
     "text": [
      " 10%|█         | 102/1000 [00:13<02:10,  6.89it/s]"
     ]
    },
    {
     "name": "stdout",
     "output_type": "stream",
     "text": [
      "HoG shape is  (133956,)\n",
      "Processing img  19.jpeg\n",
      "HoG shape is  (133956,)\n",
      "Processing img  190.jpeg\n"
     ]
    },
    {
     "name": "stderr",
     "output_type": "stream",
     "text": [
      " 10%|█         | 104/1000 [00:13<02:08,  6.95it/s]"
     ]
    },
    {
     "name": "stdout",
     "output_type": "stream",
     "text": [
      "HoG shape is  (133956,)\n",
      "Processing img  191.jpeg\n",
      "HoG shape is  (133956,)\n",
      "Processing img  192.jpeg\n"
     ]
    },
    {
     "name": "stderr",
     "output_type": "stream",
     "text": [
      " 11%|█         | 106/1000 [00:13<01:54,  7.83it/s]"
     ]
    },
    {
     "name": "stdout",
     "output_type": "stream",
     "text": [
      "HoG shape is  (133956,)\n",
      "Processing img  193.jpeg\n",
      "HoG shape is  (133956,)\n",
      "Processing img  194.jpeg\n"
     ]
    },
    {
     "name": "stderr",
     "output_type": "stream",
     "text": [
      " 11%|█         | 108/1000 [00:14<01:43,  8.61it/s]"
     ]
    },
    {
     "name": "stdout",
     "output_type": "stream",
     "text": [
      "HoG shape is  (133956,)\n",
      "Processing img  195.jpeg\n",
      "HoG shape is  (133956,)\n",
      "Processing img  196.jpeg\n"
     ]
    },
    {
     "name": "stderr",
     "output_type": "stream",
     "text": [
      " 11%|█         | 110/1000 [00:14<01:46,  8.37it/s]"
     ]
    },
    {
     "name": "stdout",
     "output_type": "stream",
     "text": [
      "HoG shape is  (133956,)\n",
      "Processing img  197.jpeg\n",
      "HoG shape is  (133956,)\n",
      "Processing img  198.jpeg\n"
     ]
    },
    {
     "name": "stderr",
     "output_type": "stream",
     "text": [
      " 11%|█         | 111/1000 [00:14<02:21,  6.30it/s]"
     ]
    },
    {
     "name": "stdout",
     "output_type": "stream",
     "text": [
      "HoG shape is  (133956,)\n",
      "Processing img  199.jpeg\n",
      "HoG shape is  (133956,)\n"
     ]
    },
    {
     "name": "stderr",
     "output_type": "stream",
     "text": [
      " 11%|█▏        | 113/1000 [00:15<02:20,  6.30it/s]"
     ]
    },
    {
     "name": "stdout",
     "output_type": "stream",
     "text": [
      "Processing img  2.jpeg\n",
      "HoG shape is  (133956,)\n",
      "Processing img  20.jpeg\n"
     ]
    },
    {
     "name": "stderr",
     "output_type": "stream",
     "text": [
      " 12%|█▏        | 115/1000 [00:15<02:09,  6.82it/s]"
     ]
    },
    {
     "name": "stdout",
     "output_type": "stream",
     "text": [
      "HoG shape is  (133956,)\n",
      "Processing img  200.jpeg\n",
      "HoG shape is  (133956,)\n",
      "Processing img  201.jpeg\n"
     ]
    },
    {
     "name": "stderr",
     "output_type": "stream",
     "text": [
      " 12%|█▏        | 117/1000 [00:15<01:55,  7.65it/s]"
     ]
    },
    {
     "name": "stdout",
     "output_type": "stream",
     "text": [
      "HoG shape is  (133956,)\n",
      "Processing img  202.jpeg\n",
      "HoG shape is  (133956,)\n",
      "Processing img  203.jpeg\n"
     ]
    },
    {
     "name": "stderr",
     "output_type": "stream",
     "text": [
      " 12%|█▏        | 119/1000 [00:15<02:20,  6.25it/s]"
     ]
    },
    {
     "name": "stdout",
     "output_type": "stream",
     "text": [
      "HoG shape is  (133956,)\n",
      "Processing img  204.jpeg\n",
      "HoG shape is  (133956,)\n",
      "Processing img  205.jpeg\n"
     ]
    },
    {
     "name": "stderr",
     "output_type": "stream",
     "text": [
      " 12%|█▏        | 121/1000 [00:16<02:08,  6.85it/s]"
     ]
    },
    {
     "name": "stdout",
     "output_type": "stream",
     "text": [
      "HoG shape is  (133956,)\n",
      "Processing img  206.jpeg\n",
      "HoG shape is  (133956,)\n",
      "Processing img  207.jpeg\n"
     ]
    },
    {
     "name": "stderr",
     "output_type": "stream",
     "text": [
      " 12%|█▏        | 123/1000 [00:16<01:58,  7.40it/s]"
     ]
    },
    {
     "name": "stdout",
     "output_type": "stream",
     "text": [
      "HoG shape is  (133956,)\n",
      "Processing img  208.jpeg\n",
      "HoG shape is  (133956,)\n",
      "Processing img  209.jpeg\n"
     ]
    },
    {
     "name": "stderr",
     "output_type": "stream",
     "text": [
      " 12%|█▎        | 125/1000 [00:16<01:55,  7.59it/s]"
     ]
    },
    {
     "name": "stdout",
     "output_type": "stream",
     "text": [
      "HoG shape is  (133956,)\n",
      "Processing img  21.jpeg\n",
      "HoG shape is  (133956,)\n",
      "Processing img  210.jpeg\n"
     ]
    },
    {
     "name": "stderr",
     "output_type": "stream",
     "text": [
      " 13%|█▎        | 127/1000 [00:17<02:10,  6.70it/s]"
     ]
    },
    {
     "name": "stdout",
     "output_type": "stream",
     "text": [
      "HoG shape is  (133956,)\n",
      "Processing img  211.jpeg\n",
      "HoG shape is  (133956,)\n",
      "Processing img  212.jpeg\n"
     ]
    },
    {
     "name": "stderr",
     "output_type": "stream",
     "text": [
      " 13%|█▎        | 129/1000 [00:17<02:12,  6.59it/s]"
     ]
    },
    {
     "name": "stdout",
     "output_type": "stream",
     "text": [
      "HoG shape is  (133956,)\n",
      "Processing img  213.jpeg\n",
      "HoG shape is  (133956,)\n",
      "Processing img  214.jpeg\n"
     ]
    },
    {
     "name": "stderr",
     "output_type": "stream",
     "text": [
      " 13%|█▎        | 131/1000 [00:17<01:59,  7.26it/s]"
     ]
    },
    {
     "name": "stdout",
     "output_type": "stream",
     "text": [
      "HoG shape is  (133956,)\n",
      "Processing img  215.jpeg\n",
      "HoG shape is  (133956,)\n",
      "Processing img  216.jpeg\n"
     ]
    },
    {
     "name": "stderr",
     "output_type": "stream",
     "text": [
      " 13%|█▎        | 133/1000 [00:17<01:54,  7.60it/s]"
     ]
    },
    {
     "name": "stdout",
     "output_type": "stream",
     "text": [
      "HoG shape is  (133956,)\n",
      "Processing img  217.jpeg\n",
      "HoG shape is  (133956,)\n",
      "Processing img  218.jpeg\n",
      "HoG shape is  (133956,)\n",
      "Processing img  219.jpeg\n"
     ]
    },
    {
     "name": "stderr",
     "output_type": "stream",
     "text": [
      " 14%|█▎        | 136/1000 [00:18<01:43,  8.34it/s]"
     ]
    },
    {
     "name": "stdout",
     "output_type": "stream",
     "text": [
      "HoG shape is  (133956,)\n",
      "Processing img  22.jpeg\n",
      "HoG shape is  (133956,)\n",
      "Processing img  220.jpeg\n"
     ]
    },
    {
     "name": "stderr",
     "output_type": "stream",
     "text": [
      " 14%|█▍        | 138/1000 [00:18<01:39,  8.65it/s]"
     ]
    },
    {
     "name": "stdout",
     "output_type": "stream",
     "text": [
      "HoG shape is  (133956,)\n",
      "Processing img  221.jpeg\n",
      "HoG shape is  (133956,)\n",
      "Processing img  222.jpeg\n",
      "HoG shape is  (133956,)\n",
      "Processing img  223.jpeg\n"
     ]
    },
    {
     "name": "stderr",
     "output_type": "stream",
     "text": [
      " 14%|█▍        | 140/1000 [00:18<01:43,  8.27it/s]"
     ]
    },
    {
     "name": "stdout",
     "output_type": "stream",
     "text": [
      "HoG shape is  (133956,)\n",
      "Processing img  224.jpeg\n"
     ]
    },
    {
     "name": "stderr",
     "output_type": "stream",
     "text": [
      " 14%|█▍        | 142/1000 [00:18<01:59,  7.17it/s]"
     ]
    },
    {
     "name": "stdout",
     "output_type": "stream",
     "text": [
      "HoG shape is  (133956,)\n",
      "Processing img  225.jpeg\n",
      "HoG shape is  (133956,)\n",
      "Processing img  226.jpeg\n"
     ]
    },
    {
     "name": "stderr",
     "output_type": "stream",
     "text": [
      " 14%|█▍        | 144/1000 [00:19<01:53,  7.55it/s]"
     ]
    },
    {
     "name": "stdout",
     "output_type": "stream",
     "text": [
      "HoG shape is  (133956,)\n",
      "Processing img  227.jpeg\n",
      "HoG shape is  (133956,)\n",
      "Processing img  228.jpeg\n"
     ]
    },
    {
     "name": "stderr",
     "output_type": "stream",
     "text": [
      " 15%|█▍        | 146/1000 [00:19<02:01,  7.01it/s]"
     ]
    },
    {
     "name": "stdout",
     "output_type": "stream",
     "text": [
      "HoG shape is  (133956,)\n",
      "Processing img  229.jpeg\n",
      "HoG shape is  (133956,)\n",
      "Processing img  23.jpeg\n"
     ]
    },
    {
     "name": "stderr",
     "output_type": "stream",
     "text": [
      " 15%|█▍        | 148/1000 [00:19<01:55,  7.40it/s]"
     ]
    },
    {
     "name": "stdout",
     "output_type": "stream",
     "text": [
      "HoG shape is  (133956,)\n",
      "Processing img  230.jpeg\n",
      "HoG shape is  (133956,)\n",
      "Processing img  231.jpeg\n"
     ]
    },
    {
     "name": "stderr",
     "output_type": "stream",
     "text": [
      " 15%|█▌        | 150/1000 [00:19<01:40,  8.46it/s]"
     ]
    },
    {
     "name": "stdout",
     "output_type": "stream",
     "text": [
      "HoG shape is  (133956,)\n",
      "Processing img  232.jpeg\n",
      "HoG shape is  (133956,)\n",
      "Processing img  233.jpeg\n",
      "HoG shape is  (133956,)\n"
     ]
    },
    {
     "name": "stderr",
     "output_type": "stream",
     "text": [
      " 15%|█▌        | 152/1000 [00:20<01:43,  8.16it/s]"
     ]
    },
    {
     "name": "stdout",
     "output_type": "stream",
     "text": [
      "Processing img  234.jpeg\n",
      "HoG shape is  (133956,)\n",
      "Processing img  235.jpeg\n"
     ]
    },
    {
     "name": "stderr",
     "output_type": "stream",
     "text": [
      " 15%|█▌        | 154/1000 [00:20<01:37,  8.71it/s]"
     ]
    },
    {
     "name": "stdout",
     "output_type": "stream",
     "text": [
      "HoG shape is  (133956,)\n",
      "Processing img  236.jpeg\n",
      "HoG shape is  (133956,)\n",
      "Processing img  237.jpeg\n"
     ]
    },
    {
     "name": "stderr",
     "output_type": "stream",
     "text": [
      " 16%|█▌        | 156/1000 [00:20<01:32,  9.16it/s]"
     ]
    },
    {
     "name": "stdout",
     "output_type": "stream",
     "text": [
      "HoG shape is  (133956,)\n",
      "Processing img  238.jpeg\n",
      "HoG shape is  (133956,)\n",
      "Processing img  239.jpeg\n"
     ]
    },
    {
     "name": "stderr",
     "output_type": "stream",
     "text": [
      " 16%|█▌        | 158/1000 [00:20<01:48,  7.76it/s]"
     ]
    },
    {
     "name": "stdout",
     "output_type": "stream",
     "text": [
      "HoG shape is  (133956,)\n",
      "Processing img  24.jpeg\n",
      "HoG shape is  (133956,)\n",
      "Processing img  240.jpeg\n"
     ]
    },
    {
     "name": "stderr",
     "output_type": "stream",
     "text": [
      " 16%|█▌        | 159/1000 [00:21<01:42,  8.19it/s]"
     ]
    },
    {
     "name": "stdout",
     "output_type": "stream",
     "text": [
      "HoG shape is  (133956,)\n",
      "Processing img  241.jpeg\n"
     ]
    },
    {
     "name": "stderr",
     "output_type": "stream",
     "text": [
      " 16%|█▌        | 161/1000 [00:21<02:08,  6.55it/s]"
     ]
    },
    {
     "name": "stdout",
     "output_type": "stream",
     "text": [
      "HoG shape is  (133956,)\n",
      "Processing img  242.jpeg\n",
      "HoG shape is  (133956,)\n",
      "Processing img  243.jpeg\n"
     ]
    },
    {
     "name": "stderr",
     "output_type": "stream",
     "text": [
      " 16%|█▋        | 163/1000 [00:21<01:58,  7.06it/s]"
     ]
    },
    {
     "name": "stdout",
     "output_type": "stream",
     "text": [
      "HoG shape is  (133956,)\n",
      "Processing img  244.jpeg\n",
      "HoG shape is  (133956,)\n",
      "Processing img  245.jpeg\n"
     ]
    },
    {
     "name": "stderr",
     "output_type": "stream",
     "text": [
      " 16%|█▋        | 165/1000 [00:21<01:49,  7.61it/s]"
     ]
    },
    {
     "name": "stdout",
     "output_type": "stream",
     "text": [
      "HoG shape is  (133956,)\n",
      "Processing img  246.jpeg\n",
      "HoG shape is  (133956,)\n",
      "Processing img  247.jpeg\n"
     ]
    },
    {
     "name": "stderr",
     "output_type": "stream",
     "text": [
      " 17%|█▋        | 167/1000 [00:22<01:43,  8.03it/s]"
     ]
    },
    {
     "name": "stdout",
     "output_type": "stream",
     "text": [
      "HoG shape is  (133956,)\n",
      "Processing img  248.jpeg\n",
      "HoG shape is  (133956,)\n",
      "Processing img  249.jpeg\n"
     ]
    },
    {
     "name": "stderr",
     "output_type": "stream",
     "text": [
      " 17%|█▋        | 169/1000 [00:22<01:37,  8.52it/s]"
     ]
    },
    {
     "name": "stdout",
     "output_type": "stream",
     "text": [
      "HoG shape is  (133956,)\n",
      "Processing img  25.jpeg\n",
      "HoG shape is  (133956,)\n",
      "Processing img  250.jpeg\n"
     ]
    },
    {
     "name": "stderr",
     "output_type": "stream",
     "text": [
      " 17%|█▋        | 171/1000 [00:22<01:44,  7.91it/s]"
     ]
    },
    {
     "name": "stdout",
     "output_type": "stream",
     "text": [
      "HoG shape is  (133956,)\n",
      "Processing img  251.jpeg\n",
      "HoG shape is  (133956,)\n",
      "Processing img  252.jpeg\n"
     ]
    },
    {
     "name": "stderr",
     "output_type": "stream",
     "text": [
      " 17%|█▋        | 173/1000 [00:22<01:40,  8.23it/s]"
     ]
    },
    {
     "name": "stdout",
     "output_type": "stream",
     "text": [
      "HoG shape is  (133956,)\n",
      "Processing img  253.jpeg\n",
      "HoG shape is  (133956,)\n",
      "Processing img  254.jpeg\n"
     ]
    },
    {
     "name": "stderr",
     "output_type": "stream",
     "text": [
      " 18%|█▊        | 175/1000 [00:23<01:33,  8.79it/s]"
     ]
    },
    {
     "name": "stdout",
     "output_type": "stream",
     "text": [
      "HoG shape is  (133956,)\n",
      "Processing img  255.jpeg\n",
      "HoG shape is  (133956,)\n",
      "Processing img  256.jpeg\n"
     ]
    },
    {
     "name": "stderr",
     "output_type": "stream",
     "text": [
      " 18%|█▊        | 177/1000 [00:23<01:50,  7.43it/s]"
     ]
    },
    {
     "name": "stdout",
     "output_type": "stream",
     "text": [
      "HoG shape is  (133956,)\n",
      "Processing img  257.jpeg\n",
      "HoG shape is  (133956,)\n",
      "Processing img  258.jpeg\n"
     ]
    },
    {
     "name": "stderr",
     "output_type": "stream",
     "text": [
      " 18%|█▊        | 179/1000 [00:23<02:24,  5.68it/s]"
     ]
    },
    {
     "name": "stdout",
     "output_type": "stream",
     "text": [
      "HoG shape is  (133956,)\n",
      "Processing img  259.jpeg\n",
      "HoG shape is  (133956,)\n",
      "Processing img  26.jpeg\n"
     ]
    },
    {
     "name": "stderr",
     "output_type": "stream",
     "text": [
      " 18%|█▊        | 181/1000 [00:24<02:21,  5.78it/s]"
     ]
    },
    {
     "name": "stdout",
     "output_type": "stream",
     "text": [
      "HoG shape is  (133956,)\n",
      "Processing img  260.jpeg\n",
      "HoG shape is  (133956,)\n",
      "Processing img  261.jpeg\n"
     ]
    },
    {
     "name": "stderr",
     "output_type": "stream",
     "text": [
      " 18%|█▊        | 182/1000 [00:24<02:13,  6.12it/s]"
     ]
    },
    {
     "name": "stdout",
     "output_type": "stream",
     "text": [
      "HoG shape is  (133956,)\n",
      "Processing img  262.jpeg\n"
     ]
    },
    {
     "name": "stderr",
     "output_type": "stream",
     "text": [
      " 18%|█▊        | 184/1000 [00:24<02:18,  5.87it/s]"
     ]
    },
    {
     "name": "stdout",
     "output_type": "stream",
     "text": [
      "HoG shape is  (133956,)\n",
      "Processing img  263.jpeg\n",
      "HoG shape is  (133956,)\n",
      "Processing img  264.jpeg\n"
     ]
    },
    {
     "name": "stderr",
     "output_type": "stream",
     "text": [
      " 19%|█▊        | 186/1000 [00:24<02:06,  6.44it/s]"
     ]
    },
    {
     "name": "stdout",
     "output_type": "stream",
     "text": [
      "HoG shape is  (133956,)\n",
      "Processing img  265.jpeg\n",
      "HoG shape is  (133956,)\n",
      "Processing img  266.jpeg\n"
     ]
    },
    {
     "name": "stderr",
     "output_type": "stream",
     "text": [
      " 19%|█▉        | 188/1000 [00:25<01:51,  7.29it/s]"
     ]
    },
    {
     "name": "stdout",
     "output_type": "stream",
     "text": [
      "HoG shape is  (133956,)\n",
      "Processing img  267.jpeg\n",
      "HoG shape is  (133956,)\n",
      "Processing img  268.jpeg\n"
     ]
    },
    {
     "name": "stderr",
     "output_type": "stream",
     "text": [
      " 19%|█▉        | 190/1000 [00:25<01:52,  7.18it/s]"
     ]
    },
    {
     "name": "stdout",
     "output_type": "stream",
     "text": [
      "HoG shape is  (133956,)\n",
      "Processing img  269.jpeg\n",
      "HoG shape is  (133956,)\n",
      "Processing img  27.jpeg\n"
     ]
    },
    {
     "name": "stderr",
     "output_type": "stream",
     "text": [
      " 19%|█▉        | 192/1000 [00:25<02:00,  6.71it/s]"
     ]
    },
    {
     "name": "stdout",
     "output_type": "stream",
     "text": [
      "HoG shape is  (133956,)\n",
      "Processing img  270.jpeg\n",
      "HoG shape is  (133956,)\n",
      "Processing img  271.jpeg\n"
     ]
    },
    {
     "name": "stderr",
     "output_type": "stream",
     "text": [
      " 19%|█▉        | 194/1000 [00:26<01:52,  7.14it/s]"
     ]
    },
    {
     "name": "stdout",
     "output_type": "stream",
     "text": [
      "HoG shape is  (133956,)\n",
      "Processing img  272.jpeg\n",
      "HoG shape is  (133956,)\n",
      "Processing img  273.jpeg\n"
     ]
    },
    {
     "name": "stderr",
     "output_type": "stream",
     "text": [
      " 20%|█▉        | 196/1000 [00:26<01:48,  7.40it/s]"
     ]
    },
    {
     "name": "stdout",
     "output_type": "stream",
     "text": [
      "HoG shape is  (133956,)\n",
      "Processing img  274.jpeg\n",
      "HoG shape is  (133956,)\n",
      "Processing img  275.jpeg\n"
     ]
    },
    {
     "name": "stderr",
     "output_type": "stream",
     "text": [
      " 20%|█▉        | 198/1000 [00:26<02:07,  6.31it/s]"
     ]
    },
    {
     "name": "stdout",
     "output_type": "stream",
     "text": [
      "HoG shape is  (133956,)\n",
      "Processing img  276.jpeg\n",
      "HoG shape is  (133956,)\n",
      "Processing img  277.jpeg\n"
     ]
    },
    {
     "name": "stderr",
     "output_type": "stream",
     "text": [
      " 20%|██        | 200/1000 [00:26<01:44,  7.67it/s]"
     ]
    },
    {
     "name": "stdout",
     "output_type": "stream",
     "text": [
      "HoG shape is  (133956,)\n",
      "Processing img  278.jpeg\n",
      "HoG shape is  (133956,)\n",
      "Processing img  279.jpeg\n",
      "HoG shape is  (133956,)\n",
      "Processing img  28.jpeg\n"
     ]
    },
    {
     "name": "stderr",
     "output_type": "stream",
     "text": [
      " 20%|██        | 203/1000 [00:27<01:34,  8.47it/s]"
     ]
    },
    {
     "name": "stdout",
     "output_type": "stream",
     "text": [
      "HoG shape is  (133956,)\n",
      "Processing img  280.jpeg\n",
      "HoG shape is  (133956,)\n",
      "Processing img  281.jpeg\n",
      "HoG shape is  (133956,)\n",
      "Processing img  282.jpeg\n"
     ]
    },
    {
     "name": "stderr",
     "output_type": "stream",
     "text": [
      " 20%|██        | 205/1000 [00:27<01:27,  9.12it/s]"
     ]
    },
    {
     "name": "stdout",
     "output_type": "stream",
     "text": [
      "HoG shape is  (133956,)\n",
      "Processing img  283.jpeg\n"
     ]
    },
    {
     "name": "stderr",
     "output_type": "stream",
     "text": [
      " 21%|██        | 207/1000 [00:27<01:51,  7.13it/s]"
     ]
    },
    {
     "name": "stdout",
     "output_type": "stream",
     "text": [
      "HoG shape is  (133956,)\n",
      "Processing img  284.jpeg\n",
      "HoG shape is  (133956,)\n",
      "Processing img  285.jpeg\n"
     ]
    },
    {
     "name": "stderr",
     "output_type": "stream",
     "text": [
      " 21%|██        | 209/1000 [00:28<01:43,  7.66it/s]"
     ]
    },
    {
     "name": "stdout",
     "output_type": "stream",
     "text": [
      "HoG shape is  (133956,)\n",
      "Processing img  286.jpeg\n",
      "HoG shape is  (133956,)\n",
      "Processing img  287.jpeg\n"
     ]
    },
    {
     "name": "stderr",
     "output_type": "stream",
     "text": [
      " 21%|██        | 210/1000 [00:28<01:41,  7.81it/s]"
     ]
    },
    {
     "name": "stdout",
     "output_type": "stream",
     "text": [
      "HoG shape is  (133956,)\n",
      "Processing img  288.jpeg\n"
     ]
    },
    {
     "name": "stderr",
     "output_type": "stream",
     "text": [
      " 21%|██        | 211/1000 [00:28<02:01,  6.50it/s]"
     ]
    },
    {
     "name": "stdout",
     "output_type": "stream",
     "text": [
      "HoG shape is  (133956,)\n",
      "Processing img  289.jpeg\n",
      "HoG shape is  (133956,)\n"
     ]
    },
    {
     "name": "stderr",
     "output_type": "stream",
     "text": [
      " 21%|██▏       | 214/1000 [00:28<01:50,  7.12it/s]"
     ]
    },
    {
     "name": "stdout",
     "output_type": "stream",
     "text": [
      "Processing img  29.jpeg\n",
      "HoG shape is  (133956,)\n",
      "Processing img  290.jpeg\n",
      "HoG shape is  (133956,)\n"
     ]
    },
    {
     "name": "stderr",
     "output_type": "stream",
     "text": [
      " 22%|██▏       | 215/1000 [00:28<01:47,  7.30it/s]"
     ]
    },
    {
     "name": "stdout",
     "output_type": "stream",
     "text": [
      "Processing img  291.jpeg\n",
      "HoG shape is  (133956,)\n",
      "Processing img  292.jpeg\n"
     ]
    },
    {
     "name": "stderr",
     "output_type": "stream",
     "text": [
      " 22%|██▏       | 217/1000 [00:29<01:39,  7.91it/s]"
     ]
    },
    {
     "name": "stdout",
     "output_type": "stream",
     "text": [
      "HoG shape is  (133956,)\n",
      "Processing img  293.jpeg\n",
      "HoG shape is  (133956,)\n",
      "Processing img  294.jpeg\n"
     ]
    },
    {
     "name": "stderr",
     "output_type": "stream",
     "text": [
      " 22%|██▏       | 219/1000 [00:29<01:36,  8.10it/s]"
     ]
    },
    {
     "name": "stdout",
     "output_type": "stream",
     "text": [
      "HoG shape is  (133956,)\n",
      "Processing img  295.jpeg\n",
      "HoG shape is  (133956,)\n",
      "Processing img  296.jpeg\n",
      "HoG shape is  (133956,)\n",
      "Processing img  297.jpeg\n"
     ]
    },
    {
     "name": "stderr",
     "output_type": "stream",
     "text": [
      " 22%|██▏       | 221/1000 [00:29<01:29,  8.73it/s]"
     ]
    },
    {
     "name": "stdout",
     "output_type": "stream",
     "text": [
      "HoG shape is  (133956,)\n",
      "Processing img  298.jpeg\n"
     ]
    },
    {
     "name": "stderr",
     "output_type": "stream",
     "text": [
      " 22%|██▏       | 223/1000 [00:29<01:52,  6.93it/s]"
     ]
    },
    {
     "name": "stdout",
     "output_type": "stream",
     "text": [
      "HoG shape is  (133956,)\n",
      "Processing img  299.jpeg\n",
      "HoG shape is  (133956,)\n",
      "Processing img  3.jpeg\n"
     ]
    },
    {
     "name": "stderr",
     "output_type": "stream",
     "text": [
      " 22%|██▎       | 225/1000 [00:30<01:43,  7.52it/s]"
     ]
    },
    {
     "name": "stdout",
     "output_type": "stream",
     "text": [
      "HoG shape is  (133956,)\n",
      "Processing img  30.jpeg\n",
      "HoG shape is  (133956,)\n",
      "Processing img  300.jpeg\n"
     ]
    },
    {
     "name": "stderr",
     "output_type": "stream",
     "text": [
      " 23%|██▎       | 227/1000 [00:30<01:41,  7.62it/s]"
     ]
    },
    {
     "name": "stdout",
     "output_type": "stream",
     "text": [
      "HoG shape is  (133956,)\n",
      "Processing img  301.jpeg\n",
      "HoG shape is  (133956,)\n",
      "Processing img  302.jpeg\n"
     ]
    },
    {
     "name": "stderr",
     "output_type": "stream",
     "text": [
      " 23%|██▎       | 229/1000 [00:30<01:42,  7.50it/s]"
     ]
    },
    {
     "name": "stdout",
     "output_type": "stream",
     "text": [
      "HoG shape is  (133956,)\n",
      "Processing img  303.jpeg\n",
      "HoG shape is  (133956,)\n",
      "Processing img  304.jpeg\n"
     ]
    },
    {
     "name": "stderr",
     "output_type": "stream",
     "text": [
      " 23%|██▎       | 231/1000 [00:30<01:36,  7.98it/s]"
     ]
    },
    {
     "name": "stdout",
     "output_type": "stream",
     "text": [
      "HoG shape is  (133956,)\n",
      "Processing img  305.jpeg\n",
      "HoG shape is  (133956,)\n",
      "Processing img  306.jpeg\n"
     ]
    },
    {
     "name": "stderr",
     "output_type": "stream",
     "text": [
      " 23%|██▎       | 233/1000 [00:31<01:43,  7.39it/s]"
     ]
    },
    {
     "name": "stdout",
     "output_type": "stream",
     "text": [
      "HoG shape is  (133956,)\n",
      "Processing img  307.jpeg\n",
      "HoG shape is  (133956,)\n",
      "Processing img  308.jpeg\n"
     ]
    },
    {
     "name": "stderr",
     "output_type": "stream",
     "text": [
      " 24%|██▎       | 235/1000 [00:31<02:19,  5.47it/s]"
     ]
    },
    {
     "name": "stdout",
     "output_type": "stream",
     "text": [
      "HoG shape is  (133956,)\n",
      "Processing img  309.jpeg\n",
      "HoG shape is  (133956,)\n",
      "Processing img  31.jpeg\n"
     ]
    },
    {
     "name": "stderr",
     "output_type": "stream",
     "text": [
      " 24%|██▎       | 237/1000 [00:32<02:01,  6.27it/s]"
     ]
    },
    {
     "name": "stdout",
     "output_type": "stream",
     "text": [
      "HoG shape is  (133956,)\n",
      "Processing img  310.jpeg\n",
      "HoG shape is  (133956,)\n",
      "Processing img  311.jpeg\n"
     ]
    },
    {
     "name": "stderr",
     "output_type": "stream",
     "text": [
      " 24%|██▍       | 238/1000 [00:32<01:50,  6.87it/s]"
     ]
    },
    {
     "name": "stdout",
     "output_type": "stream",
     "text": [
      "HoG shape is  (133956,)\n",
      "Processing img  312.jpeg\n"
     ]
    },
    {
     "name": "stderr",
     "output_type": "stream",
     "text": [
      " 24%|██▍       | 240/1000 [00:32<02:06,  6.01it/s]"
     ]
    },
    {
     "name": "stdout",
     "output_type": "stream",
     "text": [
      "HoG shape is  (133956,)\n",
      "Processing img  313.jpeg\n",
      "HoG shape is  (133956,)\n",
      "Processing img  314.jpeg\n"
     ]
    },
    {
     "name": "stderr",
     "output_type": "stream",
     "text": [
      " 24%|██▍       | 242/1000 [00:32<01:50,  6.83it/s]"
     ]
    },
    {
     "name": "stdout",
     "output_type": "stream",
     "text": [
      "HoG shape is  (133956,)\n",
      "Processing img  315.jpeg\n",
      "HoG shape is  (133956,)\n",
      "Processing img  316.jpeg\n"
     ]
    },
    {
     "name": "stderr",
     "output_type": "stream",
     "text": [
      " 24%|██▍       | 244/1000 [00:33<01:46,  7.12it/s]"
     ]
    },
    {
     "name": "stdout",
     "output_type": "stream",
     "text": [
      "HoG shape is  (133956,)\n",
      "Processing img  317.jpeg\n",
      "HoG shape is  (133956,)\n",
      "Processing img  318.jpeg\n"
     ]
    },
    {
     "name": "stderr",
     "output_type": "stream",
     "text": [
      " 25%|██▍       | 246/1000 [00:33<01:43,  7.28it/s]"
     ]
    },
    {
     "name": "stdout",
     "output_type": "stream",
     "text": [
      "HoG shape is  (133956,)\n",
      "Processing img  319.jpeg\n",
      "HoG shape is  (133956,)\n",
      "Processing img  32.jpeg\n"
     ]
    },
    {
     "name": "stderr",
     "output_type": "stream",
     "text": [
      " 25%|██▍       | 248/1000 [00:33<01:37,  7.69it/s]"
     ]
    },
    {
     "name": "stdout",
     "output_type": "stream",
     "text": [
      "HoG shape is  (133956,)\n",
      "Processing img  320.jpeg\n",
      "HoG shape is  (133956,)\n",
      "Processing img  321.jpeg\n"
     ]
    },
    {
     "name": "stderr",
     "output_type": "stream",
     "text": [
      " 25%|██▌       | 250/1000 [00:33<01:38,  7.64it/s]"
     ]
    },
    {
     "name": "stdout",
     "output_type": "stream",
     "text": [
      "HoG shape is  (133956,)\n",
      "Processing img  322.jpeg\n",
      "HoG shape is  (133956,)\n",
      "Processing img  323.jpeg\n"
     ]
    },
    {
     "name": "stderr",
     "output_type": "stream",
     "text": [
      " 25%|██▌       | 252/1000 [00:34<01:37,  7.69it/s]"
     ]
    },
    {
     "name": "stdout",
     "output_type": "stream",
     "text": [
      "HoG shape is  (133956,)\n",
      "Processing img  324.jpeg\n",
      "HoG shape is  (133956,)\n",
      "Processing img  325.jpeg\n"
     ]
    },
    {
     "name": "stderr",
     "output_type": "stream",
     "text": [
      " 25%|██▌       | 254/1000 [00:34<01:55,  6.45it/s]"
     ]
    },
    {
     "name": "stdout",
     "output_type": "stream",
     "text": [
      "HoG shape is  (133956,)\n",
      "Processing img  326.jpeg\n",
      "HoG shape is  (133956,)\n",
      "Processing img  327.jpeg\n"
     ]
    },
    {
     "name": "stderr",
     "output_type": "stream",
     "text": [
      " 26%|██▌       | 256/1000 [00:34<01:47,  6.94it/s]"
     ]
    },
    {
     "name": "stdout",
     "output_type": "stream",
     "text": [
      "HoG shape is  (133956,)\n",
      "Processing img  328.jpeg\n",
      "HoG shape is  (133956,)\n",
      "Processing img  329.jpeg\n"
     ]
    },
    {
     "name": "stderr",
     "output_type": "stream",
     "text": [
      " 26%|██▌       | 258/1000 [00:34<01:36,  7.70it/s]"
     ]
    },
    {
     "name": "stdout",
     "output_type": "stream",
     "text": [
      "HoG shape is  (133956,)\n",
      "Processing img  33.jpeg\n",
      "HoG shape is  (133956,)\n",
      "Processing img  330.jpeg\n"
     ]
    },
    {
     "name": "stderr",
     "output_type": "stream",
     "text": [
      " 26%|██▌       | 260/1000 [00:35<01:38,  7.49it/s]"
     ]
    },
    {
     "name": "stdout",
     "output_type": "stream",
     "text": [
      "HoG shape is  (133956,)\n",
      "Processing img  331.jpeg\n",
      "HoG shape is  (133956,)\n",
      "Processing img  332.jpeg\n"
     ]
    },
    {
     "name": "stderr",
     "output_type": "stream",
     "text": [
      " 26%|██▌       | 262/1000 [00:35<01:33,  7.88it/s]"
     ]
    },
    {
     "name": "stdout",
     "output_type": "stream",
     "text": [
      "HoG shape is  (133956,)\n",
      "Processing img  333.jpeg\n",
      "HoG shape is  (133956,)\n",
      "Processing img  334.jpeg\n"
     ]
    },
    {
     "name": "stderr",
     "output_type": "stream",
     "text": [
      " 26%|██▋       | 264/1000 [00:35<01:54,  6.45it/s]"
     ]
    },
    {
     "name": "stdout",
     "output_type": "stream",
     "text": [
      "HoG shape is  (133956,)\n",
      "Processing img  335.jpeg\n",
      "HoG shape is  (133956,)\n",
      "Processing img  336.jpeg\n"
     ]
    },
    {
     "name": "stderr",
     "output_type": "stream",
     "text": [
      " 27%|██▋       | 266/1000 [00:36<01:39,  7.36it/s]"
     ]
    },
    {
     "name": "stdout",
     "output_type": "stream",
     "text": [
      "HoG shape is  (133956,)\n",
      "Processing img  337.jpeg\n",
      "HoG shape is  (133956,)\n",
      "Processing img  338.jpeg\n"
     ]
    },
    {
     "name": "stderr",
     "output_type": "stream",
     "text": [
      " 27%|██▋       | 268/1000 [00:36<01:29,  8.20it/s]"
     ]
    },
    {
     "name": "stdout",
     "output_type": "stream",
     "text": [
      "HoG shape is  (133956,)\n",
      "Processing img  339.jpeg\n",
      "HoG shape is  (133956,)\n",
      "Processing img  34.jpeg\n"
     ]
    },
    {
     "name": "stderr",
     "output_type": "stream",
     "text": [
      " 27%|██▋       | 270/1000 [00:36<01:21,  8.91it/s]"
     ]
    },
    {
     "name": "stdout",
     "output_type": "stream",
     "text": [
      "HoG shape is  (133956,)\n",
      "Processing img  340.jpeg\n",
      "HoG shape is  (133956,)\n",
      "Processing img  341.jpeg\n",
      "HoG shape is  (133956,)\n"
     ]
    },
    {
     "name": "stderr",
     "output_type": "stream",
     "text": [
      " 27%|██▋       | 272/1000 [00:36<01:20,  9.06it/s]"
     ]
    },
    {
     "name": "stdout",
     "output_type": "stream",
     "text": [
      "Processing img  342.jpeg\n",
      "HoG shape is  (133956,)\n",
      "Processing img  343.jpeg\n",
      "HoG shape is  (133956,)\n",
      "Processing img  344.jpeg\n"
     ]
    },
    {
     "name": "stderr",
     "output_type": "stream",
     "text": [
      " 28%|██▊       | 275/1000 [00:37<01:18,  9.18it/s]"
     ]
    },
    {
     "name": "stdout",
     "output_type": "stream",
     "text": [
      "HoG shape is  (133956,)\n",
      "Processing img  345.jpeg\n",
      "HoG shape is  (133956,)\n",
      "Processing img  346.jpeg\n"
     ]
    },
    {
     "name": "stderr",
     "output_type": "stream",
     "text": [
      " 28%|██▊       | 277/1000 [00:37<01:16,  9.39it/s]"
     ]
    },
    {
     "name": "stdout",
     "output_type": "stream",
     "text": [
      "HoG shape is  (133956,)\n",
      "Processing img  347.jpeg\n",
      "HoG shape is  (133956,)\n",
      "Processing img  348.jpeg\n"
     ]
    },
    {
     "name": "stderr",
     "output_type": "stream",
     "text": [
      " 28%|██▊       | 278/1000 [00:37<01:33,  7.74it/s]"
     ]
    },
    {
     "name": "stdout",
     "output_type": "stream",
     "text": [
      "HoG shape is  (133956,)\n",
      "Processing img  349.jpeg\n"
     ]
    },
    {
     "name": "stderr",
     "output_type": "stream",
     "text": [
      " 28%|██▊       | 280/1000 [00:37<01:50,  6.53it/s]"
     ]
    },
    {
     "name": "stdout",
     "output_type": "stream",
     "text": [
      "HoG shape is  (133956,)\n",
      "Processing img  35.jpeg\n",
      "HoG shape is  (133956,)\n",
      "Processing img  350.jpeg\n"
     ]
    },
    {
     "name": "stderr",
     "output_type": "stream",
     "text": [
      " 28%|██▊       | 282/1000 [00:38<01:37,  7.38it/s]"
     ]
    },
    {
     "name": "stdout",
     "output_type": "stream",
     "text": [
      "HoG shape is  (133956,)\n",
      "Processing img  351.jpeg\n",
      "HoG shape is  (133956,)\n",
      "Processing img  352.jpeg\n"
     ]
    },
    {
     "name": "stderr",
     "output_type": "stream",
     "text": [
      " 28%|██▊       | 284/1000 [00:38<01:37,  7.38it/s]"
     ]
    },
    {
     "name": "stdout",
     "output_type": "stream",
     "text": [
      "HoG shape is  (133956,)\n",
      "Processing img  353.jpeg\n",
      "HoG shape is  (133956,)\n",
      "Processing img  354.jpeg\n"
     ]
    },
    {
     "name": "stderr",
     "output_type": "stream",
     "text": [
      " 29%|██▊       | 286/1000 [00:38<01:32,  7.73it/s]"
     ]
    },
    {
     "name": "stdout",
     "output_type": "stream",
     "text": [
      "HoG shape is  (133956,)\n",
      "Processing img  355.jpeg\n",
      "HoG shape is  (133956,)\n",
      "Processing img  356.jpeg\n"
     ]
    },
    {
     "name": "stderr",
     "output_type": "stream",
     "text": [
      " 29%|██▊       | 287/1000 [00:38<01:30,  7.84it/s]"
     ]
    },
    {
     "name": "stdout",
     "output_type": "stream",
     "text": [
      "HoG shape is  (133956,)\n",
      "Processing img  357.jpeg\n"
     ]
    },
    {
     "name": "stderr",
     "output_type": "stream",
     "text": [
      " 29%|██▉       | 288/1000 [00:38<01:51,  6.41it/s]"
     ]
    },
    {
     "name": "stdout",
     "output_type": "stream",
     "text": [
      "HoG shape is  (133956,)\n",
      "Processing img  358.jpeg\n"
     ]
    },
    {
     "name": "stderr",
     "output_type": "stream",
     "text": [
      " 29%|██▉       | 290/1000 [00:39<02:10,  5.46it/s]"
     ]
    },
    {
     "name": "stdout",
     "output_type": "stream",
     "text": [
      "HoG shape is  (133956,)\n",
      "Processing img  359.jpeg\n",
      "HoG shape is  (133956,)\n",
      "Processing img  36.jpeg\n"
     ]
    },
    {
     "name": "stderr",
     "output_type": "stream",
     "text": [
      " 29%|██▉       | 292/1000 [00:39<01:55,  6.15it/s]"
     ]
    },
    {
     "name": "stdout",
     "output_type": "stream",
     "text": [
      "HoG shape is  (133956,)\n",
      "Processing img  360.jpeg\n",
      "HoG shape is  (133956,)\n",
      "Processing img  361.jpeg\n"
     ]
    },
    {
     "name": "stderr",
     "output_type": "stream",
     "text": [
      " 29%|██▉       | 294/1000 [00:39<01:44,  6.75it/s]"
     ]
    },
    {
     "name": "stdout",
     "output_type": "stream",
     "text": [
      "HoG shape is  (133956,)\n",
      "Processing img  362.jpeg\n",
      "HoG shape is  (133956,)\n",
      "Processing img  363.jpeg\n"
     ]
    },
    {
     "name": "stderr",
     "output_type": "stream",
     "text": [
      " 30%|██▉       | 296/1000 [00:40<01:43,  6.80it/s]"
     ]
    },
    {
     "name": "stdout",
     "output_type": "stream",
     "text": [
      "HoG shape is  (133956,)\n",
      "Processing img  364.jpeg\n",
      "HoG shape is  (133956,)\n",
      "Processing img  365.jpeg\n"
     ]
    },
    {
     "name": "stderr",
     "output_type": "stream",
     "text": [
      " 30%|██▉       | 298/1000 [00:40<01:42,  6.85it/s]"
     ]
    },
    {
     "name": "stdout",
     "output_type": "stream",
     "text": [
      "HoG shape is  (133956,)\n",
      "Processing img  366.jpeg\n",
      "HoG shape is  (133956,)\n",
      "Processing img  367.jpeg\n"
     ]
    },
    {
     "name": "stderr",
     "output_type": "stream",
     "text": [
      " 30%|███       | 300/1000 [00:40<01:42,  6.80it/s]"
     ]
    },
    {
     "name": "stdout",
     "output_type": "stream",
     "text": [
      "HoG shape is  (133956,)\n",
      "Processing img  368.jpeg\n",
      "HoG shape is  (133956,)\n",
      "Processing img  369.jpeg\n"
     ]
    },
    {
     "name": "stderr",
     "output_type": "stream",
     "text": [
      " 30%|███       | 302/1000 [00:40<01:32,  7.56it/s]"
     ]
    },
    {
     "name": "stdout",
     "output_type": "stream",
     "text": [
      "HoG shape is  (133956,)\n",
      "Processing img  37.jpeg\n",
      "HoG shape is  (133956,)\n",
      "Processing img  370.jpeg\n"
     ]
    },
    {
     "name": "stderr",
     "output_type": "stream",
     "text": [
      " 30%|███       | 304/1000 [00:41<01:21,  8.53it/s]"
     ]
    },
    {
     "name": "stdout",
     "output_type": "stream",
     "text": [
      "HoG shape is  (133956,)\n",
      "Processing img  371.jpeg\n",
      "HoG shape is  (133956,)\n",
      "Processing img  372.jpeg\n"
     ]
    },
    {
     "name": "stderr",
     "output_type": "stream",
     "text": [
      " 31%|███       | 306/1000 [00:41<01:20,  8.64it/s]"
     ]
    },
    {
     "name": "stdout",
     "output_type": "stream",
     "text": [
      "HoG shape is  (133956,)\n",
      "Processing img  373.jpeg\n",
      "HoG shape is  (133956,)\n",
      "Processing img  374.jpeg\n"
     ]
    },
    {
     "name": "stderr",
     "output_type": "stream",
     "text": [
      " 31%|███       | 308/1000 [00:41<01:17,  8.97it/s]"
     ]
    },
    {
     "name": "stdout",
     "output_type": "stream",
     "text": [
      "HoG shape is  (133956,)\n",
      "Processing img  375.jpeg\n",
      "HoG shape is  (133956,)\n",
      "Processing img  376.jpeg\n",
      "HoG shape is  (133956,)\n",
      "Processing img  377.jpeg\n"
     ]
    },
    {
     "name": "stderr",
     "output_type": "stream",
     "text": [
      " 31%|███       | 311/1000 [00:41<01:15,  9.18it/s]"
     ]
    },
    {
     "name": "stdout",
     "output_type": "stream",
     "text": [
      "HoG shape is  (133956,)\n",
      "Processing img  378.jpeg\n",
      "HoG shape is  (133956,)\n",
      "Processing img  379.jpeg\n"
     ]
    },
    {
     "name": "stderr",
     "output_type": "stream",
     "text": [
      " 31%|███▏      | 313/1000 [00:42<01:20,  8.58it/s]"
     ]
    },
    {
     "name": "stdout",
     "output_type": "stream",
     "text": [
      "HoG shape is  (133956,)\n",
      "Processing img  38.jpeg\n",
      "HoG shape is  (133956,)\n",
      "Processing img  380.jpeg\n"
     ]
    },
    {
     "name": "stderr",
     "output_type": "stream",
     "text": [
      " 32%|███▏      | 315/1000 [00:42<01:21,  8.42it/s]"
     ]
    },
    {
     "name": "stdout",
     "output_type": "stream",
     "text": [
      "HoG shape is  (133956,)\n",
      "Processing img  381.jpeg\n",
      "HoG shape is  (133956,)\n",
      "Processing img  382.jpeg\n"
     ]
    },
    {
     "name": "stderr",
     "output_type": "stream",
     "text": [
      " 32%|███▏      | 317/1000 [00:42<01:22,  8.25it/s]"
     ]
    },
    {
     "name": "stdout",
     "output_type": "stream",
     "text": [
      "HoG shape is  (133956,)\n",
      "Processing img  383.jpeg\n",
      "HoG shape is  (133956,)\n",
      "Processing img  384.jpeg\n"
     ]
    },
    {
     "name": "stderr",
     "output_type": "stream",
     "text": [
      " 32%|███▏      | 319/1000 [00:43<01:45,  6.47it/s]"
     ]
    },
    {
     "name": "stdout",
     "output_type": "stream",
     "text": [
      "HoG shape is  (133956,)\n",
      "Processing img  385.jpeg\n",
      "HoG shape is  (133956,)\n",
      "Processing img  386.jpeg\n"
     ]
    },
    {
     "name": "stderr",
     "output_type": "stream",
     "text": [
      " 32%|███▏      | 321/1000 [00:43<01:41,  6.71it/s]"
     ]
    },
    {
     "name": "stdout",
     "output_type": "stream",
     "text": [
      "HoG shape is  (133956,)\n",
      "Processing img  387.jpeg\n",
      "HoG shape is  (133956,)\n",
      "Processing img  388.jpeg\n"
     ]
    },
    {
     "name": "stderr",
     "output_type": "stream",
     "text": [
      " 32%|███▏      | 323/1000 [00:43<01:28,  7.64it/s]"
     ]
    },
    {
     "name": "stdout",
     "output_type": "stream",
     "text": [
      "HoG shape is  (133956,)\n",
      "Processing img  389.jpeg\n",
      "HoG shape is  (133956,)\n",
      "Processing img  39.jpeg\n"
     ]
    },
    {
     "name": "stderr",
     "output_type": "stream",
     "text": [
      " 32%|███▎      | 325/1000 [00:43<01:22,  8.20it/s]"
     ]
    },
    {
     "name": "stdout",
     "output_type": "stream",
     "text": [
      "HoG shape is  (133956,)\n",
      "Processing img  390.jpeg\n",
      "HoG shape is  (133956,)\n",
      "Processing img  391.jpeg\n"
     ]
    },
    {
     "name": "stderr",
     "output_type": "stream",
     "text": [
      " 33%|███▎      | 327/1000 [00:44<01:24,  7.93it/s]"
     ]
    },
    {
     "name": "stdout",
     "output_type": "stream",
     "text": [
      "HoG shape is  (133956,)\n",
      "Processing img  392.jpeg\n",
      "HoG shape is  (133956,)\n",
      "Processing img  393.jpeg\n"
     ]
    },
    {
     "name": "stderr",
     "output_type": "stream",
     "text": [
      " 33%|███▎      | 329/1000 [00:44<01:28,  7.54it/s]"
     ]
    },
    {
     "name": "stdout",
     "output_type": "stream",
     "text": [
      "HoG shape is  (133956,)\n",
      "Processing img  394.jpeg\n",
      "HoG shape is  (133956,)\n",
      "Processing img  395.jpeg\n"
     ]
    },
    {
     "name": "stderr",
     "output_type": "stream",
     "text": [
      " 33%|███▎      | 331/1000 [00:44<01:24,  7.93it/s]"
     ]
    },
    {
     "name": "stdout",
     "output_type": "stream",
     "text": [
      "HoG shape is  (133956,)\n",
      "Processing img  396.jpeg\n",
      "HoG shape is  (133956,)\n",
      "Processing img  397.jpeg\n"
     ]
    },
    {
     "name": "stderr",
     "output_type": "stream",
     "text": [
      " 33%|███▎      | 333/1000 [00:44<01:17,  8.57it/s]"
     ]
    },
    {
     "name": "stdout",
     "output_type": "stream",
     "text": [
      "HoG shape is  (133956,)\n",
      "Processing img  398.jpeg\n",
      "HoG shape is  (133956,)\n",
      "Processing img  399.jpeg\n",
      "HoG shape is  (133956,)\n",
      "Processing img  4.jpeg\n"
     ]
    },
    {
     "name": "stderr",
     "output_type": "stream",
     "text": [
      " 34%|███▎      | 336/1000 [00:45<01:16,  8.66it/s]"
     ]
    },
    {
     "name": "stdout",
     "output_type": "stream",
     "text": [
      "HoG shape is  (133956,)\n",
      "Processing img  40.jpeg\n",
      "HoG shape is  (133956,)\n",
      "Processing img  400.jpeg\n",
      "HoG shape is  (133956,)\n",
      "Processing img  401.jpeg\n"
     ]
    },
    {
     "name": "stderr",
     "output_type": "stream",
     "text": [
      " 34%|███▍      | 339/1000 [00:45<01:26,  7.62it/s]"
     ]
    },
    {
     "name": "stdout",
     "output_type": "stream",
     "text": [
      "HoG shape is  (133956,)\n",
      "Processing img  402.jpeg\n",
      "HoG shape is  (133956,)\n",
      "Processing img  403.jpeg\n"
     ]
    },
    {
     "name": "stderr",
     "output_type": "stream",
     "text": [
      " 34%|███▍      | 341/1000 [00:45<01:26,  7.61it/s]"
     ]
    },
    {
     "name": "stdout",
     "output_type": "stream",
     "text": [
      "HoG shape is  (133956,)\n",
      "Processing img  404.jpeg\n",
      "HoG shape is  (133956,)\n",
      "Processing img  405.jpeg\n"
     ]
    },
    {
     "name": "stderr",
     "output_type": "stream",
     "text": [
      " 34%|███▍      | 343/1000 [00:46<01:23,  7.91it/s]"
     ]
    },
    {
     "name": "stdout",
     "output_type": "stream",
     "text": [
      "HoG shape is  (133956,)\n",
      "Processing img  406.jpeg\n",
      "HoG shape is  (133956,)\n",
      "Processing img  407.jpeg\n"
     ]
    },
    {
     "name": "stderr",
     "output_type": "stream",
     "text": [
      " 34%|███▍      | 345/1000 [00:46<01:21,  8.01it/s]"
     ]
    },
    {
     "name": "stdout",
     "output_type": "stream",
     "text": [
      "HoG shape is  (133956,)\n",
      "Processing img  408.jpeg\n",
      "HoG shape is  (133956,)\n",
      "Processing img  409.jpeg\n"
     ]
    },
    {
     "name": "stderr",
     "output_type": "stream",
     "text": [
      " 35%|███▍      | 347/1000 [00:46<01:28,  7.42it/s]"
     ]
    },
    {
     "name": "stdout",
     "output_type": "stream",
     "text": [
      "HoG shape is  (133956,)\n",
      "Processing img  41.jpeg\n",
      "HoG shape is  (133956,)\n",
      "Processing img  410.jpeg\n"
     ]
    },
    {
     "name": "stderr",
     "output_type": "stream",
     "text": [
      " 35%|███▍      | 349/1000 [00:46<01:25,  7.63it/s]"
     ]
    },
    {
     "name": "stdout",
     "output_type": "stream",
     "text": [
      "HoG shape is  (133956,)\n",
      "Processing img  411.jpeg\n",
      "HoG shape is  (133956,)\n",
      "Processing img  412.jpeg\n"
     ]
    },
    {
     "name": "stderr",
     "output_type": "stream",
     "text": [
      " 35%|███▌      | 351/1000 [00:47<01:21,  7.99it/s]"
     ]
    },
    {
     "name": "stdout",
     "output_type": "stream",
     "text": [
      "HoG shape is  (133956,)\n",
      "Processing img  413.jpeg\n",
      "HoG shape is  (133956,)\n",
      "Processing img  414.jpeg\n"
     ]
    },
    {
     "name": "stderr",
     "output_type": "stream",
     "text": [
      " 35%|███▌      | 352/1000 [00:47<01:17,  8.32it/s]"
     ]
    },
    {
     "name": "stdout",
     "output_type": "stream",
     "text": [
      "HoG shape is  (133956,)\n",
      "Processing img  415.jpeg\n"
     ]
    },
    {
     "name": "stderr",
     "output_type": "stream",
     "text": [
      " 35%|███▌      | 354/1000 [00:47<01:42,  6.29it/s]"
     ]
    },
    {
     "name": "stdout",
     "output_type": "stream",
     "text": [
      "HoG shape is  (133956,)\n",
      "Processing img  416.jpeg\n",
      "HoG shape is  (133956,)\n",
      "Processing img  417.jpeg\n"
     ]
    },
    {
     "name": "stderr",
     "output_type": "stream",
     "text": [
      " 36%|███▌      | 356/1000 [00:47<01:27,  7.34it/s]"
     ]
    },
    {
     "name": "stdout",
     "output_type": "stream",
     "text": [
      "HoG shape is  (133956,)\n",
      "Processing img  418.jpeg\n",
      "HoG shape is  (133956,)\n",
      "Processing img  419.jpeg\n"
     ]
    },
    {
     "name": "stderr",
     "output_type": "stream",
     "text": [
      " 36%|███▌      | 358/1000 [00:48<01:20,  7.93it/s]"
     ]
    },
    {
     "name": "stdout",
     "output_type": "stream",
     "text": [
      "HoG shape is  (133956,)\n",
      "Processing img  42.jpeg\n",
      "HoG shape is  (133956,)\n",
      "Processing img  420.jpeg\n"
     ]
    },
    {
     "name": "stderr",
     "output_type": "stream",
     "text": [
      " 36%|███▌      | 360/1000 [00:48<01:17,  8.31it/s]"
     ]
    },
    {
     "name": "stdout",
     "output_type": "stream",
     "text": [
      "HoG shape is  (133956,)\n",
      "Processing img  421.jpeg\n",
      "HoG shape is  (133956,)\n",
      "Processing img  422.jpeg\n"
     ]
    },
    {
     "name": "stderr",
     "output_type": "stream",
     "text": [
      " 36%|███▌      | 362/1000 [00:48<01:11,  8.98it/s]"
     ]
    },
    {
     "name": "stdout",
     "output_type": "stream",
     "text": [
      "HoG shape is  (133956,)\n",
      "Processing img  423.jpeg\n",
      "HoG shape is  (133956,)\n",
      "Processing img  424.jpeg\n"
     ]
    },
    {
     "name": "stderr",
     "output_type": "stream",
     "text": [
      " 36%|███▋      | 364/1000 [00:48<01:15,  8.38it/s]"
     ]
    },
    {
     "name": "stdout",
     "output_type": "stream",
     "text": [
      "HoG shape is  (133956,)\n",
      "Processing img  425.jpeg\n",
      "HoG shape is  (133956,)\n",
      "Processing img  426.jpeg\n"
     ]
    },
    {
     "name": "stderr",
     "output_type": "stream",
     "text": [
      " 37%|███▋      | 366/1000 [00:49<01:29,  7.11it/s]"
     ]
    },
    {
     "name": "stdout",
     "output_type": "stream",
     "text": [
      "HoG shape is  (133956,)\n",
      "Processing img  427.jpeg\n",
      "HoG shape is  (133956,)\n",
      "Processing img  428.jpeg\n"
     ]
    },
    {
     "name": "stderr",
     "output_type": "stream",
     "text": [
      " 37%|███▋      | 367/1000 [00:49<01:46,  5.97it/s]"
     ]
    },
    {
     "name": "stdout",
     "output_type": "stream",
     "text": [
      "HoG shape is  (133956,)\n",
      "Processing img  429.jpeg\n"
     ]
    },
    {
     "name": "stderr",
     "output_type": "stream",
     "text": [
      " 37%|███▋      | 368/1000 [00:49<02:00,  5.25it/s]"
     ]
    },
    {
     "name": "stdout",
     "output_type": "stream",
     "text": [
      "HoG shape is  (133956,)\n",
      "Processing img  43.jpeg\n",
      "HoG shape is  (133956,)\n"
     ]
    },
    {
     "name": "stderr",
     "output_type": "stream",
     "text": [
      " 37%|███▋      | 370/1000 [00:49<01:51,  5.66it/s]"
     ]
    },
    {
     "name": "stdout",
     "output_type": "stream",
     "text": [
      "Processing img  430.jpeg\n",
      "HoG shape is  (133956,)\n",
      "Processing img  431.jpeg\n"
     ]
    },
    {
     "name": "stderr",
     "output_type": "stream",
     "text": [
      " 37%|███▋      | 372/1000 [00:50<01:35,  6.55it/s]"
     ]
    },
    {
     "name": "stdout",
     "output_type": "stream",
     "text": [
      "HoG shape is  (133956,)\n",
      "Processing img  432.jpeg\n",
      "HoG shape is  (133956,)\n",
      "Processing img  433.jpeg\n"
     ]
    },
    {
     "name": "stderr",
     "output_type": "stream",
     "text": [
      " 37%|███▋      | 374/1000 [00:50<01:34,  6.64it/s]"
     ]
    },
    {
     "name": "stdout",
     "output_type": "stream",
     "text": [
      "HoG shape is  (133956,)\n",
      "Processing img  434.jpeg\n",
      "HoG shape is  (133956,)\n",
      "Processing img  435.jpeg\n"
     ]
    },
    {
     "name": "stderr",
     "output_type": "stream",
     "text": [
      " 38%|███▊      | 375/1000 [00:50<01:29,  7.01it/s]"
     ]
    },
    {
     "name": "stdout",
     "output_type": "stream",
     "text": [
      "HoG shape is  (133956,)\n",
      "Processing img  436.jpeg\n",
      "HoG shape is  (133956,)\n"
     ]
    },
    {
     "name": "stderr",
     "output_type": "stream",
     "text": [
      " 38%|███▊      | 377/1000 [00:50<01:42,  6.08it/s]"
     ]
    },
    {
     "name": "stdout",
     "output_type": "stream",
     "text": [
      "Processing img  437.jpeg\n",
      "HoG shape is  (133956,)\n"
     ]
    },
    {
     "name": "stderr",
     "output_type": "stream",
     "text": [
      " 38%|███▊      | 378/1000 [00:51<01:50,  5.63it/s]"
     ]
    },
    {
     "name": "stdout",
     "output_type": "stream",
     "text": [
      "Processing img  438.jpeg\n",
      "HoG shape is  (133956,)\n"
     ]
    },
    {
     "name": "stderr",
     "output_type": "stream",
     "text": [
      " 38%|███▊      | 379/1000 [00:51<01:46,  5.81it/s]"
     ]
    },
    {
     "name": "stdout",
     "output_type": "stream",
     "text": [
      "Processing img  439.jpeg\n",
      "HoG shape is  (133956,)\n",
      "Processing img  44.jpeg\n"
     ]
    },
    {
     "name": "stderr",
     "output_type": "stream",
     "text": [
      " 38%|███▊      | 381/1000 [00:51<01:38,  6.29it/s]"
     ]
    },
    {
     "name": "stdout",
     "output_type": "stream",
     "text": [
      "HoG shape is  (133956,)\n",
      "Processing img  440.jpeg\n",
      "HoG shape is  (133956,)\n",
      "Processing img  441.jpeg\n"
     ]
    },
    {
     "name": "stderr",
     "output_type": "stream",
     "text": [
      " 38%|███▊      | 383/1000 [00:51<01:38,  6.23it/s]"
     ]
    },
    {
     "name": "stdout",
     "output_type": "stream",
     "text": [
      "HoG shape is  (133956,)\n",
      "Processing img  442.jpeg\n",
      "HoG shape is  (133956,)\n",
      "Processing img  443.jpeg\n"
     ]
    },
    {
     "name": "stderr",
     "output_type": "stream",
     "text": [
      " 38%|███▊      | 385/1000 [00:52<01:25,  7.19it/s]"
     ]
    },
    {
     "name": "stdout",
     "output_type": "stream",
     "text": [
      "HoG shape is  (133956,)\n",
      "Processing img  444.jpeg\n",
      "HoG shape is  (133956,)\n",
      "Processing img  445.jpeg\n"
     ]
    },
    {
     "name": "stderr",
     "output_type": "stream",
     "text": [
      " 39%|███▊      | 387/1000 [00:52<01:39,  6.16it/s]"
     ]
    },
    {
     "name": "stdout",
     "output_type": "stream",
     "text": [
      "HoG shape is  (133956,)\n",
      "Processing img  446.jpeg\n",
      "HoG shape is  (133956,)\n",
      "Processing img  447.jpeg\n"
     ]
    },
    {
     "name": "stderr",
     "output_type": "stream",
     "text": [
      " 39%|███▉      | 389/1000 [00:52<01:43,  5.89it/s]"
     ]
    },
    {
     "name": "stdout",
     "output_type": "stream",
     "text": [
      "HoG shape is  (133956,)\n",
      "Processing img  448.jpeg\n",
      "HoG shape is  (133956,)\n",
      "Processing img  449.jpeg\n"
     ]
    },
    {
     "name": "stderr",
     "output_type": "stream",
     "text": [
      " 39%|███▉      | 391/1000 [00:53<01:41,  6.02it/s]"
     ]
    },
    {
     "name": "stdout",
     "output_type": "stream",
     "text": [
      "HoG shape is  (133956,)\n",
      "Processing img  45.jpeg\n",
      "HoG shape is  (133956,)\n",
      "Processing img  450.jpeg\n"
     ]
    },
    {
     "name": "stderr",
     "output_type": "stream",
     "text": [
      " 39%|███▉      | 393/1000 [00:53<01:47,  5.64it/s]"
     ]
    },
    {
     "name": "stdout",
     "output_type": "stream",
     "text": [
      "HoG shape is  (133956,)\n",
      "Processing img  451.jpeg\n",
      "HoG shape is  (133956,)\n",
      "Processing img  452.jpeg\n"
     ]
    },
    {
     "name": "stderr",
     "output_type": "stream",
     "text": [
      " 40%|███▉      | 395/1000 [00:53<01:47,  5.64it/s]"
     ]
    },
    {
     "name": "stdout",
     "output_type": "stream",
     "text": [
      "HoG shape is  (133956,)\n",
      "Processing img  453.jpeg\n",
      "HoG shape is  (133956,)\n",
      "Processing img  454.jpeg\n"
     ]
    },
    {
     "name": "stderr",
     "output_type": "stream",
     "text": [
      " 40%|███▉      | 397/1000 [00:54<01:43,  5.80it/s]"
     ]
    },
    {
     "name": "stdout",
     "output_type": "stream",
     "text": [
      "HoG shape is  (133956,)\n",
      "Processing img  455.jpeg\n",
      "HoG shape is  (133956,)\n",
      "Processing img  456.jpeg\n"
     ]
    },
    {
     "name": "stderr",
     "output_type": "stream",
     "text": [
      " 40%|███▉      | 399/1000 [00:54<01:36,  6.21it/s]"
     ]
    },
    {
     "name": "stdout",
     "output_type": "stream",
     "text": [
      "HoG shape is  (133956,)\n",
      "Processing img  457.jpeg\n",
      "HoG shape is  (133956,)\n",
      "Processing img  458.jpeg\n"
     ]
    },
    {
     "name": "stderr",
     "output_type": "stream",
     "text": [
      " 40%|████      | 401/1000 [00:54<01:34,  6.37it/s]"
     ]
    },
    {
     "name": "stdout",
     "output_type": "stream",
     "text": [
      "HoG shape is  (133956,)\n",
      "Processing img  459.jpeg\n",
      "HoG shape is  (133956,)\n",
      "Processing img  46.jpeg\n"
     ]
    },
    {
     "name": "stderr",
     "output_type": "stream",
     "text": [
      " 40%|████      | 402/1000 [00:54<01:26,  6.89it/s]"
     ]
    },
    {
     "name": "stdout",
     "output_type": "stream",
     "text": [
      "HoG shape is  (133956,)\n",
      "Processing img  460.jpeg\n"
     ]
    },
    {
     "name": "stderr",
     "output_type": "stream",
     "text": [
      " 40%|████      | 403/1000 [00:55<01:44,  5.74it/s]"
     ]
    },
    {
     "name": "stdout",
     "output_type": "stream",
     "text": [
      "HoG shape is  (133956,)\n",
      "Processing img  461.jpeg\n",
      "HoG shape is  (133956,)\n"
     ]
    },
    {
     "name": "stderr",
     "output_type": "stream",
     "text": [
      " 40%|████      | 405/1000 [00:55<01:44,  5.70it/s]"
     ]
    },
    {
     "name": "stdout",
     "output_type": "stream",
     "text": [
      "Processing img  462.jpeg\n",
      "HoG shape is  (133956,)\n",
      "Processing img  463.jpeg\n"
     ]
    },
    {
     "name": "stderr",
     "output_type": "stream",
     "text": [
      " 41%|████      | 407/1000 [00:55<01:39,  5.96it/s]"
     ]
    },
    {
     "name": "stdout",
     "output_type": "stream",
     "text": [
      "HoG shape is  (133956,)\n",
      "Processing img  464.jpeg\n",
      "HoG shape is  (133956,)\n",
      "Processing img  465.jpeg\n"
     ]
    },
    {
     "name": "stderr",
     "output_type": "stream",
     "text": [
      " 41%|████      | 409/1000 [00:56<01:32,  6.40it/s]"
     ]
    },
    {
     "name": "stdout",
     "output_type": "stream",
     "text": [
      "HoG shape is  (133956,)\n",
      "Processing img  466.jpeg\n",
      "HoG shape is  (133956,)\n",
      "Processing img  467.jpeg\n"
     ]
    },
    {
     "name": "stderr",
     "output_type": "stream",
     "text": [
      " 41%|████      | 410/1000 [00:56<01:31,  6.41it/s]"
     ]
    },
    {
     "name": "stdout",
     "output_type": "stream",
     "text": [
      "HoG shape is  (133956,)\n",
      "Processing img  468.jpeg\n",
      "HoG shape is  (133956,)\n"
     ]
    },
    {
     "name": "stderr",
     "output_type": "stream",
     "text": [
      " 41%|████      | 412/1000 [00:56<01:33,  6.27it/s]"
     ]
    },
    {
     "name": "stdout",
     "output_type": "stream",
     "text": [
      "Processing img  469.jpeg\n",
      "HoG shape is  (133956,)\n",
      "Processing img  47.jpeg\n"
     ]
    },
    {
     "name": "stderr",
     "output_type": "stream",
     "text": [
      " 41%|████▏     | 414/1000 [00:57<01:35,  6.12it/s]"
     ]
    },
    {
     "name": "stdout",
     "output_type": "stream",
     "text": [
      "HoG shape is  (133956,)\n",
      "Processing img  470.jpeg\n",
      "HoG shape is  (133956,)\n",
      "Processing img  471.jpeg\n"
     ]
    },
    {
     "name": "stderr",
     "output_type": "stream",
     "text": [
      " 42%|████▏     | 416/1000 [00:57<01:26,  6.74it/s]"
     ]
    },
    {
     "name": "stdout",
     "output_type": "stream",
     "text": [
      "HoG shape is  (133956,)\n",
      "Processing img  472.jpeg\n",
      "HoG shape is  (133956,)\n",
      "Processing img  473.jpeg\n"
     ]
    },
    {
     "name": "stderr",
     "output_type": "stream",
     "text": [
      " 42%|████▏     | 418/1000 [00:57<01:22,  7.06it/s]"
     ]
    },
    {
     "name": "stdout",
     "output_type": "stream",
     "text": [
      "HoG shape is  (133956,)\n",
      "Processing img  474.jpeg\n",
      "HoG shape is  (133956,)\n",
      "Processing img  475.jpeg\n"
     ]
    },
    {
     "name": "stderr",
     "output_type": "stream",
     "text": [
      " 42%|████▏     | 419/1000 [00:57<01:21,  7.15it/s]"
     ]
    },
    {
     "name": "stdout",
     "output_type": "stream",
     "text": [
      "HoG shape is  (133956,)\n",
      "Processing img  476.jpeg\n",
      "HoG shape is  (133956,)\n"
     ]
    },
    {
     "name": "stderr",
     "output_type": "stream",
     "text": [
      " 42%|████▏     | 420/1000 [00:57<01:27,  6.63it/s]"
     ]
    },
    {
     "name": "stdout",
     "output_type": "stream",
     "text": [
      "Processing img  477.jpeg\n"
     ]
    },
    {
     "name": "stderr",
     "output_type": "stream",
     "text": [
      " 42%|████▏     | 421/1000 [00:58<01:46,  5.45it/s]"
     ]
    },
    {
     "name": "stdout",
     "output_type": "stream",
     "text": [
      "HoG shape is  (133956,)\n",
      "Processing img  478.jpeg\n",
      "HoG shape is  (133956,)\n"
     ]
    },
    {
     "name": "stderr",
     "output_type": "stream",
     "text": [
      " 42%|████▏     | 423/1000 [00:58<01:43,  5.58it/s]"
     ]
    },
    {
     "name": "stdout",
     "output_type": "stream",
     "text": [
      "Processing img  479.jpeg\n",
      "HoG shape is  (133956,)\n",
      "Processing img  48.jpeg\n"
     ]
    },
    {
     "name": "stderr",
     "output_type": "stream",
     "text": [
      " 42%|████▎     | 425/1000 [00:58<01:37,  5.89it/s]"
     ]
    },
    {
     "name": "stdout",
     "output_type": "stream",
     "text": [
      "HoG shape is  (133956,)\n",
      "Processing img  480.jpeg\n",
      "HoG shape is  (133956,)\n",
      "Processing img  481.jpeg\n"
     ]
    },
    {
     "name": "stderr",
     "output_type": "stream",
     "text": [
      " 43%|████▎     | 427/1000 [00:59<01:30,  6.33it/s]"
     ]
    },
    {
     "name": "stdout",
     "output_type": "stream",
     "text": [
      "HoG shape is  (133956,)\n",
      "Processing img  482.jpeg\n",
      "HoG shape is  (133956,)\n",
      "Processing img  483.jpeg\n"
     ]
    },
    {
     "name": "stderr",
     "output_type": "stream",
     "text": [
      " 43%|████▎     | 429/1000 [00:59<01:32,  6.16it/s]"
     ]
    },
    {
     "name": "stdout",
     "output_type": "stream",
     "text": [
      "HoG shape is  (133956,)\n",
      "Processing img  484.jpeg\n",
      "HoG shape is  (133956,)\n",
      "Processing img  485.jpeg\n"
     ]
    },
    {
     "name": "stderr",
     "output_type": "stream",
     "text": [
      " 43%|████▎     | 431/1000 [00:59<01:23,  6.80it/s]"
     ]
    },
    {
     "name": "stdout",
     "output_type": "stream",
     "text": [
      "HoG shape is  (133956,)\n",
      "Processing img  486.jpeg\n",
      "HoG shape is  (133956,)\n",
      "Processing img  487.jpeg\n"
     ]
    },
    {
     "name": "stderr",
     "output_type": "stream",
     "text": [
      " 43%|████▎     | 433/1000 [00:59<01:21,  6.93it/s]"
     ]
    },
    {
     "name": "stdout",
     "output_type": "stream",
     "text": [
      "HoG shape is  (133956,)\n",
      "Processing img  488.jpeg\n",
      "HoG shape is  (133956,)\n",
      "Processing img  489.jpeg\n"
     ]
    },
    {
     "name": "stderr",
     "output_type": "stream",
     "text": [
      " 43%|████▎     | 434/1000 [01:00<01:37,  5.81it/s]"
     ]
    },
    {
     "name": "stdout",
     "output_type": "stream",
     "text": [
      "HoG shape is  (133956,)\n",
      "Processing img  49.jpeg\n",
      "HoG shape is  (133956,)\n"
     ]
    },
    {
     "name": "stderr",
     "output_type": "stream",
     "text": [
      " 44%|████▎     | 436/1000 [01:00<01:34,  5.96it/s]"
     ]
    },
    {
     "name": "stdout",
     "output_type": "stream",
     "text": [
      "Processing img  490.jpeg\n",
      "HoG shape is  (133956,)\n",
      "Processing img  491.jpeg\n"
     ]
    },
    {
     "name": "stderr",
     "output_type": "stream",
     "text": [
      " 44%|████▍     | 438/1000 [01:00<01:30,  6.22it/s]"
     ]
    },
    {
     "name": "stdout",
     "output_type": "stream",
     "text": [
      "HoG shape is  (133956,)\n",
      "Processing img  492.jpeg\n",
      "HoG shape is  (133956,)\n",
      "Processing img  493.jpeg\n"
     ]
    },
    {
     "name": "stderr",
     "output_type": "stream",
     "text": [
      " 44%|████▍     | 440/1000 [01:01<01:24,  6.60it/s]"
     ]
    },
    {
     "name": "stdout",
     "output_type": "stream",
     "text": [
      "HoG shape is  (133956,)\n",
      "Processing img  494.jpeg\n",
      "HoG shape is  (133956,)\n",
      "Processing img  495.jpeg\n"
     ]
    },
    {
     "name": "stderr",
     "output_type": "stream",
     "text": [
      " 44%|████▍     | 442/1000 [01:01<01:23,  6.65it/s]"
     ]
    },
    {
     "name": "stdout",
     "output_type": "stream",
     "text": [
      "HoG shape is  (133956,)\n",
      "Processing img  496.jpeg\n",
      "HoG shape is  (133956,)\n",
      "Processing img  497.jpeg\n"
     ]
    },
    {
     "name": "stderr",
     "output_type": "stream",
     "text": [
      " 44%|████▍     | 444/1000 [01:01<01:19,  6.98it/s]"
     ]
    },
    {
     "name": "stdout",
     "output_type": "stream",
     "text": [
      "HoG shape is  (133956,)\n",
      "Processing img  498.jpeg\n",
      "HoG shape is  (133956,)\n",
      "Processing img  499.jpeg\n"
     ]
    },
    {
     "name": "stderr",
     "output_type": "stream",
     "text": [
      " 44%|████▍     | 445/1000 [01:01<01:18,  7.04it/s]"
     ]
    },
    {
     "name": "stdout",
     "output_type": "stream",
     "text": [
      "HoG shape is  (133956,)\n",
      "Processing img  5.jpeg\n"
     ]
    },
    {
     "name": "stderr",
     "output_type": "stream",
     "text": [
      " 45%|████▍     | 446/1000 [01:02<02:01,  4.56it/s]"
     ]
    },
    {
     "name": "stdout",
     "output_type": "stream",
     "text": [
      "HoG shape is  (133956,)\n",
      "Processing img  50.jpeg\n",
      "HoG shape is  (133956,)\n"
     ]
    },
    {
     "name": "stderr",
     "output_type": "stream",
     "text": [
      " 45%|████▍     | 448/1000 [01:02<01:50,  4.99it/s]"
     ]
    },
    {
     "name": "stdout",
     "output_type": "stream",
     "text": [
      "Processing img  500.jpeg\n",
      "HoG shape is  (133956,)\n",
      "Processing img  501.jpeg\n"
     ]
    },
    {
     "name": "stderr",
     "output_type": "stream",
     "text": [
      " 45%|████▌     | 450/1000 [01:02<01:33,  5.91it/s]"
     ]
    },
    {
     "name": "stdout",
     "output_type": "stream",
     "text": [
      "HoG shape is  (133956,)\n",
      "Processing img  502.jpeg\n",
      "HoG shape is  (133956,)\n",
      "Processing img  503.jpeg\n"
     ]
    },
    {
     "name": "stderr",
     "output_type": "stream",
     "text": [
      " 45%|████▌     | 452/1000 [01:03<01:20,  6.79it/s]"
     ]
    },
    {
     "name": "stdout",
     "output_type": "stream",
     "text": [
      "HoG shape is  (133956,)\n",
      "Processing img  504.jpeg\n",
      "HoG shape is  (133956,)\n",
      "Processing img  505.jpeg\n"
     ]
    },
    {
     "name": "stderr",
     "output_type": "stream",
     "text": [
      " 45%|████▌     | 454/1000 [01:03<01:14,  7.28it/s]"
     ]
    },
    {
     "name": "stdout",
     "output_type": "stream",
     "text": [
      "HoG shape is  (133956,)\n",
      "Processing img  506.jpeg\n",
      "HoG shape is  (133956,)\n",
      "Processing img  507.jpeg\n"
     ]
    },
    {
     "name": "stderr",
     "output_type": "stream",
     "text": [
      " 46%|████▌     | 456/1000 [01:03<01:11,  7.61it/s]"
     ]
    },
    {
     "name": "stdout",
     "output_type": "stream",
     "text": [
      "HoG shape is  (133956,)\n",
      "Processing img  508.jpeg\n",
      "HoG shape is  (133956,)\n",
      "Processing img  509.jpeg\n"
     ]
    },
    {
     "name": "stderr",
     "output_type": "stream",
     "text": [
      " 46%|████▌     | 458/1000 [01:04<01:29,  6.04it/s]"
     ]
    },
    {
     "name": "stdout",
     "output_type": "stream",
     "text": [
      "HoG shape is  (133956,)\n",
      "Processing img  51.jpeg\n",
      "HoG shape is  (133956,)\n",
      "Processing img  510.jpeg\n"
     ]
    },
    {
     "name": "stderr",
     "output_type": "stream",
     "text": [
      " 46%|████▌     | 460/1000 [01:04<01:20,  6.68it/s]"
     ]
    },
    {
     "name": "stdout",
     "output_type": "stream",
     "text": [
      "HoG shape is  (133956,)\n",
      "Processing img  511.jpeg\n",
      "HoG shape is  (133956,)\n",
      "Processing img  512.jpeg\n"
     ]
    },
    {
     "name": "stderr",
     "output_type": "stream",
     "text": [
      " 46%|████▌     | 462/1000 [01:04<01:19,  6.75it/s]"
     ]
    },
    {
     "name": "stdout",
     "output_type": "stream",
     "text": [
      "HoG shape is  (133956,)\n",
      "Processing img  513.jpeg\n",
      "HoG shape is  (133956,)\n",
      "Processing img  514.jpeg\n"
     ]
    },
    {
     "name": "stderr",
     "output_type": "stream",
     "text": [
      " 46%|████▋     | 464/1000 [01:04<01:31,  5.86it/s]"
     ]
    },
    {
     "name": "stdout",
     "output_type": "stream",
     "text": [
      "HoG shape is  (133956,)\n",
      "Processing img  515.jpeg\n",
      "HoG shape is  (133956,)\n",
      "Processing img  516.jpeg\n"
     ]
    },
    {
     "name": "stderr",
     "output_type": "stream",
     "text": [
      " 47%|████▋     | 466/1000 [01:05<01:20,  6.67it/s]"
     ]
    },
    {
     "name": "stdout",
     "output_type": "stream",
     "text": [
      "HoG shape is  (133956,)\n",
      "Processing img  517.jpeg\n",
      "HoG shape is  (133956,)\n",
      "Processing img  518.jpeg\n"
     ]
    },
    {
     "name": "stderr",
     "output_type": "stream",
     "text": [
      " 47%|████▋     | 468/1000 [01:05<01:19,  6.68it/s]"
     ]
    },
    {
     "name": "stdout",
     "output_type": "stream",
     "text": [
      "HoG shape is  (133956,)\n",
      "Processing img  519.jpeg\n",
      "HoG shape is  (133956,)\n",
      "Processing img  52.jpeg\n"
     ]
    },
    {
     "name": "stderr",
     "output_type": "stream",
     "text": [
      " 47%|████▋     | 470/1000 [01:05<01:14,  7.14it/s]"
     ]
    },
    {
     "name": "stdout",
     "output_type": "stream",
     "text": [
      "HoG shape is  (133956,)\n",
      "Processing img  520.jpeg\n",
      "HoG shape is  (133956,)\n",
      "Processing img  521.jpeg\n"
     ]
    },
    {
     "name": "stderr",
     "output_type": "stream",
     "text": [
      " 47%|████▋     | 472/1000 [01:06<01:21,  6.50it/s]"
     ]
    },
    {
     "name": "stdout",
     "output_type": "stream",
     "text": [
      "HoG shape is  (133956,)\n",
      "Processing img  522.jpeg\n",
      "HoG shape is  (133956,)\n",
      "Processing img  523.jpeg\n"
     ]
    },
    {
     "name": "stderr",
     "output_type": "stream",
     "text": [
      " 47%|████▋     | 474/1000 [01:06<01:22,  6.40it/s]"
     ]
    },
    {
     "name": "stdout",
     "output_type": "stream",
     "text": [
      "HoG shape is  (133956,)\n",
      "Processing img  524.jpeg\n",
      "HoG shape is  (133956,)\n",
      "Processing img  525.jpeg\n"
     ]
    },
    {
     "name": "stderr",
     "output_type": "stream",
     "text": [
      " 48%|████▊     | 475/1000 [01:06<01:17,  6.76it/s]"
     ]
    },
    {
     "name": "stdout",
     "output_type": "stream",
     "text": [
      "HoG shape is  (133956,)\n",
      "Processing img  526.jpeg\n",
      "HoG shape is  (133956,)\n"
     ]
    },
    {
     "name": "stderr",
     "output_type": "stream",
     "text": [
      " 48%|████▊     | 477/1000 [01:06<01:20,  6.50it/s]"
     ]
    },
    {
     "name": "stdout",
     "output_type": "stream",
     "text": [
      "Processing img  527.jpeg\n",
      "HoG shape is  (133956,)\n",
      "Processing img  528.jpeg\n"
     ]
    },
    {
     "name": "stderr",
     "output_type": "stream",
     "text": [
      " 48%|████▊     | 479/1000 [01:07<01:13,  7.06it/s]"
     ]
    },
    {
     "name": "stdout",
     "output_type": "stream",
     "text": [
      "HoG shape is  (133956,)\n",
      "Processing img  529.jpeg\n",
      "HoG shape is  (133956,)\n",
      "Processing img  53.jpeg\n"
     ]
    },
    {
     "name": "stderr",
     "output_type": "stream",
     "text": [
      " 48%|████▊     | 481/1000 [01:07<01:43,  5.01it/s]"
     ]
    },
    {
     "name": "stdout",
     "output_type": "stream",
     "text": [
      "HoG shape is  (133956,)\n",
      "Processing img  530.jpeg\n",
      "HoG shape is  (133956,)\n",
      "Processing img  531.jpeg\n"
     ]
    },
    {
     "name": "stderr",
     "output_type": "stream",
     "text": [
      " 48%|████▊     | 483/1000 [01:07<01:26,  5.99it/s]"
     ]
    },
    {
     "name": "stdout",
     "output_type": "stream",
     "text": [
      "HoG shape is  (133956,)\n",
      "Processing img  532.jpeg\n",
      "HoG shape is  (133956,)\n",
      "Processing img  533.jpeg\n"
     ]
    },
    {
     "name": "stderr",
     "output_type": "stream",
     "text": [
      " 48%|████▊     | 484/1000 [01:08<01:20,  6.39it/s]"
     ]
    },
    {
     "name": "stdout",
     "output_type": "stream",
     "text": [
      "HoG shape is  (133956,)\n",
      "Processing img  534.jpeg\n",
      "HoG shape is  (133956,)\n"
     ]
    },
    {
     "name": "stderr",
     "output_type": "stream",
     "text": [
      " 49%|████▊     | 486/1000 [01:08<01:19,  6.47it/s]"
     ]
    },
    {
     "name": "stdout",
     "output_type": "stream",
     "text": [
      "Processing img  535.jpeg\n",
      "HoG shape is  (133956,)\n",
      "Processing img  536.jpeg\n"
     ]
    },
    {
     "name": "stderr",
     "output_type": "stream",
     "text": [
      " 49%|████▉     | 488/1000 [01:08<01:15,  6.77it/s]"
     ]
    },
    {
     "name": "stdout",
     "output_type": "stream",
     "text": [
      "HoG shape is  (133956,)\n",
      "Processing img  537.jpeg\n",
      "HoG shape is  (133956,)\n",
      "Processing img  538.jpeg\n"
     ]
    },
    {
     "name": "stderr",
     "output_type": "stream",
     "text": [
      " 49%|████▉     | 490/1000 [01:08<01:15,  6.79it/s]"
     ]
    },
    {
     "name": "stdout",
     "output_type": "stream",
     "text": [
      "HoG shape is  (133956,)\n",
      "Processing img  539.jpeg\n",
      "HoG shape is  (133956,)\n",
      "Processing img  54.jpeg\n"
     ]
    },
    {
     "name": "stderr",
     "output_type": "stream",
     "text": [
      " 49%|████▉     | 491/1000 [01:09<01:12,  7.03it/s]"
     ]
    },
    {
     "name": "stdout",
     "output_type": "stream",
     "text": [
      "HoG shape is  (133956,)\n",
      "Processing img  540.jpeg\n",
      "HoG shape is  (133956,)\n"
     ]
    },
    {
     "name": "stderr",
     "output_type": "stream",
     "text": [
      " 49%|████▉     | 493/1000 [01:09<01:12,  6.95it/s]"
     ]
    },
    {
     "name": "stdout",
     "output_type": "stream",
     "text": [
      "Processing img  541.jpeg\n",
      "HoG shape is  (133956,)\n",
      "Processing img  542.jpeg\n"
     ]
    },
    {
     "name": "stderr",
     "output_type": "stream",
     "text": [
      " 49%|████▉     | 494/1000 [01:09<01:13,  6.86it/s]"
     ]
    },
    {
     "name": "stdout",
     "output_type": "stream",
     "text": [
      "HoG shape is  (133956,)\n",
      "Processing img  543.jpeg\n"
     ]
    },
    {
     "name": "stderr",
     "output_type": "stream",
     "text": [
      " 50%|████▉     | 495/1000 [01:09<01:29,  5.63it/s]"
     ]
    },
    {
     "name": "stdout",
     "output_type": "stream",
     "text": [
      "HoG shape is  (133956,)\n",
      "Processing img  544.jpeg\n"
     ]
    },
    {
     "name": "stderr",
     "output_type": "stream",
     "text": [
      " 50%|████▉     | 497/1000 [01:10<01:33,  5.38it/s]"
     ]
    },
    {
     "name": "stdout",
     "output_type": "stream",
     "text": [
      "HoG shape is  (133956,)\n",
      "Processing img  545.jpeg\n",
      "HoG shape is  (133956,)\n",
      "Processing img  546.jpeg\n"
     ]
    },
    {
     "name": "stderr",
     "output_type": "stream",
     "text": [
      " 50%|████▉     | 499/1000 [01:10<01:22,  6.11it/s]"
     ]
    },
    {
     "name": "stdout",
     "output_type": "stream",
     "text": [
      "HoG shape is  (133956,)\n",
      "Processing img  547.jpeg\n",
      "HoG shape is  (133956,)\n",
      "Processing img  548.jpeg\n"
     ]
    },
    {
     "name": "stderr",
     "output_type": "stream",
     "text": [
      " 50%|█████     | 501/1000 [01:10<01:07,  7.38it/s]"
     ]
    },
    {
     "name": "stdout",
     "output_type": "stream",
     "text": [
      "HoG shape is  (133956,)\n",
      "Processing img  549.jpeg\n",
      "HoG shape is  (133956,)\n",
      "Processing img  55.jpeg\n"
     ]
    },
    {
     "name": "stderr",
     "output_type": "stream",
     "text": [
      " 50%|█████     | 503/1000 [01:10<01:04,  7.74it/s]"
     ]
    },
    {
     "name": "stdout",
     "output_type": "stream",
     "text": [
      "HoG shape is  (133956,)\n",
      "Processing img  550.jpeg\n",
      "HoG shape is  (133956,)\n",
      "Processing img  551.jpeg\n"
     ]
    },
    {
     "name": "stderr",
     "output_type": "stream",
     "text": [
      " 50%|█████     | 505/1000 [01:11<01:04,  7.72it/s]"
     ]
    },
    {
     "name": "stdout",
     "output_type": "stream",
     "text": [
      "HoG shape is  (133956,)\n",
      "Processing img  552.jpeg\n",
      "HoG shape is  (133956,)\n",
      "Processing img  553.jpeg\n"
     ]
    },
    {
     "name": "stderr",
     "output_type": "stream",
     "text": [
      " 51%|█████     | 507/1000 [01:11<01:01,  8.02it/s]"
     ]
    },
    {
     "name": "stdout",
     "output_type": "stream",
     "text": [
      "HoG shape is  (133956,)\n",
      "Processing img  554.jpeg\n",
      "HoG shape is  (133956,)\n",
      "Processing img  555.jpeg\n"
     ]
    },
    {
     "name": "stderr",
     "output_type": "stream",
     "text": [
      " 51%|█████     | 509/1000 [01:11<01:20,  6.09it/s]"
     ]
    },
    {
     "name": "stdout",
     "output_type": "stream",
     "text": [
      "HoG shape is  (133956,)\n",
      "Processing img  556.jpeg\n",
      "HoG shape is  (133956,)\n",
      "Processing img  557.jpeg\n"
     ]
    },
    {
     "name": "stderr",
     "output_type": "stream",
     "text": [
      " 51%|█████     | 511/1000 [01:12<01:11,  6.87it/s]"
     ]
    },
    {
     "name": "stdout",
     "output_type": "stream",
     "text": [
      "HoG shape is  (133956,)\n",
      "Processing img  558.jpeg\n",
      "HoG shape is  (133956,)\n",
      "Processing img  559.jpeg\n"
     ]
    },
    {
     "name": "stderr",
     "output_type": "stream",
     "text": [
      " 51%|█████     | 512/1000 [01:12<01:13,  6.66it/s]"
     ]
    },
    {
     "name": "stdout",
     "output_type": "stream",
     "text": [
      "HoG shape is  (133956,)\n",
      "Processing img  56.jpeg\n",
      "HoG shape is  (133956,)\n"
     ]
    },
    {
     "name": "stderr",
     "output_type": "stream",
     "text": [
      " 51%|█████▏    | 514/1000 [01:12<01:13,  6.61it/s]"
     ]
    },
    {
     "name": "stdout",
     "output_type": "stream",
     "text": [
      "Processing img  560.jpeg\n",
      "HoG shape is  (133956,)\n",
      "Processing img  561.jpeg\n"
     ]
    },
    {
     "name": "stderr",
     "output_type": "stream",
     "text": [
      " 52%|█████▏    | 516/1000 [01:12<01:05,  7.43it/s]"
     ]
    },
    {
     "name": "stdout",
     "output_type": "stream",
     "text": [
      "HoG shape is  (133956,)\n",
      "Processing img  562.jpeg\n",
      "HoG shape is  (133956,)\n",
      "Processing img  563.jpeg\n"
     ]
    },
    {
     "name": "stderr",
     "output_type": "stream",
     "text": [
      " 52%|█████▏    | 518/1000 [01:13<01:00,  7.91it/s]"
     ]
    },
    {
     "name": "stdout",
     "output_type": "stream",
     "text": [
      "HoG shape is  (133956,)\n",
      "Processing img  564.jpeg\n",
      "HoG shape is  (133956,)\n",
      "Processing img  565.jpeg\n"
     ]
    },
    {
     "name": "stderr",
     "output_type": "stream",
     "text": [
      " 52%|█████▏    | 520/1000 [01:13<00:56,  8.44it/s]"
     ]
    },
    {
     "name": "stdout",
     "output_type": "stream",
     "text": [
      "HoG shape is  (133956,)\n",
      "Processing img  566.jpeg\n",
      "HoG shape is  (133956,)\n",
      "Processing img  567.jpeg\n"
     ]
    },
    {
     "name": "stderr",
     "output_type": "stream",
     "text": [
      " 52%|█████▏    | 522/1000 [01:13<00:55,  8.67it/s]"
     ]
    },
    {
     "name": "stdout",
     "output_type": "stream",
     "text": [
      "HoG shape is  (133956,)\n",
      "Processing img  568.jpeg\n",
      "HoG shape is  (133956,)\n",
      "Processing img  569.jpeg\n",
      "HoG shape is  (133956,)\n",
      "Processing img  57.jpeg\n"
     ]
    },
    {
     "name": "stderr",
     "output_type": "stream",
     "text": [
      " 52%|█████▎    | 525/1000 [01:13<00:53,  8.95it/s]"
     ]
    },
    {
     "name": "stdout",
     "output_type": "stream",
     "text": [
      "HoG shape is  (133956,)\n",
      "Processing img  570.jpeg\n",
      "HoG shape is  (133956,)\n",
      "Processing img  571.jpeg\n"
     ]
    },
    {
     "name": "stderr",
     "output_type": "stream",
     "text": [
      " 53%|█████▎    | 526/1000 [01:13<00:56,  8.34it/s]"
     ]
    },
    {
     "name": "stdout",
     "output_type": "stream",
     "text": [
      "HoG shape is  (133956,)\n",
      "Processing img  572.jpeg\n"
     ]
    },
    {
     "name": "stderr",
     "output_type": "stream",
     "text": [
      " 53%|█████▎    | 528/1000 [01:14<01:08,  6.88it/s]"
     ]
    },
    {
     "name": "stdout",
     "output_type": "stream",
     "text": [
      "HoG shape is  (133956,)\n",
      "Processing img  573.jpeg\n",
      "HoG shape is  (133956,)\n",
      "Processing img  574.jpeg\n"
     ]
    },
    {
     "name": "stderr",
     "output_type": "stream",
     "text": [
      " 53%|█████▎    | 530/1000 [01:14<01:01,  7.66it/s]"
     ]
    },
    {
     "name": "stdout",
     "output_type": "stream",
     "text": [
      "HoG shape is  (133956,)\n",
      "Processing img  575.jpeg\n",
      "HoG shape is  (133956,)\n",
      "Processing img  576.jpeg\n"
     ]
    },
    {
     "name": "stderr",
     "output_type": "stream",
     "text": [
      " 53%|█████▎    | 532/1000 [01:14<01:00,  7.77it/s]"
     ]
    },
    {
     "name": "stdout",
     "output_type": "stream",
     "text": [
      "HoG shape is  (133956,)\n",
      "Processing img  577.jpeg\n",
      "HoG shape is  (133956,)\n",
      "Processing img  578.jpeg\n"
     ]
    },
    {
     "name": "stderr",
     "output_type": "stream",
     "text": [
      " 53%|█████▎    | 534/1000 [01:15<00:57,  8.11it/s]"
     ]
    },
    {
     "name": "stdout",
     "output_type": "stream",
     "text": [
      "HoG shape is  (133956,)\n",
      "Processing img  579.jpeg\n",
      "HoG shape is  (133956,)\n",
      "Processing img  58.jpeg\n"
     ]
    },
    {
     "name": "stderr",
     "output_type": "stream",
     "text": [
      " 54%|█████▎    | 536/1000 [01:15<00:57,  8.02it/s]"
     ]
    },
    {
     "name": "stdout",
     "output_type": "stream",
     "text": [
      "HoG shape is  (133956,)\n",
      "Processing img  580.jpeg\n",
      "HoG shape is  (133956,)\n",
      "Processing img  581.jpeg\n"
     ]
    },
    {
     "name": "stderr",
     "output_type": "stream",
     "text": [
      " 54%|█████▍    | 538/1000 [01:15<00:59,  7.77it/s]"
     ]
    },
    {
     "name": "stdout",
     "output_type": "stream",
     "text": [
      "HoG shape is  (133956,)\n",
      "Processing img  582.jpeg\n",
      "HoG shape is  (133956,)\n",
      "Processing img  583.jpeg\n"
     ]
    },
    {
     "name": "stderr",
     "output_type": "stream",
     "text": [
      " 54%|█████▍    | 540/1000 [01:15<01:02,  7.41it/s]"
     ]
    },
    {
     "name": "stdout",
     "output_type": "stream",
     "text": [
      "HoG shape is  (133956,)\n",
      "Processing img  584.jpeg\n",
      "HoG shape is  (133956,)\n",
      "Processing img  585.jpeg\n"
     ]
    },
    {
     "name": "stderr",
     "output_type": "stream",
     "text": [
      " 54%|█████▍    | 542/1000 [01:16<01:02,  7.34it/s]"
     ]
    },
    {
     "name": "stdout",
     "output_type": "stream",
     "text": [
      "HoG shape is  (133956,)\n",
      "Processing img  586.jpeg\n",
      "HoG shape is  (133956,)\n",
      "Processing img  587.jpeg\n"
     ]
    },
    {
     "name": "stderr",
     "output_type": "stream",
     "text": [
      " 54%|█████▍    | 543/1000 [01:16<01:01,  7.42it/s]"
     ]
    },
    {
     "name": "stdout",
     "output_type": "stream",
     "text": [
      "HoG shape is  (133956,)\n",
      "Processing img  588.jpeg\n",
      "HoG shape is  (133956,)\n"
     ]
    },
    {
     "name": "stderr",
     "output_type": "stream",
     "text": [
      " 54%|█████▍    | 544/1000 [01:16<01:06,  6.81it/s]"
     ]
    },
    {
     "name": "stdout",
     "output_type": "stream",
     "text": [
      "Processing img  589.jpeg\n"
     ]
    },
    {
     "name": "stderr",
     "output_type": "stream",
     "text": [
      " 55%|█████▍    | 545/1000 [01:16<01:23,  5.44it/s]"
     ]
    },
    {
     "name": "stdout",
     "output_type": "stream",
     "text": [
      "HoG shape is  (133956,)\n",
      "Processing img  59.jpeg\n",
      "HoG shape is  (133956,)\n"
     ]
    },
    {
     "name": "stderr",
     "output_type": "stream",
     "text": [
      " 55%|█████▍    | 547/1000 [01:17<01:20,  5.66it/s]"
     ]
    },
    {
     "name": "stdout",
     "output_type": "stream",
     "text": [
      "Processing img  590.jpeg\n",
      "HoG shape is  (133956,)\n",
      "Processing img  591.jpeg\n"
     ]
    },
    {
     "name": "stderr",
     "output_type": "stream",
     "text": [
      " 55%|█████▍    | 549/1000 [01:17<01:12,  6.25it/s]"
     ]
    },
    {
     "name": "stdout",
     "output_type": "stream",
     "text": [
      "HoG shape is  (133956,)\n",
      "Processing img  592.jpeg\n",
      "HoG shape is  (133956,)\n",
      "Processing img  593.jpeg\n"
     ]
    },
    {
     "name": "stderr",
     "output_type": "stream",
     "text": [
      " 55%|█████▌    | 551/1000 [01:17<01:10,  6.38it/s]"
     ]
    },
    {
     "name": "stdout",
     "output_type": "stream",
     "text": [
      "HoG shape is  (133956,)\n",
      "Processing img  594.jpeg\n",
      "HoG shape is  (133956,)\n",
      "Processing img  595.jpeg\n"
     ]
    },
    {
     "name": "stderr",
     "output_type": "stream",
     "text": [
      " 55%|█████▌    | 553/1000 [01:17<01:02,  7.14it/s]"
     ]
    },
    {
     "name": "stdout",
     "output_type": "stream",
     "text": [
      "HoG shape is  (133956,)\n",
      "Processing img  596.jpeg\n",
      "HoG shape is  (133956,)\n",
      "Processing img  597.jpeg\n"
     ]
    },
    {
     "name": "stderr",
     "output_type": "stream",
     "text": [
      " 56%|█████▌    | 555/1000 [01:18<00:56,  7.92it/s]"
     ]
    },
    {
     "name": "stdout",
     "output_type": "stream",
     "text": [
      "HoG shape is  (133956,)\n",
      "Processing img  598.jpeg\n",
      "HoG shape is  (133956,)\n",
      "Processing img  599.jpeg\n"
     ]
    },
    {
     "name": "stderr",
     "output_type": "stream",
     "text": [
      " 56%|█████▌    | 557/1000 [01:18<00:53,  8.33it/s]"
     ]
    },
    {
     "name": "stdout",
     "output_type": "stream",
     "text": [
      "HoG shape is  (133956,)\n",
      "Processing img  6.jpeg\n",
      "HoG shape is  (133956,)\n",
      "Processing img  60.jpeg\n"
     ]
    },
    {
     "name": "stderr",
     "output_type": "stream",
     "text": [
      " 56%|█████▌    | 559/1000 [01:18<00:51,  8.60it/s]"
     ]
    },
    {
     "name": "stdout",
     "output_type": "stream",
     "text": [
      "HoG shape is  (133956,)\n",
      "Processing img  600.jpeg\n",
      "HoG shape is  (133956,)\n",
      "Processing img  601.jpeg\n",
      "HoG shape is  (133956,)\n",
      "Processing img  602.jpeg\n"
     ]
    },
    {
     "name": "stderr",
     "output_type": "stream",
     "text": [
      " 56%|█████▌    | 562/1000 [01:18<00:50,  8.75it/s]"
     ]
    },
    {
     "name": "stdout",
     "output_type": "stream",
     "text": [
      "HoG shape is  (133956,)\n",
      "Processing img  603.jpeg\n",
      "HoG shape is  (133956,)\n",
      "Processing img  604.jpeg\n"
     ]
    },
    {
     "name": "stderr",
     "output_type": "stream",
     "text": [
      " 56%|█████▋    | 564/1000 [01:19<00:50,  8.62it/s]"
     ]
    },
    {
     "name": "stdout",
     "output_type": "stream",
     "text": [
      "HoG shape is  (133956,)\n",
      "Processing img  605.jpeg\n",
      "HoG shape is  (133956,)\n",
      "Processing img  606.jpeg\n"
     ]
    },
    {
     "name": "stderr",
     "output_type": "stream",
     "text": [
      " 57%|█████▋    | 566/1000 [01:19<01:09,  6.22it/s]"
     ]
    },
    {
     "name": "stdout",
     "output_type": "stream",
     "text": [
      "HoG shape is  (133956,)\n",
      "Processing img  607.jpeg\n",
      "HoG shape is  (133956,)\n",
      "Processing img  608.jpeg\n"
     ]
    },
    {
     "name": "stderr",
     "output_type": "stream",
     "text": [
      " 57%|█████▋    | 568/1000 [01:19<01:04,  6.73it/s]"
     ]
    },
    {
     "name": "stdout",
     "output_type": "stream",
     "text": [
      "HoG shape is  (133956,)\n",
      "Processing img  609.jpeg\n",
      "HoG shape is  (133956,)\n",
      "Processing img  61.jpeg\n"
     ]
    },
    {
     "name": "stderr",
     "output_type": "stream",
     "text": [
      " 57%|█████▋    | 570/1000 [01:20<00:59,  7.17it/s]"
     ]
    },
    {
     "name": "stdout",
     "output_type": "stream",
     "text": [
      "HoG shape is  (133956,)\n",
      "Processing img  610.jpeg\n",
      "HoG shape is  (133956,)\n",
      "Processing img  611.jpeg\n"
     ]
    },
    {
     "name": "stderr",
     "output_type": "stream",
     "text": [
      " 57%|█████▋    | 572/1000 [01:20<01:02,  6.87it/s]"
     ]
    },
    {
     "name": "stdout",
     "output_type": "stream",
     "text": [
      "HoG shape is  (133956,)\n",
      "Processing img  612.jpeg\n",
      "HoG shape is  (133956,)\n",
      "Processing img  613.jpeg\n"
     ]
    },
    {
     "name": "stderr",
     "output_type": "stream",
     "text": [
      " 57%|█████▋    | 574/1000 [01:20<01:02,  6.78it/s]"
     ]
    },
    {
     "name": "stdout",
     "output_type": "stream",
     "text": [
      "HoG shape is  (133956,)\n",
      "Processing img  614.jpeg\n",
      "HoG shape is  (133956,)\n",
      "Processing img  615.jpeg\n"
     ]
    },
    {
     "name": "stderr",
     "output_type": "stream",
     "text": [
      " 58%|█████▊    | 576/1000 [01:20<01:00,  7.06it/s]"
     ]
    },
    {
     "name": "stdout",
     "output_type": "stream",
     "text": [
      "HoG shape is  (133956,)\n",
      "Processing img  616.jpeg\n",
      "HoG shape is  (133956,)\n",
      "Processing img  617.jpeg\n"
     ]
    },
    {
     "name": "stderr",
     "output_type": "stream",
     "text": [
      " 58%|█████▊    | 578/1000 [01:21<00:55,  7.64it/s]"
     ]
    },
    {
     "name": "stdout",
     "output_type": "stream",
     "text": [
      "HoG shape is  (133956,)\n",
      "Processing img  618.jpeg\n",
      "HoG shape is  (133956,)\n",
      "Processing img  619.jpeg\n"
     ]
    },
    {
     "name": "stderr",
     "output_type": "stream",
     "text": [
      " 58%|█████▊    | 580/1000 [01:21<00:53,  7.78it/s]"
     ]
    },
    {
     "name": "stdout",
     "output_type": "stream",
     "text": [
      "HoG shape is  (133956,)\n",
      "Processing img  62.jpeg\n",
      "HoG shape is  (133956,)\n",
      "Processing img  620.jpeg\n"
     ]
    },
    {
     "name": "stderr",
     "output_type": "stream",
     "text": [
      " 58%|█████▊    | 582/1000 [01:21<00:55,  7.49it/s]"
     ]
    },
    {
     "name": "stdout",
     "output_type": "stream",
     "text": [
      "HoG shape is  (133956,)\n",
      "Processing img  621.jpeg\n",
      "HoG shape is  (133956,)\n",
      "Processing img  622.jpeg\n"
     ]
    },
    {
     "name": "stderr",
     "output_type": "stream",
     "text": [
      " 58%|█████▊    | 583/1000 [01:21<00:54,  7.69it/s]"
     ]
    },
    {
     "name": "stdout",
     "output_type": "stream",
     "text": [
      "HoG shape is  (133956,)\n",
      "Processing img  623.jpeg\n"
     ]
    },
    {
     "name": "stderr",
     "output_type": "stream",
     "text": [
      " 58%|█████▊    | 585/1000 [01:22<01:12,  5.69it/s]"
     ]
    },
    {
     "name": "stdout",
     "output_type": "stream",
     "text": [
      "HoG shape is  (133956,)\n",
      "Processing img  624.jpeg\n",
      "HoG shape is  (133956,)\n",
      "Processing img  625.jpeg\n"
     ]
    },
    {
     "name": "stderr",
     "output_type": "stream",
     "text": [
      " 59%|█████▊    | 587/1000 [01:22<01:02,  6.61it/s]"
     ]
    },
    {
     "name": "stdout",
     "output_type": "stream",
     "text": [
      "HoG shape is  (133956,)\n",
      "Processing img  626.jpeg\n",
      "HoG shape is  (133956,)\n",
      "Processing img  627.jpeg\n"
     ]
    },
    {
     "name": "stderr",
     "output_type": "stream",
     "text": [
      " 59%|█████▉    | 589/1000 [01:22<01:00,  6.78it/s]"
     ]
    },
    {
     "name": "stdout",
     "output_type": "stream",
     "text": [
      "HoG shape is  (133956,)\n",
      "Processing img  628.jpeg\n",
      "HoG shape is  (133956,)\n",
      "Processing img  629.jpeg\n"
     ]
    },
    {
     "name": "stderr",
     "output_type": "stream",
     "text": [
      " 59%|█████▉    | 591/1000 [01:23<00:59,  6.92it/s]"
     ]
    },
    {
     "name": "stdout",
     "output_type": "stream",
     "text": [
      "HoG shape is  (133956,)\n",
      "Processing img  63.jpeg\n",
      "HoG shape is  (133956,)\n",
      "Processing img  630.jpeg\n"
     ]
    },
    {
     "name": "stderr",
     "output_type": "stream",
     "text": [
      " 59%|█████▉    | 593/1000 [01:23<00:54,  7.51it/s]"
     ]
    },
    {
     "name": "stdout",
     "output_type": "stream",
     "text": [
      "HoG shape is  (133956,)\n",
      "Processing img  631.jpeg\n",
      "HoG shape is  (133956,)\n",
      "Processing img  632.jpeg\n"
     ]
    },
    {
     "name": "stderr",
     "output_type": "stream",
     "text": [
      " 60%|█████▉    | 595/1000 [01:23<00:51,  7.90it/s]"
     ]
    },
    {
     "name": "stdout",
     "output_type": "stream",
     "text": [
      "HoG shape is  (133956,)\n",
      "Processing img  633.jpeg\n",
      "HoG shape is  (133956,)\n",
      "Processing img  634.jpeg\n"
     ]
    },
    {
     "name": "stderr",
     "output_type": "stream",
     "text": [
      " 60%|█████▉    | 597/1000 [01:23<00:51,  7.77it/s]"
     ]
    },
    {
     "name": "stdout",
     "output_type": "stream",
     "text": [
      "HoG shape is  (133956,)\n",
      "Processing img  635.jpeg\n",
      "HoG shape is  (133956,)\n",
      "Processing img  636.jpeg\n"
     ]
    },
    {
     "name": "stderr",
     "output_type": "stream",
     "text": [
      " 60%|█████▉    | 599/1000 [01:24<00:52,  7.69it/s]"
     ]
    },
    {
     "name": "stdout",
     "output_type": "stream",
     "text": [
      "HoG shape is  (133956,)\n",
      "Processing img  637.jpeg\n",
      "HoG shape is  (133956,)\n",
      "Processing img  638.jpeg\n"
     ]
    },
    {
     "name": "stderr",
     "output_type": "stream",
     "text": [
      " 60%|██████    | 601/1000 [01:24<00:52,  7.60it/s]"
     ]
    },
    {
     "name": "stdout",
     "output_type": "stream",
     "text": [
      "HoG shape is  (133956,)\n",
      "Processing img  639.jpeg\n",
      "HoG shape is  (133956,)\n",
      "Processing img  64.jpeg\n"
     ]
    },
    {
     "name": "stderr",
     "output_type": "stream",
     "text": [
      " 60%|██████    | 603/1000 [01:24<01:04,  6.12it/s]"
     ]
    },
    {
     "name": "stdout",
     "output_type": "stream",
     "text": [
      "HoG shape is  (133956,)\n",
      "Processing img  640.jpeg\n",
      "HoG shape is  (133956,)\n",
      "Processing img  641.jpeg\n"
     ]
    },
    {
     "name": "stderr",
     "output_type": "stream",
     "text": [
      " 60%|██████    | 605/1000 [01:25<00:59,  6.64it/s]"
     ]
    },
    {
     "name": "stdout",
     "output_type": "stream",
     "text": [
      "HoG shape is  (133956,)\n",
      "Processing img  642.jpeg\n",
      "HoG shape is  (133956,)\n",
      "Processing img  643.jpeg\n"
     ]
    },
    {
     "name": "stderr",
     "output_type": "stream",
     "text": [
      " 61%|██████    | 607/1000 [01:25<00:58,  6.71it/s]"
     ]
    },
    {
     "name": "stdout",
     "output_type": "stream",
     "text": [
      "HoG shape is  (133956,)\n",
      "Processing img  644.jpeg\n",
      "HoG shape is  (133956,)\n",
      "Processing img  645.jpeg\n"
     ]
    },
    {
     "name": "stderr",
     "output_type": "stream",
     "text": [
      " 61%|██████    | 609/1000 [01:25<00:54,  7.21it/s]"
     ]
    },
    {
     "name": "stdout",
     "output_type": "stream",
     "text": [
      "HoG shape is  (133956,)\n",
      "Processing img  646.jpeg\n",
      "HoG shape is  (133956,)\n",
      "Processing img  647.jpeg\n"
     ]
    },
    {
     "name": "stderr",
     "output_type": "stream",
     "text": [
      " 61%|██████    | 611/1000 [01:25<00:46,  8.31it/s]"
     ]
    },
    {
     "name": "stdout",
     "output_type": "stream",
     "text": [
      "HoG shape is  (133956,)\n",
      "Processing img  648.jpeg\n",
      "HoG shape is  (133956,)\n",
      "Processing img  649.jpeg\n",
      "HoG shape is  (133956,)\n",
      "Processing img  65.jpeg\n"
     ]
    },
    {
     "name": "stderr",
     "output_type": "stream",
     "text": [
      " 61%|██████▏   | 614/1000 [01:26<00:49,  7.74it/s]"
     ]
    },
    {
     "name": "stdout",
     "output_type": "stream",
     "text": [
      "HoG shape is  (133956,)\n",
      "Processing img  650.jpeg\n",
      "HoG shape is  (133956,)\n",
      "Processing img  651.jpeg\n"
     ]
    },
    {
     "name": "stderr",
     "output_type": "stream",
     "text": [
      " 62%|██████▏   | 616/1000 [01:26<00:59,  6.40it/s]"
     ]
    },
    {
     "name": "stdout",
     "output_type": "stream",
     "text": [
      "HoG shape is  (133956,)\n",
      "Processing img  652.jpeg\n",
      "HoG shape is  (133956,)\n",
      "Processing img  653.jpeg\n"
     ]
    },
    {
     "name": "stderr",
     "output_type": "stream",
     "text": [
      " 62%|██████▏   | 618/1000 [01:26<00:57,  6.65it/s]"
     ]
    },
    {
     "name": "stdout",
     "output_type": "stream",
     "text": [
      "HoG shape is  (133956,)\n",
      "Processing img  654.jpeg\n",
      "HoG shape is  (133956,)\n",
      "Processing img  655.jpeg\n"
     ]
    },
    {
     "name": "stderr",
     "output_type": "stream",
     "text": [
      " 62%|██████▏   | 620/1000 [01:27<00:50,  7.49it/s]"
     ]
    },
    {
     "name": "stdout",
     "output_type": "stream",
     "text": [
      "HoG shape is  (133956,)\n",
      "Processing img  656.jpeg\n",
      "HoG shape is  (133956,)\n",
      "Processing img  657.jpeg\n"
     ]
    },
    {
     "name": "stderr",
     "output_type": "stream",
     "text": [
      " 62%|██████▏   | 621/1000 [01:27<00:49,  7.60it/s]"
     ]
    },
    {
     "name": "stdout",
     "output_type": "stream",
     "text": [
      "HoG shape is  (133956,)\n",
      "Processing img  658.jpeg\n",
      "HoG shape is  (133956,)\n"
     ]
    },
    {
     "name": "stderr",
     "output_type": "stream",
     "text": [
      " 62%|██████▏   | 623/1000 [01:27<00:55,  6.76it/s]"
     ]
    },
    {
     "name": "stdout",
     "output_type": "stream",
     "text": [
      "Processing img  659.jpeg\n",
      "HoG shape is  (133956,)\n",
      "Processing img  66.jpeg\n"
     ]
    },
    {
     "name": "stderr",
     "output_type": "stream",
     "text": [
      " 62%|██████▎   | 625/1000 [01:27<00:51,  7.22it/s]"
     ]
    },
    {
     "name": "stdout",
     "output_type": "stream",
     "text": [
      "HoG shape is  (133956,)\n",
      "Processing img  660.jpeg\n",
      "HoG shape is  (133956,)\n",
      "Processing img  661.jpeg\n"
     ]
    },
    {
     "name": "stderr",
     "output_type": "stream",
     "text": [
      " 63%|██████▎   | 627/1000 [01:28<00:49,  7.59it/s]"
     ]
    },
    {
     "name": "stdout",
     "output_type": "stream",
     "text": [
      "HoG shape is  (133956,)\n",
      "Processing img  662.jpeg\n",
      "HoG shape is  (133956,)\n",
      "Processing img  663.jpeg\n"
     ]
    },
    {
     "name": "stderr",
     "output_type": "stream",
     "text": [
      " 63%|██████▎   | 629/1000 [01:28<00:48,  7.73it/s]"
     ]
    },
    {
     "name": "stdout",
     "output_type": "stream",
     "text": [
      "HoG shape is  (133956,)\n",
      "Processing img  664.jpeg\n",
      "HoG shape is  (133956,)\n",
      "Processing img  665.jpeg\n"
     ]
    },
    {
     "name": "stderr",
     "output_type": "stream",
     "text": [
      " 63%|██████▎   | 631/1000 [01:28<00:50,  7.36it/s]"
     ]
    },
    {
     "name": "stdout",
     "output_type": "stream",
     "text": [
      "HoG shape is  (133956,)\n",
      "Processing img  666.jpeg\n",
      "HoG shape is  (133956,)\n",
      "Processing img  667.jpeg\n"
     ]
    },
    {
     "name": "stderr",
     "output_type": "stream",
     "text": [
      " 63%|██████▎   | 633/1000 [01:29<01:03,  5.82it/s]"
     ]
    },
    {
     "name": "stdout",
     "output_type": "stream",
     "text": [
      "HoG shape is  (133956,)\n",
      "Processing img  668.jpeg\n",
      "HoG shape is  (133956,)\n",
      "Processing img  669.jpeg\n"
     ]
    },
    {
     "name": "stderr",
     "output_type": "stream",
     "text": [
      " 64%|██████▎   | 635/1000 [01:29<00:54,  6.69it/s]"
     ]
    },
    {
     "name": "stdout",
     "output_type": "stream",
     "text": [
      "HoG shape is  (133956,)\n",
      "Processing img  67.jpeg\n",
      "HoG shape is  (133956,)\n",
      "Processing img  670.jpeg\n"
     ]
    },
    {
     "name": "stderr",
     "output_type": "stream",
     "text": [
      " 64%|██████▎   | 637/1000 [01:29<00:52,  6.97it/s]"
     ]
    },
    {
     "name": "stdout",
     "output_type": "stream",
     "text": [
      "HoG shape is  (133956,)\n",
      "Processing img  671.jpeg\n",
      "HoG shape is  (133956,)\n",
      "Processing img  672.jpeg\n"
     ]
    },
    {
     "name": "stderr",
     "output_type": "stream",
     "text": [
      " 64%|██████▍   | 639/1000 [01:29<00:50,  7.20it/s]"
     ]
    },
    {
     "name": "stdout",
     "output_type": "stream",
     "text": [
      "HoG shape is  (133956,)\n",
      "Processing img  673.jpeg\n",
      "HoG shape is  (133956,)\n",
      "Processing img  674.jpeg\n"
     ]
    },
    {
     "name": "stderr",
     "output_type": "stream",
     "text": [
      " 64%|██████▍   | 641/1000 [01:30<00:48,  7.42it/s]"
     ]
    },
    {
     "name": "stdout",
     "output_type": "stream",
     "text": [
      "HoG shape is  (133956,)\n",
      "Processing img  675.jpeg\n",
      "HoG shape is  (133956,)\n",
      "Processing img  676.jpeg\n"
     ]
    },
    {
     "name": "stderr",
     "output_type": "stream",
     "text": [
      " 64%|██████▍   | 643/1000 [01:30<00:47,  7.52it/s]"
     ]
    },
    {
     "name": "stdout",
     "output_type": "stream",
     "text": [
      "HoG shape is  (133956,)\n",
      "Processing img  677.jpeg\n",
      "HoG shape is  (133956,)\n",
      "Processing img  678.jpeg\n"
     ]
    },
    {
     "name": "stderr",
     "output_type": "stream",
     "text": [
      " 64%|██████▍   | 645/1000 [01:30<00:46,  7.64it/s]"
     ]
    },
    {
     "name": "stdout",
     "output_type": "stream",
     "text": [
      "HoG shape is  (133956,)\n",
      "Processing img  679.jpeg\n",
      "HoG shape is  (133956,)\n",
      "Processing img  68.jpeg\n"
     ]
    },
    {
     "name": "stderr",
     "output_type": "stream",
     "text": [
      " 65%|██████▍   | 646/1000 [01:30<00:46,  7.59it/s]"
     ]
    },
    {
     "name": "stdout",
     "output_type": "stream",
     "text": [
      "HoG shape is  (133956,)\n",
      "Processing img  680.jpeg\n",
      "HoG shape is  (133956,)\n"
     ]
    },
    {
     "name": "stderr",
     "output_type": "stream",
     "text": [
      " 65%|██████▍   | 647/1000 [01:30<00:55,  6.37it/s]"
     ]
    },
    {
     "name": "stdout",
     "output_type": "stream",
     "text": [
      "Processing img  681.jpeg\n"
     ]
    },
    {
     "name": "stderr",
     "output_type": "stream",
     "text": [
      " 65%|██████▍   | 648/1000 [01:31<01:02,  5.65it/s]"
     ]
    },
    {
     "name": "stdout",
     "output_type": "stream",
     "text": [
      "HoG shape is  (133956,)\n",
      "Processing img  682.jpeg\n",
      "HoG shape is  (133956,)\n"
     ]
    },
    {
     "name": "stderr",
     "output_type": "stream",
     "text": [
      " 65%|██████▌   | 650/1000 [01:31<01:04,  5.46it/s]"
     ]
    },
    {
     "name": "stdout",
     "output_type": "stream",
     "text": [
      "Processing img  683.jpeg\n",
      "HoG shape is  (133956,)\n"
     ]
    },
    {
     "name": "stderr",
     "output_type": "stream",
     "text": [
      " 65%|██████▌   | 651/1000 [01:31<01:00,  5.81it/s]"
     ]
    },
    {
     "name": "stdout",
     "output_type": "stream",
     "text": [
      "Processing img  684.jpeg\n",
      "HoG shape is  (133956,)\n",
      "Processing img  685.jpeg\n"
     ]
    },
    {
     "name": "stderr",
     "output_type": "stream",
     "text": [
      " 65%|██████▌   | 653/1000 [01:31<00:52,  6.64it/s]"
     ]
    },
    {
     "name": "stdout",
     "output_type": "stream",
     "text": [
      "HoG shape is  (133956,)\n",
      "Processing img  686.jpeg\n",
      "HoG shape is  (133956,)\n",
      "Processing img  687.jpeg\n"
     ]
    },
    {
     "name": "stderr",
     "output_type": "stream",
     "text": [
      " 66%|██████▌   | 655/1000 [01:32<00:47,  7.32it/s]"
     ]
    },
    {
     "name": "stdout",
     "output_type": "stream",
     "text": [
      "HoG shape is  (133956,)\n",
      "Processing img  688.jpeg\n",
      "HoG shape is  (133956,)\n",
      "Processing img  689.jpeg\n"
     ]
    },
    {
     "name": "stderr",
     "output_type": "stream",
     "text": [
      " 66%|██████▌   | 657/1000 [01:32<00:47,  7.18it/s]"
     ]
    },
    {
     "name": "stdout",
     "output_type": "stream",
     "text": [
      "HoG shape is  (133956,)\n",
      "Processing img  69.jpeg\n",
      "HoG shape is  (133956,)\n",
      "Processing img  690.jpeg\n"
     ]
    },
    {
     "name": "stderr",
     "output_type": "stream",
     "text": [
      " 66%|██████▌   | 659/1000 [01:32<00:45,  7.55it/s]"
     ]
    },
    {
     "name": "stdout",
     "output_type": "stream",
     "text": [
      "HoG shape is  (133956,)\n",
      "Processing img  691.jpeg\n",
      "HoG shape is  (133956,)\n",
      "Processing img  692.jpeg\n"
     ]
    },
    {
     "name": "stderr",
     "output_type": "stream",
     "text": [
      " 66%|██████▌   | 661/1000 [01:32<00:45,  7.41it/s]"
     ]
    },
    {
     "name": "stdout",
     "output_type": "stream",
     "text": [
      "HoG shape is  (133956,)\n",
      "Processing img  693.jpeg\n",
      "HoG shape is  (133956,)\n",
      "Processing img  694.jpeg\n"
     ]
    },
    {
     "name": "stderr",
     "output_type": "stream",
     "text": [
      " 66%|██████▋   | 663/1000 [01:33<01:02,  5.43it/s]"
     ]
    },
    {
     "name": "stdout",
     "output_type": "stream",
     "text": [
      "HoG shape is  (133956,)\n",
      "Processing img  695.jpeg\n",
      "HoG shape is  (133956,)\n",
      "Processing img  696.jpeg\n"
     ]
    },
    {
     "name": "stderr",
     "output_type": "stream",
     "text": [
      " 66%|██████▋   | 665/1000 [01:33<00:57,  5.88it/s]"
     ]
    },
    {
     "name": "stdout",
     "output_type": "stream",
     "text": [
      "HoG shape is  (133956,)\n",
      "Processing img  697.jpeg\n",
      "HoG shape is  (133956,)\n",
      "Processing img  698.jpeg\n"
     ]
    },
    {
     "name": "stderr",
     "output_type": "stream",
     "text": [
      " 67%|██████▋   | 667/1000 [01:34<00:51,  6.44it/s]"
     ]
    },
    {
     "name": "stdout",
     "output_type": "stream",
     "text": [
      "HoG shape is  (133956,)\n",
      "Processing img  699.jpeg\n",
      "HoG shape is  (133956,)\n",
      "Processing img  7.jpeg\n"
     ]
    },
    {
     "name": "stderr",
     "output_type": "stream",
     "text": [
      " 67%|██████▋   | 668/1000 [01:34<00:50,  6.59it/s]"
     ]
    },
    {
     "name": "stdout",
     "output_type": "stream",
     "text": [
      "HoG shape is  (133956,)\n",
      "Processing img  70.jpeg\n",
      "HoG shape is  (133956,)\n"
     ]
    },
    {
     "name": "stderr",
     "output_type": "stream",
     "text": [
      " 67%|██████▋   | 670/1000 [01:34<00:54,  6.02it/s]"
     ]
    },
    {
     "name": "stdout",
     "output_type": "stream",
     "text": [
      "Processing img  700.jpeg\n",
      "HoG shape is  (133956,)\n",
      "Processing img  701.jpeg\n"
     ]
    },
    {
     "name": "stderr",
     "output_type": "stream",
     "text": [
      " 67%|██████▋   | 672/1000 [01:34<00:49,  6.68it/s]"
     ]
    },
    {
     "name": "stdout",
     "output_type": "stream",
     "text": [
      "HoG shape is  (133956,)\n",
      "Processing img  702.jpeg\n",
      "HoG shape is  (133956,)\n",
      "Processing img  703.jpeg\n"
     ]
    },
    {
     "name": "stderr",
     "output_type": "stream",
     "text": [
      " 67%|██████▋   | 674/1000 [01:35<00:47,  6.84it/s]"
     ]
    },
    {
     "name": "stdout",
     "output_type": "stream",
     "text": [
      "HoG shape is  (133956,)\n",
      "Processing img  704.jpeg\n",
      "HoG shape is  (133956,)\n",
      "Processing img  705.jpeg\n"
     ]
    },
    {
     "name": "stderr",
     "output_type": "stream",
     "text": [
      " 68%|██████▊   | 675/1000 [01:35<00:50,  6.48it/s]"
     ]
    },
    {
     "name": "stdout",
     "output_type": "stream",
     "text": [
      "HoG shape is  (133956,)\n",
      "Processing img  706.jpeg\n",
      "HoG shape is  (133956,)\n"
     ]
    },
    {
     "name": "stderr",
     "output_type": "stream",
     "text": [
      " 68%|██████▊   | 677/1000 [01:35<00:53,  6.04it/s]"
     ]
    },
    {
     "name": "stdout",
     "output_type": "stream",
     "text": [
      "Processing img  707.jpeg\n",
      "HoG shape is  (133956,)\n",
      "Processing img  708.jpeg\n"
     ]
    },
    {
     "name": "stderr",
     "output_type": "stream",
     "text": [
      " 68%|██████▊   | 679/1000 [01:36<00:53,  5.97it/s]"
     ]
    },
    {
     "name": "stdout",
     "output_type": "stream",
     "text": [
      "HoG shape is  (133956,)\n",
      "Processing img  709.jpeg\n",
      "HoG shape is  (133956,)\n",
      "Processing img  71.jpeg\n"
     ]
    },
    {
     "name": "stderr",
     "output_type": "stream",
     "text": [
      " 68%|██████▊   | 680/1000 [01:36<00:50,  6.37it/s]"
     ]
    },
    {
     "name": "stdout",
     "output_type": "stream",
     "text": [
      "HoG shape is  (133956,)\n",
      "Processing img  710.jpeg\n"
     ]
    },
    {
     "name": "stderr",
     "output_type": "stream",
     "text": [
      " 68%|██████▊   | 682/1000 [01:36<00:58,  5.39it/s]"
     ]
    },
    {
     "name": "stdout",
     "output_type": "stream",
     "text": [
      "HoG shape is  (133956,)\n",
      "Processing img  711.jpeg\n",
      "HoG shape is  (133956,)\n",
      "Processing img  712.jpeg\n"
     ]
    },
    {
     "name": "stderr",
     "output_type": "stream",
     "text": [
      " 68%|██████▊   | 684/1000 [01:36<00:52,  6.01it/s]"
     ]
    },
    {
     "name": "stdout",
     "output_type": "stream",
     "text": [
      "HoG shape is  (133956,)\n",
      "Processing img  713.jpeg\n",
      "HoG shape is  (133956,)\n",
      "Processing img  714.jpeg\n"
     ]
    },
    {
     "name": "stderr",
     "output_type": "stream",
     "text": [
      " 69%|██████▊   | 686/1000 [01:37<00:46,  6.70it/s]"
     ]
    },
    {
     "name": "stdout",
     "output_type": "stream",
     "text": [
      "HoG shape is  (133956,)\n",
      "Processing img  715.jpeg\n",
      "HoG shape is  (133956,)\n",
      "Processing img  716.jpeg\n"
     ]
    },
    {
     "name": "stderr",
     "output_type": "stream",
     "text": [
      " 69%|██████▉   | 688/1000 [01:37<00:45,  6.85it/s]"
     ]
    },
    {
     "name": "stdout",
     "output_type": "stream",
     "text": [
      "HoG shape is  (133956,)\n",
      "Processing img  717.jpeg\n",
      "HoG shape is  (133956,)\n",
      "Processing img  718.jpeg\n"
     ]
    },
    {
     "name": "stderr",
     "output_type": "stream",
     "text": [
      " 69%|██████▉   | 690/1000 [01:37<00:43,  7.11it/s]"
     ]
    },
    {
     "name": "stdout",
     "output_type": "stream",
     "text": [
      "HoG shape is  (133956,)\n",
      "Processing img  719.jpeg\n",
      "HoG shape is  (133956,)\n",
      "Processing img  72.jpeg\n"
     ]
    },
    {
     "name": "stderr",
     "output_type": "stream",
     "text": [
      " 69%|██████▉   | 692/1000 [01:38<00:45,  6.71it/s]"
     ]
    },
    {
     "name": "stdout",
     "output_type": "stream",
     "text": [
      "HoG shape is  (133956,)\n",
      "Processing img  720.jpeg\n",
      "HoG shape is  (133956,)\n",
      "Processing img  721.jpeg\n"
     ]
    },
    {
     "name": "stderr",
     "output_type": "stream",
     "text": [
      " 69%|██████▉   | 694/1000 [01:38<00:45,  6.66it/s]"
     ]
    },
    {
     "name": "stdout",
     "output_type": "stream",
     "text": [
      "HoG shape is  (133956,)\n",
      "Processing img  722.jpeg\n",
      "HoG shape is  (133956,)\n",
      "Processing img  723.jpeg\n"
     ]
    },
    {
     "name": "stderr",
     "output_type": "stream",
     "text": [
      " 70%|██████▉   | 696/1000 [01:38<00:40,  7.48it/s]"
     ]
    },
    {
     "name": "stdout",
     "output_type": "stream",
     "text": [
      "HoG shape is  (133956,)\n",
      "Processing img  724.jpeg\n",
      "HoG shape is  (133956,)\n",
      "Processing img  725.jpeg\n"
     ]
    },
    {
     "name": "stderr",
     "output_type": "stream",
     "text": [
      " 70%|██████▉   | 698/1000 [01:38<00:41,  7.29it/s]"
     ]
    },
    {
     "name": "stdout",
     "output_type": "stream",
     "text": [
      "HoG shape is  (133956,)\n",
      "Processing img  726.jpeg\n",
      "HoG shape is  (133956,)\n",
      "Processing img  727.jpeg\n"
     ]
    },
    {
     "name": "stderr",
     "output_type": "stream",
     "text": [
      " 70%|██████▉   | 699/1000 [01:38<00:43,  6.97it/s]"
     ]
    },
    {
     "name": "stdout",
     "output_type": "stream",
     "text": [
      "HoG shape is  (133956,)\n",
      "Processing img  728.jpeg\n",
      "HoG shape is  (133956,)\n"
     ]
    },
    {
     "name": "stderr",
     "output_type": "stream",
     "text": [
      " 70%|███████   | 701/1000 [01:39<00:47,  6.23it/s]"
     ]
    },
    {
     "name": "stdout",
     "output_type": "stream",
     "text": [
      "Processing img  729.jpeg\n",
      "HoG shape is  (133956,)\n",
      "Processing img  73.jpeg\n"
     ]
    },
    {
     "name": "stderr",
     "output_type": "stream",
     "text": [
      " 70%|███████   | 703/1000 [01:39<00:41,  7.22it/s]"
     ]
    },
    {
     "name": "stdout",
     "output_type": "stream",
     "text": [
      "HoG shape is  (133956,)\n",
      "Processing img  730.jpeg\n",
      "HoG shape is  (133956,)\n",
      "Processing img  731.jpeg\n",
      "HoG shape is  (133956,)\n",
      "Processing img  732.jpeg\n"
     ]
    },
    {
     "name": "stderr",
     "output_type": "stream",
     "text": [
      " 71%|███████   | 706/1000 [01:39<00:37,  7.92it/s]"
     ]
    },
    {
     "name": "stdout",
     "output_type": "stream",
     "text": [
      "HoG shape is  (133956,)\n",
      "Processing img  733.jpeg\n",
      "HoG shape is  (133956,)\n",
      "Processing img  734.jpeg\n"
     ]
    },
    {
     "name": "stderr",
     "output_type": "stream",
     "text": [
      " 71%|███████   | 708/1000 [01:40<00:37,  7.78it/s]"
     ]
    },
    {
     "name": "stdout",
     "output_type": "stream",
     "text": [
      "HoG shape is  (133956,)\n",
      "Processing img  735.jpeg\n",
      "HoG shape is  (133956,)\n",
      "Processing img  736.jpeg\n"
     ]
    },
    {
     "name": "stderr",
     "output_type": "stream",
     "text": [
      " 71%|███████   | 710/1000 [01:40<00:38,  7.55it/s]"
     ]
    },
    {
     "name": "stdout",
     "output_type": "stream",
     "text": [
      "HoG shape is  (133956,)\n",
      "Processing img  737.jpeg\n",
      "HoG shape is  (133956,)\n",
      "Processing img  738.jpeg\n"
     ]
    },
    {
     "name": "stderr",
     "output_type": "stream",
     "text": [
      " 71%|███████   | 712/1000 [01:40<00:39,  7.35it/s]"
     ]
    },
    {
     "name": "stdout",
     "output_type": "stream",
     "text": [
      "HoG shape is  (133956,)\n",
      "Processing img  739.jpeg\n",
      "HoG shape is  (133956,)\n",
      "Processing img  74.jpeg\n"
     ]
    },
    {
     "name": "stderr",
     "output_type": "stream",
     "text": [
      " 71%|███████▏  | 714/1000 [01:41<00:41,  6.90it/s]"
     ]
    },
    {
     "name": "stdout",
     "output_type": "stream",
     "text": [
      "HoG shape is  (133956,)\n",
      "Processing img  740.jpeg\n",
      "HoG shape is  (133956,)\n",
      "Processing img  741.jpeg\n"
     ]
    },
    {
     "name": "stderr",
     "output_type": "stream",
     "text": [
      " 72%|███████▏  | 716/1000 [01:41<00:52,  5.42it/s]"
     ]
    },
    {
     "name": "stdout",
     "output_type": "stream",
     "text": [
      "HoG shape is  (133956,)\n",
      "Processing img  742.jpeg\n",
      "HoG shape is  (133956,)\n",
      "Processing img  743.jpeg\n"
     ]
    },
    {
     "name": "stderr",
     "output_type": "stream",
     "text": [
      " 72%|███████▏  | 718/1000 [01:41<00:45,  6.13it/s]"
     ]
    },
    {
     "name": "stdout",
     "output_type": "stream",
     "text": [
      "HoG shape is  (133956,)\n",
      "Processing img  744.jpeg\n",
      "HoG shape is  (133956,)\n",
      "Processing img  745.jpeg\n"
     ]
    },
    {
     "name": "stderr",
     "output_type": "stream",
     "text": [
      " 72%|███████▏  | 720/1000 [01:42<00:42,  6.61it/s]"
     ]
    },
    {
     "name": "stdout",
     "output_type": "stream",
     "text": [
      "HoG shape is  (133956,)\n",
      "Processing img  746.jpeg\n",
      "HoG shape is  (133956,)\n",
      "Processing img  747.jpeg\n"
     ]
    },
    {
     "name": "stderr",
     "output_type": "stream",
     "text": [
      " 72%|███████▏  | 722/1000 [01:42<00:42,  6.53it/s]"
     ]
    },
    {
     "name": "stdout",
     "output_type": "stream",
     "text": [
      "HoG shape is  (133956,)\n",
      "Processing img  748.jpeg\n",
      "HoG shape is  (133956,)\n",
      "Processing img  749.jpeg\n"
     ]
    },
    {
     "name": "stderr",
     "output_type": "stream",
     "text": [
      " 72%|███████▏  | 724/1000 [01:42<00:42,  6.47it/s]"
     ]
    },
    {
     "name": "stdout",
     "output_type": "stream",
     "text": [
      "HoG shape is  (133956,)\n",
      "Processing img  75.jpeg\n",
      "HoG shape is  (133956,)\n",
      "Processing img  750.jpeg\n"
     ]
    },
    {
     "name": "stderr",
     "output_type": "stream",
     "text": [
      " 73%|███████▎  | 726/1000 [01:43<00:42,  6.42it/s]"
     ]
    },
    {
     "name": "stdout",
     "output_type": "stream",
     "text": [
      "HoG shape is  (133956,)\n",
      "Processing img  751.jpeg\n",
      "HoG shape is  (133956,)\n",
      "Processing img  752.jpeg\n"
     ]
    },
    {
     "name": "stderr",
     "output_type": "stream",
     "text": [
      " 73%|███████▎  | 728/1000 [01:43<00:40,  6.73it/s]"
     ]
    },
    {
     "name": "stdout",
     "output_type": "stream",
     "text": [
      "HoG shape is  (133956,)\n",
      "Processing img  753.jpeg\n",
      "HoG shape is  (133956,)\n",
      "Processing img  754.jpeg\n"
     ]
    },
    {
     "name": "stderr",
     "output_type": "stream",
     "text": [
      " 73%|███████▎  | 730/1000 [01:43<00:39,  6.76it/s]"
     ]
    },
    {
     "name": "stdout",
     "output_type": "stream",
     "text": [
      "HoG shape is  (133956,)\n",
      "Processing img  755.jpeg\n",
      "HoG shape is  (133956,)\n",
      "Processing img  756.jpeg\n"
     ]
    },
    {
     "name": "stderr",
     "output_type": "stream",
     "text": [
      " 73%|███████▎  | 732/1000 [01:43<00:38,  7.03it/s]"
     ]
    },
    {
     "name": "stdout",
     "output_type": "stream",
     "text": [
      "HoG shape is  (133956,)\n",
      "Processing img  757.jpeg\n",
      "HoG shape is  (133956,)\n",
      "Processing img  758.jpeg\n"
     ]
    },
    {
     "name": "stderr",
     "output_type": "stream",
     "text": [
      " 73%|███████▎  | 734/1000 [01:44<00:36,  7.37it/s]"
     ]
    },
    {
     "name": "stdout",
     "output_type": "stream",
     "text": [
      "HoG shape is  (133956,)\n",
      "Processing img  759.jpeg\n",
      "HoG shape is  (133956,)\n",
      "Processing img  76.jpeg\n"
     ]
    },
    {
     "name": "stderr",
     "output_type": "stream",
     "text": [
      " 74%|███████▎  | 736/1000 [01:44<00:36,  7.17it/s]"
     ]
    },
    {
     "name": "stdout",
     "output_type": "stream",
     "text": [
      "HoG shape is  (133956,)\n",
      "Processing img  760.jpeg\n",
      "HoG shape is  (133956,)\n",
      "Processing img  761.jpeg\n"
     ]
    },
    {
     "name": "stderr",
     "output_type": "stream",
     "text": [
      " 74%|███████▎  | 737/1000 [01:44<00:39,  6.73it/s]"
     ]
    },
    {
     "name": "stdout",
     "output_type": "stream",
     "text": [
      "HoG shape is  (133956,)\n",
      "Processing img  762.jpeg\n"
     ]
    },
    {
     "name": "stderr",
     "output_type": "stream",
     "text": [
      " 74%|███████▍  | 738/1000 [01:44<00:45,  5.80it/s]"
     ]
    },
    {
     "name": "stdout",
     "output_type": "stream",
     "text": [
      "HoG shape is  (133956,)\n",
      "Processing img  763.jpeg\n"
     ]
    },
    {
     "name": "stderr",
     "output_type": "stream",
     "text": [
      " 74%|███████▍  | 740/1000 [01:45<00:45,  5.67it/s]"
     ]
    },
    {
     "name": "stdout",
     "output_type": "stream",
     "text": [
      "HoG shape is  (133956,)\n",
      "Processing img  764.jpeg\n",
      "HoG shape is  (133956,)\n",
      "Processing img  765.jpeg\n"
     ]
    },
    {
     "name": "stderr",
     "output_type": "stream",
     "text": [
      " 74%|███████▍  | 742/1000 [01:45<00:42,  6.08it/s]"
     ]
    },
    {
     "name": "stdout",
     "output_type": "stream",
     "text": [
      "HoG shape is  (133956,)\n",
      "Processing img  766.jpeg\n",
      "HoG shape is  (133956,)\n",
      "Processing img  767.jpeg\n"
     ]
    },
    {
     "name": "stderr",
     "output_type": "stream",
     "text": [
      " 74%|███████▍  | 744/1000 [01:45<00:38,  6.56it/s]"
     ]
    },
    {
     "name": "stdout",
     "output_type": "stream",
     "text": [
      "HoG shape is  (133956,)\n",
      "Processing img  768.jpeg\n",
      "HoG shape is  (133956,)\n",
      "Processing img  769.jpeg\n"
     ]
    },
    {
     "name": "stderr",
     "output_type": "stream",
     "text": [
      " 75%|███████▍  | 746/1000 [01:46<00:37,  6.78it/s]"
     ]
    },
    {
     "name": "stdout",
     "output_type": "stream",
     "text": [
      "HoG shape is  (133956,)\n",
      "Processing img  77.jpeg\n",
      "HoG shape is  (133956,)\n",
      "Processing img  770.jpeg\n"
     ]
    },
    {
     "name": "stderr",
     "output_type": "stream",
     "text": [
      " 75%|███████▍  | 747/1000 [01:46<00:37,  6.73it/s]"
     ]
    },
    {
     "name": "stdout",
     "output_type": "stream",
     "text": [
      "HoG shape is  (133956,)\n",
      "Processing img  771.jpeg\n",
      "HoG shape is  (133956,)\n"
     ]
    },
    {
     "name": "stderr",
     "output_type": "stream",
     "text": [
      " 75%|███████▍  | 748/1000 [01:46<00:40,  6.20it/s]"
     ]
    },
    {
     "name": "stdout",
     "output_type": "stream",
     "text": [
      "Processing img  772.jpeg\n"
     ]
    },
    {
     "name": "stderr",
     "output_type": "stream",
     "text": [
      " 75%|███████▍  | 749/1000 [01:46<00:49,  5.08it/s]"
     ]
    },
    {
     "name": "stdout",
     "output_type": "stream",
     "text": [
      "HoG shape is  (133956,)\n",
      "Processing img  773.jpeg\n",
      "HoG shape is  (133956,)\n"
     ]
    },
    {
     "name": "stderr",
     "output_type": "stream",
     "text": [
      " 75%|███████▌  | 751/1000 [01:47<00:45,  5.41it/s]"
     ]
    },
    {
     "name": "stdout",
     "output_type": "stream",
     "text": [
      "Processing img  774.jpeg\n",
      "HoG shape is  (133956,)\n",
      "Processing img  775.jpeg\n"
     ]
    },
    {
     "name": "stderr",
     "output_type": "stream",
     "text": [
      " 75%|███████▌  | 753/1000 [01:47<00:42,  5.82it/s]"
     ]
    },
    {
     "name": "stdout",
     "output_type": "stream",
     "text": [
      "HoG shape is  (133956,)\n",
      "Processing img  776.jpeg\n",
      "HoG shape is  (133956,)\n",
      "Processing img  777.jpeg\n"
     ]
    },
    {
     "name": "stderr",
     "output_type": "stream",
     "text": [
      " 76%|███████▌  | 755/1000 [01:47<00:41,  5.89it/s]"
     ]
    },
    {
     "name": "stdout",
     "output_type": "stream",
     "text": [
      "HoG shape is  (133956,)\n",
      "Processing img  778.jpeg\n",
      "HoG shape is  (133956,)\n",
      "Processing img  779.jpeg\n"
     ]
    },
    {
     "name": "stderr",
     "output_type": "stream",
     "text": [
      " 76%|███████▌  | 757/1000 [01:47<00:39,  6.15it/s]"
     ]
    },
    {
     "name": "stdout",
     "output_type": "stream",
     "text": [
      "HoG shape is  (133956,)\n",
      "Processing img  78.jpeg\n",
      "HoG shape is  (133956,)\n",
      "Processing img  780.jpeg\n"
     ]
    },
    {
     "name": "stderr",
     "output_type": "stream",
     "text": [
      " 76%|███████▌  | 759/1000 [01:48<00:38,  6.24it/s]"
     ]
    },
    {
     "name": "stdout",
     "output_type": "stream",
     "text": [
      "HoG shape is  (133956,)\n",
      "Processing img  781.jpeg\n",
      "HoG shape is  (133956,)\n",
      "Processing img  782.jpeg\n"
     ]
    },
    {
     "name": "stderr",
     "output_type": "stream",
     "text": [
      " 76%|███████▌  | 761/1000 [01:48<00:35,  6.77it/s]"
     ]
    },
    {
     "name": "stdout",
     "output_type": "stream",
     "text": [
      "HoG shape is  (133956,)\n",
      "Processing img  783.jpeg\n",
      "HoG shape is  (133956,)\n",
      "Processing img  784.jpeg\n"
     ]
    },
    {
     "name": "stderr",
     "output_type": "stream",
     "text": [
      " 76%|███████▋  | 763/1000 [01:48<00:31,  7.63it/s]"
     ]
    },
    {
     "name": "stdout",
     "output_type": "stream",
     "text": [
      "HoG shape is  (133956,)\n",
      "Processing img  785.jpeg\n",
      "HoG shape is  (133956,)\n",
      "Processing img  786.jpeg\n"
     ]
    },
    {
     "name": "stderr",
     "output_type": "stream",
     "text": [
      " 76%|███████▋  | 765/1000 [01:48<00:28,  8.29it/s]"
     ]
    },
    {
     "name": "stdout",
     "output_type": "stream",
     "text": [
      "HoG shape is  (133956,)\n",
      "Processing img  787.jpeg\n",
      "HoG shape is  (133956,)\n",
      "Processing img  788.jpeg\n"
     ]
    },
    {
     "name": "stderr",
     "output_type": "stream",
     "text": [
      " 77%|███████▋  | 766/1000 [01:49<00:26,  8.68it/s]"
     ]
    },
    {
     "name": "stdout",
     "output_type": "stream",
     "text": [
      "HoG shape is  (133956,)\n",
      "Processing img  789.jpeg\n"
     ]
    },
    {
     "name": "stderr",
     "output_type": "stream",
     "text": [
      " 77%|███████▋  | 767/1000 [01:49<00:38,  6.10it/s]"
     ]
    },
    {
     "name": "stdout",
     "output_type": "stream",
     "text": [
      "HoG shape is  (133956,)\n",
      "Processing img  79.jpeg\n",
      "HoG shape is  (133956,)\n"
     ]
    },
    {
     "name": "stderr",
     "output_type": "stream",
     "text": [
      " 77%|███████▋  | 768/1000 [01:49<00:39,  5.93it/s]"
     ]
    },
    {
     "name": "stdout",
     "output_type": "stream",
     "text": [
      "Processing img  790.jpeg\n"
     ]
    },
    {
     "name": "stderr",
     "output_type": "stream",
     "text": [
      " 77%|███████▋  | 770/1000 [01:49<00:40,  5.66it/s]"
     ]
    },
    {
     "name": "stdout",
     "output_type": "stream",
     "text": [
      "HoG shape is  (133956,)\n",
      "Processing img  791.jpeg\n",
      "HoG shape is  (133956,)\n",
      "Processing img  792.jpeg\n"
     ]
    },
    {
     "name": "stderr",
     "output_type": "stream",
     "text": [
      " 77%|███████▋  | 771/1000 [01:50<00:38,  5.96it/s]"
     ]
    },
    {
     "name": "stdout",
     "output_type": "stream",
     "text": [
      "HoG shape is  (133956,)\n",
      "Processing img  793.jpeg\n",
      "HoG shape is  (133956,)\n"
     ]
    },
    {
     "name": "stderr",
     "output_type": "stream",
     "text": [
      " 77%|███████▋  | 773/1000 [01:50<00:38,  5.87it/s]"
     ]
    },
    {
     "name": "stdout",
     "output_type": "stream",
     "text": [
      "Processing img  794.jpeg\n",
      "HoG shape is  (133956,)\n",
      "Processing img  795.jpeg\n"
     ]
    },
    {
     "name": "stderr",
     "output_type": "stream",
     "text": [
      " 78%|███████▊  | 775/1000 [01:50<00:35,  6.27it/s]"
     ]
    },
    {
     "name": "stdout",
     "output_type": "stream",
     "text": [
      "HoG shape is  (133956,)\n",
      "Processing img  796.jpeg\n",
      "HoG shape is  (133956,)\n",
      "Processing img  797.jpeg\n"
     ]
    },
    {
     "name": "stderr",
     "output_type": "stream",
     "text": [
      " 78%|███████▊  | 776/1000 [01:50<00:33,  6.60it/s]"
     ]
    },
    {
     "name": "stdout",
     "output_type": "stream",
     "text": [
      "HoG shape is  (133956,)\n",
      "Processing img  798.jpeg\n"
     ]
    },
    {
     "name": "stderr",
     "output_type": "stream",
     "text": [
      " 78%|███████▊  | 777/1000 [01:51<00:39,  5.60it/s]"
     ]
    },
    {
     "name": "stdout",
     "output_type": "stream",
     "text": [
      "HoG shape is  (133956,)\n",
      "Processing img  799.jpeg\n"
     ]
    },
    {
     "name": "stderr",
     "output_type": "stream",
     "text": [
      " 78%|███████▊  | 779/1000 [01:51<00:43,  5.10it/s]"
     ]
    },
    {
     "name": "stdout",
     "output_type": "stream",
     "text": [
      "HoG shape is  (133956,)\n",
      "Processing img  8.jpeg\n",
      "HoG shape is  (133956,)\n",
      "Processing img  80.jpeg\n"
     ]
    },
    {
     "name": "stderr",
     "output_type": "stream",
     "text": [
      " 78%|███████▊  | 781/1000 [01:51<00:40,  5.42it/s]"
     ]
    },
    {
     "name": "stdout",
     "output_type": "stream",
     "text": [
      "HoG shape is  (133956,)\n",
      "Processing img  800.jpeg\n",
      "HoG shape is  (133956,)\n",
      "Processing img  801.jpeg\n"
     ]
    },
    {
     "name": "stderr",
     "output_type": "stream",
     "text": [
      " 78%|███████▊  | 782/1000 [01:52<00:41,  5.29it/s]"
     ]
    },
    {
     "name": "stdout",
     "output_type": "stream",
     "text": [
      "HoG shape is  (133956,)\n",
      "Processing img  802.jpeg\n",
      "HoG shape is  (133956,)\n"
     ]
    },
    {
     "name": "stderr",
     "output_type": "stream",
     "text": [
      " 78%|███████▊  | 784/1000 [01:52<00:40,  5.31it/s]"
     ]
    },
    {
     "name": "stdout",
     "output_type": "stream",
     "text": [
      "Processing img  803.jpeg\n",
      "HoG shape is  (133956,)\n",
      "Processing img  804.jpeg\n"
     ]
    },
    {
     "name": "stderr",
     "output_type": "stream",
     "text": [
      " 79%|███████▊  | 786/1000 [01:52<00:37,  5.64it/s]"
     ]
    },
    {
     "name": "stdout",
     "output_type": "stream",
     "text": [
      "HoG shape is  (133956,)\n",
      "Processing img  805.jpeg\n",
      "HoG shape is  (133956,)\n",
      "Processing img  806.jpeg\n"
     ]
    },
    {
     "name": "stderr",
     "output_type": "stream",
     "text": [
      " 79%|███████▉  | 788/1000 [01:53<00:34,  6.07it/s]"
     ]
    },
    {
     "name": "stdout",
     "output_type": "stream",
     "text": [
      "HoG shape is  (133956,)\n",
      "Processing img  807.jpeg\n",
      "HoG shape is  (133956,)\n",
      "Processing img  808.jpeg\n"
     ]
    },
    {
     "name": "stderr",
     "output_type": "stream",
     "text": [
      " 79%|███████▉  | 790/1000 [01:53<00:35,  5.95it/s]"
     ]
    },
    {
     "name": "stdout",
     "output_type": "stream",
     "text": [
      "HoG shape is  (133956,)\n",
      "Processing img  809.jpeg\n",
      "HoG shape is  (133956,)\n",
      "Processing img  81.jpeg\n"
     ]
    },
    {
     "name": "stderr",
     "output_type": "stream",
     "text": [
      " 79%|███████▉  | 792/1000 [01:53<00:34,  6.05it/s]"
     ]
    },
    {
     "name": "stdout",
     "output_type": "stream",
     "text": [
      "HoG shape is  (133956,)\n",
      "Processing img  810.jpeg\n",
      "HoG shape is  (133956,)\n",
      "Processing img  811.jpeg\n"
     ]
    },
    {
     "name": "stderr",
     "output_type": "stream",
     "text": [
      " 79%|███████▉  | 793/1000 [01:53<00:34,  5.95it/s]"
     ]
    },
    {
     "name": "stdout",
     "output_type": "stream",
     "text": [
      "HoG shape is  (133956,)\n",
      "Processing img  812.jpeg\n"
     ]
    },
    {
     "name": "stderr",
     "output_type": "stream",
     "text": [
      " 79%|███████▉  | 794/1000 [01:54<00:43,  4.70it/s]"
     ]
    },
    {
     "name": "stdout",
     "output_type": "stream",
     "text": [
      "HoG shape is  (133956,)\n",
      "Processing img  813.jpeg\n"
     ]
    },
    {
     "name": "stderr",
     "output_type": "stream",
     "text": [
      " 80%|███████▉  | 796/1000 [01:54<00:43,  4.71it/s]"
     ]
    },
    {
     "name": "stdout",
     "output_type": "stream",
     "text": [
      "HoG shape is  (133956,)\n",
      "Processing img  814.jpeg\n",
      "HoG shape is  (133956,)\n",
      "Processing img  815.jpeg\n"
     ]
    },
    {
     "name": "stderr",
     "output_type": "stream",
     "text": [
      " 80%|███████▉  | 798/1000 [01:54<00:34,  5.84it/s]"
     ]
    },
    {
     "name": "stdout",
     "output_type": "stream",
     "text": [
      "HoG shape is  (133956,)\n",
      "Processing img  816.jpeg\n",
      "HoG shape is  (133956,)\n",
      "Processing img  817.jpeg\n"
     ]
    },
    {
     "name": "stderr",
     "output_type": "stream",
     "text": [
      " 80%|████████  | 800/1000 [01:55<00:33,  6.02it/s]"
     ]
    },
    {
     "name": "stdout",
     "output_type": "stream",
     "text": [
      "HoG shape is  (133956,)\n",
      "Processing img  818.jpeg\n",
      "HoG shape is  (133956,)\n",
      "Processing img  819.jpeg\n"
     ]
    },
    {
     "name": "stderr",
     "output_type": "stream",
     "text": [
      " 80%|████████  | 802/1000 [01:55<00:31,  6.27it/s]"
     ]
    },
    {
     "name": "stdout",
     "output_type": "stream",
     "text": [
      "HoG shape is  (133956,)\n",
      "Processing img  82.jpeg\n",
      "HoG shape is  (133956,)\n",
      "Processing img  820.jpeg\n"
     ]
    },
    {
     "name": "stderr",
     "output_type": "stream",
     "text": [
      " 80%|████████  | 803/1000 [01:55<00:33,  5.89it/s]"
     ]
    },
    {
     "name": "stdout",
     "output_type": "stream",
     "text": [
      "HoG shape is  (133956,)\n",
      "Processing img  821.jpeg\n"
     ]
    },
    {
     "name": "stderr",
     "output_type": "stream",
     "text": [
      " 80%|████████  | 805/1000 [01:56<00:35,  5.51it/s]"
     ]
    },
    {
     "name": "stdout",
     "output_type": "stream",
     "text": [
      "HoG shape is  (133956,)\n",
      "Processing img  822.jpeg\n",
      "HoG shape is  (133956,)\n",
      "Processing img  823.jpeg\n"
     ]
    },
    {
     "name": "stderr",
     "output_type": "stream",
     "text": [
      " 81%|████████  | 807/1000 [01:56<00:33,  5.68it/s]"
     ]
    },
    {
     "name": "stdout",
     "output_type": "stream",
     "text": [
      "HoG shape is  (133956,)\n",
      "Processing img  824.jpeg\n",
      "HoG shape is  (133956,)\n",
      "Processing img  825.jpeg\n"
     ]
    },
    {
     "name": "stderr",
     "output_type": "stream",
     "text": [
      " 81%|████████  | 809/1000 [01:56<00:30,  6.24it/s]"
     ]
    },
    {
     "name": "stdout",
     "output_type": "stream",
     "text": [
      "HoG shape is  (133956,)\n",
      "Processing img  826.jpeg\n",
      "HoG shape is  (133956,)\n",
      "Processing img  827.jpeg\n"
     ]
    },
    {
     "name": "stderr",
     "output_type": "stream",
     "text": [
      " 81%|████████  | 811/1000 [01:57<00:30,  6.21it/s]"
     ]
    },
    {
     "name": "stdout",
     "output_type": "stream",
     "text": [
      "HoG shape is  (133956,)\n",
      "Processing img  828.jpeg\n",
      "HoG shape is  (133956,)\n",
      "Processing img  829.jpeg\n"
     ]
    },
    {
     "name": "stderr",
     "output_type": "stream",
     "text": [
      " 81%|████████▏ | 813/1000 [01:57<00:28,  6.49it/s]"
     ]
    },
    {
     "name": "stdout",
     "output_type": "stream",
     "text": [
      "HoG shape is  (133956,)\n",
      "Processing img  83.jpeg\n",
      "HoG shape is  (133956,)\n",
      "Processing img  830.jpeg\n"
     ]
    },
    {
     "name": "stderr",
     "output_type": "stream",
     "text": [
      " 82%|████████▏ | 815/1000 [01:57<00:27,  6.64it/s]"
     ]
    },
    {
     "name": "stdout",
     "output_type": "stream",
     "text": [
      "HoG shape is  (133956,)\n",
      "Processing img  831.jpeg\n",
      "HoG shape is  (133956,)\n",
      "Processing img  832.jpeg\n"
     ]
    },
    {
     "name": "stderr",
     "output_type": "stream",
     "text": [
      " 82%|████████▏ | 817/1000 [01:57<00:26,  6.97it/s]"
     ]
    },
    {
     "name": "stdout",
     "output_type": "stream",
     "text": [
      "HoG shape is  (133956,)\n",
      "Processing img  833.jpeg\n",
      "HoG shape is  (133956,)\n",
      "Processing img  834.jpeg\n"
     ]
    },
    {
     "name": "stderr",
     "output_type": "stream",
     "text": [
      " 82%|████████▏ | 818/1000 [01:58<00:30,  6.01it/s]"
     ]
    },
    {
     "name": "stdout",
     "output_type": "stream",
     "text": [
      "HoG shape is  (133956,)\n",
      "Processing img  835.jpeg\n"
     ]
    },
    {
     "name": "stderr",
     "output_type": "stream",
     "text": [
      " 82%|████████▏ | 819/1000 [01:58<00:40,  4.49it/s]"
     ]
    },
    {
     "name": "stdout",
     "output_type": "stream",
     "text": [
      "HoG shape is  (133956,)\n",
      "Processing img  836.jpeg\n"
     ]
    },
    {
     "name": "stderr",
     "output_type": "stream",
     "text": [
      " 82%|████████▏ | 820/1000 [01:58<00:45,  3.96it/s]"
     ]
    },
    {
     "name": "stdout",
     "output_type": "stream",
     "text": [
      "HoG shape is  (133956,)\n",
      "Processing img  837.jpeg\n"
     ]
    },
    {
     "name": "stderr",
     "output_type": "stream",
     "text": [
      " 82%|████████▏ | 821/1000 [01:59<00:44,  4.04it/s]"
     ]
    },
    {
     "name": "stdout",
     "output_type": "stream",
     "text": [
      "HoG shape is  (133956,)\n",
      "Processing img  838.jpeg\n"
     ]
    },
    {
     "name": "stderr",
     "output_type": "stream",
     "text": [
      " 82%|████████▏ | 823/1000 [01:59<00:40,  4.42it/s]"
     ]
    },
    {
     "name": "stdout",
     "output_type": "stream",
     "text": [
      "HoG shape is  (133956,)\n",
      "Processing img  839.jpeg\n",
      "HoG shape is  (133956,)\n",
      "Processing img  84.jpeg\n"
     ]
    },
    {
     "name": "stderr",
     "output_type": "stream",
     "text": [
      " 82%|████████▏ | 824/1000 [01:59<00:39,  4.43it/s]"
     ]
    },
    {
     "name": "stdout",
     "output_type": "stream",
     "text": [
      "HoG shape is  (133956,)\n",
      "Processing img  840.jpeg\n"
     ]
    },
    {
     "name": "stderr",
     "output_type": "stream",
     "text": [
      " 82%|████████▎ | 825/1000 [02:00<00:48,  3.63it/s]"
     ]
    },
    {
     "name": "stdout",
     "output_type": "stream",
     "text": [
      "HoG shape is  (133956,)\n",
      "Processing img  841.jpeg\n"
     ]
    },
    {
     "name": "stderr",
     "output_type": "stream",
     "text": [
      " 83%|████████▎ | 827/1000 [02:00<00:38,  4.46it/s]"
     ]
    },
    {
     "name": "stdout",
     "output_type": "stream",
     "text": [
      "HoG shape is  (133956,)\n",
      "Processing img  842.jpeg\n",
      "HoG shape is  (133956,)\n",
      "Processing img  843.jpeg\n"
     ]
    },
    {
     "name": "stderr",
     "output_type": "stream",
     "text": [
      " 83%|████████▎ | 829/1000 [02:00<00:31,  5.37it/s]"
     ]
    },
    {
     "name": "stdout",
     "output_type": "stream",
     "text": [
      "HoG shape is  (133956,)\n",
      "Processing img  844.jpeg\n",
      "HoG shape is  (133956,)\n",
      "Processing img  845.jpeg\n"
     ]
    },
    {
     "name": "stderr",
     "output_type": "stream",
     "text": [
      " 83%|████████▎ | 831/1000 [02:01<00:27,  6.18it/s]"
     ]
    },
    {
     "name": "stdout",
     "output_type": "stream",
     "text": [
      "HoG shape is  (133956,)\n",
      "Processing img  846.jpeg\n",
      "HoG shape is  (133956,)\n",
      "Processing img  847.jpeg\n"
     ]
    },
    {
     "name": "stderr",
     "output_type": "stream",
     "text": [
      " 83%|████████▎ | 832/1000 [02:01<00:26,  6.42it/s]"
     ]
    },
    {
     "name": "stdout",
     "output_type": "stream",
     "text": [
      "HoG shape is  (133956,)\n",
      "Processing img  848.jpeg\n",
      "HoG shape is  (133956,)\n"
     ]
    },
    {
     "name": "stderr",
     "output_type": "stream",
     "text": [
      " 83%|████████▎ | 834/1000 [02:01<00:27,  5.97it/s]"
     ]
    },
    {
     "name": "stdout",
     "output_type": "stream",
     "text": [
      "Processing img  849.jpeg\n",
      "HoG shape is  (133956,)\n",
      "Processing img  85.jpeg\n"
     ]
    },
    {
     "name": "stderr",
     "output_type": "stream",
     "text": [
      " 84%|████████▎ | 836/1000 [02:01<00:24,  6.68it/s]"
     ]
    },
    {
     "name": "stdout",
     "output_type": "stream",
     "text": [
      "HoG shape is  (133956,)\n",
      "Processing img  850.jpeg\n",
      "HoG shape is  (133956,)\n",
      "Processing img  851.jpeg\n"
     ]
    },
    {
     "name": "stderr",
     "output_type": "stream",
     "text": [
      " 84%|████████▍ | 838/1000 [02:02<00:20,  7.77it/s]"
     ]
    },
    {
     "name": "stdout",
     "output_type": "stream",
     "text": [
      "HoG shape is  (133956,)\n",
      "Processing img  852.jpeg\n",
      "HoG shape is  (133956,)\n",
      "Processing img  853.jpeg\n",
      "HoG shape is  (133956,)\n"
     ]
    },
    {
     "name": "stderr",
     "output_type": "stream",
     "text": [
      " 84%|████████▍ | 840/1000 [02:02<00:19,  8.04it/s]"
     ]
    },
    {
     "name": "stdout",
     "output_type": "stream",
     "text": [
      "Processing img  854.jpeg\n",
      "HoG shape is  (133956,)\n",
      "Processing img  855.jpeg\n"
     ]
    },
    {
     "name": "stderr",
     "output_type": "stream",
     "text": [
      " 84%|████████▍ | 842/1000 [02:02<00:20,  7.69it/s]"
     ]
    },
    {
     "name": "stdout",
     "output_type": "stream",
     "text": [
      "HoG shape is  (133956,)\n",
      "Processing img  856.jpeg\n",
      "HoG shape is  (133956,)\n",
      "Processing img  857.jpeg\n"
     ]
    },
    {
     "name": "stderr",
     "output_type": "stream",
     "text": [
      " 84%|████████▍ | 843/1000 [02:02<00:20,  7.57it/s]"
     ]
    },
    {
     "name": "stdout",
     "output_type": "stream",
     "text": [
      "HoG shape is  (133956,)\n",
      "Processing img  858.jpeg\n"
     ]
    },
    {
     "name": "stderr",
     "output_type": "stream",
     "text": [
      " 84%|████████▍ | 844/1000 [02:03<00:37,  4.21it/s]"
     ]
    },
    {
     "name": "stdout",
     "output_type": "stream",
     "text": [
      "HoG shape is  (133956,)\n",
      "Processing img  859.jpeg\n",
      "HoG shape is  (133956,)\n"
     ]
    },
    {
     "name": "stderr",
     "output_type": "stream",
     "text": [
      " 84%|████████▍ | 845/1000 [02:03<00:35,  4.41it/s]"
     ]
    },
    {
     "name": "stdout",
     "output_type": "stream",
     "text": [
      "Processing img  86.jpeg\n"
     ]
    },
    {
     "name": "stderr",
     "output_type": "stream",
     "text": [
      " 85%|████████▍ | 846/1000 [02:03<00:35,  4.30it/s]"
     ]
    },
    {
     "name": "stdout",
     "output_type": "stream",
     "text": [
      "HoG shape is  (133956,)\n",
      "Processing img  860.jpeg\n"
     ]
    },
    {
     "name": "stderr",
     "output_type": "stream",
     "text": [
      " 85%|████████▍ | 847/1000 [02:04<00:44,  3.45it/s]"
     ]
    },
    {
     "name": "stdout",
     "output_type": "stream",
     "text": [
      "HoG shape is  (133956,)\n",
      "Processing img  861.jpeg\n"
     ]
    },
    {
     "name": "stderr",
     "output_type": "stream",
     "text": [
      " 85%|████████▍ | 848/1000 [02:04<00:44,  3.42it/s]"
     ]
    },
    {
     "name": "stdout",
     "output_type": "stream",
     "text": [
      "HoG shape is  (133956,)\n",
      "Processing img  862.jpeg\n"
     ]
    },
    {
     "name": "stderr",
     "output_type": "stream",
     "text": [
      " 85%|████████▌ | 850/1000 [02:04<00:36,  4.15it/s]"
     ]
    },
    {
     "name": "stdout",
     "output_type": "stream",
     "text": [
      "HoG shape is  (133956,)\n",
      "Processing img  863.jpeg\n",
      "HoG shape is  (133956,)\n",
      "Processing img  864.jpeg\n"
     ]
    },
    {
     "name": "stderr",
     "output_type": "stream",
     "text": [
      " 85%|████████▌ | 852/1000 [02:05<00:29,  5.05it/s]"
     ]
    },
    {
     "name": "stdout",
     "output_type": "stream",
     "text": [
      "HoG shape is  (133956,)\n",
      "Processing img  865.jpeg\n",
      "HoG shape is  (133956,)\n",
      "Processing img  866.jpeg\n"
     ]
    },
    {
     "name": "stderr",
     "output_type": "stream",
     "text": [
      " 85%|████████▌ | 854/1000 [02:05<00:25,  5.79it/s]"
     ]
    },
    {
     "name": "stdout",
     "output_type": "stream",
     "text": [
      "HoG shape is  (133956,)\n",
      "Processing img  867.jpeg\n",
      "HoG shape is  (133956,)\n",
      "Processing img  868.jpeg\n"
     ]
    },
    {
     "name": "stderr",
     "output_type": "stream",
     "text": [
      " 86%|████████▌ | 856/1000 [02:05<00:22,  6.42it/s]"
     ]
    },
    {
     "name": "stdout",
     "output_type": "stream",
     "text": [
      "HoG shape is  (133956,)\n",
      "Processing img  869.jpeg\n",
      "HoG shape is  (133956,)\n",
      "Processing img  87.jpeg\n"
     ]
    },
    {
     "name": "stderr",
     "output_type": "stream",
     "text": [
      " 86%|████████▌ | 858/1000 [02:05<00:22,  6.22it/s]"
     ]
    },
    {
     "name": "stdout",
     "output_type": "stream",
     "text": [
      "HoG shape is  (133956,)\n",
      "Processing img  870.jpeg\n",
      "HoG shape is  (133956,)\n",
      "Processing img  871.jpeg\n"
     ]
    },
    {
     "name": "stderr",
     "output_type": "stream",
     "text": [
      " 86%|████████▌ | 860/1000 [02:06<00:23,  6.06it/s]"
     ]
    },
    {
     "name": "stdout",
     "output_type": "stream",
     "text": [
      "HoG shape is  (133956,)\n",
      "Processing img  872.jpeg\n",
      "HoG shape is  (133956,)\n",
      "Processing img  873.jpeg\n"
     ]
    },
    {
     "name": "stderr",
     "output_type": "stream",
     "text": [
      " 86%|████████▌ | 861/1000 [02:06<00:21,  6.39it/s]"
     ]
    },
    {
     "name": "stdout",
     "output_type": "stream",
     "text": [
      "HoG shape is  (133956,)\n",
      "Processing img  874.jpeg\n",
      "HoG shape is  (133956,)\n"
     ]
    },
    {
     "name": "stderr",
     "output_type": "stream",
     "text": [
      " 86%|████████▋ | 863/1000 [02:06<00:22,  6.23it/s]"
     ]
    },
    {
     "name": "stdout",
     "output_type": "stream",
     "text": [
      "Processing img  875.jpeg\n",
      "HoG shape is  (133956,)\n",
      "Processing img  876.jpeg\n"
     ]
    },
    {
     "name": "stderr",
     "output_type": "stream",
     "text": [
      " 86%|████████▋ | 865/1000 [02:07<00:21,  6.33it/s]"
     ]
    },
    {
     "name": "stdout",
     "output_type": "stream",
     "text": [
      "HoG shape is  (133956,)\n",
      "Processing img  877.jpeg\n",
      "HoG shape is  (133956,)\n",
      "Processing img  878.jpeg\n"
     ]
    },
    {
     "name": "stderr",
     "output_type": "stream",
     "text": [
      " 87%|████████▋ | 867/1000 [02:07<00:21,  6.17it/s]"
     ]
    },
    {
     "name": "stdout",
     "output_type": "stream",
     "text": [
      "HoG shape is  (133956,)\n",
      "Processing img  879.jpeg\n",
      "HoG shape is  (133956,)\n",
      "Processing img  88.jpeg\n"
     ]
    },
    {
     "name": "stderr",
     "output_type": "stream",
     "text": [
      " 87%|████████▋ | 868/1000 [02:07<00:20,  6.40it/s]"
     ]
    },
    {
     "name": "stdout",
     "output_type": "stream",
     "text": [
      "HoG shape is  (133956,)\n",
      "Processing img  880.jpeg\n",
      "HoG shape is  (133956,)\n"
     ]
    },
    {
     "name": "stderr",
     "output_type": "stream",
     "text": [
      " 87%|████████▋ | 870/1000 [02:07<00:21,  6.02it/s]"
     ]
    },
    {
     "name": "stdout",
     "output_type": "stream",
     "text": [
      "Processing img  881.jpeg\n",
      "HoG shape is  (133956,)\n",
      "Processing img  882.jpeg\n"
     ]
    },
    {
     "name": "stderr",
     "output_type": "stream",
     "text": [
      " 87%|████████▋ | 871/1000 [02:08<00:22,  5.67it/s]"
     ]
    },
    {
     "name": "stdout",
     "output_type": "stream",
     "text": [
      "HoG shape is  (133956,)\n",
      "Processing img  883.jpeg\n",
      "HoG shape is  (133956,)\n"
     ]
    },
    {
     "name": "stderr",
     "output_type": "stream",
     "text": [
      " 87%|████████▋ | 873/1000 [02:08<00:23,  5.52it/s]"
     ]
    },
    {
     "name": "stdout",
     "output_type": "stream",
     "text": [
      "Processing img  884.jpeg\n",
      "HoG shape is  (133956,)\n",
      "Processing img  885.jpeg\n"
     ]
    },
    {
     "name": "stderr",
     "output_type": "stream",
     "text": [
      " 87%|████████▋ | 874/1000 [02:08<00:30,  4.15it/s]"
     ]
    },
    {
     "name": "stdout",
     "output_type": "stream",
     "text": [
      "HoG shape is  (133956,)\n",
      "Processing img  886.jpeg\n",
      "HoG shape is  (133956,)\n"
     ]
    },
    {
     "name": "stderr",
     "output_type": "stream",
     "text": [
      " 88%|████████▊ | 876/1000 [02:09<00:25,  4.89it/s]"
     ]
    },
    {
     "name": "stdout",
     "output_type": "stream",
     "text": [
      "Processing img  887.jpeg\n",
      "HoG shape is  (133956,)\n",
      "Processing img  888.jpeg\n"
     ]
    },
    {
     "name": "stderr",
     "output_type": "stream",
     "text": [
      " 88%|████████▊ | 877/1000 [02:09<00:23,  5.13it/s]"
     ]
    },
    {
     "name": "stdout",
     "output_type": "stream",
     "text": [
      "HoG shape is  (133956,)\n",
      "Processing img  889.jpeg\n"
     ]
    },
    {
     "name": "stderr",
     "output_type": "stream",
     "text": [
      " 88%|████████▊ | 878/1000 [02:09<00:27,  4.49it/s]"
     ]
    },
    {
     "name": "stdout",
     "output_type": "stream",
     "text": [
      "HoG shape is  (133956,)\n",
      "Processing img  89.jpeg\n"
     ]
    },
    {
     "name": "stderr",
     "output_type": "stream",
     "text": [
      " 88%|████████▊ | 879/1000 [02:10<00:30,  4.01it/s]"
     ]
    },
    {
     "name": "stdout",
     "output_type": "stream",
     "text": [
      "HoG shape is  (133956,)\n",
      "Processing img  890.jpeg\n",
      "HoG shape is  (133956,)\n"
     ]
    },
    {
     "name": "stderr",
     "output_type": "stream",
     "text": [
      " 88%|████████▊ | 880/1000 [02:10<00:27,  4.29it/s]"
     ]
    },
    {
     "name": "stdout",
     "output_type": "stream",
     "text": [
      "Processing img  891.jpeg\n"
     ]
    },
    {
     "name": "stderr",
     "output_type": "stream",
     "text": [
      " 88%|████████▊ | 881/1000 [02:10<00:33,  3.55it/s]"
     ]
    },
    {
     "name": "stdout",
     "output_type": "stream",
     "text": [
      "HoG shape is  (133956,)\n",
      "Processing img  892.jpeg\n"
     ]
    },
    {
     "name": "stderr",
     "output_type": "stream",
     "text": [
      " 88%|████████▊ | 882/1000 [02:10<00:32,  3.68it/s]"
     ]
    },
    {
     "name": "stdout",
     "output_type": "stream",
     "text": [
      "HoG shape is  (133956,)\n",
      "Processing img  893.jpeg\n",
      "HoG shape is  (133956,)\n"
     ]
    },
    {
     "name": "stderr",
     "output_type": "stream",
     "text": [
      " 88%|████████▊ | 883/1000 [02:11<00:29,  3.95it/s]"
     ]
    },
    {
     "name": "stdout",
     "output_type": "stream",
     "text": [
      "Processing img  894.jpeg\n"
     ]
    },
    {
     "name": "stderr",
     "output_type": "stream",
     "text": [
      " 88%|████████▊ | 884/1000 [02:11<00:28,  4.04it/s]"
     ]
    },
    {
     "name": "stdout",
     "output_type": "stream",
     "text": [
      "HoG shape is  (133956,)\n",
      "Processing img  895.jpeg\n"
     ]
    },
    {
     "name": "stderr",
     "output_type": "stream",
     "text": [
      " 88%|████████▊ | 885/1000 [02:11<00:29,  3.87it/s]"
     ]
    },
    {
     "name": "stdout",
     "output_type": "stream",
     "text": [
      "HoG shape is  (133956,)\n",
      "Processing img  896.jpeg\n"
     ]
    },
    {
     "name": "stderr",
     "output_type": "stream",
     "text": [
      " 89%|████████▊ | 886/1000 [02:11<00:28,  3.97it/s]"
     ]
    },
    {
     "name": "stdout",
     "output_type": "stream",
     "text": [
      "HoG shape is  (133956,)\n",
      "Processing img  897.jpeg\n",
      "HoG shape is  (133956,)\n"
     ]
    },
    {
     "name": "stderr",
     "output_type": "stream",
     "text": [
      " 89%|████████▉ | 888/1000 [02:12<00:24,  4.52it/s]"
     ]
    },
    {
     "name": "stdout",
     "output_type": "stream",
     "text": [
      "Processing img  898.jpeg\n",
      "HoG shape is  (133956,)\n"
     ]
    },
    {
     "name": "stderr",
     "output_type": "stream",
     "text": [
      " 89%|████████▉ | 889/1000 [02:12<00:22,  4.92it/s]"
     ]
    },
    {
     "name": "stdout",
     "output_type": "stream",
     "text": [
      "Processing img  899.jpeg\n",
      "HoG shape is  (133956,)\n",
      "Processing img  9.jpeg\n"
     ]
    },
    {
     "name": "stderr",
     "output_type": "stream",
     "text": [
      " 89%|████████▉ | 890/1000 [02:12<00:23,  4.63it/s]"
     ]
    },
    {
     "name": "stdout",
     "output_type": "stream",
     "text": [
      "HoG shape is  (133956,)\n",
      "Processing img  90.jpeg\n"
     ]
    },
    {
     "name": "stderr",
     "output_type": "stream",
     "text": [
      " 89%|████████▉ | 891/1000 [02:12<00:25,  4.36it/s]"
     ]
    },
    {
     "name": "stdout",
     "output_type": "stream",
     "text": [
      "HoG shape is  (133956,)\n",
      "Processing img  900.jpeg\n"
     ]
    },
    {
     "name": "stderr",
     "output_type": "stream",
     "text": [
      " 89%|████████▉ | 892/1000 [02:13<00:24,  4.40it/s]"
     ]
    },
    {
     "name": "stdout",
     "output_type": "stream",
     "text": [
      "HoG shape is  (133956,)\n",
      "Processing img  901.jpeg\n",
      "HoG shape is  (133956,)\n"
     ]
    },
    {
     "name": "stderr",
     "output_type": "stream",
     "text": [
      " 89%|████████▉ | 893/1000 [02:13<00:22,  4.70it/s]"
     ]
    },
    {
     "name": "stdout",
     "output_type": "stream",
     "text": [
      "Processing img  902.jpeg\n"
     ]
    },
    {
     "name": "stderr",
     "output_type": "stream",
     "text": [
      " 89%|████████▉ | 894/1000 [02:13<00:22,  4.75it/s]"
     ]
    },
    {
     "name": "stdout",
     "output_type": "stream",
     "text": [
      "HoG shape is  (133956,)\n",
      "Processing img  903.jpeg\n"
     ]
    },
    {
     "name": "stderr",
     "output_type": "stream",
     "text": [
      " 90%|████████▉ | 896/1000 [02:13<00:20,  4.98it/s]"
     ]
    },
    {
     "name": "stdout",
     "output_type": "stream",
     "text": [
      "HoG shape is  (133956,)\n",
      "Processing img  904.jpeg\n",
      "HoG shape is  (133956,)\n",
      "Processing img  905.jpeg\n"
     ]
    },
    {
     "name": "stderr",
     "output_type": "stream",
     "text": [
      " 90%|████████▉ | 898/1000 [02:14<00:17,  5.80it/s]"
     ]
    },
    {
     "name": "stdout",
     "output_type": "stream",
     "text": [
      "HoG shape is  (133956,)\n",
      "Processing img  906.jpeg\n",
      "HoG shape is  (133956,)\n",
      "Processing img  907.jpeg\n"
     ]
    },
    {
     "name": "stderr",
     "output_type": "stream",
     "text": [
      " 90%|████████▉ | 899/1000 [02:14<00:17,  5.85it/s]"
     ]
    },
    {
     "name": "stdout",
     "output_type": "stream",
     "text": [
      "HoG shape is  (133956,)\n",
      "Processing img  908.jpeg\n"
     ]
    },
    {
     "name": "stderr",
     "output_type": "stream",
     "text": [
      " 90%|█████████ | 900/1000 [02:14<00:21,  4.60it/s]"
     ]
    },
    {
     "name": "stdout",
     "output_type": "stream",
     "text": [
      "HoG shape is  (133956,)\n",
      "Processing img  909.jpeg\n"
     ]
    },
    {
     "name": "stderr",
     "output_type": "stream",
     "text": [
      " 90%|█████████ | 901/1000 [02:14<00:23,  4.20it/s]"
     ]
    },
    {
     "name": "stdout",
     "output_type": "stream",
     "text": [
      "HoG shape is  (133956,)\n",
      "Processing img  91.jpeg\n"
     ]
    },
    {
     "name": "stderr",
     "output_type": "stream",
     "text": [
      " 90%|█████████ | 902/1000 [02:15<00:23,  4.15it/s]"
     ]
    },
    {
     "name": "stdout",
     "output_type": "stream",
     "text": [
      "HoG shape is  (133956,)\n",
      "Processing img  910.jpeg\n"
     ]
    },
    {
     "name": "stderr",
     "output_type": "stream",
     "text": [
      " 90%|█████████ | 903/1000 [02:15<00:26,  3.71it/s]"
     ]
    },
    {
     "name": "stdout",
     "output_type": "stream",
     "text": [
      "HoG shape is  (133956,)\n",
      "Processing img  911.jpeg\n",
      "HoG shape is  (133956,)\n"
     ]
    },
    {
     "name": "stderr",
     "output_type": "stream",
     "text": [
      " 90%|█████████ | 904/1000 [02:15<00:23,  4.08it/s]"
     ]
    },
    {
     "name": "stdout",
     "output_type": "stream",
     "text": [
      "Processing img  912.jpeg\n"
     ]
    },
    {
     "name": "stderr",
     "output_type": "stream",
     "text": [
      " 91%|█████████ | 906/1000 [02:16<00:20,  4.58it/s]"
     ]
    },
    {
     "name": "stdout",
     "output_type": "stream",
     "text": [
      "HoG shape is  (133956,)\n",
      "Processing img  913.jpeg\n",
      "HoG shape is  (133956,)\n",
      "Processing img  914.jpeg\n"
     ]
    },
    {
     "name": "stderr",
     "output_type": "stream",
     "text": [
      " 91%|█████████ | 908/1000 [02:16<00:17,  5.33it/s]"
     ]
    },
    {
     "name": "stdout",
     "output_type": "stream",
     "text": [
      "HoG shape is  (133956,)\n",
      "Processing img  915.jpeg\n",
      "HoG shape is  (133956,)\n",
      "Processing img  916.jpeg\n"
     ]
    },
    {
     "name": "stderr",
     "output_type": "stream",
     "text": [
      " 91%|█████████ | 910/1000 [02:16<00:15,  5.90it/s]"
     ]
    },
    {
     "name": "stdout",
     "output_type": "stream",
     "text": [
      "HoG shape is  (133956,)\n",
      "Processing img  917.jpeg\n",
      "HoG shape is  (133956,)\n",
      "Processing img  918.jpeg\n"
     ]
    },
    {
     "name": "stderr",
     "output_type": "stream",
     "text": [
      " 91%|█████████ | 911/1000 [02:17<00:18,  4.74it/s]"
     ]
    },
    {
     "name": "stdout",
     "output_type": "stream",
     "text": [
      "HoG shape is  (133956,)\n",
      "Processing img  919.jpeg\n"
     ]
    },
    {
     "name": "stderr",
     "output_type": "stream",
     "text": [
      " 91%|█████████ | 912/1000 [02:17<00:17,  4.89it/s]"
     ]
    },
    {
     "name": "stdout",
     "output_type": "stream",
     "text": [
      "HoG shape is  (133956,)\n",
      "Processing img  92.jpeg\n",
      "HoG shape is  (133956,)\n"
     ]
    },
    {
     "name": "stderr",
     "output_type": "stream",
     "text": [
      " 91%|█████████▏| 914/1000 [02:17<00:16,  5.36it/s]"
     ]
    },
    {
     "name": "stdout",
     "output_type": "stream",
     "text": [
      "Processing img  920.jpeg\n",
      "HoG shape is  (133956,)\n",
      "Processing img  921.jpeg\n"
     ]
    },
    {
     "name": "stderr",
     "output_type": "stream",
     "text": [
      " 92%|█████████▏| 916/1000 [02:17<00:14,  5.79it/s]"
     ]
    },
    {
     "name": "stdout",
     "output_type": "stream",
     "text": [
      "HoG shape is  (133956,)\n",
      "Processing img  922.jpeg\n",
      "HoG shape is  (133956,)\n",
      "Processing img  923.jpeg\n"
     ]
    },
    {
     "name": "stderr",
     "output_type": "stream",
     "text": [
      " 92%|█████████▏| 917/1000 [02:18<00:13,  6.19it/s]"
     ]
    },
    {
     "name": "stdout",
     "output_type": "stream",
     "text": [
      "HoG shape is  (133956,)\n",
      "Processing img  924.jpeg\n"
     ]
    },
    {
     "name": "stderr",
     "output_type": "stream",
     "text": [
      " 92%|█████████▏| 919/1000 [02:18<00:14,  5.72it/s]"
     ]
    },
    {
     "name": "stdout",
     "output_type": "stream",
     "text": [
      "HoG shape is  (133956,)\n",
      "Processing img  925.jpeg\n",
      "HoG shape is  (133956,)\n",
      "Processing img  926.jpeg\n"
     ]
    },
    {
     "name": "stderr",
     "output_type": "stream",
     "text": [
      " 92%|█████████▏| 920/1000 [02:18<00:13,  6.08it/s]"
     ]
    },
    {
     "name": "stdout",
     "output_type": "stream",
     "text": [
      "HoG shape is  (133956,)\n",
      "Processing img  927.jpeg\n"
     ]
    },
    {
     "name": "stderr",
     "output_type": "stream",
     "text": [
      " 92%|█████████▏| 921/1000 [02:18<00:15,  5.16it/s]"
     ]
    },
    {
     "name": "stdout",
     "output_type": "stream",
     "text": [
      "HoG shape is  (133956,)\n",
      "Processing img  928.jpeg\n",
      "HoG shape is  (133956,)\n"
     ]
    },
    {
     "name": "stderr",
     "output_type": "stream",
     "text": [
      " 92%|█████████▏| 923/1000 [02:19<00:14,  5.35it/s]"
     ]
    },
    {
     "name": "stdout",
     "output_type": "stream",
     "text": [
      "Processing img  929.jpeg\n",
      "HoG shape is  (133956,)\n",
      "Processing img  93.jpeg\n"
     ]
    },
    {
     "name": "stderr",
     "output_type": "stream",
     "text": [
      " 92%|█████████▎| 925/1000 [02:19<00:13,  5.61it/s]"
     ]
    },
    {
     "name": "stdout",
     "output_type": "stream",
     "text": [
      "HoG shape is  (133956,)\n",
      "Processing img  930.jpeg\n",
      "HoG shape is  (133956,)\n",
      "Processing img  931.jpeg\n"
     ]
    },
    {
     "name": "stderr",
     "output_type": "stream",
     "text": [
      " 93%|█████████▎| 927/1000 [02:19<00:11,  6.33it/s]"
     ]
    },
    {
     "name": "stdout",
     "output_type": "stream",
     "text": [
      "HoG shape is  (133956,)\n",
      "Processing img  932.jpeg\n",
      "HoG shape is  (133956,)\n",
      "Processing img  933.jpeg\n"
     ]
    },
    {
     "name": "stderr",
     "output_type": "stream",
     "text": [
      " 93%|█████████▎| 929/1000 [02:20<00:10,  6.60it/s]"
     ]
    },
    {
     "name": "stdout",
     "output_type": "stream",
     "text": [
      "HoG shape is  (133956,)\n",
      "Processing img  934.jpeg\n",
      "HoG shape is  (133956,)\n",
      "Processing img  935.jpeg\n"
     ]
    },
    {
     "name": "stderr",
     "output_type": "stream",
     "text": [
      " 93%|█████████▎| 930/1000 [02:20<00:11,  6.28it/s]"
     ]
    },
    {
     "name": "stdout",
     "output_type": "stream",
     "text": [
      "HoG shape is  (133956,)\n",
      "Processing img  936.jpeg\n"
     ]
    },
    {
     "name": "stderr",
     "output_type": "stream",
     "text": [
      " 93%|█████████▎| 931/1000 [02:20<00:13,  5.20it/s]"
     ]
    },
    {
     "name": "stdout",
     "output_type": "stream",
     "text": [
      "HoG shape is  (133956,)\n",
      "Processing img  937.jpeg\n"
     ]
    },
    {
     "name": "stderr",
     "output_type": "stream",
     "text": [
      " 93%|█████████▎| 932/1000 [02:21<00:21,  3.18it/s]"
     ]
    },
    {
     "name": "stdout",
     "output_type": "stream",
     "text": [
      "HoG shape is  (133956,)\n",
      "Processing img  938.jpeg\n"
     ]
    },
    {
     "name": "stderr",
     "output_type": "stream",
     "text": [
      " 93%|█████████▎| 933/1000 [02:21<00:19,  3.36it/s]"
     ]
    },
    {
     "name": "stdout",
     "output_type": "stream",
     "text": [
      "HoG shape is  (133956,)\n",
      "Processing img  939.jpeg\n"
     ]
    },
    {
     "name": "stderr",
     "output_type": "stream",
     "text": [
      " 94%|█████████▎| 935/1000 [02:21<00:15,  4.13it/s]"
     ]
    },
    {
     "name": "stdout",
     "output_type": "stream",
     "text": [
      "HoG shape is  (133956,)\n",
      "Processing img  94.jpeg\n",
      "HoG shape is  (133956,)\n",
      "Processing img  940.jpeg\n"
     ]
    },
    {
     "name": "stderr",
     "output_type": "stream",
     "text": [
      " 94%|█████████▎| 937/1000 [02:22<00:12,  4.92it/s]"
     ]
    },
    {
     "name": "stdout",
     "output_type": "stream",
     "text": [
      "HoG shape is  (133956,)\n",
      "Processing img  941.jpeg\n",
      "HoG shape is  (133956,)\n",
      "Processing img  942.jpeg\n"
     ]
    },
    {
     "name": "stderr",
     "output_type": "stream",
     "text": [
      " 94%|█████████▍| 939/1000 [02:22<00:11,  5.48it/s]"
     ]
    },
    {
     "name": "stdout",
     "output_type": "stream",
     "text": [
      "HoG shape is  (133956,)\n",
      "Processing img  943.jpeg\n",
      "HoG shape is  (133956,)\n",
      "Processing img  944.jpeg\n"
     ]
    },
    {
     "name": "stderr",
     "output_type": "stream",
     "text": [
      " 94%|█████████▍| 941/1000 [02:22<00:09,  6.06it/s]"
     ]
    },
    {
     "name": "stdout",
     "output_type": "stream",
     "text": [
      "HoG shape is  (133956,)\n",
      "Processing img  945.jpeg\n",
      "HoG shape is  (133956,)\n",
      "Processing img  946.jpeg\n"
     ]
    },
    {
     "name": "stderr",
     "output_type": "stream",
     "text": [
      " 94%|█████████▍| 943/1000 [02:23<00:09,  6.00it/s]"
     ]
    },
    {
     "name": "stdout",
     "output_type": "stream",
     "text": [
      "HoG shape is  (133956,)\n",
      "Processing img  947.jpeg\n",
      "HoG shape is  (133956,)\n",
      "Processing img  948.jpeg\n"
     ]
    },
    {
     "name": "stderr",
     "output_type": "stream",
     "text": [
      " 94%|█████████▍| 944/1000 [02:23<00:11,  5.00it/s]"
     ]
    },
    {
     "name": "stdout",
     "output_type": "stream",
     "text": [
      "HoG shape is  (133956,)\n",
      "Processing img  949.jpeg\n"
     ]
    },
    {
     "name": "stderr",
     "output_type": "stream",
     "text": [
      " 94%|█████████▍| 945/1000 [02:23<00:12,  4.53it/s]"
     ]
    },
    {
     "name": "stdout",
     "output_type": "stream",
     "text": [
      "HoG shape is  (133956,)\n",
      "Processing img  95.jpeg\n"
     ]
    },
    {
     "name": "stderr",
     "output_type": "stream",
     "text": [
      " 95%|█████████▍| 947/1000 [02:23<00:10,  5.01it/s]"
     ]
    },
    {
     "name": "stdout",
     "output_type": "stream",
     "text": [
      "HoG shape is  (133956,)\n",
      "Processing img  950.jpeg\n",
      "HoG shape is  (133956,)\n",
      "Processing img  951.jpeg\n"
     ]
    },
    {
     "name": "stderr",
     "output_type": "stream",
     "text": [
      " 95%|█████████▍| 949/1000 [02:24<00:08,  6.02it/s]"
     ]
    },
    {
     "name": "stdout",
     "output_type": "stream",
     "text": [
      "HoG shape is  (133956,)\n",
      "Processing img  952.jpeg\n",
      "HoG shape is  (133956,)\n",
      "Processing img  953.jpeg\n"
     ]
    },
    {
     "name": "stderr",
     "output_type": "stream",
     "text": [
      " 95%|█████████▌| 951/1000 [02:24<00:07,  6.28it/s]"
     ]
    },
    {
     "name": "stdout",
     "output_type": "stream",
     "text": [
      "HoG shape is  (133956,)\n",
      "Processing img  954.jpeg\n",
      "HoG shape is  (133956,)\n",
      "Processing img  955.jpeg\n"
     ]
    },
    {
     "name": "stderr",
     "output_type": "stream",
     "text": [
      " 95%|█████████▌| 953/1000 [02:24<00:06,  6.78it/s]"
     ]
    },
    {
     "name": "stdout",
     "output_type": "stream",
     "text": [
      "HoG shape is  (133956,)\n",
      "Processing img  956.jpeg\n",
      "HoG shape is  (133956,)\n",
      "Processing img  957.jpeg\n"
     ]
    },
    {
     "name": "stderr",
     "output_type": "stream",
     "text": [
      " 96%|█████████▌| 955/1000 [02:25<00:06,  7.27it/s]"
     ]
    },
    {
     "name": "stdout",
     "output_type": "stream",
     "text": [
      "HoG shape is  (133956,)\n",
      "Processing img  958.jpeg\n",
      "HoG shape is  (133956,)\n",
      "Processing img  959.jpeg\n"
     ]
    },
    {
     "name": "stderr",
     "output_type": "stream",
     "text": [
      " 96%|█████████▌| 957/1000 [02:25<00:06,  7.13it/s]"
     ]
    },
    {
     "name": "stdout",
     "output_type": "stream",
     "text": [
      "HoG shape is  (133956,)\n",
      "Processing img  96.jpeg\n",
      "HoG shape is  (133956,)\n",
      "Processing img  960.jpeg\n"
     ]
    },
    {
     "name": "stderr",
     "output_type": "stream",
     "text": [
      " 96%|█████████▌| 959/1000 [02:25<00:05,  7.05it/s]"
     ]
    },
    {
     "name": "stdout",
     "output_type": "stream",
     "text": [
      "HoG shape is  (133956,)\n",
      "Processing img  961.jpeg\n",
      "HoG shape is  (133956,)\n",
      "Processing img  962.jpeg\n"
     ]
    },
    {
     "name": "stderr",
     "output_type": "stream",
     "text": [
      " 96%|█████████▌| 961/1000 [02:25<00:05,  6.77it/s]"
     ]
    },
    {
     "name": "stdout",
     "output_type": "stream",
     "text": [
      "HoG shape is  (133956,)\n",
      "Processing img  963.jpeg\n",
      "HoG shape is  (133956,)\n",
      "Processing img  964.jpeg\n"
     ]
    },
    {
     "name": "stderr",
     "output_type": "stream",
     "text": [
      " 96%|█████████▋| 963/1000 [02:26<00:05,  7.20it/s]"
     ]
    },
    {
     "name": "stdout",
     "output_type": "stream",
     "text": [
      "HoG shape is  (133956,)\n",
      "Processing img  965.jpeg\n",
      "HoG shape is  (133956,)\n",
      "Processing img  966.jpeg\n"
     ]
    },
    {
     "name": "stderr",
     "output_type": "stream",
     "text": [
      " 96%|█████████▋| 965/1000 [02:26<00:05,  6.97it/s]"
     ]
    },
    {
     "name": "stdout",
     "output_type": "stream",
     "text": [
      "HoG shape is  (133956,)\n",
      "Processing img  967.jpeg\n",
      "HoG shape is  (133956,)\n",
      "Processing img  968.jpeg\n"
     ]
    },
    {
     "name": "stderr",
     "output_type": "stream",
     "text": [
      " 97%|█████████▋| 966/1000 [02:26<00:04,  7.13it/s]"
     ]
    },
    {
     "name": "stdout",
     "output_type": "stream",
     "text": [
      "HoG shape is  (133956,)\n",
      "Processing img  969.jpeg\n"
     ]
    },
    {
     "name": "stderr",
     "output_type": "stream",
     "text": [
      " 97%|█████████▋| 967/1000 [02:26<00:06,  5.06it/s]"
     ]
    },
    {
     "name": "stdout",
     "output_type": "stream",
     "text": [
      "HoG shape is  (133956,)\n",
      "Processing img  97.jpeg\n",
      "HoG shape is  (133956,)\n"
     ]
    },
    {
     "name": "stderr",
     "output_type": "stream",
     "text": [
      " 97%|█████████▋| 969/1000 [02:27<00:05,  5.56it/s]"
     ]
    },
    {
     "name": "stdout",
     "output_type": "stream",
     "text": [
      "Processing img  970.jpeg\n",
      "HoG shape is  (133956,)\n",
      "Processing img  971.jpeg\n"
     ]
    },
    {
     "name": "stderr",
     "output_type": "stream",
     "text": [
      " 97%|█████████▋| 970/1000 [02:27<00:05,  5.86it/s]"
     ]
    },
    {
     "name": "stdout",
     "output_type": "stream",
     "text": [
      "HoG shape is  (133956,)\n",
      "Processing img  972.jpeg\n",
      "HoG shape is  (133956,)\n"
     ]
    },
    {
     "name": "stderr",
     "output_type": "stream",
     "text": [
      " 97%|█████████▋| 972/1000 [02:27<00:04,  5.83it/s]"
     ]
    },
    {
     "name": "stdout",
     "output_type": "stream",
     "text": [
      "Processing img  973.jpeg\n",
      "HoG shape is  (133956,)\n",
      "Processing img  974.jpeg\n"
     ]
    },
    {
     "name": "stderr",
     "output_type": "stream",
     "text": [
      " 97%|█████████▋| 974/1000 [02:28<00:04,  6.27it/s]"
     ]
    },
    {
     "name": "stdout",
     "output_type": "stream",
     "text": [
      "HoG shape is  (133956,)\n",
      "Processing img  975.jpeg\n",
      "HoG shape is  (133956,)\n",
      "Processing img  976.jpeg\n"
     ]
    },
    {
     "name": "stderr",
     "output_type": "stream",
     "text": [
      " 98%|█████████▊| 976/1000 [02:28<00:03,  6.11it/s]"
     ]
    },
    {
     "name": "stdout",
     "output_type": "stream",
     "text": [
      "HoG shape is  (133956,)\n",
      "Processing img  977.jpeg\n",
      "HoG shape is  (133956,)\n",
      "Processing img  978.jpeg\n"
     ]
    },
    {
     "name": "stderr",
     "output_type": "stream",
     "text": [
      " 98%|█████████▊| 978/1000 [02:28<00:03,  6.27it/s]"
     ]
    },
    {
     "name": "stdout",
     "output_type": "stream",
     "text": [
      "HoG shape is  (133956,)\n",
      "Processing img  979.jpeg\n",
      "HoG shape is  (133956,)\n",
      "Processing img  98.jpeg\n"
     ]
    },
    {
     "name": "stderr",
     "output_type": "stream",
     "text": [
      " 98%|█████████▊| 979/1000 [02:28<00:03,  6.19it/s]"
     ]
    },
    {
     "name": "stdout",
     "output_type": "stream",
     "text": [
      "HoG shape is  (133956,)\n",
      "Processing img  980.jpeg\n"
     ]
    },
    {
     "name": "stderr",
     "output_type": "stream",
     "text": [
      " 98%|█████████▊| 980/1000 [02:29<00:04,  4.22it/s]"
     ]
    },
    {
     "name": "stdout",
     "output_type": "stream",
     "text": [
      "HoG shape is  (133956,)\n",
      "Processing img  981.jpeg\n",
      "HoG shape is  (133956,)\n"
     ]
    },
    {
     "name": "stderr",
     "output_type": "stream",
     "text": [
      " 98%|█████████▊| 982/1000 [02:29<00:03,  4.95it/s]"
     ]
    },
    {
     "name": "stdout",
     "output_type": "stream",
     "text": [
      "Processing img  982.jpeg\n",
      "HoG shape is  (133956,)\n",
      "Processing img  983.jpeg\n"
     ]
    },
    {
     "name": "stderr",
     "output_type": "stream",
     "text": [
      " 98%|█████████▊| 984/1000 [02:29<00:02,  6.05it/s]"
     ]
    },
    {
     "name": "stdout",
     "output_type": "stream",
     "text": [
      "HoG shape is  (133956,)\n",
      "Processing img  984.jpeg\n",
      "HoG shape is  (133956,)\n",
      "Processing img  985.jpeg\n"
     ]
    },
    {
     "name": "stderr",
     "output_type": "stream",
     "text": [
      " 99%|█████████▊| 986/1000 [02:30<00:01,  7.22it/s]"
     ]
    },
    {
     "name": "stdout",
     "output_type": "stream",
     "text": [
      "HoG shape is  (133956,)\n",
      "Processing img  986.jpeg\n",
      "HoG shape is  (133956,)\n",
      "Processing img  987.jpeg\n"
     ]
    },
    {
     "name": "stderr",
     "output_type": "stream",
     "text": [
      " 99%|█████████▉| 988/1000 [02:30<00:01,  6.75it/s]"
     ]
    },
    {
     "name": "stdout",
     "output_type": "stream",
     "text": [
      "HoG shape is  (133956,)\n",
      "Processing img  988.jpeg\n",
      "HoG shape is  (133956,)\n",
      "Processing img  989.jpeg\n"
     ]
    },
    {
     "name": "stderr",
     "output_type": "stream",
     "text": [
      " 99%|█████████▉| 990/1000 [02:30<00:01,  6.71it/s]"
     ]
    },
    {
     "name": "stdout",
     "output_type": "stream",
     "text": [
      "HoG shape is  (133956,)\n",
      "Processing img  99.jpeg\n",
      "HoG shape is  (133956,)\n",
      "Processing img  990.jpeg\n"
     ]
    },
    {
     "name": "stderr",
     "output_type": "stream",
     "text": [
      " 99%|█████████▉| 992/1000 [02:31<00:01,  6.46it/s]"
     ]
    },
    {
     "name": "stdout",
     "output_type": "stream",
     "text": [
      "HoG shape is  (133956,)\n",
      "Processing img  991.jpeg\n",
      "HoG shape is  (133956,)\n",
      "Processing img  992.jpeg\n"
     ]
    },
    {
     "name": "stderr",
     "output_type": "stream",
     "text": [
      " 99%|█████████▉| 994/1000 [02:31<00:00,  6.62it/s]"
     ]
    },
    {
     "name": "stdout",
     "output_type": "stream",
     "text": [
      "HoG shape is  (133956,)\n",
      "Processing img  993.jpeg\n",
      "HoG shape is  (133956,)\n",
      "Processing img  994.jpeg\n"
     ]
    },
    {
     "name": "stderr",
     "output_type": "stream",
     "text": [
      "100%|█████████▉| 995/1000 [02:31<00:00,  6.70it/s]"
     ]
    },
    {
     "name": "stdout",
     "output_type": "stream",
     "text": [
      "HoG shape is  (133956,)\n",
      "Processing img  995.jpeg\n"
     ]
    },
    {
     "name": "stderr",
     "output_type": "stream",
     "text": [
      "100%|█████████▉| 997/1000 [02:31<00:00,  6.14it/s]"
     ]
    },
    {
     "name": "stdout",
     "output_type": "stream",
     "text": [
      "HoG shape is  (133956,)\n",
      "Processing img  996.jpeg\n",
      "HoG shape is  (133956,)\n",
      "Processing img  997.jpeg\n"
     ]
    },
    {
     "name": "stderr",
     "output_type": "stream",
     "text": [
      "100%|█████████▉| 999/1000 [02:32<00:00,  6.62it/s]"
     ]
    },
    {
     "name": "stdout",
     "output_type": "stream",
     "text": [
      "HoG shape is  (133956,)\n",
      "Processing img  998.jpeg\n",
      "HoG shape is  (133956,)\n",
      "Processing img  999.jpeg\n"
     ]
    },
    {
     "name": "stderr",
     "output_type": "stream",
     "text": [
      "100%|██████████| 1000/1000 [02:32<00:00,  6.57it/s]"
     ]
    },
    {
     "name": "stdout",
     "output_type": "stream",
     "text": [
      "HoG shape is  (133956,)\n"
     ]
    },
    {
     "name": "stderr",
     "output_type": "stream",
     "text": [
      "\n"
     ]
    }
   ],
   "source": [
    "dataset_dir = \"out250\"\n",
    "\n",
    "# List to store image paths and corresponding labels\n",
    "image_paths = []\n",
    "labels = []\n",
    "hog_features=[]\n",
    "from tqdm import tqdm\n",
    "# Iterate through each font type directory\n",
    "for i,font_type in enumerate(os.listdir(dataset_dir)):\n",
    "    print(\"Processing font type \",font_type)\n",
    "    counter=0\n",
    "    font_type_dir = os.path.join(dataset_dir, font_type)\n",
    "    font_label=i\n",
    "    if os.path.isdir(font_type_dir):\n",
    "        # Iterate through each image in the font type directory\n",
    "        for image_file in tqdm (os.listdir(font_type_dir)):\n",
    "            # counter+=1\n",
    "            # if counter>1000:\n",
    "            #     break;\n",
    "            image_path = os.path.join(font_type_dir, image_file)\n",
    "            # Read the image\n",
    "            print(\"Processing img \",image_file)\n",
    "            image = cv2.imread(image_path)\n",
    "            # image = preprocess(image)\n",
    "            # # print(\"Preprocessed image shape is\",image.shape)\n",
    "            # image= removeSkew(image)\n",
    "            # print(\"Skew-Corrected image shape is \",image.shape)\n",
    "            if image is not None:\n",
    "                # Extract HOG features\n",
    "                currHoG=extract_hog_features(image)\n",
    "                hog_features.append (currHoG)\n",
    "                print(\"HoG shape is \",currHoG.shape)\n",
    "                # Add HOG features to the list\n",
    "                image_paths.append(image_path)\n",
    "                labels.append(font_label)"
   ]
  },
  {
   "cell_type": "code",
   "execution_count": 12,
   "metadata": {},
   "outputs": [],
   "source": [
    "# save in pkl \n",
    "# import pickle\n",
    "# with open('hog_features_nocrop.pkl', 'wb') as f:\n",
    "#     pickle.dump(hog_features, f)"
   ]
  },
  {
   "cell_type": "code",
   "execution_count": 13,
   "metadata": {},
   "outputs": [],
   "source": [
    "# Split the dataset into training and testing sets\n",
    "X_train, X_test, y_train, y_test = train_test_split(hog_features, labels, test_size=0.2, random_state=42)\n"
   ]
  },
  {
   "cell_type": "code",
   "execution_count": 14,
   "metadata": {},
   "outputs": [],
   "source": [
    "# Convert lists to numpy arrays\n",
    "X_train = np.array(X_train)\n",
    "X_test = np.array(X_test)"
   ]
  },
  {
   "cell_type": "code",
   "execution_count": 9,
   "metadata": {},
   "outputs": [
    {
     "data": {
      "text/html": [
       "<style>#sk-container-id-1 {color: black;}#sk-container-id-1 pre{padding: 0;}#sk-container-id-1 div.sk-toggleable {background-color: white;}#sk-container-id-1 label.sk-toggleable__label {cursor: pointer;display: block;width: 100%;margin-bottom: 0;padding: 0.3em;box-sizing: border-box;text-align: center;}#sk-container-id-1 label.sk-toggleable__label-arrow:before {content: \"▸\";float: left;margin-right: 0.25em;color: #696969;}#sk-container-id-1 label.sk-toggleable__label-arrow:hover:before {color: black;}#sk-container-id-1 div.sk-estimator:hover label.sk-toggleable__label-arrow:before {color: black;}#sk-container-id-1 div.sk-toggleable__content {max-height: 0;max-width: 0;overflow: hidden;text-align: left;background-color: #f0f8ff;}#sk-container-id-1 div.sk-toggleable__content pre {margin: 0.2em;color: black;border-radius: 0.25em;background-color: #f0f8ff;}#sk-container-id-1 input.sk-toggleable__control:checked~div.sk-toggleable__content {max-height: 200px;max-width: 100%;overflow: auto;}#sk-container-id-1 input.sk-toggleable__control:checked~label.sk-toggleable__label-arrow:before {content: \"▾\";}#sk-container-id-1 div.sk-estimator input.sk-toggleable__control:checked~label.sk-toggleable__label {background-color: #d4ebff;}#sk-container-id-1 div.sk-label input.sk-toggleable__control:checked~label.sk-toggleable__label {background-color: #d4ebff;}#sk-container-id-1 input.sk-hidden--visually {border: 0;clip: rect(1px 1px 1px 1px);clip: rect(1px, 1px, 1px, 1px);height: 1px;margin: -1px;overflow: hidden;padding: 0;position: absolute;width: 1px;}#sk-container-id-1 div.sk-estimator {font-family: monospace;background-color: #f0f8ff;border: 1px dotted black;border-radius: 0.25em;box-sizing: border-box;margin-bottom: 0.5em;}#sk-container-id-1 div.sk-estimator:hover {background-color: #d4ebff;}#sk-container-id-1 div.sk-parallel-item::after {content: \"\";width: 100%;border-bottom: 1px solid gray;flex-grow: 1;}#sk-container-id-1 div.sk-label:hover label.sk-toggleable__label {background-color: #d4ebff;}#sk-container-id-1 div.sk-serial::before {content: \"\";position: absolute;border-left: 1px solid gray;box-sizing: border-box;top: 0;bottom: 0;left: 50%;z-index: 0;}#sk-container-id-1 div.sk-serial {display: flex;flex-direction: column;align-items: center;background-color: white;padding-right: 0.2em;padding-left: 0.2em;position: relative;}#sk-container-id-1 div.sk-item {position: relative;z-index: 1;}#sk-container-id-1 div.sk-parallel {display: flex;align-items: stretch;justify-content: center;background-color: white;position: relative;}#sk-container-id-1 div.sk-item::before, #sk-container-id-1 div.sk-parallel-item::before {content: \"\";position: absolute;border-left: 1px solid gray;box-sizing: border-box;top: 0;bottom: 0;left: 50%;z-index: -1;}#sk-container-id-1 div.sk-parallel-item {display: flex;flex-direction: column;z-index: 1;position: relative;background-color: white;}#sk-container-id-1 div.sk-parallel-item:first-child::after {align-self: flex-end;width: 50%;}#sk-container-id-1 div.sk-parallel-item:last-child::after {align-self: flex-start;width: 50%;}#sk-container-id-1 div.sk-parallel-item:only-child::after {width: 0;}#sk-container-id-1 div.sk-dashed-wrapped {border: 1px dashed gray;margin: 0 0.4em 0.5em 0.4em;box-sizing: border-box;padding-bottom: 0.4em;background-color: white;}#sk-container-id-1 div.sk-label label {font-family: monospace;font-weight: bold;display: inline-block;line-height: 1.2em;}#sk-container-id-1 div.sk-label-container {text-align: center;}#sk-container-id-1 div.sk-container {/* jupyter's `normalize.less` sets `[hidden] { display: none; }` but bootstrap.min.css set `[hidden] { display: none !important; }` so we also need the `!important` here to be able to override the default hidden behavior on the sphinx rendered scikit-learn.org. See: https://github.com/scikit-learn/scikit-learn/issues/21755 */display: inline-block !important;position: relative;}#sk-container-id-1 div.sk-text-repr-fallback {display: none;}</style><div id=\"sk-container-id-1\" class=\"sk-top-container\"><div class=\"sk-text-repr-fallback\"><pre>SVC(kernel=&#x27;linear&#x27;)</pre><b>In a Jupyter environment, please rerun this cell to show the HTML representation or trust the notebook. <br />On GitHub, the HTML representation is unable to render, please try loading this page with nbviewer.org.</b></div><div class=\"sk-container\" hidden><div class=\"sk-item\"><div class=\"sk-estimator sk-toggleable\"><input class=\"sk-toggleable__control sk-hidden--visually\" id=\"sk-estimator-id-1\" type=\"checkbox\" checked><label for=\"sk-estimator-id-1\" class=\"sk-toggleable__label sk-toggleable__label-arrow\">SVC</label><div class=\"sk-toggleable__content\"><pre>SVC(kernel=&#x27;linear&#x27;)</pre></div></div></div></div></div>"
      ],
      "text/plain": [
       "SVC(kernel='linear')"
      ]
     },
     "execution_count": 9,
     "metadata": {},
     "output_type": "execute_result"
    }
   ],
   "source": [
    "# Train SVM model\n",
    "svm_model = SVC(kernel='linear')\n",
    "svm_model.fit(X_train, y_train)"
   ]
  },
  {
   "cell_type": "code",
   "execution_count": 10,
   "metadata": {},
   "outputs": [],
   "source": [
    "\n",
    "# Predict on the test set\n",
    "y_pred = svm_model.predict(X_test)"
   ]
  },
  {
   "cell_type": "code",
   "execution_count": 11,
   "metadata": {},
   "outputs": [
    {
     "name": "stdout",
     "output_type": "stream",
     "text": [
      "Accuracy: 0.6675\n"
     ]
    }
   ],
   "source": [
    "# Calculate accuracy\n",
    "accuracy = accuracy_score(y_test, y_pred)\n",
    "print(\"Accuracy:\", accuracy)"
   ]
  },
  {
   "cell_type": "code",
   "execution_count": null,
   "metadata": {},
   "outputs": [
    {
     "data": {
      "text/plain": [
       "['svm_model_linear.pkl']"
      ]
     },
     "execution_count": 10,
     "metadata": {},
     "output_type": "execute_result"
    }
   ],
   "source": [
    "import joblib\n",
    "\n",
    "# Save the trained SVM model to a file\n",
    "joblib.dump(svm_model, 'svm_model_linear.pkl')\n",
    "\n",
    "\n",
    "#loaded_model = joblib.load('svm_model.pkl')"
   ]
  },
  {
   "cell_type": "code",
   "execution_count": null,
   "metadata": {},
   "outputs": [],
   "source": [
    "#rbf\n",
    "svm_model = SVC(kernel='rbf')\n",
    "svm_model.fit(X_train, y_train)"
   ]
  },
  {
   "cell_type": "code",
   "execution_count": null,
   "metadata": {},
   "outputs": [],
   "source": [
    "y_pred = svm_model.predict(X_test)"
   ]
  },
  {
   "cell_type": "code",
   "execution_count": null,
   "metadata": {},
   "outputs": [],
   "source": [
    "# Calculate accuracy\n",
    "accuracy = accuracy_score(y_test, y_pred)\n",
    "print(\"Accuracy:\", accuracy)"
   ]
  }
 ],
 "metadata": {
  "kernelspec": {
   "display_name": "base",
   "language": "python",
   "name": "python3"
  },
  "language_info": {
   "codemirror_mode": {
    "name": "ipython",
    "version": 3
   },
   "file_extension": ".py",
   "mimetype": "text/x-python",
   "name": "python",
   "nbconvert_exporter": "python",
   "pygments_lexer": "ipython3",
   "version": "3.11.0"
  }
 },
 "nbformat": 4,
 "nbformat_minor": 2
}
