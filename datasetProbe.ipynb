{
 "cells": [
  {
   "cell_type": "code",
   "execution_count": null,
   "metadata": {},
   "outputs": [],
   "source": [
    "#ensure all dataset has the same size \n",
    "\n",
    "import os\n",
    "import sys\n",
    "from commonfunctions import *\n",
    "import cv2\n",
    "import skimage.filters as filters\n",
    "import scipy.ndimage as nd\n",
    "import numpy as np\n",
    "\n",
    "currDir='Scheherazade New'\n",
    "alldir=os.path.join('fonts-dataset',currDir)\n",
    "for imgFile in os.listdir(alldir):\n",
    "    img = cv2.imread(os.path.join(alldir,imgFile),0)\n",
    "    print(img.shape)"
   ]
  },
  {
   "cell_type": "code",
   "execution_count": null,
   "metadata": {},
   "outputs": [],
   "source": [
    "# img = io.imread('fonts-dataset/Lemonada/4.jpeg')\n",
    "from preprocess import *\n",
    "\n",
    "import os\n",
    "from skimage import img_as_uint\n",
    "from tqdm import tqdm\n",
    "fontName='Lemonada'\n",
    "dir=os.path.join('fonts-dataset',fontName)\n",
    "outdir=os.path.join('out',fontName)\n",
    "images= os.listdir(dir)\n",
    "for imgname in tqdm(images):\n",
    "    print(f\"processing {imgname}\")\n",
    "    img = io.imread(os.path.join(dir,imgname))\n",
    "    img=preprocess(img)\n",
    "    rot=removeSkew(img)\n",
    "    rot= cropImage(rot)\n",
    "    imtosave=img_as_uint(rot)\n",
    "    imgname=imgname.replace('.jpeg','.png')\n",
    "    io.imsave(os.path.join(outdir,imgname),imtosave)"
   ]
  }
 ],
 "metadata": {
  "kernelspec": {
   "display_name": "Python 3",
   "language": "python",
   "name": "python3"
  },
  "language_info": {
   "codemirror_mode": {
    "name": "ipython",
    "version": 3
   },
   "file_extension": ".py",
   "mimetype": "text/x-python",
   "name": "python",
   "nbconvert_exporter": "python",
   "pygments_lexer": "ipython3",
   "version": "3.11.0"
  }
 },
 "nbformat": 4,
 "nbformat_minor": 2
}
