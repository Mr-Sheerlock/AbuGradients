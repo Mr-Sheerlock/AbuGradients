{
 "cells": [
  {
   "cell_type": "code",
   "execution_count": 1,
   "metadata": {},
   "outputs": [],
   "source": [
    "import os\n",
    "import cv2\n",
    "import numpy as np\n",
    "from skimage.feature import hog\n",
    "from sklearn.model_selection import train_test_split\n",
    "from sklearn.svm import SVC\n",
    "from sklearn.metrics import accuracy_score\n",
    "import torch\n",
    "import torch.nn as nn\n",
    "import torch.optim as optim\n",
    "from torch.utils.data import DataLoader, TensorDataset"
   ]
  },
  {
   "cell_type": "code",
   "execution_count": 2,
   "metadata": {},
   "outputs": [
    {
     "name": "stdout",
     "output_type": "stream",
     "text": [
      "device: cpu\n"
     ]
    }
   ],
   "source": [
    "device = torch.device('cuda' if torch.cuda.is_available() else 'cpu')\n",
    "print(\"device:\", device)\n",
    "def swish(x):\n",
    "    return x * torch.sigmoid(x)\n",
    "class FontClassifier(nn.Module):\n",
    "    def __init__(self, input_size, hidden_size1, hidden_size2, num_classes,dropout_prob=0.5):\n",
    "        super(FontClassifier, self).__init__()\n",
    "        self.fc1 = nn.Linear(input_size, hidden_size1)\n",
    "        self.relu1 = nn.ReLU()\n",
    "        self.fc2 = nn.Linear(hidden_size1, hidden_size2)\n",
    "        self.relu2 = nn.ReLU()\n",
    "        self.fc3 = nn.Linear(hidden_size2, num_classes)\n",
    "        self.dropout = nn.Dropout(p=dropout_prob)\n",
    "    \n",
    "    def forward(self, x):\n",
    "        out = self.fc1(x)\n",
    "        out = self.relu1(out)\n",
    "        out = self.fc2(out)\n",
    "        out = self.relu2(out)\n",
    "        out = self.fc3(out)\n",
    "        return out"
   ]
  },
  {
   "cell_type": "code",
   "execution_count": 19,
   "metadata": {},
   "outputs": [],
   "source": [
    "import pickle\n",
    "# loaded_features1 = pickle.load(open('hog_features_resize500_LoG_pca99.pkl', 'rb'))\n",
    "# loaded_features1 = pickle.load(open('HoG_features_resize500_LoG_16x8_pca99.pkl', 'rb'))\n",
    "loaded_features1 = pickle.load(open('..\\hog_features_resize500_pca99_8x16cell_2blocks.pkl', 'rb'))\n",
    "#normalize\n",
    "loaded_features1 = (loaded_features1 - np.mean(loaded_features1, axis=0)) / np.std(loaded_features1, axis=0)\n",
    "loaded_features = pickle.load(open('..\\glc_features_resize500_LoG.pkl', 'rb'))\n",
    "loaded_features=np.concatenate((loaded_features1,loaded_features),axis=1)\n",
    "# loaded_features=pickle.load(open('LBP_features_resize500_LoG_16x8_pca99.pkl', 'rb'))\n",
    "loaded_labels = pickle.load(open('..\\labels500_pca95.pkl', 'rb'))"
   ]
  },
  {
   "cell_type": "code",
   "execution_count": 26,
   "metadata": {},
   "outputs": [
    {
     "name": "stdout",
     "output_type": "stream",
     "text": [
      "(4000,)\n",
      "(4000,)\n"
     ]
    }
   ],
   "source": [
    "import numpy as np\n",
    "# Convert the lists to NumPy arrays\n",
    "y = np.array(loaded_labels)\n",
    "y.shape\n",
    "labels = np.array(loaded_labels)\n",
    "print(labels.shape)\n",
    "# labels = labels[1::2]\n",
    "print(labels.shape)"
   ]
  },
  {
   "cell_type": "code",
   "execution_count": 27,
   "metadata": {},
   "outputs": [],
   "source": [
    "# X_train, X_test, y_train, y_test = train_test_split(loaded_features, loaded_labels, test_size=0.2, random_state=42)\n",
    "X_train=loaded_features\n",
    "y_train=labels\n",
    "X_train = np.array(X_train)\n",
    "y_train = np.array(y_train)\n",
    "# X_test = np.array(X_test)\n",
    "# y_test = np.array(y_test)"
   ]
  },
  {
   "cell_type": "code",
   "execution_count": 29,
   "metadata": {},
   "outputs": [],
   "source": [
    "from sklearn.preprocessing import LabelEncoder\n",
    "\n",
    "# Convert string labels to numeric labels using LabelEncoder\n",
    "label_encoder = LabelEncoder()\n",
    "y_train = label_encoder.fit_transform(y_train)\n",
    "# y_test = label_encoder.transform(y_test)"
   ]
  },
  {
   "cell_type": "code",
   "execution_count": 30,
   "metadata": {},
   "outputs": [],
   "source": [
    "X_train = torch.from_numpy(X_train).float().to(device)\n",
    "y_train = torch.from_numpy(y_train).long().to(device)\n",
    "# X_test = torch.from_numpy(X_test).float().to(device)\n",
    "# y_test = torch.from_numpy(y_test).long().to(device)"
   ]
  },
  {
   "cell_type": "code",
   "execution_count": 31,
   "metadata": {},
   "outputs": [
    {
     "data": {
      "text/plain": [
       "(torch.Size([4000, 2979]), torch.Size([4000]))"
      ]
     },
     "execution_count": 31,
     "metadata": {},
     "output_type": "execute_result"
    }
   ],
   "source": [
    "X_train.shape, y_train.shape"
   ]
  },
  {
   "cell_type": "code",
   "execution_count": 32,
   "metadata": {},
   "outputs": [],
   "source": [
    "\n",
    "\n",
    "# Define hyperparameters\n",
    "input_size = X_train.shape[1]  # Size of input (number of HOG features)\n",
    "hidden_size1 = 512  # Number of neurons in the first hidden layer\n",
    "hidden_size2 = 256   # Number of neurons in the second hidden layer\n",
    "num_classes = len(np.unique(y_train))  # Number of classes\n",
    "\n",
    "# Create the neural network\n",
    "model = FontClassifier(input_size, hidden_size1, hidden_size2, num_classes).to(device)\n",
    "\n",
    "# Define loss function and optimizer\n",
    "criterion = nn.CrossEntropyLoss()\n",
    "optimizer = optim.Adam(model.parameters(), lr=0.00001)\n",
    "\n",
    "# Define data loaders\n",
    "train_dataset = TensorDataset(X_train, y_train)\n",
    "train_loader = DataLoader(train_dataset, batch_size=64, shuffle=True)\n"
   ]
  },
  {
   "cell_type": "code",
   "execution_count": 33,
   "metadata": {},
   "outputs": [
    {
     "name": "stdout",
     "output_type": "stream",
     "text": [
      "Epoch [1/100], Loss: 1.3933\n",
      "Epoch [2/100], Loss: 1.2870\n",
      "Epoch [3/100], Loss: 1.0239\n",
      "Epoch [4/100], Loss: 1.0058\n",
      "Epoch [5/100], Loss: 0.9357\n",
      "Epoch [6/100], Loss: 0.9660\n",
      "Epoch [7/100], Loss: 0.7580\n",
      "Epoch [8/100], Loss: 0.7431\n",
      "Epoch [9/100], Loss: 0.7710\n",
      "Epoch [10/100], Loss: 0.7120\n",
      "Epoch [11/100], Loss: 0.7062\n",
      "Epoch [12/100], Loss: 0.5602\n",
      "Epoch [13/100], Loss: 0.7329\n",
      "Epoch [14/100], Loss: 0.6532\n",
      "Epoch [15/100], Loss: 0.8144\n",
      "Epoch [16/100], Loss: 0.6686\n",
      "Epoch [17/100], Loss: 0.5220\n",
      "Epoch [18/100], Loss: 0.4813\n",
      "Epoch [19/100], Loss: 0.5291\n",
      "Epoch [20/100], Loss: 0.4018\n",
      "Epoch [21/100], Loss: 0.5020\n",
      "Epoch [22/100], Loss: 0.6695\n",
      "Epoch [23/100], Loss: 0.5388\n",
      "Epoch [24/100], Loss: 0.4852\n",
      "Epoch [25/100], Loss: 0.5706\n",
      "Epoch [26/100], Loss: 0.6745\n",
      "Epoch [27/100], Loss: 0.4862\n",
      "Epoch [28/100], Loss: 0.6683\n",
      "Epoch [29/100], Loss: 0.4186\n",
      "Epoch [30/100], Loss: 0.4038\n",
      "Epoch [31/100], Loss: 0.3147\n",
      "Epoch [32/100], Loss: 0.3763\n",
      "Epoch [33/100], Loss: 0.4924\n",
      "Epoch [34/100], Loss: 0.4230\n",
      "Epoch [35/100], Loss: 0.4513\n",
      "Epoch [36/100], Loss: 0.2990\n",
      "Epoch [37/100], Loss: 0.3857\n",
      "Epoch [38/100], Loss: 0.3810\n",
      "Epoch [39/100], Loss: 0.3285\n",
      "Epoch [40/100], Loss: 0.2917\n",
      "Epoch [41/100], Loss: 0.3887\n",
      "Epoch [42/100], Loss: 0.3189\n",
      "Epoch [43/100], Loss: 0.3311\n",
      "Epoch [44/100], Loss: 0.1792\n",
      "Epoch [45/100], Loss: 0.4742\n",
      "Epoch [46/100], Loss: 0.3399\n",
      "Epoch [47/100], Loss: 0.2335\n",
      "Epoch [48/100], Loss: 0.3552\n",
      "Epoch [49/100], Loss: 0.2410\n",
      "Epoch [50/100], Loss: 0.3411\n",
      "Epoch [51/100], Loss: 0.1311\n",
      "Epoch [52/100], Loss: 0.3774\n",
      "Epoch [53/100], Loss: 0.2719\n",
      "Epoch [54/100], Loss: 0.1661\n",
      "Epoch [55/100], Loss: 0.2573\n",
      "Epoch [56/100], Loss: 0.1600\n",
      "Epoch [57/100], Loss: 0.2612\n",
      "Epoch [58/100], Loss: 0.2101\n",
      "Epoch [59/100], Loss: 0.1994\n",
      "Epoch [60/100], Loss: 0.2234\n",
      "Epoch [61/100], Loss: 0.2265\n",
      "Epoch [62/100], Loss: 0.1994\n",
      "Epoch [63/100], Loss: 0.2092\n",
      "Epoch [64/100], Loss: 0.2620\n",
      "Epoch [65/100], Loss: 0.1825\n",
      "Epoch [66/100], Loss: 0.1426\n",
      "Epoch [67/100], Loss: 0.2629\n",
      "Epoch [68/100], Loss: 0.2092\n",
      "Epoch [69/100], Loss: 0.1061\n",
      "Epoch [70/100], Loss: 0.2363\n",
      "Epoch [71/100], Loss: 0.2044\n",
      "Epoch [72/100], Loss: 0.1796\n",
      "Epoch [73/100], Loss: 0.1847\n",
      "Epoch [74/100], Loss: 0.1464\n",
      "Epoch [75/100], Loss: 0.1170\n",
      "Epoch [76/100], Loss: 0.0792\n",
      "Epoch [77/100], Loss: 0.1770\n",
      "Epoch [78/100], Loss: 0.1273\n",
      "Epoch [79/100], Loss: 0.1494\n",
      "Epoch [80/100], Loss: 0.1806\n",
      "Epoch [81/100], Loss: 0.0687\n",
      "Epoch [82/100], Loss: 0.1341\n",
      "Epoch [83/100], Loss: 0.1561\n",
      "Epoch [84/100], Loss: 0.1557\n",
      "Epoch [85/100], Loss: 0.1170\n",
      "Epoch [86/100], Loss: 0.0693\n",
      "Epoch [87/100], Loss: 0.0850\n",
      "Epoch [88/100], Loss: 0.0531\n",
      "Epoch [89/100], Loss: 0.0955\n",
      "Epoch [90/100], Loss: 0.0781\n",
      "Epoch [91/100], Loss: 0.0734\n",
      "Epoch [92/100], Loss: 0.1085\n",
      "Epoch [93/100], Loss: 0.1279\n",
      "Epoch [94/100], Loss: 0.1217\n",
      "Epoch [95/100], Loss: 0.1077\n",
      "Epoch [96/100], Loss: 0.1319\n",
      "Epoch [97/100], Loss: 0.1024\n",
      "Epoch [98/100], Loss: 0.1114\n",
      "Epoch [99/100], Loss: 0.1153\n",
      "Epoch [100/100], Loss: 0.0596\n"
     ]
    }
   ],
   "source": [
    "num_epochs = 100\n",
    "for epoch in range(num_epochs):\n",
    "    for images, labels in train_loader:\n",
    "        # Forward pass\n",
    "        outputs = model(images)\n",
    "        loss = criterion(outputs, labels)\n",
    "        \n",
    "        # Backward pass and optimization\n",
    "        optimizer.zero_grad()\n",
    "        loss.backward()\n",
    "        optimizer.step()\n",
    "        \n",
    "    print(f'Epoch [{epoch+1}/{num_epochs}], Loss: {loss.item():.4f}')"
   ]
  },
  {
   "cell_type": "code",
   "execution_count": 30,
   "metadata": {},
   "outputs": [],
   "source": [
    "test_dataset = TensorDataset(X_test, y_test)\n",
    "\n",
    "test_loader = DataLoader(test_dataset, batch_size=64, shuffle=True)"
   ]
  },
  {
   "cell_type": "code",
   "execution_count": null,
   "metadata": {},
   "outputs": [],
   "source": [
    "with torch.no_grad():\n",
    "    correct = 0\n",
    "    total = 0\n",
    "    for images, labels in test_loader:\n",
    "        outputs = model(images)\n",
    "        _, predicted = torch.max(outputs.data, 1)\n",
    "        total += labels.size(0)\n",
    "        correct += (predicted == labels).sum().item()\n",
    "\n",
    "    print(f'Accuracy: {100 * correct / total}%')"
   ]
  },
  {
   "cell_type": "code",
   "execution_count": 34,
   "metadata": {},
   "outputs": [],
   "source": [
    "torch.save(model.state_dict(), 'font_classifier_model_pytorch_HoGLCM88_Deploy.pth')"
   ]
  }
 ],
 "metadata": {
  "kernelspec": {
   "display_name": "myenv",
   "language": "python",
   "name": "python3"
  },
  "language_info": {
   "codemirror_mode": {
    "name": "ipython",
    "version": 3
   },
   "file_extension": ".py",
   "mimetype": "text/x-python",
   "name": "python",
   "nbconvert_exporter": "python",
   "pygments_lexer": "ipython3",
   "version": "3.11.0"
  }
 },
 "nbformat": 4,
 "nbformat_minor": 2
}
